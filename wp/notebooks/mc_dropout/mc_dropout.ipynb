{
 "cells": [
  {
   "cell_type": "markdown",
   "id": "f6714984",
   "metadata": {},
   "source": [
    "## General functionality of MC Dropout"
   ]
  },
  {
   "cell_type": "code",
   "execution_count": 1,
   "id": "542206eb",
   "metadata": {},
   "outputs": [],
   "source": [
    "%load_ext autoreload"
   ]
  },
  {
   "cell_type": "code",
   "execution_count": 2,
   "id": "f6c5f8b8",
   "metadata": {},
   "outputs": [],
   "source": [
    "import os, sys, importlib\n",
    "import pandas as pd\n",
    "import numpy as np\n",
    "import matplotlib.pyplot as plt\n",
    "import seaborn as sns\n",
    "\n",
    "from sklearn.model_selection import train_test_split\n",
    "\n",
    "import tensorflow as tf\n",
    "\n",
    "BASE_PATH = os.path.join(os.getcwd(), \"..\", \"..\")\n",
    "MODULE_PATH = os.path.join(BASE_PATH, \"modules\")\n",
    "DATASET_PATH = os.path.join(BASE_PATH, \"datasets\")\n",
    "\n",
    "sys.path.append(MODULE_PATH)\n",
    "\n",
    "from bayesian import McDropout\n",
    "from data import BenchmarkData, DataSetType\n",
    "from models import setup_growth, FcholletCNN"
   ]
  },
  {
   "cell_type": "code",
   "execution_count": 3,
   "id": "bab8da2c",
   "metadata": {},
   "outputs": [
    {
     "name": "stdout",
     "output_type": "stream",
     "text": [
      "1 Physical GPU's,  1 Logical GPU's\n"
     ]
    }
   ],
   "source": [
    "setup_growth()"
   ]
  },
  {
   "cell_type": "code",
   "execution_count": 4,
   "id": "8d38bd72",
   "metadata": {},
   "outputs": [],
   "source": [
    "benchmark_data = BenchmarkData(DataSetType.MNIST, os.path.join(DATASET_PATH, \"mnist\"), classes=4, dtype=np.float32)"
   ]
  },
  {
   "cell_type": "code",
   "execution_count": 5,
   "id": "5d788555",
   "metadata": {},
   "outputs": [
    {
     "data": {
      "text/plain": [
       "(28911, 28, 28, 1)"
      ]
     },
     "execution_count": 5,
     "metadata": {},
     "output_type": "execute_result"
    }
   ],
   "source": [
    "benchmark_data.inputs.shape"
   ]
  },
  {
   "cell_type": "code",
   "execution_count": 6,
   "id": "5cf0a375",
   "metadata": {},
   "outputs": [],
   "source": [
    "inputs = benchmark_data.inputs\n",
    "targets = benchmark_data.targets\n",
    "\n",
    "selector = np.isin(targets, np.unique(targets)[:-1])\n",
    "new_targets = targets[selector]\n",
    "new_inputs = inputs[selector]\n",
    "\n",
    "ood_selector = np.logical_not(selector)\n",
    "ood_targets = targets[ood_selector]\n",
    "ood_inputs = inputs[ood_selector]"
   ]
  },
  {
   "cell_type": "code",
   "execution_count": 7,
   "id": "712f9a82",
   "metadata": {},
   "outputs": [],
   "source": [
    "x_train, x_test, y_train, y_test = train_test_split(new_inputs, new_targets)"
   ]
  },
  {
   "cell_type": "code",
   "execution_count": 8,
   "id": "77674890",
   "metadata": {},
   "outputs": [
    {
     "name": "stdout",
     "output_type": "stream",
     "text": [
      "Model: \"Fchollet-CNN\"\n",
      "_________________________________________________________________\n",
      "Layer (type)                 Output Shape              Param #   \n",
      "=================================================================\n",
      "Convolutions (Sequential)    multiple                  18816     \n",
      "_________________________________________________________________\n",
      "flatten (Flatten)            multiple                  0         \n",
      "_________________________________________________________________\n",
      "Linear (Sequential)          multiple                  1606147   \n",
      "=================================================================\n",
      "Total params: 1,624,963\n",
      "Trainable params: 1,624,963\n",
      "Non-trainable params: 0\n",
      "_________________________________________________________________\n"
     ]
    }
   ],
   "source": [
    "%autoreload 2\n",
    "model = FcholletCNN(output=3)\n",
    "model.build(input_shape=inputs.shape)\n",
    "model.summary()"
   ]
  },
  {
   "cell_type": "code",
   "execution_count": 9,
   "id": "2a9a549f",
   "metadata": {},
   "outputs": [],
   "source": [
    "mc_dropout = McDropout(model)\n",
    "mc_dropout.compile(optimizer=\"adam\", loss=tf.keras.losses.SparseCategoricalCrossentropy(from_logits=True), metrics=[\"accuracy\"])"
   ]
  },
  {
   "cell_type": "code",
   "execution_count": 11,
   "id": "f429b0be",
   "metadata": {},
   "outputs": [
    {
     "name": "stdout",
     "output_type": "stream",
     "text": [
      "Epoch 1/10\n",
      "273/273 [==============================] - 1s 5ms/step - loss: 0.6550 - accuracy: 0.8964\n",
      "Epoch 2/10\n",
      "273/273 [==============================] - 1s 5ms/step - loss: 0.6042 - accuracy: 0.9473\n",
      "Epoch 3/10\n",
      "273/273 [==============================] - 1s 4ms/step - loss: 0.5898 - accuracy: 0.9616\n",
      "Epoch 4/10\n",
      "273/273 [==============================] - 1s 4ms/step - loss: 0.6162 - accuracy: 0.9351\n",
      "Epoch 5/10\n",
      "273/273 [==============================] - 1s 4ms/step - loss: 0.6111 - accuracy: 0.9403\n",
      "Epoch 6/10\n",
      "273/273 [==============================] - 1s 4ms/step - loss: 0.6006 - accuracy: 0.9509\n",
      "Epoch 7/10\n",
      "273/273 [==============================] - 1s 4ms/step - loss: 0.5965 - accuracy: 0.9550\n",
      "Epoch 8/10\n",
      "273/273 [==============================] - 1s 4ms/step - loss: 0.5901 - accuracy: 0.9614\n",
      "Epoch 9/10\n",
      "273/273 [==============================] - 1s 5ms/step - loss: 0.6059 - accuracy: 0.9456\n",
      "Epoch 10/10\n",
      "273/273 [==============================] - 1s 4ms/step - loss: 0.6008 - accuracy: 0.9506\n"
     ]
    },
    {
     "data": {
      "text/plain": [
       "<tensorflow.python.keras.callbacks.History at 0x7f9e6cd55d90>"
      ]
     },
     "execution_count": 11,
     "metadata": {},
     "output_type": "execute_result"
    }
   ],
   "source": [
    "mc_dropout.fit(x_train, y_train, epochs=10, batch_size=60)"
   ]
  },
  {
   "cell_type": "code",
   "execution_count": 19,
   "id": "565c9d37",
   "metadata": {},
   "outputs": [
    {
     "name": "stdout",
     "output_type": "stream",
     "text": [
      "171/171 [==============================] - 4s 21ms/step - loss: 0.5700 - accuracy: 0.9814\n"
     ]
    },
    {
     "data": {
      "text/plain": [
       "[0.5700008869171143, 0.9814440608024597]"
      ]
     },
     "execution_count": 19,
     "metadata": {},
     "output_type": "execute_result"
    }
   ],
   "source": [
    "mc_dropout._model.evaluate(x_test, y_test)"
   ]
  },
  {
   "cell_type": "code",
   "execution_count": 27,
   "id": "fb114eca",
   "metadata": {},
   "outputs": [
    {
     "name": "stdout",
     "output_type": "stream",
     "text": [
      "(5443, 3)\n",
      "(5443, 3, 2)\n",
      "[[0 1]\n",
      " [0 1]\n",
      " [0 1]\n",
      " ...\n",
      " [0 1]\n",
      " [0 1]\n",
      " [0 1]]\n",
      "[0 0 0 ... 0 0 0]\n",
      "False\n"
     ]
    },
    {
     "data": {
      "text/plain": [
       "[0.5907753109931946, 0.0]"
      ]
     },
     "execution_count": 27,
     "metadata": {},
     "output_type": "execute_result"
    }
   ],
   "source": [
    "%autoreload 2\n",
    "mc_dropout.evaluate(x_test, y_test, batch_size=60, runs=1)"
   ]
  },
  {
   "cell_type": "code",
   "execution_count": 26,
   "id": "e27066fb",
   "metadata": {},
   "outputs": [
    {
     "data": {
      "text/plain": [
       "(20, 1000, 3)"
      ]
     },
     "execution_count": 26,
     "metadata": {},
     "output_type": "execute_result"
    }
   ],
   "source": [
    "%autoreload 2\n",
    "NUM_DATAPOINTS = 20\n",
    "\n",
    "result = mc_dropout.predict(x_test[:NUM_DATAPOINTS].astype(np.float32), runs=1000)\n",
    "result.shape"
   ]
  },
  {
   "cell_type": "code",
   "execution_count": 13,
   "id": "c167362d",
   "metadata": {},
   "outputs": [
    {
     "data": {
      "text/plain": [
       "array([[0.251     , 0.37      , 0.379     ],\n",
       "       [0.25      , 0.36000278, 0.38999722],\n",
       "       [0.252     , 0.365     , 0.383     ],\n",
       "       [0.252     , 0.363     , 0.385     ],\n",
       "       [0.252     , 0.369     , 0.379     ],\n",
       "       [0.251     , 0.36399957, 0.38500043],\n",
       "       [0.25      , 0.37      , 0.38      ],\n",
       "       [0.25      , 0.369     , 0.381     ],\n",
       "       [0.25      , 0.36500003, 0.38499997],\n",
       "       [0.253     , 0.359     , 0.388     ],\n",
       "       [0.251     , 0.35599983, 0.39300017],\n",
       "       [0.251     , 0.372     , 0.377     ],\n",
       "       [0.25      , 0.36199998, 0.38800002],\n",
       "       [0.251     , 0.365     , 0.384     ],\n",
       "       [0.251     , 0.36758771, 0.38141229],\n",
       "       [0.251     , 0.365     , 0.384     ],\n",
       "       [0.252     , 0.362     , 0.38600001],\n",
       "       [0.25      , 0.35995125, 0.39004875],\n",
       "       [0.25197614, 0.363     , 0.38502386],\n",
       "       [0.249     , 0.371     , 0.38      ]])"
      ]
     },
     "execution_count": 13,
     "metadata": {},
     "output_type": "execute_result"
    }
   ],
   "source": [
    "class_probs = np.mean(result, axis=1)\n",
    "class_probs"
   ]
  },
  {
   "cell_type": "code",
   "execution_count": 14,
   "id": "41d9d7a2",
   "metadata": {},
   "outputs": [
    {
     "data": {
      "text/plain": [
       "array([2, 2, 2, 2, 2, 2, 2, 2, 2, 2, 2, 2, 2, 2, 2, 2, 2, 2, 2, 2])"
      ]
     },
     "execution_count": 14,
     "metadata": {},
     "output_type": "execute_result"
    }
   ],
   "source": [
    "label_prediction = np.argmax(class_probs, axis=1)\n",
    "label_prediction"
   ]
  },
  {
   "cell_type": "code",
   "execution_count": 15,
   "id": "9b167760",
   "metadata": {},
   "outputs": [
    {
     "data": {
      "text/plain": [
       "0.35"
      ]
     },
     "execution_count": 15,
     "metadata": {},
     "output_type": "execute_result"
    }
   ],
   "source": [
    "acc = np.mean(label_prediction == y_test[:NUM_DATAPOINTS])\n",
    "acc"
   ]
  },
  {
   "cell_type": "code",
   "execution_count": null,
   "id": "e24a2739",
   "metadata": {},
   "outputs": [],
   "source": []
  }
 ],
 "metadata": {
  "kernelspec": {
   "display_name": "Python 3",
   "language": "python",
   "name": "python3"
  },
  "language_info": {
   "codemirror_mode": {
    "name": "ipython",
    "version": 3
   },
   "file_extension": ".py",
   "mimetype": "text/x-python",
   "name": "python",
   "nbconvert_exporter": "python",
   "pygments_lexer": "ipython3",
   "version": "3.8.8"
  }
 },
 "nbformat": 4,
 "nbformat_minor": 5
}
