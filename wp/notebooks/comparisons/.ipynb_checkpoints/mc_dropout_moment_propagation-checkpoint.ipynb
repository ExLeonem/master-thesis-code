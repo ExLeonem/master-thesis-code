{
 "cells": [
  {
   "cell_type": "markdown",
   "id": "5f35b796",
   "metadata": {},
   "source": [
    "# Comparing MC-Dropout and Moment Propagation"
   ]
  },
  {
   "cell_type": "code",
   "execution_count": 1,
   "id": "54a155d6",
   "metadata": {},
   "outputs": [],
   "source": [
    "%load_ext autoreload"
   ]
  },
  {
   "cell_type": "code",
   "execution_count": 2,
   "id": "fbf5d20b",
   "metadata": {},
   "outputs": [],
   "source": [
    "import os, sys\n",
    "import numpy as np\n",
    "import pandas as pd\n",
    "import matplotlib.pyplot as plt\n",
    "import seaborn as sns\n",
    "from sklearn.model_selection import train_test_split"
   ]
  },
  {
   "cell_type": "code",
   "execution_count": 3,
   "id": "50bb548c",
   "metadata": {},
   "outputs": [],
   "source": [
    "BASE_PATH = os.path.join(os.getcwd(), \"..\", \"..\")\n",
    "MODULES_PATH = os.path.join(BASE_PATH, \"modules\")\n",
    "DATASET_PATH = os.path.join(BASE_PATH, \"datasets\")"
   ]
  },
  {
   "cell_type": "code",
   "execution_count": 4,
   "id": "27564590",
   "metadata": {},
   "outputs": [],
   "source": [
    "sys.path.append(MODULES_PATH)"
   ]
  },
  {
   "cell_type": "code",
   "execution_count": 5,
   "id": "e9a4133d",
   "metadata": {},
   "outputs": [],
   "source": [
    "from bayesian import McDropout, MomentPropagation\n",
    "from models import fchollet_cnn, setup_growth\n",
    "from data import BenchmarkData, DataSetType"
   ]
  },
  {
   "cell_type": "code",
   "execution_count": 6,
   "id": "5e4cf9eb",
   "metadata": {},
   "outputs": [],
   "source": [
    "mnist = BenchmarkData(DataSetType.MNIST, os.path.join(DATASET_PATH, \"mnist\"), dtype=np.float32)"
   ]
  },
  {
   "cell_type": "code",
   "execution_count": 7,
   "id": "9e7b6f16",
   "metadata": {},
   "outputs": [],
   "source": [
    "x_train, x_test, y_train, y_test = train_test_split(mnist.inputs, mnist.targets)"
   ]
  },
  {
   "cell_type": "code",
   "execution_count": 8,
   "id": "702f9cac",
   "metadata": {},
   "outputs": [
    {
     "name": "stdout",
     "output_type": "stream",
     "text": [
      "1 Physical GPU's,  1 Logical GPU's\n",
      "Epoch 1/120\n",
      "657/657 [==============================] - 11s 17ms/step - loss: 18.0095 - accuracy: 0.1440\n",
      "Epoch 2/120\n",
      "657/657 [==============================] - 4s 5ms/step - loss: 6.1705 - accuracy: 0.2475\n",
      "Epoch 3/120\n",
      "657/657 [==============================] - 4s 6ms/step - loss: 3.2285 - accuracy: 0.2865\n",
      "Epoch 4/120\n",
      "657/657 [==============================] - 4s 6ms/step - loss: 2.4125 - accuracy: 0.3085\n",
      "Epoch 5/120\n",
      "657/657 [==============================] - 4s 6ms/step - loss: 2.1320 - accuracy: 0.3296\n",
      "Epoch 6/120\n",
      "657/657 [==============================] - 4s 6ms/step - loss: 1.9704 - accuracy: 0.3579\n",
      "Epoch 7/120\n",
      "657/657 [==============================] - 4s 5ms/step - loss: 1.8615 - accuracy: 0.3879\n",
      "Epoch 8/120\n",
      "657/657 [==============================] - 4s 6ms/step - loss: 1.7750 - accuracy: 0.4132\n",
      "Epoch 9/120\n",
      "657/657 [==============================] - 4s 6ms/step - loss: 1.7047 - accuracy: 0.4364\n",
      "Epoch 10/120\n",
      "657/657 [==============================] - 4s 6ms/step - loss: 1.6365 - accuracy: 0.4597\n",
      "Epoch 11/120\n",
      "657/657 [==============================] - 4s 6ms/step - loss: 1.5797 - accuracy: 0.4760\n",
      "Epoch 12/120\n",
      "657/657 [==============================] - 4s 6ms/step - loss: 1.5312 - accuracy: 0.4938\n",
      "Epoch 13/120\n",
      "657/657 [==============================] - 4s 6ms/step - loss: 1.4748 - accuracy: 0.5112\n",
      "Epoch 14/120\n",
      "657/657 [==============================] - 4s 6ms/step - loss: 1.4378 - accuracy: 0.5251\n",
      "Epoch 15/120\n",
      "657/657 [==============================] - 4s 6ms/step - loss: 1.3917 - accuracy: 0.5420\n",
      "Epoch 16/120\n",
      "657/657 [==============================] - 4s 6ms/step - loss: 1.3539 - accuracy: 0.5530\n",
      "Epoch 17/120\n",
      "657/657 [==============================] - 4s 6ms/step - loss: 1.3241 - accuracy: 0.5659\n",
      "Epoch 18/120\n",
      "657/657 [==============================] - 4s 6ms/step - loss: 1.2912 - accuracy: 0.5809\n",
      "Epoch 19/120\n",
      "657/657 [==============================] - 4s 6ms/step - loss: 1.2405 - accuracy: 0.5945\n",
      "Epoch 20/120\n",
      "657/657 [==============================] - 4s 6ms/step - loss: 1.2160 - accuracy: 0.6054\n",
      "Epoch 21/120\n",
      "657/657 [==============================] - 4s 6ms/step - loss: 1.1986 - accuracy: 0.6100\n",
      "Epoch 22/120\n",
      "657/657 [==============================] - 4s 6ms/step - loss: 1.1648 - accuracy: 0.6223\n",
      "Epoch 23/120\n",
      "657/657 [==============================] - 4s 6ms/step - loss: 1.1383 - accuracy: 0.6305\n",
      "Epoch 24/120\n",
      "657/657 [==============================] - 4s 6ms/step - loss: 1.1165 - accuracy: 0.6420\n",
      "Epoch 25/120\n",
      "657/657 [==============================] - 4s 6ms/step - loss: 1.0896 - accuracy: 0.6513\n",
      "Epoch 26/120\n",
      "657/657 [==============================] - 4s 6ms/step - loss: 1.0574 - accuracy: 0.6638\n",
      "Epoch 27/120\n",
      "657/657 [==============================] - 4s 6ms/step - loss: 1.0373 - accuracy: 0.6706\n",
      "Epoch 28/120\n",
      "657/657 [==============================] - 4s 5ms/step - loss: 1.0179 - accuracy: 0.6777\n",
      "Epoch 29/120\n",
      "657/657 [==============================] - 4s 6ms/step - loss: 1.0035 - accuracy: 0.6855\n",
      "Epoch 30/120\n",
      "657/657 [==============================] - 4s 6ms/step - loss: 0.9813 - accuracy: 0.6906\n",
      "Epoch 31/120\n",
      "657/657 [==============================] - 4s 6ms/step - loss: 0.9560 - accuracy: 0.7018\n",
      "Epoch 32/120\n",
      "657/657 [==============================] - 4s 6ms/step - loss: 0.9366 - accuracy: 0.7103\n",
      "Epoch 33/120\n",
      "657/657 [==============================] - 4s 6ms/step - loss: 0.9156 - accuracy: 0.7143\n",
      "Epoch 34/120\n",
      "657/657 [==============================] - 4s 6ms/step - loss: 0.8987 - accuracy: 0.7221\n",
      "Epoch 35/120\n",
      "657/657 [==============================] - 4s 6ms/step - loss: 0.8960 - accuracy: 0.7262\n",
      "Epoch 36/120\n",
      "657/657 [==============================] - 4s 6ms/step - loss: 0.8728 - accuracy: 0.7303\n",
      "Epoch 37/120\n",
      "657/657 [==============================] - 4s 6ms/step - loss: 0.8506 - accuracy: 0.7365\n",
      "Epoch 38/120\n",
      "657/657 [==============================] - 4s 6ms/step - loss: 0.8427 - accuracy: 0.7438\n",
      "Epoch 39/120\n",
      "657/657 [==============================] - 4s 6ms/step - loss: 0.8148 - accuracy: 0.7516\n",
      "Epoch 40/120\n",
      "657/657 [==============================] - 4s 5ms/step - loss: 0.8013 - accuracy: 0.7550\n",
      "Epoch 41/120\n",
      "657/657 [==============================] - 4s 6ms/step - loss: 0.7989 - accuracy: 0.7570\n",
      "Epoch 42/120\n",
      "657/657 [==============================] - 4s 6ms/step - loss: 0.7749 - accuracy: 0.7630\n",
      "Epoch 43/120\n",
      "657/657 [==============================] - 4s 6ms/step - loss: 0.7661 - accuracy: 0.7665\n",
      "Epoch 44/120\n",
      "657/657 [==============================] - 4s 6ms/step - loss: 0.7532 - accuracy: 0.7726\n",
      "Epoch 45/120\n",
      "657/657 [==============================] - 4s 6ms/step - loss: 0.7407 - accuracy: 0.7743\n",
      "Epoch 46/120\n",
      "657/657 [==============================] - 4s 5ms/step - loss: 0.7185 - accuracy: 0.7830\n",
      "Epoch 47/120\n",
      "657/657 [==============================] - 4s 5ms/step - loss: 0.7040 - accuracy: 0.7878\n",
      "Epoch 48/120\n",
      "657/657 [==============================] - 4s 6ms/step - loss: 0.7137 - accuracy: 0.7860\n",
      "Epoch 49/120\n",
      "657/657 [==============================] - 3s 5ms/step - loss: 0.6960 - accuracy: 0.7898\n",
      "Epoch 50/120\n",
      "657/657 [==============================] - 4s 6ms/step - loss: 0.6751 - accuracy: 0.7945\n",
      "Epoch 51/120\n",
      "657/657 [==============================] - 4s 6ms/step - loss: 0.6810 - accuracy: 0.7947\n",
      "Epoch 52/120\n",
      "657/657 [==============================] - 4s 6ms/step - loss: 0.6668 - accuracy: 0.7995\n",
      "Epoch 53/120\n",
      "657/657 [==============================] - 3s 5ms/step - loss: 0.6617 - accuracy: 0.8035\n",
      "Epoch 54/120\n",
      "657/657 [==============================] - 4s 5ms/step - loss: 0.6465 - accuracy: 0.8057\n",
      "Epoch 55/120\n",
      "657/657 [==============================] - 4s 6ms/step - loss: 0.6406 - accuracy: 0.8081\n",
      "Epoch 56/120\n",
      "657/657 [==============================] - 4s 5ms/step - loss: 0.6223 - accuracy: 0.8125\n",
      "Epoch 57/120\n",
      "657/657 [==============================] - 4s 5ms/step - loss: 0.6049 - accuracy: 0.8160\n",
      "Epoch 58/120\n",
      "657/657 [==============================] - 4s 5ms/step - loss: 0.6120 - accuracy: 0.8171\n",
      "Epoch 59/120\n",
      "657/657 [==============================] - 4s 5ms/step - loss: 0.6022 - accuracy: 0.8188\n",
      "Epoch 60/120\n",
      "657/657 [==============================] - 3s 5ms/step - loss: 0.6075 - accuracy: 0.8174\n",
      "Epoch 61/120\n",
      "657/657 [==============================] - 4s 6ms/step - loss: 0.5778 - accuracy: 0.8252\n",
      "Epoch 62/120\n",
      "657/657 [==============================] - 4s 5ms/step - loss: 0.5826 - accuracy: 0.8270\n",
      "Epoch 63/120\n",
      "657/657 [==============================] - 4s 5ms/step - loss: 0.5668 - accuracy: 0.8302\n",
      "Epoch 64/120\n",
      "657/657 [==============================] - 3s 5ms/step - loss: 0.5682 - accuracy: 0.8298\n",
      "Epoch 65/120\n",
      "657/657 [==============================] - 4s 5ms/step - loss: 0.5601 - accuracy: 0.8326\n",
      "Epoch 66/120\n",
      "657/657 [==============================] - 4s 6ms/step - loss: 0.5506 - accuracy: 0.8370\n",
      "Epoch 67/120\n",
      "657/657 [==============================] - 3s 5ms/step - loss: 0.5414 - accuracy: 0.8375\n",
      "Epoch 68/120\n",
      "657/657 [==============================] - 3s 5ms/step - loss: 0.5351 - accuracy: 0.8394\n",
      "Epoch 69/120\n",
      "657/657 [==============================] - 4s 6ms/step - loss: 0.5371 - accuracy: 0.8410\n",
      "Epoch 70/120\n",
      "657/657 [==============================] - 4s 6ms/step - loss: 0.5275 - accuracy: 0.8429\n",
      "Epoch 71/120\n",
      "657/657 [==============================] - 4s 6ms/step - loss: 0.5139 - accuracy: 0.8478\n",
      "Epoch 72/120\n",
      "657/657 [==============================] - 4s 6ms/step - loss: 0.5028 - accuracy: 0.8496\n",
      "Epoch 73/120\n",
      "657/657 [==============================] - 4s 6ms/step - loss: 0.5001 - accuracy: 0.8508\n",
      "Epoch 74/120\n",
      "657/657 [==============================] - 4s 6ms/step - loss: 0.4977 - accuracy: 0.8523\n",
      "Epoch 75/120\n",
      "657/657 [==============================] - 4s 6ms/step - loss: 0.4944 - accuracy: 0.8531\n",
      "Epoch 76/120\n",
      "657/657 [==============================] - 4s 5ms/step - loss: 0.4870 - accuracy: 0.8552\n",
      "Epoch 77/120\n",
      "657/657 [==============================] - 4s 6ms/step - loss: 0.4805 - accuracy: 0.8559\n",
      "Epoch 78/120\n",
      "657/657 [==============================] - 4s 6ms/step - loss: 0.4742 - accuracy: 0.8587\n",
      "Epoch 79/120\n",
      "657/657 [==============================] - 3s 5ms/step - loss: 0.4720 - accuracy: 0.8599\n",
      "Epoch 80/120\n",
      "657/657 [==============================] - 3s 5ms/step - loss: 0.4688 - accuracy: 0.8605\n",
      "Epoch 81/120\n"
     ]
    },
    {
     "name": "stdout",
     "output_type": "stream",
     "text": [
      "657/657 [==============================] - 4s 6ms/step - loss: 0.4585 - accuracy: 0.8622\n",
      "Epoch 82/120\n",
      "657/657 [==============================] - 4s 6ms/step - loss: 0.4494 - accuracy: 0.8647\n",
      "Epoch 83/120\n",
      "657/657 [==============================] - 4s 6ms/step - loss: 0.4484 - accuracy: 0.8680\n",
      "Epoch 84/120\n",
      "657/657 [==============================] - 4s 6ms/step - loss: 0.4431 - accuracy: 0.8673\n",
      "Epoch 85/120\n",
      "657/657 [==============================] - 3s 5ms/step - loss: 0.4432 - accuracy: 0.8687\n",
      "Epoch 86/120\n",
      "657/657 [==============================] - 4s 5ms/step - loss: 0.4340 - accuracy: 0.8710\n",
      "Epoch 87/120\n",
      "657/657 [==============================] - 4s 6ms/step - loss: 0.4324 - accuracy: 0.8709\n",
      "Epoch 88/120\n",
      "657/657 [==============================] - 4s 6ms/step - loss: 0.4230 - accuracy: 0.8738\n",
      "Epoch 89/120\n",
      "657/657 [==============================] - 4s 6ms/step - loss: 0.4260 - accuracy: 0.8743\n",
      "Epoch 90/120\n",
      "657/657 [==============================] - 4s 6ms/step - loss: 0.4229 - accuracy: 0.8764\n",
      "Epoch 91/120\n",
      "657/657 [==============================] - 4s 5ms/step - loss: 0.4118 - accuracy: 0.8772\n",
      "Epoch 92/120\n",
      "657/657 [==============================] - 4s 5ms/step - loss: 0.4092 - accuracy: 0.8807\n",
      "Epoch 93/120\n",
      "657/657 [==============================] - 4s 6ms/step - loss: 0.4102 - accuracy: 0.8793\n",
      "Epoch 94/120\n",
      "657/657 [==============================] - 4s 6ms/step - loss: 0.4032 - accuracy: 0.8829\n",
      "Epoch 95/120\n",
      "657/657 [==============================] - 4s 6ms/step - loss: 0.4005 - accuracy: 0.8809\n",
      "Epoch 96/120\n",
      "657/657 [==============================] - 4s 5ms/step - loss: 0.3986 - accuracy: 0.8813\n",
      "Epoch 97/120\n",
      "657/657 [==============================] - 4s 6ms/step - loss: 0.3951 - accuracy: 0.8831\n",
      "Epoch 98/120\n",
      "657/657 [==============================] - 4s 6ms/step - loss: 0.3858 - accuracy: 0.8857\n",
      "Epoch 99/120\n",
      "657/657 [==============================] - 4s 6ms/step - loss: 0.3906 - accuracy: 0.8855\n",
      "Epoch 100/120\n",
      "657/657 [==============================] - 4s 6ms/step - loss: 0.3874 - accuracy: 0.8846\n",
      "Epoch 101/120\n",
      "657/657 [==============================] - 4s 6ms/step - loss: 0.3804 - accuracy: 0.8873\n",
      "Epoch 102/120\n",
      "657/657 [==============================] - 4s 6ms/step - loss: 0.3736 - accuracy: 0.8890\n",
      "Epoch 103/120\n",
      "657/657 [==============================] - 4s 6ms/step - loss: 0.3674 - accuracy: 0.8909\n",
      "Epoch 104/120\n",
      "657/657 [==============================] - 4s 6ms/step - loss: 0.3710 - accuracy: 0.8901\n",
      "Epoch 105/120\n",
      "657/657 [==============================] - 4s 6ms/step - loss: 0.3664 - accuracy: 0.8926\n",
      "Epoch 106/120\n",
      "657/657 [==============================] - 4s 6ms/step - loss: 0.3598 - accuracy: 0.8939\n",
      "Epoch 107/120\n",
      "657/657 [==============================] - 4s 5ms/step - loss: 0.3620 - accuracy: 0.8944\n",
      "Epoch 108/120\n",
      "657/657 [==============================] - 3s 5ms/step - loss: 0.3545 - accuracy: 0.8937\n",
      "Epoch 109/120\n",
      "657/657 [==============================] - 4s 6ms/step - loss: 0.3573 - accuracy: 0.8966\n",
      "Epoch 110/120\n",
      "657/657 [==============================] - 4s 6ms/step - loss: 0.3488 - accuracy: 0.8978\n",
      "Epoch 111/120\n",
      "657/657 [==============================] - 4s 6ms/step - loss: 0.3472 - accuracy: 0.8980\n",
      "Epoch 112/120\n",
      "657/657 [==============================] - 4s 6ms/step - loss: 0.3431 - accuracy: 0.8985\n",
      "Epoch 113/120\n",
      "657/657 [==============================] - 4s 6ms/step - loss: 0.3422 - accuracy: 0.8995\n",
      "Epoch 114/120\n",
      "657/657 [==============================] - 4s 6ms/step - loss: 0.3383 - accuracy: 0.8995\n",
      "Epoch 115/120\n",
      "657/657 [==============================] - 4s 6ms/step - loss: 0.3395 - accuracy: 0.9010\n",
      "Epoch 116/120\n",
      "657/657 [==============================] - 4s 6ms/step - loss: 0.3342 - accuracy: 0.9012\n",
      "Epoch 117/120\n",
      "657/657 [==============================] - 4s 6ms/step - loss: 0.3260 - accuracy: 0.9039\n",
      "Epoch 118/120\n",
      "657/657 [==============================] - 4s 6ms/step - loss: 0.3264 - accuracy: 0.9038\n",
      "Epoch 119/120\n",
      "657/657 [==============================] - 4s 6ms/step - loss: 0.3262 - accuracy: 0.9038\n",
      "Epoch 120/120\n",
      "657/657 [==============================] - 4s 6ms/step - loss: 0.3205 - accuracy: 0.9053\n"
     ]
    },
    {
     "data": {
      "text/plain": [
       "<tensorflow.python.keras.callbacks.History at 0x7f42ac115370>"
      ]
     },
     "execution_count": 8,
     "metadata": {},
     "output_type": "execute_result"
    }
   ],
   "source": [
    "# Setup parameters and environment\n",
    "setup_growth()\n",
    "num_classes = len(np.unique(mnist.targets))\n",
    "epochs = 120\n",
    "batch_size = 80\n",
    "\n",
    "# Create and fit model\n",
    "base_model = fchollet_cnn(output=num_classes)\n",
    "base_model.compile(optimizer=\"adadelta\", loss=\"sparse_categorical_crossentropy\", metrics=[\"accuracy\"])\n",
    "base_model.fit(x_train, y_train, epochs=epochs, batch_size=batch_size)"
   ]
  },
  {
   "cell_type": "code",
   "execution_count": 9,
   "id": "ae565c6b",
   "metadata": {},
   "outputs": [
    {
     "name": "stdout",
     "output_type": "stream",
     "text": [
      "547/547 [==============================] - 5s 9ms/step - loss: 0.1588 - accuracy: 0.9571\n"
     ]
    },
    {
     "data": {
      "text/plain": [
       "[0.15875177085399628, 0.9571428298950195]"
      ]
     },
     "execution_count": 9,
     "metadata": {},
     "output_type": "execute_result"
    }
   ],
   "source": [
    "base_model.evaluate(x_test, y_test)"
   ]
  },
  {
   "cell_type": "markdown",
   "id": "365c1f40",
   "metadata": {},
   "source": [
    "# Compare Entropy values"
   ]
  },
  {
   "cell_type": "code",
   "execution_count": 10,
   "id": "92ecdf8e",
   "metadata": {},
   "outputs": [],
   "source": [
    "comp_inputs = x_test[:100]\n",
    "comp_targets = y_test[:100]"
   ]
  },
  {
   "cell_type": "code",
   "execution_count": 17,
   "id": "47c431bb",
   "metadata": {},
   "outputs": [
    {
     "name": "stdout",
     "output_type": "stream",
     "text": [
      "Pred. shape: (100, 100, 10) '(num_datapoints, sample_size, target_size)'\n"
     ]
    }
   ],
   "source": [
    "mc_model = McDropout(base_model)\n",
    "mc_pred = mc_model(comp_inputs, sample_size=100)\n",
    "print(\"Pred. shape: {} '(num_datapoints, sample_size, target_size)'\".format(mc_pred.shape))"
   ]
  },
  {
   "cell_type": "code",
   "execution_count": 32,
   "id": "47438fbe",
   "metadata": {},
   "outputs": [
    {
     "data": {
      "text/plain": [
       "(100, 10)"
      ]
     },
     "execution_count": 32,
     "metadata": {},
     "output_type": "execute_result"
    }
   ],
   "source": [
    "expectation = np.mean(mc_pred, axis=1)\n",
    "expectation.shape"
   ]
  },
  {
   "cell_type": "code",
   "execution_count": 75,
   "id": "4d0376ac",
   "metadata": {},
   "outputs": [
    {
     "data": {
      "text/plain": [
       "(100, 1)"
      ]
     },
     "execution_count": 75,
     "metadata": {},
     "output_type": "execute_result"
    }
   ],
   "source": [
    "selector_indices = comp_targets.reshape(100, 1)\n",
    "selector_indices.shape"
   ]
  },
  {
   "cell_type": "code",
   "execution_count": 84,
   "id": "c239bb2e",
   "metadata": {},
   "outputs": [
    {
     "data": {
      "text/plain": [
       "(100, 1, 10)"
      ]
     },
     "execution_count": 84,
     "metadata": {},
     "output_type": "execute_result"
    }
   ],
   "source": [
    "expectation[selector_indices].shape"
   ]
  },
  {
   "cell_type": "code",
   "execution_count": 86,
   "id": "836d0aff",
   "metadata": {},
   "outputs": [
    {
     "data": {
      "text/plain": [
       "(100, 100)"
      ]
     },
     "execution_count": 86,
     "metadata": {},
     "output_type": "execute_result"
    }
   ],
   "source": [
    "np.take(expectation, comp_targets, axis=1).shape"
   ]
  },
  {
   "cell_type": "code",
   "execution_count": 90,
   "id": "c5cd7951",
   "metadata": {},
   "outputs": [
    {
     "data": {
      "text/plain": [
       "(100,)"
      ]
     },
     "execution_count": 90,
     "metadata": {},
     "output_type": "execute_result"
    }
   ],
   "source": [
    "comp_targets.shape"
   ]
  },
  {
   "cell_type": "code",
   "execution_count": 88,
   "id": "9137df51",
   "metadata": {},
   "outputs": [
    {
     "data": {
      "text/plain": [
       "(100, 10)"
      ]
     },
     "execution_count": 88,
     "metadata": {},
     "output_type": "execute_result"
    }
   ],
   "source": [
    "expectation[comp_targets].shape"
   ]
  },
  {
   "cell_type": "code",
   "execution_count": 92,
   "id": "1d605409",
   "metadata": {},
   "outputs": [
    {
     "data": {
      "text/plain": [
       "(100, 1, 10)"
      ]
     },
     "execution_count": 92,
     "metadata": {},
     "output_type": "execute_result"
    }
   ],
   "source": [
    "expectation[selector_indices].shape"
   ]
  },
  {
   "cell_type": "code",
   "execution_count": 25,
   "id": "86bd5f44",
   "metadata": {},
   "outputs": [
    {
     "data": {
      "text/plain": [
       "0"
      ]
     },
     "execution_count": 25,
     "metadata": {},
     "output_type": "execute_result"
    }
   ],
   "source": [
    "np.argmax(np.mean(mc_pred[0], axis=0))"
   ]
  },
  {
   "cell_type": "code",
   "execution_count": 96,
   "id": "7ff6e09a",
   "metadata": {},
   "outputs": [
    {
     "data": {
      "text/plain": [
       "(100, 10)"
      ]
     },
     "execution_count": 96,
     "metadata": {},
     "output_type": "execute_result"
    }
   ],
   "source": [
    "np.take(expectation, comp_targets, axis=0).shape"
   ]
  },
  {
   "cell_type": "code",
   "execution_count": null,
   "id": "5fb1cca4",
   "metadata": {},
   "outputs": [],
   "source": []
  },
  {
   "cell_type": "code",
   "execution_count": 108,
   "id": "caa84933",
   "metadata": {},
   "outputs": [],
   "source": [
    "true_preds = np.zeros(len(comp_targets))\n",
    "for i in range(len(comp_targets)):\n",
    "    true_preds[i] =  expectation[i][comp_targets[i]]"
   ]
  },
  {
   "cell_type": "code",
   "execution_count": 110,
   "id": "ea9e44cb",
   "metadata": {},
   "outputs": [
    {
     "data": {
      "text/plain": [
       "array([0.75258821, 0.92882562, 0.76276612, 0.00594902, 0.86079055,\n",
       "       0.99511909, 0.89682841, 0.94389063, 0.92224854, 0.54690146,\n",
       "       0.88509905, 0.80546761, 0.94288337, 0.99008089, 0.65803999,\n",
       "       0.93628335, 0.98372519, 0.99736273, 0.85688895, 0.45167312,\n",
       "       0.54412693, 0.99694693, 0.99149042, 0.97506231, 0.90429068,\n",
       "       0.96476281, 0.99376607, 0.01525678, 0.92910135, 0.80500817,\n",
       "       0.9209888 , 0.96540415, 0.89284462, 0.99378961, 0.87577802,\n",
       "       0.36374378, 0.98172319, 0.92099541, 0.98108208, 0.6535446 ,\n",
       "       0.95879591, 0.18378532, 0.98516661, 0.93913531, 0.69626701,\n",
       "       0.98560637, 0.96456993, 0.96768713, 0.92921185, 0.92214602,\n",
       "       0.9149121 , 0.83855164, 0.95621765, 0.99028254, 0.97710383,\n",
       "       0.98065734, 0.98156381, 0.79554468, 0.88364583, 0.82989639,\n",
       "       0.97094488, 0.94502759, 0.77303004, 0.98848152, 0.98822248,\n",
       "       0.98980784, 0.60438412, 0.98501283, 0.0503156 , 0.93848443,\n",
       "       0.9610399 , 0.97675759, 0.16644867, 0.6491102 , 0.9698748 ,\n",
       "       0.95171028, 0.92686182, 0.95519823, 0.70363832, 0.95294118,\n",
       "       0.96002126, 0.9825654 , 0.95620149, 0.77065057, 0.33777452,\n",
       "       0.97092891, 0.99129248, 0.82861388, 0.88046479, 0.98678118,\n",
       "       0.97758096, 0.9915787 , 0.89012438, 0.8655203 , 0.97132468,\n",
       "       0.97640455, 0.8388201 , 0.96738005, 0.98380989, 0.99951881])"
      ]
     },
     "execution_count": 110,
     "metadata": {},
     "output_type": "execute_result"
    }
   ],
   "source": []
  },
  {
   "cell_type": "code",
   "execution_count": 14,
   "id": "ec73e1f9",
   "metadata": {},
   "outputs": [],
   "source": [
    "mp_model = MomentPropagation(base_model)\n",
    "mp_pred = mp_model(comp_inputs)"
   ]
  },
  {
   "cell_type": "code",
   "execution_count": null,
   "id": "50d4cdd9",
   "metadata": {},
   "outputs": [],
   "source": []
  },
  {
   "cell_type": "code",
   "execution_count": null,
   "id": "f9d6fdc2",
   "metadata": {},
   "outputs": [],
   "source": []
  },
  {
   "cell_type": "code",
   "execution_count": null,
   "id": "27966e48",
   "metadata": {},
   "outputs": [],
   "source": []
  }
 ],
 "metadata": {
  "kernelspec": {
   "display_name": "Python 3",
   "language": "python",
   "name": "python3"
  },
  "language_info": {
   "codemirror_mode": {
    "name": "ipython",
    "version": 3
   },
   "file_extension": ".py",
   "mimetype": "text/x-python",
   "name": "python",
   "nbconvert_exporter": "python",
   "pygments_lexer": "ipython3",
   "version": "3.8.8"
  }
 },
 "nbformat": 4,
 "nbformat_minor": 5
}
