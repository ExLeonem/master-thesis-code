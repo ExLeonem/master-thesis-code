{
 "cells": [
  {
   "cell_type": "markdown",
   "id": "8463f89e",
   "metadata": {},
   "source": [
    "# Comparing MC-Dropout and Moment Propagation"
   ]
  },
  {
   "cell_type": "code",
   "execution_count": 1,
   "id": "18680c69",
   "metadata": {},
   "outputs": [],
   "source": [
    "%load_ext autoreload"
   ]
  },
  {
   "cell_type": "code",
   "execution_count": 2,
   "id": "a8729570",
   "metadata": {},
   "outputs": [],
   "source": [
    "import os, sys\n",
    "import numpy as np\n",
    "import pandas as pd\n",
    "import matplotlib.pyplot as plt\n",
    "import seaborn as sns\n",
    "from sklearn.model_selection import train_test_split"
   ]
  },
  {
   "cell_type": "code",
   "execution_count": 3,
   "id": "cb28b337",
   "metadata": {},
   "outputs": [],
   "source": [
    "BASE_PATH = os.path.join(os.getcwd(), \"..\", \"..\")\n",
    "MODULES_PATH = os.path.join(BASE_PATH, \"modules\")\n",
    "DATASET_PATH = os.path.join(BASE_PATH, \"datasets\")"
   ]
  },
  {
   "cell_type": "code",
   "execution_count": 4,
   "id": "7f278c52",
   "metadata": {},
   "outputs": [],
   "source": [
    "sys.path.append(MODULES_PATH)"
   ]
  },
  {
   "cell_type": "code",
   "execution_count": 5,
   "id": "487ae9a2",
   "metadata": {},
   "outputs": [],
   "source": [
    "from bayesian import McDropout, MomentPropagation\n",
    "from models import fchollet_cnn, setup_growth\n",
    "from data import BenchmarkData, DataSetType"
   ]
  },
  {
   "cell_type": "code",
   "execution_count": 6,
   "id": "1aa7f626",
   "metadata": {},
   "outputs": [],
   "source": [
    "mnist = BenchmarkData(DataSetType.MNIST, os.path.join(DATASET_PATH, \"mnist\"), dtype=np.float32)"
   ]
  },
  {
   "cell_type": "code",
   "execution_count": 7,
   "id": "3155a3c5",
   "metadata": {},
   "outputs": [],
   "source": [
    "x_train, x_test, y_train, y_test = train_test_split(mnist.inputs, mnist.targets)"
   ]
  },
  {
   "cell_type": "code",
   "execution_count": 8,
   "id": "bb8daa17",
   "metadata": {},
   "outputs": [
    {
     "name": "stdout",
     "output_type": "stream",
     "text": [
      "1 Physical GPU's,  1 Logical GPU's\n",
      "Epoch 1/120\n",
      "657/657 [==============================] - 11s 17ms/step - loss: 30.2220 - accuracy: 0.1606\n",
      "Epoch 2/120\n",
      "657/657 [==============================] - 4s 6ms/step - loss: 10.5834 - accuracy: 0.2941\n",
      "Epoch 3/120\n",
      "657/657 [==============================] - 4s 5ms/step - loss: 4.9520 - accuracy: 0.3428\n",
      "Epoch 4/120\n",
      "657/657 [==============================] - 4s 5ms/step - loss: 2.9873 - accuracy: 0.3355\n",
      "Epoch 5/120\n",
      "657/657 [==============================] - 4s 5ms/step - loss: 2.3417 - accuracy: 0.3448\n",
      "Epoch 6/120\n",
      "657/657 [==============================] - 4s 6ms/step - loss: 2.1095 - accuracy: 0.3534\n",
      "Epoch 7/120\n",
      "657/657 [==============================] - 4s 6ms/step - loss: 2.0005 - accuracy: 0.3691\n",
      "Epoch 8/120\n",
      "657/657 [==============================] - 4s 6ms/step - loss: 1.9008 - accuracy: 0.3969\n",
      "Epoch 9/120\n",
      "657/657 [==============================] - 4s 6ms/step - loss: 1.8321 - accuracy: 0.4166\n",
      "Epoch 10/120\n",
      "657/657 [==============================] - 4s 6ms/step - loss: 1.7694 - accuracy: 0.4364\n",
      "Epoch 11/120\n",
      "657/657 [==============================] - 4s 6ms/step - loss: 1.7088 - accuracy: 0.4603\n",
      "Epoch 12/120\n",
      "657/657 [==============================] - 4s 6ms/step - loss: 1.6595 - accuracy: 0.4790\n",
      "Epoch 13/120\n",
      "657/657 [==============================] - 4s 6ms/step - loss: 1.6134 - accuracy: 0.4924\n",
      "Epoch 14/120\n",
      "657/657 [==============================] - 4s 6ms/step - loss: 1.5699 - accuracy: 0.5093\n",
      "Epoch 15/120\n",
      "657/657 [==============================] - 4s 6ms/step - loss: 1.5344 - accuracy: 0.5214\n",
      "Epoch 16/120\n",
      "657/657 [==============================] - 4s 6ms/step - loss: 1.4930 - accuracy: 0.5361\n",
      "Epoch 17/120\n",
      "657/657 [==============================] - 4s 6ms/step - loss: 1.4496 - accuracy: 0.5564\n",
      "Epoch 18/120\n",
      "657/657 [==============================] - 4s 6ms/step - loss: 1.4202 - accuracy: 0.5681\n",
      "Epoch 19/120\n",
      "657/657 [==============================] - 4s 6ms/step - loss: 1.3915 - accuracy: 0.5777\n",
      "Epoch 20/120\n",
      "657/657 [==============================] - 4s 6ms/step - loss: 1.3594 - accuracy: 0.5861\n",
      "Epoch 21/120\n",
      "657/657 [==============================] - 4s 6ms/step - loss: 1.3302 - accuracy: 0.5969\n",
      "Epoch 22/120\n",
      "657/657 [==============================] - 4s 6ms/step - loss: 1.2953 - accuracy: 0.6096\n",
      "Epoch 23/120\n",
      "657/657 [==============================] - 4s 6ms/step - loss: 1.2730 - accuracy: 0.6148\n",
      "Epoch 24/120\n",
      "657/657 [==============================] - 4s 6ms/step - loss: 1.2506 - accuracy: 0.6255\n",
      "Epoch 25/120\n",
      "657/657 [==============================] - 4s 6ms/step - loss: 1.2171 - accuracy: 0.6358\n",
      "Epoch 26/120\n",
      "657/657 [==============================] - 4s 6ms/step - loss: 1.2026 - accuracy: 0.6402\n",
      "Epoch 27/120\n",
      "657/657 [==============================] - 4s 6ms/step - loss: 1.1854 - accuracy: 0.6474\n",
      "Epoch 28/120\n",
      "657/657 [==============================] - 4s 6ms/step - loss: 1.1657 - accuracy: 0.6525\n",
      "Epoch 29/120\n",
      "657/657 [==============================] - 4s 6ms/step - loss: 1.1447 - accuracy: 0.6586\n",
      "Epoch 30/120\n",
      "657/657 [==============================] - 4s 6ms/step - loss: 1.1211 - accuracy: 0.6650\n",
      "Epoch 31/120\n",
      "657/657 [==============================] - 4s 6ms/step - loss: 1.1035 - accuracy: 0.6715\n",
      "Epoch 32/120\n",
      "657/657 [==============================] - 4s 6ms/step - loss: 1.0879 - accuracy: 0.6775\n",
      "Epoch 33/120\n",
      "657/657 [==============================] - 4s 6ms/step - loss: 1.0806 - accuracy: 0.6818\n",
      "Epoch 34/120\n",
      "657/657 [==============================] - 4s 6ms/step - loss: 1.0470 - accuracy: 0.6903\n",
      "Epoch 35/120\n",
      "657/657 [==============================] - 4s 6ms/step - loss: 1.0405 - accuracy: 0.6912\n",
      "Epoch 36/120\n",
      "657/657 [==============================] - 4s 6ms/step - loss: 1.0212 - accuracy: 0.6995\n",
      "Epoch 37/120\n",
      "657/657 [==============================] - 4s 6ms/step - loss: 1.0038 - accuracy: 0.7034\n",
      "Epoch 38/120\n",
      "657/657 [==============================] - 4s 6ms/step - loss: 0.9981 - accuracy: 0.7067\n",
      "Epoch 39/120\n",
      "657/657 [==============================] - 4s 6ms/step - loss: 0.9854 - accuracy: 0.7089\n",
      "Epoch 40/120\n",
      "657/657 [==============================] - 4s 6ms/step - loss: 0.9671 - accuracy: 0.7173\n",
      "Epoch 41/120\n",
      "657/657 [==============================] - 4s 6ms/step - loss: 0.9573 - accuracy: 0.7220\n",
      "Epoch 42/120\n",
      "657/657 [==============================] - 4s 6ms/step - loss: 0.9452 - accuracy: 0.7221\n",
      "Epoch 43/120\n",
      "657/657 [==============================] - 4s 6ms/step - loss: 0.9295 - accuracy: 0.7265\n",
      "Epoch 44/120\n",
      "657/657 [==============================] - 4s 6ms/step - loss: 0.9211 - accuracy: 0.7311\n",
      "Epoch 45/120\n",
      "657/657 [==============================] - 4s 6ms/step - loss: 0.9075 - accuracy: 0.7340\n",
      "Epoch 46/120\n",
      "657/657 [==============================] - 4s 6ms/step - loss: 0.8944 - accuracy: 0.7402\n",
      "Epoch 47/120\n",
      "657/657 [==============================] - 4s 6ms/step - loss: 0.8750 - accuracy: 0.7462\n",
      "Epoch 48/120\n",
      "657/657 [==============================] - 4s 6ms/step - loss: 0.8657 - accuracy: 0.7507\n",
      "Epoch 49/120\n",
      "657/657 [==============================] - 4s 6ms/step - loss: 0.8573 - accuracy: 0.7493\n",
      "Epoch 50/120\n",
      "657/657 [==============================] - 4s 6ms/step - loss: 0.8495 - accuracy: 0.7552\n",
      "Epoch 51/120\n",
      "657/657 [==============================] - 4s 6ms/step - loss: 0.8382 - accuracy: 0.7588\n",
      "Epoch 52/120\n",
      "657/657 [==============================] - 4s 6ms/step - loss: 0.8247 - accuracy: 0.7601\n",
      "Epoch 53/120\n",
      "657/657 [==============================] - 4s 6ms/step - loss: 0.8161 - accuracy: 0.7633\n",
      "Epoch 54/120\n",
      "657/657 [==============================] - 4s 6ms/step - loss: 0.8057 - accuracy: 0.7674\n",
      "Epoch 55/120\n",
      "657/657 [==============================] - 4s 6ms/step - loss: 0.7980 - accuracy: 0.7713\n",
      "Epoch 56/120\n",
      "657/657 [==============================] - 4s 6ms/step - loss: 0.7903 - accuracy: 0.7732\n",
      "Epoch 57/120\n",
      "657/657 [==============================] - 4s 6ms/step - loss: 0.7852 - accuracy: 0.7755\n",
      "Epoch 58/120\n",
      "657/657 [==============================] - 4s 6ms/step - loss: 0.7702 - accuracy: 0.7776\n",
      "Epoch 59/120\n",
      "657/657 [==============================] - 4s 6ms/step - loss: 0.7655 - accuracy: 0.7797\n",
      "Epoch 60/120\n",
      "657/657 [==============================] - 4s 6ms/step - loss: 0.7543 - accuracy: 0.7810\n",
      "Epoch 61/120\n",
      "657/657 [==============================] - 4s 6ms/step - loss: 0.7421 - accuracy: 0.7856\n",
      "Epoch 62/120\n",
      "657/657 [==============================] - 4s 6ms/step - loss: 0.7356 - accuracy: 0.7920\n",
      "Epoch 63/120\n",
      "657/657 [==============================] - 4s 6ms/step - loss: 0.7403 - accuracy: 0.7887\n",
      "Epoch 64/120\n",
      "657/657 [==============================] - 4s 6ms/step - loss: 0.7276 - accuracy: 0.7907\n",
      "Epoch 65/120\n",
      "657/657 [==============================] - 4s 6ms/step - loss: 0.7160 - accuracy: 0.7941\n",
      "Epoch 66/120\n",
      "657/657 [==============================] - 4s 5ms/step - loss: 0.6970 - accuracy: 0.8014\n",
      "Epoch 67/120\n",
      "657/657 [==============================] - 4s 6ms/step - loss: 0.7063 - accuracy: 0.7976\n",
      "Epoch 68/120\n",
      "657/657 [==============================] - 4s 6ms/step - loss: 0.6979 - accuracy: 0.8001\n",
      "Epoch 69/120\n",
      "657/657 [==============================] - 4s 6ms/step - loss: 0.6880 - accuracy: 0.8046\n",
      "Epoch 70/120\n",
      "657/657 [==============================] - 4s 6ms/step - loss: 0.6789 - accuracy: 0.8061\n",
      "Epoch 71/120\n",
      "657/657 [==============================] - 4s 6ms/step - loss: 0.6590 - accuracy: 0.8126\n",
      "Epoch 72/120\n",
      "657/657 [==============================] - 4s 5ms/step - loss: 0.6598 - accuracy: 0.8131\n",
      "Epoch 73/120\n",
      "657/657 [==============================] - 4s 5ms/step - loss: 0.6524 - accuracy: 0.8125\n",
      "Epoch 74/120\n",
      "657/657 [==============================] - 4s 6ms/step - loss: 0.6527 - accuracy: 0.8135\n",
      "Epoch 75/120\n",
      "657/657 [==============================] - 4s 6ms/step - loss: 0.6521 - accuracy: 0.8148\n",
      "Epoch 76/120\n",
      "657/657 [==============================] - 4s 6ms/step - loss: 0.6350 - accuracy: 0.8182\n",
      "Epoch 77/120\n",
      "657/657 [==============================] - 4s 6ms/step - loss: 0.6312 - accuracy: 0.8179\n",
      "Epoch 78/120\n",
      "657/657 [==============================] - 4s 6ms/step - loss: 0.6201 - accuracy: 0.8239\n",
      "Epoch 79/120\n",
      "657/657 [==============================] - 4s 6ms/step - loss: 0.6105 - accuracy: 0.8281\n",
      "Epoch 80/120\n",
      "657/657 [==============================] - 4s 6ms/step - loss: 0.6101 - accuracy: 0.8266\n",
      "Epoch 81/120\n"
     ]
    },
    {
     "name": "stdout",
     "output_type": "stream",
     "text": [
      "657/657 [==============================] - 4s 6ms/step - loss: 0.6092 - accuracy: 0.8250\n",
      "Epoch 82/120\n",
      "657/657 [==============================] - 4s 6ms/step - loss: 0.5965 - accuracy: 0.8298\n",
      "Epoch 83/120\n",
      "657/657 [==============================] - 4s 6ms/step - loss: 0.5844 - accuracy: 0.8316\n",
      "Epoch 84/120\n",
      "657/657 [==============================] - 4s 5ms/step - loss: 0.5800 - accuracy: 0.8337\n",
      "Epoch 85/120\n",
      "657/657 [==============================] - 4s 6ms/step - loss: 0.5826 - accuracy: 0.8352\n",
      "Epoch 86/120\n",
      "657/657 [==============================] - 4s 6ms/step - loss: 0.5784 - accuracy: 0.8345\n",
      "Epoch 87/120\n",
      "657/657 [==============================] - 4s 6ms/step - loss: 0.5625 - accuracy: 0.8397\n",
      "Epoch 88/120\n",
      "657/657 [==============================] - 4s 6ms/step - loss: 0.5585 - accuracy: 0.8408\n",
      "Epoch 89/120\n",
      "657/657 [==============================] - 4s 6ms/step - loss: 0.5527 - accuracy: 0.8412\n",
      "Epoch 90/120\n",
      "657/657 [==============================] - 4s 6ms/step - loss: 0.5585 - accuracy: 0.8420\n",
      "Epoch 91/120\n",
      "657/657 [==============================] - 4s 6ms/step - loss: 0.5532 - accuracy: 0.8417\n",
      "Epoch 92/120\n",
      "657/657 [==============================] - 4s 6ms/step - loss: 0.5363 - accuracy: 0.8474\n",
      "Epoch 93/120\n",
      "657/657 [==============================] - 4s 6ms/step - loss: 0.5392 - accuracy: 0.8458\n",
      "Epoch 94/120\n",
      "657/657 [==============================] - 4s 5ms/step - loss: 0.5296 - accuracy: 0.8493\n",
      "Epoch 95/120\n",
      "657/657 [==============================] - 4s 5ms/step - loss: 0.5296 - accuracy: 0.8459\n",
      "Epoch 96/120\n",
      "657/657 [==============================] - 4s 6ms/step - loss: 0.5269 - accuracy: 0.8495\n",
      "Epoch 97/120\n",
      "657/657 [==============================] - 4s 6ms/step - loss: 0.5244 - accuracy: 0.8525\n",
      "Epoch 98/120\n",
      "657/657 [==============================] - 4s 5ms/step - loss: 0.5151 - accuracy: 0.8535\n",
      "Epoch 99/120\n",
      "657/657 [==============================] - 4s 6ms/step - loss: 0.5112 - accuracy: 0.8549\n",
      "Epoch 100/120\n",
      "657/657 [==============================] - 4s 6ms/step - loss: 0.4987 - accuracy: 0.8579\n",
      "Epoch 101/120\n",
      "657/657 [==============================] - 4s 6ms/step - loss: 0.5007 - accuracy: 0.8577\n",
      "Epoch 102/120\n",
      "657/657 [==============================] - 4s 6ms/step - loss: 0.5035 - accuracy: 0.8579\n",
      "Epoch 103/120\n",
      "657/657 [==============================] - 4s 6ms/step - loss: 0.4942 - accuracy: 0.8582\n",
      "Epoch 104/120\n",
      "657/657 [==============================] - 4s 5ms/step - loss: 0.4874 - accuracy: 0.8623\n",
      "Epoch 105/120\n",
      "657/657 [==============================] - 4s 6ms/step - loss: 0.4826 - accuracy: 0.8607\n",
      "Epoch 106/120\n",
      "657/657 [==============================] - 4s 6ms/step - loss: 0.4781 - accuracy: 0.8648\n",
      "Epoch 107/120\n",
      "657/657 [==============================] - 4s 6ms/step - loss: 0.4749 - accuracy: 0.8630\n",
      "Epoch 108/120\n",
      "657/657 [==============================] - 4s 6ms/step - loss: 0.4711 - accuracy: 0.8673\n",
      "Epoch 109/120\n",
      "657/657 [==============================] - 4s 6ms/step - loss: 0.4694 - accuracy: 0.8678\n",
      "Epoch 110/120\n",
      "657/657 [==============================] - 4s 6ms/step - loss: 0.4667 - accuracy: 0.8653\n",
      "Epoch 111/120\n",
      "657/657 [==============================] - 4s 6ms/step - loss: 0.4587 - accuracy: 0.8706\n",
      "Epoch 112/120\n",
      "657/657 [==============================] - 4s 6ms/step - loss: 0.4592 - accuracy: 0.8686\n",
      "Epoch 113/120\n",
      "657/657 [==============================] - 4s 6ms/step - loss: 0.4557 - accuracy: 0.8704\n",
      "Epoch 114/120\n",
      "657/657 [==============================] - 4s 6ms/step - loss: 0.4528 - accuracy: 0.8706\n",
      "Epoch 115/120\n",
      "657/657 [==============================] - 4s 6ms/step - loss: 0.4495 - accuracy: 0.8714\n",
      "Epoch 116/120\n",
      "657/657 [==============================] - 4s 6ms/step - loss: 0.4446 - accuracy: 0.8734\n",
      "Epoch 117/120\n",
      "657/657 [==============================] - 4s 6ms/step - loss: 0.4388 - accuracy: 0.8771\n",
      "Epoch 118/120\n",
      "657/657 [==============================] - 4s 6ms/step - loss: 0.4369 - accuracy: 0.8757\n",
      "Epoch 119/120\n",
      "657/657 [==============================] - 4s 6ms/step - loss: 0.4255 - accuracy: 0.8786\n",
      "Epoch 120/120\n",
      "657/657 [==============================] - 4s 6ms/step - loss: 0.4268 - accuracy: 0.8785\n"
     ]
    },
    {
     "data": {
      "text/plain": [
       "<tensorflow.python.keras.callbacks.History at 0x7f72001cf7c0>"
      ]
     },
     "execution_count": 8,
     "metadata": {},
     "output_type": "execute_result"
    }
   ],
   "source": [
    "# Setup parameters and environment\n",
    "setup_growth()\n",
    "num_classes = len(np.unique(mnist.targets))\n",
    "epochs = 120\n",
    "batch_size = 80\n",
    "\n",
    "# Create and fit model\n",
    "base_model = fchollet_cnn(output=num_classes)\n",
    "base_model.compile(optimizer=\"adadelta\", loss=\"sparse_categorical_crossentropy\", metrics=[\"accuracy\"])\n",
    "base_model.fit(x_train, y_train, epochs=epochs, batch_size=batch_size)"
   ]
  },
  {
   "cell_type": "code",
   "execution_count": 18,
   "id": "3d3bc68a",
   "metadata": {},
   "outputs": [
    {
     "name": "stdout",
     "output_type": "stream",
     "text": [
      "547/547 [==============================] - 1s 2ms/step - loss: 0.1784 - accuracy: 0.9520\n"
     ]
    },
    {
     "data": {
      "text/plain": [
       "[0.17835696041584015, 0.9520000219345093]"
      ]
     },
     "execution_count": 18,
     "metadata": {},
     "output_type": "execute_result"
    }
   ],
   "source": [
    "base_model.evaluate(x_test, y_test)"
   ]
  },
  {
   "cell_type": "markdown",
   "id": "15cac61c",
   "metadata": {},
   "source": [
    "# Compare Entropy values"
   ]
  },
  {
   "cell_type": "code",
   "execution_count": 19,
   "id": "0b2a2846",
   "metadata": {},
   "outputs": [],
   "source": [
    "comp_inputs = x_test[:100]\n",
    "comp_targets = y_test[:100]"
   ]
  },
  {
   "cell_type": "code",
   "execution_count": 29,
   "id": "7a19db35",
   "metadata": {},
   "outputs": [
    {
     "name": "stdout",
     "output_type": "stream",
     "text": [
      "Pred. shape: (100, 500, 10) '(num_datapoints, sample_size, target_size)'\n"
     ]
    }
   ],
   "source": [
    "# McDropout model\n",
    "mc_model = McDropout(base_model)\n",
    "mc_pred = mc_model(comp_inputs, sample_size=500)\n",
    "print(\"Pred. shape: {} '(num_datapoints, sample_size, target_size)'\".format(mc_pred.shape))"
   ]
  },
  {
   "cell_type": "code",
   "execution_count": 63,
   "id": "a1ea6694",
   "metadata": {},
   "outputs": [],
   "source": [
    "def create_mean_df(values, targets):\n",
    "    \"\"\"\n",
    "        Average values per class and plot values into single plot\n",
    "        \n",
    "        Parmeters:\n",
    "            values (numpy.ndarray):\n",
    "            targets (numpy.ndarray): \n",
    "    \"\"\"\n",
    "    unique_targets = np.unique(targets)\n",
    "    \n",
    "    # Calculate mean values per class\n",
    "    mean_values = []\n",
    "    for u_target in unique_targets:\n",
    "        selector = (targets == u_target)\n",
    "        target_values = values[selector]\n",
    "        mean_values.append(np.mean(target_values))\n",
    "    \n",
    "    # Plot values\n",
    "    mean_values = np.array(mean_values)\n",
    "    return pd.DataFrame({\"targets\": unique_targets, \"mean_values\": mean_values})"
   ]
  },
  {
   "cell_type": "code",
   "execution_count": 64,
   "id": "996cdd8e",
   "metadata": {},
   "outputs": [],
   "source": [
    "def plot_mean_df(data, x_label, y_label):\n",
    "    sns.barplot(data=df, x=\"targets\", y=\"mean_values\")\n",
    "    plt.xlabel(x_label)\n",
    "    plt.ylabel(y_label)"
   ]
  },
  {
   "cell_type": "code",
   "execution_count": 75,
   "id": "0623dee9",
   "metadata": {},
   "outputs": [
    {
     "data": {
      "image/png": "[encoded data removed]",
      "text/plain": [
       "<Figure size 432x288 with 1 Axes>"
      ]
     },
     "metadata": {
      "needs_background": "light"
     },
     "output_type": "display_data"
    }
   ],
   "source": [
    "# NLL values of mc dropout\n",
    "mc_nll = mc_model.nll(mc_pred, comp_targets)\n",
    "df = create_mean_df(mc_nll, comp_targets)\n",
    "plot_mean_df(df, \"Targets\", \"NLL\")"
   ]
  },
  {
   "cell_type": "code",
   "execution_count": 107,
   "id": "cd66a32e",
   "metadata": {},
   "outputs": [
    {
     "data": {
      "image/png": "[encoded data removed]",
      "text/plain": [
       "<Figure size 432x288 with 1 Axes>"
      ]
     },
     "metadata": {
      "needs_background": "light"
     },
     "output_type": "display_data"
    }
   ],
   "source": [
    "# MC Dropout Entropy\n",
    "result = mc_pred * np.log2(mc_pred+1e-10)\n",
    "summed_up = np.sum(result, axis=-1)\n",
    "entropy = np.abs(np.average(summed_up, axis=-1))\n",
    "\n",
    "df = create_mean_df(entropy, comp_targets)\n",
    "plot_mean_df(df, \"Targets\", \"Entropy\")"
   ]
  },
  {
   "cell_type": "code",
   "execution_count": 23,
   "id": "fa18d164",
   "metadata": {},
   "outputs": [],
   "source": [
    "# Moment propagation model\n",
    "mp_model = MomentPropagation(base_model)\n",
    "mp_exp, mp_var = mp_model(comp_inputs)"
   ]
  },
  {
   "cell_type": "code",
   "execution_count": 106,
   "id": "bfb07e5e",
   "metadata": {},
   "outputs": [
    {
     "data": {
      "image/png": "[encoded data removed]",
      "text/plain": [
       "<Figure size 432x288 with 1 Axes>"
      ]
     },
     "metadata": {
      "needs_background": "light"
     },
     "output_type": "display_data"
    }
   ],
   "source": [
    "# Moment Propagation NLL\n",
    "mp_nll = mp_model.nll(mp_exp, comp_targets)\n",
    "df = create_mean_df(mp_nll, comp_targets)\n",
    "plot_mean_df(df, \"Tarets\", \"NLL\")"
   ]
  },
  {
   "cell_type": "code",
   "execution_count": 105,
   "id": "8a4e9c30",
   "metadata": {},
   "outputs": [
    {
     "data": {
      "image/png": "[encoded data removed]",
      "text/plain": [
       "<Figure size 432x288 with 1 Axes>"
      ]
     },
     "metadata": {
      "needs_background": "light"
     },
     "output_type": "display_data"
    }
   ],
   "source": [
    "# Moment Propagation entropy\n",
    "mp_entropy = np.abs(np.sum(mp_exp*np.log2(mp_exp), axis=-1))\n",
    "df = create_mean_df(mp_entropy, comp_targets)\n",
    "plot_mean_df(df, \"Targets\", \"Entropy\")"
   ]
  },
  {
   "cell_type": "code",
   "execution_count": null,
   "id": "ee3ecf9a",
   "metadata": {},
   "outputs": [],
   "source": []
  }
 ],
 "metadata": {
  "kernelspec": {
   "display_name": "Python 3",
   "language": "python",
   "name": "python3"
  },
  "language_info": {
   "codemirror_mode": {
    "name": "ipython",
    "version": 3
   },
   "file_extension": ".py",
   "mimetype": "text/x-python",
   "name": "python",
   "nbconvert_exporter": "python",
   "pygments_lexer": "ipython3",
   "version": "3.8.8"
  }
 },
 "nbformat": 4,
 "nbformat_minor": 5
}
