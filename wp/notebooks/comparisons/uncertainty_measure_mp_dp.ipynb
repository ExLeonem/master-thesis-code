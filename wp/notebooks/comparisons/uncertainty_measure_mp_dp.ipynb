{
 "cells": [
  {
   "cell_type": "markdown",
   "id": "8463f89e",
   "metadata": {},
   "source": [
    "# Comparing MC-Dropout and Moment Propagation"
   ]
  },
  {
   "cell_type": "code",
   "execution_count": 1,
   "id": "18680c69",
   "metadata": {},
   "outputs": [],
   "source": [
    "%load_ext autoreload"
   ]
  },
  {
   "cell_type": "code",
   "execution_count": 2,
   "id": "a8729570",
   "metadata": {},
   "outputs": [],
   "source": [
    "import os, sys\n",
    "import numpy as np\n",
    "import pandas as pd\n",
    "import matplotlib.pyplot as plt\n",
    "import seaborn as sns\n",
    "from sklearn.model_selection import train_test_split"
   ]
  },
  {
   "cell_type": "code",
   "execution_count": 3,
   "id": "cb28b337",
   "metadata": {},
   "outputs": [],
   "source": [
    "BASE_PATH = os.path.join(os.getcwd(), \"..\", \"..\")\n",
    "MODULES_PATH = os.path.join(BASE_PATH, \"modules\")\n",
    "DATASET_PATH = os.path.join(BASE_PATH, \"datasets\")"
   ]
  },
  {
   "cell_type": "code",
   "execution_count": 4,
   "id": "7f278c52",
   "metadata": {},
   "outputs": [],
   "source": [
    "sys.path.append(MODULES_PATH)"
   ]
  },
  {
   "cell_type": "code",
   "execution_count": 5,
   "id": "487ae9a2",
   "metadata": {},
   "outputs": [],
   "source": [
    "from bayesian import McDropout, MomentPropagation\n",
    "from models import fchollet_cnn, setup_growth\n",
    "from data import BenchmarkData, DataSetType"
   ]
  },
  {
   "cell_type": "code",
   "execution_count": 6,
   "id": "1aa7f626",
   "metadata": {},
   "outputs": [],
   "source": [
    "mnist = BenchmarkData(DataSetType.MNIST, os.path.join(DATASET_PATH, \"mnist\"), dtype=np.float32)"
   ]
  },
  {
   "cell_type": "code",
   "execution_count": 7,
   "id": "3155a3c5",
   "metadata": {},
   "outputs": [],
   "source": [
    "x_train, x_test, y_train, y_test = train_test_split(mnist.inputs, mnist.targets)"
   ]
  },
  {
   "cell_type": "code",
   "execution_count": 8,
   "id": "bb8daa17",
   "metadata": {},
   "outputs": [
    {
     "name": "stdout",
     "output_type": "stream",
     "text": [
      "1 Physical GPU's,  1 Logical GPU's\n",
      "Epoch 1/120\n",
      "657/657 [==============================] - 11s 16ms/step - loss: 15.4691 - accuracy: 0.1990\n",
      "Epoch 2/120\n",
      "657/657 [==============================] - 4s 6ms/step - loss: 5.8702 - accuracy: 0.3316\n",
      "Epoch 3/120\n",
      "657/657 [==============================] - 3s 5ms/step - loss: 3.2131 - accuracy: 0.3765\n",
      "Epoch 4/120\n",
      "657/657 [==============================] - 4s 5ms/step - loss: 2.3162 - accuracy: 0.3931\n",
      "Epoch 5/120\n",
      "657/657 [==============================] - 4s 5ms/step - loss: 2.0010 - accuracy: 0.4093\n",
      "Epoch 6/120\n",
      "657/657 [==============================] - 4s 5ms/step - loss: 1.8380 - accuracy: 0.4347\n",
      "Epoch 7/120\n",
      "657/657 [==============================] - 4s 5ms/step - loss: 1.7315 - accuracy: 0.4634\n",
      "Epoch 8/120\n",
      "657/657 [==============================] - 4s 5ms/step - loss: 1.6396 - accuracy: 0.4914\n",
      "Epoch 9/120\n",
      "657/657 [==============================] - 4s 5ms/step - loss: 1.5609 - accuracy: 0.5173\n",
      "Epoch 10/120\n",
      "657/657 [==============================] - 3s 5ms/step - loss: 1.5094 - accuracy: 0.5354\n",
      "Epoch 11/120\n",
      "657/657 [==============================] - 3s 5ms/step - loss: 1.4530 - accuracy: 0.5549\n",
      "Epoch 12/120\n",
      "657/657 [==============================] - 3s 5ms/step - loss: 1.3786 - accuracy: 0.5760\n",
      "Epoch 13/120\n",
      "657/657 [==============================] - 3s 5ms/step - loss: 1.3364 - accuracy: 0.5902\n",
      "Epoch 14/120\n",
      "657/657 [==============================] - 3s 5ms/step - loss: 1.2923 - accuracy: 0.6056\n",
      "Epoch 15/120\n",
      "657/657 [==============================] - 3s 5ms/step - loss: 1.2538 - accuracy: 0.6180\n",
      "Epoch 16/120\n",
      "657/657 [==============================] - 3s 5ms/step - loss: 1.2155 - accuracy: 0.6302\n",
      "Epoch 17/120\n",
      "657/657 [==============================] - 3s 5ms/step - loss: 1.1734 - accuracy: 0.6457\n",
      "Epoch 18/120\n",
      "657/657 [==============================] - 3s 5ms/step - loss: 1.1498 - accuracy: 0.6516\n",
      "Epoch 19/120\n",
      "657/657 [==============================] - 3s 5ms/step - loss: 1.1091 - accuracy: 0.6662\n",
      "Epoch 20/120\n",
      "657/657 [==============================] - 3s 5ms/step - loss: 1.0897 - accuracy: 0.6731\n",
      "Epoch 21/120\n",
      "657/657 [==============================] - 3s 5ms/step - loss: 1.0470 - accuracy: 0.6853\n",
      "Epoch 22/120\n",
      "657/657 [==============================] - 4s 5ms/step - loss: 1.0257 - accuracy: 0.6929\n",
      "Epoch 23/120\n",
      "657/657 [==============================] - 4s 5ms/step - loss: 1.0079 - accuracy: 0.6990\n",
      "Epoch 24/120\n",
      "657/657 [==============================] - 4s 5ms/step - loss: 0.9868 - accuracy: 0.7063\n",
      "Epoch 25/120\n",
      "657/657 [==============================] - 4s 5ms/step - loss: 0.9650 - accuracy: 0.7118\n",
      "Epoch 26/120\n",
      "657/657 [==============================] - 4s 5ms/step - loss: 0.9386 - accuracy: 0.7230\n",
      "Epoch 27/120\n",
      "657/657 [==============================] - 4s 6ms/step - loss: 0.9386 - accuracy: 0.7231\n",
      "Epoch 28/120\n",
      "657/657 [==============================] - 4s 6ms/step - loss: 0.9011 - accuracy: 0.7343\n",
      "Epoch 29/120\n",
      "657/657 [==============================] - 4s 6ms/step - loss: 0.8774 - accuracy: 0.7413\n",
      "Epoch 30/120\n",
      "657/657 [==============================] - 4s 5ms/step - loss: 0.8724 - accuracy: 0.7406\n",
      "Epoch 31/120\n",
      "657/657 [==============================] - 3s 5ms/step - loss: 0.8479 - accuracy: 0.7503\n",
      "Epoch 32/120\n",
      "657/657 [==============================] - 3s 5ms/step - loss: 0.8405 - accuracy: 0.7549\n",
      "Epoch 33/120\n",
      "657/657 [==============================] - 3s 5ms/step - loss: 0.8211 - accuracy: 0.7588\n",
      "Epoch 34/120\n",
      "657/657 [==============================] - 3s 5ms/step - loss: 0.8059 - accuracy: 0.7614\n",
      "Epoch 35/120\n",
      "657/657 [==============================] - 4s 5ms/step - loss: 0.7941 - accuracy: 0.7649\n",
      "Epoch 36/120\n",
      "657/657 [==============================] - 3s 5ms/step - loss: 0.7780 - accuracy: 0.7701\n",
      "Epoch 37/120\n",
      "657/657 [==============================] - 4s 5ms/step - loss: 0.7641 - accuracy: 0.7744\n",
      "Epoch 38/120\n",
      "657/657 [==============================] - 3s 5ms/step - loss: 0.7426 - accuracy: 0.7826\n",
      "Epoch 39/120\n",
      "657/657 [==============================] - 3s 5ms/step - loss: 0.7355 - accuracy: 0.7843\n",
      "Epoch 40/120\n",
      "657/657 [==============================] - 3s 5ms/step - loss: 0.7351 - accuracy: 0.7870\n",
      "Epoch 41/120\n",
      "657/657 [==============================] - 3s 5ms/step - loss: 0.7174 - accuracy: 0.7892\n",
      "Epoch 42/120\n",
      "657/657 [==============================] - 3s 5ms/step - loss: 0.7094 - accuracy: 0.7908\n",
      "Epoch 43/120\n",
      "657/657 [==============================] - 3s 5ms/step - loss: 0.6993 - accuracy: 0.7946\n",
      "Epoch 44/120\n",
      "657/657 [==============================] - 4s 5ms/step - loss: 0.6859 - accuracy: 0.8002\n",
      "Epoch 45/120\n",
      "657/657 [==============================] - 4s 5ms/step - loss: 0.6739 - accuracy: 0.8003\n",
      "Epoch 46/120\n",
      "657/657 [==============================] - 4s 5ms/step - loss: 0.6683 - accuracy: 0.8053\n",
      "Epoch 47/120\n",
      "657/657 [==============================] - 3s 5ms/step - loss: 0.6668 - accuracy: 0.8066\n",
      "Epoch 48/120\n",
      "657/657 [==============================] - 3s 5ms/step - loss: 0.6490 - accuracy: 0.8109\n",
      "Epoch 49/120\n",
      "657/657 [==============================] - 3s 5ms/step - loss: 0.6426 - accuracy: 0.8139\n",
      "Epoch 50/120\n",
      "657/657 [==============================] - 3s 5ms/step - loss: 0.6282 - accuracy: 0.8155\n",
      "Epoch 51/120\n",
      "657/657 [==============================] - 4s 5ms/step - loss: 0.6234 - accuracy: 0.8199\n",
      "Epoch 52/120\n",
      "657/657 [==============================] - 3s 5ms/step - loss: 0.6176 - accuracy: 0.8197\n",
      "Epoch 53/120\n",
      "657/657 [==============================] - 4s 5ms/step - loss: 0.6061 - accuracy: 0.8230\n",
      "Epoch 54/120\n",
      "657/657 [==============================] - 4s 5ms/step - loss: 0.6072 - accuracy: 0.8264\n",
      "Epoch 55/120\n",
      "657/657 [==============================] - 3s 5ms/step - loss: 0.5891 - accuracy: 0.8307\n",
      "Epoch 56/120\n",
      "657/657 [==============================] - 4s 5ms/step - loss: 0.5912 - accuracy: 0.8279\n",
      "Epoch 57/120\n",
      "657/657 [==============================] - 3s 5ms/step - loss: 0.5841 - accuracy: 0.8297\n",
      "Epoch 58/120\n",
      "657/657 [==============================] - 3s 5ms/step - loss: 0.5774 - accuracy: 0.8316\n",
      "Epoch 59/120\n",
      "657/657 [==============================] - 3s 5ms/step - loss: 0.5625 - accuracy: 0.8377\n",
      "Epoch 60/120\n",
      "657/657 [==============================] - 4s 5ms/step - loss: 0.5540 - accuracy: 0.8400\n",
      "Epoch 61/120\n",
      "657/657 [==============================] - 4s 5ms/step - loss: 0.5505 - accuracy: 0.8418\n",
      "Epoch 62/120\n",
      "657/657 [==============================] - 4s 5ms/step - loss: 0.5437 - accuracy: 0.8428\n",
      "Epoch 63/120\n",
      "657/657 [==============================] - 3s 5ms/step - loss: 0.5368 - accuracy: 0.8458\n",
      "Epoch 64/120\n",
      "657/657 [==============================] - 4s 6ms/step - loss: 0.5340 - accuracy: 0.8479\n",
      "Epoch 65/120\n",
      "657/657 [==============================] - 3s 5ms/step - loss: 0.5298 - accuracy: 0.8478\n",
      "Epoch 66/120\n",
      "657/657 [==============================] - 4s 5ms/step - loss: 0.5183 - accuracy: 0.8503\n",
      "Epoch 67/120\n",
      "657/657 [==============================] - 4s 5ms/step - loss: 0.5153 - accuracy: 0.8499\n",
      "Epoch 68/120\n",
      "657/657 [==============================] - 3s 5ms/step - loss: 0.5149 - accuracy: 0.8505\n",
      "Epoch 69/120\n",
      "657/657 [==============================] - 3s 5ms/step - loss: 0.5100 - accuracy: 0.8521\n",
      "Epoch 70/120\n",
      "657/657 [==============================] - 3s 5ms/step - loss: 0.5030 - accuracy: 0.8560\n",
      "Epoch 71/120\n",
      "657/657 [==============================] - 3s 5ms/step - loss: 0.4970 - accuracy: 0.8579\n",
      "Epoch 72/120\n",
      "657/657 [==============================] - 3s 5ms/step - loss: 0.4896 - accuracy: 0.8597\n",
      "Epoch 73/120\n",
      "657/657 [==============================] - 3s 5ms/step - loss: 0.4915 - accuracy: 0.8590\n",
      "Epoch 74/120\n",
      "657/657 [==============================] - 3s 5ms/step - loss: 0.4807 - accuracy: 0.8631\n",
      "Epoch 75/120\n",
      "657/657 [==============================] - 3s 5ms/step - loss: 0.4792 - accuracy: 0.8641\n",
      "Epoch 76/120\n",
      "657/657 [==============================] - 3s 5ms/step - loss: 0.4729 - accuracy: 0.8639\n",
      "Epoch 77/120\n",
      "657/657 [==============================] - 3s 5ms/step - loss: 0.4735 - accuracy: 0.8642\n",
      "Epoch 78/120\n",
      "657/657 [==============================] - 4s 5ms/step - loss: 0.4609 - accuracy: 0.8672\n",
      "Epoch 79/120\n",
      "657/657 [==============================] - 3s 5ms/step - loss: 0.4542 - accuracy: 0.8691\n",
      "Epoch 80/120\n",
      "657/657 [==============================] - 3s 5ms/step - loss: 0.4560 - accuracy: 0.8698\n",
      "Epoch 81/120\n"
     ]
    },
    {
     "name": "stdout",
     "output_type": "stream",
     "text": [
      "657/657 [==============================] - 4s 5ms/step - loss: 0.4504 - accuracy: 0.8716\n",
      "Epoch 82/120\n",
      "657/657 [==============================] - 4s 5ms/step - loss: 0.4428 - accuracy: 0.8731\n",
      "Epoch 83/120\n",
      "657/657 [==============================] - 4s 5ms/step - loss: 0.4395 - accuracy: 0.8734\n",
      "Epoch 84/120\n",
      "657/657 [==============================] - 3s 5ms/step - loss: 0.4361 - accuracy: 0.8758\n",
      "Epoch 85/120\n",
      "657/657 [==============================] - 4s 5ms/step - loss: 0.4303 - accuracy: 0.8779\n",
      "Epoch 86/120\n",
      "657/657 [==============================] - 3s 5ms/step - loss: 0.4324 - accuracy: 0.8730\n",
      "Epoch 87/120\n",
      "657/657 [==============================] - 3s 5ms/step - loss: 0.4243 - accuracy: 0.8786\n",
      "Epoch 88/120\n",
      "657/657 [==============================] - 3s 5ms/step - loss: 0.4220 - accuracy: 0.8820\n",
      "Epoch 89/120\n",
      "657/657 [==============================] - 3s 5ms/step - loss: 0.4235 - accuracy: 0.8800\n",
      "Epoch 90/120\n",
      "657/657 [==============================] - 3s 5ms/step - loss: 0.4138 - accuracy: 0.8814\n",
      "Epoch 91/120\n",
      "657/657 [==============================] - 3s 5ms/step - loss: 0.4097 - accuracy: 0.8813\n",
      "Epoch 92/120\n",
      "657/657 [==============================] - 4s 5ms/step - loss: 0.4107 - accuracy: 0.8834\n",
      "Epoch 93/120\n",
      "657/657 [==============================] - 3s 5ms/step - loss: 0.4053 - accuracy: 0.8836\n",
      "Epoch 94/120\n",
      "657/657 [==============================] - 3s 5ms/step - loss: 0.4020 - accuracy: 0.8844\n",
      "Epoch 95/120\n",
      "657/657 [==============================] - 4s 5ms/step - loss: 0.3926 - accuracy: 0.8854\n",
      "Epoch 96/120\n",
      "657/657 [==============================] - 4s 5ms/step - loss: 0.3991 - accuracy: 0.8861\n",
      "Epoch 97/120\n",
      "657/657 [==============================] - 3s 5ms/step - loss: 0.3914 - accuracy: 0.8881\n",
      "Epoch 98/120\n",
      "657/657 [==============================] - 4s 5ms/step - loss: 0.3877 - accuracy: 0.8878\n",
      "Epoch 99/120\n",
      "657/657 [==============================] - 4s 5ms/step - loss: 0.3900 - accuracy: 0.8882\n",
      "Epoch 100/120\n",
      "657/657 [==============================] - 4s 5ms/step - loss: 0.3897 - accuracy: 0.8895\n",
      "Epoch 101/120\n",
      "657/657 [==============================] - 4s 5ms/step - loss: 0.3762 - accuracy: 0.8907\n",
      "Epoch 102/120\n",
      "657/657 [==============================] - 4s 5ms/step - loss: 0.3721 - accuracy: 0.8922\n",
      "Epoch 103/120\n",
      "657/657 [==============================] - 4s 5ms/step - loss: 0.3739 - accuracy: 0.8931\n",
      "Epoch 104/120\n",
      "657/657 [==============================] - 4s 5ms/step - loss: 0.3659 - accuracy: 0.8939\n",
      "Epoch 105/120\n",
      "657/657 [==============================] - 3s 5ms/step - loss: 0.3674 - accuracy: 0.8951\n",
      "Epoch 106/120\n",
      "657/657 [==============================] - 4s 5ms/step - loss: 0.3662 - accuracy: 0.8942\n",
      "Epoch 107/120\n",
      "657/657 [==============================] - 4s 5ms/step - loss: 0.3607 - accuracy: 0.8992\n",
      "Epoch 108/120\n",
      "657/657 [==============================] - 4s 5ms/step - loss: 0.3525 - accuracy: 0.8983\n",
      "Epoch 109/120\n",
      "657/657 [==============================] - 4s 5ms/step - loss: 0.3491 - accuracy: 0.8988\n",
      "Epoch 110/120\n",
      "657/657 [==============================] - 4s 5ms/step - loss: 0.3559 - accuracy: 0.8997\n",
      "Epoch 111/120\n",
      "657/657 [==============================] - 3s 5ms/step - loss: 0.3474 - accuracy: 0.9002\n",
      "Epoch 112/120\n",
      "657/657 [==============================] - 3s 5ms/step - loss: 0.3512 - accuracy: 0.9007\n",
      "Epoch 113/120\n",
      "657/657 [==============================] - 3s 5ms/step - loss: 0.3448 - accuracy: 0.9005\n",
      "Epoch 114/120\n",
      "657/657 [==============================] - 4s 5ms/step - loss: 0.3474 - accuracy: 0.9008\n",
      "Epoch 115/120\n",
      "657/657 [==============================] - 4s 6ms/step - loss: 0.3484 - accuracy: 0.9016\n",
      "Epoch 116/120\n",
      "657/657 [==============================] - 4s 6ms/step - loss: 0.3379 - accuracy: 0.9042\n",
      "Epoch 117/120\n",
      "657/657 [==============================] - 4s 6ms/step - loss: 0.3309 - accuracy: 0.9046\n",
      "Epoch 118/120\n",
      "657/657 [==============================] - 3s 5ms/step - loss: 0.3343 - accuracy: 0.9029\n",
      "Epoch 119/120\n",
      "657/657 [==============================] - 3s 5ms/step - loss: 0.3299 - accuracy: 0.9057\n",
      "Epoch 120/120\n",
      "657/657 [==============================] - 4s 5ms/step - loss: 0.3335 - accuracy: 0.9041\n"
     ]
    },
    {
     "data": {
      "text/plain": [
       "<tensorflow.python.keras.callbacks.History at 0x7fb98011bd00>"
      ]
     },
     "execution_count": 8,
     "metadata": {},
     "output_type": "execute_result"
    }
   ],
   "source": [
    "# Setup parameters and environment\n",
    "setup_growth()\n",
    "num_classes = len(np.unique(mnist.targets))\n",
    "epochs = 120\n",
    "batch_size = 80\n",
    "\n",
    "# Create and fit model\n",
    "base_model = fchollet_cnn(output=num_classes)\n",
    "base_model.compile(optimizer=\"adadelta\", loss=\"sparse_categorical_crossentropy\", metrics=[\"accuracy\"])\n",
    "base_model.fit(x_train, y_train, epochs=epochs, batch_size=batch_size)"
   ]
  },
  {
   "cell_type": "code",
   "execution_count": 9,
   "id": "3d3bc68a",
   "metadata": {},
   "outputs": [
    {
     "name": "stdout",
     "output_type": "stream",
     "text": [
      "547/547 [==============================] - 5s 9ms/step - loss: 0.1476 - accuracy: 0.9601\n"
     ]
    },
    {
     "data": {
      "text/plain": [
       "[0.14763230085372925, 0.9601143002510071]"
      ]
     },
     "execution_count": 9,
     "metadata": {},
     "output_type": "execute_result"
    }
   ],
   "source": [
    "base_model.evaluate(x_test, y_test)"
   ]
  },
  {
   "cell_type": "markdown",
   "id": "15cac61c",
   "metadata": {},
   "source": [
    "# Compare Entropy values"
   ]
  },
  {
   "cell_type": "code",
   "execution_count": 10,
   "id": "0b2a2846",
   "metadata": {},
   "outputs": [],
   "source": [
    "comp_inputs = x_test[:100]\n",
    "comp_targets = y_test[:100]"
   ]
  },
  {
   "cell_type": "code",
   "execution_count": 12,
   "id": "a1ea6694",
   "metadata": {},
   "outputs": [],
   "source": [
    "def create_mean_df(values, targets):\n",
    "    \"\"\"\n",
    "        Average values per class and plot values into single plot\n",
    "        \n",
    "        Parmeters:\n",
    "            values (numpy.ndarray):\n",
    "            targets (numpy.ndarray): \n",
    "    \"\"\"\n",
    "    unique_targets = np.unique(targets)\n",
    "    \n",
    "    # Calculate mean values per class\n",
    "    mean_values = []\n",
    "    for u_target in unique_targets:\n",
    "        selector = (targets == u_target)\n",
    "        target_values = values[selector]\n",
    "        mean_values.append(np.mean(target_values))\n",
    "    \n",
    "    # Plot values\n",
    "    mean_values = np.array(mean_values)\n",
    "    return pd.DataFrame({\"targets\": unique_targets, \"mean_values\": mean_values})"
   ]
  },
  {
   "cell_type": "code",
   "execution_count": 13,
   "id": "996cdd8e",
   "metadata": {},
   "outputs": [],
   "source": [
    "def plot_mean_df(data, x_label, y_label):\n",
    "    sns.barplot(data=df, x=\"targets\", y=\"mean_values\")\n",
    "    plt.xlabel(x_label)\n",
    "    plt.ylabel(y_label)"
   ]
  },
  {
   "cell_type": "code",
   "execution_count": 23,
   "id": "48f814a3",
   "metadata": {},
   "outputs": [
    {
     "data": {
      "image/png": "[encoded data removed]",
      "text/html": [
       "<div style=\"vertical-align: middle;\"><strong>mako</strong> </div><div class=\"cmap\"><img alt=\"mako colormap\" title=\"mako\" style=\"border: 1px solid #555;\" src=\"data:image/png;base64,iVBORw0KGgoAAAANSUhEUgAAAgAAAABACAYAAABsv8+/AAAAE3RFWHRUaXRsZQBtYWtvIGNvbG9ybWFwf+ab6gAAABl0RVh0RGVzY3JpcHRpb24AbWFrbyBjb2xvcm1hcPRUC3IAAAAwdEVYdEF1dGhvcgBNYXRwbG90bGliIHYzLjQuMiwgaHR0cHM6Ly9tYXRwbG90bGliLm9yZ6zWY90AAAAydEVYdFNvZnR3YXJlAE1hdHBsb3RsaWIgdjMuNC4yLCBodHRwczovL21hdHBsb3RsaWIub3JngnD8+gAAAg1JREFUeJzt1juS2zAURcEHsBx5/+vVJJRcBAFDnPR2Jyx8SY0dnPb3+POqqmqtVVVVq/PZel3mP+vj/GK8vGcY7/Y9Xv/dubp91/xcLX//e30xv7h/nK9f3le3+97j+e/89zuu++7nh3urTedrcc9+/f/j12q9t2F9Pv7M93FfLe6rzb6az7f3/HVc13/G+/r2/vl7bs/+3b7l+7fnN+8fvv/r967uv90zP9++Pj/f1zbf0xb3rM618f4+Pzee38739t2+zbMP37Vcb69hfF1/+jwW46OG8fmi47ZvnG+P5vtt/vpcrY/z/fzDfdafzp/jfv4H7eN8u84fNZ9/es9yfwEAcQQAAAQSAAAQSAAAQCABAACBBAAABBIAABBIAABAIAEAAIEEAAAEEgAAEEgAAEAgAQAAgQQAAAQSAAAQSAAAQCABAACBBAAABBIAABBIAABAIAEAAIEEAAAEEgAAEEgAAEAgAQAAgQQAAAQSAAAQSAAAQCABAACBBAAABBIAABBIAABAIAEAAIEEAAAEEgAAEEgAAEAgAQAAgQQAAAQSAAAQSAAAQCABAACBBAAABBIAABBIAABAIAEAAIEEAAAEEgAAEEgAAEAgAQAAgQQAAAQSAAAQSAAAQCABAACBBAAABBIAABBIAABAIAEAAIEEAAAEEgAAEEgAAEAgAQAAgQQAAAQSAAAQ6AcTSxI150SdAwAAAABJRU5ErkJggg==\"></div><div style=\"vertical-align: middle; max-width: 514px; display: flex; justify-content: space-between;\"><div style=\"float: left;\"><div title=\"#0b0405ff\" style=\"display: inline-block; width: 1em; height: 1em; margin: 0; vertical-align: middle; border: 1px solid #555; background-color: #0b0405ff;\"></div> under</div><div style=\"margin: 0 auto; display: inline-block;\">bad <div title=\"#00000000\" style=\"display: inline-block; width: 1em; height: 1em; margin: 0; vertical-align: middle; border: 1px solid #555; background-color: #00000000;\"></div></div><div style=\"float: right;\">over <div title=\"#def5e5ff\" style=\"display: inline-block; width: 1em; height: 1em; margin: 0; vertical-align: middle; border: 1px solid #555; background-color: #def5e5ff;\"></div></div>"
      ],
      "text/plain": [
       "<matplotlib.colors.ListedColormap at 0x7fb9fe8190a0>"
      ]
     },
     "execution_count": 23,
     "metadata": {},
     "output_type": "execute_result"
    }
   ],
   "source": [
    "sns.color_palette(\"mako\", as_cmap=True)"
   ]
  },
  {
   "cell_type": "code",
   "execution_count": 61,
   "id": "7a19db35",
   "metadata": {},
   "outputs": [
    {
     "name": "stdout",
     "output_type": "stream",
     "text": [
      "Pred. shape: (100, 500, 10) '(num_datapoints, sample_size, target_size)'\n"
     ]
    }
   ],
   "source": [
    "# MC Dropout Model\n",
    "mc_model = McDropout(base_model)\n",
    "mc_pred = mc_model(comp_inputs, sample_size=500)\n",
    "print(\"Pred. shape: {} '(num_datapoints, sample_size, target_size)'\".format(mc_pred.shape))"
   ]
  },
  {
   "cell_type": "code",
   "execution_count": 62,
   "id": "0623dee9",
   "metadata": {},
   "outputs": [],
   "source": [
    "# MC Dropout NLL\n",
    "mc_nll = mc_model.nll(mc_pred, comp_targets)\n",
    "df_mc_nll = create_mean_df(mc_nll, comp_targets)\n",
    "df_mc_nll.insert(1, \"metric\", \"NLL\")\n",
    "df_mc_nll.insert(1, \"model\", \"MC Dropout\")"
   ]
  },
  {
   "cell_type": "code",
   "execution_count": 63,
   "id": "e0a93437",
   "metadata": {},
   "outputs": [],
   "source": [
    "# MC Dropout Entropy\n",
    "mc_entropy = mc_model.entropy(mc_pred)\n",
    "df_mc_entropy = create_mean_df(mc_entropy, comp_targets)\n",
    "df_mc_entropy.insert(1, \"metric\", \"Entropy\")\n",
    "df_mc_entropy.insert(1, \"model\", \"MC Dropout\")"
   ]
  },
  {
   "cell_type": "code",
   "execution_count": 64,
   "id": "fa18d164",
   "metadata": {},
   "outputs": [],
   "source": [
    "# MP Model\n",
    "mp_model = MomentPropagation(base_model)\n",
    "mp_exp, mp_var = mp_model(comp_inputs)"
   ]
  },
  {
   "cell_type": "code",
   "execution_count": 65,
   "id": "bfb07e5e",
   "metadata": {},
   "outputs": [],
   "source": [
    "# MP NLL\n",
    "mp_nll = mp_model.nll(mp_exp, comp_targets)\n",
    "df_mp_nll = create_mean_df(mp_nll, comp_targets)\n",
    "df_mp_nll.insert(1, \"metric\", \"NLL\")\n",
    "df_mp_nll.insert(1, \"model\", \"Moment Propagation\")"
   ]
  },
  {
   "cell_type": "code",
   "execution_count": 66,
   "id": "73f38685",
   "metadata": {},
   "outputs": [],
   "source": [
    "# MP entropy\n",
    "mp_entropy = mp_model.entropy(mp_exp)\n",
    "df_mp_entropy = create_mean_df(mp_entropy, comp_targets)\n",
    "df_mp_entropy.insert(1, \"metric\", \"Entropy\")\n",
    "df_mp_entropy.insert(1, \"model\", \"Moment Propagation\")"
   ]
  },
  {
   "cell_type": "code",
   "execution_count": 82,
   "id": "1d8e0c18",
   "metadata": {},
   "outputs": [],
   "source": [
    "metrics_entropy = pd.concat([df_mc_entropy, df_mp_entropy])\n",
    "metrics_nll = pd.concat([df_mc_nll, df_mp_nll])"
   ]
  },
  {
   "cell_type": "code",
   "execution_count": 95,
   "id": "02f83c58",
   "metadata": {},
   "outputs": [
    {
     "data": {
      "text/plain": [
       "Text(0.5, 1.0, 'NLL Comparison')"
      ]
     },
     "execution_count": 95,
     "metadata": {},
     "output_type": "execute_result"
    },
    {
     "data": {
      "image/png": "[encoded data removed]",
      "text/plain": [
       "<Figure size 1080x360 with 2 Axes>"
      ]
     },
     "metadata": {
      "needs_background": "light"
     },
     "output_type": "display_data"
    }
   ],
   "source": [
    "fig, axes = plt.subplots(1, 2, figsize=(15, 5))\n",
    "\n",
    "sns.barplot(ax=axes[0], data=metrics_entropy, y=\"mean_values\", x=\"targets\", hue=\"model\")\n",
    "axes[0].set_xlabel(\"Target labels\")\n",
    "axes[0].set_ylabel(\"Entropy\")\n",
    "axes[0].set_title(\"Entropy Comparison\")\n",
    "\n",
    "sns.barplot(ax=axes[1], data=metrics_nll, y=\"mean_values\", x=\"targets\", hue=\"model\")\n",
    "axes[1].set_xlabel(\"Target labels\")\n",
    "axes[1].set_ylabel(\"NLL\")\n",
    "axes[1].set_title(\"NLL Comparison\")"
   ]
  },
  {
   "cell_type": "code",
   "execution_count": null,
   "id": "95b60eb1",
   "metadata": {},
   "outputs": [],
   "source": []
  }
 ],
 "metadata": {
  "kernelspec": {
   "display_name": "Python 3",
   "language": "python",
   "name": "python3"
  },
  "language_info": {
   "codemirror_mode": {
    "name": "ipython",
    "version": 3
   },
   "file_extension": ".py",
   "mimetype": "text/x-python",
   "name": "python",
   "nbconvert_exporter": "python",
   "pygments_lexer": "ipython3",
   "version": "3.8.8"
  }
 },
 "nbformat": 4,
 "nbformat_minor": 5
}
