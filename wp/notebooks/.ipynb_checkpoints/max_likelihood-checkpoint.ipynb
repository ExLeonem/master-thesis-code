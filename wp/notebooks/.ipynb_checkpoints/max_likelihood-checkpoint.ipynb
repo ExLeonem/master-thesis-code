{
 "cells": [
  {
   "cell_type": "markdown",
   "id": "minute-payday",
   "metadata": {},
   "source": [
    "# Max-Likelihood"
   ]
  },
  {
   "cell_type": "code",
   "execution_count": 5,
   "id": "oriented-minnesota",
   "metadata": {},
   "outputs": [],
   "source": [
    "import numpy as np\n",
    "import pandas as pd\n",
    "import matplotlib.pyplot as plt\n",
    "from scipy.stats import binom"
   ]
  },
  {
   "cell_type": "code",
   "execution_count": 8,
   "id": "precise-mount",
   "metadata": {},
   "outputs": [
    {
     "data": {
      "text/plain": [
       "array([ 0,  1,  2,  3,  4,  5,  6,  7,  8,  9, 10])"
      ]
     },
     "execution_count": 8,
     "metadata": {},
     "output_type": "execute_result"
    }
   ],
   "source": [
    "# Array indicating number of throws\n",
    "n_dollar = np.asarray(np.linspace(0, 10, 11), dtype=int)\n",
    "n_dollar"
   ]
  },
  {
   "cell_type": "code",
   "execution_count": null,
   "id": "given-demand",
   "metadata": {},
   "outputs": [],
   "source": [
    "# binom(k, n, p)\n",
    "# k = number of success\n",
    "# n = number of trials\n",
    "# p = probability of single success"
   ]
  },
  {
   "cell_type": "code",
   "execution_count": 15,
   "id": "retired-portfolio",
   "metadata": {},
   "outputs": [
    {
     "data": {
      "text/plain": [
       "array([1.61505583e-01, 3.23011166e-01, 2.90710049e-01, 1.55045360e-01,\n",
       "       5.42658759e-02, 1.30238102e-02, 2.17063503e-03, 2.48072575e-04,\n",
       "       1.86054431e-05, 8.26908584e-07, 1.65381717e-08])"
      ]
     },
     "execution_count": 15,
     "metadata": {},
     "output_type": "execute_result"
    }
   ],
   "source": [
    "# Probabilities of event occuring n-times\n",
    "p_dollar_sign = binom.pmf(k=n_dollar, n=10, p=1/6)\n",
    "p_dollar_sign"
   ]
  },
  {
   "cell_type": "code",
   "execution_count": 16,
   "id": "ceramic-rates",
   "metadata": {},
   "outputs": [
    {
     "data": {
      "text/plain": [
       "Text(0, 0.5, 'Probability')"
      ]
     },
     "execution_count": 16,
     "metadata": {},
     "output_type": "execute_result"
    },
    {
     "data": {
      "image/png": "[encoded data removed]",
      "text/plain": [
       "<Figure size 432x288 with 1 Axes>"
      ]
     },
     "metadata": {
      "needs_background": "light"
     },
     "output_type": "display_data"
    }
   ],
   "source": [
    "plt.stem(n_dollar, p_dollar_sign)\n",
    "plt.xlabel(\"Number of dollar sign\")\n",
    "plt.ylabel(\"Probability\")"
   ]
  },
  {
   "cell_type": "code",
   "execution_count": 22,
   "id": "jewish-plasma",
   "metadata": {},
   "outputs": [
    {
     "data": {
      "text/plain": [
       "array([0.00000000e+00, 2.90710049e-01, 1.95092212e-01, 4.39453125e-02,\n",
       "       3.04831581e-03, 1.86054431e-05, 0.00000000e+00])"
      ]
     },
     "execution_count": 22,
     "metadata": {},
     "output_type": "execute_result"
    }
   ],
   "source": [
    "# Probability of getting 2-dollar signs for n-throws\n",
    "n_dollar = np.asarray(np.linspace(0, 6, 7), dtype=int)\n",
    "p_dollar_signs = binom.pmf(k=2, n=10, p=n_dollar/6)\n",
    "p_dollar_signs"
   ]
  },
  {
   "cell_type": "code",
   "execution_count": 23,
   "id": "reasonable-spyware",
   "metadata": {},
   "outputs": [
    {
     "data": {
      "text/plain": [
       "<StemContainer object of 3 artists>"
      ]
     },
     "execution_count": 23,
     "metadata": {},
     "output_type": "execute_result"
    },
    {
     "data": {
      "image/png": "[encoded data removed]",
      "text/plain": [
       "<Figure size 432x288 with 1 Axes>"
      ]
     },
     "metadata": {
      "needs_background": "light"
     },
     "output_type": "display_data"
    }
   ],
   "source": [
    "plt.stem(n_dollar, p_dollar_signs)"
   ]
  },
  {
   "cell_type": "markdown",
   "id": "executed-mining",
   "metadata": {},
   "source": [
    "## Numerical Stability\n",
    "\n"
   ]
  },
  {
   "cell_type": "code",
   "execution_count": 25,
   "id": "maritime-virginia",
   "metadata": {},
   "outputs": [
    {
     "name": "stdout",
     "output_type": "stream",
     "text": [
      "6.355960949409277e-53 0.0\n"
     ]
    }
   ],
   "source": [
    "# Sample n-values from uniform distribution [0, 1]\n",
    "vals_100 = np.random.uniform(0, 1, 100)\n",
    "vals_1000 = np.random.uniform(0, 1, 1000)\n",
    "\n",
    "# Multiple n-values\n",
    "x_100 = np.product(vals_100)\n",
    "x_1000 = np.product(vals_1000)\n",
    "\n",
    "print(x_100, x_1000)"
   ]
  },
  {
   "cell_type": "code",
   "execution_count": null,
   "id": "reverse-mexican",
   "metadata": {},
   "outputs": [],
   "source": []
  },
  {
   "cell_type": "code",
   "execution_count": null,
   "id": "adjusted-disorder",
   "metadata": {},
   "outputs": [],
   "source": []
  },
  {
   "cell_type": "code",
   "execution_count": null,
   "id": "rubber-editor",
   "metadata": {},
   "outputs": [],
   "source": []
  },
  {
   "cell_type": "code",
   "execution_count": null,
   "id": "functioning-milan",
   "metadata": {},
   "outputs": [],
   "source": []
  },
  {
   "cell_type": "code",
   "execution_count": null,
   "id": "expired-funeral",
   "metadata": {},
   "outputs": [],
   "source": []
  },
  {
   "cell_type": "code",
   "execution_count": null,
   "id": "enabling-palace",
   "metadata": {},
   "outputs": [],
   "source": []
  },
  {
   "cell_type": "code",
   "execution_count": null,
   "id": "protected-arcade",
   "metadata": {},
   "outputs": [],
   "source": []
  },
  {
   "cell_type": "code",
   "execution_count": null,
   "id": "reserved-pressing",
   "metadata": {},
   "outputs": [],
   "source": []
  },
  {
   "cell_type": "code",
   "execution_count": null,
   "id": "refined-bridges",
   "metadata": {},
   "outputs": [],
   "source": []
  },
  {
   "cell_type": "code",
   "execution_count": null,
   "id": "eastern-murray",
   "metadata": {},
   "outputs": [],
   "source": []
  },
  {
   "cell_type": "code",
   "execution_count": null,
   "id": "standing-trust",
   "metadata": {},
   "outputs": [],
   "source": []
  },
  {
   "cell_type": "code",
   "execution_count": null,
   "id": "competent-story",
   "metadata": {},
   "outputs": [],
   "source": []
  },
  {
   "cell_type": "code",
   "execution_count": null,
   "id": "valuable-butterfly",
   "metadata": {},
   "outputs": [],
   "source": []
  },
  {
   "cell_type": "code",
   "execution_count": null,
   "id": "compatible-threshold",
   "metadata": {},
   "outputs": [],
   "source": []
  }
 ],
 "metadata": {
  "kernelspec": {
   "display_name": "Python 3",
   "language": "python",
   "name": "python3"
  },
  "language_info": {
   "codemirror_mode": {
    "name": "ipython",
    "version": 3
   },
   "file_extension": ".py",
   "mimetype": "text/x-python",
   "name": "python",
   "nbconvert_exporter": "python",
   "pygments_lexer": "ipython3",
   "version": "3.8.6"
  }
 },
 "nbformat": 4,
 "nbformat_minor": 5
}
