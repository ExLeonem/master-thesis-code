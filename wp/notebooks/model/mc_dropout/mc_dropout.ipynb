{
 "cells": [
  {
   "cell_type": "markdown",
   "id": "7c55e643",
   "metadata": {},
   "source": [
    "## General functionality of MC Dropout"
   ]
  },
  {
   "cell_type": "code",
   "execution_count": 1,
   "id": "bf8c4859",
   "metadata": {},
   "outputs": [],
   "source": [
    "%load_ext autoreload"
   ]
  },
  {
   "cell_type": "code",
   "execution_count": 2,
   "id": "4da92b84",
   "metadata": {},
   "outputs": [],
   "source": [
    "import os, sys, importlib\n",
    "import pandas as pd\n",
    "import numpy as np\n",
    "import matplotlib.pyplot as plt\n",
    "import seaborn as sns\n",
    "\n",
    "from sklearn.model_selection import train_test_split\n",
    "from sklearn.metrics import accuracy_score\n",
    "\n",
    "import tensorflow as tf\n",
    "\n",
    "BASE_PATH = os.path.join(os.getcwd(), \"..\", \"..\", \"..\")\n",
    "MODULE_PATH = os.path.join(BASE_PATH, \"modules\")\n",
    "DATASET_PATH = os.path.join(BASE_PATH, \"datasets\")\n",
    "\n",
    "sys.path.append(MODULE_PATH)\n",
    "\n",
    "from bayesian import McDropout\n",
    "from data import BenchmarkData, DataSetType\n",
    "from models import setup_growth, FcholletCNN"
   ]
  },
  {
   "cell_type": "code",
   "execution_count": 3,
   "id": "535a20d2",
   "metadata": {},
   "outputs": [
    {
     "name": "stdout",
     "output_type": "stream",
     "text": [
      "1 Physical GPU's,  1 Logical GPU's\n"
     ]
    }
   ],
   "source": [
    "setup_growth()"
   ]
  },
  {
   "cell_type": "code",
   "execution_count": 4,
   "id": "88f9c5cc",
   "metadata": {},
   "outputs": [],
   "source": [
    "benchmark_data = BenchmarkData(DataSetType.MNIST, os.path.join(DATASET_PATH, \"mnist\"), classes=4, dtype=np.float32)"
   ]
  },
  {
   "cell_type": "code",
   "execution_count": 5,
   "id": "8449c56f",
   "metadata": {},
   "outputs": [
    {
     "data": {
      "text/plain": [
       "(28911, 28, 28, 1)"
      ]
     },
     "execution_count": 5,
     "metadata": {},
     "output_type": "execute_result"
    }
   ],
   "source": [
    "benchmark_data.inputs.shape"
   ]
  },
  {
   "cell_type": "code",
   "execution_count": 6,
   "id": "33e8a463",
   "metadata": {},
   "outputs": [],
   "source": [
    "inputs = benchmark_data.inputs\n",
    "targets = benchmark_data.targets\n",
    "\n",
    "selector = np.isin(targets, np.unique(targets)[:-1])\n",
    "new_targets = targets[selector]\n",
    "new_inputs = inputs[selector]\n",
    "\n",
    "ood_selector = np.logical_not(selector)\n",
    "ood_targets = targets[ood_selector]\n",
    "ood_inputs = inputs[ood_selector]"
   ]
  },
  {
   "cell_type": "code",
   "execution_count": 7,
   "id": "9aabf037",
   "metadata": {},
   "outputs": [],
   "source": [
    "x_train, x_test, y_train, y_test = train_test_split(new_inputs, new_targets)"
   ]
  },
  {
   "cell_type": "code",
   "execution_count": 8,
   "id": "402267c7",
   "metadata": {},
   "outputs": [
    {
     "name": "stdout",
     "output_type": "stream",
     "text": [
      "Model: \"Fchollet-CNN\"\n",
      "_________________________________________________________________\n",
      "Layer (type)                 Output Shape              Param #   \n",
      "=================================================================\n",
      "Convolutions (Sequential)    multiple                  18816     \n",
      "_________________________________________________________________\n",
      "flatten (Flatten)            multiple                  0         \n",
      "_________________________________________________________________\n",
      "Linear (Sequential)          multiple                  1606147   \n",
      "=================================================================\n",
      "Total params: 1,624,963\n",
      "Trainable params: 1,624,963\n",
      "Non-trainable params: 0\n",
      "_________________________________________________________________\n"
     ]
    }
   ],
   "source": [
    "%autoreload 2\n",
    "model = FcholletCNN(output=3)\n",
    "model.build(input_shape=inputs.shape)\n",
    "model.summary()"
   ]
  },
  {
   "cell_type": "code",
   "execution_count": 9,
   "id": "285f767b",
   "metadata": {},
   "outputs": [],
   "source": [
    "mc_dropout = McDropout(model)\n",
    "mc_dropout.compile(optimizer=\"adam\", loss=tf.keras.losses.SparseCategoricalCrossentropy(from_logits=True), metrics=[\"accuracy\"])"
   ]
  },
  {
   "cell_type": "code",
   "execution_count": 10,
   "id": "5bac5bf5",
   "metadata": {},
   "outputs": [
    {
     "name": "stdout",
     "output_type": "stream",
     "text": [
      "Epoch 1/10\n",
      "273/273 [==============================] - 8s 31ms/step - loss: 0.7371 - accuracy: 0.8142\n",
      "Epoch 2/10\n",
      "273/273 [==============================] - 1s 5ms/step - loss: 0.6109 - accuracy: 0.9405\n",
      "Epoch 3/10\n",
      "273/273 [==============================] - 1s 4ms/step - loss: 0.6031 - accuracy: 0.9482\n",
      "Epoch 4/10\n",
      "273/273 [==============================] - 1s 4ms/step - loss: 0.5937 - accuracy: 0.9577\n",
      "Epoch 5/10\n",
      "273/273 [==============================] - 1s 4ms/step - loss: 0.5987 - accuracy: 0.9528\n",
      "Epoch 6/10\n",
      "273/273 [==============================] - 1s 4ms/step - loss: 0.5931 - accuracy: 0.9583\n",
      "Epoch 7/10\n",
      "273/273 [==============================] - 1s 4ms/step - loss: 0.5817 - accuracy: 0.9697\n",
      "Epoch 8/10\n",
      "273/273 [==============================] - 1s 4ms/step - loss: 0.5818 - accuracy: 0.9697\n",
      "Epoch 9/10\n",
      "273/273 [==============================] - 1s 4ms/step - loss: 0.5761 - accuracy: 0.9753\n",
      "Epoch 10/10\n",
      "273/273 [==============================] - 1s 4ms/step - loss: 0.5785 - accuracy: 0.9729\n"
     ]
    },
    {
     "data": {
      "text/plain": [
       "<tensorflow.python.keras.callbacks.History at 0x7fe8ec1fd910>"
      ]
     },
     "execution_count": 10,
     "metadata": {},
     "output_type": "execute_result"
    }
   ],
   "source": [
    "mc_dropout.fit(x_train, y_train, epochs=10, batch_size=60)"
   ]
  },
  {
   "cell_type": "code",
   "execution_count": 11,
   "id": "fee80290",
   "metadata": {},
   "outputs": [],
   "source": [
    "predictions = []\n",
    "\n",
    "for i in range(10):\n",
    "    predictions.append(mc_dropout(x_test, batch_size=1000))"
   ]
  },
  {
   "cell_type": "code",
   "execution_count": 28,
   "id": "c6088dbd",
   "metadata": {},
   "outputs": [],
   "source": [
    "accs = []\n",
    "for pred in predictions:\n",
    "    score = accuracy_score(y_test, np.argmax(pred, axis=1))\n",
    "    accs.append(score)"
   ]
  },
  {
   "cell_type": "code",
   "execution_count": 29,
   "id": "7b111db9",
   "metadata": {},
   "outputs": [
    {
     "data": {
      "text/plain": [
       "0.9697225794598566"
      ]
     },
     "execution_count": 29,
     "metadata": {},
     "output_type": "execute_result"
    }
   ],
   "source": [
    "np.mean(accs)"
   ]
  },
  {
   "cell_type": "code",
   "execution_count": 32,
   "id": "399b9cba",
   "metadata": {},
   "outputs": [],
   "source": [
    "res = mc_dropout.___call__(x_test)"
   ]
  },
  {
   "cell_type": "code",
   "execution_count": 36,
   "id": "daa443df",
   "metadata": {},
   "outputs": [],
   "source": [
    "batches = np.split(res, 10, axis=0)"
   ]
  },
  {
   "cell_type": "code",
   "execution_count": 41,
   "id": "d13df8b2",
   "metadata": {},
   "outputs": [
    {
     "name": "stdout",
     "output_type": "stream",
     "text": [
      "0.9704207238655154\n",
      "0.9682160573213302\n",
      "0.9656439463531141\n",
      "0.968583501745361\n",
      "0.9706044460775308\n",
      "0.9704207238655154\n",
      "0.9695021128054382\n",
      "0.9678486128972993\n",
      "0.967297446261253\n",
      "0.9700532794414845\n"
     ]
    }
   ],
   "source": [
    "for batch in batches:\n",
    "    batch_res = np.argmax(batch, axis=-1)\n",
    "    batch_res = batch_res.reshape(batch_res.shape[-1])\n",
    "    acc = accuracy_score(batch_res, y_test)\n",
    "    print(acc)"
   ]
  },
  {
   "cell_type": "code",
   "execution_count": null,
   "id": "d0f2cbb3",
   "metadata": {},
   "outputs": [],
   "source": []
  },
  {
   "cell_type": "code",
   "execution_count": 13,
   "id": "53a6084f",
   "metadata": {},
   "outputs": [
    {
     "name": "stdout",
     "output_type": "stream",
     "text": [
      "171/171 [==============================] - 4s 23ms/step - loss: 0.5705 - accuracy: 0.9809\n"
     ]
    },
    {
     "data": {
      "text/plain": [
       "[0.57050621509552, 0.9808928966522217]"
      ]
     },
     "execution_count": 13,
     "metadata": {},
     "output_type": "execute_result"
    }
   ],
   "source": [
    "mc_dropout._model.evaluate(x_test, y_test)"
   ]
  },
  {
   "cell_type": "code",
   "execution_count": 14,
   "id": "b086ead1",
   "metadata": {},
   "outputs": [
    {
     "data": {
      "text/plain": [
       "[1.098945140838623, 0.3536652581297079]"
      ]
     },
     "execution_count": 14,
     "metadata": {},
     "output_type": "execute_result"
    }
   ],
   "source": [
    "%autoreload 2\n",
    "mc_dropout.evaluate(x_test, y_test, batch_size=60, runs=1)"
   ]
  },
  {
   "cell_type": "code",
   "execution_count": 15,
   "id": "20ee434b",
   "metadata": {},
   "outputs": [
    {
     "data": {
      "text/plain": [
       "(20, 10, 3)"
      ]
     },
     "execution_count": 15,
     "metadata": {},
     "output_type": "execute_result"
    }
   ],
   "source": [
    "%autoreload 2\n",
    "NUM_DATAPOINTS = 20\n",
    "\n",
    "result = mc_dropout.predict(x_test[:NUM_DATAPOINTS].astype(np.float32), runs=1000)\n",
    "result.shape"
   ]
  },
  {
   "cell_type": "code",
   "execution_count": 16,
   "id": "b42d16b3",
   "metadata": {},
   "outputs": [
    {
     "data": {
      "text/plain": [
       "array([[0.2, 0.3, 0.5],\n",
       "       [0.2, 0.5, 0.3],\n",
       "       [0.2, 0.3, 0.5],\n",
       "       [0.2, 0.5, 0.3],\n",
       "       [0.2, 0.3, 0.5],\n",
       "       [0.2, 0.5, 0.3],\n",
       "       [0.2, 0.3, 0.5],\n",
       "       [0.2, 0.6, 0.2],\n",
       "       [0.2, 0.3, 0.5],\n",
       "       [0.2, 0.6, 0.2],\n",
       "       [0.2, 0.3, 0.5],\n",
       "       [0.2, 0.5, 0.3],\n",
       "       [0.2, 0.3, 0.5],\n",
       "       [0.2, 0.6, 0.2],\n",
       "       [0.2, 0.3, 0.5],\n",
       "       [0.2, 0.6, 0.2],\n",
       "       [0.2, 0.3, 0.5],\n",
       "       [0.2, 0.6, 0.2],\n",
       "       [0.2, 0.3, 0.5],\n",
       "       [0.2, 0.6, 0.2]])"
      ]
     },
     "execution_count": 16,
     "metadata": {},
     "output_type": "execute_result"
    }
   ],
   "source": [
    "class_probs = np.mean(result, axis=1)\n",
    "class_probs"
   ]
  },
  {
   "cell_type": "code",
   "execution_count": 17,
   "id": "dbc9ce5e",
   "metadata": {},
   "outputs": [
    {
     "data": {
      "text/plain": [
       "array([2, 1, 2, 1, 2, 1, 2, 1, 2, 1, 2, 1, 2, 1, 2, 1, 2, 1, 2, 1])"
      ]
     },
     "execution_count": 17,
     "metadata": {},
     "output_type": "execute_result"
    }
   ],
   "source": [
    "label_prediction = np.argmax(class_probs, axis=1)\n",
    "label_prediction"
   ]
  },
  {
   "cell_type": "code",
   "execution_count": 18,
   "id": "4d3d3531",
   "metadata": {},
   "outputs": [
    {
     "data": {
      "text/plain": [
       "0.3"
      ]
     },
     "execution_count": 18,
     "metadata": {},
     "output_type": "execute_result"
    }
   ],
   "source": [
    "acc = np.mean(label_prediction == y_test[:NUM_DATAPOINTS])\n",
    "acc"
   ]
  },
  {
   "cell_type": "code",
   "execution_count": 19,
   "id": "ead5b91f",
   "metadata": {},
   "outputs": [],
   "source": [
    "# https://towardsdatascience.com/monte-carlo-dropout-7fd52f8b6571\n",
    "# https://towardsdatascience.com/estimating-uncertainty-in-machine-learning-models-part-3-22b8c58b07b\n",
    "# https://seaborn.pydata.org/tutorial/relational.html"
   ]
  },
  {
   "cell_type": "code",
   "execution_count": 20,
   "id": "c45f7f7f",
   "metadata": {},
   "outputs": [
    {
     "data": {
      "text/plain": [
       "(20, 10, 3)"
      ]
     },
     "execution_count": 20,
     "metadata": {},
     "output_type": "execute_result"
    }
   ],
   "source": [
    "result.shape"
   ]
  },
  {
   "cell_type": "code",
   "execution_count": 21,
   "id": "2ea89461",
   "metadata": {},
   "outputs": [],
   "source": [
    "def plot_class(datapoint_index=0, class_index=0):\n",
    "    sns.kdeplot(result[datapoint_index, :, class_index], shade=True)\n",
    "    plt.axvline(class_probs[datapoint_index, class_index], color=\"red\")\n",
    "    plt.show()"
   ]
  },
  {
   "cell_type": "code",
   "execution_count": 22,
   "id": "1b6e28aa",
   "metadata": {},
   "outputs": [
    {
     "data": {
      "image/png": "[encoded data removed]",
      "text/plain": [
       "<Figure size 432x288 with 1 Axes>"
      ]
     },
     "metadata": {
      "needs_background": "light"
     },
     "output_type": "display_data"
    }
   ],
   "source": [
    "plot_class()"
   ]
  },
  {
   "cell_type": "code",
   "execution_count": 23,
   "id": "0621a75b",
   "metadata": {},
   "outputs": [
    {
     "data": {
      "image/png": "[encoded data removed]",
      "text/plain": [
       "<Figure size 432x288 with 1 Axes>"
      ]
     },
     "metadata": {
      "needs_background": "light"
     },
     "output_type": "display_data"
    }
   ],
   "source": [
    "plot_class(0, 1)"
   ]
  },
  {
   "cell_type": "code",
   "execution_count": 24,
   "id": "16648d37",
   "metadata": {},
   "outputs": [
    {
     "data": {
      "text/plain": [
       "(20, 10, 3)"
      ]
     },
     "execution_count": 24,
     "metadata": {},
     "output_type": "execute_result"
    }
   ],
   "source": [
    "result.shape"
   ]
  },
  {
   "cell_type": "code",
   "execution_count": null,
   "id": "a77fed5c",
   "metadata": {},
   "outputs": [],
   "source": []
  },
  {
   "cell_type": "code",
   "execution_count": 25,
   "id": "9792f506",
   "metadata": {},
   "outputs": [],
   "source": [
    "df = pd.DataFrame()"
   ]
  },
  {
   "cell_type": "code",
   "execution_count": 26,
   "id": "63052611",
   "metadata": {},
   "outputs": [
    {
     "ename": "NameError",
     "evalue": "name 'fmri' is not defined",
     "output_type": "error",
     "traceback": [
      "\u001b[0;31m---------------------------------------------------------------------------\u001b[0m",
      "\u001b[0;31mNameError\u001b[0m                                 Traceback (most recent call last)",
      "\u001b[0;32m<ipython-input-26-3be9fbf6d0da>\u001b[0m in \u001b[0;36m<module>\u001b[0;34m\u001b[0m\n\u001b[0;32m----> 1\u001b[0;31m \u001b[0msns\u001b[0m\u001b[0;34m.\u001b[0m\u001b[0mrelplot\u001b[0m\u001b[0;34m(\u001b[0m\u001b[0mx\u001b[0m\u001b[0;34m=\u001b[0m\u001b[0;34m\"timepoint\"\u001b[0m\u001b[0;34m,\u001b[0m \u001b[0my\u001b[0m\u001b[0;34m=\u001b[0m\u001b[0;34m\"signal\"\u001b[0m\u001b[0;34m,\u001b[0m \u001b[0mkind\u001b[0m\u001b[0;34m=\u001b[0m\u001b[0;34m\"line\"\u001b[0m\u001b[0;34m,\u001b[0m \u001b[0mci\u001b[0m\u001b[0;34m=\u001b[0m\u001b[0;34m\"sd\"\u001b[0m\u001b[0;34m,\u001b[0m \u001b[0mdata\u001b[0m\u001b[0;34m=\u001b[0m\u001b[0mfmri\u001b[0m\u001b[0;34m)\u001b[0m\u001b[0;34m;\u001b[0m\u001b[0;34m\u001b[0m\u001b[0;34m\u001b[0m\u001b[0m\n\u001b[0m",
      "\u001b[0;31mNameError\u001b[0m: name 'fmri' is not defined"
     ]
    }
   ],
   "source": [
    "sns.relplot(x=\"timepoint\", y=\"signal\", kind=\"line\", ci=\"sd\", data=fmri);"
   ]
  }
 ],
 "metadata": {
  "kernelspec": {
   "display_name": "Python 3",
   "language": "python",
   "name": "python3"
  },
  "language_info": {
   "codemirror_mode": {
    "name": "ipython",
    "version": 3
   },
   "file_extension": ".py",
   "mimetype": "text/x-python",
   "name": "python",
   "nbconvert_exporter": "python",
   "pygments_lexer": "ipython3",
   "version": "3.8.8"
  }
 },
 "nbformat": 4,
 "nbformat_minor": 5
}
