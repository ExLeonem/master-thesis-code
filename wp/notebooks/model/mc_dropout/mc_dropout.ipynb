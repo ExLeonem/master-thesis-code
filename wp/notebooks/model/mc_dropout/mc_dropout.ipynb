{
 "cells": [
  {
   "cell_type": "markdown",
   "id": "7c55e643",
   "metadata": {},
   "source": [
    "## General functionality of MC Dropout"
   ]
  },
  {
   "cell_type": "code",
   "execution_count": 1,
   "id": "bf8c4859",
   "metadata": {},
   "outputs": [],
   "source": [
    "%load_ext autoreload"
   ]
  },
  {
   "cell_type": "code",
   "execution_count": 2,
   "id": "4da92b84",
   "metadata": {},
   "outputs": [],
   "source": [
    "import os, sys, importlib\n",
    "import pandas as pd\n",
    "import numpy as np\n",
    "import matplotlib.pyplot as plt\n",
    "import seaborn as sns\n",
    "\n",
    "from sklearn.model_selection import train_test_split\n",
    "\n",
    "import tensorflow as tf\n",
    "\n",
    "BASE_PATH = os.path.join(os.getcwd(), \"..\", \"..\")\n",
    "MODULE_PATH = os.path.join(BASE_PATH, \"modules\")\n",
    "DATASET_PATH = os.path.join(BASE_PATH, \"datasets\")\n",
    "\n",
    "sys.path.append(MODULE_PATH)\n",
    "\n",
    "from bayesian import McDropout\n",
    "from data import BenchmarkData, DataSetType\n",
    "from models import setup_growth, FcholletCNN"
   ]
  },
  {
   "cell_type": "code",
   "execution_count": 3,
   "id": "535a20d2",
   "metadata": {},
   "outputs": [
    {
     "name": "stdout",
     "output_type": "stream",
     "text": [
      "1 Physical GPU's,  1 Logical GPU's\n"
     ]
    }
   ],
   "source": [
    "setup_growth()"
   ]
  },
  {
   "cell_type": "code",
   "execution_count": 4,
   "id": "88f9c5cc",
   "metadata": {},
   "outputs": [],
   "source": [
    "benchmark_data = BenchmarkData(DataSetType.MNIST, os.path.join(DATASET_PATH, \"mnist\"), classes=4, dtype=np.float32)"
   ]
  },
  {
   "cell_type": "code",
   "execution_count": 5,
   "id": "8449c56f",
   "metadata": {},
   "outputs": [
    {
     "data": {
      "text/plain": [
       "(28911, 28, 28, 1)"
      ]
     },
     "execution_count": 5,
     "metadata": {},
     "output_type": "execute_result"
    }
   ],
   "source": [
    "benchmark_data.inputs.shape"
   ]
  },
  {
   "cell_type": "code",
   "execution_count": 6,
   "id": "33e8a463",
   "metadata": {},
   "outputs": [],
   "source": [
    "inputs = benchmark_data.inputs\n",
    "targets = benchmark_data.targets\n",
    "\n",
    "selector = np.isin(targets, np.unique(targets)[:-1])\n",
    "new_targets = targets[selector]\n",
    "new_inputs = inputs[selector]\n",
    "\n",
    "ood_selector = np.logical_not(selector)\n",
    "ood_targets = targets[ood_selector]\n",
    "ood_inputs = inputs[ood_selector]"
   ]
  },
  {
   "cell_type": "code",
   "execution_count": 7,
   "id": "9aabf037",
   "metadata": {},
   "outputs": [],
   "source": [
    "x_train, x_test, y_train, y_test = train_test_split(new_inputs, new_targets)"
   ]
  },
  {
   "cell_type": "code",
   "execution_count": 8,
   "id": "402267c7",
   "metadata": {},
   "outputs": [
    {
     "name": "stdout",
     "output_type": "stream",
     "text": [
      "Model: \"Fchollet-CNN\"\n",
      "_________________________________________________________________\n",
      "Layer (type)                 Output Shape              Param #   \n",
      "=================================================================\n",
      "Convolutions (Sequential)    multiple                  18816     \n",
      "_________________________________________________________________\n",
      "flatten (Flatten)            multiple                  0         \n",
      "_________________________________________________________________\n",
      "Linear (Sequential)          multiple                  1606147   \n",
      "=================================================================\n",
      "Total params: 1,624,963\n",
      "Trainable params: 1,624,963\n",
      "Non-trainable params: 0\n",
      "_________________________________________________________________\n"
     ]
    }
   ],
   "source": [
    "%autoreload 2\n",
    "model = FcholletCNN(output=3)\n",
    "model.build(input_shape=inputs.shape)\n",
    "model.summary()"
   ]
  },
  {
   "cell_type": "code",
   "execution_count": 14,
   "id": "285f767b",
   "metadata": {},
   "outputs": [],
   "source": [
    "mc_dropout = McDropout(model)\n",
    "mc_dropout.compile(optimizer=\"adam\", loss=tf.keras.losses.SparseCategoricalCrossentropy(from_logits=True), metrics=[\"accuracy\"])"
   ]
  },
  {
   "cell_type": "code",
   "execution_count": 13,
   "id": "5bac5bf5",
   "metadata": {},
   "outputs": [
    {
     "name": "stdout",
     "output_type": "stream",
     "text": [
      "Epoch 1/10\n",
      "273/273 [==============================] - 7s 26ms/step - loss: 0.6543 - accuracy: 0.8970\n",
      "Epoch 2/10\n",
      "273/273 [==============================] - 1s 4ms/step - loss: 0.5977 - accuracy: 0.9538\n",
      "Epoch 3/10\n",
      "273/273 [==============================] - 1s 4ms/step - loss: 0.6002 - accuracy: 0.9511\n",
      "Epoch 4/10\n",
      "273/273 [==============================] - 1s 4ms/step - loss: 0.5994 - accuracy: 0.9520\n",
      "Epoch 5/10\n",
      "273/273 [==============================] - 1s 4ms/step - loss: 0.5925 - accuracy: 0.9588\n",
      "Epoch 6/10\n",
      "273/273 [==============================] - 1s 5ms/step - loss: 0.5769 - accuracy: 0.9745\n",
      "Epoch 7/10\n",
      "273/273 [==============================] - 1s 5ms/step - loss: 0.5712 - accuracy: 0.9802\n",
      "Epoch 8/10\n",
      "273/273 [==============================] - 1s 4ms/step - loss: 0.5776 - accuracy: 0.9738\n",
      "Epoch 9/10\n",
      "273/273 [==============================] - 1s 5ms/step - loss: 0.5714 - accuracy: 0.9801\n",
      "Epoch 10/10\n",
      "273/273 [==============================] - 1s 4ms/step - loss: 0.5752 - accuracy: 0.9762\n"
     ]
    },
    {
     "data": {
      "text/plain": [
       "<tensorflow.python.keras.callbacks.History at 0x7f9e1043d0a0>"
      ]
     },
     "execution_count": 13,
     "metadata": {},
     "output_type": "execute_result"
    }
   ],
   "source": [
    "mc_dropout.fit(x_train, y_train, epochs=10, batch_size=60)"
   ]
  },
  {
   "cell_type": "code",
   "execution_count": 15,
   "id": "53a6084f",
   "metadata": {},
   "outputs": [
    {
     "name": "stdout",
     "output_type": "stream",
     "text": [
      "171/171 [==============================] - 3s 20ms/step - loss: 1.4325 - accuracy: 0.1071\n"
     ]
    },
    {
     "data": {
      "text/plain": [
       "[1.432499647140503, 0.10711005330085754]"
      ]
     },
     "execution_count": 15,
     "metadata": {},
     "output_type": "execute_result"
    }
   ],
   "source": [
    "mc_dropout._model.evaluate(x_test, y_test)"
   ]
  },
  {
   "cell_type": "code",
   "execution_count": 16,
   "id": "b086ead1",
   "metadata": {},
   "outputs": [
    {
     "data": {
      "text/plain": [
       "[1.2844926118850708, 0.26162042990997614]"
      ]
     },
     "execution_count": 16,
     "metadata": {},
     "output_type": "execute_result"
    }
   ],
   "source": [
    "%autoreload 2\n",
    "mc_dropout.evaluate(x_test, y_test, batch_size=60, runs=1)"
   ]
  },
  {
   "cell_type": "code",
   "execution_count": 17,
   "id": "20ee434b",
   "metadata": {},
   "outputs": [
    {
     "data": {
      "text/plain": [
       "(20, 1000, 3)"
      ]
     },
     "execution_count": 17,
     "metadata": {},
     "output_type": "execute_result"
    }
   ],
   "source": [
    "%autoreload 2\n",
    "NUM_DATAPOINTS = 20\n",
    "\n",
    "result = mc_dropout.predict(x_test[:NUM_DATAPOINTS].astype(np.float32), runs=1000)\n",
    "result.shape"
   ]
  },
  {
   "cell_type": "code",
   "execution_count": 18,
   "id": "b42d16b3",
   "metadata": {},
   "outputs": [
    {
     "data": {
      "text/plain": [
       "array([[0.26798937, 0.56048697, 0.17152366],\n",
       "       [0.27392525, 0.53177721, 0.19429755],\n",
       "       [0.27366969, 0.52291163, 0.20341868],\n",
       "       [0.29154145, 0.53730915, 0.1711494 ],\n",
       "       [0.28511686, 0.54748256, 0.16740059],\n",
       "       [0.28844053, 0.51577591, 0.19578356],\n",
       "       [0.29234555, 0.53341687, 0.17423758],\n",
       "       [0.27292461, 0.53465678, 0.1924186 ],\n",
       "       [0.29538962, 0.5290769 , 0.17553348],\n",
       "       [0.28537634, 0.52466903, 0.18995463],\n",
       "       [0.26462097, 0.53886425, 0.19651478],\n",
       "       [0.27361981, 0.53613091, 0.19024928],\n",
       "       [0.27494642, 0.52129004, 0.20376354],\n",
       "       [0.27491033, 0.53173322, 0.19335645],\n",
       "       [0.26727681, 0.51989581, 0.21282739],\n",
       "       [0.27568208, 0.53398532, 0.1903326 ],\n",
       "       [0.28306454, 0.53187412, 0.18506133],\n",
       "       [0.29251126, 0.5057408 , 0.20174794],\n",
       "       [0.27516065, 0.53043964, 0.19439972],\n",
       "       [0.27240701, 0.52894908, 0.19864391]])"
      ]
     },
     "execution_count": 18,
     "metadata": {},
     "output_type": "execute_result"
    }
   ],
   "source": [
    "class_probs = np.mean(result, axis=1)\n",
    "class_probs"
   ]
  },
  {
   "cell_type": "code",
   "execution_count": 19,
   "id": "dbc9ce5e",
   "metadata": {},
   "outputs": [
    {
     "data": {
      "text/plain": [
       "array([1, 1, 1, 1, 1, 1, 1, 1, 1, 1, 1, 1, 1, 1, 1, 1, 1, 1, 1, 1])"
      ]
     },
     "execution_count": 19,
     "metadata": {},
     "output_type": "execute_result"
    }
   ],
   "source": [
    "label_prediction = np.argmax(class_probs, axis=1)\n",
    "label_prediction"
   ]
  },
  {
   "cell_type": "code",
   "execution_count": 20,
   "id": "4d3d3531",
   "metadata": {},
   "outputs": [
    {
     "data": {
      "text/plain": [
       "0.25"
      ]
     },
     "execution_count": 20,
     "metadata": {},
     "output_type": "execute_result"
    }
   ],
   "source": [
    "acc = np.mean(label_prediction == y_test[:NUM_DATAPOINTS])\n",
    "acc"
   ]
  },
  {
   "cell_type": "code",
   "execution_count": null,
   "id": "ead5b91f",
   "metadata": {},
   "outputs": [],
   "source": [
    "# https://towardsdatascience.com/monte-carlo-dropout-7fd52f8b6571\n",
    "# https://towardsdatascience.com/estimating-uncertainty-in-machine-learning-models-part-3-22b8c58b07b\n",
    "# https://seaborn.pydata.org/tutorial/relational.html"
   ]
  },
  {
   "cell_type": "code",
   "execution_count": 21,
   "id": "c45f7f7f",
   "metadata": {},
   "outputs": [
    {
     "data": {
      "text/plain": [
       "(20, 1000, 3)"
      ]
     },
     "execution_count": 21,
     "metadata": {},
     "output_type": "execute_result"
    }
   ],
   "source": [
    "result.shape"
   ]
  },
  {
   "cell_type": "code",
   "execution_count": 22,
   "id": "2ea89461",
   "metadata": {},
   "outputs": [],
   "source": [
    "def plot_class(datapoint_index=0, class_index=0):\n",
    "    sns.kdeplot(result[datapoint_index, :, class_index], shade=True)\n",
    "    plt.axvline(class_probs[datapoint_index, class_index], color=\"red\")\n",
    "    plt.show()"
   ]
  },
  {
   "cell_type": "code",
   "execution_count": 23,
   "id": "1b6e28aa",
   "metadata": {},
   "outputs": [
    {
     "data": {
      "image/png": "[encoded data removed]",
      "text/plain": [
       "<Figure size 432x288 with 1 Axes>"
      ]
     },
     "metadata": {
      "needs_background": "light"
     },
     "output_type": "display_data"
    }
   ],
   "source": [
    "plot_class()"
   ]
  },
  {
   "cell_type": "code",
   "execution_count": 24,
   "id": "0621a75b",
   "metadata": {},
   "outputs": [
    {
     "data": {
      "image/png": "[encoded data removed]",
      "text/plain": [
       "<Figure size 432x288 with 1 Axes>"
      ]
     },
     "metadata": {
      "needs_background": "light"
     },
     "output_type": "display_data"
    }
   ],
   "source": [
    "plot_class(0, 1)"
   ]
  },
  {
   "cell_type": "code",
   "execution_count": 29,
   "id": "16648d37",
   "metadata": {},
   "outputs": [
    {
     "data": {
      "text/plain": [
       "(20, 1000, 3)"
      ]
     },
     "execution_count": 29,
     "metadata": {},
     "output_type": "execute_result"
    }
   ],
   "source": [
    "result.shape"
   ]
  },
  {
   "cell_type": "code",
   "execution_count": null,
   "id": "a77fed5c",
   "metadata": {},
   "outputs": [],
   "source": []
  },
  {
   "cell_type": "code",
   "execution_count": null,
   "id": "9792f506",
   "metadata": {},
   "outputs": [],
   "source": [
    "df = pd.DataFrame()"
   ]
  },
  {
   "cell_type": "code",
   "execution_count": null,
   "id": "63052611",
   "metadata": {},
   "outputs": [],
   "source": [
    "sns.relplot(x=\"timepoint\", y=\"signal\", kind=\"line\", ci=\"sd\", data=fmri);"
   ]
  }
 ],
 "metadata": {
  "kernelspec": {
   "display_name": "Python 3",
   "language": "python",
   "name": "python3"
  },
  "language_info": {
   "codemirror_mode": {
    "name": "ipython",
    "version": 3
   },
   "file_extension": ".py",
   "mimetype": "text/x-python",
   "name": "python",
   "nbconvert_exporter": "python",
   "pygments_lexer": "ipython3",
   "version": "3.8.8"
  }
 },
 "nbformat": 4,
 "nbformat_minor": 5
}
