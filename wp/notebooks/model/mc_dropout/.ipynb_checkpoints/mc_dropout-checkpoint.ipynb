{
 "cells": [
  {
   "cell_type": "markdown",
   "id": "7c55e643",
   "metadata": {},
   "source": [
    "## General functionality of MC Dropout"
   ]
  },
  {
   "cell_type": "code",
   "execution_count": 1,
   "id": "bf8c4859",
   "metadata": {},
   "outputs": [],
   "source": [
    "%load_ext autoreload"
   ]
  },
  {
   "cell_type": "code",
   "execution_count": 2,
   "id": "4da92b84",
   "metadata": {},
   "outputs": [],
   "source": [
    "import os, sys, importlib\n",
    "import pandas as pd\n",
    "import numpy as np\n",
    "import matplotlib.pyplot as plt\n",
    "import seaborn as sns\n",
    "\n",
    "from sklearn.model_selection import train_test_split\n",
    "from sklearn.metrics import accuracy_score\n",
    "\n",
    "import tensorflow as tf\n",
    "\n",
    "BASE_PATH = os.path.join(os.getcwd(), \"..\", \"..\", \"..\")\n",
    "MODULE_PATH = os.path.join(BASE_PATH, \"modules\")\n",
    "DATASET_PATH = os.path.join(BASE_PATH, \"datasets\")\n",
    "\n",
    "sys.path.append(MODULE_PATH)\n",
    "\n",
    "from bayesian import McDropout\n",
    "from data import BenchmarkData, DataSetType\n",
    "from models import setup_growth, FcholletCNN"
   ]
  },
  {
   "cell_type": "code",
   "execution_count": 3,
   "id": "535a20d2",
   "metadata": {},
   "outputs": [
    {
     "name": "stdout",
     "output_type": "stream",
     "text": [
      "1 Physical GPU's,  1 Logical GPU's\n"
     ]
    }
   ],
   "source": [
    "setup_growth()"
   ]
  },
  {
   "cell_type": "code",
   "execution_count": 4,
   "id": "88f9c5cc",
   "metadata": {},
   "outputs": [],
   "source": [
    "num_classes = 4\n",
    "benchmark_data = BenchmarkData(DataSetType.MNIST, os.path.join(DATASET_PATH, \"mnist\"), classes=num_classes, dtype=np.float32)"
   ]
  },
  {
   "cell_type": "code",
   "execution_count": 5,
   "id": "8449c56f",
   "metadata": {},
   "outputs": [
    {
     "data": {
      "text/plain": [
       "(28911, 28, 28, 1)"
      ]
     },
     "execution_count": 5,
     "metadata": {},
     "output_type": "execute_result"
    }
   ],
   "source": [
    "benchmark_data.inputs.shape"
   ]
  },
  {
   "cell_type": "code",
   "execution_count": 6,
   "id": "33e8a463",
   "metadata": {},
   "outputs": [],
   "source": [
    "inputs = benchmark_data.inputs\n",
    "targets = benchmark_data.targets\n",
    "\n",
    "selector = np.isin(targets, np.unique(targets)[:-1])\n",
    "new_targets = targets[selector]\n",
    "new_inputs = inputs[selector]\n",
    "\n",
    "ood_selector = np.logical_not(selector)\n",
    "ood_targets = targets[ood_selector]\n",
    "ood_inputs = inputs[ood_selector]"
   ]
  },
  {
   "cell_type": "code",
   "execution_count": 7,
   "id": "9aabf037",
   "metadata": {},
   "outputs": [],
   "source": [
    "x_train, x_test, y_train, y_test = train_test_split(new_inputs, new_targets)"
   ]
  },
  {
   "cell_type": "code",
   "execution_count": 8,
   "id": "402267c7",
   "metadata": {},
   "outputs": [
    {
     "name": "stdout",
     "output_type": "stream",
     "text": [
      "Model: \"Fchollet-CNN\"\n",
      "_________________________________________________________________\n",
      "Layer (type)                 Output Shape              Param #   \n",
      "=================================================================\n",
      "conv2d (Conv2D)              multiple                  320       \n",
      "_________________________________________________________________\n",
      "conv2d_1 (Conv2D)            multiple                  18496     \n",
      "_________________________________________________________________\n",
      "max_pooling2d (MaxPooling2D) multiple                  0         \n",
      "_________________________________________________________________\n",
      "dropout (Dropout)            multiple                  0         \n",
      "_________________________________________________________________\n",
      "flatten (Flatten)            multiple                  0         \n",
      "_________________________________________________________________\n",
      "dense (Dense)                multiple                  1605760   \n",
      "_________________________________________________________________\n",
      "dropout_1 (Dropout)          multiple                  0         \n",
      "_________________________________________________________________\n",
      "dense_1 (Dense)              multiple                  516       \n",
      "=================================================================\n",
      "Total params: 1,625,092\n",
      "Trainable params: 1,625,092\n",
      "Non-trainable params: 0\n",
      "_________________________________________________________________\n"
     ]
    }
   ],
   "source": [
    "%autoreload 2\n",
    "model = FcholletCNN(output=num_classes)\n",
    "model.build(input_shape=inputs.shape)\n",
    "model.summary()"
   ]
  },
  {
   "cell_type": "code",
   "execution_count": 9,
   "id": "285f767b",
   "metadata": {},
   "outputs": [],
   "source": [
    "mc_dropout = McDropout(model)\n",
    "mc_dropout.compile(optimizer=\"adam\", loss=\"sparse_categorical_crossentropy\", metrics=[\"accuracy\"])"
   ]
  },
  {
   "cell_type": "code",
   "execution_count": 10,
   "id": "d7be3da1",
   "metadata": {},
   "outputs": [],
   "source": [
    "num_samples = 10\n",
    "pred = mc_dropout(x_test[:2], sample_size=num_samples)\n",
    "indices = np.stack([np.array(range(num_classes))]*num_samples, axis=0)"
   ]
  },
  {
   "cell_type": "code",
   "execution_count": 11,
   "id": "c4a34c18",
   "metadata": {},
   "outputs": [
    {
     "data": {
      "image/png": "[encoded data removed]",
      "text/plain": [
       "<Figure size 432x288 with 1 Axes>"
      ]
     },
     "metadata": {
      "needs_background": "light"
     },
     "output_type": "display_data"
    }
   ],
   "source": [
    "plt.scatter(indices, pred[0], alpha=.1)\n",
    "plt.show()"
   ]
  },
  {
   "cell_type": "code",
   "execution_count": 12,
   "id": "f2c58a36",
   "metadata": {},
   "outputs": [
    {
     "data": {
      "text/plain": [
       "[2.996138, 0.24137424214587544]"
      ]
     },
     "execution_count": 12,
     "metadata": {},
     "output_type": "execute_result"
    }
   ],
   "source": [
    "mc_dropout.evaluate(x_test, y_test)"
   ]
  },
  {
   "cell_type": "code",
   "execution_count": 13,
   "id": "5bac5bf5",
   "metadata": {},
   "outputs": [
    {
     "name": "stdout",
     "output_type": "stream",
     "text": [
      "1/1 [==============================] - 0s 2ms/step - loss: 26.1838 - accuracy: 0.3000\n"
     ]
    },
    {
     "data": {
      "text/plain": [
       "<tensorflow.python.keras.callbacks.History at 0x7fd5ca0ed340>"
      ]
     },
     "execution_count": 13,
     "metadata": {},
     "output_type": "execute_result"
    }
   ],
   "source": [
    "mc_dropout.fit(x_train[:10], y_train[:10], epochs=1, batch_size=50)"
   ]
  },
  {
   "cell_type": "code",
   "execution_count": 14,
   "id": "e027f288",
   "metadata": {},
   "outputs": [
    {
     "data": {
      "text/plain": [
       "[1.9066565, 0.45697225794598567]"
      ]
     },
     "execution_count": 14,
     "metadata": {},
     "output_type": "execute_result"
    }
   ],
   "source": [
    "mc_dropout.evaluate(x_test, y_test)"
   ]
  },
  {
   "cell_type": "code",
   "execution_count": 15,
   "id": "0ba4f254",
   "metadata": {},
   "outputs": [
    {
     "data": {
      "text/plain": [
       "2"
      ]
     },
     "execution_count": 15,
     "metadata": {},
     "output_type": "execute_result"
    }
   ],
   "source": [
    "y_test[0]"
   ]
  },
  {
   "cell_type": "code",
   "execution_count": 16,
   "id": "2a9270c3",
   "metadata": {},
   "outputs": [
    {
     "data": {
      "image/png": "[encoded data removed]",
      "text/plain": [
       "<Figure size 432x288 with 1 Axes>"
      ]
     },
     "metadata": {
      "needs_background": "light"
     },
     "output_type": "display_data"
    }
   ],
   "source": [
    "num_samples = 10\n",
    "pred = mc_dropout(x_test[:2], sample_size=num_samples)\n",
    "indices = np.stack([np.array(range(num_classes))]*num_samples, axis=0)\n",
    "plt.scatter(indices, pred[0], alpha=.1)\n",
    "plt.show()"
   ]
  },
  {
   "cell_type": "code",
   "execution_count": 17,
   "id": "9ed79028",
   "metadata": {},
   "outputs": [
    {
     "data": {
      "text/plain": [
       "[1.0957878, 0.45852287341539594]"
      ]
     },
     "execution_count": 17,
     "metadata": {},
     "output_type": "execute_result"
    }
   ],
   "source": [
    "mc_dropout.evaluate(x_test, y_test, sample_size=100, batch_size=100)"
   ]
  },
  {
   "cell_type": "code",
   "execution_count": 18,
   "id": "b12b7052",
   "metadata": {},
   "outputs": [],
   "source": [
    "num_samples = 100\n",
    "predictions = mc_dropout(x_test, sample_size=num_samples, batch_size=100)"
   ]
  },
  {
   "cell_type": "code",
   "execution_count": 19,
   "id": "d24b3cef",
   "metadata": {},
   "outputs": [],
   "source": [
    "def plot_class(datapoint_index=0, class_index=0):\n",
    "    sns.kdeplot(result[datapoint_index, :, class_index], shade=True)\n",
    "    plt.axvline(class_probs[datapoint_index, class_index], color=\"red\")\n",
    "    plt.show()"
   ]
  },
  {
   "cell_type": "code",
   "execution_count": 20,
   "id": "607a30fc",
   "metadata": {},
   "outputs": [
    {
     "data": {
      "text/plain": [
       "(5443, 100, 4)"
      ]
     },
     "execution_count": 20,
     "metadata": {},
     "output_type": "execute_result"
    }
   ],
   "source": [
    "predictions.shape"
   ]
  },
  {
   "cell_type": "code",
   "execution_count": 21,
   "id": "6563c163",
   "metadata": {},
   "outputs": [
    {
     "data": {
      "text/plain": [
       "(5443, 100)"
      ]
     },
     "execution_count": 21,
     "metadata": {},
     "output_type": "execute_result"
    }
   ],
   "source": [
    "pred_label = np.argmax(predictions, axis=-1)\n",
    "pred_label.shape"
   ]
  },
  {
   "cell_type": "code",
   "execution_count": 22,
   "id": "75a2cd20",
   "metadata": {},
   "outputs": [
    {
     "data": {
      "text/plain": [
       "(5443, 100)"
      ]
     },
     "execution_count": 22,
     "metadata": {},
     "output_type": "execute_result"
    }
   ],
   "source": [
    "true_labels = np.stack([y_test]*num_samples, axis=1)\n",
    "true_labels.shape"
   ]
  },
  {
   "cell_type": "code",
   "execution_count": 23,
   "id": "fe68c7f6",
   "metadata": {},
   "outputs": [],
   "source": [
    "net_accuracies = np.mean(pred_label == true_labels, axis=0)"
   ]
  },
  {
   "cell_type": "code",
   "execution_count": null,
   "id": "53a2c283",
   "metadata": {},
   "outputs": [],
   "source": []
  },
  {
   "cell_type": "code",
   "execution_count": null,
   "id": "fc0829fd",
   "metadata": {},
   "outputs": [],
   "source": [
    "sns.displot(predictions[:, 0], bins=10, log_scale=True, kde=True)"
   ]
  },
  {
   "cell_type": "code",
   "execution_count": null,
   "id": "a4a5e39b",
   "metadata": {},
   "outputs": [],
   "source": [
    "def plot_separated(predictions, targets):\n",
    "    \n",
    "    mean = np.mean(predictions, axis=-1)\n",
    "    u_targets = np.unique(targets)\n",
    "    fig, axes = plt.subplots(len(u_targets), len(u_targets), figsize=(20, 5))\n",
    "    \n",
    "    for target in u_targets:\n",
    "        selector = u_targets == target\n",
    "        \n",
    "        for o_target in u_targets:\n",
    "            sns.kdeplot(ax=axes[target, o_target], x=mean[o_target], shade=True)"
   ]
  },
  {
   "cell_type": "code",
   "execution_count": null,
   "id": "64c3c8ed",
   "metadata": {},
   "outputs": [],
   "source": [
    "predictions = mc_dropout(x_test, sample_size=5, batch_size=900)"
   ]
  },
  {
   "cell_type": "code",
   "execution_count": null,
   "id": "13ea66f7",
   "metadata": {},
   "outputs": [],
   "source": []
  },
  {
   "cell_type": "code",
   "execution_count": null,
   "id": "720829e0",
   "metadata": {},
   "outputs": [],
   "source": []
  },
  {
   "cell_type": "code",
   "execution_count": null,
   "id": "4d4ff000",
   "metadata": {},
   "outputs": [],
   "source": [
    "predictions = mc_dropout(x_test, sample_size=100, batch_size=900)"
   ]
  },
  {
   "cell_type": "code",
   "execution_count": null,
   "id": "b310806b",
   "metadata": {},
   "outputs": [],
   "source": []
  },
  {
   "cell_type": "code",
   "execution_count": null,
   "id": "49791302",
   "metadata": {},
   "outputs": [],
   "source": [
    "#sns.kdeplot(predictions[0][:, 1].T, shade=True, color=\"red\")\n",
    "sns.kdeplot(predictions[0][:, 0].T, shade=True, color=\"black\")\n",
    "sns.kdeplot(predictions[0][:, 2].T, shade=True, color=\"green\")\n",
    "sns.kdeplot(predictions[0][:, 3], shade=True, color=\"blue\")"
   ]
  },
  {
   "cell_type": "code",
   "execution_count": null,
   "id": "c35d5021",
   "metadata": {},
   "outputs": [],
   "source": [
    "sns.kdeplot(preds[0], shade=True)"
   ]
  },
  {
   "cell_type": "code",
   "execution_count": null,
   "id": "1bcc08ac",
   "metadata": {},
   "outputs": [],
   "source": [
    "sns.kdeplot(net_accuracies, shade=True)\n",
    "plt.axvline()"
   ]
  },
  {
   "cell_type": "code",
   "execution_count": null,
   "id": "867e7c62",
   "metadata": {},
   "outputs": [],
   "source": [
    "plt.hist(net_accuracies)\n",
    "plt.show()"
   ]
  },
  {
   "cell_type": "code",
   "execution_count": null,
   "id": "4eb7f7c3",
   "metadata": {},
   "outputs": [],
   "source": [
    "sns.relplot(x=\"timepoint\", y=\"signal\", kind=\"line\", ci=\"sd\", data=fmri);"
   ]
  },
  {
   "cell_type": "code",
   "execution_count": null,
   "id": "63052611",
   "metadata": {},
   "outputs": [],
   "source": []
  },
  {
   "cell_type": "code",
   "execution_count": null,
   "id": "8039f198",
   "metadata": {},
   "outputs": [],
   "source": []
  },
  {
   "cell_type": "code",
   "execution_count": null,
   "id": "2a14221e",
   "metadata": {},
   "outputs": [],
   "source": []
  },
  {
   "cell_type": "code",
   "execution_count": null,
   "id": "2babd042",
   "metadata": {},
   "outputs": [],
   "source": []
  }
 ],
 "metadata": {
  "kernelspec": {
   "display_name": "Python 3",
   "language": "python",
   "name": "python3"
  },
  "language_info": {
   "codemirror_mode": {
    "name": "ipython",
    "version": 3
   },
   "file_extension": ".py",
   "mimetype": "text/x-python",
   "name": "python",
   "nbconvert_exporter": "python",
   "pygments_lexer": "ipython3",
   "version": "3.8.8"
  }
 },
 "nbformat": 4,
 "nbformat_minor": 5
}
