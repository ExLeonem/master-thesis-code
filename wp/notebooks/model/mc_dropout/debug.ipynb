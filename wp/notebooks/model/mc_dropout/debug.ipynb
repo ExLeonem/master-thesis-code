{
 "cells": [
  {
   "cell_type": "markdown",
   "id": "c6d46c93",
   "metadata": {},
   "source": [
    "## Check if model converges at all"
   ]
  },
  {
   "cell_type": "code",
   "execution_count": 1,
   "id": "ce349208",
   "metadata": {},
   "outputs": [],
   "source": [
    "%load_ext autoreload"
   ]
  },
  {
   "cell_type": "code",
   "execution_count": 2,
   "id": "317029c8",
   "metadata": {},
   "outputs": [],
   "source": [
    "import os, sys, importlib\n",
    "import pandas as pd\n",
    "import numpy as np\n",
    "import matplotlib.pyplot as plt\n",
    "from sklearn.model_selection import train_test_split\n",
    "\n",
    "import tensorflow as tf\n",
    "\n",
    "BASE_PATH = os.path.join(os.getcwd(), \"..\", \"..\", \"..\")\n",
    "MODULE_PATH = os.path.join(BASE_PATH, \"modules\")\n",
    "DATASETS_PATH = os.path.join(BASE_PATH, \"datasets\")\n",
    "\n",
    "sys.path.append(MODULE_PATH)\n",
    "\n",
    "from active_learning import TrainConfig\n",
    "from data import BenchmarkData, DataSetType\n",
    "from models import setup_growth, default_model\n",
    "from bayesian import BayesModel, McDropout, MomentPropagation\n",
    "\n",
    "import mp.MomentPropagation as mp"
   ]
  },
  {
   "cell_type": "code",
   "execution_count": 3,
   "id": "9ce45aa7",
   "metadata": {},
   "outputs": [
    {
     "name": "stdout",
     "output_type": "stream",
     "text": [
      "1 Physical GPU's,  1 Logical GPU's\n"
     ]
    }
   ],
   "source": [
    "setup_growth()"
   ]
  },
  {
   "cell_type": "code",
   "execution_count": 4,
   "id": "9f0f9f96",
   "metadata": {},
   "outputs": [],
   "source": [
    "output_classes = 5"
   ]
  },
  {
   "cell_type": "code",
   "execution_count": 5,
   "id": "c24abf7c",
   "metadata": {},
   "outputs": [],
   "source": [
    "benchmark = BenchmarkData(DataSetType.MNIST, os.path.join(DATASETS_PATH, \"mnist\"), classes=output_classes)"
   ]
  },
  {
   "cell_type": "code",
   "execution_count": 6,
   "id": "37115d4f",
   "metadata": {},
   "outputs": [],
   "source": [
    "x_train, x_test, y_train, y_test = train_test_split(benchmark.inputs, benchmark.targets)"
   ]
  },
  {
   "cell_type": "code",
   "execution_count": 7,
   "id": "aa04a68e",
   "metadata": {},
   "outputs": [
    {
     "name": "stdout",
     "output_type": "stream",
     "text": [
      "Datapoints: 35735\n",
      "Unique labels: [0 1 2 3 4]\n"
     ]
    }
   ],
   "source": [
    "print(\"Datapoints: {}\".format(len(benchmark.targets)))\n",
    "print(\"Unique labels: {}\".format(np.unique(benchmark.targets)))"
   ]
  },
  {
   "cell_type": "code",
   "execution_count": 8,
   "id": "5db9c0a4",
   "metadata": {},
   "outputs": [],
   "source": [
    "model = default_model(output_classes=output_classes)\n",
    "model.compile(optimizer=\"adadelta\", loss=\"sparse_categorical_crossentropy\", metrics=[\"accuracy\"])"
   ]
  },
  {
   "cell_type": "code",
   "execution_count": 9,
   "id": "0b34971f",
   "metadata": {},
   "outputs": [
    {
     "data": {
      "text/plain": [
       "(8934, 28, 28, 1)"
      ]
     },
     "execution_count": 9,
     "metadata": {},
     "output_type": "execute_result"
    }
   ],
   "source": [
    "x_test.shape"
   ]
  },
  {
   "cell_type": "code",
   "execution_count": 10,
   "id": "c5c4d069",
   "metadata": {},
   "outputs": [
    {
     "data": {
      "text/plain": [
       "(8934,)"
      ]
     },
     "execution_count": 10,
     "metadata": {},
     "output_type": "execute_result"
    }
   ],
   "source": [
    "y_test.shape"
   ]
  },
  {
   "cell_type": "code",
   "execution_count": 11,
   "id": "3b64a1d7",
   "metadata": {},
   "outputs": [
    {
     "name": "stdout",
     "output_type": "stream",
     "text": [
      "Epoch 1/10\n",
      "269/269 [==============================] - 8s 31ms/step - loss: 1.9962 - accuracy: 0.1898\n",
      "Epoch 2/10\n",
      "269/269 [==============================] - 2s 6ms/step - loss: 1.5899 - accuracy: 0.2043\n",
      "Epoch 3/10\n",
      "269/269 [==============================] - 2s 6ms/step - loss: 1.5356 - accuracy: 0.2131\n",
      "Epoch 4/10\n",
      "269/269 [==============================] - 2s 6ms/step - loss: 1.4901 - accuracy: 0.2185\n",
      "Epoch 5/10\n",
      "269/269 [==============================] - 2s 6ms/step - loss: 1.4555 - accuracy: 0.2252\n",
      "Epoch 6/10\n",
      "269/269 [==============================] - 2s 6ms/step - loss: 1.4208 - accuracy: 0.2291\n",
      "Epoch 7/10\n",
      "269/269 [==============================] - 2s 6ms/step - loss: 1.3884 - accuracy: 0.2417\n",
      "Epoch 8/10\n",
      "269/269 [==============================] - 2s 6ms/step - loss: 1.3544 - accuracy: 0.2447\n",
      "Epoch 9/10\n",
      "269/269 [==============================] - 2s 6ms/step - loss: 1.3133 - accuracy: 0.2498\n",
      "Epoch 10/10\n",
      "269/269 [==============================] - 2s 6ms/step - loss: 1.2763 - accuracy: 0.2570\n"
     ]
    },
    {
     "data": {
      "text/plain": [
       "<tensorflow.python.keras.callbacks.History at 0x7fa9fc09d430>"
      ]
     },
     "execution_count": 11,
     "metadata": {},
     "output_type": "execute_result"
    }
   ],
   "source": [
    "model.fit(x_train, y_train, epochs=10, batch_size=100)"
   ]
  },
  {
   "cell_type": "code",
   "execution_count": 12,
   "id": "5bd0379b",
   "metadata": {},
   "outputs": [
    {
     "name": "stdout",
     "output_type": "stream",
     "text": [
      "280/280 [==============================] - 3s 12ms/step - loss: 1.1440 - accuracy: 0.3214\n"
     ]
    },
    {
     "data": {
      "text/plain": [
       "[1.1439809799194336, 0.3213566243648529]"
      ]
     },
     "execution_count": 12,
     "metadata": {},
     "output_type": "execute_result"
    }
   ],
   "source": [
    "model.evaluate(x_test, y_test)"
   ]
  },
  {
   "cell_type": "markdown",
   "id": "945700d5",
   "metadata": {},
   "source": [
    "# Model Debug"
   ]
  },
  {
   "cell_type": "code",
   "execution_count": 13,
   "id": "d41db75d",
   "metadata": {},
   "outputs": [
    {
     "data": {
      "text/plain": [
       "[1.1764604, 0.321]"
      ]
     },
     "execution_count": 13,
     "metadata": {},
     "output_type": "execute_result"
    }
   ],
   "source": [
    "mc_model = McDropout(model)\n",
    "mc_model.evaluate(x_test[:100], y_test[:100])"
   ]
  },
  {
   "cell_type": "code",
   "execution_count": 14,
   "id": "74c1396f",
   "metadata": {},
   "outputs": [
    {
     "name": "stdout",
     "output_type": "stream",
     "text": [
      "4/4 [==============================] - 3s 704ms/step - loss: 1.1248 - accuracy: 0.3400\n"
     ]
    },
    {
     "data": {
      "text/plain": [
       "[1.124780297279358, 0.3400000035762787]"
      ]
     },
     "execution_count": 14,
     "metadata": {},
     "output_type": "execute_result"
    }
   ],
   "source": [
    "model.evaluate(x_test[:100], y_test[:100])"
   ]
  },
  {
   "cell_type": "code",
   "execution_count": 15,
   "id": "bd2fa542",
   "metadata": {},
   "outputs": [
    {
     "name": "stdout",
     "output_type": "stream",
     "text": [
      "Epoch 1/100\n",
      "269/269 [==============================] - 2s 6ms/step - loss: 1.2434 - accuracy: 0.2563\n",
      "Epoch 2/100\n",
      "269/269 [==============================] - 2s 6ms/step - loss: 1.2162 - accuracy: 0.2617\n",
      "Epoch 3/100\n",
      "269/269 [==============================] - 2s 6ms/step - loss: 1.1953 - accuracy: 0.2686\n",
      "Epoch 4/100\n",
      "269/269 [==============================] - 2s 6ms/step - loss: 1.1727 - accuracy: 0.2747\n",
      "Epoch 5/100\n",
      "269/269 [==============================] - 2s 6ms/step - loss: 1.1525 - accuracy: 0.2832\n",
      "Epoch 6/100\n",
      "269/269 [==============================] - 2s 6ms/step - loss: 1.1346 - accuracy: 0.2940\n",
      "Epoch 7/100\n",
      "269/269 [==============================] - 2s 6ms/step - loss: 1.1068 - accuracy: 0.3071\n",
      "Epoch 8/100\n",
      "269/269 [==============================] - 2s 6ms/step - loss: 1.0648 - accuracy: 0.3227\n",
      "Epoch 9/100\n",
      "269/269 [==============================] - 2s 6ms/step - loss: 1.0021 - accuracy: 0.3398\n",
      "Epoch 10/100\n",
      "269/269 [==============================] - 2s 6ms/step - loss: 0.9541 - accuracy: 0.3700\n",
      "Epoch 11/100\n",
      "269/269 [==============================] - 2s 6ms/step - loss: 0.9245 - accuracy: 0.4224\n",
      "Epoch 12/100\n",
      "269/269 [==============================] - 2s 6ms/step - loss: 0.8918 - accuracy: 0.5058\n",
      "Epoch 13/100\n",
      "269/269 [==============================] - 2s 6ms/step - loss: 0.8449 - accuracy: 0.6553\n",
      "Epoch 14/100\n",
      "269/269 [==============================] - 2s 6ms/step - loss: 0.7305 - accuracy: 0.8022\n",
      "Epoch 15/100\n",
      "269/269 [==============================] - 2s 6ms/step - loss: 0.6024 - accuracy: 0.8708\n",
      "Epoch 16/100\n",
      "269/269 [==============================] - 2s 6ms/step - loss: 0.5181 - accuracy: 0.8880\n",
      "Epoch 17/100\n",
      "269/269 [==============================] - 2s 6ms/step - loss: 0.4692 - accuracy: 0.8969\n",
      "Epoch 18/100\n",
      "269/269 [==============================] - 2s 6ms/step - loss: 0.4464 - accuracy: 0.9023\n",
      "Epoch 19/100\n",
      "269/269 [==============================] - 2s 6ms/step - loss: 0.4179 - accuracy: 0.9081\n",
      "Epoch 20/100\n",
      "269/269 [==============================] - 2s 6ms/step - loss: 0.3919 - accuracy: 0.9155\n",
      "Epoch 21/100\n",
      "269/269 [==============================] - 2s 6ms/step - loss: 0.3554 - accuracy: 0.9226\n",
      "Epoch 22/100\n",
      "269/269 [==============================] - 2s 6ms/step - loss: 0.3626 - accuracy: 0.9216\n",
      "Epoch 23/100\n",
      "269/269 [==============================] - 2s 6ms/step - loss: 0.3402 - accuracy: 0.9260\n",
      "Epoch 24/100\n",
      "269/269 [==============================] - 2s 6ms/step - loss: 0.3272 - accuracy: 0.9279\n",
      "Epoch 25/100\n",
      "269/269 [==============================] - 2s 6ms/step - loss: 0.3142 - accuracy: 0.9305\n",
      "Epoch 26/100\n",
      "269/269 [==============================] - 2s 6ms/step - loss: 0.2939 - accuracy: 0.9342\n",
      "Epoch 27/100\n",
      "269/269 [==============================] - 2s 7ms/step - loss: 0.2934 - accuracy: 0.9330\n",
      "Epoch 28/100\n",
      "269/269 [==============================] - 2s 6ms/step - loss: 0.2736 - accuracy: 0.9384\n",
      "Epoch 29/100\n",
      "269/269 [==============================] - 2s 6ms/step - loss: 0.2799 - accuracy: 0.9378\n",
      "Epoch 30/100\n",
      "269/269 [==============================] - 2s 6ms/step - loss: 0.2620 - accuracy: 0.9410\n",
      "Epoch 31/100\n",
      "269/269 [==============================] - 2s 6ms/step - loss: 0.2611 - accuracy: 0.9424\n",
      "Epoch 32/100\n",
      "269/269 [==============================] - 2s 6ms/step - loss: 0.2512 - accuracy: 0.9431\n",
      "Epoch 33/100\n",
      "269/269 [==============================] - 2s 6ms/step - loss: 0.2441 - accuracy: 0.9429\n",
      "Epoch 34/100\n",
      "269/269 [==============================] - 2s 6ms/step - loss: 0.2444 - accuracy: 0.9428\n",
      "Epoch 35/100\n",
      "269/269 [==============================] - 2s 6ms/step - loss: 0.2335 - accuracy: 0.9464\n",
      "Epoch 36/100\n",
      "269/269 [==============================] - 2s 6ms/step - loss: 0.2267 - accuracy: 0.9487\n",
      "Epoch 37/100\n",
      "269/269 [==============================] - 2s 6ms/step - loss: 0.2176 - accuracy: 0.9476\n",
      "Epoch 38/100\n",
      "269/269 [==============================] - 2s 6ms/step - loss: 0.2109 - accuracy: 0.9512\n",
      "Epoch 39/100\n",
      "269/269 [==============================] - 2s 6ms/step - loss: 0.2122 - accuracy: 0.9491\n",
      "Epoch 40/100\n",
      "269/269 [==============================] - 2s 6ms/step - loss: 0.2011 - accuracy: 0.9521\n",
      "Epoch 41/100\n",
      "269/269 [==============================] - 2s 6ms/step - loss: 0.1982 - accuracy: 0.9528\n",
      "Epoch 42/100\n",
      "269/269 [==============================] - 2s 6ms/step - loss: 0.1837 - accuracy: 0.9556\n",
      "Epoch 43/100\n",
      "269/269 [==============================] - 2s 6ms/step - loss: 0.1844 - accuracy: 0.9556\n",
      "Epoch 44/100\n",
      "269/269 [==============================] - 2s 6ms/step - loss: 0.1881 - accuracy: 0.9537\n",
      "Epoch 45/100\n",
      "269/269 [==============================] - 2s 6ms/step - loss: 0.1809 - accuracy: 0.9547\n",
      "Epoch 46/100\n",
      "269/269 [==============================] - 2s 6ms/step - loss: 0.1863 - accuracy: 0.9540\n",
      "Epoch 47/100\n",
      "269/269 [==============================] - 2s 6ms/step - loss: 0.1841 - accuracy: 0.9565\n",
      "Epoch 48/100\n",
      "269/269 [==============================] - 2s 6ms/step - loss: 0.1755 - accuracy: 0.9568\n",
      "Epoch 49/100\n",
      "269/269 [==============================] - 2s 6ms/step - loss: 0.1675 - accuracy: 0.9579\n",
      "Epoch 50/100\n",
      "269/269 [==============================] - 2s 6ms/step - loss: 0.1708 - accuracy: 0.9568\n",
      "Epoch 51/100\n",
      "269/269 [==============================] - 2s 6ms/step - loss: 0.1660 - accuracy: 0.9602\n",
      "Epoch 52/100\n",
      "269/269 [==============================] - 2s 6ms/step - loss: 0.1675 - accuracy: 0.9596\n",
      "Epoch 53/100\n",
      "269/269 [==============================] - 2s 6ms/step - loss: 0.1581 - accuracy: 0.9626\n",
      "Epoch 54/100\n",
      "269/269 [==============================] - 2s 6ms/step - loss: 0.1549 - accuracy: 0.9616\n",
      "Epoch 55/100\n",
      "269/269 [==============================] - 2s 6ms/step - loss: 0.1581 - accuracy: 0.9609\n",
      "Epoch 56/100\n",
      "269/269 [==============================] - 2s 6ms/step - loss: 0.1536 - accuracy: 0.9617\n",
      "Epoch 57/100\n",
      "269/269 [==============================] - 2s 6ms/step - loss: 0.1492 - accuracy: 0.9631\n",
      "Epoch 58/100\n",
      "269/269 [==============================] - 2s 6ms/step - loss: 0.1533 - accuracy: 0.9615\n",
      "Epoch 59/100\n",
      "269/269 [==============================] - 2s 6ms/step - loss: 0.1430 - accuracy: 0.9632\n",
      "Epoch 60/100\n",
      "269/269 [==============================] - 2s 6ms/step - loss: 0.1442 - accuracy: 0.9643\n",
      "Epoch 61/100\n",
      "269/269 [==============================] - 2s 6ms/step - loss: 0.1427 - accuracy: 0.9652\n",
      "Epoch 62/100\n",
      "269/269 [==============================] - 2s 6ms/step - loss: 0.1394 - accuracy: 0.9641\n",
      "Epoch 63/100\n",
      "269/269 [==============================] - 2s 6ms/step - loss: 0.1368 - accuracy: 0.9647\n",
      "Epoch 64/100\n",
      "269/269 [==============================] - 2s 6ms/step - loss: 0.1369 - accuracy: 0.9656\n",
      "Epoch 65/100\n",
      "269/269 [==============================] - 2s 6ms/step - loss: 0.1314 - accuracy: 0.9660\n",
      "Epoch 66/100\n",
      "269/269 [==============================] - 2s 6ms/step - loss: 0.1347 - accuracy: 0.9660\n",
      "Epoch 67/100\n",
      "269/269 [==============================] - 2s 6ms/step - loss: 0.1295 - accuracy: 0.9680\n",
      "Epoch 68/100\n",
      "269/269 [==============================] - 2s 6ms/step - loss: 0.1278 - accuracy: 0.9668\n",
      "Epoch 69/100\n",
      "269/269 [==============================] - 2s 6ms/step - loss: 0.1216 - accuracy: 0.9684\n",
      "Epoch 70/100\n",
      "269/269 [==============================] - 2s 6ms/step - loss: 0.1272 - accuracy: 0.9677\n",
      "Epoch 71/100\n",
      "269/269 [==============================] - 2s 6ms/step - loss: 0.1215 - accuracy: 0.9694\n",
      "Epoch 72/100\n",
      "269/269 [==============================] - 2s 6ms/step - loss: 0.1236 - accuracy: 0.9693\n",
      "Epoch 73/100\n",
      "269/269 [==============================] - 2s 6ms/step - loss: 0.1233 - accuracy: 0.9685\n",
      "Epoch 74/100\n",
      "269/269 [==============================] - 2s 6ms/step - loss: 0.1181 - accuracy: 0.9689\n",
      "Epoch 75/100\n",
      "269/269 [==============================] - 2s 6ms/step - loss: 0.1203 - accuracy: 0.9690\n",
      "Epoch 76/100\n",
      "269/269 [==============================] - 2s 6ms/step - loss: 0.1170 - accuracy: 0.9703\n",
      "Epoch 77/100\n",
      "269/269 [==============================] - 2s 6ms/step - loss: 0.1151 - accuracy: 0.9697\n",
      "Epoch 78/100\n",
      "269/269 [==============================] - 2s 6ms/step - loss: 0.1161 - accuracy: 0.9689\n",
      "Epoch 79/100\n",
      "269/269 [==============================] - 2s 6ms/step - loss: 0.1166 - accuracy: 0.9698\n",
      "Epoch 80/100\n",
      "269/269 [==============================] - 2s 6ms/step - loss: 0.1091 - accuracy: 0.9712\n",
      "Epoch 81/100\n"
     ]
    },
    {
     "name": "stdout",
     "output_type": "stream",
     "text": [
      "269/269 [==============================] - 2s 6ms/step - loss: 0.1140 - accuracy: 0.9705\n",
      "Epoch 82/100\n",
      "269/269 [==============================] - 2s 6ms/step - loss: 0.1017 - accuracy: 0.9717\n",
      "Epoch 83/100\n",
      "269/269 [==============================] - 2s 6ms/step - loss: 0.1050 - accuracy: 0.9704\n",
      "Epoch 84/100\n",
      "269/269 [==============================] - 2s 6ms/step - loss: 0.1104 - accuracy: 0.9701\n",
      "Epoch 85/100\n",
      "269/269 [==============================] - 2s 6ms/step - loss: 0.1043 - accuracy: 0.9719\n",
      "Epoch 86/100\n",
      "269/269 [==============================] - 2s 6ms/step - loss: 0.1025 - accuracy: 0.9731\n",
      "Epoch 87/100\n",
      "269/269 [==============================] - 2s 6ms/step - loss: 0.1016 - accuracy: 0.9728\n",
      "Epoch 88/100\n",
      "269/269 [==============================] - 2s 6ms/step - loss: 0.1024 - accuracy: 0.9719\n",
      "Epoch 89/100\n",
      "269/269 [==============================] - 2s 6ms/step - loss: 0.1010 - accuracy: 0.9723\n",
      "Epoch 90/100\n",
      "269/269 [==============================] - 2s 6ms/step - loss: 0.0991 - accuracy: 0.9732\n",
      "Epoch 91/100\n",
      "269/269 [==============================] - 2s 6ms/step - loss: 0.0992 - accuracy: 0.9726\n",
      "Epoch 92/100\n",
      "269/269 [==============================] - 2s 6ms/step - loss: 0.0968 - accuracy: 0.9734\n",
      "Epoch 93/100\n",
      "269/269 [==============================] - 2s 6ms/step - loss: 0.0943 - accuracy: 0.9750\n",
      "Epoch 94/100\n",
      "269/269 [==============================] - 2s 6ms/step - loss: 0.0931 - accuracy: 0.9750\n",
      "Epoch 95/100\n",
      "269/269 [==============================] - 2s 6ms/step - loss: 0.1014 - accuracy: 0.9740\n",
      "Epoch 96/100\n",
      "269/269 [==============================] - 2s 6ms/step - loss: 0.0931 - accuracy: 0.9756\n",
      "Epoch 97/100\n",
      "269/269 [==============================] - 2s 6ms/step - loss: 0.0896 - accuracy: 0.9745\n",
      "Epoch 98/100\n",
      "269/269 [==============================] - 2s 6ms/step - loss: 0.0948 - accuracy: 0.9762\n",
      "Epoch 99/100\n",
      "269/269 [==============================] - 2s 6ms/step - loss: 0.0901 - accuracy: 0.9744\n",
      "Epoch 100/100\n",
      "269/269 [==============================] - 2s 6ms/step - loss: 0.0887 - accuracy: 0.9748\n"
     ]
    },
    {
     "data": {
      "text/plain": [
       "<tensorflow.python.keras.callbacks.History at 0x7faad9e03280>"
      ]
     },
     "execution_count": 15,
     "metadata": {},
     "output_type": "execute_result"
    }
   ],
   "source": [
    "mc_model.fit(x_train, y_train, epochs=100, batch_size=100)"
   ]
  },
  {
   "cell_type": "code",
   "execution_count": 16,
   "id": "9125416c",
   "metadata": {},
   "outputs": [
    {
     "name": "stdout",
     "output_type": "stream",
     "text": [
      "4/4 [==============================] - 0s 2ms/step - loss: 0.0149 - accuracy: 0.9900\n"
     ]
    },
    {
     "data": {
      "text/plain": [
       "[0.014902540482580662, 0.9900000095367432]"
      ]
     },
     "execution_count": 16,
     "metadata": {},
     "output_type": "execute_result"
    }
   ],
   "source": [
    "mc_model.get_model().evaluate(x_test[:100], y_test[:100])"
   ]
  },
  {
   "cell_type": "code",
   "execution_count": 17,
   "id": "c4dc00c5",
   "metadata": {},
   "outputs": [
    {
     "data": {
      "text/plain": [
       "[0.017985443, 0.99]"
      ]
     },
     "execution_count": 17,
     "metadata": {},
     "output_type": "execute_result"
    }
   ],
   "source": [
    "mc_model.evaluate(x_test[:100], y_test[:100])"
   ]
  },
  {
   "cell_type": "code",
   "execution_count": null,
   "id": "c642aa1e",
   "metadata": {},
   "outputs": [],
   "source": []
  },
  {
   "cell_type": "code",
   "execution_count": null,
   "id": "19d43dfb",
   "metadata": {},
   "outputs": [],
   "source": []
  },
  {
   "cell_type": "code",
   "execution_count": null,
   "id": "f71af76b",
   "metadata": {},
   "outputs": [],
   "source": []
  },
  {
   "cell_type": "code",
   "execution_count": null,
   "id": "e8404b93",
   "metadata": {},
   "outputs": [],
   "source": []
  },
  {
   "cell_type": "code",
   "execution_count": null,
   "id": "6efcc740",
   "metadata": {},
   "outputs": [],
   "source": []
  },
  {
   "cell_type": "code",
   "execution_count": null,
   "id": "02eaa8f3",
   "metadata": {},
   "outputs": [],
   "source": []
  },
  {
   "cell_type": "code",
   "execution_count": null,
   "id": "cc66fcb0",
   "metadata": {},
   "outputs": [],
   "source": []
  },
  {
   "cell_type": "code",
   "execution_count": null,
   "id": "3e6a95a1",
   "metadata": {},
   "outputs": [],
   "source": []
  },
  {
   "cell_type": "code",
   "execution_count": null,
   "id": "055b12f4",
   "metadata": {},
   "outputs": [],
   "source": []
  },
  {
   "cell_type": "code",
   "execution_count": null,
   "id": "bd543cae",
   "metadata": {},
   "outputs": [],
   "source": []
  },
  {
   "cell_type": "code",
   "execution_count": null,
   "id": "6a67dc98",
   "metadata": {},
   "outputs": [],
   "source": []
  },
  {
   "cell_type": "code",
   "execution_count": null,
   "id": "8bc8bd1f",
   "metadata": {},
   "outputs": [],
   "source": []
  }
 ],
 "metadata": {
  "kernelspec": {
   "display_name": "Python 3",
   "language": "python",
   "name": "python3"
  },
  "language_info": {
   "codemirror_mode": {
    "name": "ipython",
    "version": 3
   },
   "file_extension": ".py",
   "mimetype": "text/x-python",
   "name": "python",
   "nbconvert_exporter": "python",
   "pygments_lexer": "ipython3",
   "version": "3.8.8"
  }
 },
 "nbformat": 4,
 "nbformat_minor": 5
}
