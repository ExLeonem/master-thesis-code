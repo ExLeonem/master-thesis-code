{
 "cells": [
  {
   "cell_type": "code",
   "execution_count": 1,
   "id": "4b9e17aa",
   "metadata": {},
   "outputs": [],
   "source": [
    "import os, importlib, sys\n",
    "\n",
    "import numpy as np\n",
    "import pandas as pd\n",
    "import matplotlib.pyplot as plt\n",
    "from sklearn.model_selection import train_test_split"
   ]
  },
  {
   "cell_type": "code",
   "execution_count": 2,
   "id": "c3a072c4",
   "metadata": {},
   "outputs": [],
   "source": [
    "# Common paths\n",
    "BASE_PATH = os.path.join(os.getcwd(), \"..\", \"..\")\n",
    "MODULE_PATH = os.path.join(BASE_PATH, \"modules\")\n",
    "DS_PATH = os.path.join(BASE_PATH, \"datasets\")"
   ]
  },
  {
   "cell_type": "code",
   "execution_count": 3,
   "id": "a10ec022",
   "metadata": {},
   "outputs": [
    {
     "data": {
      "text/plain": [
       "<module 'data.mnist' from '/home/exleonem/Desktop/workspace/thesis/wp/notebooks/model/../../modules/data/mnist.py'>"
      ]
     },
     "execution_count": 3,
     "metadata": {},
     "output_type": "execute_result"
    }
   ],
   "source": [
    "sys.path.append(MODULE_PATH)\n",
    "\n",
    "import mp.MomentPropagation as mp\n",
    "importlib.reload(mp)\n",
    "\n",
    "import data.mnist as mnist_loader\n",
    "importlib.reload(mnist_loader)"
   ]
  },
  {
   "cell_type": "code",
   "execution_count": 4,
   "id": "d08978b3",
   "metadata": {},
   "outputs": [],
   "source": [
    "import tensorflow as tf\n",
    "from tensorflow import keras\n",
    "import tensorflow.keras\n",
    "from tensorflow.keras import Sequential\n",
    "from tensorflow.keras.layers import  Conv2D, MaxPool2D, Dropout, Flatten, Dense, Softmax"
   ]
  },
  {
   "cell_type": "code",
   "execution_count": 5,
   "id": "868efdb6",
   "metadata": {},
   "outputs": [
    {
     "name": "stdout",
     "output_type": "stream",
     "text": [
      "1 Physical GPU's,  1 Logical GPU's\n"
     ]
    }
   ],
   "source": [
    "gpus = tf.config.experimental.list_physical_devices(\"GPU\")\n",
    "cpus = tf.config.experimental.list_physical_devices(\"CPU\")\n",
    "\n",
    "if gpus:\n",
    "    try:\n",
    "        for gpu in gpus:\n",
    "            tf.config.experimental.set_memory_growth(gpu, True)\n",
    "            \n",
    "        logical_gpus = tf.config.experimental.list_logical_devices(\"GPU\")\n",
    "        print(len(gpus), \"Physical GPU's, \", len(logical_gpus), \"Logical GPU's\")\n",
    "        \n",
    "    except RuntimeError as e:\n",
    "        print(e)\n",
    "        \n",
    "elif cpus:\n",
    "    try:\n",
    "        logical_cpus = tf.config.experimental.list_logical_devices(\"CPU\")\n",
    "        print(len(cpus), \"Physical CPU,\", len(logical_cpus), \"Logical CPU\")\n",
    "        \n",
    "    except RuntimeError as e:\n",
    "        print(e)\n",
    "        \n",
    "        \n",
    "tfk = tf.keras"
   ]
  },
  {
   "cell_type": "code",
   "execution_count": 6,
   "id": "0c2f9609",
   "metadata": {},
   "outputs": [
    {
     "name": "stdout",
     "output_type": "stream",
     "text": [
      "Model: \"sequential\"\n",
      "_________________________________________________________________\n",
      "Layer (type)                 Output Shape              Param #   \n",
      "=================================================================\n",
      "conv2d (Conv2D)              (None, 25, 25, 128)       2176      \n",
      "_________________________________________________________________\n",
      "max_pooling2d (MaxPooling2D) (None, 12, 12, 128)       0         \n",
      "_________________________________________________________________\n",
      "dropout (Dropout)            (None, 12, 12, 128)       0         \n",
      "_________________________________________________________________\n",
      "conv2d_1 (Conv2D)            (None, 10, 10, 64)        73792     \n",
      "_________________________________________________________________\n",
      "max_pooling2d_1 (MaxPooling2 (None, 5, 5, 64)          0         \n",
      "_________________________________________________________________\n",
      "dropout_1 (Dropout)          (None, 5, 5, 64)          0         \n",
      "_________________________________________________________________\n",
      "flatten (Flatten)            (None, 1600)              0         \n",
      "_________________________________________________________________\n",
      "dense (Dense)                (None, 512)               819712    \n",
      "_________________________________________________________________\n",
      "dense_1 (Dense)              (None, 256)               131328    \n",
      "_________________________________________________________________\n",
      "dense_2 (Dense)              (None, 128)               32896     \n",
      "_________________________________________________________________\n",
      "dense_3 (Dense)              (None, 1)                 129       \n",
      "=================================================================\n",
      "Total params: 1,060,033\n",
      "Trainable params: 1,060,033\n",
      "Non-trainable params: 0\n",
      "_________________________________________________________________\n"
     ]
    }
   ],
   "source": [
    "input_shape = (28, 28, 1)\n",
    "model = Sequential([\n",
    "    Conv2D(128, 4,activation=\"relu\", input_shape=input_shape),\n",
    "    MaxPool2D(),\n",
    "    Dropout(.2),\n",
    "    Conv2D(64, 3, activation=\"relu\"),\n",
    "    MaxPool2D(),\n",
    "    Dropout(.2),\n",
    "    Flatten(),\n",
    "    Dense(512, activation=\"relu\"),\n",
    "    Dense(256, activation=\"relu\"),\n",
    "    Dense(128, activation=\"relu\"),\n",
    "    Dense(1, activation=\"sigmoid\")\n",
    "])\n",
    "\n",
    "model.build(input_shape)\n",
    "model.summary()"
   ]
  },
  {
   "cell_type": "code",
   "execution_count": 7,
   "id": "524e7e61",
   "metadata": {},
   "outputs": [
    {
     "data": {
      "text/plain": [
       "<module 'active_learning' from '/home/exleonem/Desktop/workspace/thesis/wp/notebooks/model/../../modules/active_learning/__init__.py'>"
      ]
     },
     "execution_count": 7,
     "metadata": {},
     "output_type": "execute_result"
    }
   ],
   "source": [
    "import active_learning as active\n",
    "importlib.reload(active)"
   ]
  },
  {
   "cell_type": "code",
   "execution_count": 8,
   "id": "54c0acfd",
   "metadata": {},
   "outputs": [],
   "source": [
    "new_checkpoint = active.Checkpoint(\"mc_dropout\")\n",
    "new_checkpoint.load(model)"
   ]
  },
  {
   "cell_type": "code",
   "execution_count": 9,
   "id": "dce00b5b",
   "metadata": {},
   "outputs": [],
   "source": [
    "import mp.MomentPropagation as mp\n",
    "importlib.reload(mp)\n",
    "\n",
    "mp = mp.MP()\n",
    "mp_model = mp.create_MP_Model(model=model, use_mp=True, verbose=True)"
   ]
  },
  {
   "cell_type": "code",
   "execution_count": 10,
   "id": "2eac30b4",
   "metadata": {},
   "outputs": [],
   "source": [
    "import data.mnist as mnist_loader\n",
    "importlib.reload(mnist_loader)\n",
    "\n",
    "# Load Data\n",
    "mnist_path = os.path.join(DS_PATH, \"mnist\")\n",
    "inputs, targets = mnist_loader.load(mnist_path)\n",
    "\n",
    "# Select only first and second class\n",
    "selector = (targets==0) | (targets==1)\n",
    "new_inputs = inputs[selector].astype(\"float32\")/255.0\n",
    "new_targets = targets[selector]\n",
    "\n",
    "# Create splits\n",
    "x_train, x_test, y_train, y_test = train_test_split(new_inputs, new_targets)\n",
    "x_test, x_val, y_test, y_val = train_test_split(x_test, y_test)"
   ]
  },
  {
   "cell_type": "code",
   "execution_count": 15,
   "id": "ee48075e",
   "metadata": {},
   "outputs": [
    {
     "data": {
      "text/plain": [
       "(14780, 28, 28)"
      ]
     },
     "execution_count": 15,
     "metadata": {},
     "output_type": "execute_result"
    }
   ],
   "source": [
    "new_inputs.shape"
   ]
  },
  {
   "cell_type": "code",
   "execution_count": 23,
   "id": "139eea49",
   "metadata": {},
   "outputs": [
    {
     "data": {
      "text/plain": [
       "(14780, 1, 28, 28)"
      ]
     },
     "execution_count": 23,
     "metadata": {},
     "output_type": "execute_result"
    }
   ],
   "source": [
    "new_inputs[:, None, ...].shape"
   ]
  },
  {
   "cell_type": "code",
   "execution_count": 26,
   "id": "3c33741f",
   "metadata": {},
   "outputs": [
    {
     "data": {
      "text/plain": [
       "(14780, 28, 28, 1)"
      ]
     },
     "execution_count": 26,
     "metadata": {},
     "output_type": "execute_result"
    }
   ],
   "source": [
    "sample_input = np.expand_dims(new_inputs, axis=-1)\n",
    "sample_input.shape"
   ]
  },
  {
   "cell_type": "code",
   "execution_count": 28,
   "id": "7b1de9dc",
   "metadata": {},
   "outputs": [
    {
     "data": {
      "text/plain": [
       "array([[1.],\n",
       "       [1.],\n",
       "       [1.],\n",
       "       [1.],\n",
       "       [1.]], dtype=float32)"
      ]
     },
     "execution_count": 28,
     "metadata": {},
     "output_type": "execute_result"
    }
   ],
   "source": [
    "model.predict(sample_input[:5])"
   ]
  },
  {
   "cell_type": "code",
   "execution_count": null,
   "id": "c2b16b6d",
   "metadata": {},
   "outputs": [],
   "source": []
  },
  {
   "cell_type": "code",
   "execution_count": 13,
   "id": "ab2b36cf",
   "metadata": {},
   "outputs": [
    {
     "name": "stderr",
     "output_type": "stream",
     "text": [
      "Training time: 12.79493522644043//Acquisition: 0.001264333724975586//Update: 2.7894973754882812e-05: 100%|██████████| 37/37 [05:12<00:00,  8.46s/it]  \n"
     ]
    },
    {
     "data": {
      "text/plain": [
       "[{'iteration': 0, 'training': None},\n",
       " {'iteration': 400,\n",
       "  'training': {'loss': [5.092104692872874e-34], 'accuracy': [1.0]}},\n",
       " {'iteration': 800,\n",
       "  'training': {'loss': [2.3962803612285135e-34], 'accuracy': [1.0]}},\n",
       " {'iteration': 1200,\n",
       "  'training': {'loss': [4.622803817999438e-33], 'accuracy': [1.0]}},\n",
       " {'iteration': 1600,\n",
       "  'training': {'loss': [7.218652952037088e-34], 'accuracy': [1.0]}},\n",
       " {'iteration': 2000,\n",
       "  'training': {'loss': [1.0226904442593568e-32], 'accuracy': [1.0]}},\n",
       " {'iteration': 2400,\n",
       "  'training': {'loss': [5.896790636425217e-33], 'accuracy': [1.0]}},\n",
       " {'iteration': 2800,\n",
       "  'training': {'loss': [7.489674011207713e-33], 'accuracy': [1.0]}},\n",
       " {'iteration': 3200,\n",
       "  'training': {'loss': [3.621315765345863e-32], 'accuracy': [1.0]}},\n",
       " {'iteration': 3600,\n",
       "  'training': {'loss': [8.381284713064892e-32], 'accuracy': [1.0]}},\n",
       " {'iteration': 4000,\n",
       "  'training': {'loss': [1.2655430955670288e-31], 'accuracy': [1.0]}},\n",
       " {'iteration': 4400,\n",
       "  'training': {'loss': [2.3719424761951577e-32], 'accuracy': [1.0]}},\n",
       " {'iteration': 4800,\n",
       "  'training': {'loss': [1.2340887769173445e-32], 'accuracy': [1.0]}},\n",
       " {'iteration': 5200,\n",
       "  'training': {'loss': [2.1101415171678027e-32], 'accuracy': [1.0]}},\n",
       " {'iteration': 5600,\n",
       "  'training': {'loss': [1.3400076064063086e-31], 'accuracy': [1.0]}},\n",
       " {'iteration': 6000,\n",
       "  'training': {'loss': [5.031356797861309e-32], 'accuracy': [1.0]}},\n",
       " {'iteration': 6400,\n",
       "  'training': {'loss': [6.90262478556737e-33], 'accuracy': [1.0]}},\n",
       " {'iteration': 6800,\n",
       "  'training': {'loss': [4.1019330876004666e-32], 'accuracy': [1.0]}},\n",
       " {'iteration': 7200,\n",
       "  'training': {'loss': [4.6088914750154716e-33], 'accuracy': [1.0]}},\n",
       " {'iteration': 7600,\n",
       "  'training': {'loss': [3.099905556508261e-32], 'accuracy': [1.0]}},\n",
       " {'iteration': 8000,\n",
       "  'training': {'loss': [1.8571541209093255e-31], 'accuracy': [1.0]}},\n",
       " {'iteration': 8400,\n",
       "  'training': {'loss': [9.759188259001315e-31], 'accuracy': [1.0]}},\n",
       " {'iteration': 8800,\n",
       "  'training': {'loss': [1.606012544655227e-32], 'accuracy': [1.0]}},\n",
       " {'iteration': 9200,\n",
       "  'training': {'loss': [3.572251218889716e-32], 'accuracy': [1.0]}},\n",
       " {'iteration': 9600,\n",
       "  'training': {'loss': [5.954179225721521e-32], 'accuracy': [1.0]}},\n",
       " {'iteration': 10000,\n",
       "  'training': {'loss': [3.616980836053618e-32], 'accuracy': [1.0]}},\n",
       " {'iteration': 10400,\n",
       "  'training': {'loss': [1.0467195324368813e-31], 'accuracy': [1.0]}},\n",
       " {'iteration': 10800,\n",
       "  'training': {'loss': [4.6093278772932144e-32], 'accuracy': [1.0]}},\n",
       " {'iteration': 11200,\n",
       "  'training': {'loss': [5.518626830394392e-32], 'accuracy': [1.0]}},\n",
       " {'iteration': 11600,\n",
       "  'training': {'loss': [2.025643650704212e-30], 'accuracy': [1.0]}},\n",
       " {'iteration': 12000,\n",
       "  'training': {'loss': [3.469253592779565e-30], 'accuracy': [1.0]}},\n",
       " {'iteration': 12400,\n",
       "  'training': {'loss': [4.906237884456395e-31], 'accuracy': [1.0]}},\n",
       " {'iteration': 12800,\n",
       "  'training': {'loss': [4.817472074246141e-31], 'accuracy': [1.0]}},\n",
       " {'iteration': 13200,\n",
       "  'training': {'loss': [6.578372015732735e-31], 'accuracy': [1.0]}},\n",
       " {'iteration': 13600,\n",
       "  'training': {'loss': [4.24629701819289e-31], 'accuracy': [1.0]}},\n",
       " {'iteration': 14000,\n",
       "  'training': {'loss': [5.525176567367738e-31], 'accuracy': [1.0]}},\n",
       " {'iteration': 14400,\n",
       "  'training': {'loss': [3.192898820562264e-30], 'accuracy': [1.0]}}]"
      ]
     },
     "execution_count": 13,
     "metadata": {},
     "output_type": "execute_result"
    }
   ],
   "source": [
    "%load_ext autoreload \n",
    "%autoreload 2\n",
    "\n",
    "import acl\n",
    "importlib.reload(acl)\n",
    "from acl import ActiveLearning\n",
    "\n",
    "import active_learning\n",
    "importlib.reload(active_learning)\n",
    "from active_learning import TrainConfig, Config\n",
    "\n",
    "train_config = TrainConfig(\n",
    "    batch_size=2,\n",
    "    epochs=1\n",
    ")\n",
    "\n",
    "acq_config = Config(\n",
    "    name=\"std_mean\",\n",
    "    pseudo=True\n",
    ")\n",
    "\n",
    "\n",
    "active_learning = ActiveLearning(\n",
    "    model, \n",
    "    np.expand_dims(new_inputs, axis=-1), labels=new_targets, \n",
    "    train_config=train_config\n",
    ")\n",
    "\n",
    "active_learning.start(step_size=400)"
   ]
  },
  {
   "cell_type": "code",
   "execution_count": null,
   "id": "a981b791",
   "metadata": {},
   "outputs": [],
   "source": []
  },
  {
   "cell_type": "code",
   "execution_count": null,
   "id": "2a1012e9",
   "metadata": {},
   "outputs": [],
   "source": []
  },
  {
   "cell_type": "code",
   "execution_count": null,
   "id": "0d6d9ed5",
   "metadata": {},
   "outputs": [],
   "source": []
  },
  {
   "cell_type": "code",
   "execution_count": null,
   "id": "24bd1ea1",
   "metadata": {},
   "outputs": [],
   "source": []
  },
  {
   "cell_type": "code",
   "execution_count": null,
   "id": "a5fbba06",
   "metadata": {},
   "outputs": [],
   "source": []
  },
  {
   "cell_type": "code",
   "execution_count": null,
   "id": "f0fc5c91",
   "metadata": {},
   "outputs": [],
   "source": []
  },
  {
   "cell_type": "code",
   "execution_count": null,
   "id": "d6746ce5",
   "metadata": {},
   "outputs": [],
   "source": []
  },
  {
   "cell_type": "code",
   "execution_count": null,
   "id": "5551071d",
   "metadata": {},
   "outputs": [],
   "source": []
  },
  {
   "cell_type": "code",
   "execution_count": null,
   "id": "01a81796",
   "metadata": {},
   "outputs": [],
   "source": []
  }
 ],
 "metadata": {
  "kernelspec": {
   "display_name": "Python 3",
   "language": "python",
   "name": "python3"
  },
  "language_info": {
   "codemirror_mode": {
    "name": "ipython",
    "version": 3
   },
   "file_extension": ".py",
   "mimetype": "text/x-python",
   "name": "python",
   "nbconvert_exporter": "python",
   "pygments_lexer": "ipython3",
   "version": "3.8.8"
  }
 },
 "nbformat": 4,
 "nbformat_minor": 5
}
