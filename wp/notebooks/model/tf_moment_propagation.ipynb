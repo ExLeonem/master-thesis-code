{
 "cells": [
  {
   "cell_type": "code",
   "execution_count": 1,
   "id": "limited-bones",
   "metadata": {},
   "outputs": [],
   "source": [
    "import os, sys, importlib\n",
    "\n",
    "import numpy as np\n",
    "import pandas as pd\n",
    "import matplotlib.pyplot as plt\n",
    "from sklearn.model_selection import train_test_split"
   ]
  },
  {
   "cell_type": "code",
   "execution_count": 2,
   "id": "isolated-liquid",
   "metadata": {},
   "outputs": [],
   "source": [
    "# Common paths\n",
    "BASE_PATH = os.path.join(os.getcwd(), \"..\", \"..\")\n",
    "MODULE_PATH = os.path.join(BASE_PATH, \"modules\")\n",
    "DS_PATH = os.path.join(BASE_PATH, \"datasets\")"
   ]
  },
  {
   "cell_type": "code",
   "execution_count": 3,
   "id": "transsexual-dutch",
   "metadata": {},
   "outputs": [
    {
     "data": {
      "text/plain": [
       "<module 'data.mnist' from '/home/exleonem/Desktop/workspace/thesis/wp/notebooks/model/../../modules/data/mnist.py'>"
      ]
     },
     "execution_count": 3,
     "metadata": {},
     "output_type": "execute_result"
    }
   ],
   "source": [
    "sys.path.append(MODULE_PATH)\n",
    "\n",
    "import mp.MomentPropagation as mp\n",
    "importlib.reload(mp)\n",
    "\n",
    "import data.mnist as mnist_loader\n",
    "importlib.reload(mnist_loader)"
   ]
  },
  {
   "cell_type": "markdown",
   "id": "attended-looking",
   "metadata": {},
   "source": [
    "## Prepare MNIST Data"
   ]
  },
  {
   "cell_type": "code",
   "execution_count": 4,
   "id": "recovered-overview",
   "metadata": {},
   "outputs": [],
   "source": [
    "mnist_path = os.path.join(DS_PATH, \"mnist\")\n",
    "inputs, targets = mnist_loader.load(mnist_path)"
   ]
  },
  {
   "cell_type": "code",
   "execution_count": 5,
   "id": "weird-acting",
   "metadata": {},
   "outputs": [],
   "source": [
    "selector = (targets==0) | (targets==1)"
   ]
  },
  {
   "cell_type": "code",
   "execution_count": 6,
   "id": "certified-spanking",
   "metadata": {},
   "outputs": [],
   "source": [
    "new_inputs = inputs[selector].astype(\"float32\")/255.0\n",
    "new_targets = targets[selector]"
   ]
  },
  {
   "cell_type": "code",
   "execution_count": 7,
   "id": "engaging-excitement",
   "metadata": {},
   "outputs": [],
   "source": [
    "in_shape = new_inputs.shape\n",
    "new_inputs = new_inputs.reshape(in_shape[0], 28, 28, 1)"
   ]
  },
  {
   "cell_type": "code",
   "execution_count": 8,
   "id": "heated-cycle",
   "metadata": {},
   "outputs": [
    {
     "data": {
      "text/plain": [
       "<matplotlib.image.AxesImage at 0x7fd8ecc10e80>"
      ]
     },
     "execution_count": 8,
     "metadata": {},
     "output_type": "execute_result"
    },
    {
     "data": {
      "image/png": "[encoded data removed]",
      "text/plain": [
       "<Figure size 432x288 with 1 Axes>"
      ]
     },
     "metadata": {
      "needs_background": "light"
     },
     "output_type": "display_data"
    }
   ],
   "source": [
    "plt.imshow(new_inputs[20].reshape(28, 28))"
   ]
  },
  {
   "cell_type": "code",
   "execution_count": 9,
   "id": "express-source",
   "metadata": {},
   "outputs": [],
   "source": [
    "x_train, x_test, y_train, y_test = train_test_split(new_inputs, new_targets)"
   ]
  },
  {
   "cell_type": "code",
   "execution_count": 10,
   "id": "0dba18be",
   "metadata": {},
   "outputs": [],
   "source": [
    "x_test, x_val, y_test, y_val = train_test_split(x_test, y_test)"
   ]
  },
  {
   "cell_type": "code",
   "execution_count": 11,
   "id": "ca54bb41",
   "metadata": {},
   "outputs": [],
   "source": [
    "train_of_class_0 = (y_train == 0).sum()\n",
    "test_of_class_0 = (y_test == 0).sum()\n",
    "val_of_class_0 = (y_val == 0).sum()"
   ]
  },
  {
   "cell_type": "code",
   "execution_count": 12,
   "id": "ac8cbf55",
   "metadata": {},
   "outputs": [
    {
     "name": "stdout",
     "output_type": "stream",
     "text": [
      "Dist-Train\n",
      "class 0:  0.46621560667568784\n",
      "Class 1:  0.5337843933243122\n",
      "\n",
      "Dist-Test\n",
      "Class 0:  0.47672320461927103\n",
      "Class 1:  0.5232767953807289\n",
      "\n",
      "Dist-Val\n",
      "Class 0:  0.44805194805194803\n",
      "Class 1:  0.551948051948052\n"
     ]
    }
   ],
   "source": [
    "print(\"Dist-Train\")\n",
    "num_samples_train = y_train.shape[0]\n",
    "perc_class_0 = train_of_class_0/num_samples_train\n",
    "print(\"class 0: \", str(perc_class_0))\n",
    "print(\"Class 1: \", str(1-perc_class_0))\n",
    "\n",
    "print(\"\\nDist-Test\")\n",
    "num_samples_test = y_test.shape[0]\n",
    "perc_class_0 = test_of_class_0/num_samples_test\n",
    "print(\"Class 0: \", str(perc_class_0))\n",
    "print(\"Class 1: \", str(1-perc_class_0))\n",
    "\n",
    "print(\"\\nDist-Val\")\n",
    "num_samples_val = y_val.shape[0]\n",
    "perc_class_0 = val_of_class_0/num_samples_val\n",
    "print(\"Class 0: \", str(perc_class_0))\n",
    "print(\"Class 1: \", str(1-perc_class_0))"
   ]
  },
  {
   "cell_type": "code",
   "execution_count": 13,
   "id": "hungarian-carter",
   "metadata": {},
   "outputs": [
    {
     "name": "stdout",
     "output_type": "stream",
     "text": [
      "Train-shape:  (11085, 28, 28, 1) float32\n",
      "Test-shape:  (2771, 28, 28, 1) float32\n"
     ]
    }
   ],
   "source": [
    "print(\"Train-shape: \", x_train.shape, x_train.dtype)\n",
    "print(\"Test-shape: \", x_test.shape, x_test.dtype)"
   ]
  },
  {
   "cell_type": "markdown",
   "id": "subtle-strengthening",
   "metadata": {},
   "source": [
    "# Perform moment propagation"
   ]
  },
  {
   "cell_type": "code",
   "execution_count": 14,
   "id": "persistent-montgomery",
   "metadata": {},
   "outputs": [],
   "source": [
    "import tensorflow as tf\n",
    "from tensorflow import keras\n",
    "import tensorflow.keras\n",
    "from tensorflow.keras import Sequential\n",
    "from tensorflow.keras.layers import  Conv2D, MaxPool2D, Dropout, Flatten, Dense, Softmax"
   ]
  },
  {
   "cell_type": "code",
   "execution_count": 15,
   "id": "dying-volleyball",
   "metadata": {},
   "outputs": [
    {
     "name": "stdout",
     "output_type": "stream",
     "text": [
      "1 Physical GPU's,  1 Logical GPU's\n"
     ]
    }
   ],
   "source": [
    "gpus = tf.config.experimental.list_physical_devices(\"GPU\")\n",
    "cpus = tf.config.experimental.list_physical_devices(\"CPU\")\n",
    "\n",
    "if gpus:\n",
    "    try:\n",
    "        for gpu in gpus:\n",
    "            tf.config.experimental.set_memory_growth(gpu, True)\n",
    "            \n",
    "        logical_gpus = tf.config.experimental.list_logical_devices(\"GPU\")\n",
    "        print(len(gpus), \"Physical GPU's, \", len(logical_gpus), \"Logical GPU's\")\n",
    "        \n",
    "    except RuntimeError as e:\n",
    "        print(e)\n",
    "        \n",
    "elif cpus:\n",
    "    try:\n",
    "        logical_cpus = tf.config.experimental.list_logical_devices(\"CPU\")\n",
    "        print(len(cpus), \"Physical CPU,\", len(logical_cpus), \"Logical CPU\")\n",
    "        \n",
    "    except RuntimeError as e:\n",
    "        print(e)\n",
    "        \n",
    "        \n",
    "tfk = tf.keras"
   ]
  },
  {
   "cell_type": "code",
   "execution_count": 16,
   "id": "nasty-thunder",
   "metadata": {},
   "outputs": [],
   "source": [
    "tfk.backend.clear_session()\n",
    "input_shape = (28, 28, 1)"
   ]
  },
  {
   "cell_type": "code",
   "execution_count": 80,
   "id": "wicked-paraguay",
   "metadata": {},
   "outputs": [
    {
     "name": "stdout",
     "output_type": "stream",
     "text": [
      "Model: \"sequential_2\"\n",
      "_________________________________________________________________\n",
      "Layer (type)                 Output Shape              Param #   \n",
      "=================================================================\n",
      "conv2d_4 (Conv2D)            (None, 25, 25, 128)       2176      \n",
      "_________________________________________________________________\n",
      "max_pooling2d_4 (MaxPooling2 (None, 12, 12, 128)       0         \n",
      "_________________________________________________________________\n",
      "dropout_4 (Dropout)          (None, 12, 12, 128)       0         \n",
      "_________________________________________________________________\n",
      "conv2d_5 (Conv2D)            (None, 10, 10, 64)        73792     \n",
      "_________________________________________________________________\n",
      "max_pooling2d_5 (MaxPooling2 (None, 5, 5, 64)          0         \n",
      "_________________________________________________________________\n",
      "dropout_5 (Dropout)          (None, 5, 5, 64)          0         \n",
      "_________________________________________________________________\n",
      "flatten_2 (Flatten)          (None, 1600)              0         \n",
      "_________________________________________________________________\n",
      "dense_8 (Dense)              (None, 512)               819712    \n",
      "_________________________________________________________________\n",
      "dense_9 (Dense)              (None, 256)               131328    \n",
      "_________________________________________________________________\n",
      "dense_10 (Dense)             (None, 128)               32896     \n",
      "_________________________________________________________________\n",
      "dense_11 (Dense)             (None, 1)                 129       \n",
      "=================================================================\n",
      "Total params: 1,060,033\n",
      "Trainable params: 1,060,033\n",
      "Non-trainable params: 0\n",
      "_________________________________________________________________\n"
     ]
    }
   ],
   "source": [
    "input_shape = (28, 28, 1)\n",
    "model = Sequential([\n",
    "    Conv2D(128, 4,activation=\"relu\", input_shape=input_shape),\n",
    "    MaxPool2D(),\n",
    "    Dropout(.2),\n",
    "    Conv2D(64, 3, activation=\"relu\"),\n",
    "    MaxPool2D(),\n",
    "    Dropout(.2),\n",
    "    Flatten(),\n",
    "    Dense(512, activation=\"relu\"),\n",
    "    Dense(256, activation=\"relu\"),\n",
    "    Dense(128, activation=\"relu\"),\n",
    "    Dense(1, activation=\"sigmoid\")\n",
    "])\n",
    "\n",
    "model.build(input_shape)\n",
    "model.summary()"
   ]
  },
  {
   "cell_type": "code",
   "execution_count": 81,
   "id": "selective-barrier",
   "metadata": {},
   "outputs": [
    {
     "name": "stdout",
     "output_type": "stream",
     "text": [
      "Epoch 1/100\n",
      "278/278 [==============================] - 1s 4ms/step - loss: 0.6786 - binary_accuracy: 0.4669 - val_loss: 0.6659 - val_binary_accuracy: 0.4481\n",
      "Epoch 2/100\n",
      "278/278 [==============================] - 1s 4ms/step - loss: 0.6535 - binary_accuracy: 0.4972 - val_loss: 0.6348 - val_binary_accuracy: 0.7229\n",
      "Epoch 3/100\n",
      "278/278 [==============================] - 1s 4ms/step - loss: 0.6176 - binary_accuracy: 0.7081 - val_loss: 0.5897 - val_binary_accuracy: 0.9502\n",
      "Epoch 4/100\n",
      "278/278 [==============================] - 1s 5ms/step - loss: 0.5644 - binary_accuracy: 0.9197 - val_loss: 0.5258 - val_binary_accuracy: 0.9816\n",
      "Epoch 5/100\n",
      "278/278 [==============================] - 1s 4ms/step - loss: 0.4915 - binary_accuracy: 0.9726 - val_loss: 0.4428 - val_binary_accuracy: 0.9881\n",
      "Epoch 6/100\n",
      "278/278 [==============================] - 1s 4ms/step - loss: 0.4007 - binary_accuracy: 0.9871 - val_loss: 0.3434 - val_binary_accuracy: 0.9957\n",
      "Epoch 7/100\n",
      "278/278 [==============================] - 1s 4ms/step - loss: 0.2989 - binary_accuracy: 0.9920 - val_loss: 0.2405 - val_binary_accuracy: 0.9946\n",
      "Epoch 8/100\n",
      "278/278 [==============================] - 1s 4ms/step - loss: 0.2049 - binary_accuracy: 0.9919 - val_loss: 0.1589 - val_binary_accuracy: 0.9935\n",
      "Epoch 9/100\n",
      "278/278 [==============================] - 1s 4ms/step - loss: 0.1387 - binary_accuracy: 0.9903 - val_loss: 0.1073 - val_binary_accuracy: 0.9946\n",
      "Epoch 10/100\n",
      "278/278 [==============================] - 1s 4ms/step - loss: 0.0971 - binary_accuracy: 0.9917 - val_loss: 0.0767 - val_binary_accuracy: 0.9946\n",
      "Epoch 11/100\n",
      "278/278 [==============================] - 1s 4ms/step - loss: 0.0729 - binary_accuracy: 0.9910 - val_loss: 0.0584 - val_binary_accuracy: 0.9946\n",
      "Epoch 12/100\n",
      "278/278 [==============================] - 1s 4ms/step - loss: 0.0577 - binary_accuracy: 0.9921 - val_loss: 0.0468 - val_binary_accuracy: 0.9946\n",
      "Epoch 13/100\n",
      "278/278 [==============================] - 1s 4ms/step - loss: 0.0484 - binary_accuracy: 0.9918 - val_loss: 0.0393 - val_binary_accuracy: 0.9946\n",
      "Epoch 14/100\n",
      "278/278 [==============================] - 1s 4ms/step - loss: 0.0419 - binary_accuracy: 0.9919 - val_loss: 0.0340 - val_binary_accuracy: 0.9946\n",
      "Epoch 15/100\n",
      "278/278 [==============================] - 1s 4ms/step - loss: 0.0378 - binary_accuracy: 0.9920 - val_loss: 0.0302 - val_binary_accuracy: 0.9946\n",
      "Epoch 16/100\n",
      "278/278 [==============================] - 1s 4ms/step - loss: 0.0342 - binary_accuracy: 0.9922 - val_loss: 0.0272 - val_binary_accuracy: 0.9946\n",
      "Epoch 17/100\n",
      "278/278 [==============================] - 1s 4ms/step - loss: 0.0309 - binary_accuracy: 0.9925 - val_loss: 0.0250 - val_binary_accuracy: 0.9946\n",
      "Epoch 18/100\n",
      "278/278 [==============================] - 1s 4ms/step - loss: 0.0295 - binary_accuracy: 0.9928 - val_loss: 0.0231 - val_binary_accuracy: 0.9957\n",
      "Epoch 19/100\n",
      "278/278 [==============================] - 1s 4ms/step - loss: 0.0269 - binary_accuracy: 0.9935 - val_loss: 0.0217 - val_binary_accuracy: 0.9957\n",
      "Epoch 20/100\n",
      "278/278 [==============================] - 1s 4ms/step - loss: 0.0264 - binary_accuracy: 0.9928 - val_loss: 0.0204 - val_binary_accuracy: 0.9957\n",
      "Epoch 21/100\n",
      "278/278 [==============================] - 1s 4ms/step - loss: 0.0252 - binary_accuracy: 0.9929 - val_loss: 0.0194 - val_binary_accuracy: 0.9957\n",
      "Epoch 22/100\n",
      "278/278 [==============================] - 1s 4ms/step - loss: 0.0244 - binary_accuracy: 0.9930 - val_loss: 0.0186 - val_binary_accuracy: 0.9957\n",
      "Epoch 23/100\n",
      "278/278 [==============================] - 1s 4ms/step - loss: 0.0234 - binary_accuracy: 0.9934 - val_loss: 0.0177 - val_binary_accuracy: 0.9968\n",
      "Epoch 24/100\n",
      "278/278 [==============================] - 1s 4ms/step - loss: 0.0223 - binary_accuracy: 0.9942 - val_loss: 0.0170 - val_binary_accuracy: 0.9968\n",
      "Epoch 25/100\n",
      "278/278 [==============================] - 1s 4ms/step - loss: 0.0220 - binary_accuracy: 0.9937 - val_loss: 0.0165 - val_binary_accuracy: 0.9968\n",
      "Epoch 26/100\n",
      "278/278 [==============================] - 1s 4ms/step - loss: 0.0223 - binary_accuracy: 0.9932 - val_loss: 0.0159 - val_binary_accuracy: 0.9968\n",
      "Epoch 27/100\n",
      "278/278 [==============================] - 1s 4ms/step - loss: 0.0205 - binary_accuracy: 0.9935 - val_loss: 0.0154 - val_binary_accuracy: 0.9968\n",
      "Epoch 28/100\n",
      "278/278 [==============================] - 1s 4ms/step - loss: 0.0218 - binary_accuracy: 0.9933 - val_loss: 0.0150 - val_binary_accuracy: 0.9968\n",
      "Epoch 29/100\n",
      "278/278 [==============================] - 1s 4ms/step - loss: 0.0198 - binary_accuracy: 0.9940 - val_loss: 0.0145 - val_binary_accuracy: 0.9968\n",
      "Epoch 30/100\n",
      "278/278 [==============================] - 1s 4ms/step - loss: 0.0196 - binary_accuracy: 0.9943 - val_loss: 0.0141 - val_binary_accuracy: 0.9968\n",
      "Epoch 31/100\n",
      "278/278 [==============================] - 1s 4ms/step - loss: 0.0198 - binary_accuracy: 0.9935 - val_loss: 0.0137 - val_binary_accuracy: 0.9978\n",
      "Epoch 32/100\n",
      "278/278 [==============================] - 1s 4ms/step - loss: 0.0187 - binary_accuracy: 0.9938 - val_loss: 0.0134 - val_binary_accuracy: 0.9978\n",
      "Epoch 33/100\n",
      "278/278 [==============================] - 1s 4ms/step - loss: 0.0181 - binary_accuracy: 0.9945 - val_loss: 0.0131 - val_binary_accuracy: 0.9978\n",
      "Epoch 34/100\n",
      "278/278 [==============================] - 1s 4ms/step - loss: 0.0189 - binary_accuracy: 0.9937 - val_loss: 0.0128 - val_binary_accuracy: 0.9978\n",
      "Epoch 35/100\n",
      "278/278 [==============================] - 1s 4ms/step - loss: 0.0177 - binary_accuracy: 0.9948 - val_loss: 0.0124 - val_binary_accuracy: 0.9978\n",
      "Epoch 36/100\n",
      "278/278 [==============================] - 1s 4ms/step - loss: 0.0175 - binary_accuracy: 0.9946 - val_loss: 0.0122 - val_binary_accuracy: 0.9978\n",
      "Epoch 37/100\n",
      "278/278 [==============================] - 1s 4ms/step - loss: 0.0171 - binary_accuracy: 0.9946 - val_loss: 0.0119 - val_binary_accuracy: 0.9978\n",
      "Epoch 38/100\n",
      "278/278 [==============================] - 1s 4ms/step - loss: 0.0167 - binary_accuracy: 0.9948 - val_loss: 0.0117 - val_binary_accuracy: 0.9978\n",
      "Epoch 39/100\n",
      "278/278 [==============================] - 1s 4ms/step - loss: 0.0165 - binary_accuracy: 0.9947 - val_loss: 0.0114 - val_binary_accuracy: 0.9978\n",
      "Epoch 40/100\n",
      "278/278 [==============================] - 1s 4ms/step - loss: 0.0167 - binary_accuracy: 0.9943 - val_loss: 0.0112 - val_binary_accuracy: 0.9978\n",
      "Epoch 41/100\n",
      "278/278 [==============================] - 1s 4ms/step - loss: 0.0170 - binary_accuracy: 0.9949 - val_loss: 0.0110 - val_binary_accuracy: 0.9978\n",
      "Epoch 42/100\n",
      "278/278 [==============================] - 1s 4ms/step - loss: 0.0165 - binary_accuracy: 0.9951 - val_loss: 0.0107 - val_binary_accuracy: 0.9978\n",
      "Epoch 43/100\n",
      "278/278 [==============================] - 1s 4ms/step - loss: 0.0156 - binary_accuracy: 0.9944 - val_loss: 0.0105 - val_binary_accuracy: 0.9978\n",
      "Epoch 44/100\n",
      "278/278 [==============================] - 1s 4ms/step - loss: 0.0157 - binary_accuracy: 0.9947 - val_loss: 0.0104 - val_binary_accuracy: 0.9978\n",
      "Epoch 45/100\n",
      "278/278 [==============================] - 1s 4ms/step - loss: 0.0156 - binary_accuracy: 0.9944 - val_loss: 0.0102 - val_binary_accuracy: 0.9978\n",
      "Epoch 46/100\n",
      "278/278 [==============================] - 1s 4ms/step - loss: 0.0153 - binary_accuracy: 0.9953 - val_loss: 0.0100 - val_binary_accuracy: 0.9978\n",
      "Epoch 47/100\n",
      "278/278 [==============================] - 1s 4ms/step - loss: 0.0154 - binary_accuracy: 0.9947 - val_loss: 0.0098 - val_binary_accuracy: 0.9978\n",
      "Epoch 48/100\n",
      "278/278 [==============================] - 1s 4ms/step - loss: 0.0144 - binary_accuracy: 0.9952 - val_loss: 0.0097 - val_binary_accuracy: 0.9978\n",
      "Epoch 49/100\n",
      "278/278 [==============================] - 1s 4ms/step - loss: 0.0144 - binary_accuracy: 0.9955 - val_loss: 0.0095 - val_binary_accuracy: 0.9978\n",
      "Epoch 50/100\n",
      "278/278 [==============================] - 1s 4ms/step - loss: 0.0150 - binary_accuracy: 0.9950 - val_loss: 0.0094 - val_binary_accuracy: 0.9978\n",
      "Epoch 51/100\n",
      "278/278 [==============================] - 1s 4ms/step - loss: 0.0144 - binary_accuracy: 0.9951 - val_loss: 0.0093 - val_binary_accuracy: 0.9978\n",
      "Epoch 52/100\n",
      "278/278 [==============================] - 1s 4ms/step - loss: 0.0139 - binary_accuracy: 0.9958 - val_loss: 0.0091 - val_binary_accuracy: 0.9978\n"
     ]
    },
    {
     "name": "stdout",
     "output_type": "stream",
     "text": [
      "Epoch 53/100\n",
      "278/278 [==============================] - 1s 4ms/step - loss: 0.0142 - binary_accuracy: 0.9953 - val_loss: 0.0089 - val_binary_accuracy: 0.9978\n",
      "Epoch 54/100\n",
      "278/278 [==============================] - 1s 4ms/step - loss: 0.0138 - binary_accuracy: 0.9952 - val_loss: 0.0088 - val_binary_accuracy: 0.9978\n",
      "Epoch 55/100\n",
      "278/278 [==============================] - 1s 4ms/step - loss: 0.0140 - binary_accuracy: 0.9951 - val_loss: 0.0087 - val_binary_accuracy: 0.9978\n",
      "Epoch 56/100\n",
      "278/278 [==============================] - 1s 4ms/step - loss: 0.0136 - binary_accuracy: 0.9958 - val_loss: 0.0086 - val_binary_accuracy: 0.9978\n",
      "Epoch 57/100\n",
      "278/278 [==============================] - 1s 4ms/step - loss: 0.0139 - binary_accuracy: 0.9951 - val_loss: 0.0084 - val_binary_accuracy: 0.9978\n",
      "Epoch 58/100\n",
      "278/278 [==============================] - 1s 4ms/step - loss: 0.0131 - binary_accuracy: 0.9955 - val_loss: 0.0083 - val_binary_accuracy: 0.9978\n",
      "Epoch 59/100\n",
      "278/278 [==============================] - 1s 4ms/step - loss: 0.0136 - binary_accuracy: 0.9958 - val_loss: 0.0082 - val_binary_accuracy: 0.9978\n",
      "Epoch 60/100\n",
      "278/278 [==============================] - 1s 4ms/step - loss: 0.0132 - binary_accuracy: 0.9957 - val_loss: 0.0080 - val_binary_accuracy: 0.9978\n",
      "Epoch 61/100\n",
      "278/278 [==============================] - 1s 4ms/step - loss: 0.0123 - binary_accuracy: 0.9962 - val_loss: 0.0079 - val_binary_accuracy: 0.9978\n",
      "Epoch 62/100\n",
      "278/278 [==============================] - 1s 4ms/step - loss: 0.0124 - binary_accuracy: 0.9959 - val_loss: 0.0078 - val_binary_accuracy: 0.9978\n",
      "Epoch 63/100\n",
      "278/278 [==============================] - 1s 4ms/step - loss: 0.0126 - binary_accuracy: 0.9957 - val_loss: 0.0077 - val_binary_accuracy: 0.9978\n",
      "Epoch 64/100\n",
      "278/278 [==============================] - 1s 4ms/step - loss: 0.0122 - binary_accuracy: 0.9957 - val_loss: 0.0076 - val_binary_accuracy: 0.9978\n",
      "Epoch 65/100\n",
      "278/278 [==============================] - 1s 4ms/step - loss: 0.0121 - binary_accuracy: 0.9961 - val_loss: 0.0075 - val_binary_accuracy: 0.9978\n",
      "Epoch 66/100\n",
      "278/278 [==============================] - 1s 4ms/step - loss: 0.0125 - binary_accuracy: 0.9958 - val_loss: 0.0074 - val_binary_accuracy: 0.9978\n",
      "Epoch 67/100\n",
      "278/278 [==============================] - 1s 4ms/step - loss: 0.0126 - binary_accuracy: 0.9958 - val_loss: 0.0072 - val_binary_accuracy: 0.9978\n",
      "Epoch 68/100\n",
      "278/278 [==============================] - 1s 4ms/step - loss: 0.0122 - binary_accuracy: 0.9955 - val_loss: 0.0071 - val_binary_accuracy: 0.9978\n",
      "Epoch 69/100\n",
      "278/278 [==============================] - 1s 4ms/step - loss: 0.0125 - binary_accuracy: 0.9958 - val_loss: 0.0071 - val_binary_accuracy: 0.9978\n",
      "Epoch 70/100\n",
      "278/278 [==============================] - 1s 4ms/step - loss: 0.0121 - binary_accuracy: 0.9963 - val_loss: 0.0070 - val_binary_accuracy: 0.9978\n",
      "Epoch 71/100\n",
      "278/278 [==============================] - 1s 4ms/step - loss: 0.0113 - binary_accuracy: 0.9961 - val_loss: 0.0069 - val_binary_accuracy: 0.9978\n",
      "Epoch 72/100\n",
      "278/278 [==============================] - 1s 4ms/step - loss: 0.0111 - binary_accuracy: 0.9959 - val_loss: 0.0069 - val_binary_accuracy: 0.9978\n",
      "Epoch 73/100\n",
      "278/278 [==============================] - 1s 4ms/step - loss: 0.0115 - binary_accuracy: 0.9960 - val_loss: 0.0068 - val_binary_accuracy: 0.9978\n",
      "Epoch 74/100\n",
      "278/278 [==============================] - 1s 4ms/step - loss: 0.0111 - binary_accuracy: 0.9962 - val_loss: 0.0067 - val_binary_accuracy: 0.9978\n",
      "Epoch 75/100\n",
      "278/278 [==============================] - 1s 4ms/step - loss: 0.0106 - binary_accuracy: 0.9964 - val_loss: 0.0067 - val_binary_accuracy: 0.9978\n",
      "Epoch 76/100\n",
      "278/278 [==============================] - 1s 4ms/step - loss: 0.0106 - binary_accuracy: 0.9965 - val_loss: 0.0065 - val_binary_accuracy: 0.9978\n",
      "Epoch 77/100\n",
      "278/278 [==============================] - 1s 4ms/step - loss: 0.0117 - binary_accuracy: 0.9954 - val_loss: 0.0064 - val_binary_accuracy: 0.9978\n",
      "Epoch 78/100\n",
      "278/278 [==============================] - 1s 4ms/step - loss: 0.0114 - binary_accuracy: 0.9959 - val_loss: 0.0063 - val_binary_accuracy: 0.9978\n",
      "Epoch 79/100\n",
      "278/278 [==============================] - 1s 4ms/step - loss: 0.0111 - binary_accuracy: 0.9962 - val_loss: 0.0062 - val_binary_accuracy: 0.9978\n",
      "Epoch 80/100\n",
      "278/278 [==============================] - 1s 4ms/step - loss: 0.0118 - binary_accuracy: 0.9960 - val_loss: 0.0061 - val_binary_accuracy: 0.9978\n",
      "Epoch 81/100\n",
      "278/278 [==============================] - 1s 4ms/step - loss: 0.0109 - binary_accuracy: 0.9963 - val_loss: 0.0061 - val_binary_accuracy: 0.9978\n",
      "Epoch 82/100\n",
      "278/278 [==============================] - 1s 4ms/step - loss: 0.0111 - binary_accuracy: 0.9959 - val_loss: 0.0060 - val_binary_accuracy: 0.9978\n",
      "Epoch 83/100\n",
      "278/278 [==============================] - 1s 4ms/step - loss: 0.0114 - binary_accuracy: 0.9956 - val_loss: 0.0059 - val_binary_accuracy: 0.9978\n",
      "Epoch 84/100\n",
      "278/278 [==============================] - 1s 4ms/step - loss: 0.0098 - binary_accuracy: 0.9965 - val_loss: 0.0059 - val_binary_accuracy: 0.9978\n",
      "Epoch 85/100\n",
      "278/278 [==============================] - 1s 4ms/step - loss: 0.0100 - binary_accuracy: 0.9967 - val_loss: 0.0057 - val_binary_accuracy: 0.9978\n",
      "Epoch 86/100\n",
      "278/278 [==============================] - 1s 4ms/step - loss: 0.0098 - binary_accuracy: 0.9963 - val_loss: 0.0057 - val_binary_accuracy: 0.9978\n",
      "Epoch 87/100\n",
      "278/278 [==============================] - 1s 4ms/step - loss: 0.0108 - binary_accuracy: 0.9963 - val_loss: 0.0056 - val_binary_accuracy: 0.9978\n",
      "Epoch 88/100\n",
      "278/278 [==============================] - 1s 4ms/step - loss: 0.0101 - binary_accuracy: 0.9966 - val_loss: 0.0055 - val_binary_accuracy: 0.9978\n",
      "Epoch 89/100\n",
      "278/278 [==============================] - 1s 4ms/step - loss: 0.0095 - binary_accuracy: 0.9965 - val_loss: 0.0055 - val_binary_accuracy: 0.9978\n",
      "Epoch 90/100\n",
      "278/278 [==============================] - 1s 4ms/step - loss: 0.0101 - binary_accuracy: 0.9966 - val_loss: 0.0055 - val_binary_accuracy: 0.9978\n",
      "Epoch 91/100\n",
      "278/278 [==============================] - 1s 4ms/step - loss: 0.0100 - binary_accuracy: 0.9968 - val_loss: 0.0054 - val_binary_accuracy: 0.9978\n",
      "Epoch 92/100\n",
      "278/278 [==============================] - 1s 4ms/step - loss: 0.0100 - binary_accuracy: 0.9961 - val_loss: 0.0053 - val_binary_accuracy: 0.9978\n",
      "Epoch 93/100\n",
      "278/278 [==============================] - 1s 4ms/step - loss: 0.0098 - binary_accuracy: 0.9968 - val_loss: 0.0052 - val_binary_accuracy: 0.9978\n",
      "Epoch 94/100\n",
      "278/278 [==============================] - 1s 4ms/step - loss: 0.0099 - binary_accuracy: 0.9964 - val_loss: 0.0052 - val_binary_accuracy: 0.9978\n",
      "Epoch 95/100\n",
      "278/278 [==============================] - 1s 4ms/step - loss: 0.0091 - binary_accuracy: 0.9968 - val_loss: 0.0052 - val_binary_accuracy: 0.9978\n",
      "Epoch 96/100\n",
      "278/278 [==============================] - 1s 4ms/step - loss: 0.0090 - binary_accuracy: 0.9970 - val_loss: 0.0051 - val_binary_accuracy: 0.9978\n",
      "Epoch 97/100\n",
      "278/278 [==============================] - 1s 4ms/step - loss: 0.0097 - binary_accuracy: 0.9965 - val_loss: 0.0050 - val_binary_accuracy: 0.9978\n",
      "Epoch 98/100\n",
      "278/278 [==============================] - 1s 4ms/step - loss: 0.0091 - binary_accuracy: 0.9968 - val_loss: 0.0049 - val_binary_accuracy: 0.9978\n",
      "Epoch 99/100\n",
      "278/278 [==============================] - 1s 4ms/step - loss: 0.0096 - binary_accuracy: 0.9968 - val_loss: 0.0049 - val_binary_accuracy: 0.9978\n",
      "Epoch 100/100\n",
      "278/278 [==============================] - 1s 4ms/step - loss: 0.0093 - binary_accuracy: 0.9967 - val_loss: 0.0049 - val_binary_accuracy: 0.9978\n"
     ]
    }
   ],
   "source": [
    "#optimizer = keras.optimizers.Adam(learning_rate=0.0001)\n",
    "optimizer = keras.optimizers.Adadelta(learning_rate=0.001)\n",
    "model.compile(optimizer=optimizer, loss=\"binary_crossentropy\", metrics=[keras.metrics.binary_accuracy])\n",
    "history = model.fit(\n",
    "    x=x_train,\n",
    "    y=y_train,\n",
    "    validation_data=(x_val, y_val),\n",
    "    batch_size=40,\n",
    "    epochs=100\n",
    ")"
   ]
  },
  {
   "cell_type": "code",
   "execution_count": 82,
   "id": "dc451b64",
   "metadata": {},
   "outputs": [],
   "source": [
    "def plot_define(x_label, y_label=\"\", legend=False):\n",
    "    plt.xlabel(x_label)\n",
    "    plt.ylabel(y_label)"
   ]
  },
  {
   "cell_type": "code",
   "execution_count": 124,
   "id": "43395c48",
   "metadata": {},
   "outputs": [
    {
     "data": {
      "text/plain": [
       "<matplotlib.legend.Legend at 0x7fd83c23bdc0>"
      ]
     },
     "execution_count": 124,
     "metadata": {},
     "output_type": "execute_result"
    },
    {
     "data": {
      "image/png": "[encoded data removed]",
      "text/plain": [
       "<Figure size 1080x576 with 2 Axes>"
      ]
     },
     "metadata": {
      "needs_background": "light"
     },
     "output_type": "display_data"
    }
   ],
   "source": [
    "# T-sne Plot\n",
    "plt.figure(figsize=(15, 8))\n",
    "\n",
    "plt.subplot(2, 2, 1)\n",
    "plt.plot(history.history[\"binary_accuracy\"], label=\"accuracy\")\n",
    "plt.plot(history.history[\"val_binary_accuracy\"], label=\"val_accuracy\")\n",
    "plot_define(\"Epochs\", \"Accuracy\")\n",
    "plt.legend()\n",
    "\n",
    "plt.subplot(2, 2, 2)\n",
    "plt.plot(history.history[\"loss\"], label=\"loss\")\n",
    "plt.plot(history.history[\"val_loss\"], label=\"val_loss\")\n",
    "plot_define(\"Epochs\", \"Loss\")\n",
    "plt.legend()"
   ]
  },
  {
   "cell_type": "code",
   "execution_count": 129,
   "id": "945c1108",
   "metadata": {},
   "outputs": [
    {
     "name": "stderr",
     "output_type": "stream",
     "text": [
      "  0%|          | 0/50 [00:00<?, ?it/s]\n"
     ]
    },
    {
     "ename": "TypeError",
     "evalue": "call() got an unexpected keyword argument 'shuffle'",
     "output_type": "error",
     "traceback": [
      "\u001b[0;31m---------------------------------------------------------------------------\u001b[0m",
      "\u001b[0;31mTypeError\u001b[0m                                 Traceback (most recent call last)",
      "\u001b[0;32m<ipython-input-129-4310f7ff2df3>\u001b[0m in \u001b[0;36m<module>\u001b[0;34m\u001b[0m\n\u001b[1;32m      1\u001b[0m \u001b[0;32mimport\u001b[0m \u001b[0mbayesian\u001b[0m\u001b[0;34m.\u001b[0m\u001b[0mutils\u001b[0m \u001b[0;32mas\u001b[0m \u001b[0mbutils\u001b[0m\u001b[0;34m\u001b[0m\u001b[0;34m\u001b[0m\u001b[0m\n\u001b[1;32m      2\u001b[0m \u001b[0mimportlib\u001b[0m\u001b[0;34m.\u001b[0m\u001b[0mreload\u001b[0m\u001b[0;34m(\u001b[0m\u001b[0mbutils\u001b[0m\u001b[0;34m)\u001b[0m\u001b[0;34m\u001b[0m\u001b[0;34m\u001b[0m\u001b[0m\n\u001b[0;32m----> 3\u001b[0;31m \u001b[0mn_predictions\u001b[0m \u001b[0;34m=\u001b[0m \u001b[0mbutils\u001b[0m\u001b[0;34m.\u001b[0m\u001b[0mbatch_predict_n\u001b[0m\u001b[0;34m(\u001b[0m\u001b[0mmodel\u001b[0m\u001b[0;34m,\u001b[0m \u001b[0mx_test\u001b[0m\u001b[0;34m,\u001b[0m \u001b[0;36m50\u001b[0m\u001b[0;34m)\u001b[0m\u001b[0;34m\u001b[0m\u001b[0;34m\u001b[0m\u001b[0m\n\u001b[0m",
      "\u001b[0;32m~/Desktop/workspace/thesis/wp/notebooks/model/../../modules/bayesian/utils.py\u001b[0m in \u001b[0;36mbatch_predict_n\u001b[0;34m(model, data, n_times)\u001b[0m\n\u001b[1;32m     83\u001b[0m \u001b[0;34m\u001b[0m\u001b[0m\n\u001b[1;32m     84\u001b[0m         \u001b[0;31m# Set initial shape\u001b[0m\u001b[0;34m\u001b[0m\u001b[0;34m\u001b[0m\u001b[0;34m\u001b[0m\u001b[0m\n\u001b[0;32m---> 85\u001b[0;31m         \u001b[0mresult\u001b[0m \u001b[0;34m=\u001b[0m \u001b[0mmodel\u001b[0m\u001b[0;34m(\u001b[0m\u001b[0mdata\u001b[0m\u001b[0;34m,\u001b[0m \u001b[0mshuffle\u001b[0m\u001b[0;34m=\u001b[0m\u001b[0;32mFalse\u001b[0m\u001b[0;34m,\u001b[0m \u001b[0mtraining\u001b[0m\u001b[0;34m=\u001b[0m\u001b[0;32mTrue\u001b[0m\u001b[0;34m)\u001b[0m\u001b[0;34m\u001b[0m\u001b[0;34m\u001b[0m\u001b[0m\n\u001b[0m\u001b[1;32m     86\u001b[0m         \u001b[0;32mif\u001b[0m \u001b[0moutput\u001b[0m \u001b[0;32mis\u001b[0m \u001b[0;32mNone\u001b[0m\u001b[0;34m:\u001b[0m\u001b[0;34m\u001b[0m\u001b[0;34m\u001b[0m\u001b[0m\n\u001b[1;32m     87\u001b[0m             \u001b[0moutput\u001b[0m \u001b[0;34m=\u001b[0m \u001b[0mnp\u001b[0m\u001b[0;34m.\u001b[0m\u001b[0mzeros\u001b[0m\u001b[0;34m(\u001b[0m\u001b[0mtuple\u001b[0m\u001b[0;34m(\u001b[0m\u001b[0;34m[\u001b[0m\u001b[0mn_times\u001b[0m\u001b[0;34m]\u001b[0m \u001b[0;34m+\u001b[0m \u001b[0mlist\u001b[0m\u001b[0;34m(\u001b[0m\u001b[0mresult\u001b[0m\u001b[0;34m.\u001b[0m\u001b[0mshape\u001b[0m\u001b[0;34m)\u001b[0m\u001b[0;34m)\u001b[0m\u001b[0;34m)\u001b[0m\u001b[0;34m\u001b[0m\u001b[0;34m\u001b[0m\u001b[0m\n",
      "\u001b[0;32m~/.anaconda/envs/mp/lib/python3.8/site-packages/tensorflow/python/keras/engine/base_layer.py\u001b[0m in \u001b[0;36m__call__\u001b[0;34m(self, *args, **kwargs)\u001b[0m\n\u001b[1;32m    966\u001b[0m           with base_layer_utils.autocast_context_manager(\n\u001b[1;32m    967\u001b[0m               self._compute_dtype):\n\u001b[0;32m--> 968\u001b[0;31m             \u001b[0moutputs\u001b[0m \u001b[0;34m=\u001b[0m \u001b[0mself\u001b[0m\u001b[0;34m.\u001b[0m\u001b[0mcall\u001b[0m\u001b[0;34m(\u001b[0m\u001b[0mcast_inputs\u001b[0m\u001b[0;34m,\u001b[0m \u001b[0;34m*\u001b[0m\u001b[0margs\u001b[0m\u001b[0;34m,\u001b[0m \u001b[0;34m**\u001b[0m\u001b[0mkwargs\u001b[0m\u001b[0;34m)\u001b[0m\u001b[0;34m\u001b[0m\u001b[0;34m\u001b[0m\u001b[0m\n\u001b[0m\u001b[1;32m    969\u001b[0m           \u001b[0mself\u001b[0m\u001b[0;34m.\u001b[0m\u001b[0m_handle_activity_regularization\u001b[0m\u001b[0;34m(\u001b[0m\u001b[0minputs\u001b[0m\u001b[0;34m,\u001b[0m \u001b[0moutputs\u001b[0m\u001b[0;34m)\u001b[0m\u001b[0;34m\u001b[0m\u001b[0;34m\u001b[0m\u001b[0m\n\u001b[1;32m    970\u001b[0m           \u001b[0mself\u001b[0m\u001b[0;34m.\u001b[0m\u001b[0m_set_mask_metadata\u001b[0m\u001b[0;34m(\u001b[0m\u001b[0minputs\u001b[0m\u001b[0;34m,\u001b[0m \u001b[0moutputs\u001b[0m\u001b[0;34m,\u001b[0m \u001b[0minput_masks\u001b[0m\u001b[0;34m)\u001b[0m\u001b[0;34m\u001b[0m\u001b[0;34m\u001b[0m\u001b[0m\n",
      "\u001b[0;31mTypeError\u001b[0m: call() got an unexpected keyword argument 'shuffle'"
     ]
    }
   ],
   "source": [
    "import bayesian.utils as butils\n",
    "importlib.reload(butils)\n",
    "n_predictions = butils.batch_predict_n(model, x_test, 50)"
   ]
  },
  {
   "cell_type": "code",
   "execution_count": 128,
   "id": "a7e754ff",
   "metadata": {},
   "outputs": [
    {
     "data": {
      "text/plain": [
       "array([0.99959713])"
      ]
     },
     "execution_count": 128,
     "metadata": {},
     "output_type": "execute_result"
    }
   ],
   "source": [
    "n_predictions[0][:20]"
   ]
  },
  {
   "cell_type": "code",
   "execution_count": 108,
   "id": "b80fa774",
   "metadata": {},
   "outputs": [],
   "source": [
    "measure_results = butils.measures(n_predictions, batch_dim=True)"
   ]
  },
  {
   "cell_type": "code",
   "execution_count": 117,
   "id": "5f4da670",
   "metadata": {},
   "outputs": [
    {
     "data": {
      "text/plain": [
       "array([[0.58005544],\n",
       "       [0.47928443],\n",
       "       [0.45931378],\n",
       "       ...,\n",
       "       [0.41763582],\n",
       "       [0.51953077],\n",
       "       [0.45990879]])"
      ]
     },
     "execution_count": 117,
     "metadata": {},
     "output_type": "execute_result"
    }
   ],
   "source": [
    "measure_results[0]"
   ]
  },
  {
   "cell_type": "code",
   "execution_count": 116,
   "id": "e31fd5b9",
   "metadata": {},
   "outputs": [
    {
     "data": {
      "text/plain": [
       "array([1, 1])"
      ]
     },
     "execution_count": 116,
     "metadata": {},
     "output_type": "execute_result"
    }
   ],
   "source": [
    "alt_class_prob = np.repeat(1, 2)\n",
    "alt_class_prob"
   ]
  },
  {
   "cell_type": "code",
   "execution_count": 120,
   "id": "9437c54f",
   "metadata": {},
   "outputs": [],
   "source": [
    "measure_data_stacked = np.hstack([measure_results[0], 1-measure_results[0], point_var, np.expand_dims(y_test, axis=1)])"
   ]
  },
  {
   "cell_type": "code",
   "execution_count": 121,
   "id": "15a435d5",
   "metadata": {},
   "outputs": [
    {
     "name": "stdout",
     "output_type": "stream",
     "text": [
      "(2771, 4)\n"
     ]
    }
   ],
   "source": [
    "print(measure_data_stacked.shape)"
   ]
  },
  {
   "cell_type": "code",
   "execution_count": 122,
   "id": "004702aa",
   "metadata": {},
   "outputs": [
    {
     "data": {
      "text/html": [
       "<div>\n",
       "<style scoped>\n",
       "    .dataframe tbody tr th:only-of-type {\n",
       "        vertical-align: middle;\n",
       "    }\n",
       "\n",
       "    .dataframe tbody tr th {\n",
       "        vertical-align: top;\n",
       "    }\n",
       "\n",
       "    .dataframe thead th {\n",
       "        text-align: right;\n",
       "    }\n",
       "</style>\n",
       "<table border=\"1\" class=\"dataframe\">\n",
       "  <thead>\n",
       "    <tr style=\"text-align: right;\">\n",
       "      <th></th>\n",
       "      <th>class_0</th>\n",
       "      <th>class_1</th>\n",
       "      <th>var</th>\n",
       "      <th>target</th>\n",
       "    </tr>\n",
       "  </thead>\n",
       "  <tbody>\n",
       "    <tr>\n",
       "      <th>0</th>\n",
       "      <td>0.580055</td>\n",
       "      <td>0.419945</td>\n",
       "      <td>0.242184</td>\n",
       "      <td>1.0</td>\n",
       "    </tr>\n",
       "    <tr>\n",
       "      <th>1</th>\n",
       "      <td>0.479284</td>\n",
       "      <td>0.520716</td>\n",
       "      <td>0.247430</td>\n",
       "      <td>0.0</td>\n",
       "    </tr>\n",
       "    <tr>\n",
       "      <th>2</th>\n",
       "      <td>0.459314</td>\n",
       "      <td>0.540686</td>\n",
       "      <td>0.247591</td>\n",
       "      <td>0.0</td>\n",
       "    </tr>\n",
       "    <tr>\n",
       "      <th>3</th>\n",
       "      <td>0.513261</td>\n",
       "      <td>0.486739</td>\n",
       "      <td>0.244927</td>\n",
       "      <td>0.0</td>\n",
       "    </tr>\n",
       "    <tr>\n",
       "      <th>4</th>\n",
       "      <td>0.537564</td>\n",
       "      <td>0.462436</td>\n",
       "      <td>0.245357</td>\n",
       "      <td>1.0</td>\n",
       "    </tr>\n",
       "  </tbody>\n",
       "</table>\n",
       "</div>"
      ],
      "text/plain": [
       "    class_0   class_1       var  target\n",
       "0  0.580055  0.419945  0.242184     1.0\n",
       "1  0.479284  0.520716  0.247430     0.0\n",
       "2  0.459314  0.540686  0.247591     0.0\n",
       "3  0.513261  0.486739  0.244927     0.0\n",
       "4  0.537564  0.462436  0.245357     1.0"
      ]
     },
     "execution_count": 122,
     "metadata": {},
     "output_type": "execute_result"
    }
   ],
   "source": [
    "avg_df = pd.DataFrame(measure_data_stacked, columns=[\"class_0\", \"class_1\", \"var\", \"target\"])\n",
    "avg_df.head()"
   ]
  },
  {
   "cell_type": "code",
   "execution_count": 114,
   "id": "95c59db9",
   "metadata": {},
   "outputs": [
    {
     "data": {
      "text/plain": [
       "(2771, 3)"
      ]
     },
     "execution_count": 114,
     "metadata": {},
     "output_type": "execute_result"
    }
   ],
   "source": [
    "avg_df.shape"
   ]
  },
  {
   "cell_type": "code",
   "execution_count": 123,
   "id": "76aceca9",
   "metadata": {},
   "outputs": [
    {
     "data": {
      "text/plain": [
       "<matplotlib.axes._subplots.AxesSubplot at 0x7fd83c3ebd00>"
      ]
     },
     "execution_count": 123,
     "metadata": {},
     "output_type": "execute_result"
    },
    {
     "data": {
      "image/png": "[encoded data removed]",
      "text/plain": [
       "<Figure size 1080x720 with 1 Axes>"
      ]
     },
     "metadata": {
      "needs_background": "light"
     },
     "output_type": "display_data"
    }
   ],
   "source": [
    "import seaborn as sns\n",
    "plt.figure(figsize=(15, 10))\n",
    "sns.scatterplot(data=avg_df, y=\"class_0\", x=\"class_1\", hue=\"var\", style=\"target\")"
   ]
  },
  {
   "cell_type": "code",
   "execution_count": 29,
   "id": "musical-circle",
   "metadata": {},
   "outputs": [
    {
     "data": {
      "text/plain": [
       "<tensorflow.python.keras.engine.training.Model at 0x7fd8d00717c0>"
      ]
     },
     "execution_count": 29,
     "metadata": {},
     "output_type": "execute_result"
    }
   ],
   "source": [
    "import importlib\n",
    "importlib.reload(mp)\n",
    "\n",
    "mp_model = mp.MP()\n",
    "mp_model.create_MP_Model(model=model, use_mp=True, verbose=True)"
   ]
  },
  {
   "cell_type": "code",
   "execution_count": 30,
   "id": "5d91bfb5",
   "metadata": {},
   "outputs": [],
   "source": [
    "pred_mp,var_mp = mp_model.model.predict(x_test)"
   ]
  },
  {
   "cell_type": "code",
   "execution_count": 31,
   "id": "3797e48a",
   "metadata": {},
   "outputs": [],
   "source": [
    "var = np.sum(var_mp, axis=1)/2"
   ]
  },
  {
   "cell_type": "code",
   "execution_count": 32,
   "id": "c334eee2",
   "metadata": {},
   "outputs": [
    {
     "data": {
      "text/html": [
       "<div>\n",
       "<style scoped>\n",
       "    .dataframe tbody tr th:only-of-type {\n",
       "        vertical-align: middle;\n",
       "    }\n",
       "\n",
       "    .dataframe tbody tr th {\n",
       "        vertical-align: top;\n",
       "    }\n",
       "\n",
       "    .dataframe thead th {\n",
       "        text-align: right;\n",
       "    }\n",
       "</style>\n",
       "<table border=\"1\" class=\"dataframe\">\n",
       "  <thead>\n",
       "    <tr style=\"text-align: right;\">\n",
       "      <th></th>\n",
       "      <th>class_0</th>\n",
       "      <th>class_1</th>\n",
       "      <th>var</th>\n",
       "      <th>target</th>\n",
       "    </tr>\n",
       "  </thead>\n",
       "  <tbody>\n",
       "    <tr>\n",
       "      <th>0</th>\n",
       "      <td>9.403132e-07</td>\n",
       "      <td>9.999990e-01</td>\n",
       "      <td>3.837004e-09</td>\n",
       "      <td>1.0</td>\n",
       "    </tr>\n",
       "    <tr>\n",
       "      <th>1</th>\n",
       "      <td>1.000000e+00</td>\n",
       "      <td>4.629175e-12</td>\n",
       "      <td>1.944383e-14</td>\n",
       "      <td>0.0</td>\n",
       "    </tr>\n",
       "    <tr>\n",
       "      <th>2</th>\n",
       "      <td>1.000000e+00</td>\n",
       "      <td>1.054783e-14</td>\n",
       "      <td>3.374513e-17</td>\n",
       "      <td>0.0</td>\n",
       "    </tr>\n",
       "    <tr>\n",
       "      <th>3</th>\n",
       "      <td>1.000000e+00</td>\n",
       "      <td>9.468911e-10</td>\n",
       "      <td>2.227849e-12</td>\n",
       "      <td>0.0</td>\n",
       "    </tr>\n",
       "    <tr>\n",
       "      <th>4</th>\n",
       "      <td>3.506707e-05</td>\n",
       "      <td>9.999650e-01</td>\n",
       "      <td>1.883547e-07</td>\n",
       "      <td>1.0</td>\n",
       "    </tr>\n",
       "  </tbody>\n",
       "</table>\n",
       "</div>"
      ],
      "text/plain": [
       "        class_0       class_1           var  target\n",
       "0  9.403132e-07  9.999990e-01  3.837004e-09     1.0\n",
       "1  1.000000e+00  4.629175e-12  1.944383e-14     0.0\n",
       "2  1.000000e+00  1.054783e-14  3.374513e-17     0.0\n",
       "3  1.000000e+00  9.468911e-10  2.227849e-12     0.0\n",
       "4  3.506707e-05  9.999650e-01  1.883547e-07     1.0"
      ]
     },
     "execution_count": 32,
     "metadata": {},
     "output_type": "execute_result"
    }
   ],
   "source": [
    "columns = [\"class_0\", \"class_1\", \"var\", \"target\"]\n",
    "y_len = len(y_test)\n",
    "mp_df = pd.DataFrame(np.hstack([pred_mp, var.reshape(y_len, 1), y_test.reshape(y_len, 1)]), columns=columns)\n",
    "mp_df.head()"
   ]
  },
  {
   "cell_type": "code",
   "execution_count": 33,
   "id": "95f4f8a4",
   "metadata": {},
   "outputs": [
    {
     "data": {
      "text/plain": [
       "<matplotlib.axes._subplots.AxesSubplot at 0x7fd87813ad60>"
      ]
     },
     "execution_count": 33,
     "metadata": {},
     "output_type": "execute_result"
    },
    {
     "data": {
      "image/png": "[encoded data removed]",
      "text/plain": [
       "<Figure size 432x288 with 1 Axes>"
      ]
     },
     "metadata": {
      "needs_background": "light"
     },
     "output_type": "display_data"
    }
   ],
   "source": [
    "sns.scatterplot(data=mp_df, y=\"class_0\", x=\"class_1\", hue=\"var\", style=\"target\")"
   ]
  },
  {
   "cell_type": "code",
   "execution_count": 66,
   "id": "7f8a083a",
   "metadata": {},
   "outputs": [
    {
     "name": "stderr",
     "output_type": "stream",
     "text": [
      "  1%|          | 1/100 [00:03<06:31,  3.95s/it]\n"
     ]
    },
    {
     "ename": "ValueError",
     "evalue": "Failed to find data adapter that can handle input: (<class 'list'> containing values of types {\"<class 'numpy.ndarray'>\"}), (<class 'list'> containing values of types {\"<class 'str'>\"})",
     "output_type": "error",
     "traceback": [
      "\u001b[0;31m---------------------------------------------------------------------------\u001b[0m",
      "\u001b[0;31mValueError\u001b[0m                                Traceback (most recent call last)",
      "\u001b[0;32m<ipython-input-66-8716d481be96>\u001b[0m in \u001b[0;36m<module>\u001b[0;34m\u001b[0m\n\u001b[1;32m      3\u001b[0m \u001b[0;34m\u001b[0m\u001b[0m\n\u001b[1;32m      4\u001b[0m \u001b[0macl_loop\u001b[0m \u001b[0;34m=\u001b[0m \u001b[0macl\u001b[0m\u001b[0;34m.\u001b[0m\u001b[0mLoop\u001b[0m\u001b[0;34m(\u001b[0m\u001b[0mmodel\u001b[0m\u001b[0;34m,\u001b[0m \u001b[0mnew_inputs\u001b[0m\u001b[0;34m)\u001b[0m\u001b[0;34m\u001b[0m\u001b[0;34m\u001b[0m\u001b[0m\n\u001b[0;32m----> 5\u001b[0;31m \u001b[0macl_loop\u001b[0m\u001b[0;34m.\u001b[0m\u001b[0mstart\u001b[0m\u001b[0;34m(\u001b[0m\u001b[0;34m)\u001b[0m\u001b[0;34m\u001b[0m\u001b[0;34m\u001b[0m\u001b[0m\n\u001b[0m",
      "\u001b[0;32m~/Desktop/workspace/thesis/wp/notebooks/model/../../modules/acl.py\u001b[0m in \u001b[0;36mstart\u001b[0;34m(self, limit, acq_fun)\u001b[0m\n\u001b[1;32m     80\u001b[0m \u001b[0;34m\u001b[0m\u001b[0m\n\u001b[1;32m     81\u001b[0m         \u001b[0;32mfor\u001b[0m \u001b[0mi\u001b[0m \u001b[0;32min\u001b[0m \u001b[0mtqdm\u001b[0m\u001b[0;34m(\u001b[0m\u001b[0mrange\u001b[0m\u001b[0;34m(\u001b[0m\u001b[0mlimit\u001b[0m\u001b[0;34m)\u001b[0m\u001b[0;34m)\u001b[0m\u001b[0;34m:\u001b[0m\u001b[0;34m\u001b[0m\u001b[0;34m\u001b[0m\u001b[0m\n\u001b[0;32m---> 82\u001b[0;31m             \u001b[0mself\u001b[0m\u001b[0;34m.\u001b[0m\u001b[0m__pre_train\u001b[0m\u001b[0;34m(\u001b[0m\u001b[0;34m)\u001b[0m\u001b[0;34m\u001b[0m\u001b[0;34m\u001b[0m\u001b[0m\n\u001b[0m\u001b[1;32m     83\u001b[0m \u001b[0;34m\u001b[0m\u001b[0m\n\u001b[1;32m     84\u001b[0m             \u001b[0midx\u001b[0m \u001b[0;34m=\u001b[0m \u001b[0mself\u001b[0m\u001b[0;34m.\u001b[0m\u001b[0macquisition\u001b[0m\u001b[0;34m(\u001b[0m\u001b[0mself\u001b[0m\u001b[0;34m.\u001b[0m\u001b[0mmodel\u001b[0m\u001b[0;34m,\u001b[0m \u001b[0mself\u001b[0m\u001b[0;34m.\u001b[0m\u001b[0munlabeled_pool\u001b[0m\u001b[0;34m)\u001b[0m\u001b[0;34m\u001b[0m\u001b[0;34m\u001b[0m\u001b[0m\n",
      "\u001b[0;32m~/Desktop/workspace/thesis/wp/notebooks/model/../../modules/acl.py\u001b[0m in \u001b[0;36m__pre_train\u001b[0;34m(self)\u001b[0m\n\u001b[1;32m    116\u001b[0m         \u001b[0mbatch_size\u001b[0m \u001b[0;34m=\u001b[0m \u001b[0mconfig\u001b[0m\u001b[0;34m[\u001b[0m\u001b[0;34m\"batch_size\"\u001b[0m\u001b[0;34m]\u001b[0m\u001b[0;34m\u001b[0m\u001b[0;34m\u001b[0m\u001b[0m\n\u001b[1;32m    117\u001b[0m         \u001b[0mepochs\u001b[0m \u001b[0;34m=\u001b[0m \u001b[0mconfig\u001b[0m\u001b[0;34m[\u001b[0m\u001b[0;34m\"epochs\"\u001b[0m\u001b[0;34m]\u001b[0m\u001b[0;34m\u001b[0m\u001b[0;34m\u001b[0m\u001b[0m\n\u001b[0;32m--> 118\u001b[0;31m         \u001b[0mself\u001b[0m\u001b[0;34m.\u001b[0m\u001b[0mmodel\u001b[0m\u001b[0;34m.\u001b[0m\u001b[0mfit\u001b[0m\u001b[0;34m(\u001b[0m\u001b[0mx\u001b[0m\u001b[0;34m=\u001b[0m\u001b[0mself\u001b[0m\u001b[0;34m.\u001b[0m\u001b[0minputs\u001b[0m\u001b[0;34m,\u001b[0m \u001b[0my\u001b[0m\u001b[0;34m=\u001b[0m\u001b[0mself\u001b[0m\u001b[0;34m.\u001b[0m\u001b[0mtargets\u001b[0m\u001b[0;34m,\u001b[0m \u001b[0mbatch_size\u001b[0m\u001b[0;34m=\u001b[0m\u001b[0mbatch_size\u001b[0m\u001b[0;34m,\u001b[0m \u001b[0mepochs\u001b[0m\u001b[0;34m=\u001b[0m\u001b[0mepochs\u001b[0m\u001b[0;34m)\u001b[0m\u001b[0;34m\u001b[0m\u001b[0;34m\u001b[0m\u001b[0m\n\u001b[0m\u001b[1;32m    119\u001b[0m \u001b[0;34m\u001b[0m\u001b[0m\n\u001b[1;32m    120\u001b[0m \u001b[0;34m\u001b[0m\u001b[0m\n",
      "\u001b[0;32m~/.anaconda/envs/mp/lib/python3.8/site-packages/tensorflow/python/keras/engine/training.py\u001b[0m in \u001b[0;36m_method_wrapper\u001b[0;34m(self, *args, **kwargs)\u001b[0m\n\u001b[1;32m     64\u001b[0m   \u001b[0;32mdef\u001b[0m \u001b[0m_method_wrapper\u001b[0m\u001b[0;34m(\u001b[0m\u001b[0mself\u001b[0m\u001b[0;34m,\u001b[0m \u001b[0;34m*\u001b[0m\u001b[0margs\u001b[0m\u001b[0;34m,\u001b[0m \u001b[0;34m**\u001b[0m\u001b[0mkwargs\u001b[0m\u001b[0;34m)\u001b[0m\u001b[0;34m:\u001b[0m\u001b[0;34m\u001b[0m\u001b[0;34m\u001b[0m\u001b[0m\n\u001b[1;32m     65\u001b[0m     \u001b[0;32mif\u001b[0m \u001b[0;32mnot\u001b[0m \u001b[0mself\u001b[0m\u001b[0;34m.\u001b[0m\u001b[0m_in_multi_worker_mode\u001b[0m\u001b[0;34m(\u001b[0m\u001b[0;34m)\u001b[0m\u001b[0;34m:\u001b[0m  \u001b[0;31m# pylint: disable=protected-access\u001b[0m\u001b[0;34m\u001b[0m\u001b[0;34m\u001b[0m\u001b[0m\n\u001b[0;32m---> 66\u001b[0;31m       \u001b[0;32mreturn\u001b[0m \u001b[0mmethod\u001b[0m\u001b[0;34m(\u001b[0m\u001b[0mself\u001b[0m\u001b[0;34m,\u001b[0m \u001b[0;34m*\u001b[0m\u001b[0margs\u001b[0m\u001b[0;34m,\u001b[0m \u001b[0;34m**\u001b[0m\u001b[0mkwargs\u001b[0m\u001b[0;34m)\u001b[0m\u001b[0;34m\u001b[0m\u001b[0;34m\u001b[0m\u001b[0m\n\u001b[0m\u001b[1;32m     67\u001b[0m \u001b[0;34m\u001b[0m\u001b[0m\n\u001b[1;32m     68\u001b[0m     \u001b[0;31m# Running inside `run_distribute_coordinator` already.\u001b[0m\u001b[0;34m\u001b[0m\u001b[0;34m\u001b[0m\u001b[0;34m\u001b[0m\u001b[0m\n",
      "\u001b[0;32m~/.anaconda/envs/mp/lib/python3.8/site-packages/tensorflow/python/keras/engine/training.py\u001b[0m in \u001b[0;36mfit\u001b[0;34m(self, x, y, batch_size, epochs, verbose, callbacks, validation_split, validation_data, shuffle, class_weight, sample_weight, initial_epoch, steps_per_epoch, validation_steps, validation_batch_size, validation_freq, max_queue_size, workers, use_multiprocessing)\u001b[0m\n\u001b[1;32m    800\u001b[0m          \u001b[0mtraining_utils\u001b[0m\u001b[0;34m.\u001b[0m\u001b[0mRespectCompiledTrainableState\u001b[0m\u001b[0;34m(\u001b[0m\u001b[0mself\u001b[0m\u001b[0;34m)\u001b[0m\u001b[0;34m:\u001b[0m\u001b[0;34m\u001b[0m\u001b[0;34m\u001b[0m\u001b[0m\n\u001b[1;32m    801\u001b[0m       \u001b[0;31m# Creates a `tf.data.Dataset` and handles batch and epoch iteration.\u001b[0m\u001b[0;34m\u001b[0m\u001b[0;34m\u001b[0m\u001b[0;34m\u001b[0m\u001b[0m\n\u001b[0;32m--> 802\u001b[0;31m       data_handler = data_adapter.DataHandler(\n\u001b[0m\u001b[1;32m    803\u001b[0m           \u001b[0mx\u001b[0m\u001b[0;34m=\u001b[0m\u001b[0mx\u001b[0m\u001b[0;34m,\u001b[0m\u001b[0;34m\u001b[0m\u001b[0;34m\u001b[0m\u001b[0m\n\u001b[1;32m    804\u001b[0m           \u001b[0my\u001b[0m\u001b[0;34m=\u001b[0m\u001b[0my\u001b[0m\u001b[0;34m,\u001b[0m\u001b[0;34m\u001b[0m\u001b[0;34m\u001b[0m\u001b[0m\n",
      "\u001b[0;32m~/.anaconda/envs/mp/lib/python3.8/site-packages/tensorflow/python/keras/engine/data_adapter.py\u001b[0m in \u001b[0;36m__init__\u001b[0;34m(self, x, y, sample_weight, batch_size, steps_per_epoch, initial_epoch, epochs, shuffle, class_weight, max_queue_size, workers, use_multiprocessing, model)\u001b[0m\n\u001b[1;32m   1097\u001b[0m     \u001b[0mself\u001b[0m\u001b[0;34m.\u001b[0m\u001b[0m_insufficient_data\u001b[0m \u001b[0;34m=\u001b[0m \u001b[0;32mFalse\u001b[0m\u001b[0;34m\u001b[0m\u001b[0;34m\u001b[0m\u001b[0m\n\u001b[1;32m   1098\u001b[0m \u001b[0;34m\u001b[0m\u001b[0m\n\u001b[0;32m-> 1099\u001b[0;31m     \u001b[0madapter_cls\u001b[0m \u001b[0;34m=\u001b[0m \u001b[0mselect_data_adapter\u001b[0m\u001b[0;34m(\u001b[0m\u001b[0mx\u001b[0m\u001b[0;34m,\u001b[0m \u001b[0my\u001b[0m\u001b[0;34m)\u001b[0m\u001b[0;34m\u001b[0m\u001b[0;34m\u001b[0m\u001b[0m\n\u001b[0m\u001b[1;32m   1100\u001b[0m     self._adapter = adapter_cls(\n\u001b[1;32m   1101\u001b[0m         \u001b[0mx\u001b[0m\u001b[0;34m,\u001b[0m\u001b[0;34m\u001b[0m\u001b[0;34m\u001b[0m\u001b[0m\n",
      "\u001b[0;32m~/.anaconda/envs/mp/lib/python3.8/site-packages/tensorflow/python/keras/engine/data_adapter.py\u001b[0m in \u001b[0;36mselect_data_adapter\u001b[0;34m(x, y)\u001b[0m\n\u001b[1;32m    958\u001b[0m   \u001b[0;32mif\u001b[0m \u001b[0;32mnot\u001b[0m \u001b[0madapter_cls\u001b[0m\u001b[0;34m:\u001b[0m\u001b[0;34m\u001b[0m\u001b[0;34m\u001b[0m\u001b[0m\n\u001b[1;32m    959\u001b[0m     \u001b[0;31m# TODO(scottzhu): This should be a less implementation-specific error.\u001b[0m\u001b[0;34m\u001b[0m\u001b[0;34m\u001b[0m\u001b[0;34m\u001b[0m\u001b[0m\n\u001b[0;32m--> 960\u001b[0;31m     raise ValueError(\n\u001b[0m\u001b[1;32m    961\u001b[0m         \u001b[0;34m\"Failed to find data adapter that can handle \"\u001b[0m\u001b[0;34m\u001b[0m\u001b[0;34m\u001b[0m\u001b[0m\n\u001b[1;32m    962\u001b[0m         \"input: {}, {}\".format(\n",
      "\u001b[0;31mValueError\u001b[0m: Failed to find data adapter that can handle input: (<class 'list'> containing values of types {\"<class 'numpy.ndarray'>\"}), (<class 'list'> containing values of types {\"<class 'str'>\"})"
     ]
    }
   ],
   "source": [
    "import acl\n",
    "importlib.reload(acl)\n",
    "\n",
    "train_config = Config(\n",
    "    batch_size=20\n",
    ")\n",
    "\n",
    "acl_loop = acl.Loop(model, new_inputs, train_config=train_config)\n",
    "acl_loop.start()"
   ]
  },
  {
   "cell_type": "code",
   "execution_count": null,
   "id": "de8016af",
   "metadata": {},
   "outputs": [],
   "source": []
  }
 ],
 "metadata": {
  "kernelspec": {
   "display_name": "Python 3",
   "language": "python",
   "name": "python3"
  },
  "language_info": {
   "codemirror_mode": {
    "name": "ipython",
    "version": 3
   },
   "file_extension": ".py",
   "mimetype": "text/x-python",
   "name": "python",
   "nbconvert_exporter": "python",
   "pygments_lexer": "ipython3",
   "version": "3.8.8"
  }
 },
 "nbformat": 4,
 "nbformat_minor": 5
}
