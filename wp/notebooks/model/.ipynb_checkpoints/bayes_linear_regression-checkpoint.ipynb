{
 "cells": [
  {
   "cell_type": "markdown",
   "id": "periodic-prison",
   "metadata": {},
   "source": [
    "# Bayes linear regression applied on datasets"
   ]
  },
  {
   "cell_type": "code",
   "execution_count": 74,
   "id": "solved-titanium",
   "metadata": {},
   "outputs": [],
   "source": [
    "import os, sys, importlib\n",
    "\n",
    "import numpy as np\n",
    "import pandas as pd\n",
    "import torch\n",
    "\n",
    "import matplotlib.pyplot as plt\n",
    "import seaborn as sns"
   ]
  },
  {
   "cell_type": "code",
   "execution_count": 11,
   "id": "fifty-oasis",
   "metadata": {},
   "outputs": [],
   "source": [
    "BASE_PATH = os.path.join(os.getcwd(), \"..\", \"..\")\n",
    "MODULE_PATH = os.path.join(BASE_PATH, \"modules\", \"pipeline\")\n",
    "DATA_PATH = os.path.join(BASE_PATH, \"datasets\", \"regression\")\n"
   ]
  },
  {
   "cell_type": "code",
   "execution_count": 76,
   "id": "stuffed-intensity",
   "metadata": {},
   "outputs": [
    {
     "data": {
      "text/plain": [
       "<module 'insurance' from '/home/jovyan/work/model/../../modules/pipeline/insurance.py'>"
      ]
     },
     "execution_count": 76,
     "metadata": {},
     "output_type": "execute_result"
    }
   ],
   "source": [
    "sys.path.append(MODULE_PATH)\n",
    "\n",
    "import insurance as inds\n",
    "importlib.reload(inds)"
   ]
  },
  {
   "cell_type": "markdown",
   "id": "comparable-logic",
   "metadata": {},
   "source": [
    "## Load dataset and pre-process"
   ]
  },
  {
   "cell_type": "code",
   "execution_count": 77,
   "id": "wound-episode",
   "metadata": {},
   "outputs": [],
   "source": [
    "insurance_ds_path = os.path.join(DATA_PATH, \"insurance_forecast.csv\")\n",
    "unprocessed_data = pd.read_csv(insurance_ds_path)"
   ]
  },
  {
   "cell_type": "code",
   "execution_count": 78,
   "id": "valid-rainbow",
   "metadata": {},
   "outputs": [
    {
     "data": {
      "text/html": [
       "<div>\n",
       "<style scoped>\n",
       "    .dataframe tbody tr th:only-of-type {\n",
       "        vertical-align: middle;\n",
       "    }\n",
       "\n",
       "    .dataframe tbody tr th {\n",
       "        vertical-align: top;\n",
       "    }\n",
       "\n",
       "    .dataframe thead th {\n",
       "        text-align: right;\n",
       "    }\n",
       "</style>\n",
       "<table border=\"1\" class=\"dataframe\">\n",
       "  <thead>\n",
       "    <tr style=\"text-align: right;\">\n",
       "      <th></th>\n",
       "      <th>age</th>\n",
       "      <th>bmi</th>\n",
       "      <th>children</th>\n",
       "      <th>smoker</th>\n",
       "      <th>charges</th>\n",
       "    </tr>\n",
       "  </thead>\n",
       "  <tbody>\n",
       "    <tr>\n",
       "      <th>0</th>\n",
       "      <td>19</td>\n",
       "      <td>27.900</td>\n",
       "      <td>12365.975602</td>\n",
       "      <td>1</td>\n",
       "      <td>16884.92400</td>\n",
       "    </tr>\n",
       "    <tr>\n",
       "      <th>1</th>\n",
       "      <td>18</td>\n",
       "      <td>33.770</td>\n",
       "      <td>12731.171832</td>\n",
       "      <td>0</td>\n",
       "      <td>1725.55230</td>\n",
       "    </tr>\n",
       "    <tr>\n",
       "      <th>2</th>\n",
       "      <td>28</td>\n",
       "      <td>33.000</td>\n",
       "      <td>15355.318367</td>\n",
       "      <td>0</td>\n",
       "      <td>4449.46200</td>\n",
       "    </tr>\n",
       "    <tr>\n",
       "      <th>3</th>\n",
       "      <td>33</td>\n",
       "      <td>22.705</td>\n",
       "      <td>12365.975602</td>\n",
       "      <td>0</td>\n",
       "      <td>21984.47061</td>\n",
       "    </tr>\n",
       "    <tr>\n",
       "      <th>4</th>\n",
       "      <td>32</td>\n",
       "      <td>28.880</td>\n",
       "      <td>12365.975602</td>\n",
       "      <td>0</td>\n",
       "      <td>3866.85520</td>\n",
       "    </tr>\n",
       "  </tbody>\n",
       "</table>\n",
       "</div>"
      ],
      "text/plain": [
       "   age     bmi      children  smoker      charges\n",
       "0   19  27.900  12365.975602       1  16884.92400\n",
       "1   18  33.770  12731.171832       0   1725.55230\n",
       "2   28  33.000  15355.318367       0   4449.46200\n",
       "3   33  22.705  12365.975602       0  21984.47061\n",
       "4   32  28.880  12365.975602       0   3866.85520"
      ]
     },
     "execution_count": 78,
     "metadata": {},
     "output_type": "execute_result"
    }
   ],
   "source": [
    "data = inds.preprocess(unprocessed_data)\n",
    "data.head()"
   ]
  },
  {
   "cell_type": "code",
   "execution_count": 84,
   "id": "interpreted-domestic",
   "metadata": {},
   "outputs": [
    {
     "data": {
      "text/html": [
       "<div>\n",
       "<style scoped>\n",
       "    .dataframe tbody tr th:only-of-type {\n",
       "        vertical-align: middle;\n",
       "    }\n",
       "\n",
       "    .dataframe tbody tr th {\n",
       "        vertical-align: top;\n",
       "    }\n",
       "\n",
       "    .dataframe thead th {\n",
       "        text-align: right;\n",
       "    }\n",
       "</style>\n",
       "<table border=\"1\" class=\"dataframe\">\n",
       "  <thead>\n",
       "    <tr style=\"text-align: right;\">\n",
       "      <th></th>\n",
       "      <th>age</th>\n",
       "      <th>bmi</th>\n",
       "      <th>children</th>\n",
       "      <th>smoker</th>\n",
       "      <th>charges</th>\n",
       "    </tr>\n",
       "  </thead>\n",
       "  <tbody>\n",
       "    <tr>\n",
       "      <th>count</th>\n",
       "      <td>1338.000000</td>\n",
       "      <td>1338.000000</td>\n",
       "      <td>1338.000000</td>\n",
       "      <td>1338.000000</td>\n",
       "      <td>1338.000000</td>\n",
       "    </tr>\n",
       "    <tr>\n",
       "      <th>mean</th>\n",
       "      <td>39.207025</td>\n",
       "      <td>30.663397</td>\n",
       "      <td>13270.422265</td>\n",
       "      <td>0.204783</td>\n",
       "      <td>13270.422265</td>\n",
       "    </tr>\n",
       "    <tr>\n",
       "      <th>std</th>\n",
       "      <td>14.049960</td>\n",
       "      <td>6.098187</td>\n",
       "      <td>1338.938927</td>\n",
       "      <td>0.403694</td>\n",
       "      <td>12110.011237</td>\n",
       "    </tr>\n",
       "    <tr>\n",
       "      <th>min</th>\n",
       "      <td>18.000000</td>\n",
       "      <td>15.960000</td>\n",
       "      <td>8786.035247</td>\n",
       "      <td>0.000000</td>\n",
       "      <td>1121.873900</td>\n",
       "    </tr>\n",
       "    <tr>\n",
       "      <th>25%</th>\n",
       "      <td>27.000000</td>\n",
       "      <td>26.296250</td>\n",
       "      <td>12365.975602</td>\n",
       "      <td>0.000000</td>\n",
       "      <td>4740.287150</td>\n",
       "    </tr>\n",
       "    <tr>\n",
       "      <th>50%</th>\n",
       "      <td>39.000000</td>\n",
       "      <td>30.400000</td>\n",
       "      <td>12731.171832</td>\n",
       "      <td>0.000000</td>\n",
       "      <td>9382.033000</td>\n",
       "    </tr>\n",
       "    <tr>\n",
       "      <th>75%</th>\n",
       "      <td>51.000000</td>\n",
       "      <td>34.693750</td>\n",
       "      <td>15073.563734</td>\n",
       "      <td>0.000000</td>\n",
       "      <td>16639.912515</td>\n",
       "    </tr>\n",
       "    <tr>\n",
       "      <th>max</th>\n",
       "      <td>64.000000</td>\n",
       "      <td>53.130000</td>\n",
       "      <td>15355.318367</td>\n",
       "      <td>1.000000</td>\n",
       "      <td>63770.428010</td>\n",
       "    </tr>\n",
       "  </tbody>\n",
       "</table>\n",
       "</div>"
      ],
      "text/plain": [
       "               age          bmi      children       smoker       charges\n",
       "count  1338.000000  1338.000000   1338.000000  1338.000000   1338.000000\n",
       "mean     39.207025    30.663397  13270.422265     0.204783  13270.422265\n",
       "std      14.049960     6.098187   1338.938927     0.403694  12110.011237\n",
       "min      18.000000    15.960000   8786.035247     0.000000   1121.873900\n",
       "25%      27.000000    26.296250  12365.975602     0.000000   4740.287150\n",
       "50%      39.000000    30.400000  12731.171832     0.000000   9382.033000\n",
       "75%      51.000000    34.693750  15073.563734     0.000000  16639.912515\n",
       "max      64.000000    53.130000  15355.318367     1.000000  63770.428010"
      ]
     },
     "execution_count": 84,
     "metadata": {},
     "output_type": "execute_result"
    }
   ],
   "source": [
    "data.describe()"
   ]
  },
  {
   "cell_type": "markdown",
   "id": "solved-hollow",
   "metadata": {},
   "source": [
    "# Max Likelihood estimation of parameters"
   ]
  },
  {
   "cell_type": "code",
   "execution_count": 79,
   "id": "congressional-hopkins",
   "metadata": {},
   "outputs": [],
   "source": [
    "from sklearn import linear_model"
   ]
  },
  {
   "cell_type": "code",
   "execution_count": 80,
   "id": "historic-consensus",
   "metadata": {},
   "outputs": [],
   "source": [
    "x = data.to_numpy()[:, :-1]\n",
    "y = data.to_numpy()[:, -1]"
   ]
  },
  {
   "cell_type": "code",
   "execution_count": 81,
   "id": "offshore-limitation",
   "metadata": {},
   "outputs": [
    {
     "data": {
      "text/plain": [
       "LinearRegression()"
      ]
     },
     "execution_count": 81,
     "metadata": {},
     "output_type": "execute_result"
    }
   ],
   "source": [
    "reg = linear_model.LinearRegression(fit_intercept=True)\n",
    "reg.fit(x, y)"
   ]
  },
  {
   "cell_type": "code",
   "execution_count": 82,
   "id": "specified-stevens",
   "metadata": {},
   "outputs": [],
   "source": [
    "a_ml = reg.coef_ # Per feature a coeff\n",
    "b_ml = reg.intercept_ # y-axis intecept"
   ]
  },
  {
   "cell_type": "code",
   "execution_count": 83,
   "id": "answering-newman",
   "metadata": {},
   "outputs": [
    {
     "name": "stdout",
     "output_type": "stream",
     "text": [
      "Coefficients:  [2.57329062e+02 3.20790144e+02 3.91876990e-01 2.37484150e+04]\n",
      "Coefficient:  -16718.851232766712\n"
     ]
    }
   ],
   "source": [
    "print(\"Coefficients: \", a_ml)\n",
    "print(\"Coefficient: \", b_ml)"
   ]
  },
  {
   "cell_type": "code",
   "execution_count": 90,
   "id": "veterinary-candle",
   "metadata": {},
   "outputs": [],
   "source": [
    "def make_ml_plot(a, b, ax, f, x_range, y_range):\n",
    "    \"\"\"\n",
    "        Plot max-likelihood of specific coefficient.\n",
    "        \n",
    "    \"\"\"\n",
    "    x_min, x_max = x_range\n",
    "    y_min, y_max = y_range\n",
    "    \n",
    "    ax.set_xlim(x_min, x_max)\n",
    "    ax.set_ylim(y_min, y_max)\n",
    "    ax.set_xlabel('x')\n",
    "    ax.set_ylabel('y')\n",
    "    \n",
    "    ax.set_titlle(\"A = {:+.2f} b = {:+.2f}\".format(a, b))\n",
    "    \n",
    "    x_min_max = [x_min, x_max]\n",
    "    ax.plot(x_min_max, [a*x_min+b, a*x_max+b], color='black')\n",
    "    ax.plot(x_min_max, [a*x_min+b+2*sigma, a*x_max+b+1.96*sigma], linestyle='dashed', alpha=0.5, color='black')\n",
    "    ax.plot(x_min_max, [a*x_min+b-2*sigma, a*x_max+b-1.96*sigma], linestyle='dashed', alpha=0.5, color='black')\n",
    "    ax.scatter(x, y, marker='o', color='r')"
   ]
  },
  {
   "cell_type": "code",
   "execution_count": null,
   "id": "tested-stephen",
   "metadata": {},
   "outputs": [],
   "source": [
    "def plot_coff_ml(coff_index, a, b, data):\n",
    "    \n",
    "    \"\"\"\n",
    "    \n",
    "    \"\"\"\n",
    "    \n",
    "    columns = data.columns[coff_index]\n",
    "    a_coff = a[coff_index]\n",
    "    \n",
    "    \n",
    "    x_range = (data[column].min(), data[column].max())\n",
    "    \n",
    "    make_ml_plot()\n",
    "    "
   ]
  },
  {
   "cell_type": "code",
   "execution_count": null,
   "id": "ultimate-serbia",
   "metadata": {},
   "outputs": [],
   "source": []
  },
  {
   "cell_type": "code",
   "execution_count": 87,
   "id": "found-advice",
   "metadata": {},
   "outputs": [
    {
     "ename": "TypeError",
     "evalue": "normal() received an invalid combination of arguments - got (int, int), but expected one of:\n * (Tensor mean, Tensor std, torch.Generator generator, Tensor out)\n * (Tensor mean, float std, torch.Generator generator, Tensor out)\n * (float mean, Tensor std, torch.Generator generator, Tensor out)\n * (float mean, float std, tuple of ints size, torch.Generator generator, Tensor out, torch.dtype dtype, torch.layout layout, torch.device device, bool pin_memory, bool requires_grad)\n",
     "output_type": "error",
     "traceback": [
      "\u001b[0;31m---------------------------------------------------------------------------\u001b[0m",
      "\u001b[0;31mTypeError\u001b[0m                                 Traceback (most recent call last)",
      "\u001b[0;32m<ipython-input-87-4ee85f90ae38>\u001b[0m in \u001b[0;36m<module>\u001b[0;34m\u001b[0m\n\u001b[0;32m----> 1\u001b[0;31m \u001b[0mtorch\u001b[0m\u001b[0;34m.\u001b[0m\u001b[0mnormal\u001b[0m\u001b[0;34m(\u001b[0m\u001b[0;36m5\u001b[0m\u001b[0;34m,\u001b[0m \u001b[0;36m10\u001b[0m\u001b[0;34m)\u001b[0m\u001b[0;34m\u001b[0m\u001b[0;34m\u001b[0m\u001b[0m\n\u001b[0m",
      "\u001b[0;31mTypeError\u001b[0m: normal() received an invalid combination of arguments - got (int, int), but expected one of:\n * (Tensor mean, Tensor std, torch.Generator generator, Tensor out)\n * (Tensor mean, float std, torch.Generator generator, Tensor out)\n * (float mean, Tensor std, torch.Generator generator, Tensor out)\n * (float mean, float std, tuple of ints size, torch.Generator generator, Tensor out, torch.dtype dtype, torch.layout layout, torch.device device, bool pin_memory, bool requires_grad)\n"
     ]
    }
   ],
   "source": [
    "torch.normal(5, 10)"
   ]
  },
  {
   "cell_type": "code",
   "execution_count": null,
   "id": "disturbed-advancement",
   "metadata": {},
   "outputs": [],
   "source": []
  },
  {
   "cell_type": "code",
   "execution_count": null,
   "id": "unlikely-alaska",
   "metadata": {},
   "outputs": [],
   "source": []
  },
  {
   "cell_type": "code",
   "execution_count": null,
   "id": "marked-shame",
   "metadata": {},
   "outputs": [],
   "source": []
  },
  {
   "cell_type": "code",
   "execution_count": null,
   "id": "adjustable-soundtrack",
   "metadata": {},
   "outputs": [],
   "source": []
  },
  {
   "cell_type": "code",
   "execution_count": null,
   "id": "abroad-bangkok",
   "metadata": {},
   "outputs": [],
   "source": []
  },
  {
   "cell_type": "code",
   "execution_count": null,
   "id": "polar-reliance",
   "metadata": {},
   "outputs": [],
   "source": []
  },
  {
   "cell_type": "code",
   "execution_count": null,
   "id": "demonstrated-zealand",
   "metadata": {},
   "outputs": [],
   "source": []
  }
 ],
 "metadata": {
  "kernelspec": {
   "display_name": "Python 3",
   "language": "python",
   "name": "python3"
  },
  "language_info": {
   "codemirror_mode": {
    "name": "ipython",
    "version": 3
   },
   "file_extension": ".py",
   "mimetype": "text/x-python",
   "name": "python",
   "nbconvert_exporter": "python",
   "pygments_lexer": "ipython3",
   "version": "3.8.6"
  }
 },
 "nbformat": 4,
 "nbformat_minor": 5
}
