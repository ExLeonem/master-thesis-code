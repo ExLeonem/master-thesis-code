{
 "cells": [
  {
   "cell_type": "code",
   "execution_count": 1,
   "id": "4b9e17aa",
   "metadata": {},
   "outputs": [],
   "source": [
    "import os, importlib, sys\n",
    "\n",
    "import numpy as np\n",
    "import pandas as pd\n",
    "import matplotlib.pyplot as plt\n",
    "from sklearn.model_selection import train_test_split\n",
    "\n",
    "%load_ext autoreload "
   ]
  },
  {
   "cell_type": "code",
   "execution_count": 2,
   "id": "c3a072c4",
   "metadata": {},
   "outputs": [],
   "source": [
    "# Common paths\n",
    "BASE_PATH = os.path.join(os.getcwd(), \"..\", \"..\")\n",
    "MODULE_PATH = os.path.join(BASE_PATH, \"modules\")\n",
    "DS_PATH = os.path.join(BASE_PATH, \"datasets\")"
   ]
  },
  {
   "cell_type": "code",
   "execution_count": 3,
   "id": "a10ec022",
   "metadata": {},
   "outputs": [
    {
     "data": {
      "text/plain": [
       "<module 'data.mnist' from '/home/exleonem/Desktop/workspace/thesis/wp/notebooks/model/../../modules/data/mnist.py'>"
      ]
     },
     "execution_count": 3,
     "metadata": {},
     "output_type": "execute_result"
    }
   ],
   "source": [
    "sys.path.append(MODULE_PATH)\n",
    "\n",
    "import mp.MomentPropagation as mp\n",
    "importlib.reload(mp)\n",
    "\n",
    "import data.mnist as mnist_loader\n",
    "importlib.reload(mnist_loader)"
   ]
  },
  {
   "cell_type": "code",
   "execution_count": 4,
   "id": "d08978b3",
   "metadata": {},
   "outputs": [],
   "source": [
    "import tensorflow as tf\n",
    "from tensorflow import keras\n",
    "import tensorflow.keras\n",
    "from tensorflow.keras import Sequential\n",
    "from tensorflow.keras.layers import  Conv2D, MaxPool2D, Dropout, Flatten, Dense, Softmax"
   ]
  },
  {
   "cell_type": "code",
   "execution_count": 5,
   "id": "868efdb6",
   "metadata": {},
   "outputs": [
    {
     "name": "stdout",
     "output_type": "stream",
     "text": [
      "1 Physical GPU's,  1 Logical GPU's\n"
     ]
    }
   ],
   "source": [
    "gpus = tf.config.experimental.list_physical_devices(\"GPU\")\n",
    "cpus = tf.config.experimental.list_physical_devices(\"CPU\")\n",
    "\n",
    "if gpus:\n",
    "    try:\n",
    "        for gpu in gpus:\n",
    "            tf.config.experimental.set_memory_growth(gpu, True)\n",
    "            \n",
    "        logical_gpus = tf.config.experimental.list_logical_devices(\"GPU\")\n",
    "        print(len(gpus), \"Physical GPU's, \", len(logical_gpus), \"Logical GPU's\")\n",
    "        \n",
    "    except RuntimeError as e:\n",
    "        print(e)\n",
    "        \n",
    "elif cpus:\n",
    "    try:\n",
    "        logical_cpus = tf.config.experimental.list_logical_devices(\"CPU\")\n",
    "        print(len(cpus), \"Physical CPU,\", len(logical_cpus), \"Logical CPU\")\n",
    "        \n",
    "    except RuntimeError as e:\n",
    "        print(e)\n",
    "        \n",
    "        \n",
    "tfk = tf.keras"
   ]
  },
  {
   "cell_type": "code",
   "execution_count": 6,
   "id": "0c2f9609",
   "metadata": {},
   "outputs": [
    {
     "name": "stdout",
     "output_type": "stream",
     "text": [
      "Model: \"sequential\"\n",
      "_________________________________________________________________\n",
      "Layer (type)                 Output Shape              Param #   \n",
      "=================================================================\n",
      "conv2d (Conv2D)              (None, 25, 25, 128)       2176      \n",
      "_________________________________________________________________\n",
      "max_pooling2d (MaxPooling2D) (None, 12, 12, 128)       0         \n",
      "_________________________________________________________________\n",
      "dropout (Dropout)            (None, 12, 12, 128)       0         \n",
      "_________________________________________________________________\n",
      "conv2d_1 (Conv2D)            (None, 10, 10, 64)        73792     \n",
      "_________________________________________________________________\n",
      "max_pooling2d_1 (MaxPooling2 (None, 5, 5, 64)          0         \n",
      "_________________________________________________________________\n",
      "dropout_1 (Dropout)          (None, 5, 5, 64)          0         \n",
      "_________________________________________________________________\n",
      "flatten (Flatten)            (None, 1600)              0         \n",
      "_________________________________________________________________\n",
      "dense (Dense)                (None, 512)               819712    \n",
      "_________________________________________________________________\n",
      "dense_1 (Dense)              (None, 256)               131328    \n",
      "_________________________________________________________________\n",
      "dense_2 (Dense)              (None, 128)               32896     \n",
      "_________________________________________________________________\n",
      "dense_3 (Dense)              (None, 1)                 129       \n",
      "=================================================================\n",
      "Total params: 1,060,033\n",
      "Trainable params: 1,060,033\n",
      "Non-trainable params: 0\n",
      "_________________________________________________________________\n"
     ]
    }
   ],
   "source": [
    "input_shape = (28, 28, 1)\n",
    "model = Sequential([\n",
    "    Conv2D(128, 4,activation=\"relu\", input_shape=input_shape),\n",
    "    MaxPool2D(),\n",
    "    Dropout(.2),\n",
    "    Conv2D(64, 3, activation=\"relu\"),\n",
    "    MaxPool2D(),\n",
    "    Dropout(.2),\n",
    "    Flatten(),\n",
    "    Dense(512, activation=\"relu\"),\n",
    "    Dense(256, activation=\"relu\"),\n",
    "    Dense(128, activation=\"relu\"),\n",
    "    Dense(1, activation=\"sigmoid\")\n",
    "])\n",
    "\n",
    "model.build(input_shape)\n",
    "model.summary()"
   ]
  },
  {
   "cell_type": "code",
   "execution_count": 7,
   "id": "524e7e61",
   "metadata": {},
   "outputs": [
    {
     "data": {
      "text/plain": [
       "<module 'active_learning' from '/home/exleonem/Desktop/workspace/thesis/wp/notebooks/model/../../modules/active_learning/__init__.py'>"
      ]
     },
     "execution_count": 7,
     "metadata": {},
     "output_type": "execute_result"
    }
   ],
   "source": [
    "%autoreload 2\n",
    "import active_learning as active\n",
    "importlib.reload(active)"
   ]
  },
  {
   "cell_type": "code",
   "execution_count": 8,
   "id": "dce00b5b",
   "metadata": {},
   "outputs": [],
   "source": [
    "import mp.MomentPropagation as mp\n",
    "importlib.reload(mp)\n",
    "\n",
    "mp = mp.MP()\n",
    "mp_model = mp.create_MP_Model(model=model, use_mp=True, verbose=True)"
   ]
  },
  {
   "cell_type": "code",
   "execution_count": 9,
   "id": "2eac30b4",
   "metadata": {},
   "outputs": [],
   "source": [
    "import data.mnist as mnist_loader\n",
    "importlib.reload(mnist_loader)\n",
    "\n",
    "# Load Data\n",
    "mnist_path = os.path.join(DS_PATH, \"mnist\")\n",
    "inputs, targets = mnist_loader.load(mnist_path)\n",
    "\n",
    "# Select only first and second class\n",
    "selector = (targets==0) | (targets==1)\n",
    "new_inputs = inputs[selector].astype(\"float32\")/255.0\n",
    "new_targets = targets[selector]\n",
    "\n",
    "# Create splits\n",
    "x_train, x_test, y_train, y_test = train_test_split(new_inputs, new_targets)\n",
    "x_test, x_val, y_test, y_val = train_test_split(x_test, y_test)"
   ]
  },
  {
   "cell_type": "code",
   "execution_count": 10,
   "id": "ee48075e",
   "metadata": {},
   "outputs": [
    {
     "data": {
      "text/plain": [
       "(14780, 28, 28)"
      ]
     },
     "execution_count": 10,
     "metadata": {},
     "output_type": "execute_result"
    }
   ],
   "source": [
    "new_inputs.shape"
   ]
  },
  {
   "cell_type": "code",
   "execution_count": 11,
   "id": "139eea49",
   "metadata": {},
   "outputs": [
    {
     "data": {
      "text/plain": [
       "(14780, 1, 28, 28)"
      ]
     },
     "execution_count": 11,
     "metadata": {},
     "output_type": "execute_result"
    }
   ],
   "source": [
    "new_inputs[:, None, ...].shape"
   ]
  },
  {
   "cell_type": "code",
   "execution_count": 12,
   "id": "3c33741f",
   "metadata": {},
   "outputs": [
    {
     "data": {
      "text/plain": [
       "(10, 28, 28, 1)"
      ]
     },
     "execution_count": 12,
     "metadata": {},
     "output_type": "execute_result"
    }
   ],
   "source": [
    "sample_input = np.random.randn(10, 28, 28, 1)\n",
    "sample_input.shape"
   ]
  },
  {
   "cell_type": "code",
   "execution_count": 13,
   "id": "ad4f4c2e",
   "metadata": {},
   "outputs": [],
   "source": [
    "# pred_mp,var_mp = mp_model(sample_input)"
   ]
  },
  {
   "cell_type": "code",
   "execution_count": 14,
   "id": "075b9a8a",
   "metadata": {},
   "outputs": [
    {
     "data": {
      "text/plain": [
       "<tensorflow.python.keras.engine.training.Model at 0x7f8c2c5f0490>"
      ]
     },
     "execution_count": 14,
     "metadata": {},
     "output_type": "execute_result"
    }
   ],
   "source": [
    "mp_model"
   ]
  },
  {
   "cell_type": "code",
   "execution_count": 15,
   "id": "81d5821d",
   "metadata": {},
   "outputs": [],
   "source": [
    "%autoreload 2\n",
    "import bayesian \n",
    "from bayesian import McDropout, MomentPropagation\n",
    "\n",
    "mp_m = MomentPropagation(mp_model)"
   ]
  },
  {
   "cell_type": "code",
   "execution_count": 16,
   "id": "0ca9d9fa",
   "metadata": {},
   "outputs": [],
   "source": [
    "prediction = mp_m.predict(sample_input)"
   ]
  },
  {
   "cell_type": "code",
   "execution_count": 17,
   "id": "09f20651",
   "metadata": {},
   "outputs": [
    {
     "data": {
      "text/plain": [
       "[<tf.Tensor: shape=(10, 1), dtype=float32, numpy=\n",
       " array([[0.54047096],\n",
       "        [0.51992303],\n",
       "        [0.53312427],\n",
       "        [0.5270455 ],\n",
       "        [0.5366923 ],\n",
       "        [0.53868794],\n",
       "        [0.5346813 ],\n",
       "        [0.53338724],\n",
       "        [0.5317819 ],\n",
       "        [0.5354108 ]], dtype=float32)>,\n",
       " <tf.Tensor: shape=(10, 1), dtype=float32, numpy=\n",
       " array([[0.0017022 ],\n",
       "        [0.00170491],\n",
       "        [0.0016711 ],\n",
       "        [0.00151935],\n",
       "        [0.00174694],\n",
       "        [0.00164654],\n",
       "        [0.00164448],\n",
       "        [0.00154968],\n",
       "        [0.00162749],\n",
       "        [0.00154184]], dtype=float32)>]"
      ]
     },
     "execution_count": 17,
     "metadata": {},
     "output_type": "execute_result"
    }
   ],
   "source": [
    "prediction"
   ]
  },
  {
   "cell_type": "code",
   "execution_count": 18,
   "id": "b9d548f9",
   "metadata": {},
   "outputs": [
    {
     "data": {
      "text/plain": [
       "array([[0.0017022 , 0.9982978 ],\n",
       "       [0.00170491, 0.99829507],\n",
       "       [0.0016711 , 0.9983289 ],\n",
       "       [0.00151935, 0.9984806 ],\n",
       "       [0.00174694, 0.99825305],\n",
       "       [0.00164654, 0.9983535 ],\n",
       "       [0.00164448, 0.9983555 ],\n",
       "       [0.00154968, 0.99845034],\n",
       "       [0.00162749, 0.9983725 ],\n",
       "       [0.00154184, 0.99845815]], dtype=float32)"
      ]
     },
     "execution_count": 18,
     "metadata": {},
     "output_type": "execute_result"
    }
   ],
   "source": [
    "variance = mp_m.variance(prediction)\n",
    "variance"
   ]
  },
  {
   "cell_type": "code",
   "execution_count": 19,
   "id": "38bf31fa",
   "metadata": {},
   "outputs": [
    {
     "data": {
      "text/plain": [
       "array([[0.54047096, 0.45952904],\n",
       "       [0.51992303, 0.48007697],\n",
       "       [0.53312427, 0.46687573],\n",
       "       [0.5270455 , 0.4729545 ],\n",
       "       [0.5366923 , 0.46330768],\n",
       "       [0.53868794, 0.46131206],\n",
       "       [0.5346813 , 0.46531868],\n",
       "       [0.53338724, 0.46661276],\n",
       "       [0.5317819 , 0.4682181 ],\n",
       "       [0.5354108 , 0.46458918]], dtype=float32)"
      ]
     },
     "execution_count": 19,
     "metadata": {},
     "output_type": "execute_result"
    }
   ],
   "source": [
    "exepctation = mp_m.expectation(prediction)\n",
    "exepctation"
   ]
  },
  {
   "cell_type": "code",
   "execution_count": 32,
   "id": "8d4fc015",
   "metadata": {},
   "outputs": [
    {
     "name": "stderr",
     "output_type": "stream",
     "text": [
      "100%|██████████| 28/28 [03:54<00:00,  8.37s/it]\n"
     ]
    }
   ],
   "source": [
    "%autoreload 2\n",
    "\n",
    "from acl import ActiveLearning\n",
    "from active_learning import TrainConfig, Config\n",
    "\n",
    "import bayesian \n",
    "from bayesian import McDropout, MomentPropagation\n",
    "\n",
    "train_config = TrainConfig(\n",
    "    batch_size=2,\n",
    "    epochs=1\n",
    ")\n",
    "\n",
    "acq_config = Config(\n",
    "    name=\"std_mean\",\n",
    "    pseudo=True\n",
    ")\n",
    "\n",
    "dp_model = McDropout(model)\n",
    "mp_m = MomentPropagation(mp_model)\n",
    "\n",
    "\n",
    "active_learning = ActiveLearning(\n",
    "    mp_m, \n",
    "    np.expand_dims(new_inputs, axis=-1), labels=new_targets, \n",
    "    train_config=train_config,\n",
    "    acq_name=\"max_entropy\"\n",
    ")\n",
    "\n",
    "history = active_learning.start(step_size=400)"
   ]
  },
  {
   "cell_type": "code",
   "execution_count": null,
   "id": "d6746ce5",
   "metadata": {},
   "outputs": [],
   "source": [
    "# Compare mc dropout, moment propagation (max_entropy, bald)"
   ]
  },
  {
   "cell_type": "code",
   "execution_count": 33,
   "id": "5551071d",
   "metadata": {},
   "outputs": [
    {
     "data": {
      "text/plain": [
       "[{'iteration': 0,\n",
       "  'train_time': 5.691702365875244,\n",
       "  'query_time': 2.4125893115997314,\n",
       "  'loss': [9.504735946655273],\n",
       "  'tf_op_layer_Sigmoid_1_loss': [0.6676622629165649],\n",
       "  'tf_op_layer_Mul_99_loss': [8.837074279785156],\n",
       "  'tf_op_layer_Sigmoid_1_accuracy': [1.0],\n",
       "  'tf_op_layer_Mul_99_accuracy': [0.0]},\n",
       " {'iteration': 400,\n",
       "  'train_time': 5.7012245655059814,\n",
       "  'query_time': 2.592912197113037,\n",
       "  'loss': [9.525849342346191],\n",
       "  'tf_op_layer_Sigmoid_1_loss': [0.6665551066398621],\n",
       "  'tf_op_layer_Mul_99_loss': [8.859295845031738],\n",
       "  'tf_op_layer_Sigmoid_1_accuracy': [1.0],\n",
       "  'tf_op_layer_Mul_99_accuracy': [0.0]},\n",
       " {'iteration': 800,\n",
       "  'train_time': 5.90375828742981,\n",
       "  'query_time': 2.428044080734253,\n",
       "  'loss': [9.525849342346191],\n",
       "  'tf_op_layer_Sigmoid_1_loss': [0.6665550470352173],\n",
       "  'tf_op_layer_Mul_99_loss': [8.859294891357422],\n",
       "  'tf_op_layer_Sigmoid_1_accuracy': [1.0],\n",
       "  'tf_op_layer_Mul_99_accuracy': [0.0]},\n",
       " {'iteration': 1200,\n",
       "  'train_time': 5.8295838832855225,\n",
       "  'query_time': 2.4592678546905518,\n",
       "  'loss': [9.525850296020508],\n",
       "  'tf_op_layer_Sigmoid_1_loss': [0.6665551066398621],\n",
       "  'tf_op_layer_Mul_99_loss': [8.859296798706055],\n",
       "  'tf_op_layer_Sigmoid_1_accuracy': [1.0],\n",
       "  'tf_op_layer_Mul_99_accuracy': [0.0]},\n",
       " {'iteration': 1600,\n",
       "  'train_time': 5.596572399139404,\n",
       "  'query_time': 2.6522085666656494,\n",
       "  'loss': [9.525850296020508],\n",
       "  'tf_op_layer_Sigmoid_1_loss': [0.6665552258491516],\n",
       "  'tf_op_layer_Mul_99_loss': [8.859294891357422],\n",
       "  'tf_op_layer_Sigmoid_1_accuracy': [1.0],\n",
       "  'tf_op_layer_Mul_99_accuracy': [0.0]},\n",
       " {'iteration': 2000,\n",
       "  'train_time': 5.925888538360596,\n",
       "  'query_time': 2.619699478149414,\n",
       "  'loss': [9.525850296020508],\n",
       "  'tf_op_layer_Sigmoid_1_loss': [0.6665551662445068],\n",
       "  'tf_op_layer_Mul_99_loss': [8.859296798706055],\n",
       "  'tf_op_layer_Sigmoid_1_accuracy': [1.0],\n",
       "  'tf_op_layer_Mul_99_accuracy': [0.0]},\n",
       " {'iteration': 2400,\n",
       "  'train_time': 5.8023810386657715,\n",
       "  'query_time': 2.646620750427246,\n",
       "  'loss': [9.525850296020508],\n",
       "  'tf_op_layer_Sigmoid_1_loss': [0.6665551066398621],\n",
       "  'tf_op_layer_Mul_99_loss': [8.859295845031738],\n",
       "  'tf_op_layer_Sigmoid_1_accuracy': [1.0],\n",
       "  'tf_op_layer_Mul_99_accuracy': [0.0]},\n",
       " {'iteration': 2800,\n",
       "  'train_time': 6.186936616897583,\n",
       "  'query_time': 2.557513952255249,\n",
       "  'loss': [9.525850296020508],\n",
       "  'tf_op_layer_Sigmoid_1_loss': [0.6665550470352173],\n",
       "  'tf_op_layer_Mul_99_loss': [8.859293937683105],\n",
       "  'tf_op_layer_Sigmoid_1_accuracy': [1.0],\n",
       "  'tf_op_layer_Mul_99_accuracy': [0.0]},\n",
       " {'iteration': 3200,\n",
       "  'train_time': 5.7395710945129395,\n",
       "  'query_time': 2.4735255241394043,\n",
       "  'loss': [9.525850296020508],\n",
       "  'tf_op_layer_Sigmoid_1_loss': [0.6665550470352173],\n",
       "  'tf_op_layer_Mul_99_loss': [8.859295845031738],\n",
       "  'tf_op_layer_Sigmoid_1_accuracy': [1.0],\n",
       "  'tf_op_layer_Mul_99_accuracy': [0.0]},\n",
       " {'iteration': 3600,\n",
       "  'train_time': 5.701897382736206,\n",
       "  'query_time': 2.511272668838501,\n",
       "  'loss': [9.525850296020508],\n",
       "  'tf_op_layer_Sigmoid_1_loss': [0.6665550470352173],\n",
       "  'tf_op_layer_Mul_99_loss': [8.859295845031738],\n",
       "  'tf_op_layer_Sigmoid_1_accuracy': [1.0],\n",
       "  'tf_op_layer_Mul_99_accuracy': [0.0]},\n",
       " {'iteration': 4000,\n",
       "  'train_time': 5.7304527759552,\n",
       "  'query_time': 2.458162784576416,\n",
       "  'loss': [9.525851249694824],\n",
       "  'tf_op_layer_Sigmoid_1_loss': [0.6665551066398621],\n",
       "  'tf_op_layer_Mul_99_loss': [8.859296798706055],\n",
       "  'tf_op_layer_Sigmoid_1_accuracy': [1.0],\n",
       "  'tf_op_layer_Mul_99_accuracy': [0.0]},\n",
       " {'iteration': 4400,\n",
       "  'train_time': 5.68871283531189,\n",
       "  'query_time': 2.5730419158935547,\n",
       "  'loss': [9.525850296020508],\n",
       "  'tf_op_layer_Sigmoid_1_loss': [0.6665550470352173],\n",
       "  'tf_op_layer_Mul_99_loss': [8.859295845031738],\n",
       "  'tf_op_layer_Sigmoid_1_accuracy': [1.0],\n",
       "  'tf_op_layer_Mul_99_accuracy': [0.0]},\n",
       " {'iteration': 4800,\n",
       "  'train_time': 5.805750131607056,\n",
       "  'query_time': 2.524383783340454,\n",
       "  'loss': [9.525850296020508],\n",
       "  'tf_op_layer_Sigmoid_1_loss': [0.6665550470352173],\n",
       "  'tf_op_layer_Mul_99_loss': [8.859296798706055],\n",
       "  'tf_op_layer_Sigmoid_1_accuracy': [1.0],\n",
       "  'tf_op_layer_Mul_99_accuracy': [0.0]},\n",
       " {'iteration': 5200,\n",
       "  'train_time': 5.7468225955963135,\n",
       "  'query_time': 2.5213356018066406,\n",
       "  'loss': [9.525851249694824],\n",
       "  'tf_op_layer_Sigmoid_1_loss': [0.6665551662445068],\n",
       "  'tf_op_layer_Mul_99_loss': [8.859294891357422],\n",
       "  'tf_op_layer_Sigmoid_1_accuracy': [1.0],\n",
       "  'tf_op_layer_Mul_99_accuracy': [0.0]},\n",
       " {'iteration': 5600,\n",
       "  'train_time': 5.932006359100342,\n",
       "  'query_time': 2.4779446125030518,\n",
       "  'loss': [9.525850296020508],\n",
       "  'tf_op_layer_Sigmoid_1_loss': [0.6665551662445068],\n",
       "  'tf_op_layer_Mul_99_loss': [8.859295845031738],\n",
       "  'tf_op_layer_Sigmoid_1_accuracy': [1.0],\n",
       "  'tf_op_layer_Mul_99_accuracy': [0.0]},\n",
       " {'iteration': 6000,\n",
       "  'train_time': 5.8394880294799805,\n",
       "  'query_time': 2.503401041030884,\n",
       "  'loss': [9.525850296020508],\n",
       "  'tf_op_layer_Sigmoid_1_loss': [0.6665551662445068],\n",
       "  'tf_op_layer_Mul_99_loss': [8.859295845031738],\n",
       "  'tf_op_layer_Sigmoid_1_accuracy': [1.0],\n",
       "  'tf_op_layer_Mul_99_accuracy': [0.0]},\n",
       " {'iteration': 6400,\n",
       "  'train_time': 5.814077615737915,\n",
       "  'query_time': 3.125391960144043,\n",
       "  'loss': [9.525850296020508],\n",
       "  'tf_op_layer_Sigmoid_1_loss': [0.6665551662445068],\n",
       "  'tf_op_layer_Mul_99_loss': [8.859294891357422],\n",
       "  'tf_op_layer_Sigmoid_1_accuracy': [1.0],\n",
       "  'tf_op_layer_Mul_99_accuracy': [0.0]},\n",
       " {'iteration': 6800,\n",
       "  'train_time': 5.8955841064453125,\n",
       "  'query_time': 2.5466511249542236,\n",
       "  'loss': [9.525850296020508],\n",
       "  'tf_op_layer_Sigmoid_1_loss': [0.6665551066398621],\n",
       "  'tf_op_layer_Mul_99_loss': [8.859293937683105],\n",
       "  'tf_op_layer_Sigmoid_1_accuracy': [1.0],\n",
       "  'tf_op_layer_Mul_99_accuracy': [0.0]},\n",
       " {'iteration': 7200,\n",
       "  'train_time': 5.677048921585083,\n",
       "  'query_time': 2.5048513412475586,\n",
       "  'loss': [9.525850296020508],\n",
       "  'tf_op_layer_Sigmoid_1_loss': [0.6665550470352173],\n",
       "  'tf_op_layer_Mul_99_loss': [8.859294891357422],\n",
       "  'tf_op_layer_Sigmoid_1_accuracy': [1.0],\n",
       "  'tf_op_layer_Mul_99_accuracy': [0.0]},\n",
       " {'iteration': 7600,\n",
       "  'train_time': 5.748061418533325,\n",
       "  'query_time': 2.569960594177246,\n",
       "  'loss': [9.525850296020508],\n",
       "  'tf_op_layer_Sigmoid_1_loss': [0.6665550470352173],\n",
       "  'tf_op_layer_Mul_99_loss': [8.859294891357422],\n",
       "  'tf_op_layer_Sigmoid_1_accuracy': [1.0],\n",
       "  'tf_op_layer_Mul_99_accuracy': [0.0]},\n",
       " {'iteration': 8000,\n",
       "  'train_time': 5.742279291152954,\n",
       "  'query_time': 2.4997715950012207,\n",
       "  'loss': [9.525850296020508],\n",
       "  'tf_op_layer_Sigmoid_1_loss': [0.6665551066398621],\n",
       "  'tf_op_layer_Mul_99_loss': [8.859295845031738],\n",
       "  'tf_op_layer_Sigmoid_1_accuracy': [1.0],\n",
       "  'tf_op_layer_Mul_99_accuracy': [0.0]},\n",
       " {'iteration': 8400,\n",
       "  'train_time': 5.697549104690552,\n",
       "  'query_time': 2.5370242595672607,\n",
       "  'loss': [9.525850296020508],\n",
       "  'tf_op_layer_Sigmoid_1_loss': [0.6665551662445068],\n",
       "  'tf_op_layer_Mul_99_loss': [8.859294891357422],\n",
       "  'tf_op_layer_Sigmoid_1_accuracy': [1.0],\n",
       "  'tf_op_layer_Mul_99_accuracy': [0.0]},\n",
       " {'iteration': 8800,\n",
       "  'train_time': 5.8558056354522705,\n",
       "  'query_time': 2.577089548110962,\n",
       "  'loss': [9.525851249694824],\n",
       "  'tf_op_layer_Sigmoid_1_loss': [0.6665551662445068],\n",
       "  'tf_op_layer_Mul_99_loss': [8.859294891357422],\n",
       "  'tf_op_layer_Sigmoid_1_accuracy': [1.0],\n",
       "  'tf_op_layer_Mul_99_accuracy': [0.0]},\n",
       " {'iteration': 9200,\n",
       "  'train_time': 5.7440876960754395,\n",
       "  'query_time': 2.6334264278411865,\n",
       "  'loss': [9.525850296020508],\n",
       "  'tf_op_layer_Sigmoid_1_loss': [0.6665551066398621],\n",
       "  'tf_op_layer_Mul_99_loss': [8.859296798706055],\n",
       "  'tf_op_layer_Sigmoid_1_accuracy': [1.0],\n",
       "  'tf_op_layer_Mul_99_accuracy': [0.0]},\n",
       " {'iteration': 9600,\n",
       "  'train_time': 5.7287633419036865,\n",
       "  'query_time': 2.567347764968872,\n",
       "  'loss': [9.525850296020508],\n",
       "  'tf_op_layer_Sigmoid_1_loss': [0.6665551066398621],\n",
       "  'tf_op_layer_Mul_99_loss': [8.859295845031738],\n",
       "  'tf_op_layer_Sigmoid_1_accuracy': [1.0],\n",
       "  'tf_op_layer_Mul_99_accuracy': [0.0]},\n",
       " {'iteration': 10000,\n",
       "  'train_time': 5.914722204208374,\n",
       "  'query_time': 2.575610399246216,\n",
       "  'loss': [9.525850296020508],\n",
       "  'tf_op_layer_Sigmoid_1_loss': [0.6665551066398621],\n",
       "  'tf_op_layer_Mul_99_loss': [8.859295845031738],\n",
       "  'tf_op_layer_Sigmoid_1_accuracy': [1.0],\n",
       "  'tf_op_layer_Mul_99_accuracy': [0.0]},\n",
       " {'iteration': 10400,\n",
       "  'train_time': 5.79102349281311,\n",
       "  'query_time': 2.4522926807403564,\n",
       "  'loss': [9.525851249694824],\n",
       "  'tf_op_layer_Sigmoid_1_loss': [0.6665551066398621],\n",
       "  'tf_op_layer_Mul_99_loss': [8.859294891357422],\n",
       "  'tf_op_layer_Sigmoid_1_accuracy': [1.0],\n",
       "  'tf_op_layer_Mul_99_accuracy': [0.0]},\n",
       " {'iteration': 10800,\n",
       "  'train_time': 6.28466272354126,\n",
       "  'query_time': 2.5722336769104004,\n",
       "  'loss': [9.525851249694824],\n",
       "  'tf_op_layer_Sigmoid_1_loss': [0.6665551066398621],\n",
       "  'tf_op_layer_Mul_99_loss': [8.859296798706055],\n",
       "  'tf_op_layer_Sigmoid_1_accuracy': [1.0],\n",
       "  'tf_op_layer_Mul_99_accuracy': [0.0]}]"
      ]
     },
     "execution_count": 33,
     "metadata": {},
     "output_type": "execute_result"
    }
   ],
   "source": [
    "history"
   ]
  },
  {
   "cell_type": "code",
   "execution_count": null,
   "id": "01a81796",
   "metadata": {},
   "outputs": [],
   "source": []
  },
  {
   "cell_type": "code",
   "execution_count": 90,
   "id": "75791045",
   "metadata": {},
   "outputs": [],
   "source": [
    "%autoreload 2\n",
    "\n",
    "import active_learning\n",
    "importlib.reload(active_learning)\n",
    "from active_learning import Metrics\n",
    "\n",
    "METRICS_PATH = os.path.join(BASE_PATH, \"metrics\")\n",
    "\n",
    "\n",
    "metric_writer = Metrics(METRICS_PATH, keys=[\"iteration\", \"train_time\", \"query_time\", \"loss\"])\n",
    "\n",
    "\n",
    "all_metrics = []\n",
    "for entry in history:\n",
    "    collected = metric_writer.collect(entry)\n",
    "    all_metrics.append(collected)"
   ]
  },
  {
   "cell_type": "code",
   "execution_count": 91,
   "id": "a337bd96",
   "metadata": {},
   "outputs": [
    {
     "data": {
      "text/plain": [
       "[{'iteration': 0,\n",
       "  'train_time': 5.691702365875244,\n",
       "  'query_time': 2.4125893115997314,\n",
       "  'loss': [9.504735946655273]},\n",
       " {'iteration': 400,\n",
       "  'train_time': 5.7012245655059814,\n",
       "  'query_time': 2.592912197113037,\n",
       "  'loss': [9.525849342346191]},\n",
       " {'iteration': 800,\n",
       "  'train_time': 5.90375828742981,\n",
       "  'query_time': 2.428044080734253,\n",
       "  'loss': [9.525849342346191]},\n",
       " {'iteration': 1200,\n",
       "  'train_time': 5.8295838832855225,\n",
       "  'query_time': 2.4592678546905518,\n",
       "  'loss': [9.525850296020508]},\n",
       " {'iteration': 1600,\n",
       "  'train_time': 5.596572399139404,\n",
       "  'query_time': 2.6522085666656494,\n",
       "  'loss': [9.525850296020508]},\n",
       " {'iteration': 2000,\n",
       "  'train_time': 5.925888538360596,\n",
       "  'query_time': 2.619699478149414,\n",
       "  'loss': [9.525850296020508]},\n",
       " {'iteration': 2400,\n",
       "  'train_time': 5.8023810386657715,\n",
       "  'query_time': 2.646620750427246,\n",
       "  'loss': [9.525850296020508]},\n",
       " {'iteration': 2800,\n",
       "  'train_time': 6.186936616897583,\n",
       "  'query_time': 2.557513952255249,\n",
       "  'loss': [9.525850296020508]},\n",
       " {'iteration': 3200,\n",
       "  'train_time': 5.7395710945129395,\n",
       "  'query_time': 2.4735255241394043,\n",
       "  'loss': [9.525850296020508]},\n",
       " {'iteration': 3600,\n",
       "  'train_time': 5.701897382736206,\n",
       "  'query_time': 2.511272668838501,\n",
       "  'loss': [9.525850296020508]},\n",
       " {'iteration': 4000,\n",
       "  'train_time': 5.7304527759552,\n",
       "  'query_time': 2.458162784576416,\n",
       "  'loss': [9.525851249694824]},\n",
       " {'iteration': 4400,\n",
       "  'train_time': 5.68871283531189,\n",
       "  'query_time': 2.5730419158935547,\n",
       "  'loss': [9.525850296020508]},\n",
       " {'iteration': 4800,\n",
       "  'train_time': 5.805750131607056,\n",
       "  'query_time': 2.524383783340454,\n",
       "  'loss': [9.525850296020508]},\n",
       " {'iteration': 5200,\n",
       "  'train_time': 5.7468225955963135,\n",
       "  'query_time': 2.5213356018066406,\n",
       "  'loss': [9.525851249694824]},\n",
       " {'iteration': 5600,\n",
       "  'train_time': 5.932006359100342,\n",
       "  'query_time': 2.4779446125030518,\n",
       "  'loss': [9.525850296020508]},\n",
       " {'iteration': 6000,\n",
       "  'train_time': 5.8394880294799805,\n",
       "  'query_time': 2.503401041030884,\n",
       "  'loss': [9.525850296020508]},\n",
       " {'iteration': 6400,\n",
       "  'train_time': 5.814077615737915,\n",
       "  'query_time': 3.125391960144043,\n",
       "  'loss': [9.525850296020508]},\n",
       " {'iteration': 6800,\n",
       "  'train_time': 5.8955841064453125,\n",
       "  'query_time': 2.5466511249542236,\n",
       "  'loss': [9.525850296020508]},\n",
       " {'iteration': 7200,\n",
       "  'train_time': 5.677048921585083,\n",
       "  'query_time': 2.5048513412475586,\n",
       "  'loss': [9.525850296020508]},\n",
       " {'iteration': 7600,\n",
       "  'train_time': 5.748061418533325,\n",
       "  'query_time': 2.569960594177246,\n",
       "  'loss': [9.525850296020508]},\n",
       " {'iteration': 8000,\n",
       "  'train_time': 5.742279291152954,\n",
       "  'query_time': 2.4997715950012207,\n",
       "  'loss': [9.525850296020508]},\n",
       " {'iteration': 8400,\n",
       "  'train_time': 5.697549104690552,\n",
       "  'query_time': 2.5370242595672607,\n",
       "  'loss': [9.525850296020508]},\n",
       " {'iteration': 8800,\n",
       "  'train_time': 5.8558056354522705,\n",
       "  'query_time': 2.577089548110962,\n",
       "  'loss': [9.525851249694824]},\n",
       " {'iteration': 9200,\n",
       "  'train_time': 5.7440876960754395,\n",
       "  'query_time': 2.6334264278411865,\n",
       "  'loss': [9.525850296020508]},\n",
       " {'iteration': 9600,\n",
       "  'train_time': 5.7287633419036865,\n",
       "  'query_time': 2.567347764968872,\n",
       "  'loss': [9.525850296020508]},\n",
       " {'iteration': 10000,\n",
       "  'train_time': 5.914722204208374,\n",
       "  'query_time': 2.575610399246216,\n",
       "  'loss': [9.525850296020508]},\n",
       " {'iteration': 10400,\n",
       "  'train_time': 5.79102349281311,\n",
       "  'query_time': 2.4522926807403564,\n",
       "  'loss': [9.525851249694824]},\n",
       " {'iteration': 10800,\n",
       "  'train_time': 6.28466272354126,\n",
       "  'query_time': 2.5722336769104004,\n",
       "  'loss': [9.525851249694824]}]"
      ]
     },
     "execution_count": 91,
     "metadata": {},
     "output_type": "execute_result"
    }
   ],
   "source": [
    "all_metrics"
   ]
  },
  {
   "cell_type": "code",
   "execution_count": 92,
   "id": "cd68c6a3",
   "metadata": {},
   "outputs": [],
   "source": [
    "%autoreload 2\n",
    "metric_writer.write(\"test\", all_metrics)"
   ]
  },
  {
   "cell_type": "code",
   "execution_count": 93,
   "id": "fefe98d7",
   "metadata": {},
   "outputs": [],
   "source": [
    "%autoreload 2\n",
    "read_in_metrics = metric_writer.read(\"test\")"
   ]
  },
  {
   "cell_type": "code",
   "execution_count": 94,
   "id": "5a6c075e",
   "metadata": {},
   "outputs": [
    {
     "data": {
      "text/plain": [
       "28"
      ]
     },
     "execution_count": 94,
     "metadata": {},
     "output_type": "execute_result"
    }
   ],
   "source": [
    "len(read_in_metrics)"
   ]
  },
  {
   "cell_type": "code",
   "execution_count": null,
   "id": "3dacca43",
   "metadata": {},
   "outputs": [],
   "source": []
  },
  {
   "cell_type": "code",
   "execution_count": null,
   "id": "03c419b9",
   "metadata": {},
   "outputs": [],
   "source": []
  },
  {
   "cell_type": "code",
   "execution_count": null,
   "id": "75bf0f73",
   "metadata": {},
   "outputs": [],
   "source": []
  }
 ],
 "metadata": {
  "kernelspec": {
   "display_name": "Python 3",
   "language": "python",
   "name": "python3"
  },
  "language_info": {
   "codemirror_mode": {
    "name": "ipython",
    "version": 3
   },
   "file_extension": ".py",
   "mimetype": "text/x-python",
   "name": "python",
   "nbconvert_exporter": "python",
   "pygments_lexer": "ipython3",
   "version": "3.8.8"
  }
 },
 "nbformat": 4,
 "nbformat_minor": 5
}
