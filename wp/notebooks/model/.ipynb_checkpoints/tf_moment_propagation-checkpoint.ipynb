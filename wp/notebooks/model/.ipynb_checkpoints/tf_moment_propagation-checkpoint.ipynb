{
 "cells": [
  {
   "cell_type": "code",
   "execution_count": 1,
   "id": "limited-bones",
   "metadata": {},
   "outputs": [],
   "source": [
    "import os, sys, importlib\n",
    "\n",
    "import numpy as np\n",
    "import pandas as pd\n",
    "import matplotlib.pyplot as plt\n",
    "from sklearn.model_selection import train_test_split"
   ]
  },
  {
   "cell_type": "code",
   "execution_count": 2,
   "id": "isolated-liquid",
   "metadata": {},
   "outputs": [],
   "source": [
    "# Common paths\n",
    "BASE_PATH = os.path.join(os.getcwd(), \"..\", \"..\")\n",
    "MODULE_PATH = os.path.join(BASE_PATH, \"modules\")\n",
    "DS_PATH = os.path.join(BASE_PATH, \"datasets\")"
   ]
  },
  {
   "cell_type": "code",
   "execution_count": 3,
   "id": "transsexual-dutch",
   "metadata": {},
   "outputs": [
    {
     "data": {
      "text/plain": [
       "<module 'data.mnist' from '/home/exleonem/Desktop/workspace/thesis/wp/notebooks/model/../../modules/data/mnist.py'>"
      ]
     },
     "execution_count": 3,
     "metadata": {},
     "output_type": "execute_result"
    }
   ],
   "source": [
    "sys.path.append(MODULE_PATH)\n",
    "\n",
    "import mp.MomentPropagation as mp\n",
    "importlib.reload(mp)\n",
    "\n",
    "import data.mnist as mnist_loader\n",
    "importlib.reload(mnist_loader)"
   ]
  },
  {
   "cell_type": "markdown",
   "id": "attended-looking",
   "metadata": {},
   "source": [
    "## Prepare MNIST Data"
   ]
  },
  {
   "cell_type": "code",
   "execution_count": 4,
   "id": "recovered-overview",
   "metadata": {},
   "outputs": [],
   "source": [
    "mnist_path = os.path.join(DS_PATH, \"mnist\")\n",
    "inputs, targets = mnist_loader.load(mnist_path)"
   ]
  },
  {
   "cell_type": "code",
   "execution_count": 5,
   "id": "weird-acting",
   "metadata": {},
   "outputs": [],
   "source": [
    "selector = (targets==0) | (targets==1)"
   ]
  },
  {
   "cell_type": "code",
   "execution_count": 6,
   "id": "certified-spanking",
   "metadata": {},
   "outputs": [],
   "source": [
    "new_inputs = inputs[selector].astype(\"float32\")/255.0\n",
    "new_targets = targets[selector]"
   ]
  },
  {
   "cell_type": "code",
   "execution_count": 7,
   "id": "engaging-excitement",
   "metadata": {},
   "outputs": [],
   "source": [
    "in_shape = new_inputs.shape\n",
    "new_inputs = new_inputs.reshape(in_shape[0], 28, 28, 1)"
   ]
  },
  {
   "cell_type": "code",
   "execution_count": 8,
   "id": "heated-cycle",
   "metadata": {},
   "outputs": [
    {
     "data": {
      "text/plain": [
       "<matplotlib.image.AxesImage at 0x7f31cbb6f6d0>"
      ]
     },
     "execution_count": 8,
     "metadata": {},
     "output_type": "execute_result"
    },
    {
     "data": {
      "image/png": "[encoded data removed]",
      "text/plain": [
       "<Figure size 432x288 with 1 Axes>"
      ]
     },
     "metadata": {
      "needs_background": "light"
     },
     "output_type": "display_data"
    }
   ],
   "source": [
    "plt.imshow(new_inputs[20].reshape(28, 28))"
   ]
  },
  {
   "cell_type": "code",
   "execution_count": 9,
   "id": "express-source",
   "metadata": {},
   "outputs": [],
   "source": [
    "x_train, x_test, y_train, y_test = train_test_split(new_inputs, new_targets)"
   ]
  },
  {
   "cell_type": "code",
   "execution_count": 10,
   "id": "0dba18be",
   "metadata": {},
   "outputs": [],
   "source": [
    "x_test, x_val, y_test, y_val = train_test_split(x_test, y_test)"
   ]
  },
  {
   "cell_type": "code",
   "execution_count": 11,
   "id": "ca54bb41",
   "metadata": {},
   "outputs": [],
   "source": [
    "train_of_class_0 = (y_train == 0).sum()\n",
    "test_of_class_0 = (y_test == 0).sum()\n",
    "val_of_class_0 = (y_val == 0).sum()"
   ]
  },
  {
   "cell_type": "code",
   "execution_count": 12,
   "id": "ac8cbf55",
   "metadata": {},
   "outputs": [
    {
     "name": "stdout",
     "output_type": "stream",
     "text": [
      "Dist-Train\n",
      "class 0:  0.4642309427153811\n",
      "Class 1:  0.5357690572846189\n",
      "\n",
      "Dist-Test\n",
      "Class 0:  0.4691447130999639\n",
      "Class 1:  0.530855286900036\n",
      "\n",
      "Dist-Val\n",
      "Class 0:  0.4945887445887446\n",
      "Class 1:  0.5054112554112554\n"
     ]
    }
   ],
   "source": [
    "print(\"Dist-Train\")\n",
    "num_samples_train = y_train.shape[0]\n",
    "perc_class_0 = train_of_class_0/num_samples_train\n",
    "print(\"class 0: \", str(perc_class_0))\n",
    "print(\"Class 1: \", str(1-perc_class_0))\n",
    "\n",
    "print(\"\\nDist-Test\")\n",
    "num_samples_test = y_test.shape[0]\n",
    "perc_class_0 = test_of_class_0/num_samples_test\n",
    "print(\"Class 0: \", str(perc_class_0))\n",
    "print(\"Class 1: \", str(1-perc_class_0))\n",
    "\n",
    "print(\"\\nDist-Val\")\n",
    "num_samples_val = y_val.shape[0]\n",
    "perc_class_0 = val_of_class_0/num_samples_val\n",
    "print(\"Class 0: \", str(perc_class_0))\n",
    "print(\"Class 1: \", str(1-perc_class_0))"
   ]
  },
  {
   "cell_type": "code",
   "execution_count": 13,
   "id": "hungarian-carter",
   "metadata": {},
   "outputs": [
    {
     "name": "stdout",
     "output_type": "stream",
     "text": [
      "Train-shape:  (11085, 28, 28, 1) float32\n",
      "Test-shape:  (2771, 28, 28, 1) float32\n"
     ]
    }
   ],
   "source": [
    "print(\"Train-shape: \", x_train.shape, x_train.dtype)\n",
    "print(\"Test-shape: \", x_test.shape, x_test.dtype)"
   ]
  },
  {
   "cell_type": "markdown",
   "id": "subtle-strengthening",
   "metadata": {},
   "source": [
    "# Perform moment propagation"
   ]
  },
  {
   "cell_type": "code",
   "execution_count": 14,
   "id": "persistent-montgomery",
   "metadata": {},
   "outputs": [],
   "source": [
    "import tensorflow as tf\n",
    "from tensorflow import keras\n",
    "import tensorflow.keras\n",
    "from tensorflow.keras import Sequential\n",
    "from tensorflow.keras.layers import  Conv2D, MaxPool2D, Dropout, Flatten, Dense, Softmax"
   ]
  },
  {
   "cell_type": "code",
   "execution_count": 15,
   "id": "dying-volleyball",
   "metadata": {},
   "outputs": [
    {
     "name": "stdout",
     "output_type": "stream",
     "text": [
      "1 Physical GPU's,  1 Logical GPU's\n"
     ]
    }
   ],
   "source": [
    "gpus = tf.config.experimental.list_physical_devices(\"GPU\")\n",
    "cpus = tf.config.experimental.list_physical_devices(\"CPU\")\n",
    "\n",
    "if gpus:\n",
    "    try:\n",
    "        for gpu in gpus:\n",
    "            tf.config.experimental.set_memory_growth(gpu, True)\n",
    "            \n",
    "        logical_gpus = tf.config.experimental.list_logical_devices(\"GPU\")\n",
    "        print(len(gpus), \"Physical GPU's, \", len(logical_gpus), \"Logical GPU's\")\n",
    "        \n",
    "    except RuntimeError as e:\n",
    "        print(e)\n",
    "        \n",
    "elif cpus:\n",
    "    try:\n",
    "        logical_cpus = tf.config.experimental.list_logical_devices(\"CPU\")\n",
    "        print(len(cpus), \"Physical CPU,\", len(logical_cpus), \"Logical CPU\")\n",
    "        \n",
    "    except RuntimeError as e:\n",
    "        print(e)\n",
    "        \n",
    "        \n",
    "tfk = tf.keras"
   ]
  },
  {
   "cell_type": "code",
   "execution_count": 16,
   "id": "nasty-thunder",
   "metadata": {},
   "outputs": [],
   "source": [
    "tfk.backend.clear_session()\n",
    "input_shape = (28, 28, 1)"
   ]
  },
  {
   "cell_type": "code",
   "execution_count": 17,
   "id": "wicked-paraguay",
   "metadata": {},
   "outputs": [
    {
     "name": "stdout",
     "output_type": "stream",
     "text": [
      "Model: \"sequential\"\n",
      "_________________________________________________________________\n",
      "Layer (type)                 Output Shape              Param #   \n",
      "=================================================================\n",
      "conv2d (Conv2D)              (None, 25, 25, 128)       2176      \n",
      "_________________________________________________________________\n",
      "max_pooling2d (MaxPooling2D) (None, 12, 12, 128)       0         \n",
      "_________________________________________________________________\n",
      "dropout (Dropout)            (None, 12, 12, 128)       0         \n",
      "_________________________________________________________________\n",
      "conv2d_1 (Conv2D)            (None, 10, 10, 64)        73792     \n",
      "_________________________________________________________________\n",
      "max_pooling2d_1 (MaxPooling2 (None, 5, 5, 64)          0         \n",
      "_________________________________________________________________\n",
      "dropout_1 (Dropout)          (None, 5, 5, 64)          0         \n",
      "_________________________________________________________________\n",
      "flatten (Flatten)            (None, 1600)              0         \n",
      "_________________________________________________________________\n",
      "dense (Dense)                (None, 512)               819712    \n",
      "_________________________________________________________________\n",
      "dense_1 (Dense)              (None, 256)               131328    \n",
      "_________________________________________________________________\n",
      "dense_2 (Dense)              (None, 128)               32896     \n",
      "_________________________________________________________________\n",
      "dense_3 (Dense)              (None, 1)                 129       \n",
      "=================================================================\n",
      "Total params: 1,060,033\n",
      "Trainable params: 1,060,033\n",
      "Non-trainable params: 0\n",
      "_________________________________________________________________\n"
     ]
    }
   ],
   "source": [
    "input_shape = (28, 28, 1)\n",
    "model = Sequential([\n",
    "    Conv2D(128, 4,activation=\"relu\", input_shape=input_shape),\n",
    "    MaxPool2D(),\n",
    "    Dropout(.2),\n",
    "    Conv2D(64, 3, activation=\"relu\"),\n",
    "    MaxPool2D(),\n",
    "    Dropout(.2),\n",
    "    Flatten(),\n",
    "    Dense(512, activation=\"relu\"),\n",
    "    Dense(256, activation=\"relu\"),\n",
    "    Dense(128, activation=\"relu\"),\n",
    "    Dense(1, activation=\"sigmoid\")\n",
    "])\n",
    "\n",
    "model.build(input_shape)\n",
    "model.summary()"
   ]
  },
  {
   "cell_type": "code",
   "execution_count": 18,
   "id": "selective-barrier",
   "metadata": {},
   "outputs": [
    {
     "name": "stdout",
     "output_type": "stream",
     "text": [
      "Epoch 1/100\n",
      "278/278 [==============================] - 9s 31ms/step - loss: 0.6777 - binary_accuracy: 0.7925 - val_loss: 0.6607 - val_binary_accuracy: 0.9924\n",
      "Epoch 2/100\n",
      "278/278 [==============================] - 1s 5ms/step - loss: 0.6479 - binary_accuracy: 0.9770 - val_loss: 0.6227 - val_binary_accuracy: 0.9946\n",
      "Epoch 3/100\n",
      "278/278 [==============================] - 1s 5ms/step - loss: 0.6070 - binary_accuracy: 0.9809 - val_loss: 0.5700 - val_binary_accuracy: 0.9913\n",
      "Epoch 4/100\n",
      "278/278 [==============================] - 1s 5ms/step - loss: 0.5470 - binary_accuracy: 0.9839 - val_loss: 0.4940 - val_binary_accuracy: 0.9935\n",
      "Epoch 5/100\n",
      "278/278 [==============================] - 1s 4ms/step - loss: 0.4603 - binary_accuracy: 0.9898 - val_loss: 0.3903 - val_binary_accuracy: 0.9946\n",
      "Epoch 6/100\n",
      "278/278 [==============================] - 1s 5ms/step - loss: 0.3480 - binary_accuracy: 0.9929 - val_loss: 0.2731 - val_binary_accuracy: 0.9935\n",
      "Epoch 7/100\n",
      "278/278 [==============================] - 1s 5ms/step - loss: 0.2361 - binary_accuracy: 0.9935 - val_loss: 0.1738 - val_binary_accuracy: 0.9913\n",
      "Epoch 8/100\n",
      "278/278 [==============================] - 1s 5ms/step - loss: 0.1516 - binary_accuracy: 0.9934 - val_loss: 0.1106 - val_binary_accuracy: 0.9903\n",
      "Epoch 9/100\n",
      "278/278 [==============================] - 1s 4ms/step - loss: 0.1006 - binary_accuracy: 0.9937 - val_loss: 0.0750 - val_binary_accuracy: 0.9903\n",
      "Epoch 10/100\n",
      "278/278 [==============================] - 1s 4ms/step - loss: 0.0721 - binary_accuracy: 0.9932 - val_loss: 0.0548 - val_binary_accuracy: 0.9903\n",
      "Epoch 11/100\n",
      "278/278 [==============================] - 1s 4ms/step - loss: 0.0553 - binary_accuracy: 0.9936 - val_loss: 0.0431 - val_binary_accuracy: 0.9913\n",
      "Epoch 12/100\n",
      "278/278 [==============================] - 1s 5ms/step - loss: 0.0449 - binary_accuracy: 0.9943 - val_loss: 0.0355 - val_binary_accuracy: 0.9924\n",
      "Epoch 13/100\n",
      "278/278 [==============================] - 1s 4ms/step - loss: 0.0377 - binary_accuracy: 0.9946 - val_loss: 0.0304 - val_binary_accuracy: 0.9935\n",
      "Epoch 14/100\n",
      "278/278 [==============================] - 1s 4ms/step - loss: 0.0336 - binary_accuracy: 0.9943 - val_loss: 0.0269 - val_binary_accuracy: 0.9935\n",
      "Epoch 15/100\n",
      "278/278 [==============================] - 1s 4ms/step - loss: 0.0303 - binary_accuracy: 0.9943 - val_loss: 0.0247 - val_binary_accuracy: 0.9935\n",
      "Epoch 16/100\n",
      "278/278 [==============================] - 1s 4ms/step - loss: 0.0274 - binary_accuracy: 0.9947 - val_loss: 0.0226 - val_binary_accuracy: 0.9935\n",
      "Epoch 17/100\n",
      "278/278 [==============================] - 1s 4ms/step - loss: 0.0249 - binary_accuracy: 0.9947 - val_loss: 0.0210 - val_binary_accuracy: 0.9935\n",
      "Epoch 18/100\n",
      "278/278 [==============================] - 1s 4ms/step - loss: 0.0241 - binary_accuracy: 0.9940 - val_loss: 0.0198 - val_binary_accuracy: 0.9935\n",
      "Epoch 19/100\n",
      "278/278 [==============================] - 1s 5ms/step - loss: 0.0226 - binary_accuracy: 0.9949 - val_loss: 0.0188 - val_binary_accuracy: 0.9935\n",
      "Epoch 20/100\n",
      "278/278 [==============================] - 1s 5ms/step - loss: 0.0205 - binary_accuracy: 0.9949 - val_loss: 0.0179 - val_binary_accuracy: 0.9935\n",
      "Epoch 21/100\n",
      "278/278 [==============================] - 1s 4ms/step - loss: 0.0211 - binary_accuracy: 0.9946 - val_loss: 0.0172 - val_binary_accuracy: 0.9935\n",
      "Epoch 22/100\n",
      "278/278 [==============================] - 1s 4ms/step - loss: 0.0192 - binary_accuracy: 0.9958 - val_loss: 0.0166 - val_binary_accuracy: 0.9935\n",
      "Epoch 23/100\n",
      "278/278 [==============================] - 1s 4ms/step - loss: 0.0185 - binary_accuracy: 0.9954 - val_loss: 0.0160 - val_binary_accuracy: 0.9935\n",
      "Epoch 24/100\n",
      "278/278 [==============================] - 1s 5ms/step - loss: 0.0175 - binary_accuracy: 0.9952 - val_loss: 0.0155 - val_binary_accuracy: 0.9935\n",
      "Epoch 25/100\n",
      "278/278 [==============================] - 1s 4ms/step - loss: 0.0179 - binary_accuracy: 0.9955 - val_loss: 0.0151 - val_binary_accuracy: 0.9935\n",
      "Epoch 26/100\n",
      "278/278 [==============================] - 1s 4ms/step - loss: 0.0167 - binary_accuracy: 0.9959 - val_loss: 0.0148 - val_binary_accuracy: 0.9935\n",
      "Epoch 27/100\n",
      "278/278 [==============================] - 1s 5ms/step - loss: 0.0169 - binary_accuracy: 0.9960 - val_loss: 0.0144 - val_binary_accuracy: 0.9957\n",
      "Epoch 28/100\n",
      "278/278 [==============================] - 1s 5ms/step - loss: 0.0155 - binary_accuracy: 0.9957 - val_loss: 0.0141 - val_binary_accuracy: 0.9957\n",
      "Epoch 29/100\n",
      "278/278 [==============================] - 1s 5ms/step - loss: 0.0156 - binary_accuracy: 0.9959 - val_loss: 0.0139 - val_binary_accuracy: 0.9968\n",
      "Epoch 30/100\n",
      "278/278 [==============================] - 1s 5ms/step - loss: 0.0151 - binary_accuracy: 0.9961 - val_loss: 0.0136 - val_binary_accuracy: 0.9968\n",
      "Epoch 31/100\n",
      "278/278 [==============================] - 1s 5ms/step - loss: 0.0146 - binary_accuracy: 0.9962 - val_loss: 0.0133 - val_binary_accuracy: 0.9968\n",
      "Epoch 32/100\n",
      "278/278 [==============================] - 1s 5ms/step - loss: 0.0148 - binary_accuracy: 0.9960 - val_loss: 0.0132 - val_binary_accuracy: 0.9968\n",
      "Epoch 33/100\n",
      "278/278 [==============================] - 1s 5ms/step - loss: 0.0140 - binary_accuracy: 0.9960 - val_loss: 0.0130 - val_binary_accuracy: 0.9968\n",
      "Epoch 34/100\n",
      "278/278 [==============================] - 1s 4ms/step - loss: 0.0141 - binary_accuracy: 0.9962 - val_loss: 0.0128 - val_binary_accuracy: 0.9968\n",
      "Epoch 35/100\n",
      "278/278 [==============================] - 1s 5ms/step - loss: 0.0133 - binary_accuracy: 0.9959 - val_loss: 0.0126 - val_binary_accuracy: 0.9968\n",
      "Epoch 36/100\n",
      "278/278 [==============================] - 1s 5ms/step - loss: 0.0130 - binary_accuracy: 0.9963 - val_loss: 0.0125 - val_binary_accuracy: 0.9968\n",
      "Epoch 37/100\n",
      "278/278 [==============================] - 1s 5ms/step - loss: 0.0128 - binary_accuracy: 0.9967 - val_loss: 0.0123 - val_binary_accuracy: 0.9968\n",
      "Epoch 38/100\n",
      "278/278 [==============================] - 1s 5ms/step - loss: 0.0128 - binary_accuracy: 0.9961 - val_loss: 0.0122 - val_binary_accuracy: 0.9968\n",
      "Epoch 39/100\n",
      "278/278 [==============================] - 1s 5ms/step - loss: 0.0124 - binary_accuracy: 0.9966 - val_loss: 0.0121 - val_binary_accuracy: 0.9968\n",
      "Epoch 40/100\n",
      "278/278 [==============================] - 1s 5ms/step - loss: 0.0126 - binary_accuracy: 0.9964 - val_loss: 0.0119 - val_binary_accuracy: 0.9968\n",
      "Epoch 41/100\n",
      "278/278 [==============================] - 1s 4ms/step - loss: 0.0127 - binary_accuracy: 0.9963 - val_loss: 0.0118 - val_binary_accuracy: 0.9968\n",
      "Epoch 42/100\n",
      "278/278 [==============================] - 1s 4ms/step - loss: 0.0118 - binary_accuracy: 0.9969 - val_loss: 0.0117 - val_binary_accuracy: 0.9968\n",
      "Epoch 43/100\n",
      "278/278 [==============================] - 1s 5ms/step - loss: 0.0121 - binary_accuracy: 0.9964 - val_loss: 0.0116 - val_binary_accuracy: 0.9968\n",
      "Epoch 44/100\n",
      "278/278 [==============================] - 1s 4ms/step - loss: 0.0122 - binary_accuracy: 0.9967 - val_loss: 0.0115 - val_binary_accuracy: 0.9968\n",
      "Epoch 45/100\n",
      "278/278 [==============================] - 1s 4ms/step - loss: 0.0119 - binary_accuracy: 0.9965 - val_loss: 0.0113 - val_binary_accuracy: 0.9968\n",
      "Epoch 46/100\n",
      "278/278 [==============================] - 1s 4ms/step - loss: 0.0114 - binary_accuracy: 0.9960 - val_loss: 0.0113 - val_binary_accuracy: 0.9968\n",
      "Epoch 47/100\n",
      "278/278 [==============================] - 1s 4ms/step - loss: 0.0124 - binary_accuracy: 0.9962 - val_loss: 0.0112 - val_binary_accuracy: 0.9968\n",
      "Epoch 48/100\n",
      "278/278 [==============================] - 1s 4ms/step - loss: 0.0114 - binary_accuracy: 0.9969 - val_loss: 0.0111 - val_binary_accuracy: 0.9968\n",
      "Epoch 49/100\n",
      "278/278 [==============================] - 1s 5ms/step - loss: 0.0106 - binary_accuracy: 0.9968 - val_loss: 0.0110 - val_binary_accuracy: 0.9968\n",
      "Epoch 50/100\n",
      "278/278 [==============================] - 1s 4ms/step - loss: 0.0106 - binary_accuracy: 0.9973 - val_loss: 0.0109 - val_binary_accuracy: 0.9968\n",
      "Epoch 51/100\n",
      "278/278 [==============================] - 1s 4ms/step - loss: 0.0115 - binary_accuracy: 0.9962 - val_loss: 0.0109 - val_binary_accuracy: 0.9968\n",
      "Epoch 52/100\n",
      "278/278 [==============================] - 1s 4ms/step - loss: 0.0113 - binary_accuracy: 0.9964 - val_loss: 0.0108 - val_binary_accuracy: 0.9968\n"
     ]
    },
    {
     "name": "stdout",
     "output_type": "stream",
     "text": [
      "Epoch 53/100\n",
      "278/278 [==============================] - 1s 4ms/step - loss: 0.0108 - binary_accuracy: 0.9968 - val_loss: 0.0107 - val_binary_accuracy: 0.9968\n",
      "Epoch 54/100\n",
      "278/278 [==============================] - 1s 4ms/step - loss: 0.0109 - binary_accuracy: 0.9968 - val_loss: 0.0106 - val_binary_accuracy: 0.9968\n",
      "Epoch 55/100\n",
      "278/278 [==============================] - 1s 4ms/step - loss: 0.0106 - binary_accuracy: 0.9969 - val_loss: 0.0106 - val_binary_accuracy: 0.9968\n",
      "Epoch 56/100\n",
      "278/278 [==============================] - 1s 5ms/step - loss: 0.0107 - binary_accuracy: 0.9968 - val_loss: 0.0105 - val_binary_accuracy: 0.9968\n",
      "Epoch 57/100\n",
      "278/278 [==============================] - 1s 5ms/step - loss: 0.0095 - binary_accuracy: 0.9972 - val_loss: 0.0105 - val_binary_accuracy: 0.9968\n",
      "Epoch 58/100\n",
      "278/278 [==============================] - 1s 5ms/step - loss: 0.0096 - binary_accuracy: 0.9968 - val_loss: 0.0104 - val_binary_accuracy: 0.9968\n",
      "Epoch 59/100\n",
      "278/278 [==============================] - 1s 5ms/step - loss: 0.0109 - binary_accuracy: 0.9965 - val_loss: 0.0103 - val_binary_accuracy: 0.9968\n",
      "Epoch 60/100\n",
      "278/278 [==============================] - 1s 4ms/step - loss: 0.0103 - binary_accuracy: 0.9971 - val_loss: 0.0103 - val_binary_accuracy: 0.9968\n",
      "Epoch 61/100\n",
      "278/278 [==============================] - 1s 4ms/step - loss: 0.0097 - binary_accuracy: 0.9969 - val_loss: 0.0103 - val_binary_accuracy: 0.9968\n",
      "Epoch 62/100\n",
      "278/278 [==============================] - 1s 4ms/step - loss: 0.0098 - binary_accuracy: 0.9971 - val_loss: 0.0102 - val_binary_accuracy: 0.9968\n",
      "Epoch 63/100\n",
      "278/278 [==============================] - 1s 4ms/step - loss: 0.0094 - binary_accuracy: 0.9968 - val_loss: 0.0102 - val_binary_accuracy: 0.9968\n",
      "Epoch 64/100\n",
      "278/278 [==============================] - 1s 4ms/step - loss: 0.0098 - binary_accuracy: 0.9971 - val_loss: 0.0102 - val_binary_accuracy: 0.9968\n",
      "Epoch 65/100\n",
      "278/278 [==============================] - 1s 5ms/step - loss: 0.0105 - binary_accuracy: 0.9969 - val_loss: 0.0102 - val_binary_accuracy: 0.9968\n",
      "Epoch 66/100\n",
      "278/278 [==============================] - 1s 4ms/step - loss: 0.0092 - binary_accuracy: 0.9974 - val_loss: 0.0101 - val_binary_accuracy: 0.9968\n",
      "Epoch 67/100\n",
      "278/278 [==============================] - 1s 4ms/step - loss: 0.0090 - binary_accuracy: 0.9968 - val_loss: 0.0100 - val_binary_accuracy: 0.9968\n",
      "Epoch 68/100\n",
      "278/278 [==============================] - 1s 5ms/step - loss: 0.0096 - binary_accuracy: 0.9970 - val_loss: 0.0100 - val_binary_accuracy: 0.9968\n",
      "Epoch 69/100\n",
      "278/278 [==============================] - 1s 5ms/step - loss: 0.0094 - binary_accuracy: 0.9968 - val_loss: 0.0100 - val_binary_accuracy: 0.9968\n",
      "Epoch 70/100\n",
      "278/278 [==============================] - 1s 4ms/step - loss: 0.0088 - binary_accuracy: 0.9972 - val_loss: 0.0100 - val_binary_accuracy: 0.9968\n",
      "Epoch 71/100\n",
      "278/278 [==============================] - 1s 4ms/step - loss: 0.0084 - binary_accuracy: 0.9973 - val_loss: 0.0099 - val_binary_accuracy: 0.9968\n",
      "Epoch 72/100\n",
      "278/278 [==============================] - 1s 4ms/step - loss: 0.0084 - binary_accuracy: 0.9974 - val_loss: 0.0100 - val_binary_accuracy: 0.9968\n",
      "Epoch 73/100\n",
      "278/278 [==============================] - 1s 4ms/step - loss: 0.0087 - binary_accuracy: 0.9972 - val_loss: 0.0099 - val_binary_accuracy: 0.9968\n",
      "Epoch 74/100\n",
      "278/278 [==============================] - 1s 4ms/step - loss: 0.0074 - binary_accuracy: 0.9977 - val_loss: 0.0098 - val_binary_accuracy: 0.9968\n",
      "Epoch 75/100\n",
      "278/278 [==============================] - 1s 4ms/step - loss: 0.0087 - binary_accuracy: 0.9971 - val_loss: 0.0098 - val_binary_accuracy: 0.9968\n",
      "Epoch 76/100\n",
      "278/278 [==============================] - 1s 4ms/step - loss: 0.0093 - binary_accuracy: 0.9970 - val_loss: 0.0097 - val_binary_accuracy: 0.9968\n",
      "Epoch 77/100\n",
      "278/278 [==============================] - 1s 5ms/step - loss: 0.0087 - binary_accuracy: 0.9969 - val_loss: 0.0097 - val_binary_accuracy: 0.9968\n",
      "Epoch 78/100\n",
      "278/278 [==============================] - 1s 4ms/step - loss: 0.0086 - binary_accuracy: 0.9971 - val_loss: 0.0096 - val_binary_accuracy: 0.9968\n",
      "Epoch 79/100\n",
      "278/278 [==============================] - 1s 5ms/step - loss: 0.0080 - binary_accuracy: 0.9974 - val_loss: 0.0096 - val_binary_accuracy: 0.9968\n",
      "Epoch 80/100\n",
      "278/278 [==============================] - 1s 5ms/step - loss: 0.0084 - binary_accuracy: 0.9971 - val_loss: 0.0096 - val_binary_accuracy: 0.9968\n",
      "Epoch 81/100\n",
      "278/278 [==============================] - 1s 5ms/step - loss: 0.0081 - binary_accuracy: 0.9973 - val_loss: 0.0096 - val_binary_accuracy: 0.9968\n",
      "Epoch 82/100\n",
      "278/278 [==============================] - 1s 4ms/step - loss: 0.0086 - binary_accuracy: 0.9969 - val_loss: 0.0095 - val_binary_accuracy: 0.9968\n",
      "Epoch 83/100\n",
      "278/278 [==============================] - 1s 5ms/step - loss: 0.0080 - binary_accuracy: 0.9976 - val_loss: 0.0096 - val_binary_accuracy: 0.9968\n",
      "Epoch 84/100\n",
      "278/278 [==============================] - 1s 5ms/step - loss: 0.0084 - binary_accuracy: 0.9977 - val_loss: 0.0095 - val_binary_accuracy: 0.9968\n",
      "Epoch 85/100\n",
      "278/278 [==============================] - 1s 4ms/step - loss: 0.0079 - binary_accuracy: 0.9974 - val_loss: 0.0095 - val_binary_accuracy: 0.9968\n",
      "Epoch 86/100\n",
      "278/278 [==============================] - 1s 5ms/step - loss: 0.0077 - binary_accuracy: 0.9976 - val_loss: 0.0094 - val_binary_accuracy: 0.9968\n",
      "Epoch 87/100\n",
      "278/278 [==============================] - 1s 4ms/step - loss: 0.0071 - binary_accuracy: 0.9976 - val_loss: 0.0094 - val_binary_accuracy: 0.9968\n",
      "Epoch 88/100\n",
      "278/278 [==============================] - 1s 5ms/step - loss: 0.0074 - binary_accuracy: 0.9972 - val_loss: 0.0094 - val_binary_accuracy: 0.9968\n",
      "Epoch 89/100\n",
      "278/278 [==============================] - 1s 5ms/step - loss: 0.0079 - binary_accuracy: 0.9973 - val_loss: 0.0094 - val_binary_accuracy: 0.9968\n",
      "Epoch 90/100\n",
      "278/278 [==============================] - 1s 5ms/step - loss: 0.0076 - binary_accuracy: 0.9972 - val_loss: 0.0093 - val_binary_accuracy: 0.9968\n",
      "Epoch 91/100\n",
      "278/278 [==============================] - 1s 5ms/step - loss: 0.0078 - binary_accuracy: 0.9974 - val_loss: 0.0094 - val_binary_accuracy: 0.9968\n",
      "Epoch 92/100\n",
      "278/278 [==============================] - 1s 5ms/step - loss: 0.0077 - binary_accuracy: 0.9974 - val_loss: 0.0093 - val_binary_accuracy: 0.9968\n",
      "Epoch 93/100\n",
      "278/278 [==============================] - 1s 5ms/step - loss: 0.0073 - binary_accuracy: 0.9975 - val_loss: 0.0093 - val_binary_accuracy: 0.9968\n",
      "Epoch 94/100\n",
      "278/278 [==============================] - 1s 4ms/step - loss: 0.0070 - binary_accuracy: 0.9978 - val_loss: 0.0092 - val_binary_accuracy: 0.9968\n",
      "Epoch 95/100\n",
      "278/278 [==============================] - 1s 4ms/step - loss: 0.0079 - binary_accuracy: 0.9970 - val_loss: 0.0093 - val_binary_accuracy: 0.9968\n",
      "Epoch 96/100\n",
      "278/278 [==============================] - 1s 5ms/step - loss: 0.0074 - binary_accuracy: 0.9979 - val_loss: 0.0092 - val_binary_accuracy: 0.9968\n",
      "Epoch 97/100\n",
      "278/278 [==============================] - 1s 5ms/step - loss: 0.0075 - binary_accuracy: 0.9975 - val_loss: 0.0092 - val_binary_accuracy: 0.9968\n",
      "Epoch 98/100\n",
      "278/278 [==============================] - 1s 5ms/step - loss: 0.0074 - binary_accuracy: 0.9976 - val_loss: 0.0092 - val_binary_accuracy: 0.9968\n",
      "Epoch 99/100\n",
      "278/278 [==============================] - 1s 5ms/step - loss: 0.0070 - binary_accuracy: 0.9979 - val_loss: 0.0091 - val_binary_accuracy: 0.9968\n",
      "Epoch 100/100\n",
      "278/278 [==============================] - 1s 5ms/step - loss: 0.0069 - binary_accuracy: 0.9977 - val_loss: 0.0092 - val_binary_accuracy: 0.9968\n"
     ]
    }
   ],
   "source": [
    "#optimizer = keras.optimizers.Adam(learning_rate=0.0001)\n",
    "optimizer = keras.optimizers.Adadelta(learning_rate=0.001)\n",
    "model.compile(optimizer=optimizer, loss=\"binary_crossentropy\", metrics=[keras.metrics.binary_accuracy])\n",
    "history = model.fit(\n",
    "    x=x_train,\n",
    "    y=y_train,\n",
    "    validation_data=(x_val, y_val),\n",
    "    batch_size=40,\n",
    "    epochs=100\n",
    ")"
   ]
  },
  {
   "cell_type": "code",
   "execution_count": 19,
   "id": "dc451b64",
   "metadata": {},
   "outputs": [],
   "source": [
    "def plot_define(x_label, y_label=\"\", legend=False):\n",
    "    plt.xlabel(x_label)\n",
    "    plt.ylabel(y_label)"
   ]
  },
  {
   "cell_type": "code",
   "execution_count": 20,
   "id": "43395c48",
   "metadata": {},
   "outputs": [
    {
     "data": {
      "text/plain": [
       "<matplotlib.legend.Legend at 0x7f32a0724c70>"
      ]
     },
     "execution_count": 20,
     "metadata": {},
     "output_type": "execute_result"
    },
    {
     "data": {
      "image/png": "[encoded data removed]",
      "text/plain": [
       "<Figure size 1080x576 with 2 Axes>"
      ]
     },
     "metadata": {
      "needs_background": "light"
     },
     "output_type": "display_data"
    }
   ],
   "source": [
    "# T-sne Plot\n",
    "plt.figure(figsize=(15, 8))\n",
    "\n",
    "plt.subplot(2, 2, 1)\n",
    "plt.plot(history.history[\"binary_accuracy\"], label=\"accuracy\")\n",
    "plt.plot(history.history[\"val_binary_accuracy\"], label=\"val_accuracy\")\n",
    "plot_define(\"Epochs\", \"Accuracy\")\n",
    "plt.legend()\n",
    "\n",
    "plt.subplot(2, 2, 2)\n",
    "plt.plot(history.history[\"loss\"], label=\"loss\")\n",
    "plt.plot(history.history[\"val_loss\"], label=\"val_loss\")\n",
    "plot_define(\"Epochs\", \"Loss\")\n",
    "plt.legend()"
   ]
  },
  {
   "cell_type": "code",
   "execution_count": 21,
   "id": "945c1108",
   "metadata": {},
   "outputs": [
    {
     "name": "stderr",
     "output_type": "stream",
     "text": [
      "100%|██████████| 50/50 [00:05<00:00,  9.31it/s]\n"
     ]
    }
   ],
   "source": [
    "import bayesian.utils as butils\n",
    "importlib.reload(butils)\n",
    "n_predictions = butils.batch_predict_n(model, x_test, 50)"
   ]
  },
  {
   "cell_type": "code",
   "execution_count": 22,
   "id": "a7e754ff",
   "metadata": {},
   "outputs": [
    {
     "data": {
      "text/plain": [
       "array([[3.15937427e-06],\n",
       "       [9.99796689e-01],\n",
       "       [4.27860869e-06],\n",
       "       [9.99642968e-01],\n",
       "       [1.24721544e-06],\n",
       "       [2.34787399e-06],\n",
       "       [9.99147058e-01],\n",
       "       [3.91164882e-04],\n",
       "       [9.99899983e-01],\n",
       "       [3.01209658e-01],\n",
       "       [9.99570549e-01],\n",
       "       [1.59241203e-02],\n",
       "       [9.99464333e-01],\n",
       "       [9.99932289e-01],\n",
       "       [1.00832444e-03],\n",
       "       [9.99844670e-01],\n",
       "       [9.98452663e-01],\n",
       "       [9.77736115e-01],\n",
       "       [9.99406457e-01],\n",
       "       [3.15902653e-05]])"
      ]
     },
     "execution_count": 22,
     "metadata": {},
     "output_type": "execute_result"
    }
   ],
   "source": [
    "n_predictions[0][:20]"
   ]
  },
  {
   "cell_type": "code",
   "execution_count": 23,
   "id": "b80fa774",
   "metadata": {},
   "outputs": [],
   "source": [
    "measure_results = butils.measures(n_predictions, batch_dim=True)"
   ]
  },
  {
   "cell_type": "code",
   "execution_count": 24,
   "id": "5f4da670",
   "metadata": {},
   "outputs": [
    {
     "name": "stdout",
     "output_type": "stream",
     "text": [
      "(2771, 1)\n",
      "(2771, 1)\n"
     ]
    }
   ],
   "source": [
    "avg, var = measure_results\n",
    "print(avg.shape)\n",
    "print(var.shape)"
   ]
  },
  {
   "cell_type": "code",
   "execution_count": 25,
   "id": "e31fd5b9",
   "metadata": {},
   "outputs": [
    {
     "data": {
      "text/plain": [
       "array([1, 1])"
      ]
     },
     "execution_count": 25,
     "metadata": {},
     "output_type": "execute_result"
    }
   ],
   "source": [
    "alt_class_prob = np.repeat(1, 2)\n",
    "alt_class_prob"
   ]
  },
  {
   "cell_type": "code",
   "execution_count": 26,
   "id": "9437c54f",
   "metadata": {},
   "outputs": [
    {
     "data": {
      "text/plain": [
       "(2771, 4)"
      ]
     },
     "execution_count": 26,
     "metadata": {},
     "output_type": "execute_result"
    }
   ],
   "source": [
    "measure_data_stacked = np.hstack([avg, 1-avg, var, np.expand_dims(y_test, axis=1)])\n",
    "measure_data_stacked.shape"
   ]
  },
  {
   "cell_type": "code",
   "execution_count": 27,
   "id": "15a435d5",
   "metadata": {},
   "outputs": [
    {
     "name": "stdout",
     "output_type": "stream",
     "text": [
      "(2771, 4)\n"
     ]
    }
   ],
   "source": [
    "print(measure_data_stacked.shape)"
   ]
  },
  {
   "cell_type": "code",
   "execution_count": 28,
   "id": "004702aa",
   "metadata": {},
   "outputs": [
    {
     "data": {
      "text/html": [
       "<div>\n",
       "<style scoped>\n",
       "    .dataframe tbody tr th:only-of-type {\n",
       "        vertical-align: middle;\n",
       "    }\n",
       "\n",
       "    .dataframe tbody tr th {\n",
       "        vertical-align: top;\n",
       "    }\n",
       "\n",
       "    .dataframe thead th {\n",
       "        text-align: right;\n",
       "    }\n",
       "</style>\n",
       "<table border=\"1\" class=\"dataframe\">\n",
       "  <thead>\n",
       "    <tr style=\"text-align: right;\">\n",
       "      <th></th>\n",
       "      <th>class_0</th>\n",
       "      <th>class_1</th>\n",
       "      <th>var</th>\n",
       "      <th>target</th>\n",
       "    </tr>\n",
       "  </thead>\n",
       "  <tbody>\n",
       "    <tr>\n",
       "      <th>0</th>\n",
       "      <td>0.525441</td>\n",
       "      <td>0.474559</td>\n",
       "      <td>0.243862</td>\n",
       "      <td>0.0</td>\n",
       "    </tr>\n",
       "    <tr>\n",
       "      <th>1</th>\n",
       "      <td>0.517027</td>\n",
       "      <td>0.482973</td>\n",
       "      <td>0.245173</td>\n",
       "      <td>1.0</td>\n",
       "    </tr>\n",
       "    <tr>\n",
       "      <th>2</th>\n",
       "      <td>0.399889</td>\n",
       "      <td>0.600111</td>\n",
       "      <td>0.237690</td>\n",
       "      <td>0.0</td>\n",
       "    </tr>\n",
       "    <tr>\n",
       "      <th>3</th>\n",
       "      <td>0.538635</td>\n",
       "      <td>0.461365</td>\n",
       "      <td>0.247078</td>\n",
       "      <td>1.0</td>\n",
       "    </tr>\n",
       "    <tr>\n",
       "      <th>4</th>\n",
       "      <td>0.504341</td>\n",
       "      <td>0.495659</td>\n",
       "      <td>0.242654</td>\n",
       "      <td>0.0</td>\n",
       "    </tr>\n",
       "  </tbody>\n",
       "</table>\n",
       "</div>"
      ],
      "text/plain": [
       "    class_0   class_1       var  target\n",
       "0  0.525441  0.474559  0.243862     0.0\n",
       "1  0.517027  0.482973  0.245173     1.0\n",
       "2  0.399889  0.600111  0.237690     0.0\n",
       "3  0.538635  0.461365  0.247078     1.0\n",
       "4  0.504341  0.495659  0.242654     0.0"
      ]
     },
     "execution_count": 28,
     "metadata": {},
     "output_type": "execute_result"
    }
   ],
   "source": [
    "avg_df = pd.DataFrame(measure_data_stacked, columns=[\"class_0\", \"class_1\", \"var\", \"target\"])\n",
    "avg_df.head()"
   ]
  },
  {
   "cell_type": "code",
   "execution_count": 29,
   "id": "95c59db9",
   "metadata": {},
   "outputs": [
    {
     "data": {
      "text/plain": [
       "(2771, 4)"
      ]
     },
     "execution_count": 29,
     "metadata": {},
     "output_type": "execute_result"
    }
   ],
   "source": [
    "avg_df.shape"
   ]
  },
  {
   "cell_type": "code",
   "execution_count": 30,
   "id": "76aceca9",
   "metadata": {},
   "outputs": [
    {
     "data": {
      "text/plain": [
       "<matplotlib.axes._subplots.AxesSubplot at 0x7f32a0372190>"
      ]
     },
     "execution_count": 30,
     "metadata": {},
     "output_type": "execute_result"
    },
    {
     "data": {
      "image/png": "[encoded data removed]",
      "text/plain": [
       "<Figure size 1080x720 with 1 Axes>"
      ]
     },
     "metadata": {
      "needs_background": "light"
     },
     "output_type": "display_data"
    }
   ],
   "source": [
    "import seaborn as sns\n",
    "plt.figure(figsize=(15, 10))\n",
    "sns.scatterplot(data=avg_df, y=\"class_0\", x=\"class_1\", hue=\"var\", style=\"target\")"
   ]
  },
  {
   "cell_type": "code",
   "execution_count": 31,
   "id": "musical-circle",
   "metadata": {},
   "outputs": [
    {
     "data": {
      "text/plain": [
       "<tensorflow.python.keras.engine.training.Model at 0x7f32a026e460>"
      ]
     },
     "execution_count": 31,
     "metadata": {},
     "output_type": "execute_result"
    }
   ],
   "source": [
    "import importlib\n",
    "importlib.reload(mp)\n",
    "\n",
    "mp_model = mp.MP()\n",
    "mp_model.create_MP_Model(model=model, use_mp=True, verbose=True)"
   ]
  },
  {
   "cell_type": "code",
   "execution_count": 32,
   "id": "5d91bfb5",
   "metadata": {},
   "outputs": [],
   "source": [
    "pred_mp,var_mp = mp_model.model.predict(x_test)"
   ]
  },
  {
   "cell_type": "code",
   "execution_count": 33,
   "id": "3797e48a",
   "metadata": {},
   "outputs": [],
   "source": [
    "var = np.sum(var_mp, axis=1)/2"
   ]
  },
  {
   "cell_type": "code",
   "execution_count": 34,
   "id": "c334eee2",
   "metadata": {},
   "outputs": [
    {
     "data": {
      "text/html": [
       "<div>\n",
       "<style scoped>\n",
       "    .dataframe tbody tr th:only-of-type {\n",
       "        vertical-align: middle;\n",
       "    }\n",
       "\n",
       "    .dataframe tbody tr th {\n",
       "        vertical-align: top;\n",
       "    }\n",
       "\n",
       "    .dataframe thead th {\n",
       "        text-align: right;\n",
       "    }\n",
       "</style>\n",
       "<table border=\"1\" class=\"dataframe\">\n",
       "  <thead>\n",
       "    <tr style=\"text-align: right;\">\n",
       "      <th></th>\n",
       "      <th>class_0</th>\n",
       "      <th>class_1</th>\n",
       "      <th>var</th>\n",
       "      <th>target</th>\n",
       "    </tr>\n",
       "  </thead>\n",
       "  <tbody>\n",
       "    <tr>\n",
       "      <th>0</th>\n",
       "      <td>0.000009</td>\n",
       "      <td>0.999991</td>\n",
       "      <td>2.265703e-07</td>\n",
       "      <td>0.0</td>\n",
       "    </tr>\n",
       "    <tr>\n",
       "      <th>1</th>\n",
       "      <td>0.999918</td>\n",
       "      <td>0.000082</td>\n",
       "      <td>9.552901e-07</td>\n",
       "      <td>1.0</td>\n",
       "    </tr>\n",
       "    <tr>\n",
       "      <th>2</th>\n",
       "      <td>0.000002</td>\n",
       "      <td>0.999998</td>\n",
       "      <td>4.308928e-08</td>\n",
       "      <td>0.0</td>\n",
       "    </tr>\n",
       "    <tr>\n",
       "      <th>3</th>\n",
       "      <td>0.999485</td>\n",
       "      <td>0.000515</td>\n",
       "      <td>1.244162e-05</td>\n",
       "      <td>1.0</td>\n",
       "    </tr>\n",
       "    <tr>\n",
       "      <th>4</th>\n",
       "      <td>0.000002</td>\n",
       "      <td>0.999998</td>\n",
       "      <td>3.649212e-08</td>\n",
       "      <td>0.0</td>\n",
       "    </tr>\n",
       "  </tbody>\n",
       "</table>\n",
       "</div>"
      ],
      "text/plain": [
       "    class_0   class_1           var  target\n",
       "0  0.000009  0.999991  2.265703e-07     0.0\n",
       "1  0.999918  0.000082  9.552901e-07     1.0\n",
       "2  0.000002  0.999998  4.308928e-08     0.0\n",
       "3  0.999485  0.000515  1.244162e-05     1.0\n",
       "4  0.000002  0.999998  3.649212e-08     0.0"
      ]
     },
     "execution_count": 34,
     "metadata": {},
     "output_type": "execute_result"
    }
   ],
   "source": [
    "columns = [\"class_0\", \"class_1\", \"var\", \"target\"]\n",
    "y_len = len(y_test)\n",
    "mp_df = pd.DataFrame(np.hstack([pred_mp, 1-pred_mp, var.reshape(y_len, 1), y_test.reshape(y_len, 1)]), columns=columns)\n",
    "mp_df.head()"
   ]
  },
  {
   "cell_type": "code",
   "execution_count": 35,
   "id": "95f4f8a4",
   "metadata": {},
   "outputs": [
    {
     "data": {
      "text/plain": [
       "<matplotlib.axes._subplots.AxesSubplot at 0x7f32895677c0>"
      ]
     },
     "execution_count": 35,
     "metadata": {},
     "output_type": "execute_result"
    },
    {
     "data": {
      "image/png": "[encoded data removed]",
      "text/plain": [
       "<Figure size 432x288 with 1 Axes>"
      ]
     },
     "metadata": {
      "needs_background": "light"
     },
     "output_type": "display_data"
    }
   ],
   "source": [
    "sns.scatterplot(data=mp_df, y=\"class_0\", x=\"class_1\", hue=\"var\", style=\"target\")"
   ]
  },
  {
   "cell_type": "code",
   "execution_count": 38,
   "id": "a5ade7fd",
   "metadata": {},
   "outputs": [],
   "source": [
    "import active_learning\n",
    "importlib.reload(active_learning)\n",
    "from active_learning import Checkpoint"
   ]
  },
  {
   "cell_type": "code",
   "execution_count": 40,
   "id": "bc96b88c",
   "metadata": {},
   "outputs": [
    {
     "name": "stdout",
     "output_type": "stream",
     "text": [
      "/home/exleonem/Desktop/workspace/thesis/wp/models/checkpoints/mc_dropout/mc_dropout_14_05_21_10_30_03.h5\n"
     ]
    }
   ],
   "source": [
    "mc_checkpoint = Checkpoint(\"mc_dropout\")\n",
    "mc_checkpoint.new(model)"
   ]
  },
  {
   "cell_type": "code",
   "execution_count": 43,
   "id": "59b777dd",
   "metadata": {},
   "outputs": [
    {
     "name": "stdout",
     "output_type": "stream",
     "text": [
      "/home/exleonem/Desktop/workspace/thesis/wp/models/checkpoints/mp_checkpoint/mp_checkpoint_14_05_21_10_33_36.h5\n"
     ]
    }
   ],
   "source": [
    "mp_checkpoint = Checkpoint(\"mp_checkpoint\")\n",
    "mp_checkpoint.new(mp_model.create_MP_Model(model))"
   ]
  },
  {
   "cell_type": "code",
   "execution_count": null,
   "id": "fc5e5802",
   "metadata": {},
   "outputs": [],
   "source": []
  },
  {
   "cell_type": "code",
   "execution_count": null,
   "id": "f244f612",
   "metadata": {},
   "outputs": [],
   "source": []
  }
 ],
 "metadata": {
  "kernelspec": {
   "display_name": "Python 3",
   "language": "python",
   "name": "python3"
  },
  "language_info": {
   "codemirror_mode": {
    "name": "ipython",
    "version": 3
   },
   "file_extension": ".py",
   "mimetype": "text/x-python",
   "name": "python",
   "nbconvert_exporter": "python",
   "pygments_lexer": "ipython3",
   "version": "3.8.8"
  }
 },
 "nbformat": 4,
 "nbformat_minor": 5
}
