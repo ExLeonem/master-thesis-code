{
 "cells": [
  {
   "cell_type": "code",
   "execution_count": 1,
   "id": "quiet-leather",
   "metadata": {},
   "outputs": [],
   "source": [
    "import os, sys, importlib\n",
    "import numpy as np\n",
    "import pandas as pd\n",
    "import matplotlib.pyplot as plt\n",
    "\n",
    "import torch\n",
    "import torch.nn as nn\n",
    "import torch.optim as optim\n",
    "import torch.functional as F\n",
    "\n",
    "from torch.utils.data import DataLoader\n",
    "\n",
    "import torchvision\n",
    "import torchvision.transforms as transforms"
   ]
  },
  {
   "cell_type": "code",
   "execution_count": 2,
   "id": "interested-trade",
   "metadata": {},
   "outputs": [],
   "source": [
    "BASE_PATH = os.path.join(os.getcwd(), \"..\", \"..\")\n",
    "DATA_PATH = os.path.join(BASE_PATH, \"datasets\")\n",
    "MODULE_PATH = os.path.join(BASE_PATH, \"modules\")"
   ]
  },
  {
   "cell_type": "code",
   "execution_count": 3,
   "id": "finished-lying",
   "metadata": {},
   "outputs": [
    {
     "data": {
      "text/plain": [
       "<module 'data.wilson' from '/home/jovyan/work/model/../../modules/data/wilson.py'>"
      ]
     },
     "execution_count": 3,
     "metadata": {},
     "output_type": "execute_result"
    }
   ],
   "source": [
    "sys.path.append(MODULE_PATH)\n",
    "import active_learning as al\n",
    "importlib.reload(al)\n",
    "\n",
    "import data.wilson as wilson\n",
    "importlib.reload(wilson)"
   ]
  },
  {
   "cell_type": "code",
   "execution_count": 4,
   "id": "august-environment",
   "metadata": {},
   "outputs": [],
   "source": [
    "class MCDNet(nn.Module):\n",
    "    \n",
    "    def __init__(self):\n",
    "        super(MCDNet, self).__init__()\n",
    "        self.main = nn.Sequential(\n",
    "            nn.Conv2d(1, 128, (3, 3)),\n",
    "            nn.ReLU(),\n",
    "            nn.MaxPool2d(2, 2),\n",
    "            nn.Dropout(0.2),\n",
    "            nn.Conv2d(128, 64, (3, 3)),\n",
    "            nn.ReLU(),\n",
    "            nn.MaxPool2d(2, 2),\n",
    "            nn.Dropout(0.2)\n",
    "        )\n",
    "            \n",
    "        self.flatten = nn.Flatten()\n",
    "        self.out = nn.Sequential(\n",
    "            nn.Linear(1600, 512),\n",
    "            nn.ReLU(),\n",
    "            nn.Linear(512, 256),\n",
    "            nn.ReLU(),\n",
    "            nn.Linear(256, 128),\n",
    "            nn.ReLU(),\n",
    "            nn.Linear(128, 10),\n",
    "            nn.Softmax(dim=1)\n",
    "        )\n",
    "        \n",
    "        \n",
    "    def forward(self, inputs):\n",
    "        x = self.main(inputs)\n",
    "        x = self.flatten(x)\n",
    "        return self.out(x)"
   ]
  },
  {
   "cell_type": "code",
   "execution_count": 5,
   "id": "limited-barcelona",
   "metadata": {},
   "outputs": [],
   "source": [
    "train_set = torchvision.datasets.FashionMNIST(\n",
    "    root=os.path.join(DATA_PATH, \"fashion_mnist\"),\n",
    "    download=True,\n",
    "    train=True,\n",
    "    transform=transforms.ToTensor()\n",
    ")"
   ]
  },
  {
   "cell_type": "code",
   "execution_count": 6,
   "id": "detailed-paris",
   "metadata": {},
   "outputs": [
    {
     "data": {
      "text/plain": [
       "<matplotlib.image.AxesImage at 0x7f504bd81850>"
      ]
     },
     "execution_count": 6,
     "metadata": {},
     "output_type": "execute_result"
    },
    {
     "data": {
      "image/png": "[encoded data removed]",
      "text/plain": [
       "<Figure size 432x288 with 1 Axes>"
      ]
     },
     "metadata": {
      "needs_background": "light"
     },
     "output_type": "display_data"
    }
   ],
   "source": [
    "inputs, label = train_set[0]\n",
    "plt.imshow(inputs[0])"
   ]
  },
  {
   "cell_type": "code",
   "execution_count": 13,
   "id": "stone-edwards",
   "metadata": {},
   "outputs": [],
   "source": [
    "train_data_loader = DataLoader(train_set, batch_size=20, shuffle=True)"
   ]
  },
  {
   "cell_type": "code",
   "execution_count": 14,
   "id": "fresh-belle",
   "metadata": {},
   "outputs": [
    {
     "name": "stdout",
     "output_type": "stream",
     "text": [
      "Train Loss: 2.3026301330725354\n",
      "Train Loss: 2.3026342082818347\n"
     ]
    }
   ],
   "source": [
    "model = MCDNet()\n",
    "epochs = 2\n",
    "\n",
    "train_loss = []\n",
    "model.train()\n",
    "\n",
    "optimizer = optim.Adam(model.parameters(), lr=0.1)\n",
    "loss_fn = nn.CrossEntropyLoss()\n",
    "\n",
    "for epoch in range(epochs):\n",
    "    \n",
    "    train_loss_epoch = .0\n",
    "    for batch in train_data_loader:\n",
    "        \n",
    "        # Reset gradients\n",
    "        optimizer.zero_grad()\n",
    "        x, y = batch\n",
    "        \n",
    "        # Calcualte output\n",
    "        output = model(x)\n",
    "        \n",
    "        # Accumulate epoch loss\n",
    "        loss = loss_fn(output, y)\n",
    "        loss.backward()\n",
    "        \n",
    "        train_loss_epoch += loss.item()\n",
    "    \n",
    "    train_loss_epoch /= len(train_data_loader)\n",
    "    train_loss.append(train_loss_epoch)\n",
    "    print(\"Train Loss: {}\".format(train_loss_epoch))"
   ]
  },
  {
   "cell_type": "code",
   "execution_count": 15,
   "id": "nearby-teach",
   "metadata": {},
   "outputs": [],
   "source": [
    "# evaluate model\n",
    "def switch_dropout(model, enable=True):\n",
    "    \"\"\"\n",
    "        Switch dropout layers from eval() to train() and back.\n",
    "        \n",
    "        Parameters:\n",
    "            - model (nn.Module) The model for which to switch the dropout layers on and off.\n",
    "            - enable (boolean) Whether to turn on the training or evaulation mode.\n",
    "    \"\"\"\n",
    "    \n",
    "    for module in model.modules():\n",
    "        if module.__class__.__name__.startswith('Dropout'):\n",
    "            \n",
    "            if enable:\n",
    "                module.train()\n",
    "            else:\n",
    "                module.eval()"
   ]
  },
  {
   "cell_type": "code",
   "execution_count": 16,
   "id": "personal-upgrade",
   "metadata": {},
   "outputs": [],
   "source": [
    "# Check generalization"
   ]
  },
  {
   "cell_type": "code",
   "execution_count": 95,
   "id": "governing-kruger",
   "metadata": {},
   "outputs": [],
   "source": [
    "test_data = torchvision.datasets.FashionMNIST(\n",
    "    root=os.path.join(DATA_PATH, \"fashion_mnist_test\"),\n",
    "    download=True,\n",
    "    transform=transforms.ToTensor()\n",
    ")"
   ]
  },
  {
   "cell_type": "code",
   "execution_count": 19,
   "id": "likely-makeup",
   "metadata": {},
   "outputs": [],
   "source": [
    "test_data_loader = DataLoader(test_data, batch_size=200, shuffle=True)"
   ]
  },
  {
   "cell_type": "code",
   "execution_count": 42,
   "id": "authentic-myrtle",
   "metadata": {},
   "outputs": [],
   "source": [
    "test_error = .0\n",
    "accuracy = []\n",
    "\n",
    "model.eval()\n",
    "switch_dropout(model)\n",
    "for batch in test_data_loader:\n",
    "    \n",
    "    x, y = batch\n",
    "    output = model(x)\n",
    "    \n",
    "    \n",
    "    acc = ((torch.argmax(output, axis=1) == y).float().sum())/len(y)\n",
    "    accuracy.append(acc)\n",
    "    \n",
    "    loss = loss_fn(output, y)\n",
    "    test_error += loss.item()"
   ]
  },
  {
   "cell_type": "code",
   "execution_count": 43,
   "id": "herbal-veteran",
   "metadata": {},
   "outputs": [
    {
     "name": "stdout",
     "output_type": "stream",
     "text": [
      "Test Error: 2.302633289496104\n",
      "Accuracy: 0.09691663086414337\n"
     ]
    }
   ],
   "source": [
    "print(\"Test Error: {}\".format(test_error/len(test_data_loader)))\n",
    "print(\"Accuracy: {}\".format(sum(accuracy)/len(accuracy)))"
   ]
  },
  {
   "cell_type": "code",
   "execution_count": 48,
   "id": "adequate-trade",
   "metadata": {},
   "outputs": [],
   "source": [
    "test_img, label = test_data[0]"
   ]
  },
  {
   "cell_type": "code",
   "execution_count": 54,
   "id": "hawaiian-ethics",
   "metadata": {},
   "outputs": [
    {
     "data": {
      "text/plain": [
       "torch.Size([1, 1, 28, 28])"
      ]
     },
     "execution_count": 54,
     "metadata": {},
     "output_type": "execute_result"
    }
   ],
   "source": [
    "test_img = test_img.unsqueeze(dim=0)\n",
    "test_img.shape"
   ]
  },
  {
   "cell_type": "code",
   "execution_count": 85,
   "id": "dutch-stevens",
   "metadata": {},
   "outputs": [
    {
     "name": "stdout",
     "output_type": "stream",
     "text": [
      "True-Label: 9\n"
     ]
    }
   ],
   "source": [
    "print(\"True-Label: {}\".format(label))"
   ]
  },
  {
   "cell_type": "code",
   "execution_count": 82,
   "id": "funded-steel",
   "metadata": {},
   "outputs": [
    {
     "data": {
      "text/plain": [
       "tensor(7)"
      ]
     },
     "execution_count": 82,
     "metadata": {},
     "output_type": "execute_result"
    }
   ],
   "source": [
    "model(test_img)\n",
    "torch.argmax(result)"
   ]
  },
  {
   "cell_type": "code",
   "execution_count": 83,
   "id": "olympic-plastic",
   "metadata": {},
   "outputs": [
    {
     "data": {
      "text/plain": [
       "tensor(3)"
      ]
     },
     "execution_count": 83,
     "metadata": {},
     "output_type": "execute_result"
    }
   ],
   "source": [
    "result = model(test_img)\n",
    "torch.argmax(result)"
   ]
  },
  {
   "cell_type": "code",
   "execution_count": 84,
   "id": "liquid-collaboration",
   "metadata": {},
   "outputs": [
    {
     "data": {
      "text/plain": [
       "tensor(3)"
      ]
     },
     "execution_count": 84,
     "metadata": {},
     "output_type": "execute_result"
    }
   ],
   "source": [
    "result = model(test_img)\n",
    "torch.argmax(result)"
   ]
  },
  {
   "cell_type": "markdown",
   "id": "favorite-fundamental",
   "metadata": {},
   "source": [
    "## Integration in Active Learning"
   ]
  },
  {
   "cell_type": "code",
   "execution_count": 121,
   "id": "moving-sight",
   "metadata": {},
   "outputs": [],
   "source": [
    "import al_loop\n",
    "importlib.reload(al_loop)\n",
    "from al_loop import ALL"
   ]
  },
  {
   "cell_type": "code",
   "execution_count": 96,
   "id": "unlike-johnson",
   "metadata": {},
   "outputs": [],
   "source": [
    "only_test_data = test_data.data\n",
    "only_test_labels = test_data.targets"
   ]
  },
  {
   "cell_type": "code",
   "execution_count": 116,
   "id": "affecting-trash",
   "metadata": {},
   "outputs": [],
   "source": [
    "only_train_data = train_set.data\n",
    "only_train_labels = train_set.targets"
   ]
  },
  {
   "cell_type": "code",
   "execution_count": 101,
   "id": "incorrect-belief",
   "metadata": {},
   "outputs": [
    {
     "data": {
      "text/plain": [
       "torch.Size([60000, 28, 28])"
      ]
     },
     "execution_count": 101,
     "metadata": {},
     "output_type": "execute_result"
    }
   ],
   "source": [
    "only_test_data.shape"
   ]
  },
  {
   "cell_type": "code",
   "execution_count": 102,
   "id": "annoying-preserve",
   "metadata": {},
   "outputs": [
    {
     "data": {
      "text/plain": [
       "torch.Size([60000, 28, 28])"
      ]
     },
     "execution_count": 102,
     "metadata": {},
     "output_type": "execute_result"
    }
   ],
   "source": [
    "only_train_data.shape"
   ]
  },
  {
   "cell_type": "code",
   "execution_count": 112,
   "id": "whole-affect",
   "metadata": {},
   "outputs": [
    {
     "data": {
      "text/plain": [
       "torch.Size([120000, 28, 28])"
      ]
     },
     "execution_count": 112,
     "metadata": {},
     "output_type": "execute_result"
    }
   ],
   "source": [
    "input_data = torch.cat([only_test_data, only_train_data], dim=0)\n",
    "input_data.shape"
   ]
  },
  {
   "cell_type": "code",
   "execution_count": 113,
   "id": "capable-appearance",
   "metadata": {},
   "outputs": [
    {
     "data": {
      "text/plain": [
       "torch.Size([60000])"
      ]
     },
     "execution_count": 113,
     "metadata": {},
     "output_type": "execute_result"
    }
   ],
   "source": [
    "only_test_labels.shape"
   ]
  },
  {
   "cell_type": "code",
   "execution_count": 117,
   "id": "graphic-klein",
   "metadata": {},
   "outputs": [
    {
     "data": {
      "text/plain": [
       "torch.Size([120000])"
      ]
     },
     "execution_count": 117,
     "metadata": {},
     "output_type": "execute_result"
    }
   ],
   "source": [
    "input_labels = torch.cat([only_test_labels, only_train_labels], dim=0)\n",
    "input_labels.shape"
   ]
  },
  {
   "cell_type": "code",
   "execution_count": 122,
   "id": "numerous-czech",
   "metadata": {},
   "outputs": [],
   "source": [
    "active_learning_loop = ALL(model, input_data)"
   ]
  },
  {
   "cell_type": "code",
   "execution_count": null,
   "id": "fiscal-drunk",
   "metadata": {},
   "outputs": [],
   "source": []
  },
  {
   "cell_type": "code",
   "execution_count": null,
   "id": "genetic-traveler",
   "metadata": {},
   "outputs": [],
   "source": []
  },
  {
   "cell_type": "code",
   "execution_count": null,
   "id": "every-physiology",
   "metadata": {},
   "outputs": [],
   "source": []
  },
  {
   "cell_type": "code",
   "execution_count": null,
   "id": "suburban-failing",
   "metadata": {},
   "outputs": [],
   "source": []
  },
  {
   "cell_type": "code",
   "execution_count": null,
   "id": "proprietary-brave",
   "metadata": {},
   "outputs": [],
   "source": []
  },
  {
   "cell_type": "code",
   "execution_count": null,
   "id": "incorporate-median",
   "metadata": {},
   "outputs": [],
   "source": []
  },
  {
   "cell_type": "code",
   "execution_count": null,
   "id": "sorted-discipline",
   "metadata": {},
   "outputs": [],
   "source": []
  },
  {
   "cell_type": "code",
   "execution_count": null,
   "id": "perceived-trustee",
   "metadata": {},
   "outputs": [],
   "source": []
  },
  {
   "cell_type": "code",
   "execution_count": null,
   "id": "binary-image",
   "metadata": {},
   "outputs": [],
   "source": []
  }
 ],
 "metadata": {
  "kernelspec": {
   "display_name": "Python 3",
   "language": "python",
   "name": "python3"
  },
  "language_info": {
   "codemirror_mode": {
    "name": "ipython",
    "version": 3
   },
   "file_extension": ".py",
   "mimetype": "text/x-python",
   "name": "python",
   "nbconvert_exporter": "python",
   "pygments_lexer": "ipython3",
   "version": "3.8.6"
  }
 },
 "nbformat": 4,
 "nbformat_minor": 5
}
