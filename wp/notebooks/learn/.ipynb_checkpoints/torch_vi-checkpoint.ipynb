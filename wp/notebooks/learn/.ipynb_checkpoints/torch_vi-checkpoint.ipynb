{
 "cells": [
  {
   "cell_type": "code",
   "execution_count": 16,
   "id": "complicated-berry",
   "metadata": {},
   "outputs": [],
   "source": [
    "import math\n",
    "import torch\n",
    "import numpy as np\n",
    "import pandas as pd\n",
    "import matplotlib.pyplot as plt"
   ]
  },
  {
   "cell_type": "code",
   "execution_count": 17,
   "id": "sunrise-mouth",
   "metadata": {},
   "outputs": [],
   "source": [
    "norm_dist = torch.distributions.normal.Normal(0, 3)"
   ]
  },
  {
   "cell_type": "code",
   "execution_count": 18,
   "id": "automotive-delay",
   "metadata": {},
   "outputs": [],
   "source": [
    "def reverse_log(values):\n",
    "    return np.power(math.e, values)"
   ]
  },
  {
   "cell_type": "code",
   "execution_count": 20,
   "id": "bored-protocol",
   "metadata": {},
   "outputs": [
    {
     "data": {
      "text/plain": [
       "array([-5., -4., -3., -2., -1.,  0.,  1.,  2.,  3.,  4.,  5.])"
      ]
     },
     "execution_count": 20,
     "metadata": {},
     "output_type": "execute_result"
    }
   ],
   "source": [
    "x_values = np.linspace(0, 10, 11) - 5\n",
    "x_values"
   ]
  },
  {
   "cell_type": "code",
   "execution_count": 23,
   "id": "metric-cargo",
   "metadata": {},
   "outputs": [
    {
     "data": {
      "text/plain": [
       "tensor([-3.4064, -2.9064, -2.5176, -2.2398, -2.0731, -2.0176, -2.0731, -2.2398,\n",
       "        -2.5176, -2.9064, -3.4064], dtype=torch.float64)"
      ]
     },
     "execution_count": 23,
     "metadata": {},
     "output_type": "execute_result"
    }
   ],
   "source": [
    "probs = norm_dist.log_prob(torch.tensor(x_values, dtype=float))\n",
    "probs"
   ]
  },
  {
   "cell_type": "code",
   "execution_count": 24,
   "id": "complicated-information",
   "metadata": {},
   "outputs": [
    {
     "data": {
      "text/plain": [
       "tensor([0.0332, 0.0547, 0.0807, 0.1065, 0.1258, 0.1330, 0.1258, 0.1065, 0.0807,\n",
       "        0.0547, 0.0332], dtype=torch.float64)"
      ]
     },
     "execution_count": 24,
     "metadata": {},
     "output_type": "execute_result"
    }
   ],
   "source": [
    "plt.figure(figsize=(16, 6))\n",
    "plt.stem(reverse_log(probs))"
   ]
  },
  {
   "cell_type": "code",
   "execution_count": null,
   "id": "vital-midnight",
   "metadata": {},
   "outputs": [],
   "source": []
  },
  {
   "cell_type": "code",
   "execution_count": null,
   "id": "choice-buying",
   "metadata": {},
   "outputs": [],
   "source": []
  },
  {
   "cell_type": "code",
   "execution_count": null,
   "id": "departmental-orchestra",
   "metadata": {},
   "outputs": [],
   "source": []
  }
 ],
 "metadata": {
  "kernelspec": {
   "display_name": "Python 3",
   "language": "python",
   "name": "python3"
  },
  "language_info": {
   "codemirror_mode": {
    "name": "ipython",
    "version": 3
   },
   "file_extension": ".py",
   "mimetype": "text/x-python",
   "name": "python",
   "nbconvert_exporter": "python",
   "pygments_lexer": "ipython3",
   "version": "3.8.6"
  }
 },
 "nbformat": 4,
 "nbformat_minor": 5
}
