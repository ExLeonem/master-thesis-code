{
 "cells": [
  {
   "cell_type": "markdown",
   "id": "periodic-prison",
   "metadata": {},
   "source": [
    "# Bayes linear regression applied on datasets"
   ]
  },
  {
   "cell_type": "code",
   "execution_count": 139,
   "id": "solved-titanium",
   "metadata": {},
   "outputs": [],
   "source": [
    "import os, sys, importlib\n",
    "\n",
    "import numpy as np\n",
    "import pandas as pd\n",
    "import torch\n",
    "\n",
    "import matplotlib.pyplot as plt\n",
    "import seaborn as sns"
   ]
  },
  {
   "cell_type": "code",
   "execution_count": 140,
   "id": "fifty-oasis",
   "metadata": {},
   "outputs": [],
   "source": [
    "BASE_PATH = os.path.join(os.getcwd(), \"..\", \"..\")\n",
    "MODULE_PATH = os.path.join(BASE_PATH, \"modules\", \"pipeline\")\n",
    "DATA_PATH = os.path.join(BASE_PATH, \"datasets\", \"regression\")\n"
   ]
  },
  {
   "cell_type": "code",
   "execution_count": 141,
   "id": "stuffed-intensity",
   "metadata": {},
   "outputs": [
    {
     "data": {
      "text/plain": [
       "<module 'insurance' from '/home/jovyan/work/model/../../modules/pipeline/insurance.py'>"
      ]
     },
     "execution_count": 141,
     "metadata": {},
     "output_type": "execute_result"
    }
   ],
   "source": [
    "sys.path.append(MODULE_PATH)\n",
    "\n",
    "import insurance as inds\n",
    "importlib.reload(inds)"
   ]
  },
  {
   "cell_type": "markdown",
   "id": "comparable-logic",
   "metadata": {},
   "source": [
    "## Load dataset and pre-process"
   ]
  },
  {
   "cell_type": "code",
   "execution_count": 142,
   "id": "wound-episode",
   "metadata": {},
   "outputs": [],
   "source": [
    "insurance_ds_path = os.path.join(DATA_PATH, \"insurance_forecast.csv\")\n",
    "unprocessed_data = pd.read_csv(insurance_ds_path)"
   ]
  },
  {
   "cell_type": "code",
   "execution_count": 143,
   "id": "valid-rainbow",
   "metadata": {},
   "outputs": [
    {
     "data": {
      "text/html": [
       "<div>\n",
       "<style scoped>\n",
       "    .dataframe tbody tr th:only-of-type {\n",
       "        vertical-align: middle;\n",
       "    }\n",
       "\n",
       "    .dataframe tbody tr th {\n",
       "        vertical-align: top;\n",
       "    }\n",
       "\n",
       "    .dataframe thead th {\n",
       "        text-align: right;\n",
       "    }\n",
       "</style>\n",
       "<table border=\"1\" class=\"dataframe\">\n",
       "  <thead>\n",
       "    <tr style=\"text-align: right;\">\n",
       "      <th></th>\n",
       "      <th>age</th>\n",
       "      <th>bmi</th>\n",
       "      <th>children</th>\n",
       "      <th>smoker</th>\n",
       "      <th>charges</th>\n",
       "    </tr>\n",
       "  </thead>\n",
       "  <tbody>\n",
       "    <tr>\n",
       "      <th>0</th>\n",
       "      <td>0.021739</td>\n",
       "      <td>0.321227</td>\n",
       "      <td>0.179479</td>\n",
       "      <td>1</td>\n",
       "      <td>0.251611</td>\n",
       "    </tr>\n",
       "    <tr>\n",
       "      <th>1</th>\n",
       "      <td>0.000000</td>\n",
       "      <td>0.479150</td>\n",
       "      <td>0.185308</td>\n",
       "      <td>0</td>\n",
       "      <td>0.009636</td>\n",
       "    </tr>\n",
       "    <tr>\n",
       "      <th>2</th>\n",
       "      <td>0.217391</td>\n",
       "      <td>0.458434</td>\n",
       "      <td>0.227195</td>\n",
       "      <td>0</td>\n",
       "      <td>0.053115</td>\n",
       "    </tr>\n",
       "    <tr>\n",
       "      <th>3</th>\n",
       "      <td>0.326087</td>\n",
       "      <td>0.181464</td>\n",
       "      <td>0.179479</td>\n",
       "      <td>0</td>\n",
       "      <td>0.333010</td>\n",
       "    </tr>\n",
       "    <tr>\n",
       "      <th>4</th>\n",
       "      <td>0.304348</td>\n",
       "      <td>0.347592</td>\n",
       "      <td>0.179479</td>\n",
       "      <td>0</td>\n",
       "      <td>0.043816</td>\n",
       "    </tr>\n",
       "  </tbody>\n",
       "</table>\n",
       "</div>"
      ],
      "text/plain": [
       "        age       bmi  children  smoker   charges\n",
       "0  0.021739  0.321227  0.179479       1  0.251611\n",
       "1  0.000000  0.479150  0.185308       0  0.009636\n",
       "2  0.217391  0.458434  0.227195       0  0.053115\n",
       "3  0.326087  0.181464  0.179479       0  0.333010\n",
       "4  0.304348  0.347592  0.179479       0  0.043816"
      ]
     },
     "execution_count": 143,
     "metadata": {},
     "output_type": "execute_result"
    }
   ],
   "source": [
    "data = inds.preprocess(unprocessed_data)\n",
    "data.head()"
   ]
  },
  {
   "cell_type": "code",
   "execution_count": 144,
   "id": "productive-reggae",
   "metadata": {},
   "outputs": [
    {
     "data": {
      "text/html": [
       "<div>\n",
       "<style scoped>\n",
       "    .dataframe tbody tr th:only-of-type {\n",
       "        vertical-align: middle;\n",
       "    }\n",
       "\n",
       "    .dataframe tbody tr th {\n",
       "        vertical-align: top;\n",
       "    }\n",
       "\n",
       "    .dataframe thead th {\n",
       "        text-align: right;\n",
       "    }\n",
       "</style>\n",
       "<table border=\"1\" class=\"dataframe\">\n",
       "  <thead>\n",
       "    <tr style=\"text-align: right;\">\n",
       "      <th></th>\n",
       "      <th>age</th>\n",
       "      <th>bmi</th>\n",
       "      <th>children</th>\n",
       "      <th>smoker</th>\n",
       "      <th>charges</th>\n",
       "    </tr>\n",
       "  </thead>\n",
       "  <tbody>\n",
       "    <tr>\n",
       "      <th>count</th>\n",
       "      <td>1338.000000</td>\n",
       "      <td>1338.000000</td>\n",
       "      <td>1338.000000</td>\n",
       "      <td>1338.000000</td>\n",
       "      <td>1338.000000</td>\n",
       "    </tr>\n",
       "    <tr>\n",
       "      <th>mean</th>\n",
       "      <td>0.461022</td>\n",
       "      <td>0.395572</td>\n",
       "      <td>0.193916</td>\n",
       "      <td>0.204783</td>\n",
       "      <td>0.193916</td>\n",
       "    </tr>\n",
       "    <tr>\n",
       "      <th>std</th>\n",
       "      <td>0.305434</td>\n",
       "      <td>0.164062</td>\n",
       "      <td>0.021372</td>\n",
       "      <td>0.403694</td>\n",
       "      <td>0.193301</td>\n",
       "    </tr>\n",
       "    <tr>\n",
       "      <th>min</th>\n",
       "      <td>0.000000</td>\n",
       "      <td>0.000000</td>\n",
       "      <td>0.122336</td>\n",
       "      <td>0.000000</td>\n",
       "      <td>0.000000</td>\n",
       "    </tr>\n",
       "    <tr>\n",
       "      <th>25%</th>\n",
       "      <td>0.195652</td>\n",
       "      <td>0.278080</td>\n",
       "      <td>0.179479</td>\n",
       "      <td>0.000000</td>\n",
       "      <td>0.057757</td>\n",
       "    </tr>\n",
       "    <tr>\n",
       "      <th>50%</th>\n",
       "      <td>0.456522</td>\n",
       "      <td>0.388485</td>\n",
       "      <td>0.185308</td>\n",
       "      <td>0.000000</td>\n",
       "      <td>0.131849</td>\n",
       "    </tr>\n",
       "    <tr>\n",
       "      <th>75%</th>\n",
       "      <td>0.717391</td>\n",
       "      <td>0.504002</td>\n",
       "      <td>0.222698</td>\n",
       "      <td>0.000000</td>\n",
       "      <td>0.247700</td>\n",
       "    </tr>\n",
       "    <tr>\n",
       "      <th>max</th>\n",
       "      <td>1.000000</td>\n",
       "      <td>1.000000</td>\n",
       "      <td>0.227195</td>\n",
       "      <td>1.000000</td>\n",
       "      <td>1.000000</td>\n",
       "    </tr>\n",
       "  </tbody>\n",
       "</table>\n",
       "</div>"
      ],
      "text/plain": [
       "               age          bmi     children       smoker      charges\n",
       "count  1338.000000  1338.000000  1338.000000  1338.000000  1338.000000\n",
       "mean      0.461022     0.395572     0.193916     0.204783     0.193916\n",
       "std       0.305434     0.164062     0.021372     0.403694     0.193301\n",
       "min       0.000000     0.000000     0.122336     0.000000     0.000000\n",
       "25%       0.195652     0.278080     0.179479     0.000000     0.057757\n",
       "50%       0.456522     0.388485     0.185308     0.000000     0.131849\n",
       "75%       0.717391     0.504002     0.222698     0.000000     0.247700\n",
       "max       1.000000     1.000000     0.227195     1.000000     1.000000"
      ]
     },
     "execution_count": 144,
     "metadata": {},
     "output_type": "execute_result"
    }
   ],
   "source": [
    "data.describe()"
   ]
  },
  {
   "cell_type": "markdown",
   "id": "understood-christmas",
   "metadata": {},
   "source": [
    "# Max Likelihood estimation of parameters"
   ]
  },
  {
   "cell_type": "code",
   "execution_count": 145,
   "id": "congressional-hopkins",
   "metadata": {},
   "outputs": [],
   "source": [
    "from sklearn import linear_model"
   ]
  },
  {
   "cell_type": "code",
   "execution_count": 146,
   "id": "advanced-delivery",
   "metadata": {},
   "outputs": [],
   "source": [
    "x = data.to_numpy()[:, :-1]\n",
    "y = data.to_numpy()[:, -1]"
   ]
  },
  {
   "cell_type": "code",
   "execution_count": 147,
   "id": "offshore-limitation",
   "metadata": {},
   "outputs": [
    {
     "data": {
      "text/plain": [
       "LinearRegression()"
      ]
     },
     "execution_count": 147,
     "metadata": {},
     "output_type": "execute_result"
    }
   ],
   "source": [
    "reg = linear_model.LinearRegression(fit_intercept=True)\n",
    "reg.fit(x, y)"
   ]
  },
  {
   "cell_type": "code",
   "execution_count": 148,
   "id": "specified-stevens",
   "metadata": {},
   "outputs": [],
   "source": [
    "a_ml = reg.coef_ # Per feature a coeff\n",
    "b_ml = reg.intercept_ # y-axis intecept"
   ]
  },
  {
   "cell_type": "code",
   "execution_count": 149,
   "id": "answering-newman",
   "metadata": {},
   "outputs": [
    {
     "name": "stdout",
     "output_type": "stream",
     "text": [
      "Coefficients:  [0.18894509 0.19032793 0.39187699 0.37907363]\n",
      "Coefficient:  -0.12209946211058195\n"
     ]
    }
   ],
   "source": [
    "print(\"Coefficients: \", a_ml)\n",
    "print(\"Coefficient: \", b_ml)"
   ]
  },
  {
   "cell_type": "code",
   "execution_count": 150,
   "id": "technical-edward",
   "metadata": {},
   "outputs": [],
   "source": [
    "def get_range(data, column):\n",
    "    return (data[column].min(), data[column].max())"
   ]
  },
  {
   "cell_type": "code",
   "execution_count": 151,
   "id": "violent-happening",
   "metadata": {},
   "outputs": [],
   "source": [
    "def gen_ml_plot_fn(x_range, y_range, sigma, x, y):\n",
    "    \n",
    "    x_min, x_max = x_range\n",
    "    y_min, y_max = y_range\n",
    "    plt.figure(figsize=(10, 5))\n",
    "\n",
    "    def make_ml_plot(a, b, ax, f):\n",
    "        \"\"\"\n",
    "            Plot max-likelihood of specific coefficient.\n",
    "\n",
    "        \"\"\"\n",
    "\n",
    "        ax.set_xlim(x_min, x_max)\n",
    "        ax.set_ylim(y_min, y_max)\n",
    "        ax.set_xlabel('x')\n",
    "        ax.set_ylabel('y')\n",
    "\n",
    "        ax.set_title(\"A = {:+.2f} b = {:+.2f}\".format(a, b))\n",
    "        \n",
    "        print([a*x_min+b, a*x_max+b])\n",
    "\n",
    "        x_min_max = [x_min, x_max]\n",
    "        ax.plot(x_min_max, [a*x_min+b, a*x_max+b], color='black')\n",
    "        ax.plot(x_min_max, [a*x_min+b+2*sigma, a*x_max+b+1.96*sigma], linestyle='dashed', alpha=0.5, color='black')\n",
    "        ax.plot(x_min_max, [a*x_min+b-2*sigma, a*x_max+b-1.96*sigma], linestyle='dashed', alpha=0.5, color='black')\n",
    "\n",
    "        ax.scatter(x, y, marker='o', color='r')\n",
    "    \n",
    "    return make_ml_plot"
   ]
  },
  {
   "cell_type": "code",
   "execution_count": 152,
   "id": "sublime-arrival",
   "metadata": {},
   "outputs": [],
   "source": [
    "def plot_coff_ml(coff_index, a_ml, b, data, y_column=\"charges\"):\n",
    "    \n",
    "    \"\"\"\n",
    "    \n",
    "    \"\"\"\n",
    "    column = data.columns[coff_index]\n",
    "    a = a_ml[coff_index]\n",
    "    x_range = get_range(data, column)\n",
    "    y_range = get_range(data, y_column)\n",
    "\n",
    "    plot_fn = gen_ml_plot_fn(x_range, y_range, data[\"charges\"].std(), data[column], data[y_column])\n",
    "    \n",
    "    plt.figure(figsize=(10, 5))\n",
    "    f, ax = plt.subplots(1, 1)\n",
    "    plot_fn(a, b, ax, f)"
   ]
  },
  {
   "cell_type": "code",
   "execution_count": 153,
   "id": "hybrid-murder",
   "metadata": {},
   "outputs": [
    {
     "name": "stdout",
     "output_type": "stream",
     "text": [
      "[-0.12209946211058195, 0.0682284681283715]\n"
     ]
    },
    {
     "data": {
      "text/plain": [
       "<Figure size 720x360 with 0 Axes>"
      ]
     },
     "metadata": {},
     "output_type": "display_data"
    },
    {
     "data": {
      "text/plain": [
       "<Figure size 720x360 with 0 Axes>"
      ]
     },
     "metadata": {},
     "output_type": "display_data"
    },
    {
     "data": {
      "image/png": "[encoded data removed]",
      "text/plain": [
       "<Figure size 432x288 with 1 Axes>"
      ]
     },
     "metadata": {
      "needs_background": "light"
     },
     "output_type": "display_data"
    }
   ],
   "source": [
    "plot_coff_ml(1, a_ml, b_ml, data)"
   ]
  },
  {
   "cell_type": "code",
   "execution_count": 154,
   "id": "flush-platform",
   "metadata": {},
   "outputs": [
    {
     "name": "stdout",
     "output_type": "stream",
     "text": [
      "[-0.12209946211058195, 0.06684563037223415]\n"
     ]
    },
    {
     "data": {
      "text/plain": [
       "<Figure size 720x360 with 0 Axes>"
      ]
     },
     "metadata": {},
     "output_type": "display_data"
    },
    {
     "data": {
      "text/plain": [
       "<Figure size 720x360 with 0 Axes>"
      ]
     },
     "metadata": {},
     "output_type": "display_data"
    },
    {
     "data": {
      "image/png": "[encoded data removed]",
      "text/plain": [
       "<Figure size 432x288 with 1 Axes>"
      ]
     },
     "metadata": {
      "needs_background": "light"
     },
     "output_type": "display_data"
    }
   ],
   "source": [
    "plot_coff_ml(0, a_ml, b_ml, data)"
   ]
  },
  {
   "cell_type": "code",
   "execution_count": 155,
   "id": "solid-adapter",
   "metadata": {},
   "outputs": [
    {
     "name": "stdout",
     "output_type": "stream",
     "text": [
      "[-0.07415887474740511, -0.03306693043148351]\n"
     ]
    },
    {
     "data": {
      "text/plain": [
       "<Figure size 720x360 with 0 Axes>"
      ]
     },
     "metadata": {},
     "output_type": "display_data"
    },
    {
     "data": {
      "text/plain": [
       "<Figure size 720x360 with 0 Axes>"
      ]
     },
     "metadata": {},
     "output_type": "display_data"
    },
    {
     "data": {
      "image/png": "[encoded data removed]",
      "text/plain": [
       "<Figure size 432x288 with 1 Axes>"
      ]
     },
     "metadata": {
      "needs_background": "light"
     },
     "output_type": "display_data"
    }
   ],
   "source": [
    "plot_coff_ml(2, a_ml, b_ml, data)"
   ]
  },
  {
   "cell_type": "code",
   "execution_count": null,
   "id": "tropical-inside",
   "metadata": {},
   "outputs": [],
   "source": []
  },
  {
   "cell_type": "code",
   "execution_count": null,
   "id": "adjustable-basics",
   "metadata": {},
   "outputs": [],
   "source": []
  },
  {
   "cell_type": "code",
   "execution_count": null,
   "id": "prospective-spirituality",
   "metadata": {},
   "outputs": [],
   "source": []
  },
  {
   "cell_type": "code",
   "execution_count": null,
   "id": "nasty-quick",
   "metadata": {},
   "outputs": [],
   "source": []
  },
  {
   "cell_type": "code",
   "execution_count": null,
   "id": "white-leave",
   "metadata": {},
   "outputs": [],
   "source": []
  },
  {
   "cell_type": "code",
   "execution_count": null,
   "id": "civilian-software",
   "metadata": {},
   "outputs": [],
   "source": []
  }
 ],
 "metadata": {
  "kernelspec": {
   "display_name": "Python 3",
   "language": "python",
   "name": "python3"
  },
  "language_info": {
   "codemirror_mode": {
    "name": "ipython",
    "version": 3
   },
   "file_extension": ".py",
   "mimetype": "text/x-python",
   "name": "python",
   "nbconvert_exporter": "python",
   "pygments_lexer": "ipython3",
   "version": "3.8.6"
  }
 },
 "nbformat": 4,
 "nbformat_minor": 5
}
