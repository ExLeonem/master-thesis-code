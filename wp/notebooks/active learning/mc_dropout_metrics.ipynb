{
 "cells": [
  {
   "cell_type": "markdown",
   "id": "5e26adac",
   "metadata": {},
   "source": [
    "# MC Dropout Metrics evaluation"
   ]
  },
  {
   "cell_type": "code",
   "execution_count": 1,
   "id": "06322f99",
   "metadata": {},
   "outputs": [],
   "source": [
    "%load_ext autoreload"
   ]
  },
  {
   "cell_type": "code",
   "execution_count": 3,
   "id": "f3149308",
   "metadata": {},
   "outputs": [],
   "source": [
    "import os, sys, importlib\n",
    "import pandas as pd\n",
    "import numpy as np\n",
    "import matplotlib.pyplot as plt\n",
    "import seaborn as sns"
   ]
  },
  {
   "cell_type": "code",
   "execution_count": 7,
   "id": "e44dba7b",
   "metadata": {},
   "outputs": [
    {
     "data": {
      "text/plain": [
       "['mc_dropout_max_entropy.epoch=2.step_size=1.csv',\n",
       " 'mc_dropout_max_entropy.limit=30.csv',\n",
       " 'old_metrics',\n",
       " 'mc_dropout_max_entropy.epoch=2.step_size=1.init_size=1.csv',\n",
       " 'mc_dropout_max_entropy.csv']"
      ]
     },
     "execution_count": 7,
     "metadata": {},
     "output_type": "execute_result"
    }
   ],
   "source": [
    "BASE_PATH = os.path.join(os.getcwd(), \"..\", \"..\")\n",
    "MODULES_PATH = os.path.join(BASE_PATH, \"modules\")\n",
    "METRICS_PATH = os.path.join(BASE_PATH, \"metrics\")\n",
    "\n",
    "os.listdir(METRICS_PATH)"
   ]
  },
  {
   "cell_type": "code",
   "execution_count": 9,
   "id": "f1852afe",
   "metadata": {},
   "outputs": [],
   "source": [
    "sys.path.append(MODULES_PATH)\n",
    "\n",
    "from active_learning import Metrics"
   ]
  },
  {
   "cell_type": "code",
   "execution_count": 23,
   "id": "559f9f48",
   "metadata": {},
   "outputs": [],
   "source": [
    "%autoreload 2\n",
    "metrics_reader = Metrics(os.path.join(METRICS_PATH, \"mc_dropout\"))"
   ]
  },
  {
   "cell_type": "markdown",
   "id": "2fcd35de",
   "metadata": {},
   "source": [
    "## Read Metrics"
   ]
  },
  {
   "cell_type": "code",
   "execution_count": 67,
   "id": "5f2642b4",
   "metadata": {},
   "outputs": [],
   "source": [
    "data = metrics_reader.read(\"4_mc_dropout_max_entropy.csv\")"
   ]
  },
  {
   "cell_type": "code",
   "execution_count": 74,
   "id": "2da1d272",
   "metadata": {},
   "outputs": [],
   "source": [
    "def get_frame(filename, astype = {\"iteration\": \"int32\", \"binary_accuracy\": \"float32\"}):\n",
    "    metrics_reader = Metrics(os.path.join(METRICS_PATH, \"mc_dropout\"))\n",
    "    data = metrics_reader.read(filename)\n",
    "    df = pd.DataFrame(data)\n",
    "    df = df.astype(astype)\n",
    "    return df"
   ]
  },
  {
   "cell_type": "code",
   "execution_count": 79,
   "id": "a6167f47",
   "metadata": {},
   "outputs": [
    {
     "data": {
      "text/html": [
       "<div>\n",
       "<style scoped>\n",
       "    .dataframe tbody tr th:only-of-type {\n",
       "        vertical-align: middle;\n",
       "    }\n",
       "\n",
       "    .dataframe tbody tr th {\n",
       "        vertical-align: top;\n",
       "    }\n",
       "\n",
       "    .dataframe thead th {\n",
       "        text-align: right;\n",
       "    }\n",
       "</style>\n",
       "<table border=\"1\" class=\"dataframe\">\n",
       "  <thead>\n",
       "    <tr style=\"text-align: right;\">\n",
       "      <th></th>\n",
       "      <th>iteration</th>\n",
       "      <th>loss</th>\n",
       "      <th>binary_accuracy</th>\n",
       "    </tr>\n",
       "  </thead>\n",
       "  <tbody>\n",
       "    <tr>\n",
       "      <th>0</th>\n",
       "      <td>0</td>\n",
       "      <td>0.22087104618549347</td>\n",
       "      <td>0.958593</td>\n",
       "    </tr>\n",
       "    <tr>\n",
       "      <th>1</th>\n",
       "      <td>1</td>\n",
       "      <td>4.33430290222168</td>\n",
       "      <td>0.696617</td>\n",
       "    </tr>\n",
       "    <tr>\n",
       "      <th>2</th>\n",
       "      <td>2</td>\n",
       "      <td>2.517911434173584</td>\n",
       "      <td>0.810284</td>\n",
       "    </tr>\n",
       "    <tr>\n",
       "      <th>3</th>\n",
       "      <td>3</td>\n",
       "      <td>2.3086986541748047</td>\n",
       "      <td>0.816238</td>\n",
       "    </tr>\n",
       "    <tr>\n",
       "      <th>4</th>\n",
       "      <td>4</td>\n",
       "      <td>0.9173535704612732</td>\n",
       "      <td>0.894723</td>\n",
       "    </tr>\n",
       "  </tbody>\n",
       "</table>\n",
       "</div>"
      ],
      "text/plain": [
       "   iteration                 loss  binary_accuracy\n",
       "0          0  0.22087104618549347         0.958593\n",
       "1          1     4.33430290222168         0.696617\n",
       "2          2    2.517911434173584         0.810284\n",
       "3          3   2.3086986541748047         0.816238\n",
       "4          4   0.9173535704612732         0.894723"
      ]
     },
     "execution_count": 79,
     "metadata": {},
     "output_type": "execute_result"
    }
   ],
   "source": [
    "df_2 = get_frame(\"3_mc_dropout_max_entropy.csv\")\n",
    "df_2.head()"
   ]
  },
  {
   "cell_type": "code",
   "execution_count": 77,
   "id": "cc7c9458",
   "metadata": {},
   "outputs": [
    {
     "data": {
      "text/html": [
       "<div>\n",
       "<style scoped>\n",
       "    .dataframe tbody tr th:only-of-type {\n",
       "        vertical-align: middle;\n",
       "    }\n",
       "\n",
       "    .dataframe tbody tr th {\n",
       "        vertical-align: top;\n",
       "    }\n",
       "\n",
       "    .dataframe thead th {\n",
       "        text-align: right;\n",
       "    }\n",
       "</style>\n",
       "<table border=\"1\" class=\"dataframe\">\n",
       "  <thead>\n",
       "    <tr style=\"text-align: right;\">\n",
       "      <th></th>\n",
       "      <th>iteration</th>\n",
       "      <th>loss</th>\n",
       "      <th>binary_accuracy</th>\n",
       "    </tr>\n",
       "  </thead>\n",
       "  <tbody>\n",
       "    <tr>\n",
       "      <th>0</th>\n",
       "      <td>0</td>\n",
       "      <td>0.02116580680012703</td>\n",
       "      <td>0.993505</td>\n",
       "    </tr>\n",
       "    <tr>\n",
       "      <th>1</th>\n",
       "      <td>1</td>\n",
       "      <td>0.11715037375688553</td>\n",
       "      <td>0.978890</td>\n",
       "    </tr>\n",
       "    <tr>\n",
       "      <th>2</th>\n",
       "      <td>2</td>\n",
       "      <td>0.03956377133727074</td>\n",
       "      <td>0.992693</td>\n",
       "    </tr>\n",
       "    <tr>\n",
       "      <th>3</th>\n",
       "      <td>3</td>\n",
       "      <td>0.18683086335659027</td>\n",
       "      <td>0.976455</td>\n",
       "    </tr>\n",
       "    <tr>\n",
       "      <th>4</th>\n",
       "      <td>4</td>\n",
       "      <td>0.06211743876338005</td>\n",
       "      <td>0.990257</td>\n",
       "    </tr>\n",
       "  </tbody>\n",
       "</table>\n",
       "</div>"
      ],
      "text/plain": [
       "   iteration                 loss  binary_accuracy\n",
       "0          0  0.02116580680012703         0.993505\n",
       "1          1  0.11715037375688553         0.978890\n",
       "2          2  0.03956377133727074         0.992693\n",
       "3          3  0.18683086335659027         0.976455\n",
       "4          4  0.06211743876338005         0.990257"
      ]
     },
     "execution_count": 77,
     "metadata": {},
     "output_type": "execute_result"
    }
   ],
   "source": [
    "df_1 = get_frame(\"4_mc_dropout_max_entropy.csv\")\n",
    "df_1.head()"
   ]
  },
  {
   "cell_type": "code",
   "execution_count": 88,
   "id": "e80620be",
   "metadata": {},
   "outputs": [
    {
     "data": {
      "text/html": [
       "<div>\n",
       "<style scoped>\n",
       "    .dataframe tbody tr th:only-of-type {\n",
       "        vertical-align: middle;\n",
       "    }\n",
       "\n",
       "    .dataframe tbody tr th {\n",
       "        vertical-align: top;\n",
       "    }\n",
       "\n",
       "    .dataframe thead th {\n",
       "        text-align: right;\n",
       "    }\n",
       "</style>\n",
       "<table border=\"1\" class=\"dataframe\">\n",
       "  <thead>\n",
       "    <tr style=\"text-align: right;\">\n",
       "      <th></th>\n",
       "      <th>iteration</th>\n",
       "      <th>loss</th>\n",
       "      <th>binary_accuracy</th>\n",
       "    </tr>\n",
       "  </thead>\n",
       "  <tbody>\n",
       "    <tr>\n",
       "      <th>0</th>\n",
       "      <td>0</td>\n",
       "      <td>1.7131491899490356</td>\n",
       "      <td>0.664141</td>\n",
       "    </tr>\n",
       "    <tr>\n",
       "      <th>1</th>\n",
       "      <td>1</td>\n",
       "      <td>0.036550626158714294</td>\n",
       "      <td>0.989445</td>\n",
       "    </tr>\n",
       "    <tr>\n",
       "      <th>2</th>\n",
       "      <td>2</td>\n",
       "      <td>0.11840952932834625</td>\n",
       "      <td>0.972666</td>\n",
       "    </tr>\n",
       "    <tr>\n",
       "      <th>3</th>\n",
       "      <td>3</td>\n",
       "      <td>0.12459225952625275</td>\n",
       "      <td>0.974290</td>\n",
       "    </tr>\n",
       "    <tr>\n",
       "      <th>4</th>\n",
       "      <td>4</td>\n",
       "      <td>0.13670805096626282</td>\n",
       "      <td>0.976184</td>\n",
       "    </tr>\n",
       "  </tbody>\n",
       "</table>\n",
       "</div>"
      ],
      "text/plain": [
       "   iteration                  loss  binary_accuracy\n",
       "0          0    1.7131491899490356         0.664141\n",
       "1          1  0.036550626158714294         0.989445\n",
       "2          2   0.11840952932834625         0.972666\n",
       "3          3   0.12459225952625275         0.974290\n",
       "4          4   0.13670805096626282         0.976184"
      ]
     },
     "execution_count": 88,
     "metadata": {},
     "output_type": "execute_result"
    }
   ],
   "source": [
    "df_3 = get_frame(\"2_mc_dropout_max_entropy.csv\")\n",
    "df_3.head()"
   ]
  },
  {
   "cell_type": "code",
   "execution_count": 89,
   "id": "912ad29c",
   "metadata": {},
   "outputs": [],
   "source": [
    "df = df.astype({\"iteration\": \"int32\", \"binary_accuracy\": \"float\"})"
   ]
  },
  {
   "cell_type": "code",
   "execution_count": 90,
   "id": "da7497d9",
   "metadata": {},
   "outputs": [],
   "source": [
    "max_tick = int(df_1[\"iteration\"].max())\n",
    "min_tick = int(df_1[\"iteration\"].min())"
   ]
  },
  {
   "cell_type": "code",
   "execution_count": 101,
   "id": "2bd73168",
   "metadata": {},
   "outputs": [
    {
     "data": {
      "image/png": "[encoded data removed]",
      "text/plain": [
       "<Figure size 1080x360 with 1 Axes>"
      ]
     },
     "metadata": {
      "needs_background": "light"
     },
     "output_type": "display_data"
    }
   ],
   "source": [
    "plt.figure(figsize=(15, 5))\n",
    "sns.lineplot(x=\"iteration\", y=\"binary_accuracy\", color=\"red\", marker=\"X\", data=df_1)\n",
    "sns.lineplot(x=\"iteration\", y=\"binary_accuracy\", marker=\"o\", data=df_2)\n",
    "sns.lineplot(x=\"iteration\", y=\"binary_accuracy\", color=\"green\", marker=\"v\", data=df_3)\n",
    "plt.xticks(range(min_tick, max_tick + 2, 3), rotation=90)\n",
    "plt.title(\"Comparison Max Entropy\")\n",
    "plt.ylabel(\"Accuracy\")\n",
    "plt.xlabel(\"Iteration\")\n",
    "plt.show()"
   ]
  },
  {
   "cell_type": "code",
   "execution_count": null,
   "id": "32b811b6",
   "metadata": {},
   "outputs": [],
   "source": []
  },
  {
   "cell_type": "code",
   "execution_count": null,
   "id": "af6cf7e4",
   "metadata": {},
   "outputs": [],
   "source": []
  },
  {
   "cell_type": "code",
   "execution_count": null,
   "id": "25d5ffad",
   "metadata": {},
   "outputs": [],
   "source": []
  },
  {
   "cell_type": "code",
   "execution_count": null,
   "id": "e9bad1a6",
   "metadata": {},
   "outputs": [],
   "source": []
  },
  {
   "cell_type": "code",
   "execution_count": null,
   "id": "ed57998f",
   "metadata": {},
   "outputs": [],
   "source": []
  },
  {
   "cell_type": "code",
   "execution_count": null,
   "id": "27afd311",
   "metadata": {},
   "outputs": [],
   "source": []
  },
  {
   "cell_type": "code",
   "execution_count": null,
   "id": "9aa8cffa",
   "metadata": {},
   "outputs": [],
   "source": []
  }
 ],
 "metadata": {
  "kernelspec": {
   "display_name": "Python 3",
   "language": "python",
   "name": "python3"
  },
  "language_info": {
   "codemirror_mode": {
    "name": "ipython",
    "version": 3
   },
   "file_extension": ".py",
   "mimetype": "text/x-python",
   "name": "python",
   "nbconvert_exporter": "python",
   "pygments_lexer": "ipython3",
   "version": "3.8.8"
  }
 },
 "nbformat": 4,
 "nbformat_minor": 5
}
