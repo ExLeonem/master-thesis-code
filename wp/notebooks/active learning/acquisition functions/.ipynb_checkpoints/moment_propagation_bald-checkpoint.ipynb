{
 "cells": [
  {
   "cell_type": "code",
   "execution_count": 416,
   "id": "5670d8f8",
   "metadata": {},
   "outputs": [
    {
     "name": "stdout",
     "output_type": "stream",
     "text": [
      "The autoreload extension is already loaded. To reload it, use:\n",
      "  %reload_ext autoreload\n"
     ]
    }
   ],
   "source": [
    "%load_ext autoreload"
   ]
  },
  {
   "cell_type": "code",
   "execution_count": 417,
   "id": "ec192ab8",
   "metadata": {},
   "outputs": [],
   "source": [
    "import os, sys"
   ]
  },
  {
   "cell_type": "code",
   "execution_count": 418,
   "id": "bd06e263",
   "metadata": {},
   "outputs": [],
   "source": [
    "import numpy as np\n",
    "import pandas as pd\n",
    "import matplotlib.pyplot as plt\n",
    "import seaborn as sns\n",
    "from sklearn.model_selection import train_test_split\n",
    "\n",
    "import tensorflow as tf\n",
    "import tensorflow.keras as keras"
   ]
  },
  {
   "cell_type": "code",
   "execution_count": 419,
   "id": "00083c45",
   "metadata": {},
   "outputs": [],
   "source": [
    "BASE_PATH = os.path.join(os.getcwd(), \"..\", \"..\", \"..\")\n",
    "MODULES_PATH = os.path.join(BASE_PATH, \"modules\")\n",
    "DATASET_PATH = os.path.join(BASE_PATH, \"datasets\")"
   ]
  },
  {
   "cell_type": "code",
   "execution_count": 420,
   "id": "3d425416",
   "metadata": {},
   "outputs": [],
   "source": [
    "sys.path.append(MODULES_PATH)"
   ]
  },
  {
   "cell_type": "code",
   "execution_count": 421,
   "id": "c4a2debe",
   "metadata": {},
   "outputs": [],
   "source": [
    "from active_learning import Config, AcquisitionFunction, Pool\n",
    "from wrapper import McDropout, MomentPropagation\n",
    "from models import setup_growth, fchollet_cnn\n",
    "from data import BenchmarkData, DataSetType"
   ]
  },
  {
   "cell_type": "code",
   "execution_count": 422,
   "id": "9217dd13",
   "metadata": {},
   "outputs": [],
   "source": [
    "mnist_path = os.path.join(DATASET_PATH, \"mnist\")\n",
    "dataset = BenchmarkData(DataSetType.MNIST, mnist_path)"
   ]
  },
  {
   "cell_type": "code",
   "execution_count": 423,
   "id": "01473435",
   "metadata": {},
   "outputs": [
    {
     "name": "stdout",
     "output_type": "stream",
     "text": [
      "1 Physical GPU's,  1 Logical GPU's\n"
     ]
    }
   ],
   "source": [
    "setup_growth()"
   ]
  },
  {
   "cell_type": "code",
   "execution_count": 424,
   "id": "054f3dc5",
   "metadata": {},
   "outputs": [],
   "source": [
    "base_model = fchollet_cnn(output=10)"
   ]
  },
  {
   "cell_type": "code",
   "execution_count": 425,
   "id": "e7c13864",
   "metadata": {},
   "outputs": [],
   "source": [
    "seed = 90231\n",
    "np.random.seed(seed)\n",
    "tf.random.set_seed(seed)"
   ]
  },
  {
   "cell_type": "markdown",
   "id": "69f4b634",
   "metadata": {},
   "source": [
    "### Split data"
   ]
  },
  {
   "cell_type": "code",
   "execution_count": 426,
   "id": "9e261b9b",
   "metadata": {},
   "outputs": [],
   "source": [
    "x_train, x_test, y_train, y_test = train_test_split(dataset.inputs, dataset.targets, test_size=10000)"
   ]
  },
  {
   "cell_type": "code",
   "execution_count": 427,
   "id": "57888da8",
   "metadata": {},
   "outputs": [
    {
     "data": {
      "text/plain": [
       "60000"
      ]
     },
     "execution_count": 427,
     "metadata": {},
     "output_type": "execute_result"
    }
   ],
   "source": [
    "len(x_train)"
   ]
  },
  {
   "cell_type": "code",
   "execution_count": 428,
   "id": "3a33193f",
   "metadata": {},
   "outputs": [],
   "source": [
    "pool = Pool(x_train, y_train)"
   ]
  },
  {
   "cell_type": "markdown",
   "id": "4760a2ef",
   "metadata": {},
   "source": [
    "### Define Models"
   ]
  },
  {
   "cell_type": "code",
   "execution_count": 429,
   "id": "904133e9",
   "metadata": {},
   "outputs": [],
   "source": [
    "%autoreload 2\n",
    "fit_params = {\"epochs\": 2, \"batch_size\": 10}\n",
    "compile_params = {\"optimizer\": \"adam\", \"loss\": \"sparse_categorical_crossentropy\", \"metrics\": [keras.metrics.SparseCategoricalAccuracy()]}\n",
    "\n",
    "# Define MC Dropout model\n",
    "mc_model = McDropout(base_model, config=Config(\n",
    "    fit=fit_params,\n",
    "    query={\"sample_size\": 25},\n",
    "    evaluate={\"sample_size\": 25}\n",
    "))\n",
    "mc_model.compile(**compile_params)\n",
    "\n",
    "# Define Moment Propagation model\n",
    "mp_model = MomentPropagation(base_model, config=Config(\n",
    "    fit=fit_params\n",
    "))\n",
    "mp_model.compile(**compile_params)"
   ]
  },
  {
   "cell_type": "code",
   "execution_count": 430,
   "id": "8de2fba1",
   "metadata": {},
   "outputs": [
    {
     "name": "stdout",
     "output_type": "stream",
     "text": [
      "Epoch 1/2\n",
      "6000/6000 [==============================] - 28s 5ms/step - loss: 0.1863 - sparse_categorical_accuracy: 0.9444\n",
      "Epoch 2/2\n",
      "6000/6000 [==============================] - 21s 4ms/step - loss: 0.0887 - sparse_categorical_accuracy: 0.9744\n"
     ]
    },
    {
     "data": {
      "text/plain": [
       "<tensorflow.python.keras.callbacks.History at 0x7ff51412cbe0>"
      ]
     },
     "execution_count": 430,
     "metadata": {},
     "output_type": "execute_result"
    }
   ],
   "source": [
    "mc_model.fit(x_train, y_train)"
   ]
  },
  {
   "cell_type": "code",
   "execution_count": 431,
   "id": "064565d1",
   "metadata": {},
   "outputs": [
    {
     "name": "stdout",
     "output_type": "stream",
     "text": [
      "Epoch 1/2\n",
      "6000/6000 [==============================] - 34s 6ms/step - loss: 0.0685 - sparse_categorical_accuracy: 0.9797\n",
      "Epoch 2/2\n",
      "6000/6000 [==============================] - 19s 3ms/step - loss: 0.0552 - sparse_categorical_accuracy: 0.9839\n"
     ]
    },
    {
     "data": {
      "text/plain": [
       "<tensorflow.python.keras.callbacks.History at 0x7ff50c7c3700>"
      ]
     },
     "execution_count": 431,
     "metadata": {},
     "output_type": "execute_result"
    }
   ],
   "source": [
    "mp_model.fit(x_train, y_train)"
   ]
  },
  {
   "cell_type": "code",
   "execution_count": 432,
   "id": "45caa618",
   "metadata": {},
   "outputs": [
    {
     "data": {
      "text/plain": [
       "{'loss': 0.0029179084, 'accuracy': 1.0}"
      ]
     },
     "execution_count": 432,
     "metadata": {},
     "output_type": "execute_result"
    }
   ],
   "source": [
    "mc_model.evaluate(x_test[:10], y_test[:10])"
   ]
  },
  {
   "cell_type": "code",
   "execution_count": 433,
   "id": "7b6bf538",
   "metadata": {},
   "outputs": [
    {
     "data": {
      "text/plain": [
       "{'loss': 0.005792861, 'accuracy': 1.0}"
      ]
     },
     "execution_count": 433,
     "metadata": {},
     "output_type": "execute_result"
    }
   ],
   "source": [
    "mp_model.evaluate(x_test[:10], y_test[:10])"
   ]
  },
  {
   "cell_type": "markdown",
   "id": "fb4505c6",
   "metadata": {},
   "source": [
    "### Try BALD acquisition"
   ]
  },
  {
   "cell_type": "code",
   "execution_count": 434,
   "id": "c66812e5",
   "metadata": {},
   "outputs": [
    {
     "data": {
      "text/plain": [
       "array([ 7.8368969e-03,  1.2096020e-03,  3.7639483e-04,  1.5293401e-02,\n",
       "        6.1977739e-03,  2.2632631e-02,  4.8576470e-02,  9.5894299e-02,\n",
       "        4.9692753e-04,  3.0007737e-02,  8.1304513e-02,  2.8082320e-01,\n",
       "        3.5540957e-05,  7.4896486e-03,  3.8773037e-02,  9.3003958e-03,\n",
       "        1.8867663e-01,  1.6033573e-03,  1.0555629e-03,  1.4871857e-01,\n",
       "        1.0449309e-04,  2.8719532e-04,  7.2446954e-03,  1.6302220e-05,\n",
       "        1.2423070e-02,  4.5911428e-03,  6.1054435e-02,  1.4729074e-03,\n",
       "        8.8316135e-02,  2.1909820e-03,  1.9922676e-02,  1.6055098e-02,\n",
       "        1.1766560e-02,  1.2559741e-02,  5.9081420e-02,  1.0634628e-01,\n",
       "        1.6141012e-02,  3.6178622e-02,  3.0522118e-04,  5.5496523e-05,\n",
       "        1.2239654e-03,  1.0625179e-02,  2.7887290e-06,  1.0902446e-02,\n",
       "        1.5203562e-01,  5.8553496e-04,  7.8839744e-03,  4.8559741e-06,\n",
       "        9.1333516e-02,  2.0197714e-03,  4.5029020e-01,  1.2093140e-02,\n",
       "        3.7371123e-01,  1.9606452e-03,  5.4537216e-03,  1.2266327e-04,\n",
       "        7.6294423e-04,  1.0490531e-04,  1.2740976e-04,  3.2539047e-02,\n",
       "        4.7934055e-02,  1.2097938e-03,  5.0044887e-02,  2.0574820e-03,\n",
       "        2.4352388e-03,  5.4027798e-05,  2.2543711e-05,  5.0290968e-02,\n",
       "        3.4186531e-02,  2.8027337e-02,  1.3297123e-03,  3.2830305e-02,\n",
       "        5.0835428e-05,  1.0945693e-02,  4.4845060e-02,  7.0226351e-03,\n",
       "        1.4516693e-03,  1.4802907e-05,  1.4701844e-03,  1.1700853e-04,\n",
       "        1.8612002e-03,  4.0851511e-02,  7.1510393e-03,  4.3739557e-02,\n",
       "        2.0621330e-02, -2.8638169e-08,  6.0766214e-03,  4.4655573e-04,\n",
       "        2.7667391e-01,  5.3548603e-03,  3.1694388e-03,  2.0001365e-03,\n",
       "        4.4857813e-03,  2.4184468e-03,  3.7477665e-02,  2.2197612e-02,\n",
       "        1.9093904e-04,  1.1640065e-03,  1.1065084e-01,  7.1875900e-02],\n",
       "      dtype=float32)"
      ]
     },
     "execution_count": 434,
     "metadata": {},
     "output_type": "execute_result"
    }
   ],
   "source": [
    "mc_bald = mc_model.get_query_fn(\"bald\")\n",
    "mc_bald(x_train[:100], sample_size=100)"
   ]
  },
  {
   "cell_type": "code",
   "execution_count": 435,
   "id": "6f483493",
   "metadata": {},
   "outputs": [
    {
     "data": {
      "text/plain": [
       "array([ 1.36732096e-03,  6.24299237e-04,  2.78420470e-03,  3.94400137e-03,\n",
       "        1.54223898e-02,  3.56131586e-02,  4.00450743e-02,  6.37182959e-02,\n",
       "        1.17968720e-02,  1.09401753e-02,  9.48030258e-02,  3.37497847e-01,\n",
       "       -1.90706861e-03,  2.83041967e-02,  6.11220272e-02,  3.32245418e-02,\n",
       "        1.57900475e-01,  7.34405453e-03,  2.70967745e-03,  1.19433075e-01,\n",
       "        2.02959098e-03,  4.09101561e-03,  5.93993854e-03,  6.11819886e-03,\n",
       "        4.32934883e-02,  1.80290722e-02,  6.63357142e-02,  1.49357039e-02,\n",
       "        9.91344131e-02,  8.35011199e-03,  3.73557074e-02,  3.72292809e-02,\n",
       "        2.00018960e-03, -6.20074514e-04,  2.67449340e-01,  1.09628948e-01,\n",
       "        1.15009707e-02,  8.58715312e-02,  2.18756396e-02,  9.72776955e-03,\n",
       "       -9.78562139e-03,  3.60432530e-02,  3.14015355e-03,  1.32455337e-03,\n",
       "        1.29650445e-01,  8.56500702e-03,  1.38246780e-02,  5.20256323e-03,\n",
       "        9.36397632e-02,  1.11169148e-02,  5.49616932e-01,  5.22846245e-04,\n",
       "        3.76404675e-01,  3.59323637e-02,  6.71254007e-03,  2.88792068e-03,\n",
       "        4.09062050e-04,  2.44367658e-03,  1.42793441e-03,  3.86954766e-02,\n",
       "        5.48899897e-02,  1.07634628e-02,  8.40895198e-03,  9.20620368e-04,\n",
       "       -5.49601138e-04, -1.21421100e-03, -1.56477085e-04,  6.07959862e-02,\n",
       "        8.09834745e-03,  1.18057885e-02,  2.19874722e-03,  1.41812432e-02,\n",
       "        1.49052219e-03,  2.26534489e-02,  6.10547747e-04,  2.44260768e-03,\n",
       "        2.53934871e-02,  7.97241866e-04,  4.67235242e-04,  8.85983407e-03,\n",
       "        2.26507467e-02,  5.90378173e-03,  4.87392889e-02,  2.70030650e-02,\n",
       "        4.41166274e-03,  6.45813011e-04,  3.06067172e-03,  1.57533678e-03,\n",
       "        1.16092693e-01,  5.19173439e-03,  5.89812952e-03,  3.54270642e-03,\n",
       "        2.09646591e-02,  1.73476485e-02,  1.07278309e-02,  1.52996834e-03,\n",
       "        1.71233885e-03,  4.44724955e-04,  1.25136099e-01,  7.53505165e-02])"
      ]
     },
     "execution_count": 435,
     "metadata": {},
     "output_type": "execute_result"
    }
   ],
   "source": [
    "mp_bald = mp_model.get_query_fn(\"bald\")\n",
    "mp_bald(x_train[:100], num_samples=100)"
   ]
  },
  {
   "cell_type": "markdown",
   "id": "f84baa2f",
   "metadata": {},
   "source": [
    "## Difference Monte Carlo approximation and analytical"
   ]
  },
  {
   "cell_type": "code",
   "execution_count": 436,
   "id": "0ffafc17",
   "metadata": {},
   "outputs": [],
   "source": [
    "# Define Moment Propagation model\n",
    "fit_params = {\"epochs\": 10, \"batch_size\": 500}\n",
    "mp_model = MomentPropagation(base_model, config=Config(\n",
    "    fit=fit_params\n",
    "))\n",
    "mp_model.compile(**compile_params)"
   ]
  },
  {
   "cell_type": "code",
   "execution_count": 437,
   "id": "e1f2489c",
   "metadata": {},
   "outputs": [
    {
     "name": "stdout",
     "output_type": "stream",
     "text": [
      "Epoch 1/10\n",
      "120/120 [==============================] - 4s 32ms/step - loss: 0.0308 - sparse_categorical_accuracy: 0.9873\n",
      "Epoch 2/10\n",
      "120/120 [==============================] - 4s 36ms/step - loss: 0.0259 - sparse_categorical_accuracy: 0.9920\n",
      "Epoch 3/10\n",
      "120/120 [==============================] - 4s 35ms/step - loss: 0.0220 - sparse_categorical_accuracy: 0.9931\n",
      "Epoch 4/10\n",
      "120/120 [==============================] - 5s 42ms/step - loss: 0.0191 - sparse_categorical_accuracy: 0.9941\n",
      "Epoch 5/10\n",
      "120/120 [==============================] - 5s 42ms/step - loss: 0.0166 - sparse_categorical_accuracy: 0.9947\n",
      "Epoch 6/10\n",
      "120/120 [==============================] - 5s 41ms/step - loss: 0.0153 - sparse_categorical_accuracy: 0.9947\n",
      "Epoch 7/10\n",
      "120/120 [==============================] - 5s 41ms/step - loss: 0.0144 - sparse_categorical_accuracy: 0.9953\n",
      "Epoch 8/10\n",
      "120/120 [==============================] - 5s 42ms/step - loss: 0.0150 - sparse_categorical_accuracy: 0.9957\n",
      "Epoch 9/10\n",
      "120/120 [==============================] - 5s 41ms/step - loss: 0.0121 - sparse_categorical_accuracy: 0.9959\n",
      "Epoch 10/10\n",
      "120/120 [==============================] - 5s 41ms/step - loss: 0.0109 - sparse_categorical_accuracy: 0.9963\n"
     ]
    },
    {
     "data": {
      "text/plain": [
       "<tensorflow.python.keras.callbacks.History at 0x7ff50c509100>"
      ]
     },
     "execution_count": 437,
     "metadata": {},
     "output_type": "execute_result"
    }
   ],
   "source": [
    "mp_model.fit(x_train, y_train)"
   ]
  },
  {
   "cell_type": "code",
   "execution_count": 438,
   "id": "8c7021f6",
   "metadata": {},
   "outputs": [
    {
     "data": {
      "text/plain": [
       "{'loss': 0.032416917, 'accuracy': 0.991}"
      ]
     },
     "execution_count": 438,
     "metadata": {},
     "output_type": "execute_result"
    }
   ],
   "source": [
    "mp_model.evaluate(x_test, y_test)"
   ]
  },
  {
   "cell_type": "code",
   "execution_count": 439,
   "id": "94ab0c71",
   "metadata": {},
   "outputs": [],
   "source": [
    "exp, var = mp_model(x_train[:100])"
   ]
  },
  {
   "cell_type": "code",
   "execution_count": 440,
   "id": "e3d17165",
   "metadata": {},
   "outputs": [],
   "source": [
    "exp_s, var_s = MP.Gaussian_Softmax(exp, var)"
   ]
  },
  {
   "cell_type": "code",
   "execution_count": 441,
   "id": "dd5d8a53",
   "metadata": {},
   "outputs": [],
   "source": [
    "def evaluate(prob, real_targets):\n",
    "    \"\"\"\n",
    "        Evaluate accuracy of predictions.\n",
    "        \n",
    "        Parameters:\n",
    "            prob (numpy.ndarray): Probabilities given by estimator. With optional sample dimension.\n",
    "            real_targets (numpy.ndarray): The real targets\n",
    "            \n",
    "        Returns:\n",
    "            (float) the accuracy of the estimator\n",
    "    \"\"\"\n",
    "    \n",
    "    if len(prob.shape) == 2:\n",
    "        return np.mean(np.argmax(prob, axis=-1)==real_targets, axis=0)\n",
    "    return np.mean(np.argmax(np.mean(sampled_datapoints, axis=0), axis=1)==real_targets)"
   ]
  },
  {
   "cell_type": "code",
   "execution_count": 442,
   "id": "7f5351ed",
   "metadata": {},
   "outputs": [
    {
     "name": "stderr",
     "output_type": "stream",
     "text": [
      "/home/exleonem/.anaconda/envs/mp/lib/python3.8/site-packages/numpy/core/fromnumeric.py:3256: RuntimeWarning: Mean of empty slice.\n",
      "  return _methods._mean(a, axis=axis, dtype=dtype,\n",
      "/home/exleonem/.anaconda/envs/mp/lib/python3.8/site-packages/numpy/core/_methods.py:153: RuntimeWarning: invalid value encountered in true_divide\n",
      "  ret = um.true_divide(\n"
     ]
    }
   ],
   "source": [
    "exp_shape = list(exp.shape)\n",
    "sample_sizes = list(np.linspace(0, 100, 101).astype(int))\n",
    "acc = []\n",
    "for size in sample_sizes:\n",
    "    \n",
    "    final_shape = tuple([size] + exp_shape)\n",
    "    sampled_datapoints = norm(exp, var).rvs(size=final_shape)\n",
    "    softmax_output = tf.keras.activations.softmax(tf.convert_to_tensor(sampled_datapoints))\n",
    "    sample_acc = evaluate(softmax_output, y_train[:100])\n",
    "\n",
    "    acc.append(sample_acc)"
   ]
  },
  {
   "cell_type": "code",
   "execution_count": 443,
   "id": "9cef9f61",
   "metadata": {},
   "outputs": [],
   "source": [
    "real_acc = evaluate(exp_s, y_train[:100])"
   ]
  },
  {
   "cell_type": "code",
   "execution_count": 444,
   "id": "5b79fe86",
   "metadata": {},
   "outputs": [
    {
     "data": {
      "image/png": "[encoded data removed]",
      "text/plain": [
       "<Figure size 432x288 with 1 Axes>"
      ]
     },
     "metadata": {
      "needs_background": "light"
     },
     "output_type": "display_data"
    }
   ],
   "source": [
    "fig = plt.figure()\n",
    "plt.plot(sample_sizes, acc, label=\"Analytical acc.\")\n",
    "plt.plot(sample_sizes, [real_acc]*len(sample_sizes), label=\"Monte Carlo acc.\")\n",
    "\n",
    "plt.legend()\n",
    "plt.grid()\n",
    "plt.xlabel(\"Number of Samples\")\n",
    "plt.ylabel(\"Accuracy\")\n",
    "plt.title(\"Estimator Accuracy\")\n",
    "plt.show()"
   ]
  },
  {
   "cell_type": "code",
   "execution_count": 445,
   "id": "fbd35aaa",
   "metadata": {},
   "outputs": [
    {
     "data": {
      "text/plain": [
       "array([ 1.64596291e-04,  3.37643694e-04, -6.05029985e-04, -7.44594727e-04,\n",
       "       -7.37966644e-03,  6.86411586e-05, -3.30456980e-02, -2.93679740e-02,\n",
       "       -3.20234932e-02, -2.05867132e-03, -5.13999462e-02, -2.02430949e-01,\n",
       "        4.98528127e-04, -5.51039632e-03, -2.13302746e-01, -3.63385566e-02,\n",
       "       -7.95459598e-02, -3.00266244e-03, -1.35746354e-03, -1.46861613e-01,\n",
       "       -1.14047956e-02, -5.45618217e-03, -5.85853867e-03, -1.98644656e-03,\n",
       "       -1.67461131e-02, -8.45120475e-03, -2.25317907e-02, -6.80503203e-03,\n",
       "       -2.29131132e-02, -4.05935617e-03, -1.05021838e-02, -1.89022291e-02,\n",
       "       -3.78062396e-04,  4.68144630e-04, -3.87267500e-01, -4.32426780e-02,\n",
       "       -1.92351229e-02, -7.67074227e-02, -1.11465722e-01, -2.16520624e-03,\n",
       "       -1.84453465e-03, -7.72554846e-03, -2.56908522e-03, -9.71218583e-07,\n",
       "       -2.99097091e-01, -7.09509104e-03, -1.57567281e-02, -3.52482707e-03,\n",
       "       -7.42377490e-02, -6.42564567e-03, -3.57660919e-01,  7.95873173e-04,\n",
       "       -9.24990252e-02, -1.52109517e-02, -1.41675742e-02, -2.98069580e-03,\n",
       "       -2.01846613e-03, -2.20284983e-05,  3.88742774e-04, -4.65100333e-02,\n",
       "       -3.91064696e-02, -1.18665341e-02, -4.93529439e-03,  1.91366416e-05,\n",
       "       -7.78641726e-04,  8.21299676e-04,  7.15444854e-04, -6.46343604e-02,\n",
       "       -1.43725169e-03, -1.68194305e-02,  3.59071128e-04, -5.17158620e-02,\n",
       "        2.73591839e-04, -1.29400985e-02, -3.14573050e-02, -2.27406644e-03,\n",
       "       -2.57139429e-02, -5.85774425e-04, -7.06197508e-03, -2.21540336e-03,\n",
       "       -5.80869988e-02, -6.15472952e-03, -4.12233621e-02, -1.91327091e-02,\n",
       "       -1.05631805e-03,  5.16444969e-04, -1.03209633e-03,  6.92693924e-04,\n",
       "       -4.06726114e-02, -2.86876224e-03, -6.50085218e-04,  3.29124392e-04,\n",
       "       -7.97549486e-02, -7.23329466e-03, -6.69130981e-02, -2.31489912e-03,\n",
       "        6.88792905e-04, -4.31700097e-03, -2.47443274e-01, -7.84859154e-03],\n",
       "      dtype=float32)"
      ]
     },
     "execution_count": 445,
     "metadata": {},
     "output_type": "execute_result"
    }
   ],
   "source": [
    "approx_entropy = np.sum(exp_s*np.log(exp_s+.001), axis=1)\n",
    "approx_entropy"
   ]
  },
  {
   "cell_type": "code",
   "execution_count": 446,
   "id": "35893725",
   "metadata": {},
   "outputs": [],
   "source": [
    "final_shape = tuple([100] + exp_shape)\n",
    "sampled_datapoints = norm(exp, var).rvs(size=final_shape)\n",
    "softmax_output = tf.keras.activations.softmax(tf.convert_to_tensor(sampled_datapoints))\n",
    "sample_acc = evaluate(softmax_output, y_train[:100])"
   ]
  },
  {
   "cell_type": "code",
   "execution_count": 447,
   "id": "1e9e34f3",
   "metadata": {},
   "outputs": [
    {
     "data": {
      "text/plain": [
       "(100, 100, 10)"
      ]
     },
     "execution_count": 447,
     "metadata": {},
     "output_type": "execute_result"
    }
   ],
   "source": [
    "sampled_datapoints.shape"
   ]
  },
  {
   "cell_type": "code",
   "execution_count": 448,
   "id": "431e8dc9",
   "metadata": {},
   "outputs": [],
   "source": [
    "sample_probs = tf.keras.activations.softmax(tf.convert_to_tensor(sampled_datapoints))\n",
    "\n",
    "# mean_probs = np.mean(sample_probs, axis=0)\n",
    "# sample_entropy = np.sum(mean_probs*np.log(mean_probs+.001), axis=-1)\n",
    "\n",
    "sample_entropy = np.sum(sample_probs*np.log(sample_probs+.001), axis=-1)\n",
    "sample_entropy = np.sum(sample_entropy, axis=0)/len(sample_entropy)"
   ]
  },
  {
   "cell_type": "code",
   "execution_count": 449,
   "id": "ff450181",
   "metadata": {},
   "outputs": [
    {
     "data": {
      "text/plain": [
       "(100,)"
      ]
     },
     "execution_count": 449,
     "metadata": {},
     "output_type": "execute_result"
    }
   ],
   "source": [
    "sample_entropy.shape"
   ]
  },
  {
   "cell_type": "code",
   "execution_count": 450,
   "id": "98f72f91",
   "metadata": {},
   "outputs": [
    {
     "data": {
      "text/plain": [
       "[]"
      ]
     },
     "execution_count": 450,
     "metadata": {},
     "output_type": "execute_result"
    },
    {
     "data": {
      "image/png": "[encoded data removed]",
      "text/plain": [
       "<Figure size 432x288 with 1 Axes>"
      ]
     },
     "metadata": {
      "needs_background": "light"
     },
     "output_type": "display_data"
    }
   ],
   "source": [
    "plt.plot(sample_entropy, label=\"Sample entropy\")\n",
    "plt.plot(approx_entropy, label=\"Approx. entropy\")\n",
    "plt.legend()\n",
    "plt.plot()"
   ]
  },
  {
   "cell_type": "markdown",
   "id": "eb6fff4d",
   "metadata": {},
   "source": [
    "## Condfidence interval"
   ]
  },
  {
   "cell_type": "code",
   "execution_count": 466,
   "id": "bca0fdad",
   "metadata": {},
   "outputs": [],
   "source": [
    "# https://stackoverflow.com/questions/15033511/compute-a-confidence-interval-from-sample-data\n",
    "# https://blog.finxter.com/how-to-plot-the-confidence-interval-in-python/\n",
    "import scipy.stats as st"
   ]
  },
  {
   "cell_type": "code",
   "execution_count": 461,
   "id": "94516abf",
   "metadata": {},
   "outputs": [],
   "source": [
    "sample_probs = tf.keras.activations.softmax(tf.convert_to_tensor(sampled_datapoints))"
   ]
  },
  {
   "cell_type": "code",
   "execution_count": 463,
   "id": "6f12bed7",
   "metadata": {},
   "outputs": [],
   "source": [
    "res = st.t.interval(0.95, len(sample_probs)-1, loc=np.mean(sample_probs, axis=0), scale=st.sem(sample_probs))"
   ]
  },
  {
   "cell_type": "code",
   "execution_count": null,
   "id": "b440f11e",
   "metadata": {},
   "outputs": [],
   "source": []
  },
  {
   "cell_type": "code",
   "execution_count": null,
   "id": "1e0556de",
   "metadata": {},
   "outputs": [],
   "source": []
  }
 ],
 "metadata": {
  "kernelspec": {
   "display_name": "Python 3",
   "language": "python",
   "name": "python3"
  },
  "language_info": {
   "codemirror_mode": {
    "name": "ipython",
    "version": 3
   },
   "file_extension": ".py",
   "mimetype": "text/x-python",
   "name": "python",
   "nbconvert_exporter": "python",
   "pygments_lexer": "ipython3",
   "version": "3.8.8"
  }
 },
 "nbformat": 4,
 "nbformat_minor": 5
}
