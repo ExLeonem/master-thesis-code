{
 "cells": [
  {
   "cell_type": "code",
   "execution_count": 1,
   "id": "5670d8f8",
   "metadata": {},
   "outputs": [],
   "source": [
    "%load_ext autoreload"
   ]
  },
  {
   "cell_type": "code",
   "execution_count": 2,
   "id": "ec192ab8",
   "metadata": {},
   "outputs": [],
   "source": [
    "import os, sys"
   ]
  },
  {
   "cell_type": "code",
   "execution_count": 3,
   "id": "bd06e263",
   "metadata": {},
   "outputs": [],
   "source": [
    "import numpy as np\n",
    "import pandas as pd\n",
    "import matplotlib.pyplot as plt\n",
    "import seaborn as sns\n",
    "from sklearn.model_selection import train_test_split\n",
    "\n",
    "import tensorflow as tf\n",
    "import tensorflow.keras as keras"
   ]
  },
  {
   "cell_type": "code",
   "execution_count": 4,
   "id": "00083c45",
   "metadata": {},
   "outputs": [],
   "source": [
    "BASE_PATH = os.path.join(os.getcwd(), \"..\", \"..\", \"..\")\n",
    "MODULES_PATH = os.path.join(BASE_PATH, \"modules\")\n",
    "DATASET_PATH = os.path.join(BASE_PATH, \"datasets\")"
   ]
  },
  {
   "cell_type": "code",
   "execution_count": 5,
   "id": "3d425416",
   "metadata": {},
   "outputs": [],
   "source": [
    "sys.path.append(MODULES_PATH)"
   ]
  },
  {
   "cell_type": "code",
   "execution_count": 6,
   "id": "c4a2debe",
   "metadata": {},
   "outputs": [],
   "source": [
    "from active_learning import Config, AcquisitionFunction, Pool\n",
    "from wrapper import McDropout, MomentPropagation\n",
    "from models import setup_growth, fchollet_cnn\n",
    "from data import BenchmarkData, DataSetType"
   ]
  },
  {
   "cell_type": "code",
   "execution_count": 7,
   "id": "9217dd13",
   "metadata": {},
   "outputs": [],
   "source": [
    "mnist_path = os.path.join(DATASET_PATH, \"mnist\")\n",
    "dataset = BenchmarkData(DataSetType.MNIST, mnist_path)"
   ]
  },
  {
   "cell_type": "code",
   "execution_count": 8,
   "id": "01473435",
   "metadata": {},
   "outputs": [
    {
     "name": "stdout",
     "output_type": "stream",
     "text": [
      "1 Physical GPU's,  1 Logical GPU's\n"
     ]
    }
   ],
   "source": [
    "setup_growth()"
   ]
  },
  {
   "cell_type": "code",
   "execution_count": 9,
   "id": "054f3dc5",
   "metadata": {},
   "outputs": [],
   "source": [
    "base_model = fchollet_cnn(output=10)"
   ]
  },
  {
   "cell_type": "code",
   "execution_count": 10,
   "id": "e7c13864",
   "metadata": {},
   "outputs": [],
   "source": [
    "seed = 90231\n",
    "np.random.seed(seed)\n",
    "tf.random.set_seed(seed)"
   ]
  },
  {
   "cell_type": "markdown",
   "id": "69f4b634",
   "metadata": {},
   "source": [
    "### Split data"
   ]
  },
  {
   "cell_type": "code",
   "execution_count": 11,
   "id": "9e261b9b",
   "metadata": {},
   "outputs": [],
   "source": [
    "x_train, x_test, y_train, y_test = train_test_split(dataset.inputs, dataset.targets, test_size=10000)"
   ]
  },
  {
   "cell_type": "code",
   "execution_count": 12,
   "id": "57888da8",
   "metadata": {},
   "outputs": [
    {
     "data": {
      "text/plain": [
       "60000"
      ]
     },
     "execution_count": 12,
     "metadata": {},
     "output_type": "execute_result"
    }
   ],
   "source": [
    "len(x_train)"
   ]
  },
  {
   "cell_type": "code",
   "execution_count": 13,
   "id": "3a33193f",
   "metadata": {},
   "outputs": [],
   "source": [
    "pool = Pool(x_train, y_train)"
   ]
  },
  {
   "cell_type": "markdown",
   "id": "4760a2ef",
   "metadata": {},
   "source": [
    "### Define Models"
   ]
  },
  {
   "cell_type": "code",
   "execution_count": 14,
   "id": "904133e9",
   "metadata": {},
   "outputs": [],
   "source": [
    "%autoreload 2\n",
    "fit_params = {\"epochs\": 2, \"batch_size\": 10}\n",
    "compile_params = {\"optimizer\": \"adam\", \"loss\": \"sparse_categorical_crossentropy\", \"metrics\": [keras.metrics.SparseCategoricalAccuracy()]}\n",
    "\n",
    "# Define MC Dropout model\n",
    "mc_model = McDropout(base_model, config=Config(\n",
    "    fit=fit_params,\n",
    "    query={\"sample_size\": 25},\n",
    "    evaluate={\"sample_size\": 25}\n",
    "))\n",
    "mc_model.compile(**compile_params)\n",
    "\n",
    "# Define Moment Propagation model\n",
    "mp_model = MomentPropagation(base_model, config=Config(\n",
    "    fit=fit_params\n",
    "))\n",
    "mp_model.compile(**compile_params)"
   ]
  },
  {
   "cell_type": "code",
   "execution_count": 23,
   "id": "8de2fba1",
   "metadata": {},
   "outputs": [
    {
     "name": "stdout",
     "output_type": "stream",
     "text": [
      "Epoch 1/2\n",
      "6000/6000 [==============================] - 17s 3ms/step - loss: 0.1703 - sparse_categorical_accuracy: 0.9491\n",
      "Epoch 2/2\n",
      "6000/6000 [==============================] - 16s 3ms/step - loss: 0.0786 - sparse_categorical_accuracy: 0.9772\n"
     ]
    },
    {
     "data": {
      "text/plain": [
       "<tensorflow.python.keras.callbacks.History at 0x7f5ab1085550>"
      ]
     },
     "execution_count": 23,
     "metadata": {},
     "output_type": "execute_result"
    }
   ],
   "source": [
    "mc_model.fit(x_train, y_train)"
   ]
  },
  {
   "cell_type": "code",
   "execution_count": 31,
   "id": "064565d1",
   "metadata": {},
   "outputs": [
    {
     "name": "stdout",
     "output_type": "stream",
     "text": [
      "Epoch 1/2\n",
      "6000/6000 [==============================] - 16s 3ms/step - loss: 0.0607 - sparse_categorical_accuracy: 0.9820\n",
      "Epoch 2/2\n",
      "6000/6000 [==============================] - 17s 3ms/step - loss: 0.0499 - sparse_categorical_accuracy: 0.9852\n"
     ]
    },
    {
     "data": {
      "text/plain": [
       "<tensorflow.python.keras.callbacks.History at 0x7f5ab072c550>"
      ]
     },
     "execution_count": 31,
     "metadata": {},
     "output_type": "execute_result"
    }
   ],
   "source": [
    "mp_model.fit(x_train, y_train)"
   ]
  },
  {
   "cell_type": "code",
   "execution_count": 15,
   "id": "45caa618",
   "metadata": {},
   "outputs": [
    {
     "data": {
      "text/plain": [
       "{'loss': 2.273679, 'accuracy': 0.1}"
      ]
     },
     "execution_count": 15,
     "metadata": {},
     "output_type": "execute_result"
    }
   ],
   "source": [
    "mc_model.evaluate(x_test[:10], y_test[:10])"
   ]
  },
  {
   "cell_type": "code",
   "execution_count": 16,
   "id": "7b6bf538",
   "metadata": {},
   "outputs": [
    {
     "data": {
      "text/plain": [
       "{'loss': 2.2762954, 'accuracy': 0.1}"
      ]
     },
     "execution_count": 16,
     "metadata": {},
     "output_type": "execute_result"
    }
   ],
   "source": [
    "mp_model.evaluate(x_test[:10], y_test[:10])"
   ]
  },
  {
   "cell_type": "markdown",
   "id": "fb4505c6",
   "metadata": {},
   "source": [
    "### Try BALD acquisition"
   ]
  },
  {
   "cell_type": "code",
   "execution_count": 18,
   "id": "c66812e5",
   "metadata": {},
   "outputs": [
    {
     "data": {
      "text/plain": [
       "array([0.00209641, 0.00168586, 0.00196457, 0.00379324, 0.00214124,\n",
       "       0.00196004, 0.00176787, 0.00267005, 0.00246286, 0.00182962,\n",
       "       0.00274563, 0.00189328, 0.00464845, 0.00244999, 0.00179839,\n",
       "       0.00290751, 0.00369906, 0.00293708, 0.0013926 , 0.00361896,\n",
       "       0.00314736, 0.00337267, 0.00278759, 0.0035913 , 0.00298953,\n",
       "       0.00273037, 0.00248981, 0.00291824, 0.0052259 , 0.00327992,\n",
       "       0.00248885, 0.00138068, 0.00093818, 0.00144386, 0.00265503,\n",
       "       0.00245547, 0.0046463 , 0.00435209, 0.00219822, 0.00285196,\n",
       "       0.00162506, 0.0037744 , 0.00329876, 0.00086665, 0.00212765,\n",
       "       0.00291276, 0.0045495 , 0.00308037, 0.0036099 , 0.00379062,\n",
       "       0.00362349, 0.00112319, 0.00405765, 0.00297809, 0.00191569,\n",
       "       0.0033021 , 0.00279164, 0.003793  , 0.00370455, 0.00157428,\n",
       "       0.00347328, 0.00240541, 0.00259733, 0.00296855, 0.00294924,\n",
       "       0.00126314, 0.00164056, 0.00266194, 0.002321  , 0.00190973,\n",
       "       0.00345969, 0.00268221, 0.00223446, 0.00276184, 0.00376105,\n",
       "       0.00250387, 0.00314879, 0.00444603, 0.00489306, 0.00282216,\n",
       "       0.00336099, 0.00531793, 0.00233078, 0.00299859, 0.00391102,\n",
       "       0.00318027, 0.00434613, 0.00286031, 0.00423241, 0.00268888,\n",
       "       0.00268984, 0.00320935, 0.00311399, 0.00329828, 0.00156498,\n",
       "       0.00379109, 0.00176573, 0.00314474, 0.00135684, 0.00368524],\n",
       "      dtype=float32)"
      ]
     },
     "execution_count": 18,
     "metadata": {},
     "output_type": "execute_result"
    }
   ],
   "source": [
    "mc_bald = mc_model.get_query_fn(\"bald\")\n",
    "mc_bald(x_train[:100], sample_size=100)"
   ]
  },
  {
   "cell_type": "code",
   "execution_count": 20,
   "id": "6f483493",
   "metadata": {},
   "outputs": [
    {
     "data": {
      "text/plain": [
       "array([0.00237621, 0.00165268, 0.00192264, 0.00360994, 0.00212713,\n",
       "       0.00183214, 0.00171279, 0.00280752, 0.00297937, 0.00197724,\n",
       "       0.00280976, 0.00207319, 0.00369291, 0.00289948, 0.00192857,\n",
       "       0.0034801 , 0.00351019, 0.0027469 , 0.00145434, 0.00392829,\n",
       "       0.00372406, 0.00282721, 0.00282511, 0.00353016, 0.0030396 ,\n",
       "       0.00291649, 0.00237847, 0.0027941 , 0.00540994, 0.00367605,\n",
       "       0.00227967, 0.00150782, 0.00086967, 0.00130275, 0.00267019,\n",
       "       0.00226354, 0.00446372, 0.00457414, 0.00222136, 0.00295883,\n",
       "       0.00170095, 0.00425909, 0.00353157, 0.00099609, 0.00197148,\n",
       "       0.00281927, 0.00454613, 0.00320257, 0.00381227, 0.00406784,\n",
       "       0.00357531, 0.00122683, 0.00386755, 0.00279467, 0.00209988,\n",
       "       0.0038876 , 0.0031816 , 0.00408793, 0.00377251, 0.00150511,\n",
       "       0.00317779, 0.00249727, 0.00240666, 0.00289356, 0.00277155,\n",
       "       0.00145349, 0.00177689, 0.0026517 , 0.00258097, 0.00205553,\n",
       "       0.00318284, 0.00227043, 0.00219924, 0.00284235, 0.00377505,\n",
       "       0.00277453, 0.00309674, 0.00437909, 0.00477269, 0.00282689,\n",
       "       0.0031304 , 0.00465285, 0.00237844, 0.00266826, 0.00439533,\n",
       "       0.00299151, 0.00382458, 0.00296996, 0.00438052, 0.00272024,\n",
       "       0.00280789, 0.00332976, 0.00324121, 0.00387105, 0.00141504,\n",
       "       0.00406705, 0.00169348, 0.00316394, 0.00135349, 0.00404885])"
      ]
     },
     "execution_count": 20,
     "metadata": {},
     "output_type": "execute_result"
    }
   ],
   "source": [
    "mp_bald = mp_model.get_query_fn(\"bald\")\n",
    "mp_bald(x_train[:100], num_samples=100)"
   ]
  },
  {
   "cell_type": "markdown",
   "id": "f84baa2f",
   "metadata": {},
   "source": [
    "## Manual Calculation"
   ]
  },
  {
   "cell_type": "code",
   "execution_count": 66,
   "id": "036d8cfe",
   "metadata": {},
   "outputs": [],
   "source": [
    "import tensorflow as tf\n",
    "from tensorflow.keras import Model, Sequential\n",
    "from tensorflow.keras.layers import Conv2D, MaxPooling2D, Dropout, Dense, Input, Flatten\n",
    "\n",
    "alt_model = Sequential([\n",
    "        Conv2D(32, 3, activation=tf.nn.relu, padding=\"same\", input_shape=(28, 28, 1)),\n",
    "        Conv2D(64, 3, activation=tf.nn.relu, padding=\"same\"),\n",
    "        MaxPooling2D(),\n",
    "        Dropout(.25),\n",
    "        Flatten(),\n",
    "        Dense(128, activation=tf.nn.relu),\n",
    "        Dropout(.5),\n",
    "        Dense(10)        \n",
    "    ])"
   ]
  },
  {
   "cell_type": "code",
   "execution_count": 71,
   "id": "d98fa1a1",
   "metadata": {},
   "outputs": [],
   "source": [
    "%autoreload 2\n",
    "from mp.MomentPropagation import MP\n",
    "\n",
    "test_mp = MP()\n",
    "test_mp_model = test_mp.create_MP_Model(model=alt_model, use_mp=True)"
   ]
  },
  {
   "cell_type": "code",
   "execution_count": 72,
   "id": "87038300",
   "metadata": {},
   "outputs": [],
   "source": [
    "E, V = test_mp_model(x_train[:10])"
   ]
  },
  {
   "cell_type": "code",
   "execution_count": 73,
   "id": "81e4b60e",
   "metadata": {},
   "outputs": [],
   "source": [
    "from scipy.stats import norm"
   ]
  },
  {
   "cell_type": "code",
   "execution_count": 98,
   "id": "ff6ccf15",
   "metadata": {},
   "outputs": [],
   "source": [
    "norm_dist = norm(E, V)\n",
    "sampled_data = norm_dist.rvs(size=(100, 10, 10))"
   ]
  },
  {
   "cell_type": "code",
   "execution_count": 99,
   "id": "309d29bd",
   "metadata": {},
   "outputs": [],
   "source": [
    "sfmx_probs = tf.keras.activations.softmax(tf.convert_to_tensor(sampled_data))"
   ]
  },
  {
   "cell_type": "code",
   "execution_count": 100,
   "id": "0b14a31b",
   "metadata": {},
   "outputs": [],
   "source": [
    "entropy = np.sum(sfmx_probs*np.log(sfmx_probs), -1)"
   ]
  },
  {
   "cell_type": "code",
   "execution_count": 101,
   "id": "d87b95ba",
   "metadata": {},
   "outputs": [],
   "source": [
    "disagreement = np.mean(entropy, axis=0)"
   ]
  },
  {
   "cell_type": "code",
   "execution_count": 102,
   "id": "54b0b5eb",
   "metadata": {},
   "outputs": [
    {
     "data": {
      "text/plain": [
       "array([-2.30162172, -2.30129182, -2.30161925, -2.30201724, -2.30190348,\n",
       "       -2.30160955, -2.30211419, -2.30157319, -2.30167709, -2.3019599 ])"
      ]
     },
     "execution_count": 102,
     "metadata": {},
     "output_type": "execute_result"
    }
   ],
   "source": [
    "disagreement"
   ]
  },
  {
   "cell_type": "code",
   "execution_count": 108,
   "id": "acfd30f7",
   "metadata": {},
   "outputs": [],
   "source": [
    "E_S, V_S = MP.Gaussian_Softmax(E, V)"
   ]
  },
  {
   "cell_type": "code",
   "execution_count": 104,
   "id": "55e10c18",
   "metadata": {},
   "outputs": [],
   "source": [
    "entropy = np.sum(E_S*np.log(E_S), axis=1)"
   ]
  },
  {
   "cell_type": "code",
   "execution_count": 105,
   "id": "de6d4e7d",
   "metadata": {},
   "outputs": [
    {
     "data": {
      "text/plain": [
       "array([-2.3016222, -2.301296 , -2.30163  , -2.302037 , -2.3019164,\n",
       "       -2.301627 , -2.3021183, -2.3015842, -2.3016884, -2.301966 ],\n",
       "      dtype=float32)"
      ]
     },
     "execution_count": 105,
     "metadata": {},
     "output_type": "execute_result"
    }
   ],
   "source": [
    "entropy"
   ]
  },
  {
   "cell_type": "code",
   "execution_count": 106,
   "id": "035c32c9",
   "metadata": {},
   "outputs": [
    {
     "data": {
      "text/plain": [
       "array([4.34272879e-07, 4.18040503e-06, 1.07724302e-05, 1.97578683e-05,\n",
       "       1.28842519e-05, 1.73669160e-05, 4.11638489e-06, 1.10527488e-05,\n",
       "       1.13395817e-05, 6.05630197e-06])"
      ]
     },
     "execution_count": 106,
     "metadata": {},
     "output_type": "execute_result"
    }
   ],
   "source": [
    "(-entropy + disagreement)"
   ]
  },
  {
   "cell_type": "markdown",
   "id": "753f4d58",
   "metadata": {},
   "source": [
    "### Try with softmax distribution"
   ]
  },
  {
   "cell_type": "code",
   "execution_count": 79,
   "id": "c574b2ff",
   "metadata": {},
   "outputs": [],
   "source": [
    "E_S, V_S = MP.Gaussian_Softmax(E, V)"
   ]
  },
  {
   "cell_type": "code",
   "execution_count": 80,
   "id": "99a014c8",
   "metadata": {},
   "outputs": [],
   "source": [
    "sampled_data = norm(E_S, V_S).rvs(size=(100, 10, 10))"
   ]
  },
  {
   "cell_type": "code",
   "execution_count": null,
   "id": "0ffafc17",
   "metadata": {},
   "outputs": [],
   "source": []
  },
  {
   "cell_type": "code",
   "execution_count": null,
   "id": "e1f2489c",
   "metadata": {},
   "outputs": [],
   "source": []
  }
 ],
 "metadata": {
  "kernelspec": {
   "display_name": "Python 3",
   "language": "python",
   "name": "python3"
  },
  "language_info": {
   "codemirror_mode": {
    "name": "ipython",
    "version": 3
   },
   "file_extension": ".py",
   "mimetype": "text/x-python",
   "name": "python",
   "nbconvert_exporter": "python",
   "pygments_lexer": "ipython3",
   "version": "3.8.8"
  }
 },
 "nbformat": 4,
 "nbformat_minor": 5
}
