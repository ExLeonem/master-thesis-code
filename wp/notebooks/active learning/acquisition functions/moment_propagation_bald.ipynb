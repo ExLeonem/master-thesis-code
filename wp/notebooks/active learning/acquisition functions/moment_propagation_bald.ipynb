{
 "cells": [
  {
   "cell_type": "code",
   "execution_count": 1,
   "id": "5670d8f8",
   "metadata": {},
   "outputs": [],
   "source": [
    "%load_ext autoreload"
   ]
  },
  {
   "cell_type": "code",
   "execution_count": 2,
   "id": "ec192ab8",
   "metadata": {},
   "outputs": [],
   "source": [
    "import os, sys"
   ]
  },
  {
   "cell_type": "code",
   "execution_count": 3,
   "id": "bd06e263",
   "metadata": {},
   "outputs": [],
   "source": [
    "import numpy as np\n",
    "import pandas as pd\n",
    "import matplotlib.pyplot as plt\n",
    "import seaborn as sns\n",
    "from sklearn.model_selection import train_test_split\n",
    "\n",
    "import tensorflow as tf\n",
    "import tensorflow.keras as keras"
   ]
  },
  {
   "cell_type": "code",
   "execution_count": 4,
   "id": "00083c45",
   "metadata": {},
   "outputs": [],
   "source": [
    "BASE_PATH = os.path.join(os.getcwd(), \"..\", \"..\", \"..\")\n",
    "MODULES_PATH = os.path.join(BASE_PATH, \"modules\")\n",
    "DATASET_PATH = os.path.join(BASE_PATH, \"datasets\")"
   ]
  },
  {
   "cell_type": "code",
   "execution_count": 5,
   "id": "3d425416",
   "metadata": {},
   "outputs": [],
   "source": [
    "sys.path.append(MODULES_PATH)"
   ]
  },
  {
   "cell_type": "code",
   "execution_count": 6,
   "id": "c4a2debe",
   "metadata": {},
   "outputs": [],
   "source": [
    "from active_learning import Config, AcquisitionFunction, Pool\n",
    "from wrapper import McDropout, MomentPropagation\n",
    "from models import setup_growth, fchollet_cnn\n",
    "from data import BenchmarkData, DataSetType"
   ]
  },
  {
   "cell_type": "code",
   "execution_count": 7,
   "id": "9217dd13",
   "metadata": {},
   "outputs": [],
   "source": [
    "mnist_path = os.path.join(DATASET_PATH, \"mnist\")\n",
    "dataset = BenchmarkData(DataSetType.MNIST, mnist_path)"
   ]
  },
  {
   "cell_type": "code",
   "execution_count": 8,
   "id": "01473435",
   "metadata": {},
   "outputs": [
    {
     "name": "stdout",
     "output_type": "stream",
     "text": [
      "1 Physical GPU's,  1 Logical GPU's\n"
     ]
    }
   ],
   "source": [
    "setup_growth()"
   ]
  },
  {
   "cell_type": "code",
   "execution_count": 9,
   "id": "054f3dc5",
   "metadata": {},
   "outputs": [],
   "source": [
    "base_model = fchollet_cnn(output=10)"
   ]
  },
  {
   "cell_type": "code",
   "execution_count": 10,
   "id": "e7c13864",
   "metadata": {},
   "outputs": [],
   "source": [
    "seed = 90231\n",
    "np.random.seed(seed)\n",
    "tf.random.set_seed(seed)"
   ]
  },
  {
   "cell_type": "markdown",
   "id": "69f4b634",
   "metadata": {},
   "source": [
    "### Split data"
   ]
  },
  {
   "cell_type": "code",
   "execution_count": 11,
   "id": "9e261b9b",
   "metadata": {},
   "outputs": [],
   "source": [
    "x_train, x_test, y_train, y_test = train_test_split(dataset.inputs, dataset.targets, test_size=10000)"
   ]
  },
  {
   "cell_type": "code",
   "execution_count": 12,
   "id": "57888da8",
   "metadata": {},
   "outputs": [
    {
     "data": {
      "text/plain": [
       "60000"
      ]
     },
     "execution_count": 12,
     "metadata": {},
     "output_type": "execute_result"
    }
   ],
   "source": [
    "len(x_train)"
   ]
  },
  {
   "cell_type": "code",
   "execution_count": 13,
   "id": "3a33193f",
   "metadata": {},
   "outputs": [],
   "source": [
    "pool = Pool(x_train, y_train)"
   ]
  },
  {
   "cell_type": "markdown",
   "id": "4760a2ef",
   "metadata": {},
   "source": [
    "### Define Models"
   ]
  },
  {
   "cell_type": "code",
   "execution_count": 14,
   "id": "904133e9",
   "metadata": {},
   "outputs": [],
   "source": [
    "%autoreload 2\n",
    "fit_params = {\"epochs\": 2, \"batch_size\": 10}\n",
    "compile_params = {\"optimizer\": \"adam\", \"loss\": \"sparse_categorical_crossentropy\", \"metrics\": [keras.metrics.SparseCategoricalAccuracy()]}\n",
    "\n",
    "# Define MC Dropout model\n",
    "mc_model = McDropout(base_model, config=Config(\n",
    "    fit=fit_params,\n",
    "    query={\"sample_size\": 25},\n",
    "    evaluate={\"sample_size\": 25}\n",
    "))\n",
    "mc_model.compile(**compile_params)\n",
    "\n",
    "# Define Moment Propagation model\n",
    "mp_model = MomentPropagation(base_model, config=Config(\n",
    "    fit=fit_params\n",
    "))\n",
    "mp_model.compile(**compile_params)"
   ]
  },
  {
   "cell_type": "code",
   "execution_count": 15,
   "id": "8de2fba1",
   "metadata": {},
   "outputs": [
    {
     "name": "stdout",
     "output_type": "stream",
     "text": [
      "Epoch 1/2\n",
      "6000/6000 [==============================] - 16s 3ms/step - loss: 0.1905 - sparse_categorical_accuracy: 0.9426\n",
      "Epoch 2/2\n",
      "6000/6000 [==============================] - 16s 3ms/step - loss: 0.0848 - sparse_categorical_accuracy: 0.9750\n"
     ]
    },
    {
     "data": {
      "text/plain": [
       "<tensorflow.python.keras.callbacks.History at 0x7f46b0115850>"
      ]
     },
     "execution_count": 15,
     "metadata": {},
     "output_type": "execute_result"
    }
   ],
   "source": [
    "mc_model.fit(x_train, y_train)"
   ]
  },
  {
   "cell_type": "code",
   "execution_count": 16,
   "id": "064565d1",
   "metadata": {},
   "outputs": [
    {
     "name": "stdout",
     "output_type": "stream",
     "text": [
      "Epoch 1/2\n",
      "6000/6000 [==============================] - 18s 3ms/step - loss: 0.0648 - sparse_categorical_accuracy: 0.9808\n",
      "Epoch 2/2\n",
      "6000/6000 [==============================] - 17s 3ms/step - loss: 0.0522 - sparse_categorical_accuracy: 0.9844\n"
     ]
    },
    {
     "data": {
      "text/plain": [
       "<tensorflow.python.keras.callbacks.History at 0x7f47b17e0850>"
      ]
     },
     "execution_count": 16,
     "metadata": {},
     "output_type": "execute_result"
    }
   ],
   "source": [
    "mp_model.fit(x_train, y_train)"
   ]
  },
  {
   "cell_type": "code",
   "execution_count": 17,
   "id": "45caa618",
   "metadata": {},
   "outputs": [
    {
     "data": {
      "text/plain": [
       "{'loss': 0.0017364342, 'accuracy': 1.0}"
      ]
     },
     "execution_count": 17,
     "metadata": {},
     "output_type": "execute_result"
    }
   ],
   "source": [
    "mc_model.evaluate(x_test[:10], y_test[:10])"
   ]
  },
  {
   "cell_type": "code",
   "execution_count": 18,
   "id": "7b6bf538",
   "metadata": {},
   "outputs": [
    {
     "data": {
      "text/plain": [
       "{'loss': 0.0017244013, 'accuracy': 1.0}"
      ]
     },
     "execution_count": 18,
     "metadata": {},
     "output_type": "execute_result"
    }
   ],
   "source": [
    "mp_model.evaluate(x_test[:10], y_test[:10])"
   ]
  },
  {
   "cell_type": "markdown",
   "id": "fb4505c6",
   "metadata": {},
   "source": [
    "### Try BALD acquisition"
   ]
  },
  {
   "cell_type": "code",
   "execution_count": 19,
   "id": "c66812e5",
   "metadata": {},
   "outputs": [
    {
     "data": {
      "text/plain": [
       "array([2.69152224e-06, 1.74771436e-03, 2.94139609e-05, 3.97236057e-04,\n",
       "       9.89236636e-04, 4.43089530e-02, 9.76431370e-02, 1.03059769e-01,\n",
       "       8.14773981e-03, 1.31806650e-04, 4.14963029e-02, 2.22752690e-01,\n",
       "       1.76340109e-05, 1.08567276e-03, 1.16066545e-01, 6.72197435e-03,\n",
       "       5.49966544e-02, 4.69741644e-04, 1.17583806e-03, 1.10080272e-01,\n",
       "       1.22740777e-04, 7.47246295e-03, 2.04886030e-02, 2.13370193e-04,\n",
       "       5.27996477e-03, 5.85220987e-04, 1.05642444e-02, 6.58327062e-03,\n",
       "       2.32467744e-02, 8.12176429e-03, 2.72173472e-02, 4.75801416e-02,\n",
       "       1.17077790e-02, 2.81655230e-05, 2.70120144e-01, 4.84878607e-02,\n",
       "       9.69808176e-03, 6.03630953e-03, 6.98673911e-03, 6.20925566e-04,\n",
       "       3.59753706e-03, 5.68607915e-03, 8.25164956e-04, 3.34565993e-05,\n",
       "       3.08435500e-01, 1.11485994e-03, 7.64455944e-02, 2.03689560e-05,\n",
       "       1.98385969e-01, 1.24464370e-02, 1.58697873e-01, 4.70032683e-06,\n",
       "       1.45048097e-01, 1.52271660e-02, 1.68758864e-03, 6.54511678e-04,\n",
       "       4.86356323e-04, 4.58137784e-03, 5.82837965e-05, 1.70046717e-01,\n",
       "       9.92367603e-03, 4.04333510e-03, 1.24576196e-01, 2.83272681e-03,\n",
       "       3.96245799e-04, 5.06383367e-06, 4.56651323e-05, 5.48938215e-02,\n",
       "       7.17444345e-04, 7.98594672e-04, 1.88535079e-03, 1.62234381e-02,\n",
       "       7.59621058e-03, 3.85489641e-03, 6.49168156e-03, 8.81095324e-03,\n",
       "       1.76643766e-03, 6.64877007e-06, 3.47486921e-02, 3.71843926e-04,\n",
       "       3.82734500e-02, 2.03818399e-02, 1.19846240e-02, 8.59948248e-02,\n",
       "       3.39678000e-03, 1.77988550e-05, 9.28315334e-04, 1.75138703e-03,\n",
       "       4.68571708e-02, 3.69850616e-03, 2.88793119e-03, 9.83826176e-05,\n",
       "       1.17932353e-02, 1.50935538e-03, 5.52850589e-03, 5.43433148e-03,\n",
       "       6.97259791e-04, 3.05475056e-04, 7.61110336e-02, 5.11393249e-02],\n",
       "      dtype=float32)"
      ]
     },
     "execution_count": 19,
     "metadata": {},
     "output_type": "execute_result"
    }
   ],
   "source": [
    "mc_bald = mc_model.get_query_fn(\"bald\")\n",
    "mc_bald(x_train[:100], sample_size=100)"
   ]
  },
  {
   "cell_type": "code",
   "execution_count": 20,
   "id": "6f483493",
   "metadata": {},
   "outputs": [
    {
     "data": {
      "text/plain": [
       "array([ 1.15527288e-04, -1.35166444e-03,  1.11645479e-03,  1.43843769e-03,\n",
       "        3.14362407e-03,  2.17596606e-02,  1.68430793e-02,  3.60616119e-02,\n",
       "        6.30286502e-04,  1.03669056e-03,  6.19976894e-02,  2.49540101e-01,\n",
       "       -4.59969021e-04,  6.74851138e-03,  1.27086419e-01,  4.11311535e-03,\n",
       "        7.84893230e-02,  2.11568496e-03, -3.44948374e-04,  4.65166584e-02,\n",
       "       -3.24993361e-03, -9.67022050e-04,  3.13500409e-03,  1.64719784e-03,\n",
       "        1.00264818e-02,  3.57045166e-03,  1.97598255e-02, -1.04861740e-03,\n",
       "        2.36856736e-02,  9.15133327e-03,  6.22308648e-02,  2.88434759e-02,\n",
       "       -2.79475650e-03, -4.01009707e-04,  2.99667917e-01,  6.65881477e-02,\n",
       "        8.55774188e-03,  5.23705754e-03,  1.78617747e-02,  4.02966475e-03,\n",
       "       -8.44746182e-03,  5.06869365e-03,  1.33233388e-02, -3.32076931e-04,\n",
       "        2.46791420e-01,  1.16539059e-02,  6.70872000e-02,  7.96762257e-04,\n",
       "        2.46243354e-01,  8.33244982e-03,  1.48968871e-01, -1.50657531e-04,\n",
       "        4.13716185e-02,  5.32246148e-03,  6.48072674e-03,  2.56202315e-03,\n",
       "       -1.41376936e-04,  3.14820967e-03, -3.04737774e-04,  1.02649974e-01,\n",
       "        5.53505504e-03,  7.24901205e-03,  3.11169551e-02,  3.40684460e-04,\n",
       "        1.29631796e-04, -1.79391566e-04, -2.61013321e-04,  2.45818798e-02,\n",
       "        3.02282459e-03, -3.82097532e-04,  2.05191480e-03,  1.54934090e-03,\n",
       "        1.14812897e-03,  1.51768364e-03, -3.23560449e-03,  2.75374312e-03,\n",
       "        8.06320038e-03,  3.28919872e-04, -2.12265891e-03,  2.47989447e-03,\n",
       "        1.91979983e-02,  1.87851162e-02,  3.15027737e-02,  4.12314695e-02,\n",
       "        4.24345529e-03,  2.83151839e-04,  2.08002174e-03,  1.91204235e-03,\n",
       "        2.96118097e-03,  1.20312135e-03,  1.62081077e-03,  1.63723841e-03,\n",
       "        1.24556597e-02, -1.07478536e-03,  7.09642713e-03, -3.61861795e-03,\n",
       "       -3.75833732e-05,  1.44046609e-03,  1.77096006e-02,  2.34038012e-02])"
      ]
     },
     "execution_count": 20,
     "metadata": {},
     "output_type": "execute_result"
    }
   ],
   "source": [
    "mp_bald = mp_model.get_query_fn(\"bald\")\n",
    "mp_bald(x_train[:100], num_samples=100)"
   ]
  },
  {
   "cell_type": "markdown",
   "id": "f84baa2f",
   "metadata": {},
   "source": [
    "## Difference Monte Carlo approximation and analytical"
   ]
  },
  {
   "cell_type": "code",
   "execution_count": 21,
   "id": "0ffafc17",
   "metadata": {},
   "outputs": [],
   "source": [
    "# Define Moment Propagation model\n",
    "fit_params = {\"epochs\": 10, \"batch_size\": 500}\n",
    "mp_model = MomentPropagation(base_model, config=Config(\n",
    "    fit=fit_params\n",
    "))\n",
    "mp_model.compile(**compile_params)"
   ]
  },
  {
   "cell_type": "code",
   "execution_count": 22,
   "id": "e1f2489c",
   "metadata": {},
   "outputs": [
    {
     "name": "stdout",
     "output_type": "stream",
     "text": [
      "Epoch 1/10\n",
      "120/120 [==============================] - 3s 21ms/step - loss: 0.0288 - sparse_categorical_accuracy: 0.9877\n",
      "Epoch 2/10\n",
      "120/120 [==============================] - 3s 21ms/step - loss: 0.0240 - sparse_categorical_accuracy: 0.9927\n",
      "Epoch 3/10\n",
      "120/120 [==============================] - 3s 21ms/step - loss: 0.0207 - sparse_categorical_accuracy: 0.9938\n",
      "Epoch 4/10\n",
      "120/120 [==============================] - 3s 21ms/step - loss: 0.0170 - sparse_categorical_accuracy: 0.9950\n",
      "Epoch 5/10\n",
      "120/120 [==============================] - 3s 21ms/step - loss: 0.0158 - sparse_categorical_accuracy: 0.9953\n",
      "Epoch 6/10\n",
      "120/120 [==============================] - 3s 22ms/step - loss: 0.0136 - sparse_categorical_accuracy: 0.9956\n",
      "Epoch 7/10\n",
      "120/120 [==============================] - 3s 22ms/step - loss: 0.0127 - sparse_categorical_accuracy: 0.9960\n",
      "Epoch 8/10\n",
      "120/120 [==============================] - 3s 22ms/step - loss: 0.0112 - sparse_categorical_accuracy: 0.9962\n",
      "Epoch 9/10\n",
      "120/120 [==============================] - 3s 21ms/step - loss: 0.0110 - sparse_categorical_accuracy: 0.9962\n",
      "Epoch 10/10\n",
      "120/120 [==============================] - 3s 21ms/step - loss: 0.0099 - sparse_categorical_accuracy: 0.9969\n"
     ]
    },
    {
     "data": {
      "text/plain": [
       "<tensorflow.python.keras.callbacks.History at 0x7f47b1520df0>"
      ]
     },
     "execution_count": 22,
     "metadata": {},
     "output_type": "execute_result"
    }
   ],
   "source": [
    "mp_model.fit(x_train, y_train)"
   ]
  },
  {
   "cell_type": "code",
   "execution_count": 23,
   "id": "8c7021f6",
   "metadata": {},
   "outputs": [
    {
     "data": {
      "text/plain": [
       "{'loss': 0.029292136, 'accuracy': 0.9913}"
      ]
     },
     "execution_count": 23,
     "metadata": {},
     "output_type": "execute_result"
    }
   ],
   "source": [
    "mp_model.evaluate(x_test, y_test)"
   ]
  },
  {
   "cell_type": "code",
   "execution_count": 24,
   "id": "94ab0c71",
   "metadata": {},
   "outputs": [],
   "source": [
    "exp, var = mp_model(x_train[:100])"
   ]
  },
  {
   "cell_type": "code",
   "execution_count": 25,
   "id": "e3d17165",
   "metadata": {},
   "outputs": [
    {
     "ename": "NameError",
     "evalue": "name 'MP' is not defined",
     "output_type": "error",
     "traceback": [
      "\u001b[0;31m---------------------------------------------------------------------------\u001b[0m",
      "\u001b[0;31mNameError\u001b[0m                                 Traceback (most recent call last)",
      "\u001b[0;32m<ipython-input-25-2aa4f56adadc>\u001b[0m in \u001b[0;36m<module>\u001b[0;34m\u001b[0m\n\u001b[0;32m----> 1\u001b[0;31m \u001b[0mexp_s\u001b[0m\u001b[0;34m,\u001b[0m \u001b[0mvar_s\u001b[0m \u001b[0;34m=\u001b[0m \u001b[0mMP\u001b[0m\u001b[0;34m.\u001b[0m\u001b[0mGaussian_Softmax\u001b[0m\u001b[0;34m(\u001b[0m\u001b[0mexp\u001b[0m\u001b[0;34m,\u001b[0m \u001b[0mvar\u001b[0m\u001b[0;34m)\u001b[0m\u001b[0;34m\u001b[0m\u001b[0;34m\u001b[0m\u001b[0m\n\u001b[0m",
      "\u001b[0;31mNameError\u001b[0m: name 'MP' is not defined"
     ]
    }
   ],
   "source": [
    "exp_s, var_s = MP.Gaussian_Softmax(exp, var)"
   ]
  },
  {
   "cell_type": "code",
   "execution_count": null,
   "id": "dd5d8a53",
   "metadata": {},
   "outputs": [],
   "source": [
    "def evaluate(prob, real_targets):\n",
    "    \"\"\"\n",
    "        Evaluate accuracy of predictions.\n",
    "        \n",
    "        Parameters:\n",
    "            prob (numpy.ndarray): Probabilities given by estimator. With optional sample dimension.\n",
    "            real_targets (numpy.ndarray): The real targets\n",
    "            \n",
    "        Returns:\n",
    "            (float) the accuracy of the estimator\n",
    "    \"\"\"\n",
    "    \n",
    "    if len(prob.shape) == 2:\n",
    "        return np.mean(np.argmax(prob, axis=-1)==real_targets, axis=0)\n",
    "    return np.mean(np.argmax(np.mean(sampled_datapoints, axis=0), axis=1)==real_targets)"
   ]
  },
  {
   "cell_type": "code",
   "execution_count": null,
   "id": "7f5351ed",
   "metadata": {},
   "outputs": [],
   "source": [
    "exp_shape = list(exp.shape)\n",
    "sample_sizes = list(np.linspace(0, 100, 101).astype(int))\n",
    "acc = []\n",
    "for size in sample_sizes:\n",
    "    \n",
    "    final_shape = tuple([size] + exp_shape)\n",
    "    sampled_datapoints = norm(exp, var).rvs(size=final_shape)\n",
    "    softmax_output = tf.keras.activations.softmax(tf.convert_to_tensor(sampled_datapoints))\n",
    "    sample_acc = evaluate(softmax_output, y_train[:100])\n",
    "\n",
    "    acc.append(sample_acc)"
   ]
  },
  {
   "cell_type": "code",
   "execution_count": null,
   "id": "9cef9f61",
   "metadata": {},
   "outputs": [],
   "source": [
    "real_acc = evaluate(exp_s, y_train[:100])"
   ]
  },
  {
   "cell_type": "code",
   "execution_count": null,
   "id": "5b79fe86",
   "metadata": {},
   "outputs": [],
   "source": [
    "fig = plt.figure()\n",
    "plt.plot(sample_sizes, acc, label=\"Analytical acc.\")\n",
    "plt.plot(sample_sizes, [real_acc]*len(sample_sizes), label=\"Monte Carlo acc.\")\n",
    "\n",
    "plt.legend()\n",
    "plt.grid()\n",
    "plt.xlabel(\"Number of Samples\")\n",
    "plt.ylabel(\"Accuracy\")\n",
    "plt.title(\"Estimator Accuracy\")\n",
    "plt.show()"
   ]
  },
  {
   "cell_type": "code",
   "execution_count": null,
   "id": "fbd35aaa",
   "metadata": {},
   "outputs": [],
   "source": [
    "approx_entropy = np.sum(exp_s*np.log(exp_s+.001), axis=1)\n",
    "approx_entropy"
   ]
  },
  {
   "cell_type": "code",
   "execution_count": null,
   "id": "35893725",
   "metadata": {},
   "outputs": [],
   "source": [
    "final_shape = tuple([100] + exp_shape)\n",
    "sampled_datapoints = norm(exp, var).rvs(size=final_shape)\n",
    "softmax_output = tf.keras.activations.softmax(tf.convert_to_tensor(sampled_datapoints))\n",
    "sample_acc = evaluate(softmax_output, y_train[:100])"
   ]
  },
  {
   "cell_type": "code",
   "execution_count": null,
   "id": "1e9e34f3",
   "metadata": {},
   "outputs": [],
   "source": [
    "sampled_datapoints.shape"
   ]
  },
  {
   "cell_type": "code",
   "execution_count": null,
   "id": "431e8dc9",
   "metadata": {},
   "outputs": [],
   "source": [
    "sample_probs = tf.keras.activations.softmax(tf.convert_to_tensor(sampled_datapoints))\n",
    "\n",
    "# mean_probs = np.mean(sample_probs, axis=0)\n",
    "# sample_entropy = np.sum(mean_probs*np.log(mean_probs+.001), axis=-1)\n",
    "\n",
    "sample_entropy = np.sum(sample_probs*np.log(sample_probs+.001), axis=-1)\n",
    "sample_entropy = np.sum(sample_entropy, axis=0)/len(sample_entropy)"
   ]
  },
  {
   "cell_type": "code",
   "execution_count": null,
   "id": "ff450181",
   "metadata": {},
   "outputs": [],
   "source": [
    "sample_entropy.shape"
   ]
  },
  {
   "cell_type": "code",
   "execution_count": null,
   "id": "98f72f91",
   "metadata": {},
   "outputs": [],
   "source": [
    "plt.plot(sample_entropy, label=\"Sample entropy\")\n",
    "plt.plot(approx_entropy, label=\"Approx. entropy\")\n",
    "plt.legend()\n",
    "plt.plot()"
   ]
  },
  {
   "cell_type": "markdown",
   "id": "eb6fff4d",
   "metadata": {},
   "source": [
    "## Condfidence interval"
   ]
  },
  {
   "cell_type": "code",
   "execution_count": null,
   "id": "bca0fdad",
   "metadata": {},
   "outputs": [],
   "source": [
    "# https://stackoverflow.com/questions/15033511/compute-a-confidence-interval-from-sample-data\n",
    "# https://blog.finxter.com/how-to-plot-the-confidence-interval-in-python/\n",
    "import scipy.stats as st"
   ]
  },
  {
   "cell_type": "code",
   "execution_count": null,
   "id": "94516abf",
   "metadata": {},
   "outputs": [],
   "source": [
    "sample_probs = tf.keras.activations.softmax(tf.convert_to_tensor(sampled_datapoints))"
   ]
  },
  {
   "cell_type": "code",
   "execution_count": null,
   "id": "6f12bed7",
   "metadata": {},
   "outputs": [],
   "source": [
    "res = st.t.interval(0.95, len(sample_probs)-1, loc=np.mean(sample_probs, axis=0), scale=st.sem(sample_probs))"
   ]
  },
  {
   "cell_type": "code",
   "execution_count": null,
   "id": "b440f11e",
   "metadata": {},
   "outputs": [],
   "source": []
  },
  {
   "cell_type": "code",
   "execution_count": null,
   "id": "1e0556de",
   "metadata": {},
   "outputs": [],
   "source": []
  }
 ],
 "metadata": {
  "kernelspec": {
   "display_name": "Python 3",
   "language": "python",
   "name": "python3"
  },
  "language_info": {
   "codemirror_mode": {
    "name": "ipython",
    "version": 3
   },
   "file_extension": ".py",
   "mimetype": "text/x-python",
   "name": "python",
   "nbconvert_exporter": "python",
   "pygments_lexer": "ipython3",
   "version": "3.8.8"
  }
 },
 "nbformat": 4,
 "nbformat_minor": 5
}
