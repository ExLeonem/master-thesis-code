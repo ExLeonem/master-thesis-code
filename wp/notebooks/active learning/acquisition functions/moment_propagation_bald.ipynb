{
 "cells": [
  {
   "cell_type": "code",
   "execution_count": 26,
   "id": "5670d8f8",
   "metadata": {},
   "outputs": [
    {
     "name": "stdout",
     "output_type": "stream",
     "text": [
      "The autoreload extension is already loaded. To reload it, use:\n",
      "  %reload_ext autoreload\n"
     ]
    }
   ],
   "source": [
    "%load_ext autoreload"
   ]
  },
  {
   "cell_type": "code",
   "execution_count": 27,
   "id": "ec192ab8",
   "metadata": {},
   "outputs": [],
   "source": [
    "import os, sys"
   ]
  },
  {
   "cell_type": "code",
   "execution_count": 28,
   "id": "bd06e263",
   "metadata": {},
   "outputs": [],
   "source": [
    "import numpy as np\n",
    "import pandas as pd\n",
    "import matplotlib.pyplot as plt\n",
    "import seaborn as sns\n",
    "from sklearn.model_selection import train_test_split\n",
    "\n",
    "import tensorflow as tf\n",
    "import tensorflow.keras as keras"
   ]
  },
  {
   "cell_type": "code",
   "execution_count": 29,
   "id": "00083c45",
   "metadata": {},
   "outputs": [],
   "source": [
    "BASE_PATH = os.path.join(os.getcwd(), \"..\", \"..\", \"..\")\n",
    "MODULES_PATH = os.path.join(BASE_PATH, \"modules\")\n",
    "DATASET_PATH = os.path.join(BASE_PATH, \"datasets\")"
   ]
  },
  {
   "cell_type": "code",
   "execution_count": 30,
   "id": "3d425416",
   "metadata": {},
   "outputs": [],
   "source": [
    "sys.path.append(MODULES_PATH)"
   ]
  },
  {
   "cell_type": "code",
   "execution_count": 55,
   "id": "c4a2debe",
   "metadata": {},
   "outputs": [],
   "source": [
    "from active_learning import Config, AcquisitionFunction, Pool\n",
    "from wrapper import McDropout, MomentPropagation\n",
    "from models import setup_growth, fchollet_cnn\n",
    "from data import BenchmarkData, DataSetType\n",
    "from mp.MomentPropagation import MP"
   ]
  },
  {
   "cell_type": "code",
   "execution_count": 32,
   "id": "9217dd13",
   "metadata": {},
   "outputs": [],
   "source": [
    "mnist_path = os.path.join(DATASET_PATH, \"mnist\")\n",
    "dataset = BenchmarkData(DataSetType.MNIST, mnist_path)"
   ]
  },
  {
   "cell_type": "code",
   "execution_count": 33,
   "id": "01473435",
   "metadata": {},
   "outputs": [
    {
     "name": "stdout",
     "output_type": "stream",
     "text": [
      "1 Physical GPU's,  1 Logical GPU's\n"
     ]
    }
   ],
   "source": [
    "setup_growth()"
   ]
  },
  {
   "cell_type": "code",
   "execution_count": 34,
   "id": "054f3dc5",
   "metadata": {},
   "outputs": [],
   "source": [
    "base_model = fchollet_cnn(output=10)"
   ]
  },
  {
   "cell_type": "code",
   "execution_count": 35,
   "id": "e7c13864",
   "metadata": {},
   "outputs": [],
   "source": [
    "seed = 90231\n",
    "np.random.seed(seed)\n",
    "tf.random.set_seed(seed)"
   ]
  },
  {
   "cell_type": "markdown",
   "id": "69f4b634",
   "metadata": {},
   "source": [
    "### Split data"
   ]
  },
  {
   "cell_type": "code",
   "execution_count": 36,
   "id": "9e261b9b",
   "metadata": {},
   "outputs": [],
   "source": [
    "x_train, x_test, y_train, y_test = train_test_split(dataset.inputs, dataset.targets, test_size=10000)"
   ]
  },
  {
   "cell_type": "code",
   "execution_count": 37,
   "id": "57888da8",
   "metadata": {},
   "outputs": [
    {
     "data": {
      "text/plain": [
       "60000"
      ]
     },
     "execution_count": 37,
     "metadata": {},
     "output_type": "execute_result"
    }
   ],
   "source": [
    "len(x_train)"
   ]
  },
  {
   "cell_type": "code",
   "execution_count": 38,
   "id": "3a33193f",
   "metadata": {},
   "outputs": [],
   "source": [
    "pool = Pool(x_train, y_train)"
   ]
  },
  {
   "cell_type": "markdown",
   "id": "4760a2ef",
   "metadata": {},
   "source": [
    "### Define Models"
   ]
  },
  {
   "cell_type": "code",
   "execution_count": 39,
   "id": "904133e9",
   "metadata": {},
   "outputs": [],
   "source": [
    "%autoreload 2\n",
    "fit_params = {\"epochs\": 2, \"batch_size\": 10}\n",
    "compile_params = {\"optimizer\": \"adam\", \"loss\": \"sparse_categorical_crossentropy\", \"metrics\": [keras.metrics.SparseCategoricalAccuracy()]}\n",
    "\n",
    "# Define MC Dropout model\n",
    "mc_model = McDropout(base_model, config=Config(\n",
    "    fit=fit_params,\n",
    "    query={\"sample_size\": 25},\n",
    "    evaluate={\"sample_size\": 25}\n",
    "))\n",
    "mc_model.compile(**compile_params)\n",
    "\n",
    "# Define Moment Propagation model\n",
    "mp_model = MomentPropagation(base_model, config=Config(\n",
    "    fit=fit_params\n",
    "))\n",
    "mp_model.compile(**compile_params)"
   ]
  },
  {
   "cell_type": "code",
   "execution_count": 40,
   "id": "8de2fba1",
   "metadata": {},
   "outputs": [
    {
     "name": "stdout",
     "output_type": "stream",
     "text": [
      "Epoch 1/2\n",
      "6000/6000 [==============================] - 19s 3ms/step - loss: 0.1839 - sparse_categorical_accuracy: 0.9447\n",
      "Epoch 2/2\n",
      "6000/6000 [==============================] - 19s 3ms/step - loss: 0.0825 - sparse_categorical_accuracy: 0.9751\n"
     ]
    },
    {
     "data": {
      "text/plain": [
       "<tensorflow.python.keras.callbacks.History at 0x7f47b17cb4c0>"
      ]
     },
     "execution_count": 40,
     "metadata": {},
     "output_type": "execute_result"
    }
   ],
   "source": [
    "mc_model.fit(x_train, y_train)"
   ]
  },
  {
   "cell_type": "code",
   "execution_count": 41,
   "id": "064565d1",
   "metadata": {},
   "outputs": [
    {
     "name": "stdout",
     "output_type": "stream",
     "text": [
      "Epoch 1/2\n",
      "6000/6000 [==============================] - 19s 3ms/step - loss: 0.0647 - sparse_categorical_accuracy: 0.9814\n",
      "Epoch 2/2\n",
      "6000/6000 [==============================] - 19s 3ms/step - loss: 0.0528 - sparse_categorical_accuracy: 0.9840\n"
     ]
    },
    {
     "data": {
      "text/plain": [
       "<tensorflow.python.keras.callbacks.History at 0x7f479e0ec820>"
      ]
     },
     "execution_count": 41,
     "metadata": {},
     "output_type": "execute_result"
    }
   ],
   "source": [
    "mp_model.fit(x_train, y_train)"
   ]
  },
  {
   "cell_type": "code",
   "execution_count": 42,
   "id": "45caa618",
   "metadata": {},
   "outputs": [
    {
     "data": {
      "text/plain": [
       "{'loss': 0.009422507, 'accuracy': 0.99}"
      ]
     },
     "execution_count": 42,
     "metadata": {},
     "output_type": "execute_result"
    }
   ],
   "source": [
    "mc_model.evaluate(x_test[:10], y_test[:10])"
   ]
  },
  {
   "cell_type": "code",
   "execution_count": 43,
   "id": "7b6bf538",
   "metadata": {},
   "outputs": [
    {
     "data": {
      "text/plain": [
       "{'loss': 0.0053479476, 'accuracy': 1.0}"
      ]
     },
     "execution_count": 43,
     "metadata": {},
     "output_type": "execute_result"
    }
   ],
   "source": [
    "mp_model.evaluate(x_test[:10], y_test[:10])"
   ]
  },
  {
   "cell_type": "markdown",
   "id": "fb4505c6",
   "metadata": {},
   "source": [
    "### Try BALD acquisition"
   ]
  },
  {
   "cell_type": "code",
   "execution_count": 44,
   "id": "c66812e5",
   "metadata": {},
   "outputs": [
    {
     "data": {
      "text/plain": [
       "array([ 8.46402108e-05,  3.90798599e-03,  9.60496836e-05,  1.44511461e-04,\n",
       "        1.59085356e-03,  1.44567303e-02,  3.55356038e-02,  5.87436929e-03,\n",
       "        2.87884707e-03,  5.44892158e-04,  3.40347737e-02,  7.95551836e-02,\n",
       "       -3.59723344e-08,  1.12118749e-02,  5.64376712e-02,  3.63080651e-02,\n",
       "        8.31594504e-03,  7.92873558e-04,  2.02458003e-04,  1.03884988e-01,\n",
       "        4.15401184e-04,  4.71066870e-03,  5.39353467e-04,  1.42735254e-04,\n",
       "        4.18187156e-02,  4.31499630e-03,  2.98442459e-03,  1.21529445e-01,\n",
       "        2.87947208e-02,  1.93123948e-02,  2.55178958e-02,  1.14931297e-02,\n",
       "        2.22313451e-04,  1.08397682e-04,  2.88233161e-02,  2.94004707e-03,\n",
       "        5.18312529e-02,  2.90367231e-02,  9.82805900e-03,  1.47705218e-02,\n",
       "        3.04977875e-03,  8.33836384e-04,  3.57616181e-03,  2.83565698e-03,\n",
       "        3.60405505e-01,  6.21433649e-03,  9.32621537e-04,  1.22019876e-04,\n",
       "        1.83159649e-01,  1.31436950e-03,  4.32809234e-01,  1.00401172e-03,\n",
       "        5.84329478e-03,  6.70899078e-03,  6.65696412e-02,  1.52519159e-03,\n",
       "        1.80227980e-02,  4.37870342e-03,  7.12566543e-06,  6.64697364e-02,\n",
       "        5.38273454e-02,  2.62295082e-03,  1.98576171e-02,  6.86817570e-04,\n",
       "        6.71347138e-03,  2.56174710e-04,  3.33646109e-04,  3.15538943e-02,\n",
       "        1.10240886e-02,  5.47929015e-03,  2.51600082e-04,  1.33651718e-02,\n",
       "        2.05374006e-02,  1.46678113e-03,  2.71073636e-03,  1.18284975e-03,\n",
       "        4.21441160e-03,  4.65121702e-05,  3.23611777e-03,  3.93411494e-04,\n",
       "        1.89762656e-02,  6.56935852e-04,  4.77012694e-02,  6.66976944e-02,\n",
       "        1.86873553e-03,  2.17696652e-08,  2.00536055e-03,  7.09873857e-05,\n",
       "        1.58363402e-01,  1.08013377e-02,  5.21497568e-05,  3.01172491e-03,\n",
       "        4.91989311e-03,  1.81083707e-03,  6.49705678e-02,  3.79002690e-02,\n",
       "        1.22486679e-02,  3.15156998e-04,  1.19829662e-02,  3.63489203e-02],\n",
       "      dtype=float32)"
      ]
     },
     "execution_count": 44,
     "metadata": {},
     "output_type": "execute_result"
    }
   ],
   "source": [
    "mc_bald = mc_model.get_query_fn(\"bald\")\n",
    "mc_bald(x_train[:100], sample_size=100)"
   ]
  },
  {
   "cell_type": "code",
   "execution_count": 45,
   "id": "6f483493",
   "metadata": {},
   "outputs": [
    {
     "data": {
      "text/plain": [
       "array([ 7.42729608e-04,  1.76978921e-03,  3.49302803e-03,  4.78051678e-03,\n",
       "        8.60639683e-03,  1.31224762e-02,  6.48681899e-02,  1.44858278e-02,\n",
       "        1.12911573e-02,  8.29900651e-03,  9.80393102e-02,  2.26690398e-01,\n",
       "       -1.65253049e-04,  7.70954995e-03,  1.19697696e-01,  8.20378193e-02,\n",
       "        3.24918711e-03,  5.44569598e-03,  9.90330261e-04,  1.68480516e-01,\n",
       "        8.67048225e-04,  4.68880806e-05,  1.00771283e-02,  1.50670477e-02,\n",
       "        1.48767696e-02,  4.11383391e-03,  1.59411463e-02,  3.34168769e-02,\n",
       "        7.71447857e-02,  1.18437275e-02,  7.83678191e-02,  9.41304827e-03,\n",
       "        3.77882449e-04,  1.85300208e-04,  1.93254443e-01,  5.23323600e-02,\n",
       "        4.85518684e-02,  1.31238944e-02,  3.15715603e-02,  7.84508613e-03,\n",
       "       -5.85351265e-03,  7.68433155e-03,  4.21097117e-03, -1.67234327e-03,\n",
       "        4.17850617e-01,  1.87516133e-02,  1.46958734e-02,  2.09753006e-03,\n",
       "        2.78780686e-01,  2.88134063e-03,  5.21402489e-01,  9.79643348e-05,\n",
       "        2.02195378e-02,  1.59958104e-03,  3.16513046e-02,  1.98970942e-02,\n",
       "        2.22221991e-02,  4.83870826e-03,  6.42421760e-04,  6.61844310e-02,\n",
       "        4.84650747e-02,  1.70933062e-02,  3.20263121e-02,  3.12187383e-03,\n",
       "       -7.03430551e-03, -9.35516025e-04, -7.24849211e-04,  2.42500852e-02,\n",
       "        1.01217635e-02,  9.21760951e-03,  1.01725849e-03,  1.31547462e-02,\n",
       "        6.49496293e-04,  1.05500541e-02, -3.33504486e-03,  1.16205427e-03,\n",
       "        6.67732375e-03,  8.72651727e-04,  2.77838282e-03,  6.19177031e-03,\n",
       "        2.49441064e-03,  3.40351056e-03,  1.82527828e-01,  3.01895782e-02,\n",
       "        4.45131571e-03,  1.68754618e-04,  4.55408819e-03,  1.79801196e-03,\n",
       "        8.34624202e-02,  8.34697196e-03,  1.57246376e-03,  2.79550429e-03,\n",
       "        1.10467929e-02,  8.08866237e-03,  7.55220233e-02,  5.36047552e-03,\n",
       "        8.07563721e-04, -1.21209753e-03,  2.93604121e-02,  7.33259818e-02])"
      ]
     },
     "execution_count": 45,
     "metadata": {},
     "output_type": "execute_result"
    }
   ],
   "source": [
    "mp_bald = mp_model.get_query_fn(\"bald\")\n",
    "mp_bald(x_train[:100], num_samples=100)"
   ]
  },
  {
   "cell_type": "markdown",
   "id": "f84baa2f",
   "metadata": {},
   "source": [
    "## Difference Monte Carlo approximation and analytical"
   ]
  },
  {
   "cell_type": "code",
   "execution_count": 57,
   "id": "0ffafc17",
   "metadata": {},
   "outputs": [],
   "source": [
    "# Define Moment Propagation model\n",
    "fit_params = {\"epochs\": 10, \"batch_size\": 500}\n",
    "mp_model = MomentPropagation(base_model, config=Config(\n",
    "    fit=fit_params\n",
    "))\n",
    "mp_model.compile(**compile_params)"
   ]
  },
  {
   "cell_type": "code",
   "execution_count": 58,
   "id": "e1f2489c",
   "metadata": {},
   "outputs": [
    {
     "name": "stdout",
     "output_type": "stream",
     "text": [
      "Epoch 1/10\n",
      "120/120 [==============================] - 3s 22ms/step - loss: 0.0058 - sparse_categorical_accuracy: 0.9974\n",
      "Epoch 2/10\n",
      "120/120 [==============================] - 3s 22ms/step - loss: 0.0048 - sparse_categorical_accuracy: 0.9985\n",
      "Epoch 3/10\n",
      "120/120 [==============================] - 3s 22ms/step - loss: 0.0051 - sparse_categorical_accuracy: 0.9984\n",
      "Epoch 4/10\n",
      "120/120 [==============================] - 3s 22ms/step - loss: 0.0034 - sparse_categorical_accuracy: 0.9991\n",
      "Epoch 5/10\n",
      "120/120 [==============================] - 3s 21ms/step - loss: 0.0041 - sparse_categorical_accuracy: 0.9987\n",
      "Epoch 6/10\n",
      "120/120 [==============================] - 3s 21ms/step - loss: 0.0031 - sparse_categorical_accuracy: 0.9990\n",
      "Epoch 7/10\n",
      "120/120 [==============================] - 3s 21ms/step - loss: 0.0034 - sparse_categorical_accuracy: 0.9988\n",
      "Epoch 8/10\n",
      "120/120 [==============================] - 3s 21ms/step - loss: 0.0027 - sparse_categorical_accuracy: 0.9992\n",
      "Epoch 9/10\n",
      "120/120 [==============================] - 3s 21ms/step - loss: 0.0024 - sparse_categorical_accuracy: 0.9992\n",
      "Epoch 10/10\n",
      "120/120 [==============================] - 3s 21ms/step - loss: 0.0027 - sparse_categorical_accuracy: 0.9991\n"
     ]
    },
    {
     "data": {
      "text/plain": [
       "<tensorflow.python.keras.callbacks.History at 0x7f476ffd1d60>"
      ]
     },
     "execution_count": 58,
     "metadata": {},
     "output_type": "execute_result"
    }
   ],
   "source": [
    "mp_model.fit(x_train, y_train)"
   ]
  },
  {
   "cell_type": "code",
   "execution_count": 59,
   "id": "8c7021f6",
   "metadata": {},
   "outputs": [
    {
     "data": {
      "text/plain": [
       "{'loss': 0.028721774, 'accuracy': 0.9922}"
      ]
     },
     "execution_count": 59,
     "metadata": {},
     "output_type": "execute_result"
    }
   ],
   "source": [
    "mp_model.evaluate(x_test, y_test)"
   ]
  },
  {
   "cell_type": "code",
   "execution_count": 160,
   "id": "94ab0c71",
   "metadata": {},
   "outputs": [],
   "source": [
    "exp, var = mp_model(x_test[:100])"
   ]
  },
  {
   "cell_type": "code",
   "execution_count": 161,
   "id": "e3d17165",
   "metadata": {},
   "outputs": [],
   "source": [
    "exp_s, var_s = MP.Gaussian_Softmax(exp, var)"
   ]
  },
  {
   "cell_type": "code",
   "execution_count": 162,
   "id": "dd5d8a53",
   "metadata": {},
   "outputs": [],
   "source": [
    "def evaluate(prob, real_targets):\n",
    "    \"\"\"\n",
    "        Evaluate accuracy of predictions.\n",
    "        \n",
    "        Parameters:\n",
    "            prob (numpy.ndarray): Probabilities given by estimator. With optional sample dimension.\n",
    "            real_targets (numpy.ndarray): The real targets\n",
    "            \n",
    "        Returns:\n",
    "            (float) the accuracy of the estimator\n",
    "    \"\"\"\n",
    "    \n",
    "    if len(prob.shape) == 2:\n",
    "        return np.mean(np.argmax(prob, axis=-1)==real_targets, axis=0)\n",
    "    \n",
    "    return np.mean(np.argmax(np.mean(sampled_datapoints, axis=0), axis=1)==real_targets)"
   ]
  },
  {
   "cell_type": "code",
   "execution_count": 173,
   "id": "7f5351ed",
   "metadata": {},
   "outputs": [
    {
     "name": "stdout",
     "output_type": "stream",
     "text": [
      "[   20 10020 20020]\n"
     ]
    }
   ],
   "source": [
    "from scipy.stats import norm\n",
    "\n",
    "exp_shape = list(exp.shape)\n",
    "sample_sizes = np.arange(20, 21000, 10000)\n",
    "acc = []\n",
    "std = []\n",
    "mean = []\n",
    "\n",
    "print(sample_sizes)\n",
    "\n",
    "for size in sample_sizes:\n",
    "    final_shape = tuple([size] + exp_shape)\n",
    "    sampled_datapoints = norm(exp, np.sqrt(var)).rvs(size=final_shape)\n",
    "\n",
    "    softmax_output = tf.keras.activations.softmax(tf.convert_to_tensor(sampled_datapoints))\n",
    "    sample_acc = evaluate(softmax_output, y_train[:100])\n",
    "    mean.append(np.mean(softmax_output, axis=0))\n",
    "    std.append(np.std(softmax_output, axis=0))\n",
    "    #acc.append(sample_acc)"
   ]
  },
  {
   "cell_type": "code",
   "execution_count": 174,
   "id": "9cef9f61",
   "metadata": {},
   "outputs": [],
   "source": [
    "real_acc = evaluate(exp_s, y_train[:100])"
   ]
  },
  {
   "cell_type": "code",
   "execution_count": 175,
   "id": "91e6ffcd",
   "metadata": {},
   "outputs": [
    {
     "data": {
      "text/plain": [
       "array([   20, 10020, 20020])"
      ]
     },
     "execution_count": 175,
     "metadata": {},
     "output_type": "execute_result"
    }
   ],
   "source": [
    "sample_sizes"
   ]
  },
  {
   "cell_type": "code",
   "execution_count": 189,
   "id": "ac64f18a",
   "metadata": {},
   "outputs": [],
   "source": [
    "exp_s_norm = np.linalg.norm(exp_s)\n",
    "mean_scalar = list(map(lambda x: np.diag(np.dot(exp_s, x.T))/(exp_s_norm*np.linalg.norm(x)), mean))\n",
    "\n",
    "var_s_norm = np.linalg.norm(var_s)\n",
    "std_scalar = list(map(lambda x: np.diag(np.dot(np.sqrt(var_s), x.T))/(var_s_norm*np.linalg.norm(x)) , std))"
   ]
  },
  {
   "cell_type": "code",
   "execution_count": 193,
   "id": "f7686e43",
   "metadata": {},
   "outputs": [
    {
     "data": {
      "image/png": "[encoded data removed]",
      "text/plain": [
       "<Figure size 432x288 with 1 Axes>"
      ]
     },
     "metadata": {
      "needs_background": "light"
     },
     "output_type": "display_data"
    }
   ],
   "source": [
    "plt.plot(np.vstack(mean_scalar).T, label=sample_sizes)\n",
    "plt.legend()\n",
    "plt.grid()\n",
    "plt.show()"
   ]
  },
  {
   "cell_type": "code",
   "execution_count": 192,
   "id": "84af1f47",
   "metadata": {},
   "outputs": [
    {
     "data": {
      "image/png": "[encoded data removed]",
      "text/plain": [
       "<Figure size 432x288 with 1 Axes>"
      ]
     },
     "metadata": {
      "needs_background": "light"
     },
     "output_type": "display_data"
    }
   ],
   "source": [
    "plt.plot(np.vstack(std_scalar).T, label=sample_sizes)\n",
    "plt.legend()\n",
    "plt.grid()\n",
    "plt.show()"
   ]
  },
  {
   "cell_type": "code",
   "execution_count": 181,
   "id": "3d43077b",
   "metadata": {},
   "outputs": [
    {
     "ename": "ValueError",
     "evalue": "x and y must have same first dimension, but have shapes (3,) and (0,)",
     "output_type": "error",
     "traceback": [
      "\u001b[0;31m---------------------------------------------------------------------------\u001b[0m",
      "\u001b[0;31mValueError\u001b[0m                                Traceback (most recent call last)",
      "\u001b[0;32m<ipython-input-181-d2f48384383a>\u001b[0m in \u001b[0;36m<module>\u001b[0;34m\u001b[0m\n\u001b[1;32m      1\u001b[0m \u001b[0mfig\u001b[0m \u001b[0;34m=\u001b[0m \u001b[0mplt\u001b[0m\u001b[0;34m.\u001b[0m\u001b[0mfigure\u001b[0m\u001b[0;34m(\u001b[0m\u001b[0;34m)\u001b[0m\u001b[0;34m\u001b[0m\u001b[0;34m\u001b[0m\u001b[0m\n\u001b[0;32m----> 2\u001b[0;31m \u001b[0mplt\u001b[0m\u001b[0;34m.\u001b[0m\u001b[0mplot\u001b[0m\u001b[0;34m(\u001b[0m\u001b[0msample_sizes\u001b[0m\u001b[0;34m,\u001b[0m \u001b[0macc\u001b[0m\u001b[0;34m,\u001b[0m \u001b[0mlabel\u001b[0m\u001b[0;34m=\u001b[0m\u001b[0;34m\"Analytical acc.\"\u001b[0m\u001b[0;34m)\u001b[0m\u001b[0;34m\u001b[0m\u001b[0;34m\u001b[0m\u001b[0m\n\u001b[0m\u001b[1;32m      3\u001b[0m \u001b[0mplt\u001b[0m\u001b[0;34m.\u001b[0m\u001b[0mplot\u001b[0m\u001b[0;34m(\u001b[0m\u001b[0msample_sizes\u001b[0m\u001b[0;34m,\u001b[0m \u001b[0;34m[\u001b[0m\u001b[0mreal_acc\u001b[0m\u001b[0;34m]\u001b[0m\u001b[0;34m*\u001b[0m\u001b[0mlen\u001b[0m\u001b[0;34m(\u001b[0m\u001b[0msample_sizes\u001b[0m\u001b[0;34m)\u001b[0m\u001b[0;34m,\u001b[0m \u001b[0mlabel\u001b[0m\u001b[0;34m=\u001b[0m\u001b[0;34m\"Monte Carlo acc.\"\u001b[0m\u001b[0;34m)\u001b[0m\u001b[0;34m\u001b[0m\u001b[0;34m\u001b[0m\u001b[0m\n\u001b[1;32m      4\u001b[0m \u001b[0;34m\u001b[0m\u001b[0m\n\u001b[1;32m      5\u001b[0m \u001b[0;34m\u001b[0m\u001b[0m\n",
      "\u001b[0;32m~/.anaconda/envs/mp/lib/python3.8/site-packages/matplotlib/pyplot.py\u001b[0m in \u001b[0;36mplot\u001b[0;34m(scalex, scaley, data, *args, **kwargs)\u001b[0m\n\u001b[1;32m   3017\u001b[0m \u001b[0;34m@\u001b[0m\u001b[0m_copy_docstring_and_deprecators\u001b[0m\u001b[0;34m(\u001b[0m\u001b[0mAxes\u001b[0m\u001b[0;34m.\u001b[0m\u001b[0mplot\u001b[0m\u001b[0;34m)\u001b[0m\u001b[0;34m\u001b[0m\u001b[0;34m\u001b[0m\u001b[0m\n\u001b[1;32m   3018\u001b[0m \u001b[0;32mdef\u001b[0m \u001b[0mplot\u001b[0m\u001b[0;34m(\u001b[0m\u001b[0;34m*\u001b[0m\u001b[0margs\u001b[0m\u001b[0;34m,\u001b[0m \u001b[0mscalex\u001b[0m\u001b[0;34m=\u001b[0m\u001b[0;32mTrue\u001b[0m\u001b[0;34m,\u001b[0m \u001b[0mscaley\u001b[0m\u001b[0;34m=\u001b[0m\u001b[0;32mTrue\u001b[0m\u001b[0;34m,\u001b[0m \u001b[0mdata\u001b[0m\u001b[0;34m=\u001b[0m\u001b[0;32mNone\u001b[0m\u001b[0;34m,\u001b[0m \u001b[0;34m**\u001b[0m\u001b[0mkwargs\u001b[0m\u001b[0;34m)\u001b[0m\u001b[0;34m:\u001b[0m\u001b[0;34m\u001b[0m\u001b[0;34m\u001b[0m\u001b[0m\n\u001b[0;32m-> 3019\u001b[0;31m     return gca().plot(\n\u001b[0m\u001b[1;32m   3020\u001b[0m         \u001b[0;34m*\u001b[0m\u001b[0margs\u001b[0m\u001b[0;34m,\u001b[0m \u001b[0mscalex\u001b[0m\u001b[0;34m=\u001b[0m\u001b[0mscalex\u001b[0m\u001b[0;34m,\u001b[0m \u001b[0mscaley\u001b[0m\u001b[0;34m=\u001b[0m\u001b[0mscaley\u001b[0m\u001b[0;34m,\u001b[0m\u001b[0;34m\u001b[0m\u001b[0;34m\u001b[0m\u001b[0m\n\u001b[1;32m   3021\u001b[0m         **({\"data\": data} if data is not None else {}), **kwargs)\n",
      "\u001b[0;32m~/.anaconda/envs/mp/lib/python3.8/site-packages/matplotlib/axes/_axes.py\u001b[0m in \u001b[0;36mplot\u001b[0;34m(self, scalex, scaley, data, *args, **kwargs)\u001b[0m\n\u001b[1;32m   1603\u001b[0m         \"\"\"\n\u001b[1;32m   1604\u001b[0m         \u001b[0mkwargs\u001b[0m \u001b[0;34m=\u001b[0m \u001b[0mcbook\u001b[0m\u001b[0;34m.\u001b[0m\u001b[0mnormalize_kwargs\u001b[0m\u001b[0;34m(\u001b[0m\u001b[0mkwargs\u001b[0m\u001b[0;34m,\u001b[0m \u001b[0mmlines\u001b[0m\u001b[0;34m.\u001b[0m\u001b[0mLine2D\u001b[0m\u001b[0;34m)\u001b[0m\u001b[0;34m\u001b[0m\u001b[0;34m\u001b[0m\u001b[0m\n\u001b[0;32m-> 1605\u001b[0;31m         \u001b[0mlines\u001b[0m \u001b[0;34m=\u001b[0m \u001b[0;34m[\u001b[0m\u001b[0;34m*\u001b[0m\u001b[0mself\u001b[0m\u001b[0;34m.\u001b[0m\u001b[0m_get_lines\u001b[0m\u001b[0;34m(\u001b[0m\u001b[0;34m*\u001b[0m\u001b[0margs\u001b[0m\u001b[0;34m,\u001b[0m \u001b[0mdata\u001b[0m\u001b[0;34m=\u001b[0m\u001b[0mdata\u001b[0m\u001b[0;34m,\u001b[0m \u001b[0;34m**\u001b[0m\u001b[0mkwargs\u001b[0m\u001b[0;34m)\u001b[0m\u001b[0;34m]\u001b[0m\u001b[0;34m\u001b[0m\u001b[0;34m\u001b[0m\u001b[0m\n\u001b[0m\u001b[1;32m   1606\u001b[0m         \u001b[0;32mfor\u001b[0m \u001b[0mline\u001b[0m \u001b[0;32min\u001b[0m \u001b[0mlines\u001b[0m\u001b[0;34m:\u001b[0m\u001b[0;34m\u001b[0m\u001b[0;34m\u001b[0m\u001b[0m\n\u001b[1;32m   1607\u001b[0m             \u001b[0mself\u001b[0m\u001b[0;34m.\u001b[0m\u001b[0madd_line\u001b[0m\u001b[0;34m(\u001b[0m\u001b[0mline\u001b[0m\u001b[0;34m)\u001b[0m\u001b[0;34m\u001b[0m\u001b[0;34m\u001b[0m\u001b[0m\n",
      "\u001b[0;32m~/.anaconda/envs/mp/lib/python3.8/site-packages/matplotlib/axes/_base.py\u001b[0m in \u001b[0;36m__call__\u001b[0;34m(self, data, *args, **kwargs)\u001b[0m\n\u001b[1;32m    313\u001b[0m                 \u001b[0mthis\u001b[0m \u001b[0;34m+=\u001b[0m \u001b[0margs\u001b[0m\u001b[0;34m[\u001b[0m\u001b[0;36m0\u001b[0m\u001b[0;34m]\u001b[0m\u001b[0;34m,\u001b[0m\u001b[0;34m\u001b[0m\u001b[0;34m\u001b[0m\u001b[0m\n\u001b[1;32m    314\u001b[0m                 \u001b[0margs\u001b[0m \u001b[0;34m=\u001b[0m \u001b[0margs\u001b[0m\u001b[0;34m[\u001b[0m\u001b[0;36m1\u001b[0m\u001b[0;34m:\u001b[0m\u001b[0;34m]\u001b[0m\u001b[0;34m\u001b[0m\u001b[0;34m\u001b[0m\u001b[0m\n\u001b[0;32m--> 315\u001b[0;31m             \u001b[0;32myield\u001b[0m \u001b[0;32mfrom\u001b[0m \u001b[0mself\u001b[0m\u001b[0;34m.\u001b[0m\u001b[0m_plot_args\u001b[0m\u001b[0;34m(\u001b[0m\u001b[0mthis\u001b[0m\u001b[0;34m,\u001b[0m \u001b[0mkwargs\u001b[0m\u001b[0;34m)\u001b[0m\u001b[0;34m\u001b[0m\u001b[0;34m\u001b[0m\u001b[0m\n\u001b[0m\u001b[1;32m    316\u001b[0m \u001b[0;34m\u001b[0m\u001b[0m\n\u001b[1;32m    317\u001b[0m     \u001b[0;32mdef\u001b[0m \u001b[0mget_next_color\u001b[0m\u001b[0;34m(\u001b[0m\u001b[0mself\u001b[0m\u001b[0;34m)\u001b[0m\u001b[0;34m:\u001b[0m\u001b[0;34m\u001b[0m\u001b[0;34m\u001b[0m\u001b[0m\n",
      "\u001b[0;32m~/.anaconda/envs/mp/lib/python3.8/site-packages/matplotlib/axes/_base.py\u001b[0m in \u001b[0;36m_plot_args\u001b[0;34m(self, tup, kwargs, return_kwargs)\u001b[0m\n\u001b[1;32m    499\u001b[0m \u001b[0;34m\u001b[0m\u001b[0m\n\u001b[1;32m    500\u001b[0m         \u001b[0;32mif\u001b[0m \u001b[0mx\u001b[0m\u001b[0;34m.\u001b[0m\u001b[0mshape\u001b[0m\u001b[0;34m[\u001b[0m\u001b[0;36m0\u001b[0m\u001b[0;34m]\u001b[0m \u001b[0;34m!=\u001b[0m \u001b[0my\u001b[0m\u001b[0;34m.\u001b[0m\u001b[0mshape\u001b[0m\u001b[0;34m[\u001b[0m\u001b[0;36m0\u001b[0m\u001b[0;34m]\u001b[0m\u001b[0;34m:\u001b[0m\u001b[0;34m\u001b[0m\u001b[0;34m\u001b[0m\u001b[0m\n\u001b[0;32m--> 501\u001b[0;31m             raise ValueError(f\"x and y must have same first dimension, but \"\n\u001b[0m\u001b[1;32m    502\u001b[0m                              f\"have shapes {x.shape} and {y.shape}\")\n\u001b[1;32m    503\u001b[0m         \u001b[0;32mif\u001b[0m \u001b[0mx\u001b[0m\u001b[0;34m.\u001b[0m\u001b[0mndim\u001b[0m \u001b[0;34m>\u001b[0m \u001b[0;36m2\u001b[0m \u001b[0;32mor\u001b[0m \u001b[0my\u001b[0m\u001b[0;34m.\u001b[0m\u001b[0mndim\u001b[0m \u001b[0;34m>\u001b[0m \u001b[0;36m2\u001b[0m\u001b[0;34m:\u001b[0m\u001b[0;34m\u001b[0m\u001b[0;34m\u001b[0m\u001b[0m\n",
      "\u001b[0;31mValueError\u001b[0m: x and y must have same first dimension, but have shapes (3,) and (0,)"
     ]
    },
    {
     "data": {
      "image/png": "[encoded data removed]",
      "text/plain": [
       "<Figure size 432x288 with 1 Axes>"
      ]
     },
     "metadata": {
      "needs_background": "light"
     },
     "output_type": "display_data"
    }
   ],
   "source": [
    "fig = plt.figure()\n",
    "plt.plot(sample_sizes, acc, label=\"Analytical acc.\")\n",
    "plt.plot(sample_sizes, [real_acc]*len(sample_sizes), label=\"Monte Carlo acc.\")\n",
    "\n",
    "plt.legend()\n",
    "plt.grid()\n",
    "plt.xlabel(\"Number of Samples\")\n",
    "plt.ylabel(\"Accuracy\")\n",
    "plt.title(\"Estimator Accuracy\")\n",
    "plt.show()"
   ]
  },
  {
   "cell_type": "code",
   "execution_count": null,
   "id": "fbd35aaa",
   "metadata": {},
   "outputs": [],
   "source": [
    "approx_entropy = np.sum(exp_s*np.log(exp_s+.001), axis=1)\n",
    "approx_entropy"
   ]
  },
  {
   "cell_type": "code",
   "execution_count": null,
   "id": "35893725",
   "metadata": {},
   "outputs": [],
   "source": [
    "final_shape = tuple([100] + exp_shape)\n",
    "sampled_datapoints = norm(exp, var).rvs(size=final_shape)\n",
    "softmax_output = tf.keras.activations.softmax(tf.convert_to_tensor(sampled_datapoints))\n",
    "sample_acc = evaluate(softmax_output, y_train[:100])"
   ]
  },
  {
   "cell_type": "code",
   "execution_count": null,
   "id": "1e9e34f3",
   "metadata": {},
   "outputs": [],
   "source": [
    "sampled_datapoints.shape"
   ]
  },
  {
   "cell_type": "code",
   "execution_count": null,
   "id": "431e8dc9",
   "metadata": {},
   "outputs": [],
   "source": [
    "sample_probs = tf.keras.activations.softmax(tf.convert_to_tensor(sampled_datapoints))\n",
    "\n",
    "# mean_probs = np.mean(sample_probs, axis=0)\n",
    "# sample_entropy = np.sum(mean_probs*np.log(mean_probs+.001), axis=-1)\n",
    "\n",
    "sample_entropy = np.sum(sample_probs*np.log(sample_probs+.001), axis=-1)\n",
    "sample_entropy = np.sum(sample_entropy, axis=0)/len(sample_entropy)"
   ]
  },
  {
   "cell_type": "code",
   "execution_count": null,
   "id": "ff450181",
   "metadata": {},
   "outputs": [],
   "source": [
    "sample_entropy.shape"
   ]
  },
  {
   "cell_type": "code",
   "execution_count": null,
   "id": "98f72f91",
   "metadata": {},
   "outputs": [],
   "source": [
    "plt.plot(sample_entropy, label=\"Sample entropy\")\n",
    "plt.plot(approx_entropy, label=\"Approx. entropy\")\n",
    "plt.legend()\n",
    "plt.plot()"
   ]
  },
  {
   "cell_type": "markdown",
   "id": "eb6fff4d",
   "metadata": {},
   "source": [
    "## Condfidence interval"
   ]
  },
  {
   "cell_type": "code",
   "execution_count": null,
   "id": "bca0fdad",
   "metadata": {},
   "outputs": [],
   "source": [
    "# https://stackoverflow.com/questions/15033511/compute-a-confidence-interval-from-sample-data\n",
    "# https://blog.finxter.com/how-to-plot-the-confidence-interval-in-python/\n",
    "import scipy.stats as st"
   ]
  },
  {
   "cell_type": "code",
   "execution_count": null,
   "id": "94516abf",
   "metadata": {},
   "outputs": [],
   "source": [
    "sample_probs = tf.keras.activations.softmax(tf.convert_to_tensor(sampled_datapoints))"
   ]
  },
  {
   "cell_type": "code",
   "execution_count": null,
   "id": "6f12bed7",
   "metadata": {},
   "outputs": [],
   "source": [
    "res = st.t.interval(0.95, len(sample_probs)-1, loc=np.mean(sample_probs, axis=0), scale=st.sem(sample_probs))"
   ]
  },
  {
   "cell_type": "code",
   "execution_count": null,
   "id": "b440f11e",
   "metadata": {},
   "outputs": [],
   "source": []
  },
  {
   "cell_type": "code",
   "execution_count": null,
   "id": "1e0556de",
   "metadata": {},
   "outputs": [],
   "source": []
  }
 ],
 "metadata": {
  "kernelspec": {
   "display_name": "Python 3",
   "language": "python",
   "name": "python3"
  },
  "language_info": {
   "codemirror_mode": {
    "name": "ipython",
    "version": 3
   },
   "file_extension": ".py",
   "mimetype": "text/x-python",
   "name": "python",
   "nbconvert_exporter": "python",
   "pygments_lexer": "ipython3",
   "version": "3.8.8"
  }
 },
 "nbformat": 4,
 "nbformat_minor": 5
}
