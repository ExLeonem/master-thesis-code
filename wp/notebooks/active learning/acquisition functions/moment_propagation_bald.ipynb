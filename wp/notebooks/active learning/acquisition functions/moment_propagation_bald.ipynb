{
 "cells": [
  {
   "cell_type": "code",
   "execution_count": 1,
   "id": "5670d8f8",
   "metadata": {},
   "outputs": [],
   "source": [
    "%load_ext autoreload"
   ]
  },
  {
   "cell_type": "code",
   "execution_count": 2,
   "id": "ec192ab8",
   "metadata": {},
   "outputs": [],
   "source": [
    "import os, sys"
   ]
  },
  {
   "cell_type": "code",
   "execution_count": 3,
   "id": "bd06e263",
   "metadata": {},
   "outputs": [],
   "source": [
    "import numpy as np\n",
    "import pandas as pd\n",
    "import matplotlib.pyplot as plt\n",
    "import seaborn as sns\n",
    "from sklearn.model_selection import train_test_split\n",
    "\n",
    "import tensorflow as tf\n",
    "import tensorflow.keras as keras"
   ]
  },
  {
   "cell_type": "code",
   "execution_count": 4,
   "id": "00083c45",
   "metadata": {},
   "outputs": [],
   "source": [
    "BASE_PATH = os.path.join(os.getcwd(), \"..\", \"..\", \"..\")\n",
    "MODULES_PATH = os.path.join(BASE_PATH, \"modules\")\n",
    "DATASET_PATH = os.path.join(BASE_PATH, \"datasets\")"
   ]
  },
  {
   "cell_type": "code",
   "execution_count": 5,
   "id": "3d425416",
   "metadata": {},
   "outputs": [],
   "source": [
    "sys.path.append(MODULES_PATH)"
   ]
  },
  {
   "cell_type": "code",
   "execution_count": 6,
   "id": "c4a2debe",
   "metadata": {},
   "outputs": [],
   "source": [
    "from active_learning import Config, AcquisitionFunction, Pool\n",
    "from wrapper import McDropout, MomentPropagation\n",
    "from models import setup_growth, fchollet_cnn\n",
    "from data import BenchmarkData, DataSetType"
   ]
  },
  {
   "cell_type": "code",
   "execution_count": 7,
   "id": "9217dd13",
   "metadata": {},
   "outputs": [],
   "source": [
    "mnist_path = os.path.join(DATASET_PATH, \"mnist\")\n",
    "dataset = BenchmarkData(DataSetType.MNIST, mnist_path)"
   ]
  },
  {
   "cell_type": "code",
   "execution_count": 8,
   "id": "01473435",
   "metadata": {},
   "outputs": [
    {
     "name": "stdout",
     "output_type": "stream",
     "text": [
      "1 Physical GPU's,  1 Logical GPU's\n"
     ]
    }
   ],
   "source": [
    "setup_growth()"
   ]
  },
  {
   "cell_type": "code",
   "execution_count": 9,
   "id": "054f3dc5",
   "metadata": {},
   "outputs": [],
   "source": [
    "base_model = fchollet_cnn(output=10)"
   ]
  },
  {
   "cell_type": "code",
   "execution_count": 10,
   "id": "e7c13864",
   "metadata": {},
   "outputs": [],
   "source": [
    "seed = 90231\n",
    "np.random.seed(seed)\n",
    "tf.random.set_seed(seed)"
   ]
  },
  {
   "cell_type": "markdown",
   "id": "69f4b634",
   "metadata": {},
   "source": [
    "### Split data"
   ]
  },
  {
   "cell_type": "code",
   "execution_count": 11,
   "id": "9e261b9b",
   "metadata": {},
   "outputs": [],
   "source": [
    "x_train, x_test, y_train, y_test = train_test_split(dataset.inputs, dataset.targets, test_size=10000)"
   ]
  },
  {
   "cell_type": "code",
   "execution_count": 12,
   "id": "57888da8",
   "metadata": {},
   "outputs": [
    {
     "data": {
      "text/plain": [
       "60000"
      ]
     },
     "execution_count": 12,
     "metadata": {},
     "output_type": "execute_result"
    }
   ],
   "source": [
    "len(x_train)"
   ]
  },
  {
   "cell_type": "code",
   "execution_count": 13,
   "id": "3a33193f",
   "metadata": {},
   "outputs": [],
   "source": [
    "pool = Pool(x_train, y_train)"
   ]
  },
  {
   "cell_type": "markdown",
   "id": "4760a2ef",
   "metadata": {},
   "source": [
    "### Define Models"
   ]
  },
  {
   "cell_type": "code",
   "execution_count": 14,
   "id": "904133e9",
   "metadata": {},
   "outputs": [],
   "source": [
    "%autoreload 2\n",
    "fit_params = {\"epochs\": 2, \"batch_size\": 10}\n",
    "compile_params = {\"optimizer\": \"adam\", \"loss\": \"sparse_categorical_crossentropy\", \"metrics\": [keras.metrics.SparseCategoricalAccuracy()]}\n",
    "\n",
    "# Define MC Dropout model\n",
    "mc_model = McDropout(base_model, config=Config(\n",
    "    fit=fit_params,\n",
    "    query={\"sample_size\": 25},\n",
    "    evaluate={\"sample_size\": 25}\n",
    "))\n",
    "mc_model.compile(**compile_params)\n",
    "\n",
    "# Define Moment Propagation model\n",
    "mp_model = MomentPropagation(base_model, config=Config(\n",
    "    fit=fit_params\n",
    "))\n",
    "mp_model.compile(**compile_params)"
   ]
  },
  {
   "cell_type": "code",
   "execution_count": 23,
   "id": "b2493d50",
   "metadata": {},
   "outputs": [
    {
     "name": "stdout",
     "output_type": "stream",
     "text": [
      "Epoch 1/2\n",
      "6000/6000 [==============================] - 17s 3ms/step - loss: 0.1703 - sparse_categorical_accuracy: 0.9491\n",
      "Epoch 2/2\n",
      "6000/6000 [==============================] - 16s 3ms/step - loss: 0.0786 - sparse_categorical_accuracy: 0.9772\n"
     ]
    },
    {
     "data": {
      "text/plain": [
       "<tensorflow.python.keras.callbacks.History at 0x7f5ab1085550>"
      ]
     },
     "execution_count": 23,
     "metadata": {},
     "output_type": "execute_result"
    }
   ],
   "source": [
    "mc_model.fit(x_train, y_train)"
   ]
  },
  {
   "cell_type": "code",
   "execution_count": 31,
   "id": "c8c699b7",
   "metadata": {},
   "outputs": [
    {
     "name": "stdout",
     "output_type": "stream",
     "text": [
      "Epoch 1/2\n",
      "6000/6000 [==============================] - 16s 3ms/step - loss: 0.0607 - sparse_categorical_accuracy: 0.9820\n",
      "Epoch 2/2\n",
      "6000/6000 [==============================] - 17s 3ms/step - loss: 0.0499 - sparse_categorical_accuracy: 0.9852\n"
     ]
    },
    {
     "data": {
      "text/plain": [
       "<tensorflow.python.keras.callbacks.History at 0x7f5ab072c550>"
      ]
     },
     "execution_count": 31,
     "metadata": {},
     "output_type": "execute_result"
    }
   ],
   "source": [
    "mp_model.fit(x_train, y_train)"
   ]
  },
  {
   "cell_type": "code",
   "execution_count": 34,
   "id": "45caa618",
   "metadata": {},
   "outputs": [
    {
     "data": {
      "text/plain": [
       "{'loss': 0.0021000677, 'accuracy': 1.0}"
      ]
     },
     "execution_count": 34,
     "metadata": {},
     "output_type": "execute_result"
    }
   ],
   "source": [
    "mc_model.evaluate(x_test[:10], y_test[:10])"
   ]
  },
  {
   "cell_type": "code",
   "execution_count": 35,
   "id": "7b6bf538",
   "metadata": {},
   "outputs": [
    {
     "data": {
      "text/plain": [
       "{'loss': 0.004991742, 'accuracy': 1.0}"
      ]
     },
     "execution_count": 35,
     "metadata": {},
     "output_type": "execute_result"
    }
   ],
   "source": [
    "mp_model.evaluate(x_test[:10], y_test[:10])"
   ]
  },
  {
   "cell_type": "markdown",
   "id": "fb4505c6",
   "metadata": {},
   "source": [
    "### Try BALD acquisition"
   ]
  },
  {
   "cell_type": "code",
   "execution_count": 36,
   "id": "c66812e5",
   "metadata": {},
   "outputs": [
    {
     "data": {
      "text/plain": [
       "array([1.30516768e-04, 6.82987738e-04, 2.16237386e-05, 3.75032425e-03,\n",
       "       2.13554427e-02, 3.83310951e-03, 3.06717157e-02, 6.04058616e-03,\n",
       "       2.29057623e-05, 1.47956307e-05, 4.72596064e-02, 1.18142262e-01,\n",
       "       8.22944276e-05, 1.87966973e-03, 4.94085476e-02, 1.05867982e-02,\n",
       "       1.88445579e-02, 1.47239864e-03, 8.71904194e-04, 6.30366653e-02,\n",
       "       4.34344285e-04, 1.38354022e-03, 1.73985143e-04, 9.13155964e-06,\n",
       "       1.08217746e-02, 1.96726061e-03, 6.83334097e-03, 2.25198492e-02,\n",
       "       7.28962794e-02, 4.60290685e-02, 1.57005787e-02, 5.03134206e-02,\n",
       "       1.10071581e-02, 2.73490150e-04, 3.21321517e-01, 5.84285855e-02,\n",
       "       4.20618616e-03, 6.86153024e-02, 9.27372351e-02, 5.76528662e-04,\n",
       "       2.82105245e-03, 1.26102183e-03, 8.13404913e-05, 1.12407608e-03,\n",
       "       2.21662581e-01, 1.14184455e-03, 1.75470188e-02, 2.30379682e-03,\n",
       "       1.54452011e-01, 1.61378495e-02, 2.53738254e-01, 2.94361671e-05,\n",
       "       7.94952884e-02, 1.34719033e-02, 9.19187209e-04, 9.80777014e-03,\n",
       "       2.58989483e-02, 2.61116074e-03, 1.06313295e-04, 3.14368084e-02,\n",
       "       2.43410505e-02, 8.71104567e-05, 3.80741209e-02, 7.41758104e-03,\n",
       "       1.02258124e-03, 2.95648002e-04, 9.26517881e-04, 1.42088626e-02,\n",
       "       5.17941662e-05, 9.49065760e-03, 5.45522198e-07, 4.99587208e-02,\n",
       "       6.06215978e-03, 4.21323115e-03, 9.52138565e-03, 1.28421676e-03,\n",
       "       6.25253003e-03, 2.37454474e-03, 1.43253915e-02, 1.19347987e-03,\n",
       "       3.58572900e-02, 1.49026718e-02, 5.95180318e-02, 2.56328117e-02,\n",
       "       3.22735286e-04, 4.89594531e-05, 2.73149498e-02, 3.49386479e-04,\n",
       "       9.14202482e-02, 1.65660167e-03, 4.02405858e-04, 2.26138873e-04,\n",
       "       1.31702423e-02, 5.67357987e-04, 1.24358684e-02, 2.38650152e-03,\n",
       "       6.60496589e-05, 1.28466520e-04, 7.41394609e-02, 3.28351967e-02],\n",
       "      dtype=float32)"
      ]
     },
     "execution_count": 36,
     "metadata": {},
     "output_type": "execute_result"
    }
   ],
   "source": [
    "mc_bald = mc_model.get_query_fn(\"bald\")\n",
    "mc_bald(x_train[:100], sample_size=100)"
   ]
  },
  {
   "cell_type": "code",
   "execution_count": 50,
   "id": "89cdd988",
   "metadata": {},
   "outputs": [],
   "source": [
    "sample_size = 100\n",
    "predictions = mc_model(x_train[:100], sample_size=sample_size)"
   ]
  },
  {
   "cell_type": "code",
   "execution_count": 57,
   "id": "e7a8bdcc",
   "metadata": {},
   "outputs": [
    {
     "data": {
      "text/plain": [
       "array([-2.1801232e-03, -1.5174534e-02,  9.7500655e-04, -2.0388078e-02,\n",
       "       -5.4245934e-02, -3.2432207e-03, -1.9492517e-01, -1.5197905e-02,\n",
       "       -2.2184486e-02, -5.5525345e-03, -8.8755123e-02, -3.3396113e-01,\n",
       "       -1.5843576e-03, -1.4038086e-04, -1.6181213e-01, -3.3992194e-02,\n",
       "       -2.4817618e-02, -3.6225424e-03, -3.9550350e-03, -1.6698268e-01,\n",
       "       -1.8952882e-02, -2.9132934e-03, -6.0179718e-03,  7.6145306e-04,\n",
       "       -7.2956467e-03, -4.6553598e-03, -2.7751997e-03, -4.2819235e-02,\n",
       "       -1.5233317e-01, -1.9046426e-02, -9.4741046e-02, -3.5022911e-02,\n",
       "       -6.8874559e-03, -1.8805976e-04, -6.5894949e-01, -1.4633949e-01,\n",
       "       -6.4363711e-02, -1.1607134e-01, -2.0494589e-01,  3.0730685e-04,\n",
       "       -3.1354301e-02, -9.5674852e-03, -3.3740175e-03, -1.4468349e-02,\n",
       "       -5.3893620e-01, -9.6098231e-03, -2.7816454e-02, -9.8985303e-03,\n",
       "       -4.2538196e-01, -3.2389503e-02, -7.3493129e-01,  5.0687348e-04,\n",
       "       -2.6801264e-01, -2.7770067e-02, -5.3848932e-03, -1.3436498e-02,\n",
       "       -1.3591099e-02, -3.0790530e-03,  6.3403248e-04, -1.0115096e-01,\n",
       "       -7.0834003e-02, -8.6359767e-04, -1.9371042e-01, -5.4587526e-03,\n",
       "       -3.6695939e-02,  3.2788745e-04, -1.4520674e-03, -4.1791074e-02,\n",
       "       -3.3625911e-03, -1.3062912e-02,  8.4291637e-04, -8.3150215e-02,\n",
       "       -2.1233717e-03, -7.9134470e-03, -8.6760093e-03, -3.5736698e-03,\n",
       "       -5.3896676e-03, -1.3136822e-02, -4.2931594e-02, -2.2020814e-04,\n",
       "       -4.0047958e-02, -1.5373049e-02, -1.4969020e-01, -2.3008861e-02,\n",
       "       -8.5949320e-03,  6.9734512e-04, -1.8498387e-02, -4.6762805e-03,\n",
       "       -2.0154980e-01, -7.4961018e-03, -9.5507235e-04, -1.9493848e-02,\n",
       "       -8.3507523e-02, -2.3347251e-03, -5.0917830e-02, -4.3983543e-03,\n",
       "       -1.6551620e-03,  9.3050132e-04, -3.2432172e-01, -1.6299311e-02],\n",
       "      dtype=float32)"
      ]
     },
     "execution_count": 57,
     "metadata": {},
     "output_type": "execute_result"
    }
   ],
   "source": [
    "expectation = mc_model.expectation(predictions)\n",
    "entropy = np.sum(expectation*np.log(expectation+.001), axis=1)\n",
    "entropy"
   ]
  },
  {
   "cell_type": "code",
   "execution_count": 58,
   "id": "ae746a32",
   "metadata": {},
   "outputs": [
    {
     "data": {
      "text/plain": [
       "array([-1.47632498e-03, -1.01642283e-02,  9.75149218e-04, -1.24619212e-02,\n",
       "       -2.89904289e-02, -2.76802410e-03, -9.97870862e-02, -9.65954922e-03,\n",
       "       -6.43832609e-03, -3.19669931e-03, -5.86055554e-02, -2.12780401e-01,\n",
       "       -6.19659026e-04,  1.98276102e-04, -1.05210170e-01, -2.38712709e-02,\n",
       "       -1.65518411e-02, -1.86106900e-03, -2.99810688e-03, -1.00150816e-01,\n",
       "       -9.31304973e-03, -1.84508262e-03, -3.96407349e-03,  7.79649825e-04,\n",
       "       -4.72942181e-03, -3.54101392e-03, -1.95624679e-03, -8.77901912e-03,\n",
       "       -7.40482211e-02, -1.35890786e-02, -4.16188017e-02, -2.47693323e-02,\n",
       "       -5.61084505e-03, -6.65995613e-05, -3.79431903e-01, -7.63389468e-02,\n",
       "       -3.49486098e-02, -5.62071949e-02, -1.20244458e-01,  3.59039375e-04,\n",
       "       -2.03849319e-02, -4.82550450e-03, -2.12325226e-03, -9.70395003e-03,\n",
       "       -4.00394052e-01, -6.25360664e-03, -1.07509736e-02, -6.12209784e-03,\n",
       "       -2.13538557e-01, -1.61984470e-02, -4.52906966e-01,  5.29636047e-04,\n",
       "       -1.37476891e-01, -1.52863888e-02, -3.57828150e-03, -9.27022845e-03,\n",
       "       -1.05359089e-02, -2.21055606e-03,  6.84042869e-04, -4.54857498e-02,\n",
       "       -1.43531421e-02, -6.16511388e-04, -9.65265855e-02, -4.14624996e-03,\n",
       "       -1.34001086e-02,  4.23835503e-04, -9.74899391e-04, -1.93250254e-02,\n",
       "       -2.43226578e-03, -7.16520799e-03,  8.48976604e-04, -4.85683121e-02,\n",
       "       -1.51125784e-03, -5.51147480e-03, -6.03891211e-03, -2.43248558e-03,\n",
       "       -3.92141473e-03, -6.69833738e-03, -2.85418704e-02, -9.41737671e-05,\n",
       "       -2.58651301e-02, -8.38006288e-03, -9.12517384e-02, -1.58066601e-02,\n",
       "       -5.66673884e-03,  7.43019453e-04, -1.40657881e-02, -3.18309432e-03,\n",
       "       -1.22556865e-01, -5.51452301e-03, -5.51980862e-04, -7.79093662e-03,\n",
       "       -5.51557206e-02, -1.78855192e-03, -3.77484187e-02, -3.28455889e-03,\n",
       "       -1.08508812e-03,  9.32466006e-04, -2.03565717e-01, -1.05166528e-02],\n",
       "      dtype=float32)"
      ]
     },
     "execution_count": 58,
     "metadata": {},
     "output_type": "execute_result"
    }
   ],
   "source": [
    "disagree = np.sum(np.sum(predictions*np.log(predictions+.001), axis=1), axis=1)/100\n",
    "disagree"
   ]
  },
  {
   "cell_type": "code",
   "execution_count": 59,
   "id": "225f6ae6",
   "metadata": {},
   "outputs": [
    {
     "data": {
      "text/plain": [
       "array([7.03798258e-04, 5.01030590e-03, 1.42666977e-07, 7.92615674e-03,\n",
       "       2.52555050e-02, 4.75196633e-04, 9.51380879e-02, 5.53835556e-03,\n",
       "       1.57461595e-02, 2.35583517e-03, 3.01495679e-02, 1.21180728e-01,\n",
       "       9.64698556e-04, 3.38656944e-04, 5.66019565e-02, 1.01209227e-02,\n",
       "       8.26577656e-03, 1.76147337e-03, 9.56928125e-04, 6.68318644e-02,\n",
       "       9.63983219e-03, 1.06821081e-03, 2.05389829e-03, 1.81967625e-05,\n",
       "       2.56622490e-03, 1.11434585e-03, 8.18952918e-04, 3.40402164e-02,\n",
       "       7.82849491e-02, 5.45734726e-03, 5.31222448e-02, 1.02535784e-02,\n",
       "       1.27661088e-03, 1.21460194e-04, 2.79517591e-01, 7.00005442e-02,\n",
       "       2.94151008e-02, 5.98641485e-02, 8.47014338e-02, 5.17325243e-05,\n",
       "       1.09693687e-02, 4.74198069e-03, 1.25076529e-03, 4.76439856e-03,\n",
       "       1.38542145e-01, 3.35621648e-03, 1.70654804e-02, 3.77643248e-03,\n",
       "       2.11843401e-01, 1.61910560e-02, 2.82024324e-01, 2.27625715e-05,\n",
       "       1.30535752e-01, 1.24836778e-02, 1.80661166e-03, 4.16626967e-03,\n",
       "       3.05518974e-03, 8.68496951e-04, 5.00103924e-05, 5.56652099e-02,\n",
       "       5.64808622e-02, 2.47086282e-04, 9.71838310e-02, 1.31250266e-03,\n",
       "       2.32958309e-02, 9.59480531e-05, 4.77168011e-04, 2.24660486e-02,\n",
       "       9.30325361e-04, 5.89770405e-03, 6.06023241e-06, 3.45819034e-02,\n",
       "       6.12113858e-04, 2.40197219e-03, 2.63709715e-03, 1.14118424e-03,\n",
       "       1.46825286e-03, 6.43848442e-03, 1.43897235e-02, 1.26034371e-04,\n",
       "       1.41828284e-02, 6.99298643e-03, 5.84384575e-02, 7.20220059e-03,\n",
       "       2.92819319e-03, 4.56743292e-05, 4.43259906e-03, 1.49318622e-03,\n",
       "       7.89929330e-02, 1.98157877e-03, 4.03091486e-04, 1.17029119e-02,\n",
       "       2.83518024e-02, 5.46173193e-04, 1.31694116e-02, 1.11379544e-03,\n",
       "       5.70073840e-04, 1.96468318e-06, 1.20756000e-01, 5.78265823e-03],\n",
       "      dtype=float32)"
      ]
     },
     "execution_count": 59,
     "metadata": {},
     "output_type": "execute_result"
    }
   ],
   "source": [
    "(- entropy) + disagree"
   ]
  },
  {
   "cell_type": "code",
   "execution_count": 64,
   "id": "7b425b03",
   "metadata": {},
   "outputs": [
    {
     "data": {
      "text/plain": [
       "array([ 0.1697261 ,  0.19095317,  0.09646711,  0.14287766,  0.07305618,\n",
       "        0.12724007,  0.12258933,  0.15912746,  0.05772841,  0.10297092,\n",
       "        0.04329971, -0.09654471,  0.15860342,  0.08176612,  0.21712277,\n",
       "        0.24680338,  0.09073223,  0.10269325,  0.13694691,  0.05943269,\n",
       "        0.0979598 ,  0.05585116,  0.11476785,  0.08421121,  0.13778986,\n",
       "        0.07298833,  0.05677307,  0.06435335,  0.01406646,  0.18140431,\n",
       "       -0.06287616,  0.18830865,  0.13605267,  0.1346031 , -0.4567009 ,\n",
       "        0.08901737,  0.22556238,  0.08902501, -0.11828392,  0.12535836,\n",
       "        0.15222561,  0.05652057,  0.08715596,  0.08277406, -0.1612469 ,\n",
       "        0.06696377,  0.17842673,  0.07754754, -0.08158556,  0.14068498,\n",
       "       -0.60050443,  0.11340217,  0.08621058,  0.05486948,  0.12556809,\n",
       "        0.13141792,  0.26053096,  0.10557754,  0.05659285,  0.10044233,\n",
       "        0.17413784,  0.13874658,  0.09425281,  0.19322622,  0.12908494,\n",
       "        0.14932963,  0.17474023,  0.03259414,  0.14240302,  0.18905609,\n",
       "        0.08238009,  0.18470939,  0.12852792,  0.15420403,  0.11990438,\n",
       "        0.10213722,  0.18831299,  0.090746  ,  0.17238105,  0.11302522,\n",
       "        0.11388908,  0.17463451,  0.01533344,  0.11510901,  0.09847054,\n",
       "        0.07894874,  0.21059724,  0.14924339,  0.19018047,  0.19252236,\n",
       "        0.12406244,  0.13221461, -0.06115584,  0.18257145,  0.15682597,\n",
       "        0.18727262,  0.16299869,  0.07149795,  0.17407844,  0.11329527])"
      ]
     },
     "execution_count": 64,
     "metadata": {},
     "output_type": "execute_result"
    }
   ],
   "source": [
    "mp_bald = mp_model.get_query_fn(\"bald\")\n",
    "mp_bald(x_train[:100], num_samples=100)"
   ]
  },
  {
   "cell_type": "markdown",
   "id": "ef2f0dd2",
   "metadata": {},
   "source": [
    "## Manual Calculation"
   ]
  },
  {
   "cell_type": "code",
   "execution_count": 62,
   "id": "036d8cfe",
   "metadata": {},
   "outputs": [],
   "source": [
    "import tensorflow as tf\n",
    "from tensorflow.keras import Model, Sequential\n",
    "from tensorflow.keras.layers import Conv2D, MaxPooling2D, Dropout, Dense, Input, Flatten\n",
    "\n",
    "alt_model = Sequential([\n",
    "        Conv2D(32, 3, activation=tf.nn.relu, padding=\"same\", input_shape=(28, 28, 1)),\n",
    "        Conv2D(64, 3, activation=tf.nn.relu, padding=\"same\"),\n",
    "        MaxPooling2D(),\n",
    "        Dropout(.25),\n",
    "        Flatten(),\n",
    "        Dense(128, activation=tf.nn.relu),\n",
    "        Dropout(.5),\n",
    "        Dense(10)        \n",
    "    ])"
   ]
  },
  {
   "cell_type": "code",
   "execution_count": 63,
   "id": "863dd202",
   "metadata": {},
   "outputs": [],
   "source": [
    "%autoreload 2\n",
    "from mp.MomentPropagation import MP\n",
    "\n",
    "test_mp = MP()\n",
    "test_mp_model = test_mp.create_MP_Model(model=alt_model, use_mp=True)"
   ]
  },
  {
   "cell_type": "code",
   "execution_count": 64,
   "id": "0e69e917",
   "metadata": {},
   "outputs": [],
   "source": [
    "E, V = test_mp_model(x_train[:10])"
   ]
  },
  {
   "cell_type": "code",
   "execution_count": 65,
   "id": "f7dca584",
   "metadata": {},
   "outputs": [],
   "source": [
    "from scipy.stats import norm"
   ]
  },
  {
   "cell_type": "code",
   "execution_count": 66,
   "id": "f2ec1446",
   "metadata": {},
   "outputs": [],
   "source": [
    "norm_dist = norm(E, V)\n",
    "sampled_data = norm_dist.rvs(size=(100, 10, 10))"
   ]
  },
  {
   "cell_type": "code",
   "execution_count": 67,
   "id": "7dbf0605",
   "metadata": {},
   "outputs": [],
   "source": [
    "sfmx_probs = tf.keras.activations.softmax(tf.convert_to_tensor(sampled_data))"
   ]
  },
  {
   "cell_type": "code",
   "execution_count": 68,
   "id": "f0866dc9",
   "metadata": {},
   "outputs": [],
   "source": [
    "entropy = np.sum(sfmx_probs*np.log(sfmx_probs), -1)"
   ]
  },
  {
   "cell_type": "code",
   "execution_count": 69,
   "id": "c6fe438a",
   "metadata": {},
   "outputs": [],
   "source": [
    "disagreement = np.mean(entropy, axis=0)"
   ]
  },
  {
   "cell_type": "code",
   "execution_count": 70,
   "id": "463ea5af",
   "metadata": {},
   "outputs": [
    {
     "data": {
      "text/plain": [
       "array([-2.30111021, -2.30164047, -2.29984327, -2.30108332, -2.30077549,\n",
       "       -2.30183444, -2.30205679, -2.30076894, -2.3003499 , -2.30180654])"
      ]
     },
     "execution_count": 70,
     "metadata": {},
     "output_type": "execute_result"
    }
   ],
   "source": [
    "disagreement"
   ]
  },
  {
   "cell_type": "markdown",
   "id": "c1f8b903",
   "metadata": {},
   "source": [
    "### Try with softmax distribution"
   ]
  },
  {
   "cell_type": "code",
   "execution_count": 73,
   "id": "9260eb94",
   "metadata": {},
   "outputs": [],
   "source": [
    "E_S, V_S = MP.Gaussian_Softmax(E, V)"
   ]
  },
  {
   "cell_type": "code",
   "execution_count": 78,
   "id": "801becae",
   "metadata": {},
   "outputs": [],
   "source": [
    "sampled_data = norm(E_S, V_S).rvs(size=(100, 10, 10))"
   ]
  }
 ],
 "metadata": {
  "kernelspec": {
   "display_name": "Python 3",
   "language": "python",
   "name": "python3"
  },
  "language_info": {
   "codemirror_mode": {
    "name": "ipython",
    "version": 3
   },
   "file_extension": ".py",
   "mimetype": "text/x-python",
   "name": "python",
   "nbconvert_exporter": "python",
   "pygments_lexer": "ipython3",
   "version": "3.8.8"
  }
 },
 "nbformat": 4,
 "nbformat_minor": 5
}
