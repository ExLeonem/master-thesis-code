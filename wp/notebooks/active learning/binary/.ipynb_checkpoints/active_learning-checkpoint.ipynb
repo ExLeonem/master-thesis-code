{
 "cells": [
  {
   "cell_type": "code",
   "execution_count": 1,
   "id": "4b9e17aa",
   "metadata": {},
   "outputs": [],
   "source": [
    "import os, importlib, sys\n",
    "\n",
    "import numpy as np\n",
    "import pandas as pd\n",
    "import matplotlib.pyplot as plt\n",
    "from sklearn.model_selection import train_test_split\n",
    "\n",
    "%load_ext autoreload "
   ]
  },
  {
   "cell_type": "code",
   "execution_count": 2,
   "id": "c3a072c4",
   "metadata": {},
   "outputs": [],
   "source": [
    "# Common paths\n",
    "BASE_PATH = os.path.join(os.getcwd(), \"..\", \"..\")\n",
    "MODULE_PATH = os.path.join(BASE_PATH, \"modules\")\n",
    "DS_PATH = os.path.join(BASE_PATH, \"datasets\")"
   ]
  },
  {
   "cell_type": "code",
   "execution_count": 3,
   "id": "a10ec022",
   "metadata": {},
   "outputs": [
    {
     "data": {
      "text/plain": [
       "<module 'data.mnist' from '/home/exleonem/Desktop/workspace/thesis/wp/notebooks/model/../../modules/data/mnist.py'>"
      ]
     },
     "execution_count": 3,
     "metadata": {},
     "output_type": "execute_result"
    }
   ],
   "source": [
    "sys.path.append(MODULE_PATH)\n",
    "\n",
    "import mp.MomentPropagation as mp\n",
    "importlib.reload(mp)\n",
    "\n",
    "import data.mnist as mnist_loader\n",
    "importlib.reload(mnist_loader)"
   ]
  },
  {
   "cell_type": "code",
   "execution_count": 4,
   "id": "d08978b3",
   "metadata": {},
   "outputs": [],
   "source": [
    "import tensorflow as tf\n",
    "from tensorflow import keras\n",
    "import tensorflow.keras\n",
    "from tensorflow.keras import Sequential\n",
    "from tensorflow.keras.layers import  Conv2D, MaxPool2D, Dropout, Flatten, Dense, Softmax"
   ]
  },
  {
   "cell_type": "code",
   "execution_count": 5,
   "id": "868efdb6",
   "metadata": {},
   "outputs": [
    {
     "name": "stdout",
     "output_type": "stream",
     "text": [
      "1 Physical GPU's,  1 Logical GPU's\n"
     ]
    }
   ],
   "source": [
    "gpus = tf.config.experimental.list_physical_devices(\"GPU\")\n",
    "cpus = tf.config.experimental.list_physical_devices(\"CPU\")\n",
    "\n",
    "if gpus:\n",
    "    try:\n",
    "        for gpu in gpus:\n",
    "            tf.config.experimental.set_memory_growth(gpu, True)\n",
    "            \n",
    "        logical_gpus = tf.config.experimental.list_logical_devices(\"GPU\")\n",
    "        print(len(gpus), \"Physical GPU's, \", len(logical_gpus), \"Logical GPU's\")\n",
    "        \n",
    "    except RuntimeError as e:\n",
    "        print(e)\n",
    "        \n",
    "elif cpus:\n",
    "    try:\n",
    "        logical_cpus = tf.config.experimental.list_logical_devices(\"CPU\")\n",
    "        print(len(cpus), \"Physical CPU,\", len(logical_cpus), \"Logical CPU\")\n",
    "        \n",
    "    except RuntimeError as e:\n",
    "        print(e)\n",
    "        \n",
    "        \n",
    "tfk = tf.keras"
   ]
  },
  {
   "cell_type": "code",
   "execution_count": 6,
   "id": "0c2f9609",
   "metadata": {},
   "outputs": [
    {
     "name": "stdout",
     "output_type": "stream",
     "text": [
      "Model: \"sequential\"\n",
      "_________________________________________________________________\n",
      "Layer (type)                 Output Shape              Param #   \n",
      "=================================================================\n",
      "conv2d (Conv2D)              (None, 25, 25, 128)       2176      \n",
      "_________________________________________________________________\n",
      "max_pooling2d (MaxPooling2D) (None, 12, 12, 128)       0         \n",
      "_________________________________________________________________\n",
      "dropout (Dropout)            (None, 12, 12, 128)       0         \n",
      "_________________________________________________________________\n",
      "conv2d_1 (Conv2D)            (None, 10, 10, 64)        73792     \n",
      "_________________________________________________________________\n",
      "max_pooling2d_1 (MaxPooling2 (None, 5, 5, 64)          0         \n",
      "_________________________________________________________________\n",
      "dropout_1 (Dropout)          (None, 5, 5, 64)          0         \n",
      "_________________________________________________________________\n",
      "flatten (Flatten)            (None, 1600)              0         \n",
      "_________________________________________________________________\n",
      "dense (Dense)                (None, 512)               819712    \n",
      "_________________________________________________________________\n",
      "dense_1 (Dense)              (None, 256)               131328    \n",
      "_________________________________________________________________\n",
      "dense_2 (Dense)              (None, 128)               32896     \n",
      "_________________________________________________________________\n",
      "dense_3 (Dense)              (None, 1)                 129       \n",
      "=================================================================\n",
      "Total params: 1,060,033\n",
      "Trainable params: 1,060,033\n",
      "Non-trainable params: 0\n",
      "_________________________________________________________________\n"
     ]
    }
   ],
   "source": [
    "input_shape = (28, 28, 1)\n",
    "model = Sequential([\n",
    "    Conv2D(128, 4,activation=\"relu\", input_shape=input_shape),\n",
    "    MaxPool2D(),\n",
    "    Dropout(.2),\n",
    "    Conv2D(64, 3, activation=\"relu\"),\n",
    "    MaxPool2D(),\n",
    "    Dropout(.2),\n",
    "    Flatten(),\n",
    "    Dense(512, activation=\"relu\"),\n",
    "    Dense(256, activation=\"relu\"),\n",
    "    Dense(128, activation=\"relu\"),\n",
    "    Dense(1, activation=\"sigmoid\")\n",
    "])\n",
    "\n",
    "model.build(input_shape)\n",
    "model.summary()"
   ]
  },
  {
   "cell_type": "code",
   "execution_count": 12,
   "id": "524e7e61",
   "metadata": {},
   "outputs": [
    {
     "data": {
      "text/plain": [
       "<module 'active_learning' from '/home/exleonem/Desktop/workspace/thesis/wp/notebooks/model/../../modules/active_learning/__init__.py'>"
      ]
     },
     "execution_count": 12,
     "metadata": {},
     "output_type": "execute_result"
    }
   ],
   "source": [
    "%autoreload 2\n",
    "import active_learning as active\n",
    "importlib.reload(active)"
   ]
  },
  {
   "cell_type": "code",
   "execution_count": 13,
   "id": "dce00b5b",
   "metadata": {},
   "outputs": [],
   "source": [
    "import mp.MomentPropagation as mp\n",
    "importlib.reload(mp)\n",
    "\n",
    "mp = mp.MP()\n",
    "mp_model = mp.create_MP_Model(model=model, use_mp=True, verbose=True)"
   ]
  },
  {
   "cell_type": "code",
   "execution_count": 14,
   "id": "2eac30b4",
   "metadata": {},
   "outputs": [],
   "source": [
    "import data.mnist as mnist_loader\n",
    "importlib.reload(mnist_loader)\n",
    "\n",
    "# Load Data\n",
    "mnist_path = os.path.join(DS_PATH, \"mnist\")\n",
    "inputs, targets = mnist_loader.load(mnist_path)\n",
    "\n",
    "# Select only first and second class\n",
    "selector = (targets==0) | (targets==1)\n",
    "new_inputs = inputs[selector].astype(\"float32\")/255.0\n",
    "new_targets = targets[selector]\n",
    "\n",
    "# Create splits\n",
    "x_train, x_test, y_train, y_test = train_test_split(new_inputs, new_targets)\n",
    "x_test, x_val, y_test, y_val = train_test_split(x_test, y_test)"
   ]
  },
  {
   "cell_type": "code",
   "execution_count": 15,
   "id": "ee48075e",
   "metadata": {},
   "outputs": [
    {
     "data": {
      "text/plain": [
       "(14780, 28, 28)"
      ]
     },
     "execution_count": 15,
     "metadata": {},
     "output_type": "execute_result"
    }
   ],
   "source": [
    "new_inputs.shape"
   ]
  },
  {
   "cell_type": "code",
   "execution_count": 16,
   "id": "139eea49",
   "metadata": {},
   "outputs": [
    {
     "data": {
      "text/plain": [
       "(14780, 1, 28, 28)"
      ]
     },
     "execution_count": 16,
     "metadata": {},
     "output_type": "execute_result"
    }
   ],
   "source": [
    "new_inputs[:, None, ...].shape"
   ]
  },
  {
   "cell_type": "code",
   "execution_count": 17,
   "id": "3c33741f",
   "metadata": {},
   "outputs": [
    {
     "data": {
      "text/plain": [
       "(10, 28, 28, 1)"
      ]
     },
     "execution_count": 17,
     "metadata": {},
     "output_type": "execute_result"
    }
   ],
   "source": [
    "sample_input = np.random.randn(10, 28, 28, 1)\n",
    "sample_input.shape"
   ]
  },
  {
   "cell_type": "code",
   "execution_count": 18,
   "id": "ad4f4c2e",
   "metadata": {},
   "outputs": [],
   "source": [
    "# pred_mp,var_mp = mp_model(sample_input)"
   ]
  },
  {
   "cell_type": "code",
   "execution_count": 19,
   "id": "075b9a8a",
   "metadata": {},
   "outputs": [
    {
     "data": {
      "text/plain": [
       "<tensorflow.python.keras.engine.training.Model at 0x7f2c30a4afa0>"
      ]
     },
     "execution_count": 19,
     "metadata": {},
     "output_type": "execute_result"
    }
   ],
   "source": [
    "mp_model"
   ]
  },
  {
   "cell_type": "code",
   "execution_count": 20,
   "id": "81d5821d",
   "metadata": {},
   "outputs": [],
   "source": [
    "%autoreload 2\n",
    "import bayesian \n",
    "from bayesian import McDropout, MomentPropagation\n",
    "\n",
    "mp_m = MomentPropagation(mp_model)"
   ]
  },
  {
   "cell_type": "code",
   "execution_count": 21,
   "id": "0ca9d9fa",
   "metadata": {},
   "outputs": [],
   "source": [
    "prediction = mp_m.predict(sample_input)"
   ]
  },
  {
   "cell_type": "code",
   "execution_count": 22,
   "id": "09f20651",
   "metadata": {},
   "outputs": [
    {
     "data": {
      "text/plain": [
       "[<tf.Tensor: shape=(10, 1), dtype=float32, numpy=\n",
       " array([[0.53084767],\n",
       "        [0.52739304],\n",
       "        [0.52044547],\n",
       "        [0.53171873],\n",
       "        [0.5326495 ],\n",
       "        [0.52638936],\n",
       "        [0.5261485 ],\n",
       "        [0.53905016],\n",
       "        [0.5314689 ],\n",
       "        [0.5272612 ]], dtype=float32)>,\n",
       " <tf.Tensor: shape=(10, 1), dtype=float32, numpy=\n",
       " array([[0.00146235],\n",
       "        [0.0014271 ],\n",
       "        [0.00124851],\n",
       "        [0.00133222],\n",
       "        [0.00156875],\n",
       "        [0.00148529],\n",
       "        [0.00152887],\n",
       "        [0.00150366],\n",
       "        [0.00153645],\n",
       "        [0.00133997]], dtype=float32)>]"
      ]
     },
     "execution_count": 22,
     "metadata": {},
     "output_type": "execute_result"
    }
   ],
   "source": [
    "prediction"
   ]
  },
  {
   "cell_type": "code",
   "execution_count": 23,
   "id": "b9d548f9",
   "metadata": {},
   "outputs": [
    {
     "data": {
      "text/plain": [
       "array([[0.00146235, 0.99853766],\n",
       "       [0.0014271 , 0.9985729 ],\n",
       "       [0.00124851, 0.9987515 ],\n",
       "       [0.00133222, 0.9986678 ],\n",
       "       [0.00156875, 0.99843127],\n",
       "       [0.00148529, 0.9985147 ],\n",
       "       [0.00152887, 0.99847114],\n",
       "       [0.00150366, 0.99849635],\n",
       "       [0.00153645, 0.9984636 ],\n",
       "       [0.00133997, 0.99866   ]], dtype=float32)"
      ]
     },
     "execution_count": 23,
     "metadata": {},
     "output_type": "execute_result"
    }
   ],
   "source": [
    "variance = mp_m.variance(prediction)\n",
    "variance"
   ]
  },
  {
   "cell_type": "code",
   "execution_count": 24,
   "id": "38bf31fa",
   "metadata": {},
   "outputs": [
    {
     "data": {
      "text/plain": [
       "array([[0.53084767, 0.46915233],\n",
       "       [0.52739304, 0.47260696],\n",
       "       [0.52044547, 0.47955453],\n",
       "       [0.53171873, 0.46828127],\n",
       "       [0.5326495 , 0.46735048],\n",
       "       [0.52638936, 0.47361064],\n",
       "       [0.5261485 , 0.4738515 ],\n",
       "       [0.53905016, 0.46094984],\n",
       "       [0.5314689 , 0.46853107],\n",
       "       [0.5272612 , 0.4727388 ]], dtype=float32)"
      ]
     },
     "execution_count": 24,
     "metadata": {},
     "output_type": "execute_result"
    }
   ],
   "source": [
    "exepctation = mp_m.expectation(prediction)\n",
    "exepctation"
   ]
  },
  {
   "cell_type": "code",
   "execution_count": 25,
   "id": "8d4fc015",
   "metadata": {},
   "outputs": [
    {
     "name": "stderr",
     "output_type": "stream",
     "text": [
      "100%|██████████| 28/28 [03:59<00:00,  8.57s/it]\n"
     ]
    }
   ],
   "source": [
    "%autoreload 2\n",
    "\n",
    "from acl import ActiveLearning\n",
    "from active_learning import TrainConfig, Config, Metrics, aggregates_per_key\n",
    "\n",
    "import bayesian \n",
    "from bayesian import McDropout, MomentPropagation\n",
    "\n",
    "\n",
    "train_config = TrainConfig(\n",
    "    batch_size=2,\n",
    "    epochs=1\n",
    ")\n",
    "\n",
    "acq_config = Config(\n",
    "    name=\"std_mean\",\n",
    "    pseudo=True\n",
    ")\n",
    "\n",
    "model_name = \"mp\"\n",
    "acq_name = \"max_entropy\"\n",
    "dp_model = McDropout(model)\n",
    "mp_m = MomentPropagation(mp_model)\n",
    "\n",
    "\n",
    "active_learning = ActiveLearning(\n",
    "    dp_model, \n",
    "    np.expand_dims(new_inputs, axis=-1), labels=new_targets, \n",
    "    train_config=train_config,\n",
    "    acq_name=acq_name\n",
    ")\n",
    "\n",
    "history = active_learning.start(step_size=40)\n",
    "\n",
    "\n",
    "# Save history\n",
    "METRICS_PATH = os.path.join(BASE_PATH, \"metrics\")\n",
    "metrics = Metrics(METRICS_PATH, keys=[\"iteration\", \"train_time\", \"query_time\", \"loss\"])\n",
    "metrics.write()"
   ]
  },
  {
   "cell_type": "code",
   "execution_count": 26,
   "id": "d6746ce5",
   "metadata": {},
   "outputs": [],
   "source": [
    "# Compare mc dropout, moment propagation (max_entropy, bald)"
   ]
  },
  {
   "cell_type": "code",
   "execution_count": 30,
   "id": "5551071d",
   "metadata": {},
   "outputs": [
    {
     "data": {
      "text/plain": [
       "[{'iteration': 0,\n",
       "  'train_time': 7.92774772644043,\n",
       "  'query_time': 12.630517482757568,\n",
       "  'loss': [9.713178634643555],\n",
       "  'tf_op_layer_Sigmoid_1_loss': [0.6649017333984375],\n",
       "  'tf_op_layer_Mul_99_loss': [9.048276901245117],\n",
       "  'tf_op_layer_Sigmoid_1_accuracy': [1.0],\n",
       "  'tf_op_layer_Mul_99_accuracy': [0.0]},\n",
       " {'iteration': 400,\n",
       "  'train_time': 5.760694742202759,\n",
       "  'query_time': 2.4270174503326416,\n",
       "  'loss': [9.705347061157227],\n",
       "  'tf_op_layer_Sigmoid_1_loss': [0.664330005645752],\n",
       "  'tf_op_layer_Mul_99_loss': [9.041015625],\n",
       "  'tf_op_layer_Sigmoid_1_accuracy': [1.0],\n",
       "  'tf_op_layer_Mul_99_accuracy': [0.0]},\n",
       " {'iteration': 800,\n",
       "  'train_time': 5.655652046203613,\n",
       "  'query_time': 2.588420867919922,\n",
       "  'loss': [9.70534610748291],\n",
       "  'tf_op_layer_Sigmoid_1_loss': [0.6643299460411072],\n",
       "  'tf_op_layer_Mul_99_loss': [9.041017532348633],\n",
       "  'tf_op_layer_Sigmoid_1_accuracy': [1.0],\n",
       "  'tf_op_layer_Mul_99_accuracy': [0.0]},\n",
       " {'iteration': 1200,\n",
       "  'train_time': 5.680170774459839,\n",
       "  'query_time': 2.380671977996826,\n",
       "  'loss': [9.705345153808594],\n",
       "  'tf_op_layer_Sigmoid_1_loss': [0.664330005645752],\n",
       "  'tf_op_layer_Mul_99_loss': [9.041015625],\n",
       "  'tf_op_layer_Sigmoid_1_accuracy': [1.0],\n",
       "  'tf_op_layer_Mul_99_accuracy': [0.0]},\n",
       " {'iteration': 1600,\n",
       "  'train_time': 5.696356773376465,\n",
       "  'query_time': 2.375490427017212,\n",
       "  'loss': [9.70534610748291],\n",
       "  'tf_op_layer_Sigmoid_1_loss': [0.6643298864364624],\n",
       "  'tf_op_layer_Mul_99_loss': [9.041013717651367],\n",
       "  'tf_op_layer_Sigmoid_1_accuracy': [1.0],\n",
       "  'tf_op_layer_Mul_99_accuracy': [0.0]},\n",
       " {'iteration': 2000,\n",
       "  'train_time': 5.691438436508179,\n",
       "  'query_time': 2.5134546756744385,\n",
       "  'loss': [9.705345153808594],\n",
       "  'tf_op_layer_Sigmoid_1_loss': [0.664330005645752],\n",
       "  'tf_op_layer_Mul_99_loss': [9.041014671325684],\n",
       "  'tf_op_layer_Sigmoid_1_accuracy': [1.0],\n",
       "  'tf_op_layer_Mul_99_accuracy': [0.0]},\n",
       " {'iteration': 2400,\n",
       "  'train_time': 5.562759876251221,\n",
       "  'query_time': 2.3635289669036865,\n",
       "  'loss': [9.70534610748291],\n",
       "  'tf_op_layer_Sigmoid_1_loss': [0.6643300652503967],\n",
       "  'tf_op_layer_Mul_99_loss': [9.041014671325684],\n",
       "  'tf_op_layer_Sigmoid_1_accuracy': [1.0],\n",
       "  'tf_op_layer_Mul_99_accuracy': [0.0]},\n",
       " {'iteration': 2800,\n",
       "  'train_time': 5.7362961769104,\n",
       "  'query_time': 2.37589430809021,\n",
       "  'loss': [9.705347061157227],\n",
       "  'tf_op_layer_Sigmoid_1_loss': [0.664330005645752],\n",
       "  'tf_op_layer_Mul_99_loss': [9.041015625],\n",
       "  'tf_op_layer_Sigmoid_1_accuracy': [1.0],\n",
       "  'tf_op_layer_Mul_99_accuracy': [0.0]},\n",
       " {'iteration': 3200,\n",
       "  'train_time': 5.537014484405518,\n",
       "  'query_time': 2.3527023792266846,\n",
       "  'loss': [9.70534610748291],\n",
       "  'tf_op_layer_Sigmoid_1_loss': [0.6643299460411072],\n",
       "  'tf_op_layer_Mul_99_loss': [9.041016578674316],\n",
       "  'tf_op_layer_Sigmoid_1_accuracy': [1.0],\n",
       "  'tf_op_layer_Mul_99_accuracy': [0.0]},\n",
       " {'iteration': 3600,\n",
       "  'train_time': 5.656391382217407,\n",
       "  'query_time': 2.3447353839874268,\n",
       "  'loss': [9.705345153808594],\n",
       "  'tf_op_layer_Sigmoid_1_loss': [0.664330005645752],\n",
       "  'tf_op_layer_Mul_99_loss': [9.041014671325684],\n",
       "  'tf_op_layer_Sigmoid_1_accuracy': [1.0],\n",
       "  'tf_op_layer_Mul_99_accuracy': [0.0]},\n",
       " {'iteration': 4000,\n",
       "  'train_time': 5.5873637199401855,\n",
       "  'query_time': 2.3502728939056396,\n",
       "  'loss': [9.705345153808594],\n",
       "  'tf_op_layer_Sigmoid_1_loss': [0.6643299460411072],\n",
       "  'tf_op_layer_Mul_99_loss': [9.041015625],\n",
       "  'tf_op_layer_Sigmoid_1_accuracy': [1.0],\n",
       "  'tf_op_layer_Mul_99_accuracy': [0.0]},\n",
       " {'iteration': 4400,\n",
       "  'train_time': 5.715396881103516,\n",
       "  'query_time': 2.3493452072143555,\n",
       "  'loss': [9.705345153808594],\n",
       "  'tf_op_layer_Sigmoid_1_loss': [0.6643299460411072],\n",
       "  'tf_op_layer_Mul_99_loss': [9.041015625],\n",
       "  'tf_op_layer_Sigmoid_1_accuracy': [1.0],\n",
       "  'tf_op_layer_Mul_99_accuracy': [0.0]},\n",
       " {'iteration': 4800,\n",
       "  'train_time': 5.673006772994995,\n",
       "  'query_time': 2.3738961219787598,\n",
       "  'loss': [9.70534610748291],\n",
       "  'tf_op_layer_Sigmoid_1_loss': [0.664330005645752],\n",
       "  'tf_op_layer_Mul_99_loss': [9.041014671325684],\n",
       "  'tf_op_layer_Sigmoid_1_accuracy': [1.0],\n",
       "  'tf_op_layer_Mul_99_accuracy': [0.0]},\n",
       " {'iteration': 5200,\n",
       "  'train_time': 5.900027275085449,\n",
       "  'query_time': 2.3865084648132324,\n",
       "  'loss': [9.705345153808594],\n",
       "  'tf_op_layer_Sigmoid_1_loss': [0.6643299460411072],\n",
       "  'tf_op_layer_Mul_99_loss': [9.041014671325684],\n",
       "  'tf_op_layer_Sigmoid_1_accuracy': [1.0],\n",
       "  'tf_op_layer_Mul_99_accuracy': [0.0]},\n",
       " {'iteration': 5600,\n",
       "  'train_time': 5.758491277694702,\n",
       "  'query_time': 2.3881397247314453,\n",
       "  'loss': [9.705345153808594],\n",
       "  'tf_op_layer_Sigmoid_1_loss': [0.6643299460411072],\n",
       "  'tf_op_layer_Mul_99_loss': [9.041014671325684],\n",
       "  'tf_op_layer_Sigmoid_1_accuracy': [1.0],\n",
       "  'tf_op_layer_Mul_99_accuracy': [0.0]},\n",
       " {'iteration': 6000,\n",
       "  'train_time': 5.69085955619812,\n",
       "  'query_time': 2.3693132400512695,\n",
       "  'loss': [9.705345153808594],\n",
       "  'tf_op_layer_Sigmoid_1_loss': [0.6643299460411072],\n",
       "  'tf_op_layer_Mul_99_loss': [9.041014671325684],\n",
       "  'tf_op_layer_Sigmoid_1_accuracy': [1.0],\n",
       "  'tf_op_layer_Mul_99_accuracy': [0.0]},\n",
       " {'iteration': 6400,\n",
       "  'train_time': 5.557558059692383,\n",
       "  'query_time': 2.405029773712158,\n",
       "  'loss': [9.705345153808594],\n",
       "  'tf_op_layer_Sigmoid_1_loss': [0.6643299460411072],\n",
       "  'tf_op_layer_Mul_99_loss': [9.041016578674316],\n",
       "  'tf_op_layer_Sigmoid_1_accuracy': [1.0],\n",
       "  'tf_op_layer_Mul_99_accuracy': [0.0]},\n",
       " {'iteration': 6800,\n",
       "  'train_time': 5.674000024795532,\n",
       "  'query_time': 2.3429367542266846,\n",
       "  'loss': [9.705345153808594],\n",
       "  'tf_op_layer_Sigmoid_1_loss': [0.6643298864364624],\n",
       "  'tf_op_layer_Mul_99_loss': [9.041016578674316],\n",
       "  'tf_op_layer_Sigmoid_1_accuracy': [1.0],\n",
       "  'tf_op_layer_Mul_99_accuracy': [0.0]},\n",
       " {'iteration': 7200,\n",
       "  'train_time': 5.711211919784546,\n",
       "  'query_time': 2.4993114471435547,\n",
       "  'loss': [9.705347061157227],\n",
       "  'tf_op_layer_Sigmoid_1_loss': [0.6643300652503967],\n",
       "  'tf_op_layer_Mul_99_loss': [9.041015625],\n",
       "  'tf_op_layer_Sigmoid_1_accuracy': [1.0],\n",
       "  'tf_op_layer_Mul_99_accuracy': [0.0]},\n",
       " {'iteration': 7600,\n",
       "  'train_time': 6.065927028656006,\n",
       "  'query_time': 2.4192614555358887,\n",
       "  'loss': [9.705344200134277],\n",
       "  'tf_op_layer_Sigmoid_1_loss': [0.664330005645752],\n",
       "  'tf_op_layer_Mul_99_loss': [9.041015625],\n",
       "  'tf_op_layer_Sigmoid_1_accuracy': [1.0],\n",
       "  'tf_op_layer_Mul_99_accuracy': [0.0]},\n",
       " {'iteration': 8000,\n",
       "  'train_time': 5.791905879974365,\n",
       "  'query_time': 2.4125709533691406,\n",
       "  'loss': [9.70534610748291],\n",
       "  'tf_op_layer_Sigmoid_1_loss': [0.664330005645752],\n",
       "  'tf_op_layer_Mul_99_loss': [9.041015625],\n",
       "  'tf_op_layer_Sigmoid_1_accuracy': [1.0],\n",
       "  'tf_op_layer_Mul_99_accuracy': [0.0]},\n",
       " {'iteration': 8400,\n",
       "  'train_time': 5.639018535614014,\n",
       "  'query_time': 2.419055223464966,\n",
       "  'loss': [9.70534610748291],\n",
       "  'tf_op_layer_Sigmoid_1_loss': [0.6643299460411072],\n",
       "  'tf_op_layer_Mul_99_loss': [9.041014671325684],\n",
       "  'tf_op_layer_Sigmoid_1_accuracy': [1.0],\n",
       "  'tf_op_layer_Mul_99_accuracy': [0.0]},\n",
       " {'iteration': 8800,\n",
       "  'train_time': 5.877767324447632,\n",
       "  'query_time': 2.3665361404418945,\n",
       "  'loss': [9.705345153808594],\n",
       "  'tf_op_layer_Sigmoid_1_loss': [0.6643299460411072],\n",
       "  'tf_op_layer_Mul_99_loss': [9.041016578674316],\n",
       "  'tf_op_layer_Sigmoid_1_accuracy': [1.0],\n",
       "  'tf_op_layer_Mul_99_accuracy': [0.0]},\n",
       " {'iteration': 9200,\n",
       "  'train_time': 5.612346410751343,\n",
       "  'query_time': 2.439469337463379,\n",
       "  'loss': [9.70534610748291],\n",
       "  'tf_op_layer_Sigmoid_1_loss': [0.664330005645752],\n",
       "  'tf_op_layer_Mul_99_loss': [9.041015625],\n",
       "  'tf_op_layer_Sigmoid_1_accuracy': [1.0],\n",
       "  'tf_op_layer_Mul_99_accuracy': [0.0]},\n",
       " {'iteration': 9600,\n",
       "  'train_time': 5.6577231884002686,\n",
       "  'query_time': 2.4274463653564453,\n",
       "  'loss': [9.705345153808594],\n",
       "  'tf_op_layer_Sigmoid_1_loss': [0.664330005645752],\n",
       "  'tf_op_layer_Mul_99_loss': [9.041016578674316],\n",
       "  'tf_op_layer_Sigmoid_1_accuracy': [1.0],\n",
       "  'tf_op_layer_Mul_99_accuracy': [0.0]},\n",
       " {'iteration': 10000,\n",
       "  'train_time': 5.741299629211426,\n",
       "  'query_time': 2.4426074028015137,\n",
       "  'loss': [9.705347061157227],\n",
       "  'tf_op_layer_Sigmoid_1_loss': [0.664330005645752],\n",
       "  'tf_op_layer_Mul_99_loss': [9.041015625],\n",
       "  'tf_op_layer_Sigmoid_1_accuracy': [1.0],\n",
       "  'tf_op_layer_Mul_99_accuracy': [0.0]},\n",
       " {'iteration': 10400,\n",
       "  'train_time': 5.735220670700073,\n",
       "  'query_time': 2.726954221725464,\n",
       "  'loss': [9.705345153808594],\n",
       "  'tf_op_layer_Sigmoid_1_loss': [0.6643299460411072],\n",
       "  'tf_op_layer_Mul_99_loss': [9.041016578674316],\n",
       "  'tf_op_layer_Sigmoid_1_accuracy': [1.0],\n",
       "  'tf_op_layer_Mul_99_accuracy': [0.0]},\n",
       " {'iteration': 10800,\n",
       "  'train_time': 5.655827045440674,\n",
       "  'query_time': 2.450510025024414,\n",
       "  'loss': [9.705345153808594],\n",
       "  'tf_op_layer_Sigmoid_1_loss': [0.6643300652503967],\n",
       "  'tf_op_layer_Mul_99_loss': [9.041013717651367],\n",
       "  'tf_op_layer_Sigmoid_1_accuracy': [1.0],\n",
       "  'tf_op_layer_Mul_99_accuracy': [0.0]}]"
      ]
     },
     "execution_count": 30,
     "metadata": {},
     "output_type": "execute_result"
    }
   ],
   "source": [
    "history"
   ]
  },
  {
   "cell_type": "code",
   "execution_count": 53,
   "id": "01a81796",
   "metadata": {},
   "outputs": [],
   "source": [
    "%autoreload 2\n",
    "\n"
   ]
  },
  {
   "cell_type": "code",
   "execution_count": 54,
   "id": "f89e7b89",
   "metadata": {},
   "outputs": [],
   "source": [
    "\n",
    "\n",
    "metrics.write(\"test\", history)"
   ]
  },
  {
   "cell_type": "code",
   "execution_count": 55,
   "id": "6668c692",
   "metadata": {},
   "outputs": [
    {
     "data": {
      "text/plain": [
       "[{'iteration': '0',\n",
       "  'train_time': '7.92774772644043',\n",
       "  'query_time': '12.630517482757568',\n",
       "  'loss': '9.713178634643555'},\n",
       " {'iteration': '400',\n",
       "  'train_time': '5.760694742202759',\n",
       "  'query_time': '2.4270174503326416',\n",
       "  'loss': '9.705347061157227'},\n",
       " {'iteration': '800',\n",
       "  'train_time': '5.655652046203613',\n",
       "  'query_time': '2.588420867919922',\n",
       "  'loss': '9.70534610748291'},\n",
       " {'iteration': '1200',\n",
       "  'train_time': '5.680170774459839',\n",
       "  'query_time': '2.380671977996826',\n",
       "  'loss': '9.705345153808594'},\n",
       " {'iteration': '1600',\n",
       "  'train_time': '5.696356773376465',\n",
       "  'query_time': '2.375490427017212',\n",
       "  'loss': '9.70534610748291'}]"
      ]
     },
     "execution_count": 55,
     "metadata": {},
     "output_type": "execute_result"
    }
   ],
   "source": [
    "read_metrics = metrics.read(\"test\")\n",
    "read_metrics[:5]"
   ]
  },
  {
   "cell_type": "code",
   "execution_count": 69,
   "id": "0036c010",
   "metadata": {},
   "outputs": [
    {
     "data": {
      "text/html": [
       "<div>\n",
       "<style scoped>\n",
       "    .dataframe tbody tr th:only-of-type {\n",
       "        vertical-align: middle;\n",
       "    }\n",
       "\n",
       "    .dataframe tbody tr th {\n",
       "        vertical-align: top;\n",
       "    }\n",
       "\n",
       "    .dataframe thead th {\n",
       "        text-align: right;\n",
       "    }\n",
       "</style>\n",
       "<table border=\"1\" class=\"dataframe\">\n",
       "  <thead>\n",
       "    <tr style=\"text-align: right;\">\n",
       "      <th></th>\n",
       "      <th>iteration</th>\n",
       "      <th>loss</th>\n",
       "    </tr>\n",
       "  </thead>\n",
       "  <tbody>\n",
       "    <tr>\n",
       "      <th>0</th>\n",
       "      <td>0</td>\n",
       "      <td>9.713178634643555</td>\n",
       "    </tr>\n",
       "    <tr>\n",
       "      <th>1</th>\n",
       "      <td>400</td>\n",
       "      <td>9.705347061157227</td>\n",
       "    </tr>\n",
       "    <tr>\n",
       "      <th>2</th>\n",
       "      <td>800</td>\n",
       "      <td>9.70534610748291</td>\n",
       "    </tr>\n",
       "    <tr>\n",
       "      <th>3</th>\n",
       "      <td>1200</td>\n",
       "      <td>9.705345153808594</td>\n",
       "    </tr>\n",
       "    <tr>\n",
       "      <th>4</th>\n",
       "      <td>1600</td>\n",
       "      <td>9.70534610748291</td>\n",
       "    </tr>\n",
       "    <tr>\n",
       "      <th>5</th>\n",
       "      <td>2000</td>\n",
       "      <td>9.705345153808594</td>\n",
       "    </tr>\n",
       "    <tr>\n",
       "      <th>6</th>\n",
       "      <td>2400</td>\n",
       "      <td>9.70534610748291</td>\n",
       "    </tr>\n",
       "    <tr>\n",
       "      <th>7</th>\n",
       "      <td>2800</td>\n",
       "      <td>9.705347061157227</td>\n",
       "    </tr>\n",
       "    <tr>\n",
       "      <th>8</th>\n",
       "      <td>3200</td>\n",
       "      <td>9.70534610748291</td>\n",
       "    </tr>\n",
       "    <tr>\n",
       "      <th>9</th>\n",
       "      <td>3600</td>\n",
       "      <td>9.705345153808594</td>\n",
       "    </tr>\n",
       "    <tr>\n",
       "      <th>10</th>\n",
       "      <td>4000</td>\n",
       "      <td>9.705345153808594</td>\n",
       "    </tr>\n",
       "    <tr>\n",
       "      <th>11</th>\n",
       "      <td>4400</td>\n",
       "      <td>9.705345153808594</td>\n",
       "    </tr>\n",
       "    <tr>\n",
       "      <th>12</th>\n",
       "      <td>4800</td>\n",
       "      <td>9.70534610748291</td>\n",
       "    </tr>\n",
       "    <tr>\n",
       "      <th>13</th>\n",
       "      <td>5200</td>\n",
       "      <td>9.705345153808594</td>\n",
       "    </tr>\n",
       "    <tr>\n",
       "      <th>14</th>\n",
       "      <td>5600</td>\n",
       "      <td>9.705345153808594</td>\n",
       "    </tr>\n",
       "    <tr>\n",
       "      <th>15</th>\n",
       "      <td>6000</td>\n",
       "      <td>9.705345153808594</td>\n",
       "    </tr>\n",
       "    <tr>\n",
       "      <th>16</th>\n",
       "      <td>6400</td>\n",
       "      <td>9.705345153808594</td>\n",
       "    </tr>\n",
       "    <tr>\n",
       "      <th>17</th>\n",
       "      <td>6800</td>\n",
       "      <td>9.705345153808594</td>\n",
       "    </tr>\n",
       "    <tr>\n",
       "      <th>18</th>\n",
       "      <td>7200</td>\n",
       "      <td>9.705347061157227</td>\n",
       "    </tr>\n",
       "    <tr>\n",
       "      <th>19</th>\n",
       "      <td>7600</td>\n",
       "      <td>9.705344200134277</td>\n",
       "    </tr>\n",
       "    <tr>\n",
       "      <th>20</th>\n",
       "      <td>8000</td>\n",
       "      <td>9.70534610748291</td>\n",
       "    </tr>\n",
       "    <tr>\n",
       "      <th>21</th>\n",
       "      <td>8400</td>\n",
       "      <td>9.70534610748291</td>\n",
       "    </tr>\n",
       "    <tr>\n",
       "      <th>22</th>\n",
       "      <td>8800</td>\n",
       "      <td>9.705345153808594</td>\n",
       "    </tr>\n",
       "    <tr>\n",
       "      <th>23</th>\n",
       "      <td>9200</td>\n",
       "      <td>9.70534610748291</td>\n",
       "    </tr>\n",
       "    <tr>\n",
       "      <th>24</th>\n",
       "      <td>9600</td>\n",
       "      <td>9.705345153808594</td>\n",
       "    </tr>\n",
       "    <tr>\n",
       "      <th>25</th>\n",
       "      <td>10000</td>\n",
       "      <td>9.705347061157227</td>\n",
       "    </tr>\n",
       "    <tr>\n",
       "      <th>26</th>\n",
       "      <td>10400</td>\n",
       "      <td>9.705345153808594</td>\n",
       "    </tr>\n",
       "    <tr>\n",
       "      <th>27</th>\n",
       "      <td>10800</td>\n",
       "      <td>9.705345153808594</td>\n",
       "    </tr>\n",
       "  </tbody>\n",
       "</table>\n",
       "</div>"
      ],
      "text/plain": [
       "   iteration               loss\n",
       "0          0  9.713178634643555\n",
       "1        400  9.705347061157227\n",
       "2        800   9.70534610748291\n",
       "3       1200  9.705345153808594\n",
       "4       1600   9.70534610748291\n",
       "5       2000  9.705345153808594\n",
       "6       2400   9.70534610748291\n",
       "7       2800  9.705347061157227\n",
       "8       3200   9.70534610748291\n",
       "9       3600  9.705345153808594\n",
       "10      4000  9.705345153808594\n",
       "11      4400  9.705345153808594\n",
       "12      4800   9.70534610748291\n",
       "13      5200  9.705345153808594\n",
       "14      5600  9.705345153808594\n",
       "15      6000  9.705345153808594\n",
       "16      6400  9.705345153808594\n",
       "17      6800  9.705345153808594\n",
       "18      7200  9.705347061157227\n",
       "19      7600  9.705344200134277\n",
       "20      8000   9.70534610748291\n",
       "21      8400   9.70534610748291\n",
       "22      8800  9.705345153808594\n",
       "23      9200   9.70534610748291\n",
       "24      9600  9.705345153808594\n",
       "25     10000  9.705347061157227\n",
       "26     10400  9.705345153808594\n",
       "27     10800  9.705345153808594"
      ]
     },
     "execution_count": 69,
     "metadata": {},
     "output_type": "execute_result"
    }
   ],
   "source": [
    "pd.DataFrame(read_metrics)[[\"iteration\", \"loss\"]]"
   ]
  },
  {
   "cell_type": "code",
   "execution_count": null,
   "id": "b30cf8fb",
   "metadata": {},
   "outputs": [],
   "source": []
  }
 ],
 "metadata": {
  "kernelspec": {
   "display_name": "Python 3",
   "language": "python",
   "name": "python3"
  },
  "language_info": {
   "codemirror_mode": {
    "name": "ipython",
    "version": 3
   },
   "file_extension": ".py",
   "mimetype": "text/x-python",
   "name": "python",
   "nbconvert_exporter": "python",
   "pygments_lexer": "ipython3",
   "version": "3.8.8"
  }
 },
 "nbformat": 4,
 "nbformat_minor": 5
}
