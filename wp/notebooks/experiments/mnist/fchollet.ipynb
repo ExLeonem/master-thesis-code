{
 "cells": [
  {
   "cell_type": "markdown",
   "id": "17609ffe",
   "metadata": {},
   "source": [
    "# Active Learning experiment on MNIST\n",
    "\n",
    "\n"
   ]
  },
  {
   "cell_type": "code",
   "execution_count": 1,
   "id": "2227af31",
   "metadata": {},
   "outputs": [],
   "source": [
    "%load_ext autoreload"
   ]
  },
  {
   "cell_type": "code",
   "execution_count": 2,
   "id": "49a493cc",
   "metadata": {},
   "outputs": [],
   "source": [
    "import os, sys\n",
    "import numpy as np\n",
    "import pandas as pd\n",
    "import matplotlib.pyplot as plt\n",
    "import seaborn as sns"
   ]
  },
  {
   "cell_type": "code",
   "execution_count": 3,
   "id": "5d889add",
   "metadata": {},
   "outputs": [],
   "source": [
    "BASE_PATH = os.path.join(os.getcwd(), \"..\", \"..\", \"..\")\n",
    "MODULES_PATH = os.path.join(BASE_PATH, \"modules\")\n",
    "METRICS_PATH = os.path.join(BASE_PATH, \"metrics\")"
   ]
  },
  {
   "cell_type": "code",
   "execution_count": 4,
   "id": "2f580b5c",
   "metadata": {},
   "outputs": [],
   "source": [
    "sys.path.append(MODULES_PATH)\n",
    "sys.path.append(os.path.join(BASE_PATH, \"tf_al\"))"
   ]
  },
  {
   "cell_type": "code",
   "execution_count": 5,
   "id": "2f42158e",
   "metadata": {},
   "outputs": [],
   "source": [
    "from tf_al import ExperimentSuitMetrics\n",
    "from utils import MetricsTransformer, Frame, ExperimentFrame"
   ]
  },
  {
   "cell_type": "code",
   "execution_count": 6,
   "id": "a5ba68c5",
   "metadata": {},
   "outputs": [],
   "source": [
    "dtypes = {\n",
    "    \"run\": int,\n",
    "    \"iteration\": int,\n",
    "    \"train_time\": float,\n",
    "    \"eval_loss\": float,\n",
    "    \"eval_accuracy\": float,\n",
    "    \"query_time\": float,\n",
    "    \"labeled_pool_size\": int,\n",
    "    \"unlabeled_pool_size\": int,\n",
    "    \"method\": str\n",
    "}"
   ]
  },
  {
   "cell_type": "markdown",
   "id": "c2d43885",
   "metadata": {},
   "source": [
    "# MC Dropout"
   ]
  },
  {
   "cell_type": "code",
   "execution_count": 7,
   "id": "b08f04da",
   "metadata": {},
   "outputs": [],
   "source": [
    "def plot_seed_runs(experiment_frames):\n",
    "    \n",
    "    seed_keys = list(experiment_frames.keys())\n",
    "    print(seed_keys)\n",
    "    num_seed_runs = len(seed_keys)\n",
    "    \n",
    "    fig, ax = plt.subplots(num_seed_runs, 3, figsize=(20, 10))\n",
    "    \n",
    "    for i in range(num_seed_runs):\n",
    "        seed = seed_keys[i]\n",
    "        df = experiment_frames[seed]\n",
    "        \n",
    "        sns.lineplot(ax=ax[i][0], data=df, x=\"labeled_pool_size\", y=\"eval_accuracy\", hue=\"method\")\n",
    "        ax[i][0].set_xlabel(\"Pool Size\")\n",
    "        ax[i][0].set_ylabel(\"Eval. Accuracy\")\n",
    "    \n",
    "        sns.lineplot(ax=ax[i][1], data=df, x=\"labeled_pool_size\", y=\"eval_loss\", hue=\"method\")\n",
    "        ax[i][1].set_xlabel(\"Pool Size\")\n",
    "        ax[i][1].set_ylabel(\"Eval. Loss\")\n",
    "        ax[i][1].set_title(\"Seed(={})\".format(seed))\n",
    "\n",
    "        sns.lineplot(ax=ax[i][2], data=df, x=\"labeled_pool_size\", y=\"query_time\", hue=\"method\")\n",
    "        ax[i][2].set_xlabel(\"Pool Size\")\n",
    "        ax[i][2].set_ylabel(\"Eval. Accuracy\")\n",
    "        \n",
    "    plt.tight_layout(pad=2)"
   ]
  },
  {
   "cell_type": "code",
   "execution_count": 8,
   "id": "8c317cf5",
   "metadata": {},
   "outputs": [],
   "source": [
    "base_experiment_path = os.path.join(METRICS_PATH, \"mnist\")\n",
    "metrics_handler = ExperimentSuitMetrics(base_experiment_path)\n",
    "mc_df = MetricsTransformer.load_from_dir(metrics_handler, \"mc_dropout\", dtype=dtypes)"
   ]
  },
  {
   "cell_type": "code",
   "execution_count": 9,
   "id": "30f5e89c",
   "metadata": {},
   "outputs": [],
   "source": [
    "%autoreload 2\n",
    "from utils import ExperimentFrame\n",
    "res = ExperimentFrame(mc_df)\n",
    "processed_frame = res.get_frame()"
   ]
  },
  {
   "cell_type": "code",
   "execution_count": null,
   "id": "0f72d593",
   "metadata": {},
   "outputs": [],
   "source": []
  },
  {
   "cell_type": "code",
   "execution_count": null,
   "id": "2b5677d3",
   "metadata": {},
   "outputs": [],
   "source": []
  },
  {
   "cell_type": "code",
   "execution_count": 10,
   "id": "efbbc5fc",
   "metadata": {},
   "outputs": [
    {
     "data": {
      "text/plain": [
       "True"
      ]
     },
     "execution_count": 10,
     "metadata": {},
     "output_type": "execute_result"
    }
   ],
   "source": [
    "\"model\" in mc_df"
   ]
  },
  {
   "cell_type": "code",
   "execution_count": 11,
   "id": "87f30ec6",
   "metadata": {},
   "outputs": [
    {
     "data": {
      "text/html": [
       "<div>\n",
       "<style scoped>\n",
       "    .dataframe tbody tr th:only-of-type {\n",
       "        vertical-align: middle;\n",
       "    }\n",
       "\n",
       "    .dataframe tbody tr th {\n",
       "        vertical-align: top;\n",
       "    }\n",
       "\n",
       "    .dataframe thead th {\n",
       "        text-align: right;\n",
       "    }\n",
       "</style>\n",
       "<table border=\"1\" class=\"dataframe\">\n",
       "  <thead>\n",
       "    <tr style=\"text-align: right;\">\n",
       "      <th></th>\n",
       "      <th>method</th>\n",
       "      <th>model</th>\n",
       "      <th>run</th>\n",
       "      <th>train_time</th>\n",
       "      <th>query_time</th>\n",
       "      <th>eval_loss</th>\n",
       "      <th>eval_accuracy</th>\n",
       "      <th>labeled_pool_size</th>\n",
       "      <th>unlabeled_pool_size</th>\n",
       "    </tr>\n",
       "    <tr>\n",
       "      <th>iteration</th>\n",
       "      <th></th>\n",
       "      <th></th>\n",
       "      <th></th>\n",
       "      <th></th>\n",
       "      <th></th>\n",
       "      <th></th>\n",
       "      <th></th>\n",
       "      <th></th>\n",
       "      <th></th>\n",
       "    </tr>\n",
       "  </thead>\n",
       "  <tbody>\n",
       "    <tr>\n",
       "      <th>1</th>\n",
       "      <td>BALD</td>\n",
       "      <td>MC Dropout</td>\n",
       "      <td>4</td>\n",
       "      <td>2.190351</td>\n",
       "      <td>17.176010</td>\n",
       "      <td>1.720373</td>\n",
       "      <td>0.528889</td>\n",
       "      <td>20</td>\n",
       "      <td>59870</td>\n",
       "    </tr>\n",
       "    <tr>\n",
       "      <th>2</th>\n",
       "      <td>BALD</td>\n",
       "      <td>MC Dropout</td>\n",
       "      <td>4</td>\n",
       "      <td>2.896022</td>\n",
       "      <td>17.159826</td>\n",
       "      <td>1.497197</td>\n",
       "      <td>0.577600</td>\n",
       "      <td>30</td>\n",
       "      <td>59860</td>\n",
       "    </tr>\n",
       "    <tr>\n",
       "      <th>3</th>\n",
       "      <td>BALD</td>\n",
       "      <td>MC Dropout</td>\n",
       "      <td>4</td>\n",
       "      <td>3.551120</td>\n",
       "      <td>17.228280</td>\n",
       "      <td>1.477393</td>\n",
       "      <td>0.589200</td>\n",
       "      <td>40</td>\n",
       "      <td>59850</td>\n",
       "    </tr>\n",
       "    <tr>\n",
       "      <th>4</th>\n",
       "      <td>BALD</td>\n",
       "      <td>MC Dropout</td>\n",
       "      <td>4</td>\n",
       "      <td>4.199586</td>\n",
       "      <td>17.253509</td>\n",
       "      <td>1.233238</td>\n",
       "      <td>0.639956</td>\n",
       "      <td>50</td>\n",
       "      <td>59840</td>\n",
       "    </tr>\n",
       "    <tr>\n",
       "      <th>5</th>\n",
       "      <td>BALD</td>\n",
       "      <td>MC Dropout</td>\n",
       "      <td>4</td>\n",
       "      <td>4.910980</td>\n",
       "      <td>17.204824</td>\n",
       "      <td>1.066337</td>\n",
       "      <td>0.682178</td>\n",
       "      <td>60</td>\n",
       "      <td>59830</td>\n",
       "    </tr>\n",
       "  </tbody>\n",
       "</table>\n",
       "</div>"
      ],
      "text/plain": [
       "          method       model  run  train_time  query_time  eval_loss  \\\n",
       "iteration                                                              \n",
       "1           BALD  MC Dropout    4    2.190351   17.176010   1.720373   \n",
       "2           BALD  MC Dropout    4    2.896022   17.159826   1.497197   \n",
       "3           BALD  MC Dropout    4    3.551120   17.228280   1.477393   \n",
       "4           BALD  MC Dropout    4    4.199586   17.253509   1.233238   \n",
       "5           BALD  MC Dropout    4    4.910980   17.204824   1.066337   \n",
       "\n",
       "           eval_accuracy  labeled_pool_size  unlabeled_pool_size  \n",
       "iteration                                                         \n",
       "1               0.528889                 20                59870  \n",
       "2               0.577600                 30                59860  \n",
       "3               0.589200                 40                59850  \n",
       "4               0.639956                 50                59840  \n",
       "5               0.682178                 60                59830  "
      ]
     },
     "execution_count": 11,
     "metadata": {},
     "output_type": "execute_result"
    }
   ],
   "source": [
    "%autoreload 2\n",
    "df_mc_method = Frame.split_by(mc_df, \"method\")\n",
    "df_mc_mean = Frame.mean(df_mc_method, \"iteration\", [\"method\", \"model\"])\n",
    "df_mc_mean[0].head()"
   ]
  },
  {
   "cell_type": "code",
   "execution_count": 12,
   "id": "50d60fcb",
   "metadata": {},
   "outputs": [],
   "source": [
    "from tf_al.score import leff"
   ]
  },
  {
   "cell_type": "code",
   "execution_count": 13,
   "id": "9374ec39",
   "metadata": {},
   "outputs": [],
   "source": [
    "baseline_acc = df_mc_mean[4][\"eval_accuracy\"].to_numpy()\n",
    "bald_acc = df_mc_mean[0][\"eval_accuracy\"].to_numpy()"
   ]
  },
  {
   "cell_type": "code",
   "execution_count": 14,
   "id": "d5d0b3b4",
   "metadata": {},
   "outputs": [
    {
     "data": {
      "text/html": [
       "<div>\n",
       "<style scoped>\n",
       "    .dataframe tbody tr th:only-of-type {\n",
       "        vertical-align: middle;\n",
       "    }\n",
       "\n",
       "    .dataframe tbody tr th {\n",
       "        vertical-align: top;\n",
       "    }\n",
       "\n",
       "    .dataframe thead th {\n",
       "        text-align: right;\n",
       "    }\n",
       "</style>\n",
       "<table border=\"1\" class=\"dataframe\">\n",
       "  <thead>\n",
       "    <tr style=\"text-align: right;\">\n",
       "      <th></th>\n",
       "      <th>method</th>\n",
       "      <th>model</th>\n",
       "      <th>run</th>\n",
       "      <th>train_time</th>\n",
       "      <th>query_time</th>\n",
       "      <th>eval_loss</th>\n",
       "      <th>eval_accuracy</th>\n",
       "      <th>labeled_pool_size</th>\n",
       "      <th>unlabeled_pool_size</th>\n",
       "    </tr>\n",
       "    <tr>\n",
       "      <th>iteration</th>\n",
       "      <th></th>\n",
       "      <th></th>\n",
       "      <th></th>\n",
       "      <th></th>\n",
       "      <th></th>\n",
       "      <th></th>\n",
       "      <th></th>\n",
       "      <th></th>\n",
       "      <th></th>\n",
       "    </tr>\n",
       "  </thead>\n",
       "  <tbody>\n",
       "    <tr>\n",
       "      <th>1</th>\n",
       "      <td>Max. Var. Ratio</td>\n",
       "      <td>MC Dropout</td>\n",
       "      <td>4</td>\n",
       "      <td>2.176331</td>\n",
       "      <td>17.067586</td>\n",
       "      <td>1.720024</td>\n",
       "      <td>0.528933</td>\n",
       "      <td>20</td>\n",
       "      <td>59870</td>\n",
       "    </tr>\n",
       "    <tr>\n",
       "      <th>2</th>\n",
       "      <td>Max. Var. Ratio</td>\n",
       "      <td>MC Dropout</td>\n",
       "      <td>4</td>\n",
       "      <td>2.889261</td>\n",
       "      <td>17.057717</td>\n",
       "      <td>1.466966</td>\n",
       "      <td>0.588489</td>\n",
       "      <td>30</td>\n",
       "      <td>59860</td>\n",
       "    </tr>\n",
       "    <tr>\n",
       "      <th>3</th>\n",
       "      <td>Max. Var. Ratio</td>\n",
       "      <td>MC Dropout</td>\n",
       "      <td>4</td>\n",
       "      <td>3.563071</td>\n",
       "      <td>17.062053</td>\n",
       "      <td>1.314025</td>\n",
       "      <td>0.612622</td>\n",
       "      <td>40</td>\n",
       "      <td>59850</td>\n",
       "    </tr>\n",
       "    <tr>\n",
       "      <th>4</th>\n",
       "      <td>Max. Var. Ratio</td>\n",
       "      <td>MC Dropout</td>\n",
       "      <td>4</td>\n",
       "      <td>4.261497</td>\n",
       "      <td>17.211113</td>\n",
       "      <td>1.119199</td>\n",
       "      <td>0.663422</td>\n",
       "      <td>50</td>\n",
       "      <td>59840</td>\n",
       "    </tr>\n",
       "    <tr>\n",
       "      <th>5</th>\n",
       "      <td>Max. Var. Ratio</td>\n",
       "      <td>MC Dropout</td>\n",
       "      <td>4</td>\n",
       "      <td>4.893893</td>\n",
       "      <td>16.980116</td>\n",
       "      <td>1.096661</td>\n",
       "      <td>0.675067</td>\n",
       "      <td>60</td>\n",
       "      <td>59830</td>\n",
       "    </tr>\n",
       "  </tbody>\n",
       "</table>\n",
       "</div>"
      ],
      "text/plain": [
       "                    method       model  run  train_time  query_time  \\\n",
       "iteration                                                             \n",
       "1          Max. Var. Ratio  MC Dropout    4    2.176331   17.067586   \n",
       "2          Max. Var. Ratio  MC Dropout    4    2.889261   17.057717   \n",
       "3          Max. Var. Ratio  MC Dropout    4    3.563071   17.062053   \n",
       "4          Max. Var. Ratio  MC Dropout    4    4.261497   17.211113   \n",
       "5          Max. Var. Ratio  MC Dropout    4    4.893893   16.980116   \n",
       "\n",
       "           eval_loss  eval_accuracy  labeled_pool_size  unlabeled_pool_size  \n",
       "iteration                                                                    \n",
       "1           1.720024       0.528933                 20                59870  \n",
       "2           1.466966       0.588489                 30                59860  \n",
       "3           1.314025       0.612622                 40                59850  \n",
       "4           1.119199       0.663422                 50                59840  \n",
       "5           1.096661       0.675067                 60                59830  "
      ]
     },
     "execution_count": 14,
     "metadata": {},
     "output_type": "execute_result"
    }
   ],
   "source": [
    "df_mc_mean[2].head()"
   ]
  },
  {
   "cell_type": "code",
   "execution_count": 15,
   "id": "8c1ee847",
   "metadata": {},
   "outputs": [
    {
     "data": {
      "text/plain": [
       "<AxesSubplot:xlabel='labeled_pool_size', ylabel='eval_accuracy'>"
      ]
     },
     "execution_count": 15,
     "metadata": {},
     "output_type": "execute_result"
    },
    {
     "data": {
      "image/png": "[encoded data removed]",
      "text/plain": [
       "<Figure size 432x288 with 1 Axes>"
      ]
     },
     "metadata": {
      "needs_background": "light"
     },
     "output_type": "display_data"
    }
   ],
   "source": [
    "result = leff(bald_acc, baseline_acc)\n",
    "\n",
    "merged_frames = pd.concat([df_mc_mean[0], df_mc_mean[1], df_mc_mean[2], df_mc_mean[4]])\n",
    "selector = merged_frames[\"labeled_pool_size\"]>50\n",
    "sns.lineplot(data=merged_frames[selector], x=\"labeled_pool_size\", y=\"eval_accuracy\", hue=\"method\")"
   ]
  },
  {
   "cell_type": "code",
   "execution_count": 16,
   "id": "1d2ce0fc",
   "metadata": {},
   "outputs": [],
   "source": [
    "baseline_leff = leff(baseline_acc, baseline_acc)"
   ]
  },
  {
   "cell_type": "code",
   "execution_count": null,
   "id": "fa8a3990",
   "metadata": {},
   "outputs": [],
   "source": []
  },
  {
   "cell_type": "code",
   "execution_count": null,
   "id": "d5309146",
   "metadata": {},
   "outputs": [],
   "source": [
    "mean_frames = Frame.mean(df_mc_method, \"iteration\")"
   ]
  },
  {
   "cell_type": "code",
   "execution_count": null,
   "id": "c6aeaee9",
   "metadata": {},
   "outputs": [],
   "source": [
    "sns.lineplot(data=df_mc_method[0].groupby(\"iteration\").mean(), x=\"labeled_pool_size\", y=\"eval_accuracy\")"
   ]
  },
  {
   "cell_type": "code",
   "execution_count": null,
   "id": "51f618d4",
   "metadata": {},
   "outputs": [],
   "source": []
  },
  {
   "cell_type": "code",
   "execution_count": null,
   "id": "1770e2fb",
   "metadata": {},
   "outputs": [],
   "source": [
    "out[0]"
   ]
  },
  {
   "cell_type": "code",
   "execution_count": null,
   "id": "ebab5ca4",
   "metadata": {},
   "outputs": [],
   "source": [
    "fig, ax = plt.subplots(1, 3, figsize=(20,10))\n",
    "\n",
    "acc_filter = experiment_frames[\"83152\"][\"eval_accuracy\"] >= .8\n",
    "sns.lineplot(ax=ax[0], data = experiment_frames[\"83152\"][acc_filter], x=\"labeled_pool_size\", y=\"eval_accuracy\", hue=\"method\")\n",
    "ax[0].set_xlabel(\"Labeled Pool Size\")\n",
    "ax[0].set_ylabel(\"Eval. Accuracy\")\n",
    "ax[0].set_title(\"Seed(=83152)\")\n",
    "\n",
    "acc_filter = experiment_frames[\"10942\"][\"eval_accuracy\"] >= .8\n",
    "sns.lineplot(ax=ax[1], data = experiment_frames[\"10942\"][acc_filter], x=\"labeled_pool_size\", y=\"eval_accuracy\", hue=\"method\")\n",
    "ax[1].set_xlabel(\"Labeled Pool Size\")\n",
    "ax[1].set_ylabel(\"Eval. Accuracy\")\n",
    "ax[1].set_title(\"Seed(=10942)\")\n",
    "\n",
    "acc_filter = experiment_frames[\"20432\"][\"eval_accuracy\"] >= .8\n",
    "sns.lineplot(ax=ax[2], data = experiment_frames[\"20432\"][acc_filter], x=\"labeled_pool_size\", y=\"eval_accuracy\", hue=\"method\")\n",
    "ax[2].set_xlabel(\"Labeled Pool Size\")\n",
    "ax[2].set_ylabel(\"Eval. Accuracy\")\n",
    "ax[2].set_title(\"Seed(=20432)\")"
   ]
  },
  {
   "cell_type": "code",
   "execution_count": null,
   "id": "1497390b",
   "metadata": {},
   "outputs": [],
   "source": [
    "columns = [\"eval_loss\", \"eval_accuracy\", \"query_time\", \"labeled_pool_size\", \"unlabeled_pool_size\"]\n",
    "\n",
    "def mean_frames(experiment_frames, columns, dtypes):\n",
    "    \"\"\"\n",
    "        \n",
    "    \"\"\"\n",
    "    \n",
    "    filtered_dtypes = {key: value for key, value in dtypes.items() if key in columns}\n",
    "    df_mean = {}\n",
    "    methods = None\n",
    "\n",
    "    for seed, frame in experiment_frames.items():\n",
    "        \n",
    "        # Create separate frame for each method\n",
    "        methods = np.unique(frame[\"method\"]).tolist()\n",
    "        for method in methods:\n",
    "\n",
    "            # No frame for this \n",
    "            method_filter = frame[\"method\"] == method\n",
    "            if method not in df_mean:\n",
    "                selected = (frame[method_filter])[columns] \n",
    "                df_mean[method] = selected\n",
    "                continue\n",
    "\n",
    "            selected = (frame[method_filter])[columns]\n",
    "            df_mean[method] += selected\n",
    "\n",
    "\n",
    "    # Mean and merge into single frame\n",
    "    frames = []\n",
    "    for method, frame in df_mean.items():\n",
    "\n",
    "        frame /= len(experiment_frames)\n",
    "        frame.insert(0, \"method\", method)\n",
    "        frames.append(frame)\n",
    "    \n",
    "    return pd.concat(frames)"
   ]
  },
  {
   "cell_type": "code",
   "execution_count": null,
   "id": "d261ee67",
   "metadata": {},
   "outputs": [],
   "source": [
    "def add_mean_query_time(frame, per_num_datapoints=10000):\n",
    "    \n",
    "    query_time_per_10k = (frame[\"query_time\"]/frame[\"unlabeled_pool_size\"])*per_num_datapoints\n",
    "    frame.insert(0, \"query_time_per_10k\", query_time_per_10k)\n",
    "    frame.insert(0, \"mean_query_time\", 0)\n",
    "    \n",
    "    unique_methods = frame[\"method\"].unique().tolist()\n",
    "    for method in unique_methods:\n",
    "        selector = frame[\"method\"] == method\n",
    "        mean_query_time = np.mean(frame[selector][\"query_time_per_10k\"])\n",
    "        frame.at[selector, \"mean_query_time\"] = mean_query_time"
   ]
  },
  {
   "cell_type": "code",
   "execution_count": null,
   "id": "eab48105",
   "metadata": {},
   "outputs": [],
   "source": [
    "experiment_frames.keys()"
   ]
  },
  {
   "cell_type": "code",
   "execution_count": null,
   "id": "6480c4ec",
   "metadata": {},
   "outputs": [],
   "source": [
    "stacked = pd.concat([experiment_frames[\"20432\"], experiment_frames[\"83152\"]])\n",
    "sns.lineplot(data=stacked, x=\"labeled_pool_size\", y=\"eval_accuracy\", hue=\"method\", ci=\"sd\")"
   ]
  },
  {
   "cell_type": "code",
   "execution_count": null,
   "id": "c11bc20e",
   "metadata": {},
   "outputs": [],
   "source": [
    "merged = mean_frames(experiment_frames, columns, dtypes)\n",
    "add_mean_query_time(merged, per_num_datapoints=1)"
   ]
  },
  {
   "cell_type": "code",
   "execution_count": null,
   "id": "bfc07411",
   "metadata": {},
   "outputs": [],
   "source": [
    "merged"
   ]
  },
  {
   "cell_type": "code",
   "execution_count": null,
   "id": "e7ec1838",
   "metadata": {},
   "outputs": [],
   "source": [
    "fig, ax = plt.subplots(1, 3, figsize=(25, 10))\n",
    "\n",
    "acc_filter = merged[\"eval_accuracy\"] >= 0.8\n",
    "sns.lineplot(ax=ax[0], data=merged[acc_filter], x=\"labeled_pool_size\", y=\"eval_accuracy\", hue=\"method\")\n",
    "ax[0].set_xlabel(\"Labeled Pool Size\")\n",
    "ax[0].set_ylabel(\"Eval. Accuracy\")\n",
    "\n",
    "sns.lineplot(ax=ax[1], data=merged, x=\"labeled_pool_size\", y=\"eval_loss\", hue=\"method\")\n",
    "ax[1].set_xlabel(\"Labeled Pool Size\")\n",
    "ax[1].set_ylabel(\"Eval. Loss\")\n",
    "\n",
    "method_selector = merged[\"method\"] != \"Random\"\n",
    "sns.barplot(ax=ax[2], data=merged[method_selector], x=\"method\", y=\"query_time_per_10k\", hue=\"method\", ci=\"sd\")\n",
    "ax[2].set_xlabel(\"Labeled Pool Size\")\n",
    "ax[2].set_ylabel(\"Query Time (in seconds, per datapoints)\")\n",
    "ax[2].grid()"
   ]
  },
  {
   "cell_type": "markdown",
   "id": "0f543598",
   "metadata": {},
   "source": [
    "# Moment Propagation"
   ]
  },
  {
   "cell_type": "code",
   "execution_count": null,
   "id": "07ea1e79",
   "metadata": {},
   "outputs": [],
   "source": [
    "base_experiment_path = os.path.join(METRICS_PATH, \"mnist_runs\", \"mp\")\n",
    "experiment_dirs = os.listdir(base_experiment_path)\n",
    "\n",
    "mp_frames = load_frames_from_dirs(experiment_dirs, \"moment_propagation\")\n",
    "mp_frames = {key: value for key, value in mp_frames.items() if key != \"41633\"}\n",
    "plot_seed_runs(mp_frames)"
   ]
  },
  {
   "cell_type": "code",
   "execution_count": null,
   "id": "cb444107",
   "metadata": {},
   "outputs": [],
   "source": [
    "fig, ax = plt.subplots(1, 3, figsize=(20,10))\n",
    "\n",
    "acc_filter = mp_frames[\"83152\"][\"eval_accuracy\"] >= .8\n",
    "sns.lineplot(ax=ax[0], data=mp_frames[\"83152\"][acc_filter], x=\"labeled_pool_size\", y=\"eval_accuracy\", hue=\"method\")\n",
    "ax[0].set_xlabel(\"Labeled Pool Size\")\n",
    "ax[0].set_ylabel(\"Eval. Accuracy\")\n",
    "ax[0].set_title(\"Seed(=83152)\")\n",
    "\n",
    "acc_filter = mp_frames[\"10942\"][\"eval_accuracy\"] >= .8\n",
    "sns.lineplot(ax=ax[1], data=mp_frames[\"10942\"][acc_filter], x=\"labeled_pool_size\", y=\"eval_accuracy\", hue=\"method\")\n",
    "ax[1].set_xlabel(\"Labeled Pool Size\")\n",
    "ax[1].set_ylabel(\"Eval. Accuracy\")\n",
    "ax[1].set_title(\"Seed(=10942)\")\n",
    "\n",
    "acc_filter = mp_frames[\"20432\"][\"eval_accuracy\"] >= .8\n",
    "sns.lineplot(ax=ax[2], data=mp_frames[\"20432\"][acc_filter], x=\"labeled_pool_size\", y=\"eval_accuracy\", hue=\"method\")\n",
    "ax[2].set_xlabel(\"Labeled Pool Size\")\n",
    "ax[2].set_ylabel(\"Eval. Accuracy\")\n",
    "ax[2].set_title(\"Seed(=20432)\")"
   ]
  },
  {
   "cell_type": "code",
   "execution_count": null,
   "id": "7bde70de",
   "metadata": {},
   "outputs": [],
   "source": [
    "df_mean = mean_frames(mp_frames, columns, dtypes)\n",
    "add_mean_query_time(df_mean)"
   ]
  },
  {
   "cell_type": "code",
   "execution_count": null,
   "id": "67c715bd",
   "metadata": {},
   "outputs": [],
   "source": [
    "df_mean"
   ]
  },
  {
   "cell_type": "code",
   "execution_count": null,
   "id": "e486797b",
   "metadata": {},
   "outputs": [],
   "source": [
    "fig, ax = plt.subplots(1, 3, figsize=(25, 10))\n",
    "\n",
    "acc_filter = df_mean[\"eval_accuracy\"] >= 0.8\n",
    "sns.lineplot(ax=ax[0], data=df_mean[acc_filter], x=\"labeled_pool_size\", y=\"eval_accuracy\", hue=\"method\")\n",
    "ax[0].set_xlabel(\"Labeled Pool Size\")\n",
    "ax[0].set_ylabel(\"Eval. Accuracy\")\n",
    "\n",
    "sns.lineplot(ax=ax[1], data=df_mean, x=\"labeled_pool_size\", y=\"eval_loss\", hue=\"method\")\n",
    "ax[1].set_xlabel(\"Labeled Pool Size\")\n",
    "ax[1].set_ylabel(\"Eval. Loss\")\n",
    "\n",
    "sns.barplot(ax=ax[2], data=df_mean, x=\"method\", y=\"mean_query_time\", hue=\"method\")\n",
    "ax[2].set_xlabel(\"Labeled Pool Size\")\n",
    "ax[2].set_ylabel(\"Query Time (in seconds per 10k datapoints)\")"
   ]
  },
  {
   "cell_type": "code",
   "execution_count": null,
   "id": "e425ac84",
   "metadata": {},
   "outputs": [],
   "source": []
  },
  {
   "cell_type": "code",
   "execution_count": null,
   "id": "f9e5b724",
   "metadata": {},
   "outputs": [],
   "source": []
  },
  {
   "cell_type": "code",
   "execution_count": null,
   "id": "a19b84e1",
   "metadata": {},
   "outputs": [],
   "source": [
    "df_mean.insert(0, \"model\", \"MP\")\n",
    "merged.insert(0, \"model\", \"MC Dropout\")\n",
    "all_data = pd.concat([df_mean, merged])\n",
    "\n",
    "fig, ax = plt.subplots(1, 3, figsize=(25, 10))\n",
    "\n",
    "sns.lineplot(ax=ax[0], data=all_data, x=\"labeled_pool_size\", y=\"eval_accuracy\", hue=\"method\", style=\"model\")\n",
    "ax[0].set_xlabel(\"Labeled Pool Size\")\n",
    "ax[0].set_ylabel(\"Eval. Accuracy\")\n",
    "\n",
    "sns.lineplot(ax=ax[1], data=all_data, x=\"labeled_pool_size\", y=\"eval_loss\", hue=\"method\", style=\"model\")\n",
    "ax[1].set_xlabel(\"Labeled Pool Size\")\n",
    "ax[1].set_ylabel(\"Eval. Loss\")\n",
    "\n",
    "sns.barplot(ax=ax[2], data=all_data[all_data[\"method\"] != \"Random\"], x=\"method\", y=\"mean_query_time\", hue=\"model\")"
   ]
  },
  {
   "cell_type": "code",
   "execution_count": null,
   "id": "7cbfc81b",
   "metadata": {},
   "outputs": [],
   "source": [
    "def compare_architectures(frames, method):\n",
    "    \n",
    "    merged_frame = pd.concat(frames)\n",
    "    selector = merged_frame[\"method\"] == method\n",
    "    \n",
    "    fig, ax = plt.subplots(1, 3, figsize=(25, 10))\n",
    "    \n",
    "    sns.lineplot(ax=ax[0], data=merged_frame[selector], x=\"labeled_pool_size\", y=\"eval_accuracy\", hue=\"model\")\n",
    "    ax[0].set_xlabel(\"Labeled Pool Size\")\n",
    "    ax[0].set_ylabel(\"Eval. Accuracy\")\n",
    "    \n",
    "    sns.lineplot(ax=ax[1], data=merged_frame[selector], x=\"labeled_pool_size\", y=\"eval_loss\", hue=\"model\")\n",
    "    ax[1].set_xlabel(\"Labeled Pool Size\")\n",
    "    ax[1].set_ylabel(\"Eval. Loss\")\n",
    "    \n",
    "    sns.barplot(ax=ax[2], data=merged_frame[selector], x=\"model\", y=\"mean_query_time\", hue=\"model\")\n",
    "    ax[2].set_xlabel(\"\")"
   ]
  },
  {
   "cell_type": "code",
   "execution_count": null,
   "id": "c278fd35",
   "metadata": {},
   "outputs": [],
   "source": [
    "np.unique(merged[\"method\"])"
   ]
  },
  {
   "cell_type": "code",
   "execution_count": null,
   "id": "5aa11233",
   "metadata": {},
   "outputs": [],
   "source": [
    "compare_architectures([df_mean, merged], \"BALD\")"
   ]
  },
  {
   "cell_type": "code",
   "execution_count": null,
   "id": "4d3427ab",
   "metadata": {},
   "outputs": [],
   "source": [
    "compare_architectures([df_mean, merged], \"Max. Entropy\")"
   ]
  },
  {
   "cell_type": "code",
   "execution_count": null,
   "id": "093fd48d",
   "metadata": {},
   "outputs": [],
   "source": [
    "compare_architectures([df_mean, merged], \"Max. Var. Ratio\")"
   ]
  },
  {
   "cell_type": "code",
   "execution_count": null,
   "id": "a8cde285",
   "metadata": {},
   "outputs": [],
   "source": [
    "compare_architectures([df_mean, merged], \"Mean Std.\")"
   ]
  },
  {
   "cell_type": "code",
   "execution_count": null,
   "id": "709d723d",
   "metadata": {},
   "outputs": [],
   "source": [
    "gal_exp_path = os.path.join(METRICS_PATH, \"baseline\", \"gal_paper.csv\")\n",
    "gal_data = pd.read_csv(gal_exp_path)"
   ]
  },
  {
   "cell_type": "code",
   "execution_count": null,
   "id": "851e5e44",
   "metadata": {},
   "outputs": [],
   "source": [
    "gal_data.head()"
   ]
  },
  {
   "cell_type": "code",
   "execution_count": null,
   "id": "3b00d3be",
   "metadata": {},
   "outputs": [],
   "source": [
    "plt.plot(gal_data[\"Bald_X\"], gal_data[\"Bald_Y\"])"
   ]
  },
  {
   "cell_type": "code",
   "execution_count": null,
   "id": "f58d2115",
   "metadata": {},
   "outputs": [],
   "source": []
  },
  {
   "cell_type": "code",
   "execution_count": null,
   "id": "30a44f20",
   "metadata": {},
   "outputs": [],
   "source": []
  },
  {
   "cell_type": "code",
   "execution_count": null,
   "id": "60c0c46e",
   "metadata": {},
   "outputs": [],
   "source": []
  }
 ],
 "metadata": {
  "kernelspec": {
   "display_name": "Python 3 (ipykernel)",
   "language": "python",
   "name": "python3"
  },
  "language_info": {
   "codemirror_mode": {
    "name": "ipython",
    "version": 3
   },
   "file_extension": ".py",
   "mimetype": "text/x-python",
   "name": "python",
   "nbconvert_exporter": "python",
   "pygments_lexer": "ipython3",
   "version": "3.8.8"
  }
 },
 "nbformat": 4,
 "nbformat_minor": 5
}
