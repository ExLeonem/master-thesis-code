{
 "cells": [
  {
   "cell_type": "code",
   "execution_count": 1,
   "id": "20739c13",
   "metadata": {},
   "outputs": [],
   "source": [
    "import os, sys\n",
    "import numpy as np\n",
    "from sklearn.model_selection import train_test_split\n",
    "import tensorflow as tf\n",
    "import tensorflow.keras as keras\n",
    "from tensorflow.keras.preprocessing.image import ImageDataGenerator"
   ]
  },
  {
   "cell_type": "code",
   "execution_count": 2,
   "id": "a9c96509",
   "metadata": {},
   "outputs": [],
   "source": [
    "BASE_PATH = os.path.join(os.getcwd(), \"..\", \"..\")\n",
    "MODULES_PATH = os.path.join(BASE_PATH, \"modules\")\n",
    "TF_PATH = os.path.join(BASE_PATH, \"tf_al\")"
   ]
  },
  {
   "cell_type": "code",
   "execution_count": 3,
   "id": "62276a7f",
   "metadata": {},
   "outputs": [],
   "source": [
    "sys.path.append(MODULES_PATH)\n",
    "sys.path.append(TF_PATH)"
   ]
  },
  {
   "cell_type": "code",
   "execution_count": 10,
   "id": "98d555ec",
   "metadata": {},
   "outputs": [],
   "source": [
    "from tf_al import Config, Pool\n",
    "from tf_al.wrapper import McDropout\n",
    "from models import fchollet_cnn, setup_growth, disable_tf_logs"
   ]
  },
  {
   "cell_type": "code",
   "execution_count": 11,
   "id": "de452d9f",
   "metadata": {},
   "outputs": [],
   "source": [
    "SEED = 84123\n",
    "np.random.seed(SEED)\n",
    "tf.random.set_seed(SEED)"
   ]
  },
  {
   "cell_type": "markdown",
   "id": "c002c293",
   "metadata": {},
   "source": [
    "## Prepare datasets"
   ]
  },
  {
   "cell_type": "code",
   "execution_count": 12,
   "id": "876ecb67",
   "metadata": {},
   "outputs": [],
   "source": [
    "(x_train, y_train), (x_test, y_test) = keras.datasets.cifar10.load_data()\n",
    "datagen = ImageDataGenerator(featurewise_center=True, featurewise_std_normalization=True)\n",
    "datagen.fit(x_train)\n",
    "x_train = datagen.standardize(x_train.astype(np.float32))"
   ]
  },
  {
   "cell_type": "code",
   "execution_count": 13,
   "id": "6918bbef",
   "metadata": {},
   "outputs": [],
   "source": [
    "datagen.fit(x_test)\n",
    "x_test = datagen.standardize(x_test.astype(np.float32))\n",
    "\n",
    "y_train = y_train.flatten()\n",
    "y_test = y_test.flatten()\n",
    "\n",
    "init_pool_size = 20\n",
    "dataset = Dataset(\n",
    "    x_train, y_train,\n",
    "    test=(x_test, y_test),\n",
    "    init_size=init_pool_size\n",
    ")"
   ]
  },
  {
   "cell_type": "code",
   "execution_count": 14,
   "id": "63f8afb3",
   "metadata": {},
   "outputs": [],
   "source": [
    "init_size = 500\n",
    "pool = Pool(x_train, y_train)\n",
    "pool.init(init_size)\n",
    "x_lab, y_lab = pool.get_labeled_data()"
   ]
  },
  {
   "cell_type": "code",
   "execution_count": 15,
   "id": "db4d6a67",
   "metadata": {},
   "outputs": [
    {
     "name": "stdout",
     "output_type": "stream",
     "text": [
      "1 Physical GPU's,  1 Logical GPU's\n"
     ]
    }
   ],
   "source": [
    "disable_tf_logs()\n",
    "setup_growth()"
   ]
  },
  {
   "cell_type": "markdown",
   "id": "afe343fc",
   "metadata": {},
   "source": [
    "## Create Mc Dropout model"
   ]
  },
  {
   "cell_type": "code",
   "execution_count": 16,
   "id": "105a4a83",
   "metadata": {},
   "outputs": [],
   "source": [
    "from tensorflow.keras.optimizers import Adam\n",
    "\n",
    "verbose = False\n",
    "optimizer = Adam()\n",
    "loss = \"sparse_categorical_crossentropy\"\n",
    "metrics = [keras.metrics.SparseCategoricalAccuracy()]\n",
    "num_classes = len(list(np.unique(y_test)))\n",
    "input_shape = tuple(x_train.shape[1:])\n",
    "\n",
    "batch_size = 10\n",
    "sample_size = 25\n",
    "config = Config(\n",
    "    fit={\"epochs\": 200, \"batch_size\": batch_size},\n",
    "    query={\"sample_size\": sample_size},\n",
    "    eval={\"batch_size\": batch_size, \"sample_size\": sample_size}\n",
    ")"
   ]
  },
  {
   "cell_type": "code",
   "execution_count": null,
   "id": "903de97f",
   "metadata": {},
   "outputs": [],
   "source": [
    "base_model = fchollet_cnn(input_shape=input_shape, output=num_classes)\n",
    "mc_model = McDropout(base_model, config=config, verbose=verbose)\n",
    "mc_model.compile(optimizer=optimizer, loss=loss, metrics=metrics)"
   ]
  },
  {
   "cell_type": "code",
   "execution_count": null,
   "id": "7f2e4485",
   "metadata": {},
   "outputs": [],
   "source": [
    "mc_model.fit(x_lab, y_lab)"
   ]
  },
  {
   "cell_type": "code",
   "execution_count": 9,
   "id": "2b9d4c97",
   "metadata": {},
   "outputs": [
    {
     "ename": "NameError",
     "evalue": "name 'mc_model' is not defined",
     "output_type": "error",
     "traceback": [
      "\u001b[0;31m---------------------------------------------------------------------------\u001b[0m",
      "\u001b[0;31mNameError\u001b[0m                                 Traceback (most recent call last)",
      "\u001b[0;32m/tmp/ipykernel_58354/3685113071.py\u001b[0m in \u001b[0;36m<module>\u001b[0;34m\u001b[0m\n\u001b[0;32m----> 1\u001b[0;31m \u001b[0mmc_model\u001b[0m\u001b[0;34m.\u001b[0m\u001b[0mevaluate\u001b[0m\u001b[0;34m(\u001b[0m\u001b[0mx_test\u001b[0m\u001b[0;34m,\u001b[0m \u001b[0my_test\u001b[0m\u001b[0;34m,\u001b[0m \u001b[0mbatch_size\u001b[0m\u001b[0;34m=\u001b[0m\u001b[0;36m900\u001b[0m\u001b[0;34m)\u001b[0m\u001b[0;34m\u001b[0m\u001b[0;34m\u001b[0m\u001b[0m\n\u001b[0m",
      "\u001b[0;31mNameError\u001b[0m: name 'mc_model' is not defined"
     ]
    }
   ],
   "source": [
    "mc_model.evaluate(x_test, y_test, batch_size=900)"
   ]
  },
  {
   "cell_type": "code",
   "execution_count": 17,
   "id": "82408085",
   "metadata": {},
   "outputs": [],
   "source": [
    "vgg_model = keras.applications.VGG16(\n",
    "    weights=None,\n",
    "    classes=10,\n",
    "    input_shape=(32, 32, 3)\n",
    ")\n",
    "mc_model = McDropout(vgg_model, config=config, verbose=verbose)\n",
    "mc_model.compile(optimizer=optimizer, loss=loss, metrics=metrics)"
   ]
  },
  {
   "cell_type": "code",
   "execution_count": null,
   "id": "0434fb08",
   "metadata": {},
   "outputs": [
    {
     "name": "stdout",
     "output_type": "stream",
     "text": [
      "Epoch 1/200\n",
      "50/50 [==============================] - 1s 24ms/step - loss: 2.3033 - sparse_categorical_accuracy: 0.0780\n",
      "Epoch 2/200\n",
      "50/50 [==============================] - 1s 23ms/step - loss: 2.3028 - sparse_categorical_accuracy: 0.0840\n",
      "Epoch 3/200\n",
      "50/50 [==============================] - 1s 23ms/step - loss: 2.3027 - sparse_categorical_accuracy: 0.0920\n",
      "Epoch 4/200\n",
      "50/50 [==============================] - 1s 22ms/step - loss: 2.3027 - sparse_categorical_accuracy: 0.0720\n",
      "Epoch 5/200\n",
      "50/50 [==============================] - 1s 22ms/step - loss: 2.3027 - sparse_categorical_accuracy: 0.0760\n",
      "Epoch 6/200\n",
      "50/50 [==============================] - 1s 23ms/step - loss: 2.3027 - sparse_categorical_accuracy: 0.0960\n",
      "Epoch 7/200\n",
      "50/50 [==============================] - 1s 23ms/step - loss: 2.3027 - sparse_categorical_accuracy: 0.0880\n",
      "Epoch 8/200\n",
      "50/50 [==============================] - 1s 23ms/step - loss: 2.3027 - sparse_categorical_accuracy: 0.0640\n",
      "Epoch 9/200\n",
      "50/50 [==============================] - 1s 22ms/step - loss: 2.3027 - sparse_categorical_accuracy: 0.0740\n",
      "Epoch 10/200\n",
      "50/50 [==============================] - 1s 23ms/step - loss: 2.3026 - sparse_categorical_accuracy: 0.0980\n",
      "Epoch 11/200\n",
      "50/50 [==============================] - 1s 22ms/step - loss: 2.3026 - sparse_categorical_accuracy: 0.0860\n",
      "Epoch 12/200\n",
      "50/50 [==============================] - 1s 22ms/step - loss: 2.3026 - sparse_categorical_accuracy: 0.0960\n",
      "Epoch 13/200\n",
      "50/50 [==============================] - 1s 22ms/step - loss: 2.3026 - sparse_categorical_accuracy: 0.0920\n",
      "Epoch 14/200\n",
      "42/50 [========================>.....] - ETA: 0s - loss: 2.3026 - sparse_categorical_accuracy: 0.1048"
     ]
    }
   ],
   "source": [
    "mc_model.fit(x_lab, y_lab)"
   ]
  },
  {
   "cell_type": "code",
   "execution_count": null,
   "id": "bedebc1f",
   "metadata": {},
   "outputs": [],
   "source": [
    "mc_model.evaluate(x_test, y_test, sample_size=1, batch_size=200)"
   ]
  },
  {
   "cell_type": "code",
   "execution_count": null,
   "id": "e80eeb1f",
   "metadata": {},
   "outputs": [],
   "source": []
  }
 ],
 "metadata": {
  "kernelspec": {
   "display_name": "Python 3 (ipykernel)",
   "language": "python",
   "name": "python3"
  },
  "language_info": {
   "codemirror_mode": {
    "name": "ipython",
    "version": 3
   },
   "file_extension": ".py",
   "mimetype": "text/x-python",
   "name": "python",
   "nbconvert_exporter": "python",
   "pygments_lexer": "ipython3",
   "version": "3.8.8"
  }
 },
 "nbformat": 4,
 "nbformat_minor": 5
}
