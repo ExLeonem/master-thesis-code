{
 "cells": [
  {
   "cell_type": "markdown",
   "id": "5f180e77",
   "metadata": {},
   "source": [
    "# Model value comparison"
   ]
  },
  {
   "cell_type": "code",
   "execution_count": 1,
   "id": "a6e07603",
   "metadata": {},
   "outputs": [],
   "source": [
    "%load_ext autoreload"
   ]
  },
  {
   "cell_type": "code",
   "execution_count": 2,
   "id": "b8cbd742",
   "metadata": {},
   "outputs": [],
   "source": [
    "import os, sys\n",
    "import numpy as np\n",
    "import pandas as pd\n",
    "import matplotlib.pyplot as plt\n",
    "import seaborn as sns\n",
    "from sklearn.model_selection import train_test_split"
   ]
  },
  {
   "cell_type": "code",
   "execution_count": 3,
   "id": "53af3c1b",
   "metadata": {},
   "outputs": [],
   "source": [
    "BASE_PATH = os.path.join(os.getcwd(), \"..\", \"..\")\n",
    "MODULES_PATH = os.path.join(BASE_PATH, \"modules\")\n",
    "DATASET_PATH = os.path.join(BASE_PATH, \"datasets\")"
   ]
  },
  {
   "cell_type": "code",
   "execution_count": 4,
   "id": "739f9004",
   "metadata": {},
   "outputs": [],
   "source": [
    "sys.path.append(MODULES_PATH)"
   ]
  },
  {
   "cell_type": "code",
   "execution_count": 5,
   "id": "215c4621",
   "metadata": {},
   "outputs": [],
   "source": [
    "from active_learning import TrainConfig\n",
    "from data import BenchmarkData, DataSetType\n",
    "from bayesian import McDropout, MomentPropagation\n",
    "from models import FcholletCNN, setup_growth"
   ]
  },
  {
   "cell_type": "markdown",
   "id": "6525575f",
   "metadata": {},
   "source": [
    "# Load data"
   ]
  },
  {
   "cell_type": "code",
   "execution_count": 6,
   "id": "9dbc1337",
   "metadata": {},
   "outputs": [],
   "source": [
    "num_classes = 5\n",
    "mnist = BenchmarkData(DataSetType.MNIST, os.path.join(DATASET_PATH, \"mnist\"), dtype=np.float, classes=num_classes)"
   ]
  },
  {
   "cell_type": "code",
   "execution_count": 7,
   "id": "da44fee5",
   "metadata": {},
   "outputs": [
    {
     "name": "stdout",
     "output_type": "stream",
     "text": [
      "Inputs-Shape: (35735, 28, 28, 1)\n",
      "Targets-Shape: (35735,)\n"
     ]
    }
   ],
   "source": [
    "print(\"Inputs-Shape: {}\".format(mnist.inputs.shape))\n",
    "print(\"Targets-Shape: {}\".format(mnist.targets.shape))"
   ]
  },
  {
   "cell_type": "code",
   "execution_count": 45,
   "id": "01f76008",
   "metadata": {},
   "outputs": [],
   "source": [
    "x_train, x_test, y_train, y_test = train_test_split(mnist.inputs, mnist.targets)\n",
    "x_train, x_val, y_train, y_val = train_test_split(x_train, y_train)"
   ]
  },
  {
   "cell_type": "markdown",
   "id": "e6915975",
   "metadata": {},
   "source": [
    "# Train both models"
   ]
  },
  {
   "cell_type": "code",
   "execution_count": 9,
   "id": "7feab3d2",
   "metadata": {},
   "outputs": [
    {
     "name": "stdout",
     "output_type": "stream",
     "text": [
      "1 Physical GPU's,  1 Logical GPU's\n"
     ]
    }
   ],
   "source": [
    "setup_growth()"
   ]
  },
  {
   "cell_type": "code",
   "execution_count": 10,
   "id": "e233514e",
   "metadata": {},
   "outputs": [],
   "source": [
    "base_model = FcholletCNN(num_classes)\n",
    "base_model.compile(optimizer=\"adam\", loss=\"sparse_categorical_crossentropy\", metrics=[\"accuracy\"])"
   ]
  },
  {
   "cell_type": "code",
   "execution_count": 46,
   "id": "f7b20ffe",
   "metadata": {},
   "outputs": [
    {
     "name": "stdout",
     "output_type": "stream",
     "text": [
      "Epoch 1/100\n",
      "335/335 [==============================] - 2s 5ms/step - loss: 0.0332 - accuracy: 0.9958 - val_loss: 0.0066 - val_accuracy: 0.9993\n",
      "Epoch 2/100\n",
      "335/335 [==============================] - 2s 5ms/step - loss: 0.0241 - accuracy: 0.9961 - val_loss: 0.0028 - val_accuracy: 0.9990\n",
      "Epoch 3/100\n",
      "335/335 [==============================] - 2s 5ms/step - loss: 0.0162 - accuracy: 0.9968 - val_loss: 0.0049 - val_accuracy: 0.9991\n",
      "Epoch 4/100\n",
      "335/335 [==============================] - 2s 5ms/step - loss: 0.0089 - accuracy: 0.9976 - val_loss: 0.0036 - val_accuracy: 0.9991\n",
      "Epoch 5/100\n",
      "335/335 [==============================] - 2s 5ms/step - loss: 0.0094 - accuracy: 0.9980 - val_loss: 0.0046 - val_accuracy: 0.9993\n",
      "Epoch 6/100\n",
      "335/335 [==============================] - 2s 5ms/step - loss: 0.0091 - accuracy: 0.9979 - val_loss: 0.0040 - val_accuracy: 0.9994\n",
      "Epoch 7/100\n",
      "335/335 [==============================] - 2s 5ms/step - loss: 0.0096 - accuracy: 0.9982 - val_loss: 0.0073 - val_accuracy: 0.9988\n",
      "Epoch 8/100\n",
      "335/335 [==============================] - 2s 5ms/step - loss: 0.0093 - accuracy: 0.9981 - val_loss: 0.0035 - val_accuracy: 0.9993\n",
      "Epoch 9/100\n",
      "335/335 [==============================] - 2s 5ms/step - loss: 0.0151 - accuracy: 0.9976 - val_loss: 0.0057 - val_accuracy: 0.9990\n",
      "Epoch 10/100\n",
      "335/335 [==============================] - 2s 5ms/step - loss: 0.0060 - accuracy: 0.9989 - val_loss: 0.0039 - val_accuracy: 0.9990\n",
      "Epoch 11/100\n",
      "335/335 [==============================] - 2s 5ms/step - loss: 0.0076 - accuracy: 0.9986 - val_loss: 0.0078 - val_accuracy: 0.9991\n",
      "Epoch 12/100\n",
      "335/335 [==============================] - 2s 5ms/step - loss: 0.0046 - accuracy: 0.9990 - val_loss: 0.0204 - val_accuracy: 0.9987\n",
      "Epoch 13/100\n",
      "335/335 [==============================] - 2s 5ms/step - loss: 0.0071 - accuracy: 0.9987 - val_loss: 0.0037 - val_accuracy: 0.9994\n",
      "Epoch 14/100\n",
      "335/335 [==============================] - 2s 5ms/step - loss: 0.0070 - accuracy: 0.9984 - val_loss: 0.0026 - val_accuracy: 0.9993\n",
      "Epoch 15/100\n",
      "335/335 [==============================] - 2s 5ms/step - loss: 0.0083 - accuracy: 0.9981 - val_loss: 0.0096 - val_accuracy: 0.9991\n",
      "Epoch 16/100\n",
      "335/335 [==============================] - 2s 5ms/step - loss: 0.0116 - accuracy: 0.9980 - val_loss: 0.0016 - val_accuracy: 0.9994\n",
      "Epoch 17/100\n",
      "335/335 [==============================] - 2s 5ms/step - loss: 0.0059 - accuracy: 0.9989 - val_loss: 0.0093 - val_accuracy: 0.9988\n",
      "Epoch 18/100\n",
      "335/335 [==============================] - 2s 5ms/step - loss: 0.0059 - accuracy: 0.9988 - val_loss: 0.0020 - val_accuracy: 0.9993\n",
      "Epoch 19/100\n",
      "335/335 [==============================] - 2s 5ms/step - loss: 0.0095 - accuracy: 0.9983 - val_loss: 0.0099 - val_accuracy: 0.9990\n",
      "Epoch 20/100\n",
      "335/335 [==============================] - 2s 5ms/step - loss: 0.0041 - accuracy: 0.9993 - val_loss: 0.0054 - val_accuracy: 0.9990\n",
      "Epoch 21/100\n",
      "335/335 [==============================] - 2s 5ms/step - loss: 0.0068 - accuracy: 0.9992 - val_loss: 0.0067 - val_accuracy: 0.9991\n",
      "Epoch 22/100\n",
      "335/335 [==============================] - 2s 5ms/step - loss: 0.0070 - accuracy: 0.9982 - val_loss: 0.0039 - val_accuracy: 0.9993\n",
      "Epoch 23/100\n",
      "335/335 [==============================] - 2s 5ms/step - loss: 0.0044 - accuracy: 0.9991 - val_loss: 0.0037 - val_accuracy: 0.9994\n",
      "Epoch 24/100\n",
      "335/335 [==============================] - 2s 5ms/step - loss: 0.0036 - accuracy: 0.9991 - val_loss: 3.4622e-04 - val_accuracy: 0.9999\n",
      "Epoch 25/100\n",
      "335/335 [==============================] - 2s 5ms/step - loss: 0.0086 - accuracy: 0.9990 - val_loss: 0.0034 - val_accuracy: 0.9994\n",
      "Epoch 26/100\n",
      "335/335 [==============================] - 2s 6ms/step - loss: 0.0053 - accuracy: 0.9987 - val_loss: 0.0066 - val_accuracy: 0.9991\n",
      "Epoch 27/100\n",
      "335/335 [==============================] - 2s 5ms/step - loss: 0.0093 - accuracy: 0.9987 - val_loss: 0.0132 - val_accuracy: 0.9990\n",
      "Epoch 28/100\n",
      "335/335 [==============================] - 2s 5ms/step - loss: 0.0106 - accuracy: 0.9981 - val_loss: 0.0146 - val_accuracy: 0.9988\n",
      "Epoch 29/100\n",
      "335/335 [==============================] - 2s 6ms/step - loss: 0.0086 - accuracy: 0.9989 - val_loss: 0.0036 - val_accuracy: 0.9996\n",
      "Epoch 30/100\n",
      "335/335 [==============================] - 2s 5ms/step - loss: 0.0071 - accuracy: 0.9992 - val_loss: 0.0093 - val_accuracy: 0.9990\n",
      "Epoch 31/100\n",
      "335/335 [==============================] - 2s 5ms/step - loss: 0.0078 - accuracy: 0.9987 - val_loss: 0.0058 - val_accuracy: 0.9993\n",
      "Epoch 32/100\n",
      "335/335 [==============================] - 2s 6ms/step - loss: 0.0048 - accuracy: 0.9992 - val_loss: 0.0161 - val_accuracy: 0.9991\n",
      "Epoch 33/100\n",
      "335/335 [==============================] - 2s 6ms/step - loss: 0.0135 - accuracy: 0.9980 - val_loss: 0.0106 - val_accuracy: 0.9990\n",
      "Epoch 34/100\n",
      "335/335 [==============================] - 2s 6ms/step - loss: 0.0058 - accuracy: 0.9989 - val_loss: 0.0241 - val_accuracy: 0.9984\n",
      "Epoch 35/100\n",
      "335/335 [==============================] - 2s 5ms/step - loss: 0.0092 - accuracy: 0.9989 - val_loss: 0.0242 - val_accuracy: 0.9984\n",
      "Epoch 36/100\n",
      "335/335 [==============================] - 2s 5ms/step - loss: 0.0058 - accuracy: 0.9993 - val_loss: 0.0077 - val_accuracy: 0.9988\n",
      "Epoch 37/100\n",
      "335/335 [==============================] - 2s 5ms/step - loss: 0.0063 - accuracy: 0.9991 - val_loss: 0.0109 - val_accuracy: 0.9988\n",
      "Epoch 38/100\n",
      "335/335 [==============================] - 2s 5ms/step - loss: 0.0033 - accuracy: 0.9993 - val_loss: 0.0089 - val_accuracy: 0.9990\n",
      "Epoch 39/100\n",
      "335/335 [==============================] - 2s 5ms/step - loss: 0.0050 - accuracy: 0.9993 - val_loss: 0.0066 - val_accuracy: 0.9988\n",
      "Epoch 40/100\n",
      "335/335 [==============================] - 2s 5ms/step - loss: 0.0119 - accuracy: 0.9989 - val_loss: 0.0112 - val_accuracy: 0.9987\n",
      "Epoch 41/100\n",
      "335/335 [==============================] - 2s 5ms/step - loss: 0.0090 - accuracy: 0.9986 - val_loss: 0.0091 - val_accuracy: 0.9990\n",
      "Epoch 42/100\n",
      "335/335 [==============================] - 2s 5ms/step - loss: 0.0153 - accuracy: 0.9981 - val_loss: 0.0042 - val_accuracy: 0.9994\n",
      "Epoch 43/100\n",
      "335/335 [==============================] - 2s 5ms/step - loss: 0.0070 - accuracy: 0.9992 - val_loss: 0.0166 - val_accuracy: 0.9987\n",
      "Epoch 44/100\n",
      "335/335 [==============================] - 2s 5ms/step - loss: 0.0055 - accuracy: 0.9993 - val_loss: 0.0072 - val_accuracy: 0.9991\n",
      "Epoch 45/100\n",
      "335/335 [==============================] - 2s 5ms/step - loss: 0.0187 - accuracy: 0.9987 - val_loss: 0.0105 - val_accuracy: 0.9988\n",
      "Epoch 46/100\n",
      "335/335 [==============================] - 2s 5ms/step - loss: 0.0068 - accuracy: 0.9989 - val_loss: 0.0051 - val_accuracy: 0.9994\n",
      "Epoch 47/100\n",
      "335/335 [==============================] - 2s 5ms/step - loss: 0.0059 - accuracy: 0.9992 - val_loss: 0.0051 - val_accuracy: 0.9993\n",
      "Epoch 48/100\n",
      "335/335 [==============================] - 2s 5ms/step - loss: 0.0025 - accuracy: 0.9996 - val_loss: 0.0038 - val_accuracy: 0.9996\n",
      "Epoch 49/100\n",
      "335/335 [==============================] - 2s 5ms/step - loss: 0.0071 - accuracy: 0.9989 - val_loss: 0.0028 - val_accuracy: 0.9994\n",
      "Epoch 50/100\n",
      "335/335 [==============================] - 2s 5ms/step - loss: 0.0091 - accuracy: 0.9986 - val_loss: 0.0066 - val_accuracy: 0.9987\n",
      "Epoch 51/100\n",
      "335/335 [==============================] - 2s 5ms/step - loss: 0.0016 - accuracy: 0.9996 - val_loss: 0.0026 - val_accuracy: 0.9994\n",
      "Epoch 52/100\n",
      "335/335 [==============================] - 2s 5ms/step - loss: 0.0067 - accuracy: 0.9988 - val_loss: 0.0143 - val_accuracy: 0.9985\n",
      "Epoch 53/100\n",
      "335/335 [==============================] - 2s 5ms/step - loss: 0.0129 - accuracy: 0.9985 - val_loss: 0.0241 - val_accuracy: 0.9982\n",
      "Epoch 54/100\n",
      "335/335 [==============================] - 2s 5ms/step - loss: 0.0096 - accuracy: 0.9987 - val_loss: 0.0153 - val_accuracy: 0.9993\n",
      "Epoch 55/100\n",
      "335/335 [==============================] - 2s 5ms/step - loss: 0.0086 - accuracy: 0.9989 - val_loss: 0.0108 - val_accuracy: 0.9988\n",
      "Epoch 56/100\n",
      "335/335 [==============================] - 2s 5ms/step - loss: 0.0082 - accuracy: 0.9988 - val_loss: 2.2821e-04 - val_accuracy: 0.9999\n",
      "Epoch 57/100\n",
      "335/335 [==============================] - 2s 5ms/step - loss: 0.0049 - accuracy: 0.9994 - val_loss: 6.4544e-04 - val_accuracy: 0.9997\n"
     ]
    },
    {
     "name": "stdout",
     "output_type": "stream",
     "text": [
      "Epoch 58/100\n",
      "335/335 [==============================] - 2s 5ms/step - loss: 0.0057 - accuracy: 0.9991 - val_loss: 0.0040 - val_accuracy: 0.9991\n",
      "Epoch 59/100\n",
      "335/335 [==============================] - 2s 5ms/step - loss: 0.0065 - accuracy: 0.9989 - val_loss: 0.0066 - val_accuracy: 0.9990\n",
      "Epoch 60/100\n",
      "335/335 [==============================] - 2s 5ms/step - loss: 0.0058 - accuracy: 0.9990 - val_loss: 0.0134 - val_accuracy: 0.9987\n",
      "Epoch 61/100\n",
      "335/335 [==============================] - 2s 5ms/step - loss: 0.0228 - accuracy: 0.9984 - val_loss: 0.0078 - val_accuracy: 0.9990\n",
      "Epoch 62/100\n",
      "335/335 [==============================] - 2s 5ms/step - loss: 0.0112 - accuracy: 0.9989 - val_loss: 0.0104 - val_accuracy: 0.9988\n",
      "Epoch 63/100\n",
      "335/335 [==============================] - 2s 5ms/step - loss: 0.0034 - accuracy: 0.9992 - val_loss: 0.0105 - val_accuracy: 0.9985\n",
      "Epoch 64/100\n",
      "335/335 [==============================] - 2s 5ms/step - loss: 0.0048 - accuracy: 0.9993 - val_loss: 0.0117 - val_accuracy: 0.9988\n",
      "Epoch 65/100\n",
      "335/335 [==============================] - 2s 6ms/step - loss: 0.0071 - accuracy: 0.9991 - val_loss: 0.0155 - val_accuracy: 0.9990\n",
      "Epoch 66/100\n",
      "335/335 [==============================] - 2s 5ms/step - loss: 0.0051 - accuracy: 0.9994 - val_loss: 0.0133 - val_accuracy: 0.9993\n",
      "Epoch 67/100\n",
      "335/335 [==============================] - 2s 6ms/step - loss: 0.0136 - accuracy: 0.9987 - val_loss: 0.0130 - val_accuracy: 0.9982\n",
      "Epoch 68/100\n",
      "335/335 [==============================] - 2s 5ms/step - loss: 0.0153 - accuracy: 0.9987 - val_loss: 0.0063 - val_accuracy: 0.9991\n",
      "Epoch 69/100\n",
      "335/335 [==============================] - 2s 5ms/step - loss: 0.0056 - accuracy: 0.9991 - val_loss: 0.0108 - val_accuracy: 0.9991\n",
      "Epoch 70/100\n",
      "335/335 [==============================] - 2s 5ms/step - loss: 0.0070 - accuracy: 0.9989 - val_loss: 0.0166 - val_accuracy: 0.9988\n",
      "Epoch 71/100\n",
      "335/335 [==============================] - 2s 5ms/step - loss: 0.0043 - accuracy: 0.9993 - val_loss: 0.0097 - val_accuracy: 0.9990\n",
      "Epoch 72/100\n",
      "335/335 [==============================] - 2s 5ms/step - loss: 0.0039 - accuracy: 0.9995 - val_loss: 0.0109 - val_accuracy: 0.9988\n",
      "Epoch 73/100\n",
      "335/335 [==============================] - 2s 5ms/step - loss: 0.0108 - accuracy: 0.9987 - val_loss: 0.0194 - val_accuracy: 0.9988\n",
      "Epoch 74/100\n",
      "335/335 [==============================] - 2s 5ms/step - loss: 0.0098 - accuracy: 0.9988 - val_loss: 0.0323 - val_accuracy: 0.9978\n",
      "Epoch 75/100\n",
      "335/335 [==============================] - 2s 5ms/step - loss: 0.0090 - accuracy: 0.9988 - val_loss: 0.0302 - val_accuracy: 0.9985\n",
      "Epoch 76/100\n",
      "335/335 [==============================] - 2s 5ms/step - loss: 0.0116 - accuracy: 0.9985 - val_loss: 0.0245 - val_accuracy: 0.9982\n",
      "Epoch 77/100\n",
      "335/335 [==============================] - 2s 5ms/step - loss: 0.0120 - accuracy: 0.9989 - val_loss: 0.0098 - val_accuracy: 0.9991\n",
      "Epoch 78/100\n",
      "335/335 [==============================] - 2s 5ms/step - loss: 0.0047 - accuracy: 0.9992 - val_loss: 0.0154 - val_accuracy: 0.9985\n",
      "Epoch 79/100\n",
      "335/335 [==============================] - 2s 5ms/step - loss: 0.0034 - accuracy: 0.9993 - val_loss: 0.0101 - val_accuracy: 0.9991\n",
      "Epoch 80/100\n",
      "335/335 [==============================] - 2s 6ms/step - loss: 0.0070 - accuracy: 0.9989 - val_loss: 0.0114 - val_accuracy: 0.9987\n",
      "Epoch 81/100\n",
      "335/335 [==============================] - 2s 5ms/step - loss: 0.0013 - accuracy: 0.9996 - val_loss: 0.0095 - val_accuracy: 0.9988\n",
      "Epoch 82/100\n",
      "335/335 [==============================] - 2s 5ms/step - loss: 0.0140 - accuracy: 0.9993 - val_loss: 0.0345 - val_accuracy: 0.9976\n",
      "Epoch 83/100\n",
      "335/335 [==============================] - 2s 5ms/step - loss: 0.0112 - accuracy: 0.9988 - val_loss: 0.0129 - val_accuracy: 0.9990\n",
      "Epoch 84/100\n",
      "335/335 [==============================] - 2s 5ms/step - loss: 0.0076 - accuracy: 0.9987 - val_loss: 0.0069 - val_accuracy: 0.9990\n",
      "Epoch 85/100\n",
      "335/335 [==============================] - 2s 5ms/step - loss: 0.0100 - accuracy: 0.9987 - val_loss: 0.0214 - val_accuracy: 0.9982\n",
      "Epoch 86/100\n",
      "335/335 [==============================] - 2s 5ms/step - loss: 0.0092 - accuracy: 0.9987 - val_loss: 0.0255 - val_accuracy: 0.9987\n",
      "Epoch 87/100\n",
      "335/335 [==============================] - 2s 5ms/step - loss: 0.0128 - accuracy: 0.9988 - val_loss: 0.0199 - val_accuracy: 0.9988\n",
      "Epoch 88/100\n",
      "335/335 [==============================] - 2s 5ms/step - loss: 0.0105 - accuracy: 0.9986 - val_loss: 0.0135 - val_accuracy: 0.9985\n",
      "Epoch 89/100\n",
      "335/335 [==============================] - 2s 6ms/step - loss: 0.0066 - accuracy: 0.9995 - val_loss: 0.0162 - val_accuracy: 0.9987\n",
      "Epoch 90/100\n",
      "335/335 [==============================] - 2s 6ms/step - loss: 0.0090 - accuracy: 0.9990 - val_loss: 0.0186 - val_accuracy: 0.9987\n",
      "Epoch 91/100\n",
      "335/335 [==============================] - 2s 5ms/step - loss: 0.0077 - accuracy: 0.9988 - val_loss: 0.0150 - val_accuracy: 0.9984\n",
      "Epoch 92/100\n",
      "335/335 [==============================] - 2s 6ms/step - loss: 0.0032 - accuracy: 0.9997 - val_loss: 0.0387 - val_accuracy: 0.9975\n",
      "Epoch 93/100\n",
      "335/335 [==============================] - 2s 5ms/step - loss: 0.0066 - accuracy: 0.9990 - val_loss: 0.0128 - val_accuracy: 0.9984\n",
      "Epoch 94/100\n",
      "335/335 [==============================] - 2s 5ms/step - loss: 0.0046 - accuracy: 0.9991 - val_loss: 0.0124 - val_accuracy: 0.9988\n",
      "Epoch 95/100\n",
      "335/335 [==============================] - 2s 5ms/step - loss: 0.0077 - accuracy: 0.9990 - val_loss: 0.0184 - val_accuracy: 0.9982\n",
      "Epoch 96/100\n",
      "335/335 [==============================] - 2s 5ms/step - loss: 0.0093 - accuracy: 0.9988 - val_loss: 0.0194 - val_accuracy: 0.9984\n",
      "Epoch 97/100\n",
      "335/335 [==============================] - 2s 5ms/step - loss: 0.0058 - accuracy: 0.9992 - val_loss: 0.0310 - val_accuracy: 0.9981\n",
      "Epoch 98/100\n",
      "335/335 [==============================] - 2s 5ms/step - loss: 0.0035 - accuracy: 0.9993 - val_loss: 0.0261 - val_accuracy: 0.9979\n",
      "Epoch 99/100\n",
      "335/335 [==============================] - 2s 6ms/step - loss: 0.0046 - accuracy: 0.9995 - val_loss: 0.0280 - val_accuracy: 0.9979\n",
      "Epoch 100/100\n",
      "335/335 [==============================] - 2s 5ms/step - loss: 0.0061 - accuracy: 0.9991 - val_loss: 0.0187 - val_accuracy: 0.9987\n"
     ]
    },
    {
     "data": {
      "text/plain": [
       "<tensorflow.python.keras.callbacks.History at 0x7faa78fb6e80>"
      ]
     },
     "execution_count": 46,
     "metadata": {},
     "output_type": "execute_result"
    }
   ],
   "source": [
    "base_model.fit(x_train, y_train, epochs=100, batch_size=60, validation_data=(x_val, y_val))"
   ]
  },
  {
   "cell_type": "code",
   "execution_count": 49,
   "id": "e51e9097",
   "metadata": {},
   "outputs": [
    {
     "name": "stdout",
     "output_type": "stream",
     "text": [
      "280/280 [==============================] - 1s 2ms/step - loss: 0.0330 - accuracy: 0.9983\n"
     ]
    },
    {
     "data": {
      "text/plain": [
       "[0.03298312425613403, 0.998320996761322]"
      ]
     },
     "execution_count": 49,
     "metadata": {},
     "output_type": "execute_result"
    }
   ],
   "source": [
    "base_model.evaluate(x_test, y_test)"
   ]
  },
  {
   "cell_type": "code",
   "execution_count": 55,
   "id": "4d6cf5d4",
   "metadata": {},
   "outputs": [
    {
     "data": {
      "text/plain": [
       "[1.5750547097574086, 0.2725542869935079]"
      ]
     },
     "execution_count": 55,
     "metadata": {},
     "output_type": "execute_result"
    }
   ],
   "source": [
    "# McDropout model\n",
    "%autoreload 2\n",
    "mc_dropout = McDropout(base_model, TrainConfig())\n",
    "mc_dropout.evaluate(x_test, y_test, batch_size=60, n_times=500)"
   ]
  },
  {
   "cell_type": "code",
   "execution_count": null,
   "id": "9c0002ff",
   "metadata": {},
   "outputs": [],
   "source": []
  },
  {
   "cell_type": "code",
   "execution_count": null,
   "id": "71db72ee",
   "metadata": {},
   "outputs": [],
   "source": []
  },
  {
   "cell_type": "code",
   "execution_count": null,
   "id": "7b3cebab",
   "metadata": {},
   "outputs": [],
   "source": []
  },
  {
   "cell_type": "code",
   "execution_count": 72,
   "id": "10330026",
   "metadata": {},
   "outputs": [],
   "source": [
    "from tensorflow.keras.layers import Dropout, Conv2D, Dense, Input, MaxPooling2D, Flatten\n",
    "from tensorflow.keras.models import Model\n",
    "import tensorflow.keras as keras\n",
    "\n",
    "input_shape = (28, 28, 1)\n",
    "\n",
    "def get_dropout(input_tensor, p=0.5, mc=False):\n",
    "    if mc:\n",
    "        return Dropout(p)(input_tensor, training=True)\n",
    "    else:\n",
    "        return Dropout(p)(input_tensor)\n",
    "\n",
    "\n",
    "def get_model(mc=False, act=\"relu\"):\n",
    "    inp = Input(input_shape)\n",
    "    x = Conv2D(32, kernel_size=(3, 3), activation=act)(inp)\n",
    "    x = Conv2D(64, kernel_size=(3, 3), activation=act)(x)\n",
    "    x = MaxPooling2D(pool_size=(2, 2))(x)\n",
    "    x = get_dropout(x, p=0.25, mc=mc)\n",
    "    x = Flatten()(x)\n",
    "    x = Dense(128, activation=act)(x)\n",
    "    x = get_dropout(x, p=0.5, mc=mc)\n",
    "    out = Dense(num_classes, activation='softmax')(x)\n",
    "\n",
    "    model = Model(inputs=inp, outputs=out)\n",
    "\n",
    "    model.compile(loss=keras.losses.categorical_crossentropy,\n",
    "                  optimizer=keras.optimizers.Adadelta(),\n",
    "                  metrics=['accuracy'])\n",
    "    return model"
   ]
  },
  {
   "cell_type": "code",
   "execution_count": 73,
   "id": "a62e633e",
   "metadata": {},
   "outputs": [],
   "source": [
    "test_model = get_model(mc=True)"
   ]
  },
  {
   "cell_type": "code",
   "execution_count": null,
   "id": "29c03b49",
   "metadata": {},
   "outputs": [],
   "source": []
  },
  {
   "cell_type": "code",
   "execution_count": null,
   "id": "e36a3c53",
   "metadata": {},
   "outputs": [],
   "source": [
    "test_model.fit(x_train, y_train, epochs=20, )"
   ]
  },
  {
   "cell_type": "code",
   "execution_count": null,
   "id": "c4c1bb0d",
   "metadata": {},
   "outputs": [],
   "source": []
  },
  {
   "cell_type": "code",
   "execution_count": null,
   "id": "2c39ba24",
   "metadata": {},
   "outputs": [],
   "source": []
  }
 ],
 "metadata": {
  "kernelspec": {
   "display_name": "Python 3",
   "language": "python",
   "name": "python3"
  },
  "language_info": {
   "codemirror_mode": {
    "name": "ipython",
    "version": 3
   },
   "file_extension": ".py",
   "mimetype": "text/x-python",
   "name": "python",
   "nbconvert_exporter": "python",
   "pygments_lexer": "ipython3",
   "version": "3.8.8"
  }
 },
 "nbformat": 4,
 "nbformat_minor": 5
}
