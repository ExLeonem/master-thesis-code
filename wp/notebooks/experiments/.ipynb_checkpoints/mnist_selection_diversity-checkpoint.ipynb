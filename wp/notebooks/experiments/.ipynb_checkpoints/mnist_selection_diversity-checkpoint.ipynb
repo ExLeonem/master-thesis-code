{
 "cells": [
  {
   "cell_type": "markdown",
   "id": "7b69b26d",
   "metadata": {},
   "source": [
    "# Diversity in selected datapoints\n",
    "\n",
    "Analyzing experiments on the diversity of selected datapoints."
   ]
  },
  {
   "cell_type": "code",
   "execution_count": 1,
   "id": "df8f3517",
   "metadata": {},
   "outputs": [],
   "source": [
    "%load_ext autoreload"
   ]
  },
  {
   "cell_type": "code",
   "execution_count": 13,
   "id": "3d8b0bcb",
   "metadata": {},
   "outputs": [],
   "source": [
    "import os, sys\n",
    "import numpy as np\n",
    "import pandas as pd\n",
    "import matplotlib.pyplot as plt\n",
    "import seaborn as sns\n",
    "from collections import Counter\n",
    "sns.set(style=\"darkgrid\")"
   ]
  },
  {
   "cell_type": "code",
   "execution_count": 3,
   "id": "73d48f9d",
   "metadata": {},
   "outputs": [],
   "source": [
    "BASE_PATH = os.path.join(os.getcwd(), \"..\", \"..\")\n",
    "MODULES_PATH = os.path.join(BASE_PATH, \"modules\")\n",
    "METRICS_PATH = os.path.join(BASE_PATH, \"metrics\")\n",
    "STAT_PATH = os.path.join(BASE_PATH, \"stats\", \"local\")"
   ]
  },
  {
   "cell_type": "code",
   "execution_count": 4,
   "id": "4aa46b89",
   "metadata": {},
   "outputs": [],
   "source": [
    "sys.path.append(MODULES_PATH)\n",
    "sys.path.append(os.path.join(BASE_PATH, \"tf_al\"))"
   ]
  },
  {
   "cell_type": "code",
   "execution_count": 5,
   "id": "f0f38b7f",
   "metadata": {},
   "outputs": [],
   "source": [
    "%autoreload 2\n",
    "from tf_al import ExperimentSuitMetrics\n",
    "from utils import MetricsTransformer, Frame, ExperimentFrame, FrameScores, Stats"
   ]
  },
  {
   "cell_type": "code",
   "execution_count": 6,
   "id": "9f539233",
   "metadata": {},
   "outputs": [],
   "source": [
    "dtypes = {\n",
    "    \"run\": int,\n",
    "    \"iteration\": int,\n",
    "    \"train_time\": float,\n",
    "    \"eval_sparse_categorical_crossentropy\": float,\n",
    "    \"eval_sparse_categorical_accuracy\": float,\n",
    "    \"query_time\": float,\n",
    "    \"labeled_pool_size\": int,\n",
    "    \"unlabeled_pool_size\": int,\n",
    "    \"method\": str\n",
    "}"
   ]
  },
  {
   "cell_type": "markdown",
   "id": "914f6a3b",
   "metadata": {},
   "source": [
    "# Load dataset"
   ]
  },
  {
   "cell_type": "code",
   "execution_count": 7,
   "id": "92dd1e9e",
   "metadata": {},
   "outputs": [],
   "source": [
    "from sklearn.model_selection import train_test_split\n",
    "import tensorflow.keras as keras\n",
    "import tensorflow as tf\n",
    "\n",
    "initial_seed = 20432\n",
    "np.random.seed(initial_seed)\n",
    "tf.random.set_seed(initial_seed)\n",
    "\n",
    "val_set_size = 100\n",
    "test_set_size = 10_000\n",
    "initial_pool_size = 20\n",
    "(x_train, y_train), (x_test, y_test) = keras.datasets.mnist.load_data()\n",
    "\n",
    "# Concat and normalize data\n",
    "x_stack = np.expand_dims(np.vstack([x_train, x_test]), axis=-1).astype(np.float32)\n",
    "targets = np.hstack([y_train, y_test])\n",
    "x_train, x_test, y_train, y_test = train_test_split(x_stack, targets, test_size=test_set_size)\n",
    "x_train, x_val, y_train, y_val = train_test_split(x_train, y_train, test_size=val_set_size)"
   ]
  },
  {
   "cell_type": "markdown",
   "id": "7811b96d",
   "metadata": {},
   "source": [
    "# Mc Dropout"
   ]
  },
  {
   "cell_type": "code",
   "execution_count": 8,
   "id": "84d20c11",
   "metadata": {},
   "outputs": [
    {
     "name": "stderr",
     "output_type": "stream",
     "text": [
      "/home/exleonem/.anaconda/envs/active_learning/lib/python3.8/site-packages/pandas/core/indexing.py:494: SettingWithCopyWarning: \n",
      "A value is trying to be set on a copy of a slice from a DataFrame.\n",
      "Try using .loc[row_indexer,col_indexer] = value instead\n",
      "\n",
      "See the caveats in the documentation: http://pandas.pydata.org/pandas-docs/stable/user_guide/indexing.html#returning-a-view-versus-a-copy\n",
      "  self.obj[item] = s\n"
     ]
    }
   ],
   "source": [
    "EXPERIMENT_PATH_10 = os.path.join(METRICS_PATH, \"mnist_local\")\n",
    "metrics_handler_10 = ExperimentSuitMetrics(EXPERIMENT_PATH_10)\n",
    "df_mc_10 = MetricsTransformer.load_from_dir(metrics_handler_10, \"mc_dropout\", dtype=dtypes)\n",
    "scores = FrameScores(accuracy_column=\"eval_sparse_categorical_accuracy\")\n",
    "mc_frame_10 = ExperimentFrame(df_mc_10, scores=scores)"
   ]
  },
  {
   "cell_type": "code",
   "execution_count": 9,
   "id": "eddb815b",
   "metadata": {},
   "outputs": [],
   "source": [
    "EXPERIMENT_PATH_5 = os.path.join(METRICS_PATH, \"mnist_step_5\")\n",
    "metrics_handler_5 = ExperimentSuitMetrics(EXPERIMENT_PATH_5)\n",
    "df_mc_5 = MetricsTransformer.load_from_dir(metrics_handler_5, \"mc_dropout\", dtype=dtypes)\n",
    "mc_5_scores = FrameScores(accuracy_column=\"eval_sparse_categorical_accuracy\")\n",
    "mc_5_frame = ExperimentFrame(df_mc_5, scores=scores)"
   ]
  },
  {
   "cell_type": "code",
   "execution_count": 92,
   "id": "d387983b",
   "metadata": {},
   "outputs": [
    {
     "data": {
      "text/html": [
       "<div>\n",
       "<style scoped>\n",
       "    .dataframe tbody tr th:only-of-type {\n",
       "        vertical-align: middle;\n",
       "    }\n",
       "\n",
       "    .dataframe tbody tr th {\n",
       "        vertical-align: top;\n",
       "    }\n",
       "\n",
       "    .dataframe thead th {\n",
       "        text-align: right;\n",
       "    }\n",
       "</style>\n",
       "<table border=\"1\" class=\"dataframe\">\n",
       "  <thead>\n",
       "    <tr style=\"text-align: right;\">\n",
       "      <th></th>\n",
       "      <th>auc</th>\n",
       "      <th>run</th>\n",
       "      <th>model</th>\n",
       "      <th>method</th>\n",
       "      <th>train_loss</th>\n",
       "      <th>train_sparse_categorical_accuracy</th>\n",
       "      <th>train_time</th>\n",
       "      <th>std_qeff</th>\n",
       "      <th>mean_qeff</th>\n",
       "      <th>query_time</th>\n",
       "      <th>eval_sparse_categorical_crossentropy</th>\n",
       "      <th>std_leff</th>\n",
       "      <th>mean_leff</th>\n",
       "      <th>eval_sparse_categorical_accuracy</th>\n",
       "      <th>eval_time</th>\n",
       "      <th>indices_selected</th>\n",
       "      <th>iteration</th>\n",
       "      <th>labeled_pool_size</th>\n",
       "      <th>unlabeled_pool_size</th>\n",
       "    </tr>\n",
       "  </thead>\n",
       "  <tbody>\n",
       "    <tr>\n",
       "      <th>0</th>\n",
       "      <td>0.907178</td>\n",
       "      <td>0</td>\n",
       "      <td>MC Dropout</td>\n",
       "      <td>BALD</td>\n",
       "      <td>[2.60923171043396, 2.1426334381103516, 1.88843...</td>\n",
       "      <td>[0.9825242757797241, 0.3499999940395355, 0.400...</td>\n",
       "      <td>1.446549</td>\n",
       "      <td>1.000000</td>\n",
       "      <td>0.000000</td>\n",
       "      <td>5.732654e-04</td>\n",
       "      <td>1.833467</td>\n",
       "      <td>0.0</td>\n",
       "      <td>1.018182</td>\n",
       "      <td>0.56</td>\n",
       "      <td>0.07166099548339844</td>\n",
       "      <td>[57883, 21657, 52715, 38975, 11319, 39894, 739...</td>\n",
       "      <td>1</td>\n",
       "      <td>20</td>\n",
       "      <td>59870</td>\n",
       "    </tr>\n",
       "    <tr>\n",
       "      <th>0</th>\n",
       "      <td>0.913614</td>\n",
       "      <td>0</td>\n",
       "      <td>MC Dropout</td>\n",
       "      <td>Max. Entropy</td>\n",
       "      <td>[2.60923171043396, 2.1426334381103516, 1.88843...</td>\n",
       "      <td>[0.9737864136695862, 0.3499999940395355, 0.400...</td>\n",
       "      <td>1.485292</td>\n",
       "      <td>0.867054</td>\n",
       "      <td>0.008923</td>\n",
       "      <td>4.707355e-04</td>\n",
       "      <td>1.832976</td>\n",
       "      <td>0.0</td>\n",
       "      <td>1.018182</td>\n",
       "      <td>0.56</td>\n",
       "      <td>0.06815171241760254</td>\n",
       "      <td>[30299, 24596, 43490, 36763, 16886, 20613, 950...</td>\n",
       "      <td>1</td>\n",
       "      <td>20</td>\n",
       "      <td>59870</td>\n",
       "    </tr>\n",
       "    <tr>\n",
       "      <th>0</th>\n",
       "      <td>0.913663</td>\n",
       "      <td>0</td>\n",
       "      <td>MC Dropout</td>\n",
       "      <td>Max. Var. Ratio</td>\n",
       "      <td>[2.60923171043396, 2.1426334381103516, 1.88843...</td>\n",
       "      <td>[0.9757281541824341, 0.3499999940395355, 0.400...</td>\n",
       "      <td>1.453347</td>\n",
       "      <td>0.663013</td>\n",
       "      <td>0.010383</td>\n",
       "      <td>4.867839e-04</td>\n",
       "      <td>1.833351</td>\n",
       "      <td>0.0</td>\n",
       "      <td>1.018182</td>\n",
       "      <td>0.56</td>\n",
       "      <td>0.07317209243774414</td>\n",
       "      <td>[21657, 59804, 33690, 42290, 16886, 59818, 434...</td>\n",
       "      <td>1</td>\n",
       "      <td>20</td>\n",
       "      <td>59870</td>\n",
       "    </tr>\n",
       "    <tr>\n",
       "      <th>0</th>\n",
       "      <td>0.921188</td>\n",
       "      <td>0</td>\n",
       "      <td>MC Dropout</td>\n",
       "      <td>Mean Std.</td>\n",
       "      <td>[2.60923171043396, 2.1426334381103516, 1.88843...</td>\n",
       "      <td>[0.10000000149011612, 0.3499999940395355, 0.40...</td>\n",
       "      <td>9.678436</td>\n",
       "      <td>0.715626</td>\n",
       "      <td>0.017923</td>\n",
       "      <td>5.919059e-04</td>\n",
       "      <td>1.833219</td>\n",
       "      <td>0.0</td>\n",
       "      <td>1.018182</td>\n",
       "      <td>0.56</td>\n",
       "      <td>3.655630350112915</td>\n",
       "      <td>[34586, 24596, 11319, 34854, 57863, 7399, 1283...</td>\n",
       "      <td>1</td>\n",
       "      <td>20</td>\n",
       "      <td>59870</td>\n",
       "    </tr>\n",
       "    <tr>\n",
       "      <th>0</th>\n",
       "      <td>0.888713</td>\n",
       "      <td>0</td>\n",
       "      <td>MC Dropout</td>\n",
       "      <td>Random</td>\n",
       "      <td>[2.60923171043396, 2.1426334381103516, 1.88843...</td>\n",
       "      <td>[0.10000000149011612, 0.3499999940395355, 0.40...</td>\n",
       "      <td>8.062963</td>\n",
       "      <td>0.000000</td>\n",
       "      <td>1.000000</td>\n",
       "      <td>9.587349e-07</td>\n",
       "      <td>1.889721</td>\n",
       "      <td>0.0</td>\n",
       "      <td>1.000000</td>\n",
       "      <td>0.55</td>\n",
       "      <td>2.8670830726623535</td>\n",
       "      <td>[48828, 42602, 30375, 29651, 268, 43766, 44628...</td>\n",
       "      <td>1</td>\n",
       "      <td>20</td>\n",
       "      <td>59870</td>\n",
       "    </tr>\n",
       "  </tbody>\n",
       "</table>\n",
       "</div>"
      ],
      "text/plain": [
       "        auc  run       model           method  \\\n",
       "0  0.907178    0  MC Dropout             BALD   \n",
       "0  0.913614    0  MC Dropout     Max. Entropy   \n",
       "0  0.913663    0  MC Dropout  Max. Var. Ratio   \n",
       "0  0.921188    0  MC Dropout        Mean Std.   \n",
       "0  0.888713    0  MC Dropout           Random   \n",
       "\n",
       "                                          train_loss  \\\n",
       "0  [2.60923171043396, 2.1426334381103516, 1.88843...   \n",
       "0  [2.60923171043396, 2.1426334381103516, 1.88843...   \n",
       "0  [2.60923171043396, 2.1426334381103516, 1.88843...   \n",
       "0  [2.60923171043396, 2.1426334381103516, 1.88843...   \n",
       "0  [2.60923171043396, 2.1426334381103516, 1.88843...   \n",
       "\n",
       "                   train_sparse_categorical_accuracy  train_time  std_qeff  \\\n",
       "0  [0.9825242757797241, 0.3499999940395355, 0.400...    1.446549  1.000000   \n",
       "0  [0.9737864136695862, 0.3499999940395355, 0.400...    1.485292  0.867054   \n",
       "0  [0.9757281541824341, 0.3499999940395355, 0.400...    1.453347  0.663013   \n",
       "0  [0.10000000149011612, 0.3499999940395355, 0.40...    9.678436  0.715626   \n",
       "0  [0.10000000149011612, 0.3499999940395355, 0.40...    8.062963  0.000000   \n",
       "\n",
       "   mean_qeff    query_time  eval_sparse_categorical_crossentropy  std_leff  \\\n",
       "0   0.000000  5.732654e-04                              1.833467       0.0   \n",
       "0   0.008923  4.707355e-04                              1.832976       0.0   \n",
       "0   0.010383  4.867839e-04                              1.833351       0.0   \n",
       "0   0.017923  5.919059e-04                              1.833219       0.0   \n",
       "0   1.000000  9.587349e-07                              1.889721       0.0   \n",
       "\n",
       "   mean_leff  eval_sparse_categorical_accuracy            eval_time  \\\n",
       "0   1.018182                              0.56  0.07166099548339844   \n",
       "0   1.018182                              0.56  0.06815171241760254   \n",
       "0   1.018182                              0.56  0.07317209243774414   \n",
       "0   1.018182                              0.56    3.655630350112915   \n",
       "0   1.000000                              0.55   2.8670830726623535   \n",
       "\n",
       "                                    indices_selected  iteration  \\\n",
       "0  [57883, 21657, 52715, 38975, 11319, 39894, 739...          1   \n",
       "0  [30299, 24596, 43490, 36763, 16886, 20613, 950...          1   \n",
       "0  [21657, 59804, 33690, 42290, 16886, 59818, 434...          1   \n",
       "0  [34586, 24596, 11319, 34854, 57863, 7399, 1283...          1   \n",
       "0  [48828, 42602, 30375, 29651, 268, 43766, 44628...          1   \n",
       "\n",
       "   labeled_pool_size  unlabeled_pool_size  \n",
       "0                 20                59870  \n",
       "0                 20                59870  \n",
       "0                 20                59870  \n",
       "0                 20                59870  \n",
       "0                 20                59870  "
      ]
     },
     "execution_count": 92,
     "metadata": {},
     "output_type": "execute_result"
    }
   ],
   "source": [
    "sel = np.logical_and(df_mc_10[\"run\"] == 0, df_mc_10[\"iteration\"] == 1)\n",
    "df_mc_10[sel]"
   ]
  },
  {
   "cell_type": "code",
   "execution_count": 75,
   "id": "2c85e256",
   "metadata": {},
   "outputs": [
    {
     "data": {
      "text/html": [
       "<div>\n",
       "<style scoped>\n",
       "    .dataframe tbody tr th:only-of-type {\n",
       "        vertical-align: middle;\n",
       "    }\n",
       "\n",
       "    .dataframe tbody tr th {\n",
       "        vertical-align: top;\n",
       "    }\n",
       "\n",
       "    .dataframe thead th {\n",
       "        text-align: right;\n",
       "    }\n",
       "</style>\n",
       "<table border=\"1\" class=\"dataframe\">\n",
       "  <thead>\n",
       "    <tr style=\"text-align: right;\">\n",
       "      <th></th>\n",
       "      <th>auc</th>\n",
       "      <th>run</th>\n",
       "      <th>model</th>\n",
       "      <th>method</th>\n",
       "      <th>train_loss</th>\n",
       "      <th>train_sparse_categorical_accuracy</th>\n",
       "      <th>train_time</th>\n",
       "      <th>std_qeff</th>\n",
       "      <th>mean_qeff</th>\n",
       "      <th>query_time</th>\n",
       "      <th>eval_sparse_categorical_crossentropy</th>\n",
       "      <th>std_leff</th>\n",
       "      <th>mean_leff</th>\n",
       "      <th>eval_sparse_categorical_accuracy</th>\n",
       "      <th>eval_time</th>\n",
       "      <th>indices_selected</th>\n",
       "      <th>iteration</th>\n",
       "      <th>labeled_pool_size</th>\n",
       "      <th>unlabeled_pool_size</th>\n",
       "    </tr>\n",
       "  </thead>\n",
       "  <tbody>\n",
       "    <tr>\n",
       "      <th>0</th>\n",
       "      <td>0.918911</td>\n",
       "      <td>1</td>\n",
       "      <td>MC Dropout</td>\n",
       "      <td>BALD</td>\n",
       "      <td>[2.497863292694092, 2.3659708499908447, 1.6587...</td>\n",
       "      <td>[0.9796116352081299, 0.05000000074505806, 0.44...</td>\n",
       "      <td>1.425339</td>\n",
       "      <td>1.000000</td>\n",
       "      <td>0.000000</td>\n",
       "      <td>0.000476</td>\n",
       "      <td>2.246646</td>\n",
       "      <td>0.0</td>\n",
       "      <td>1.019231</td>\n",
       "      <td>0.53</td>\n",
       "      <td>0.07036352157592773</td>\n",
       "      <td>[46642, 11660, 30833, 43080, 54816, 22729, 283...</td>\n",
       "      <td>1</td>\n",
       "      <td>20</td>\n",
       "      <td>59870</td>\n",
       "    </tr>\n",
       "    <tr>\n",
       "      <th>0</th>\n",
       "      <td>0.898366</td>\n",
       "      <td>1</td>\n",
       "      <td>MC Dropout</td>\n",
       "      <td>Max. Entropy</td>\n",
       "      <td>[2.497863292694092, 2.3659708499908447, 1.6587...</td>\n",
       "      <td>[0.9679611921310425, 0.05000000074505806, 0.44...</td>\n",
       "      <td>1.430047</td>\n",
       "      <td>0.867054</td>\n",
       "      <td>0.008923</td>\n",
       "      <td>0.000472</td>\n",
       "      <td>2.246730</td>\n",
       "      <td>0.0</td>\n",
       "      <td>1.019231</td>\n",
       "      <td>0.53</td>\n",
       "      <td>0.07069754600524902</td>\n",
       "      <td>[49396, 49960, 15962, 83, 11908, 47842, 59819,...</td>\n",
       "      <td>1</td>\n",
       "      <td>20</td>\n",
       "      <td>59870</td>\n",
       "    </tr>\n",
       "    <tr>\n",
       "      <th>0</th>\n",
       "      <td>0.909109</td>\n",
       "      <td>1</td>\n",
       "      <td>MC Dropout</td>\n",
       "      <td>Max. Var. Ratio</td>\n",
       "      <td>[2.497863292694092, 2.3659708499908447, 1.6587...</td>\n",
       "      <td>[0.9786407947540283, 0.05000000074505806, 0.44...</td>\n",
       "      <td>1.480947</td>\n",
       "      <td>0.663013</td>\n",
       "      <td>0.010383</td>\n",
       "      <td>0.000470</td>\n",
       "      <td>2.246674</td>\n",
       "      <td>0.0</td>\n",
       "      <td>1.019231</td>\n",
       "      <td>0.53</td>\n",
       "      <td>0.06921768188476562</td>\n",
       "      <td>[12714, 25746, 34833, 59337, 49396, 41239, 478...</td>\n",
       "      <td>1</td>\n",
       "      <td>20</td>\n",
       "      <td>59870</td>\n",
       "    </tr>\n",
       "    <tr>\n",
       "      <th>0</th>\n",
       "      <td>0.920396</td>\n",
       "      <td>1</td>\n",
       "      <td>MC Dropout</td>\n",
       "      <td>Mean Std.</td>\n",
       "      <td>[2.497863292694092, 2.365971088409424, 1.65876...</td>\n",
       "      <td>[0.9718446731567383, 0.05000000074505806, 0.44...</td>\n",
       "      <td>1.347827</td>\n",
       "      <td>0.715626</td>\n",
       "      <td>0.017923</td>\n",
       "      <td>0.000499</td>\n",
       "      <td>2.345280</td>\n",
       "      <td>0.0</td>\n",
       "      <td>1.057692</td>\n",
       "      <td>0.55</td>\n",
       "      <td>0.07425880432128906</td>\n",
       "      <td>[4275, 944, 22729, 58685, 20228, 8329, 11660, ...</td>\n",
       "      <td>1</td>\n",
       "      <td>20</td>\n",
       "      <td>59870</td>\n",
       "    </tr>\n",
       "    <tr>\n",
       "      <th>0</th>\n",
       "      <td>0.889554</td>\n",
       "      <td>1</td>\n",
       "      <td>MC Dropout</td>\n",
       "      <td>Random</td>\n",
       "      <td>[2.497863292694092, 2.365971088409424, 1.65876...</td>\n",
       "      <td>[0.9679611921310425, 0.05000000074505806, 0.44...</td>\n",
       "      <td>1.435418</td>\n",
       "      <td>0.000000</td>\n",
       "      <td>1.000000</td>\n",
       "      <td>0.000001</td>\n",
       "      <td>2.160138</td>\n",
       "      <td>0.0</td>\n",
       "      <td>1.000000</td>\n",
       "      <td>0.52</td>\n",
       "      <td>0.06930279731750488</td>\n",
       "      <td>[1210, 44424, 57509, 26277, 58434, 51391, 5545...</td>\n",
       "      <td>1</td>\n",
       "      <td>20</td>\n",
       "      <td>59870</td>\n",
       "    </tr>\n",
       "  </tbody>\n",
       "</table>\n",
       "</div>"
      ],
      "text/plain": [
       "        auc  run       model           method  \\\n",
       "0  0.918911    1  MC Dropout             BALD   \n",
       "0  0.898366    1  MC Dropout     Max. Entropy   \n",
       "0  0.909109    1  MC Dropout  Max. Var. Ratio   \n",
       "0  0.920396    1  MC Dropout        Mean Std.   \n",
       "0  0.889554    1  MC Dropout           Random   \n",
       "\n",
       "                                          train_loss  \\\n",
       "0  [2.497863292694092, 2.3659708499908447, 1.6587...   \n",
       "0  [2.497863292694092, 2.3659708499908447, 1.6587...   \n",
       "0  [2.497863292694092, 2.3659708499908447, 1.6587...   \n",
       "0  [2.497863292694092, 2.365971088409424, 1.65876...   \n",
       "0  [2.497863292694092, 2.365971088409424, 1.65876...   \n",
       "\n",
       "                   train_sparse_categorical_accuracy  train_time  std_qeff  \\\n",
       "0  [0.9796116352081299, 0.05000000074505806, 0.44...    1.425339  1.000000   \n",
       "0  [0.9679611921310425, 0.05000000074505806, 0.44...    1.430047  0.867054   \n",
       "0  [0.9786407947540283, 0.05000000074505806, 0.44...    1.480947  0.663013   \n",
       "0  [0.9718446731567383, 0.05000000074505806, 0.44...    1.347827  0.715626   \n",
       "0  [0.9679611921310425, 0.05000000074505806, 0.44...    1.435418  0.000000   \n",
       "\n",
       "   mean_qeff  query_time  eval_sparse_categorical_crossentropy  std_leff  \\\n",
       "0   0.000000    0.000476                              2.246646       0.0   \n",
       "0   0.008923    0.000472                              2.246730       0.0   \n",
       "0   0.010383    0.000470                              2.246674       0.0   \n",
       "0   0.017923    0.000499                              2.345280       0.0   \n",
       "0   1.000000    0.000001                              2.160138       0.0   \n",
       "\n",
       "   mean_leff  eval_sparse_categorical_accuracy            eval_time  \\\n",
       "0   1.019231                              0.53  0.07036352157592773   \n",
       "0   1.019231                              0.53  0.07069754600524902   \n",
       "0   1.019231                              0.53  0.06921768188476562   \n",
       "0   1.057692                              0.55  0.07425880432128906   \n",
       "0   1.000000                              0.52  0.06930279731750488   \n",
       "\n",
       "                                    indices_selected  iteration  \\\n",
       "0  [46642, 11660, 30833, 43080, 54816, 22729, 283...          1   \n",
       "0  [49396, 49960, 15962, 83, 11908, 47842, 59819,...          1   \n",
       "0  [12714, 25746, 34833, 59337, 49396, 41239, 478...          1   \n",
       "0  [4275, 944, 22729, 58685, 20228, 8329, 11660, ...          1   \n",
       "0  [1210, 44424, 57509, 26277, 58434, 51391, 5545...          1   \n",
       "\n",
       "   labeled_pool_size  unlabeled_pool_size  \n",
       "0                 20                59870  \n",
       "0                 20                59870  \n",
       "0                 20                59870  \n",
       "0                 20                59870  \n",
       "0                 20                59870  "
      ]
     },
     "execution_count": 75,
     "metadata": {},
     "output_type": "execute_result"
    }
   ],
   "source": [
    "sel = np.logical_and(df_mc_10[\"run\"] == 1, df_mc_10[\"iteration\"] == 1)\n",
    "df_mc_10[sel]"
   ]
  },
  {
   "cell_type": "code",
   "execution_count": 62,
   "id": "6c95c63e",
   "metadata": {},
   "outputs": [
    {
     "data": {
      "text/plain": [
       "array(['BALD', 'Max. Entropy', 'Max. Var. Ratio', 'Mean Std.', 'Random'],\n",
       "      dtype=object)"
      ]
     },
     "execution_count": 62,
     "metadata": {},
     "output_type": "execute_result"
    }
   ],
   "source": [
    "np.unique(df_mc_10.method)"
   ]
  },
  {
   "cell_type": "code",
   "execution_count": 103,
   "id": "0ebc1d43",
   "metadata": {},
   "outputs": [
    {
     "data": {
      "image/png": "[encoded data removed]",
      "text/plain": [
       "<Figure size 432x288 with 1 Axes>"
      ]
     },
     "metadata": {},
     "output_type": "display_data"
    }
   ],
   "source": [
    "df_mc_10 = mc_frame_10.get_frame()\n",
    "test_method = \"Mean Std.\"\n",
    "selector = np.logical_or(df_mc_10[\"method\"] == test_method, df_mc_10[\"method\"] == \"Random\")\n",
    "selector = np.logical_and(selector, df_mc_10[\"labeled_pool_size\"] < 500)\n",
    "fig = sns.lineplot(data=df_mc_10[selector], x=\"labeled_pool_size\", y=\"mean_leff\", hue=\"method\")\n",
    "fig.set(xlabel=\"Labeled pool size\", ylabel=\"Labeling efficiency\")\n",
    "fig.legend(title=\"Method\")\n",
    "\n",
    "plt.savefig(os.path.join(STAT_PATH, \"leff_single_method.png\"))"
   ]
  },
  {
   "cell_type": "code",
   "execution_count": 70,
   "id": "f28823ff",
   "metadata": {},
   "outputs": [
    {
     "data": {
      "text/plain": [
       "<AxesSubplot:xlabel='labeled_pool_size', ylabel='mean_leff'>"
      ]
     },
     "execution_count": 70,
     "metadata": {},
     "output_type": "execute_result"
    },
    {
     "data": {
      "image/png": "[encoded data removed]",
      "text/plain": [
       "<Figure size 432x288 with 1 Axes>"
      ]
     },
     "metadata": {},
     "output_type": "display_data"
    }
   ],
   "source": [
    "selector = df_mc_10[\"method\"] == test_method\n",
    "sns.lineplot(data=df_mc_10[selector], x=\"labeled_pool_size\", y=\"mean_leff\", hue=\"method\")"
   ]
  },
  {
   "cell_type": "code",
   "execution_count": null,
   "id": "e336f806",
   "metadata": {},
   "outputs": [],
   "source": []
  },
  {
   "cell_type": "code",
   "execution_count": 51,
   "id": "e8ecc22b",
   "metadata": {},
   "outputs": [
    {
     "data": {
      "text/plain": [
       "[[57883, 21657, 52715, 38975, 11319, 39894, 7399, 12835, 11092, 11620],\n",
       " [14305, 489, 9053, 33134, 43950, 31700, 2020, 5330, 21560, 38807],\n",
       " [3383, 27626, 39096, 37603, 43853, 10472, 26388, 19821, 3693, 13273],\n",
       " [52847, 55207, 35870, 17127, 29829, 58215, 42507, 30262, 25174, 44250],\n",
       " [18162, 33325, 41885, 50609, 14761, 30002, 37209, 35925, 18797, 16153]]"
      ]
     },
     "execution_count": 51,
     "metadata": {},
     "output_type": "execute_result"
    }
   ],
   "source": [
    "mc_indices = Stats.selected_indices(df_mc_10, 5)\n",
    "mc_indices[\"BALD\"][0]"
   ]
  },
  {
   "cell_type": "code",
   "execution_count": 52,
   "id": "0d0f6f87",
   "metadata": {},
   "outputs": [
    {
     "name": "stdout",
     "output_type": "stream",
     "text": [
      "Method:  BALD\n",
      "Method:  Max. Entropy\n",
      "Method:  Max. Var. Ratio\n",
      "Method:  Mean Std.\n",
      "Method:  Random\n"
     ]
    },
    {
     "data": {
      "image/png": "[encoded data removed]",
      "text/plain": [
       "<Figure size 1080x504 with 45 Axes>"
      ]
     },
     "metadata": {},
     "output_type": "display_data"
    }
   ],
   "source": [
    "methods = list(mc_indices.keys())\n",
    "num_methods = len(methods)\n",
    "num_experiments = 9\n",
    "fig, ax = plt.subplots(num_methods, num_experiments, figsize=(15, 7))\n",
    "\n",
    "collapsed_indices = Stats.collapse_indices_list(mc_indices)\n",
    "for idx in range(len(methods)):\n",
    "    method = methods[idx]\n",
    "    runs = list(collapsed_indices[method].keys())\n",
    "    print(\"Method: \", method)\n",
    "    \n",
    "    for run in runs:\n",
    "        ctn = Counter(dict(zip(np.arange(10), np.zeros(10, dtype=int))))        \n",
    "        target_selected = y_train[collapsed_indices[method][run]]\n",
    "        ctn.update(target_selected)\n",
    "        \n",
    "        labels = ctn.keys()\n",
    "        counts = ctn.values()\n",
    "        ax[idx][run].bar(labels, counts)\n",
    "\n",
    "plt.tight_layout()\n",
    "plt.show()"
   ]
  },
  {
   "cell_type": "code",
   "execution_count": null,
   "id": "1d01cf3c",
   "metadata": {},
   "outputs": [],
   "source": []
  },
  {
   "cell_type": "code",
   "execution_count": null,
   "id": "e857c477",
   "metadata": {},
   "outputs": [],
   "source": []
  },
  {
   "cell_type": "code",
   "execution_count": null,
   "id": "c7308798",
   "metadata": {},
   "outputs": [],
   "source": []
  },
  {
   "cell_type": "code",
   "execution_count": null,
   "id": "1f38c454",
   "metadata": {},
   "outputs": [],
   "source": []
  },
  {
   "cell_type": "code",
   "execution_count": null,
   "id": "2287bdff",
   "metadata": {},
   "outputs": [],
   "source": []
  }
 ],
 "metadata": {
  "kernelspec": {
   "display_name": "Python 3 (ipykernel)",
   "language": "python",
   "name": "python3"
  },
  "language_info": {
   "codemirror_mode": {
    "name": "ipython",
    "version": 3
   },
   "file_extension": ".py",
   "mimetype": "text/x-python",
   "name": "python",
   "nbconvert_exporter": "python",
   "pygments_lexer": "ipython3",
   "version": "3.8.8"
  }
 },
 "nbformat": 4,
 "nbformat_minor": 5
}
