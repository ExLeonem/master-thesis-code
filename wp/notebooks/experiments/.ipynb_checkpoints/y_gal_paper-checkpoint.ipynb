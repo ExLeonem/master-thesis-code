{
 "cells": [
  {
   "cell_type": "markdown",
   "id": "7bbe5e44",
   "metadata": {},
   "source": [
    "## Recreation of Y.Gal (Deep bayesian active learning with Image Data)\n"
   ]
  },
  {
   "cell_type": "code",
   "execution_count": 1,
   "id": "12102e89",
   "metadata": {},
   "outputs": [],
   "source": [
    "%load_ext autoreload"
   ]
  },
  {
   "cell_type": "code",
   "execution_count": 2,
   "id": "e84beadf",
   "metadata": {},
   "outputs": [],
   "source": [
    "import os, sys, importlib\n",
    "import numpy as np\n",
    "import pandas as pd\n",
    "import matplotlib.pyplot as plt\n",
    "import seaborn as sns"
   ]
  },
  {
   "cell_type": "code",
   "execution_count": 7,
   "id": "831ffc1f",
   "metadata": {},
   "outputs": [],
   "source": [
    "# Setting basic paths\n",
    "BASE_PATH = os.path.join(os.getcwd(), \"..\", \"..\")\n",
    "MODULES_PATH = os.path.join(BASE_PATH, \"modules\")\n",
    "METRICS_PATH = os.path.join(BASE_PATH, \"metrics\")"
   ]
  },
  {
   "cell_type": "code",
   "execution_count": 6,
   "id": "7cb3d0fd",
   "metadata": {},
   "outputs": [],
   "source": [
    "# Make modules availabel\n",
    "sys.path.append(MODULES_PATH)"
   ]
  },
  {
   "cell_type": "code",
   "execution_count": null,
   "id": "4541a75f",
   "metadata": {},
   "outputs": [],
   "source": []
  },
  {
   "cell_type": "markdown",
   "id": "8d84d3d7",
   "metadata": {},
   "source": [
    "# Check metrics\n",
    "\n",
    "- Experiments repeated 3 times\n",
    "- Results averaged\n",
    "\n",
    "</br>\n",
    "\n",
    "\n",
    "Pool/Dataset parameters\n",
    "\n",
    "- Initial training set: 20 data points\n",
    "- Validation set: 100 data points (for weight decay optimization)\n",
    "- Test set: 10K data points\n",
    "- Rest: Used as pool set\n",
    "\n",
    "</br>\n",
    "\n",
    "Active learning parameters:\n",
    "\n",
    "- acquisition process repeated 100-times\n",
    "- (step size) 10 points per run, that maximised acquisition function (over pool set)\n"
   ]
  },
  {
   "cell_type": "code",
   "execution_count": null,
   "id": "2db906ef",
   "metadata": {},
   "outputs": [],
   "source": []
  },
  {
   "cell_type": "code",
   "execution_count": null,
   "id": "b3f8a68b",
   "metadata": {},
   "outputs": [],
   "source": []
  },
  {
   "cell_type": "code",
   "execution_count": null,
   "id": "96f51333",
   "metadata": {},
   "outputs": [],
   "source": []
  }
 ],
 "metadata": {
  "kernelspec": {
   "display_name": "Python 3",
   "language": "python",
   "name": "python3"
  },
  "language_info": {
   "codemirror_mode": {
    "name": "ipython",
    "version": 3
   },
   "file_extension": ".py",
   "mimetype": "text/x-python",
   "name": "python",
   "nbconvert_exporter": "python",
   "pygments_lexer": "ipython3",
   "version": "3.8.8"
  }
 },
 "nbformat": 4,
 "nbformat_minor": 5
}
