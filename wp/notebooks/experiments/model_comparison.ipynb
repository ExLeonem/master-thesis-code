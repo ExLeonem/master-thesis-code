{
 "cells": [
  {
   "cell_type": "markdown",
   "id": "a33b7942",
   "metadata": {},
   "source": [
    "# Model value comparison"
   ]
  },
  {
   "cell_type": "code",
   "execution_count": 1,
   "id": "5d875f4b",
   "metadata": {},
   "outputs": [],
   "source": [
    "%load_ext autoreload"
   ]
  },
  {
   "cell_type": "code",
   "execution_count": 2,
   "id": "4ff34889",
   "metadata": {},
   "outputs": [],
   "source": [
    "import os, sys\n",
    "import numpy as np\n",
    "import pandas as pd\n",
    "import matplotlib.pyplot as plt\n",
    "import seaborn as sns\n",
    "from sklearn.model_selection import train_test_split"
   ]
  },
  {
   "cell_type": "code",
   "execution_count": 3,
   "id": "7426b80a",
   "metadata": {},
   "outputs": [],
   "source": [
    "BASE_PATH = os.path.join(os.getcwd(), \"..\", \"..\")\n",
    "MODULES_PATH = os.path.join(BASE_PATH, \"modules\")\n",
    "DATASET_PATH = os.path.join(BASE_PATH, \"datasets\")"
   ]
  },
  {
   "cell_type": "code",
   "execution_count": 4,
   "id": "8f32b007",
   "metadata": {},
   "outputs": [],
   "source": [
    "sys.path.append(MODULES_PATH)"
   ]
  },
  {
   "cell_type": "code",
   "execution_count": 5,
   "id": "48ba8ed7",
   "metadata": {},
   "outputs": [],
   "source": [
    "from active_learning import TrainConfig\n",
    "from data import BenchmarkData, DataSetType\n",
    "from bayesian import McDropout, MomentPropagation\n",
    "from models import FcholletCNN, setup_growth"
   ]
  },
  {
   "cell_type": "markdown",
   "id": "f5ffef5e",
   "metadata": {},
   "source": [
    "# Load data"
   ]
  },
  {
   "cell_type": "code",
   "execution_count": 6,
   "id": "4e2d18ad",
   "metadata": {},
   "outputs": [],
   "source": [
    "num_classes = 5\n",
    "mnist = BenchmarkData(DataSetType.MNIST, os.path.join(DATASET_PATH, \"mnist\"), dtype=np.float, classes=num_classes)"
   ]
  },
  {
   "cell_type": "code",
   "execution_count": 7,
   "id": "1dc31ed7",
   "metadata": {},
   "outputs": [
    {
     "name": "stdout",
     "output_type": "stream",
     "text": [
      "Inputs-Shape: (35735, 28, 28, 1)\n",
      "Targets-Shape: (35735,)\n"
     ]
    }
   ],
   "source": [
    "print(\"Inputs-Shape: {}\".format(mnist.inputs.shape))\n",
    "print(\"Targets-Shape: {}\".format(mnist.targets.shape))"
   ]
  },
  {
   "cell_type": "code",
   "execution_count": 8,
   "id": "f6f9c041",
   "metadata": {},
   "outputs": [],
   "source": [
    "x_train, x_test, y_train, y_test = train_test_split(mnist.inputs, mnist.targets)"
   ]
  },
  {
   "cell_type": "markdown",
   "id": "73bee6e6",
   "metadata": {},
   "source": [
    "# Train both models"
   ]
  },
  {
   "cell_type": "code",
   "execution_count": 9,
   "id": "7d63da84",
   "metadata": {},
   "outputs": [
    {
     "name": "stdout",
     "output_type": "stream",
     "text": [
      "1 Physical GPU's,  1 Logical GPU's\n"
     ]
    }
   ],
   "source": [
    "setup_growth()"
   ]
  },
  {
   "cell_type": "code",
   "execution_count": 10,
   "id": "d1363e8b",
   "metadata": {},
   "outputs": [],
   "source": [
    "base_model = FcholletCNN(num_classes)\n",
    "base_model.compile(optimizer=\"adam\", loss=\"sparse_categorical_crossentropy\", metrics=[\"accuracy\"])"
   ]
  },
  {
   "cell_type": "code",
   "execution_count": 11,
   "id": "5ca8934b",
   "metadata": {},
   "outputs": [
    {
     "name": "stdout",
     "output_type": "stream",
     "text": [
      "Epoch 1/100\n",
      "447/447 [==============================] - 8s 18ms/step - loss: 0.6926 - accuracy: 0.9453\n",
      "Epoch 2/100\n",
      "447/447 [==============================] - 2s 4ms/step - loss: 0.0636 - accuracy: 0.9799\n",
      "Epoch 3/100\n",
      "447/447 [==============================] - 2s 4ms/step - loss: 0.0461 - accuracy: 0.9868\n",
      "Epoch 4/100\n",
      "447/447 [==============================] - 2s 4ms/step - loss: 0.0396 - accuracy: 0.9880\n",
      "Epoch 5/100\n",
      "447/447 [==============================] - 2s 5ms/step - loss: 0.0357 - accuracy: 0.9907\n",
      "Epoch 6/100\n",
      "447/447 [==============================] - 2s 5ms/step - loss: 0.0281 - accuracy: 0.9920\n",
      "Epoch 7/100\n",
      "447/447 [==============================] - 2s 4ms/step - loss: 0.0250 - accuracy: 0.9929\n",
      "Epoch 8/100\n",
      "447/447 [==============================] - 2s 4ms/step - loss: 0.0267 - accuracy: 0.9922\n",
      "Epoch 9/100\n",
      "447/447 [==============================] - 2s 4ms/step - loss: 0.0245 - accuracy: 0.9926\n",
      "Epoch 10/100\n",
      "447/447 [==============================] - 2s 4ms/step - loss: 0.0206 - accuracy: 0.9941\n",
      "Epoch 11/100\n",
      "447/447 [==============================] - 2s 4ms/step - loss: 0.0160 - accuracy: 0.9951\n",
      "Epoch 12/100\n",
      "447/447 [==============================] - 2s 4ms/step - loss: 0.0168 - accuracy: 0.9951\n",
      "Epoch 13/100\n",
      "447/447 [==============================] - 2s 5ms/step - loss: 0.0202 - accuracy: 0.9941\n",
      "Epoch 14/100\n",
      "447/447 [==============================] - 2s 4ms/step - loss: 0.0173 - accuracy: 0.9952\n",
      "Epoch 15/100\n",
      "447/447 [==============================] - 2s 4ms/step - loss: 0.0194 - accuracy: 0.9950\n",
      "Epoch 16/100\n",
      "447/447 [==============================] - 2s 5ms/step - loss: 0.0150 - accuracy: 0.9957\n",
      "Epoch 17/100\n",
      "447/447 [==============================] - 2s 5ms/step - loss: 0.0140 - accuracy: 0.9959\n",
      "Epoch 18/100\n",
      "447/447 [==============================] - 2s 5ms/step - loss: 0.0170 - accuracy: 0.9947\n",
      "Epoch 19/100\n",
      "447/447 [==============================] - 2s 5ms/step - loss: 0.0181 - accuracy: 0.9946\n",
      "Epoch 20/100\n",
      "447/447 [==============================] - 2s 5ms/step - loss: 0.0123 - accuracy: 0.9965\n",
      "Epoch 21/100\n",
      "447/447 [==============================] - 2s 5ms/step - loss: 0.0089 - accuracy: 0.9972\n",
      "Epoch 22/100\n",
      "447/447 [==============================] - 2s 4ms/step - loss: 0.0148 - accuracy: 0.9962\n",
      "Epoch 23/100\n",
      "447/447 [==============================] - 2s 5ms/step - loss: 0.0132 - accuracy: 0.9961\n",
      "Epoch 24/100\n",
      "447/447 [==============================] - 2s 5ms/step - loss: 0.0149 - accuracy: 0.9960\n",
      "Epoch 25/100\n",
      "447/447 [==============================] - 2s 5ms/step - loss: 0.0165 - accuracy: 0.9954\n",
      "Epoch 26/100\n",
      "447/447 [==============================] - 2s 5ms/step - loss: 0.0118 - accuracy: 0.9966\n",
      "Epoch 27/100\n",
      "447/447 [==============================] - 2s 4ms/step - loss: 0.0100 - accuracy: 0.9970\n",
      "Epoch 28/100\n",
      "447/447 [==============================] - 2s 4ms/step - loss: 0.0073 - accuracy: 0.9976\n",
      "Epoch 29/100\n",
      "447/447 [==============================] - 2s 4ms/step - loss: 0.0179 - accuracy: 0.9960\n",
      "Epoch 30/100\n",
      "447/447 [==============================] - 2s 4ms/step - loss: 0.0122 - accuracy: 0.9969\n",
      "Epoch 31/100\n",
      "447/447 [==============================] - 2s 4ms/step - loss: 0.0097 - accuracy: 0.9974\n",
      "Epoch 32/100\n",
      "447/447 [==============================] - 2s 4ms/step - loss: 0.0115 - accuracy: 0.9972\n",
      "Epoch 33/100\n",
      "447/447 [==============================] - 2s 5ms/step - loss: 0.0092 - accuracy: 0.9976\n",
      "Epoch 34/100\n",
      "447/447 [==============================] - 2s 5ms/step - loss: 0.0137 - accuracy: 0.9970\n",
      "Epoch 35/100\n",
      "447/447 [==============================] - 2s 5ms/step - loss: 0.0108 - accuracy: 0.9973\n",
      "Epoch 36/100\n",
      "447/447 [==============================] - 2s 5ms/step - loss: 0.0057 - accuracy: 0.9983\n",
      "Epoch 37/100\n",
      "447/447 [==============================] - 2s 5ms/step - loss: 0.0173 - accuracy: 0.9968\n",
      "Epoch 38/100\n",
      "447/447 [==============================] - 2s 5ms/step - loss: 0.0111 - accuracy: 0.9977\n",
      "Epoch 39/100\n",
      "447/447 [==============================] - 2s 5ms/step - loss: 0.0111 - accuracy: 0.9966\n",
      "Epoch 40/100\n",
      "447/447 [==============================] - 2s 5ms/step - loss: 0.0124 - accuracy: 0.9972\n",
      "Epoch 41/100\n",
      "447/447 [==============================] - 2s 5ms/step - loss: 0.0074 - accuracy: 0.9981\n",
      "Epoch 42/100\n",
      "447/447 [==============================] - 2s 5ms/step - loss: 0.0091 - accuracy: 0.9979\n",
      "Epoch 43/100\n",
      "447/447 [==============================] - 2s 5ms/step - loss: 0.0107 - accuracy: 0.9975\n",
      "Epoch 44/100\n",
      "447/447 [==============================] - 2s 5ms/step - loss: 0.0056 - accuracy: 0.9979\n",
      "Epoch 45/100\n",
      "447/447 [==============================] - 2s 5ms/step - loss: 0.0081 - accuracy: 0.9981\n",
      "Epoch 46/100\n",
      "447/447 [==============================] - 2s 5ms/step - loss: 0.0103 - accuracy: 0.9979\n",
      "Epoch 47/100\n",
      "447/447 [==============================] - 2s 5ms/step - loss: 0.0137 - accuracy: 0.9974\n",
      "Epoch 48/100\n",
      "447/447 [==============================] - 2s 4ms/step - loss: 0.0106 - accuracy: 0.9978\n",
      "Epoch 49/100\n",
      "447/447 [==============================] - 2s 5ms/step - loss: 0.0071 - accuracy: 0.9983\n",
      "Epoch 50/100\n",
      "447/447 [==============================] - 2s 5ms/step - loss: 0.0120 - accuracy: 0.9974\n",
      "Epoch 51/100\n",
      "447/447 [==============================] - 2s 5ms/step - loss: 0.0063 - accuracy: 0.9985\n",
      "Epoch 52/100\n",
      "447/447 [==============================] - 2s 4ms/step - loss: 0.0077 - accuracy: 0.9980\n",
      "Epoch 53/100\n",
      "447/447 [==============================] - 2s 4ms/step - loss: 0.0099 - accuracy: 0.9979\n",
      "Epoch 54/100\n",
      "447/447 [==============================] - 2s 5ms/step - loss: 0.0063 - accuracy: 0.9985\n",
      "Epoch 55/100\n",
      "447/447 [==============================] - 2s 4ms/step - loss: 0.0103 - accuracy: 0.9981\n",
      "Epoch 56/100\n",
      "447/447 [==============================] - 2s 4ms/step - loss: 0.0102 - accuracy: 0.9979\n",
      "Epoch 57/100\n",
      "447/447 [==============================] - 2s 4ms/step - loss: 0.0124 - accuracy: 0.9978\n",
      "Epoch 58/100\n",
      "447/447 [==============================] - 2s 5ms/step - loss: 0.0109 - accuracy: 0.9979\n",
      "Epoch 59/100\n",
      "447/447 [==============================] - 2s 5ms/step - loss: 0.0061 - accuracy: 0.9987\n",
      "Epoch 60/100\n",
      "447/447 [==============================] - 2s 5ms/step - loss: 0.0069 - accuracy: 0.9983\n",
      "Epoch 61/100\n",
      "447/447 [==============================] - 2s 5ms/step - loss: 0.0091 - accuracy: 0.9980\n",
      "Epoch 62/100\n",
      "447/447 [==============================] - 2s 5ms/step - loss: 0.0071 - accuracy: 0.9981\n",
      "Epoch 63/100\n",
      "447/447 [==============================] - 2s 5ms/step - loss: 0.0100 - accuracy: 0.9981\n",
      "Epoch 64/100\n",
      "447/447 [==============================] - 2s 5ms/step - loss: 0.0097 - accuracy: 0.9983\n",
      "Epoch 65/100\n",
      "447/447 [==============================] - 2s 5ms/step - loss: 0.0090 - accuracy: 0.9984\n",
      "Epoch 66/100\n",
      "447/447 [==============================] - 2s 4ms/step - loss: 0.0087 - accuracy: 0.9980\n",
      "Epoch 67/100\n",
      "447/447 [==============================] - 2s 5ms/step - loss: 0.0112 - accuracy: 0.9981\n",
      "Epoch 68/100\n",
      "447/447 [==============================] - 2s 5ms/step - loss: 0.0055 - accuracy: 0.9987\n",
      "Epoch 69/100\n",
      "447/447 [==============================] - 2s 4ms/step - loss: 0.0040 - accuracy: 0.9991\n",
      "Epoch 70/100\n",
      "447/447 [==============================] - 2s 5ms/step - loss: 0.0065 - accuracy: 0.9985\n",
      "Epoch 71/100\n",
      "447/447 [==============================] - 2s 5ms/step - loss: 0.0143 - accuracy: 0.9976\n",
      "Epoch 72/100\n",
      "447/447 [==============================] - 2s 5ms/step - loss: 0.0094 - accuracy: 0.9982\n",
      "Epoch 73/100\n",
      "447/447 [==============================] - 2s 4ms/step - loss: 0.0120 - accuracy: 0.9978\n",
      "Epoch 74/100\n",
      "447/447 [==============================] - 2s 4ms/step - loss: 0.0095 - accuracy: 0.9980\n",
      "Epoch 75/100\n",
      "447/447 [==============================] - 2s 5ms/step - loss: 0.0137 - accuracy: 0.9976\n",
      "Epoch 76/100\n",
      "447/447 [==============================] - 2s 5ms/step - loss: 0.0035 - accuracy: 0.9990\n",
      "Epoch 77/100\n",
      "447/447 [==============================] - 2s 5ms/step - loss: 0.0072 - accuracy: 0.9986\n",
      "Epoch 78/100\n",
      "447/447 [==============================] - 2s 4ms/step - loss: 0.0093 - accuracy: 0.9984\n",
      "Epoch 79/100\n",
      "447/447 [==============================] - 2s 5ms/step - loss: 0.0090 - accuracy: 0.9985\n",
      "Epoch 80/100\n",
      "447/447 [==============================] - 2s 4ms/step - loss: 0.0064 - accuracy: 0.9985\n",
      "Epoch 81/100\n"
     ]
    },
    {
     "name": "stdout",
     "output_type": "stream",
     "text": [
      "447/447 [==============================] - 2s 4ms/step - loss: 0.0105 - accuracy: 0.9977\n",
      "Epoch 82/100\n",
      "447/447 [==============================] - 2s 5ms/step - loss: 0.0126 - accuracy: 0.9978\n",
      "Epoch 83/100\n",
      "447/447 [==============================] - 2s 4ms/step - loss: 0.0080 - accuracy: 0.9986\n",
      "Epoch 84/100\n",
      "447/447 [==============================] - 2s 4ms/step - loss: 0.0062 - accuracy: 0.9987\n",
      "Epoch 85/100\n",
      "447/447 [==============================] - 2s 4ms/step - loss: 0.0081 - accuracy: 0.9986\n",
      "Epoch 86/100\n",
      "447/447 [==============================] - 2s 4ms/step - loss: 0.0049 - accuracy: 0.9988\n",
      "Epoch 87/100\n",
      "447/447 [==============================] - 2s 4ms/step - loss: 0.0122 - accuracy: 0.9986\n",
      "Epoch 88/100\n",
      "447/447 [==============================] - 2s 4ms/step - loss: 0.0097 - accuracy: 0.9982\n",
      "Epoch 89/100\n",
      "447/447 [==============================] - 2s 4ms/step - loss: 0.0078 - accuracy: 0.9985\n",
      "Epoch 90/100\n",
      "447/447 [==============================] - 2s 5ms/step - loss: 0.0125 - accuracy: 0.9978\n",
      "Epoch 91/100\n",
      "447/447 [==============================] - 2s 5ms/step - loss: 0.0143 - accuracy: 0.9980\n",
      "Epoch 92/100\n",
      "447/447 [==============================] - 2s 4ms/step - loss: 0.0097 - accuracy: 0.9983\n",
      "Epoch 93/100\n",
      "447/447 [==============================] - 2s 5ms/step - loss: 0.0079 - accuracy: 0.9984\n",
      "Epoch 94/100\n",
      "447/447 [==============================] - 2s 5ms/step - loss: 0.0061 - accuracy: 0.9987\n",
      "Epoch 95/100\n",
      "447/447 [==============================] - 2s 5ms/step - loss: 0.0074 - accuracy: 0.9986\n",
      "Epoch 96/100\n",
      "447/447 [==============================] - 2s 5ms/step - loss: 0.0065 - accuracy: 0.9988\n",
      "Epoch 97/100\n",
      "447/447 [==============================] - 2s 4ms/step - loss: 0.0086 - accuracy: 0.9982\n",
      "Epoch 98/100\n",
      "447/447 [==============================] - 2s 4ms/step - loss: 0.0093 - accuracy: 0.9988\n",
      "Epoch 99/100\n",
      "447/447 [==============================] - 2s 5ms/step - loss: 0.0092 - accuracy: 0.9982\n",
      "Epoch 100/100\n",
      "447/447 [==============================] - 2s 5ms/step - loss: 0.0048 - accuracy: 0.9990\n"
     ]
    },
    {
     "data": {
      "text/plain": [
       "<tensorflow.python.keras.callbacks.History at 0x7fa9107ceb50>"
      ]
     },
     "execution_count": 11,
     "metadata": {},
     "output_type": "execute_result"
    }
   ],
   "source": [
    "base_model.fit(x_train, y_train, epochs=100, batch_size=60)"
   ]
  },
  {
   "cell_type": "code",
   "execution_count": 19,
   "id": "29571213",
   "metadata": {},
   "outputs": [
    {
     "name": "stdout",
     "output_type": "stream",
     "text": [
      "280/280 [==============================] - 1s 2ms/step - loss: 0.0533 - accuracy: 0.9962\n"
     ]
    },
    {
     "data": {
      "text/plain": [
       "[0.053324561566114426, 0.9961943030357361]"
      ]
     },
     "execution_count": 19,
     "metadata": {},
     "output_type": "execute_result"
    }
   ],
   "source": [
    "base_model.evaluate(x_test, y_test)"
   ]
  },
  {
   "cell_type": "code",
   "execution_count": 44,
   "id": "37909f20",
   "metadata": {},
   "outputs": [
    {
     "data": {
      "text/plain": [
       "array([[0.0000000e+00, 0.0000000e+00, 0.0000000e+00, 1.0000000e+00,\n",
       "        0.0000000e+00],\n",
       "       [0.0000000e+00, 0.0000000e+00, 0.0000000e+00, 0.0000000e+00,\n",
       "        1.0000000e+00],\n",
       "       [0.0000000e+00, 0.0000000e+00, 0.0000000e+00, 1.0000000e+00,\n",
       "        0.0000000e+00],\n",
       "       ...,\n",
       "       [0.0000000e+00, 1.0000000e+00, 1.9358103e-38, 0.0000000e+00,\n",
       "        0.0000000e+00],\n",
       "       [0.0000000e+00, 1.0000000e+00, 0.0000000e+00, 0.0000000e+00,\n",
       "        0.0000000e+00],\n",
       "       [0.0000000e+00, 0.0000000e+00, 0.0000000e+00, 1.0000000e+00,\n",
       "        0.0000000e+00]], dtype=float32)"
      ]
     },
     "execution_count": 44,
     "metadata": {},
     "output_type": "execute_result"
    }
   ],
   "source": [
    "base_model.predict(x_test, batch_size=10)"
   ]
  },
  {
   "cell_type": "code",
   "execution_count": 14,
   "id": "24aaa3e9",
   "metadata": {},
   "outputs": [
    {
     "ename": "TypeError",
     "evalue": "call() got an unexpected keyword argument 'batch_size'",
     "output_type": "error",
     "traceback": [
      "\u001b[0;31m---------------------------------------------------------------------------\u001b[0m",
      "\u001b[0;31mTypeError\u001b[0m                                 Traceback (most recent call last)",
      "\u001b[0;32m<ipython-input-14-1ef588e29e71>\u001b[0m in \u001b[0;36m<module>\u001b[0;34m\u001b[0m\n\u001b[1;32m      2\u001b[0m \u001b[0mget_ipython\u001b[0m\u001b[0;34m(\u001b[0m\u001b[0;34m)\u001b[0m\u001b[0;34m.\u001b[0m\u001b[0mrun_line_magic\u001b[0m\u001b[0;34m(\u001b[0m\u001b[0;34m'autoreload'\u001b[0m\u001b[0;34m,\u001b[0m \u001b[0;34m'2'\u001b[0m\u001b[0;34m)\u001b[0m\u001b[0;34m\u001b[0m\u001b[0;34m\u001b[0m\u001b[0m\n\u001b[1;32m      3\u001b[0m \u001b[0mmc_dropout\u001b[0m \u001b[0;34m=\u001b[0m \u001b[0mMcDropout\u001b[0m\u001b[0;34m(\u001b[0m\u001b[0mbase_model\u001b[0m\u001b[0;34m,\u001b[0m \u001b[0mTrainConfig\u001b[0m\u001b[0;34m(\u001b[0m\u001b[0;34m)\u001b[0m\u001b[0;34m)\u001b[0m\u001b[0;34m\u001b[0m\u001b[0;34m\u001b[0m\u001b[0m\n\u001b[0;32m----> 4\u001b[0;31m \u001b[0mmc_dropout\u001b[0m\u001b[0;34m.\u001b[0m\u001b[0mevaluate\u001b[0m\u001b[0;34m(\u001b[0m\u001b[0mx_test\u001b[0m\u001b[0;34m,\u001b[0m \u001b[0my_test\u001b[0m\u001b[0;34m,\u001b[0m \u001b[0mbatch_size\u001b[0m\u001b[0;34m=\u001b[0m\u001b[0;36m60\u001b[0m\u001b[0;34m,\u001b[0m \u001b[0mn_times\u001b[0m\u001b[0;34m=\u001b[0m\u001b[0;36m1\u001b[0m\u001b[0;34m)\u001b[0m\u001b[0;34m\u001b[0m\u001b[0;34m\u001b[0m\u001b[0m\n\u001b[0m",
      "\u001b[0;32m~/Desktop/workspace/thesis/wp/notebooks/experiments/../../modules/bayesian/mc_dropout.py\u001b[0m in \u001b[0;36mevaluate\u001b[0;34m(self, inputs, targets, **kwargs)\u001b[0m\n\u001b[1;32m     68\u001b[0m         \"\"\"\n\u001b[1;32m     69\u001b[0m         \u001b[0;31m# Create predictions\u001b[0m\u001b[0;34m\u001b[0m\u001b[0;34m\u001b[0m\u001b[0;34m\u001b[0m\u001b[0m\n\u001b[0;32m---> 70\u001b[0;31m         \u001b[0mpredictions\u001b[0m \u001b[0;34m=\u001b[0m \u001b[0mself\u001b[0m\u001b[0;34m.\u001b[0m\u001b[0mbatch_prediction\u001b[0m\u001b[0;34m(\u001b[0m\u001b[0minputs\u001b[0m\u001b[0;34m,\u001b[0m \u001b[0;34m**\u001b[0m\u001b[0mkwargs\u001b[0m\u001b[0;34m)\u001b[0m\u001b[0;34m\u001b[0m\u001b[0;34m\u001b[0m\u001b[0m\n\u001b[0m\u001b[1;32m     71\u001b[0m         \u001b[0mself\u001b[0m\u001b[0;34m.\u001b[0m\u001b[0mlogger\u001b[0m\u001b[0;34m.\u001b[0m\u001b[0minfo\u001b[0m\u001b[0;34m(\u001b[0m\u001b[0;34m\"evaluate/predictions.shape: {}\"\u001b[0m\u001b[0;34m.\u001b[0m\u001b[0mformat\u001b[0m\u001b[0;34m(\u001b[0m\u001b[0mpredictions\u001b[0m\u001b[0;34m.\u001b[0m\u001b[0mshape\u001b[0m\u001b[0;34m)\u001b[0m\u001b[0;34m)\u001b[0m\u001b[0;34m\u001b[0m\u001b[0;34m\u001b[0m\u001b[0m\n\u001b[1;32m     72\u001b[0m         \u001b[0;32mreturn\u001b[0m \u001b[0mself\u001b[0m\u001b[0;34m.\u001b[0m\u001b[0m__evaluate\u001b[0m\u001b[0;34m(\u001b[0m\u001b[0mpredictions\u001b[0m\u001b[0;34m,\u001b[0m \u001b[0mtargets\u001b[0m\u001b[0;34m)\u001b[0m\u001b[0;34m\u001b[0m\u001b[0;34m\u001b[0m\u001b[0m\n",
      "\u001b[0;32m~/Desktop/workspace/thesis/wp/notebooks/experiments/../../modules/bayesian/model.py\u001b[0m in \u001b[0;36mbatch_prediction\u001b[0;34m(self, inputs, **kwargs)\u001b[0m\n\u001b[1;32m    208\u001b[0m \u001b[0;34m\u001b[0m\u001b[0m\n\u001b[1;32m    209\u001b[0m             \u001b[0mend_idx\u001b[0m \u001b[0;34m=\u001b[0m \u001b[0mstart_idx\u001b[0m \u001b[0;34m+\u001b[0m \u001b[0mbatch_size\u001b[0m\u001b[0;34m\u001b[0m\u001b[0;34m\u001b[0m\u001b[0m\n\u001b[0;32m--> 210\u001b[0;31m             \u001b[0msub_result\u001b[0m \u001b[0;34m=\u001b[0m \u001b[0mself\u001b[0m\u001b[0;34m.\u001b[0m\u001b[0mpredict\u001b[0m\u001b[0;34m(\u001b[0m\u001b[0minputs\u001b[0m\u001b[0;34m[\u001b[0m\u001b[0mstart_idx\u001b[0m\u001b[0;34m:\u001b[0m\u001b[0mend_idx\u001b[0m\u001b[0;34m]\u001b[0m\u001b[0;34m,\u001b[0m \u001b[0;34m**\u001b[0m\u001b[0mkwargs\u001b[0m\u001b[0;34m)\u001b[0m\u001b[0;34m\u001b[0m\u001b[0;34m\u001b[0m\u001b[0m\n\u001b[0m\u001b[1;32m    211\u001b[0m \u001b[0;34m\u001b[0m\u001b[0m\n\u001b[1;32m    212\u001b[0m             \u001b[0;31m# Create array to hold prediction results\u001b[0m\u001b[0;34m\u001b[0m\u001b[0;34m\u001b[0m\u001b[0;34m\u001b[0m\u001b[0m\n",
      "\u001b[0;32m~/Desktop/workspace/thesis/wp/notebooks/experiments/../../modules/bayesian/mc_dropout.py\u001b[0m in \u001b[0;36mpredict\u001b[0;34m(self, inputs, n_times, **kwargs)\u001b[0m\n\u001b[1;32m     41\u001b[0m         \u001b[0moutput\u001b[0m \u001b[0;34m=\u001b[0m \u001b[0;32mNone\u001b[0m\u001b[0;34m\u001b[0m\u001b[0;34m\u001b[0m\u001b[0m\n\u001b[1;32m     42\u001b[0m         \u001b[0;32mfor\u001b[0m \u001b[0mrun\u001b[0m \u001b[0;32min\u001b[0m \u001b[0mrange\u001b[0m\u001b[0;34m(\u001b[0m\u001b[0mn_times\u001b[0m\u001b[0;34m)\u001b[0m\u001b[0;34m:\u001b[0m\u001b[0;34m\u001b[0m\u001b[0;34m\u001b[0m\u001b[0m\n\u001b[0;32m---> 43\u001b[0;31m             \u001b[0mresult\u001b[0m \u001b[0;34m=\u001b[0m \u001b[0msuper\u001b[0m\u001b[0;34m(\u001b[0m\u001b[0;34m)\u001b[0m\u001b[0;34m.\u001b[0m\u001b[0mpredict\u001b[0m\u001b[0;34m(\u001b[0m\u001b[0minputs\u001b[0m\u001b[0;34m,\u001b[0m \u001b[0;34m**\u001b[0m\u001b[0mkwargs\u001b[0m\u001b[0;34m)\u001b[0m\u001b[0;34m\u001b[0m\u001b[0;34m\u001b[0m\u001b[0m\n\u001b[0m\u001b[1;32m     44\u001b[0m \u001b[0;34m\u001b[0m\u001b[0m\n\u001b[1;32m     45\u001b[0m             \u001b[0;31m# Set initial shape of the ouput\u001b[0m\u001b[0;34m\u001b[0m\u001b[0;34m\u001b[0m\u001b[0;34m\u001b[0m\u001b[0m\n",
      "\u001b[0;32m~/Desktop/workspace/thesis/wp/notebooks/experiments/../../modules/bayesian/model.py\u001b[0m in \u001b[0;36mpredict\u001b[0;34m(self, inputs, **kwargs)\u001b[0m\n\u001b[1;32m     75\u001b[0m \u001b[0;34m\u001b[0m\u001b[0m\n\u001b[1;32m     76\u001b[0m         \"\"\"\n\u001b[0;32m---> 77\u001b[0;31m         \u001b[0;32mreturn\u001b[0m \u001b[0mself\u001b[0m\u001b[0;34m.\u001b[0m\u001b[0m_model\u001b[0m\u001b[0;34m.\u001b[0m\u001b[0mpredict\u001b[0m\u001b[0;34m(\u001b[0m\u001b[0minputs\u001b[0m\u001b[0;34m,\u001b[0m \u001b[0mtraining\u001b[0m\u001b[0;34m=\u001b[0m\u001b[0mself\u001b[0m\u001b[0;34m.\u001b[0m\u001b[0min_mode\u001b[0m\u001b[0;34m(\u001b[0m\u001b[0mMode\u001b[0m\u001b[0;34m.\u001b[0m\u001b[0mTRAIN\u001b[0m\u001b[0;34m)\u001b[0m\u001b[0;34m,\u001b[0m \u001b[0;34m**\u001b[0m\u001b[0mkwargs\u001b[0m\u001b[0;34m)\u001b[0m\u001b[0;34m\u001b[0m\u001b[0;34m\u001b[0m\u001b[0m\n\u001b[0m\u001b[1;32m     78\u001b[0m \u001b[0;34m\u001b[0m\u001b[0m\n\u001b[1;32m     79\u001b[0m \u001b[0;34m\u001b[0m\u001b[0m\n",
      "\u001b[0;32m~/.anaconda/envs/mp/lib/python3.8/site-packages/tensorflow/python/keras/engine/base_layer.py\u001b[0m in \u001b[0;36m__call__\u001b[0;34m(self, *args, **kwargs)\u001b[0m\n\u001b[1;32m    966\u001b[0m           with base_layer_utils.autocast_context_manager(\n\u001b[1;32m    967\u001b[0m               self._compute_dtype):\n\u001b[0;32m--> 968\u001b[0;31m             \u001b[0moutputs\u001b[0m \u001b[0;34m=\u001b[0m \u001b[0mself\u001b[0m\u001b[0;34m.\u001b[0m\u001b[0mcall\u001b[0m\u001b[0;34m(\u001b[0m\u001b[0mcast_inputs\u001b[0m\u001b[0;34m,\u001b[0m \u001b[0;34m*\u001b[0m\u001b[0margs\u001b[0m\u001b[0;34m,\u001b[0m \u001b[0;34m**\u001b[0m\u001b[0mkwargs\u001b[0m\u001b[0;34m)\u001b[0m\u001b[0;34m\u001b[0m\u001b[0;34m\u001b[0m\u001b[0m\n\u001b[0m\u001b[1;32m    969\u001b[0m           \u001b[0mself\u001b[0m\u001b[0;34m.\u001b[0m\u001b[0m_handle_activity_regularization\u001b[0m\u001b[0;34m(\u001b[0m\u001b[0minputs\u001b[0m\u001b[0;34m,\u001b[0m \u001b[0moutputs\u001b[0m\u001b[0;34m)\u001b[0m\u001b[0;34m\u001b[0m\u001b[0;34m\u001b[0m\u001b[0m\n\u001b[1;32m    970\u001b[0m           \u001b[0mself\u001b[0m\u001b[0;34m.\u001b[0m\u001b[0m_set_mask_metadata\u001b[0m\u001b[0;34m(\u001b[0m\u001b[0minputs\u001b[0m\u001b[0;34m,\u001b[0m \u001b[0moutputs\u001b[0m\u001b[0;34m,\u001b[0m \u001b[0minput_masks\u001b[0m\u001b[0;34m)\u001b[0m\u001b[0;34m\u001b[0m\u001b[0;34m\u001b[0m\u001b[0m\n",
      "\u001b[0;31mTypeError\u001b[0m: call() got an unexpected keyword argument 'batch_size'"
     ]
    }
   ],
   "source": [
    "# McDropout model\n",
    "%autoreload 2\n",
    "mc_dropout = McDropout(base_model, TrainConfig())\n",
    "mc_dropout.evaluate(x_test, y_test, batch_size=60, n_times=1)"
   ]
  },
  {
   "cell_type": "code",
   "execution_count": null,
   "id": "203aa127",
   "metadata": {},
   "outputs": [],
   "source": []
  },
  {
   "cell_type": "code",
   "execution_count": null,
   "id": "40546c1c",
   "metadata": {},
   "outputs": [],
   "source": []
  },
  {
   "cell_type": "code",
   "execution_count": null,
   "id": "bbedf4f3",
   "metadata": {},
   "outputs": [],
   "source": []
  },
  {
   "cell_type": "code",
   "execution_count": 193,
   "id": "669a5528",
   "metadata": {},
   "outputs": [
    {
     "ename": "TypeError",
     "evalue": "call() got an unexpected keyword argument 'batch_size'",
     "output_type": "error",
     "traceback": [
      "\u001b[0;31m---------------------------------------------------------------------------\u001b[0m",
      "\u001b[0;31mTypeError\u001b[0m                                 Traceback (most recent call last)",
      "\u001b[0;32m<ipython-input-193-a37815911aae>\u001b[0m in \u001b[0;36m<module>\u001b[0;34m\u001b[0m\n\u001b[0;32m----> 1\u001b[0;31m \u001b[0mresult\u001b[0m \u001b[0;34m=\u001b[0m \u001b[0mmc_dropout\u001b[0m\u001b[0;34m.\u001b[0m\u001b[0mbatch_prediction\u001b[0m\u001b[0;34m(\u001b[0m\u001b[0mx_test\u001b[0m\u001b[0;34m,\u001b[0m \u001b[0mn_times\u001b[0m\u001b[0;34m=\u001b[0m\u001b[0;36m1\u001b[0m\u001b[0;34m,\u001b[0m \u001b[0mbatch_size\u001b[0m\u001b[0;34m=\u001b[0m\u001b[0;36m60\u001b[0m\u001b[0;34m)\u001b[0m\u001b[0;34m\u001b[0m\u001b[0;34m\u001b[0m\u001b[0m\n\u001b[0m\u001b[1;32m      2\u001b[0m \u001b[0;34m\u001b[0m\u001b[0m\n\u001b[1;32m      3\u001b[0m \u001b[0;32mfor\u001b[0m \u001b[0mi\u001b[0m \u001b[0;32min\u001b[0m \u001b[0mresult\u001b[0m\u001b[0;34m:\u001b[0m\u001b[0;34m\u001b[0m\u001b[0;34m\u001b[0m\u001b[0m\n\u001b[1;32m      4\u001b[0m     \u001b[0mprint\u001b[0m\u001b[0;34m(\u001b[0m\u001b[0mi\u001b[0m\u001b[0;34m)\u001b[0m\u001b[0;34m\u001b[0m\u001b[0;34m\u001b[0m\u001b[0m\n\u001b[1;32m      5\u001b[0m     \u001b[0;32mbreak\u001b[0m\u001b[0;34m\u001b[0m\u001b[0;34m\u001b[0m\u001b[0m\n",
      "\u001b[0;32m~/Desktop/workspace/thesis/wp/notebooks/experiments/../../modules/bayesian/model.py\u001b[0m in \u001b[0;36mbatch_prediction\u001b[0;34m(self, inputs, **kwargs)\u001b[0m\n\u001b[1;32m    208\u001b[0m \u001b[0;34m\u001b[0m\u001b[0m\n\u001b[1;32m    209\u001b[0m             \u001b[0mend_idx\u001b[0m \u001b[0;34m=\u001b[0m \u001b[0mstart_idx\u001b[0m \u001b[0;34m+\u001b[0m \u001b[0mbatch_size\u001b[0m\u001b[0;34m\u001b[0m\u001b[0;34m\u001b[0m\u001b[0m\n\u001b[0;32m--> 210\u001b[0;31m             \u001b[0msub_result\u001b[0m \u001b[0;34m=\u001b[0m \u001b[0mself\u001b[0m\u001b[0;34m.\u001b[0m\u001b[0mpredict\u001b[0m\u001b[0;34m(\u001b[0m\u001b[0minputs\u001b[0m\u001b[0;34m[\u001b[0m\u001b[0mstart_idx\u001b[0m\u001b[0;34m:\u001b[0m\u001b[0mend_idx\u001b[0m\u001b[0;34m]\u001b[0m\u001b[0;34m,\u001b[0m \u001b[0;34m**\u001b[0m\u001b[0mkwargs\u001b[0m\u001b[0;34m)\u001b[0m\u001b[0;34m\u001b[0m\u001b[0;34m\u001b[0m\u001b[0m\n\u001b[0m\u001b[1;32m    211\u001b[0m \u001b[0;34m\u001b[0m\u001b[0m\n\u001b[1;32m    212\u001b[0m             \u001b[0;31m# Create array to hold prediction results\u001b[0m\u001b[0;34m\u001b[0m\u001b[0;34m\u001b[0m\u001b[0;34m\u001b[0m\u001b[0m\n",
      "\u001b[0;32m~/Desktop/workspace/thesis/wp/notebooks/experiments/../../modules/bayesian/mc_dropout.py\u001b[0m in \u001b[0;36mpredict\u001b[0;34m(self, inputs, n_times, **kwargs)\u001b[0m\n\u001b[1;32m     41\u001b[0m         \u001b[0moutput\u001b[0m \u001b[0;34m=\u001b[0m \u001b[0;32mNone\u001b[0m\u001b[0;34m\u001b[0m\u001b[0;34m\u001b[0m\u001b[0m\n\u001b[1;32m     42\u001b[0m         \u001b[0;32mfor\u001b[0m \u001b[0mrun\u001b[0m \u001b[0;32min\u001b[0m \u001b[0mrange\u001b[0m\u001b[0;34m(\u001b[0m\u001b[0mn_times\u001b[0m\u001b[0;34m)\u001b[0m\u001b[0;34m:\u001b[0m\u001b[0;34m\u001b[0m\u001b[0;34m\u001b[0m\u001b[0m\n\u001b[0;32m---> 43\u001b[0;31m             \u001b[0mresult\u001b[0m \u001b[0;34m=\u001b[0m \u001b[0msuper\u001b[0m\u001b[0;34m(\u001b[0m\u001b[0;34m)\u001b[0m\u001b[0;34m.\u001b[0m\u001b[0mpredict\u001b[0m\u001b[0;34m(\u001b[0m\u001b[0minputs\u001b[0m\u001b[0;34m,\u001b[0m \u001b[0;34m**\u001b[0m\u001b[0mkwargs\u001b[0m\u001b[0;34m)\u001b[0m\u001b[0;34m\u001b[0m\u001b[0;34m\u001b[0m\u001b[0m\n\u001b[0m\u001b[1;32m     44\u001b[0m \u001b[0;34m\u001b[0m\u001b[0m\n\u001b[1;32m     45\u001b[0m             \u001b[0;31m# Set initial shape of the ouput\u001b[0m\u001b[0;34m\u001b[0m\u001b[0;34m\u001b[0m\u001b[0;34m\u001b[0m\u001b[0m\n",
      "\u001b[0;32m~/Desktop/workspace/thesis/wp/notebooks/experiments/../../modules/bayesian/model.py\u001b[0m in \u001b[0;36mpredict\u001b[0;34m(self, inputs, **kwargs)\u001b[0m\n\u001b[1;32m     75\u001b[0m \u001b[0;34m\u001b[0m\u001b[0m\n\u001b[1;32m     76\u001b[0m         \"\"\"\n\u001b[0;32m---> 77\u001b[0;31m         \u001b[0;32mreturn\u001b[0m \u001b[0mself\u001b[0m\u001b[0;34m.\u001b[0m\u001b[0m_model\u001b[0m\u001b[0;34m(\u001b[0m\u001b[0minputs\u001b[0m\u001b[0;34m,\u001b[0m \u001b[0mtraining\u001b[0m\u001b[0;34m=\u001b[0m\u001b[0mself\u001b[0m\u001b[0;34m.\u001b[0m\u001b[0min_mode\u001b[0m\u001b[0;34m(\u001b[0m\u001b[0mMode\u001b[0m\u001b[0;34m.\u001b[0m\u001b[0mTRAIN\u001b[0m\u001b[0;34m)\u001b[0m\u001b[0;34m,\u001b[0m \u001b[0;34m**\u001b[0m\u001b[0mkwargs\u001b[0m\u001b[0;34m)\u001b[0m\u001b[0;34m\u001b[0m\u001b[0;34m\u001b[0m\u001b[0m\n\u001b[0m\u001b[1;32m     78\u001b[0m \u001b[0;34m\u001b[0m\u001b[0m\n\u001b[1;32m     79\u001b[0m \u001b[0;34m\u001b[0m\u001b[0m\n",
      "\u001b[0;32m~/.anaconda/envs/mp/lib/python3.8/site-packages/tensorflow/python/keras/engine/base_layer.py\u001b[0m in \u001b[0;36m__call__\u001b[0;34m(self, *args, **kwargs)\u001b[0m\n\u001b[1;32m    966\u001b[0m           with base_layer_utils.autocast_context_manager(\n\u001b[1;32m    967\u001b[0m               self._compute_dtype):\n\u001b[0;32m--> 968\u001b[0;31m             \u001b[0moutputs\u001b[0m \u001b[0;34m=\u001b[0m \u001b[0mself\u001b[0m\u001b[0;34m.\u001b[0m\u001b[0mcall\u001b[0m\u001b[0;34m(\u001b[0m\u001b[0mcast_inputs\u001b[0m\u001b[0;34m,\u001b[0m \u001b[0;34m*\u001b[0m\u001b[0margs\u001b[0m\u001b[0;34m,\u001b[0m \u001b[0;34m**\u001b[0m\u001b[0mkwargs\u001b[0m\u001b[0;34m)\u001b[0m\u001b[0;34m\u001b[0m\u001b[0;34m\u001b[0m\u001b[0m\n\u001b[0m\u001b[1;32m    969\u001b[0m           \u001b[0mself\u001b[0m\u001b[0;34m.\u001b[0m\u001b[0m_handle_activity_regularization\u001b[0m\u001b[0;34m(\u001b[0m\u001b[0minputs\u001b[0m\u001b[0;34m,\u001b[0m \u001b[0moutputs\u001b[0m\u001b[0;34m)\u001b[0m\u001b[0;34m\u001b[0m\u001b[0;34m\u001b[0m\u001b[0m\n\u001b[1;32m    970\u001b[0m           \u001b[0mself\u001b[0m\u001b[0;34m.\u001b[0m\u001b[0m_set_mask_metadata\u001b[0m\u001b[0;34m(\u001b[0m\u001b[0minputs\u001b[0m\u001b[0;34m,\u001b[0m \u001b[0moutputs\u001b[0m\u001b[0;34m,\u001b[0m \u001b[0minput_masks\u001b[0m\u001b[0;34m)\u001b[0m\u001b[0;34m\u001b[0m\u001b[0;34m\u001b[0m\u001b[0m\n",
      "\u001b[0;31mTypeError\u001b[0m: call() got an unexpected keyword argument 'batch_size'"
     ]
    }
   ],
   "source": [
    "result = mc_dropout.batch_prediction(x_test, n_times=1, batch_size=60)\n",
    "\n",
    "for i in result:\n",
    "    print(i)\n",
    "    break"
   ]
  },
  {
   "cell_type": "code",
   "execution_count": 178,
   "id": "de13a31f",
   "metadata": {},
   "outputs": [
    {
     "data": {
      "text/plain": [
       "0.9959704499664204"
      ]
     },
     "execution_count": 178,
     "metadata": {},
     "output_type": "execute_result"
    }
   ],
   "source": [
    "np.mean(result_labels==y_test)"
   ]
  },
  {
   "cell_type": "code",
   "execution_count": null,
   "id": "915f944a",
   "metadata": {},
   "outputs": [],
   "source": []
  },
  {
   "cell_type": "code",
   "execution_count": null,
   "id": "9c8d7d13",
   "metadata": {},
   "outputs": [],
   "source": []
  },
  {
   "cell_type": "code",
   "execution_count": null,
   "id": "c2df8fd0",
   "metadata": {},
   "outputs": [],
   "source": []
  }
 ],
 "metadata": {
  "kernelspec": {
   "display_name": "Python 3",
   "language": "python",
   "name": "python3"
  },
  "language_info": {
   "codemirror_mode": {
    "name": "ipython",
    "version": 3
   },
   "file_extension": ".py",
   "mimetype": "text/x-python",
   "name": "python",
   "nbconvert_exporter": "python",
   "pygments_lexer": "ipython3",
   "version": "3.8.8"
  }
 },
 "nbformat": 4,
 "nbformat_minor": 5
}
