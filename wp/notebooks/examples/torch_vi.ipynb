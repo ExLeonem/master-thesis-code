{
 "cells": [
  {
   "cell_type": "code",
   "execution_count": 16,
   "id": "signed-search",
   "metadata": {},
   "outputs": [],
   "source": [
    "import math\n",
    "import torch\n",
    "import numpy as np\n",
    "import pandas as pd\n",
    "import matplotlib.pyplot as plt"
   ]
  },
  {
   "cell_type": "code",
   "execution_count": 50,
   "id": "renewable-montana",
   "metadata": {},
   "outputs": [],
   "source": [
    "norm_dist = torch.distributions.normal.Normal(0, 2)"
   ]
  },
  {
   "cell_type": "code",
   "execution_count": 51,
   "id": "multiple-measure",
   "metadata": {},
   "outputs": [],
   "source": [
    "def reverse_log(values):\n",
    "    return np.power(math.e, values)\n"
   ]
  },
  {
   "cell_type": "code",
   "execution_count": 52,
   "id": "technological-mouse",
   "metadata": {},
   "outputs": [
    {
     "data": {
      "text/plain": [
       "array([-5., -4., -3., -2., -1.,  0.,  1.,  2.,  3.,  4.,  5.])"
      ]
     },
     "execution_count": 52,
     "metadata": {},
     "output_type": "execute_result"
    }
   ],
   "source": [
    "x_values = np.linspace(0, 10, 11) - 5\n",
    "x_values"
   ]
  },
  {
   "cell_type": "code",
   "execution_count": 53,
   "id": "conditional-mainland",
   "metadata": {},
   "outputs": [
    {
     "data": {
      "text/plain": [
       "tensor([-4.7371, -3.6121, -2.7371, -2.1121, -1.7371, -1.6121, -1.7371, -2.1121,\n",
       "        -2.7371, -3.6121, -4.7371], dtype=torch.float64)"
      ]
     },
     "execution_count": 53,
     "metadata": {},
     "output_type": "execute_result"
    }
   ],
   "source": [
    "probs = norm_dist.log_prob(torch.tensor(x_values, dtype=float))\n",
    "probs"
   ]
  },
  {
   "cell_type": "code",
   "execution_count": 55,
   "id": "yellow-light",
   "metadata": {},
   "outputs": [
    {
     "data": {
      "text/plain": [
       "(0.0, 0.5)"
      ]
     },
     "execution_count": 55,
     "metadata": {},
     "output_type": "execute_result"
    },
    {
     "data": {
      "image/png": "[encoded data removed]",
      "text/plain": [
       "<Figure size 1152x432 with 1 Axes>"
      ]
     },
     "metadata": {
      "needs_background": "light"
     },
     "output_type": "display_data"
    }
   ],
   "source": [
    "plt.figure(figsize=(16, 6))\n",
    "plt.stem(x_values, reverse_log(probs))\n",
    "plt.ylim([0, .5])"
   ]
  },
  {
   "cell_type": "code",
   "execution_count": null,
   "id": "extra-hypothesis",
   "metadata": {},
   "outputs": [],
   "source": []
  },
  {
   "cell_type": "code",
   "execution_count": null,
   "id": "latter-powder",
   "metadata": {},
   "outputs": [],
   "source": []
  },
  {
   "cell_type": "code",
   "execution_count": null,
   "id": "pending-repeat",
   "metadata": {},
   "outputs": [],
   "source": []
  }
 ],
 "metadata": {
  "kernelspec": {
   "display_name": "Python 3",
   "language": "python",
   "name": "python3"
  },
  "language_info": {
   "codemirror_mode": {
    "name": "ipython",
    "version": 3
   },
   "file_extension": ".py",
   "mimetype": "text/x-python",
   "name": "python",
   "nbconvert_exporter": "python",
   "pygments_lexer": "ipython3",
   "version": "3.8.6"
  }
 },
 "nbformat": 4,
 "nbformat_minor": 5
}
