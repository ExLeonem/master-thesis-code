{
 "cells": [
  {
   "cell_type": "code",
   "execution_count": 1,
   "id": "public-pontiac",
   "metadata": {},
   "outputs": [],
   "source": [
    "import numpy as np\n",
    "import torch\n",
    "import pandas as pd\n",
    "import matplotlib.pyplot as plt\n",
    "import math"
   ]
  },
  {
   "cell_type": "code",
   "execution_count": 2,
   "id": "editorial-vegetable",
   "metadata": {},
   "outputs": [],
   "source": [
    "# Two possible outcomes = [0, 1]\n",
    "y_outcomes = [0, 1]"
   ]
  },
  {
   "cell_type": "markdown",
   "id": "spare-masters",
   "metadata": {},
   "source": [
    "### Create training data"
   ]
  },
  {
   "cell_type": "code",
   "execution_count": 3,
   "id": "lyric-composite",
   "metadata": {},
   "outputs": [],
   "source": [
    "obs_data = np.repeat(1, 3)"
   ]
  },
  {
   "cell_type": "code",
   "execution_count": 4,
   "id": "little-convertible",
   "metadata": {},
   "outputs": [
    {
     "name": "stdout",
     "output_type": "stream",
     "text": [
      "ML theta:  1.0\n",
      "SD theta:  0.0\n"
     ]
    }
   ],
   "source": [
    "# Max-Likelihood\n",
    "est_theta_ml = np.mean(obs_data)\n",
    "print(\"ML theta: \", est_theta_ml)\n",
    "\n",
    "sd_est_theta_ml = est_theta_ml * (1. - est_theta_ml)\n",
    "print(\"SD theta: \", sd_est_theta_ml)"
   ]
  },
  {
   "cell_type": "markdown",
   "id": "surrounded-cliff",
   "metadata": {},
   "source": [
    "### Bayes approach to fit the Bernoulli model"
   ]
  },
  {
   "cell_type": "code",
   "execution_count": 5,
   "id": "functional-mentor",
   "metadata": {},
   "outputs": [
    {
     "name": "stdout",
     "output_type": "stream",
     "text": [
      "Prior distribution: [0.05 0.1  0.15 0.2  0.25 0.3  0.35 0.4  0.45 0.5  0.55 0.6  0.65 0.7\n",
      " 0.75 0.8  0.85 0.9  0.95]\n",
      "Prior:  0.05263157894736842\n"
     ]
    }
   ],
   "source": [
    "theta = np.arange(0.05, 1, 0.05)\n",
    "print(\"Prior distribution:\", theta)\n",
    "\n",
    "prior = 1 / len(theta)\n",
    "print(\"Prior: \", prior)"
   ]
  },
  {
   "cell_type": "code",
   "execution_count": 6,
   "id": "three-beverage",
   "metadata": {},
   "outputs": [],
   "source": [
    "# Test with even probabilities y1 = 0.5, y0 = 0.5\n",
    "bern_dist = torch.distributions.bernoulli.Bernoulli(probs=0.5)"
   ]
  },
  {
   "cell_type": "code",
   "execution_count": 7,
   "id": "valued-operator",
   "metadata": {},
   "outputs": [],
   "source": [
    "def inverse_log_prob(probs: np.ndarray):\n",
    "    \"\"\"\n",
    "        Inverse the logarithmic applied to probabilities.\n",
    "        \n",
    "        Parameters:\n",
    "            - probs (np.ndarray) The probabilites given by distributions.Bernouli.log_prob\n",
    "            \n",
    "        Returns:\n",
    "            - (np.ndarray) The values return be inversion of logarithm\n",
    "    \"\"\"\n",
    "    return (np.repeat(math.e, len(probs)) ** probs).numpy()"
   ]
  },
  {
   "cell_type": "code",
   "execution_count": 8,
   "id": "detailed-pioneer",
   "metadata": {},
   "outputs": [
    {
     "data": {
      "text/plain": [
       "tensor([-0.6931, -0.6931, -0.6931], dtype=torch.float64)"
      ]
     },
     "execution_count": 8,
     "metadata": {},
     "output_type": "execute_result"
    }
   ],
   "source": [
    "output_vec = bern_dist.log_prob(torch.tensor(obs_data, dtype=float))\n",
    "output_vec"
   ]
  },
  {
   "cell_type": "code",
   "execution_count": 9,
   "id": "nominated-premium",
   "metadata": {},
   "outputs": [],
   "source": [
    "prob_ten = inverse_log_prob(output_vec)"
   ]
  },
  {
   "cell_type": "code",
   "execution_count": 10,
   "id": "reflected-daughter",
   "metadata": {},
   "outputs": [
    {
     "name": "stdout",
     "output_type": "stream",
     "text": [
      "Joint likelihood:  0.12499999928575467\n",
      "Unnormalized posterior:  0.006578947330829193\n"
     ]
    }
   ],
   "source": [
    "print(\"Joint likelihood: \", np.prod(prob_ten))\n",
    "print(\"Unnormalized posterior: \", np.prod(prob_ten)*prior)"
   ]
  },
  {
   "cell_type": "markdown",
   "id": "uniform-ghost",
   "metadata": {},
   "source": [
    "### Perform calculation for grid of thetas"
   ]
  },
  {
   "cell_type": "code",
   "execution_count": 11,
   "id": "isolated-event",
   "metadata": {},
   "outputs": [],
   "source": [
    "res = np.zeros((len(theta), 5))"
   ]
  },
  {
   "cell_type": "code",
   "execution_count": 12,
   "id": "surface-toolbox",
   "metadata": {},
   "outputs": [],
   "source": [
    "for i, val in enumerate(res):\n",
    "    \n",
    "    dist = torch.distributions.bernoulli.Bernoulli(probs=theta[i])\n",
    "    \n",
    "    # Save calculations in array [theta_i, join_prob, prior, unnormalized_prob]\n",
    "    probs = inverse_log_prob(dist.log_prob(torch.tensor(obs_data, dtype=float)))\n",
    "    calculations = np.array((\n",
    "        theta[i],\n",
    "        np.prod(probs),\n",
    "        prior,\n",
    "        np.prod(probs)*prior\n",
    "    ))\n",
    "    \n",
    "    res[i, 0:4] = calculations"
   ]
  },
  {
   "cell_type": "code",
   "execution_count": 13,
   "id": "european-taiwan",
   "metadata": {},
   "outputs": [
    {
     "data": {
      "text/html": [
       "<div>\n",
       "<style scoped>\n",
       "    .dataframe tbody tr th:only-of-type {\n",
       "        vertical-align: middle;\n",
       "    }\n",
       "\n",
       "    .dataframe tbody tr th {\n",
       "        vertical-align: top;\n",
       "    }\n",
       "\n",
       "    .dataframe thead th {\n",
       "        text-align: right;\n",
       "    }\n",
       "</style>\n",
       "<table border=\"1\" class=\"dataframe\">\n",
       "  <thead>\n",
       "    <tr style=\"text-align: right;\">\n",
       "      <th></th>\n",
       "      <th>theta</th>\n",
       "      <th>joint_like</th>\n",
       "      <th>prior</th>\n",
       "      <th>unnorm_post</th>\n",
       "      <th>post</th>\n",
       "    </tr>\n",
       "  </thead>\n",
       "  <tbody>\n",
       "    <tr>\n",
       "      <th>0</th>\n",
       "      <td>0.05</td>\n",
       "      <td>0.000125</td>\n",
       "      <td>0.052632</td>\n",
       "      <td>0.000007</td>\n",
       "      <td>0.000028</td>\n",
       "    </tr>\n",
       "    <tr>\n",
       "      <th>1</th>\n",
       "      <td>0.10</td>\n",
       "      <td>0.001000</td>\n",
       "      <td>0.052632</td>\n",
       "      <td>0.000053</td>\n",
       "      <td>0.000222</td>\n",
       "    </tr>\n",
       "    <tr>\n",
       "      <th>2</th>\n",
       "      <td>0.15</td>\n",
       "      <td>0.003375</td>\n",
       "      <td>0.052632</td>\n",
       "      <td>0.000178</td>\n",
       "      <td>0.000748</td>\n",
       "    </tr>\n",
       "    <tr>\n",
       "      <th>3</th>\n",
       "      <td>0.20</td>\n",
       "      <td>0.008000</td>\n",
       "      <td>0.052632</td>\n",
       "      <td>0.000421</td>\n",
       "      <td>0.001773</td>\n",
       "    </tr>\n",
       "    <tr>\n",
       "      <th>4</th>\n",
       "      <td>0.25</td>\n",
       "      <td>0.015625</td>\n",
       "      <td>0.052632</td>\n",
       "      <td>0.000822</td>\n",
       "      <td>0.003463</td>\n",
       "    </tr>\n",
       "    <tr>\n",
       "      <th>5</th>\n",
       "      <td>0.30</td>\n",
       "      <td>0.027000</td>\n",
       "      <td>0.052632</td>\n",
       "      <td>0.001421</td>\n",
       "      <td>0.005983</td>\n",
       "    </tr>\n",
       "    <tr>\n",
       "      <th>6</th>\n",
       "      <td>0.35</td>\n",
       "      <td>0.042875</td>\n",
       "      <td>0.052632</td>\n",
       "      <td>0.002257</td>\n",
       "      <td>0.009501</td>\n",
       "    </tr>\n",
       "    <tr>\n",
       "      <th>7</th>\n",
       "      <td>0.40</td>\n",
       "      <td>0.064000</td>\n",
       "      <td>0.052632</td>\n",
       "      <td>0.003368</td>\n",
       "      <td>0.014183</td>\n",
       "    </tr>\n",
       "    <tr>\n",
       "      <th>8</th>\n",
       "      <td>0.45</td>\n",
       "      <td>0.091125</td>\n",
       "      <td>0.052632</td>\n",
       "      <td>0.004796</td>\n",
       "      <td>0.020194</td>\n",
       "    </tr>\n",
       "    <tr>\n",
       "      <th>9</th>\n",
       "      <td>0.50</td>\n",
       "      <td>0.125000</td>\n",
       "      <td>0.052632</td>\n",
       "      <td>0.006579</td>\n",
       "      <td>0.027701</td>\n",
       "    </tr>\n",
       "    <tr>\n",
       "      <th>10</th>\n",
       "      <td>0.55</td>\n",
       "      <td>0.166375</td>\n",
       "      <td>0.052632</td>\n",
       "      <td>0.008757</td>\n",
       "      <td>0.036870</td>\n",
       "    </tr>\n",
       "    <tr>\n",
       "      <th>11</th>\n",
       "      <td>0.60</td>\n",
       "      <td>0.216000</td>\n",
       "      <td>0.052632</td>\n",
       "      <td>0.011368</td>\n",
       "      <td>0.047867</td>\n",
       "    </tr>\n",
       "    <tr>\n",
       "      <th>12</th>\n",
       "      <td>0.65</td>\n",
       "      <td>0.274625</td>\n",
       "      <td>0.052632</td>\n",
       "      <td>0.014454</td>\n",
       "      <td>0.060859</td>\n",
       "    </tr>\n",
       "    <tr>\n",
       "      <th>13</th>\n",
       "      <td>0.70</td>\n",
       "      <td>0.343000</td>\n",
       "      <td>0.052632</td>\n",
       "      <td>0.018053</td>\n",
       "      <td>0.076011</td>\n",
       "    </tr>\n",
       "    <tr>\n",
       "      <th>14</th>\n",
       "      <td>0.75</td>\n",
       "      <td>0.421875</td>\n",
       "      <td>0.052632</td>\n",
       "      <td>0.022204</td>\n",
       "      <td>0.093490</td>\n",
       "    </tr>\n",
       "    <tr>\n",
       "      <th>15</th>\n",
       "      <td>0.80</td>\n",
       "      <td>0.512000</td>\n",
       "      <td>0.052632</td>\n",
       "      <td>0.026947</td>\n",
       "      <td>0.113463</td>\n",
       "    </tr>\n",
       "    <tr>\n",
       "      <th>16</th>\n",
       "      <td>0.85</td>\n",
       "      <td>0.614125</td>\n",
       "      <td>0.052632</td>\n",
       "      <td>0.032322</td>\n",
       "      <td>0.136094</td>\n",
       "    </tr>\n",
       "    <tr>\n",
       "      <th>17</th>\n",
       "      <td>0.90</td>\n",
       "      <td>0.729000</td>\n",
       "      <td>0.052632</td>\n",
       "      <td>0.038368</td>\n",
       "      <td>0.161551</td>\n",
       "    </tr>\n",
       "    <tr>\n",
       "      <th>18</th>\n",
       "      <td>0.95</td>\n",
       "      <td>0.857375</td>\n",
       "      <td>0.052632</td>\n",
       "      <td>0.045125</td>\n",
       "      <td>0.190000</td>\n",
       "    </tr>\n",
       "  </tbody>\n",
       "</table>\n",
       "</div>"
      ],
      "text/plain": [
       "    theta  joint_like     prior  unnorm_post      post\n",
       "0    0.05    0.000125  0.052632     0.000007  0.000028\n",
       "1    0.10    0.001000  0.052632     0.000053  0.000222\n",
       "2    0.15    0.003375  0.052632     0.000178  0.000748\n",
       "3    0.20    0.008000  0.052632     0.000421  0.001773\n",
       "4    0.25    0.015625  0.052632     0.000822  0.003463\n",
       "5    0.30    0.027000  0.052632     0.001421  0.005983\n",
       "6    0.35    0.042875  0.052632     0.002257  0.009501\n",
       "7    0.40    0.064000  0.052632     0.003368  0.014183\n",
       "8    0.45    0.091125  0.052632     0.004796  0.020194\n",
       "9    0.50    0.125000  0.052632     0.006579  0.027701\n",
       "10   0.55    0.166375  0.052632     0.008757  0.036870\n",
       "11   0.60    0.216000  0.052632     0.011368  0.047867\n",
       "12   0.65    0.274625  0.052632     0.014454  0.060859\n",
       "13   0.70    0.343000  0.052632     0.018053  0.076011\n",
       "14   0.75    0.421875  0.052632     0.022204  0.093490\n",
       "15   0.80    0.512000  0.052632     0.026947  0.113463\n",
       "16   0.85    0.614125  0.052632     0.032322  0.136094\n",
       "17   0.90    0.729000  0.052632     0.038368  0.161551\n",
       "18   0.95    0.857375  0.052632     0.045125  0.190000"
      ]
     },
     "execution_count": 13,
     "metadata": {},
     "output_type": "execute_result"
    }
   ],
   "source": [
    "df = pd.DataFrame(res, columns=[\"theta\", \"joint_like\", \"prior\", \"unnorm_post\", \"post\"])\n",
    "df[\"post\"] = df[\"unnorm_post\"] / np.sum(df[\"unnorm_post\"])\n",
    "df"
   ]
  },
  {
   "cell_type": "code",
   "execution_count": 14,
   "id": "tracked-dryer",
   "metadata": {},
   "outputs": [
    {
     "data": {
      "image/png": "[encoded data removed]",
      "text/plain": [
       "<Figure size 1152x432 with 2 Axes>"
      ]
     },
     "metadata": {
      "needs_background": "light"
     },
     "output_type": "display_data"
    }
   ],
   "source": [
    "def plot_prior_posterior():\n",
    "    plt.figure(figsize=(16, 6))\n",
    "\n",
    "    plt.subplot(1, 2, 1)\n",
    "    plt.stem(df[\"theta\"], df[\"prior\"])\n",
    "    plt.xlabel(\"theta\")\n",
    "    plt.ylabel(\"probability\")\n",
    "    plt.ylim([0,0.5])\n",
    "    plt.title(\"prior distribution\")\n",
    "\n",
    "    plt.subplot(1, 2, 2)\n",
    "    plt.stem(df[\"theta\"], df[\"post\"])\n",
    "    plt.ylim([0, 0.5])\n",
    "    plt.xlabel(\"theta\")\n",
    "    plt.ylabel(\"probability\")\n",
    "    plt.title(\"Posterior distribution\")\n",
    "    \n",
    "plot_prior_posterior()"
   ]
  },
  {
   "cell_type": "markdown",
   "id": "asian-contemporary",
   "metadata": {},
   "source": [
    "### Posterior & Prior"
   ]
  },
  {
   "cell_type": "code",
   "execution_count": 15,
   "id": "british-trade",
   "metadata": {},
   "outputs": [
    {
     "data": {
      "text/plain": [
       "(0.22068421765823887, 0.7793157823417611)"
      ]
     },
     "execution_count": 15,
     "metadata": {},
     "output_type": "execute_result"
    }
   ],
   "source": [
    "py1_post = np.sum((df[\"theta\"]*df[\"post\"]))\n",
    "py0_post = 1.0 - py1_post\n",
    "py0_post,py1_post"
   ]
  },
  {
   "cell_type": "code",
   "execution_count": 16,
   "id": "electronic-printer",
   "metadata": {},
   "outputs": [
    {
     "data": {
      "text/plain": [
       "(0.5, 0.5)"
      ]
     },
     "execution_count": 16,
     "metadata": {},
     "output_type": "execute_result"
    }
   ],
   "source": [
    "py1_prior = np.sum((df[\"theta\"]) * df[\"prior\"])\n",
    "py0_prior = 1 - py1_prior\n",
    "py1_prior, py0_prior"
   ]
  },
  {
   "cell_type": "code",
   "execution_count": 17,
   "id": "motivated-investigation",
   "metadata": {},
   "outputs": [],
   "source": [
    "def plot_new_posterior_prior():\n",
    "    plt.figure(figsize=(16, 6))\n",
    "    plt.subplot(2, 2, 3)\n",
    "    plt.stem([0, 1], [py0_prior, py1_prior])\n",
    "    plt.xlabel(\"Y\")\n",
    "    plt.ylabel(\"P(y)\")\n",
    "    plt.ylim([0, 1])\n",
    "    plt.title(\"Prior predictive distribution\")\n",
    "\n",
    "    plt.subplot(2, 2, 4)\n",
    "    plt.stem([0, 1], [py0_post, py1_post])\n",
    "    plt.ylim([0, 1])\n",
    "    plt.xlabel(\"Y\")\n",
    "    plt.ylabel(\"P(y)\")\n",
    "    plt.title(\"Posterior predictive distribution\")    "
   ]
  },
  {
   "cell_type": "code",
   "execution_count": 18,
   "id": "nuclear-industry",
   "metadata": {},
   "outputs": [
    {
     "data": {
      "image/png": "[encoded data removed]",
      "text/plain": [
       "<Figure size 1152x432 with 2 Axes>"
      ]
     },
     "metadata": {
      "needs_background": "light"
     },
     "output_type": "display_data"
    },
    {
     "data": {
      "image/png": "[encoded data removed]",
      "text/plain": [
       "<Figure size 1152x432 with 2 Axes>"
      ]
     },
     "metadata": {
      "needs_background": "light"
     },
     "output_type": "display_data"
    }
   ],
   "source": [
    "plot_prior_posterior()\n",
    "plot_new_posterior_prior()"
   ]
  },
  {
   "cell_type": "markdown",
   "id": "alleged-device",
   "metadata": {},
   "source": [
    "## Exercise"
   ]
  },
  {
   "cell_type": "code",
   "execution_count": 19,
   "id": "african-driving",
   "metadata": {},
   "outputs": [],
   "source": [
    "# First observed 40-times-head\n",
    "obs_data_case_1 = np.repeat(1, 40)\n",
    "values = torch.tensor(obs_data_case_1, dtype=float)\n",
    "probs = inverse_log_prob(dist.log_prob(values))"
   ]
  },
  {
   "cell_type": "code",
   "execution_count": 20,
   "id": "saving-release",
   "metadata": {},
   "outputs": [
    {
     "data": {
      "text/plain": [
       "(0.1285119817019384, 0.006763788510628336)"
      ]
     },
     "execution_count": 20,
     "metadata": {},
     "output_type": "execute_result"
    }
   ],
   "source": [
    "joint_prob = np.prod(probs)\n",
    "unnormalized_posterior = joint_prob * prior\n",
    "joint_prob, unnormalized_posterior"
   ]
  },
  {
   "cell_type": "code",
   "execution_count": 21,
   "id": "sharing-packing",
   "metadata": {},
   "outputs": [],
   "source": [
    "res = np.zeros((len(theta), 5))\n",
    "for i, _ in enumerate(res):\n",
    "    \n",
    "    dist = torch.distributions.bernoulli.Bernoulli(probs=theta[i])\n",
    "    values = torch.tensor(obs_data_case_1, dtype=float)\n",
    "    values = np.prod(inverse_log_prob(dist.log_prob(values)))\n",
    "\n",
    "    calc_values = np.array((\n",
    "        theta[i],\n",
    "        values,\n",
    "        prior,\n",
    "        values*prior\n",
    "    ))\n",
    "    \n",
    "    res[i, 0:4] = calc_values"
   ]
  },
  {
   "cell_type": "code",
   "execution_count": 22,
   "id": "alternative-equation",
   "metadata": {},
   "outputs": [],
   "source": [
    "def create_stat_df(stats_result):\n",
    "    result = pd.DataFrame(stats_result, columns=[\"theta\", \"joint_prob\", \"prior\", \"unnorm_post\", \"post\"])\n",
    "    result[\"post\"] = result[\"unnorm_post\"] / np.sum(result[\"unnorm_post\"])\n",
    "    return result"
   ]
  },
  {
   "cell_type": "code",
   "execution_count": 23,
   "id": "ready-premium",
   "metadata": {},
   "outputs": [],
   "source": [
    "res = create_stat_df(res)"
   ]
  },
  {
   "cell_type": "code",
   "execution_count": 24,
   "id": "greater-military",
   "metadata": {},
   "outputs": [
    {
     "data": {
      "image/png": "[encoded data removed]",
      "text/plain": [
       "<Figure size 1152x432 with 2 Axes>"
      ]
     },
     "metadata": {
      "needs_background": "light"
     },
     "output_type": "display_data"
    }
   ],
   "source": [
    "plt.figure(figsize=(16, 6))\n",
    "plt.subplot(1, 2, 1)\n",
    "plt.stem(res[\"theta\"], res[\"post\"])\n",
    "plt.ylim([0, 1])\n",
    "plt.xlabel(\"Theta\")\n",
    "plt.ylabel(\"Posterior\")\n",
    "plt.title(\"Posterior distribution\")\n",
    "\n",
    "\n",
    "plt.subplot(1, 2, 2)\n",
    "plt.stem([0, 1], [np.sum((1-res[\"theta\"])*res[\"post\"]), np.sum((res[\"theta\"])*res[\"post\"])])\n",
    "plt.ylim([0, 1])\n",
    "plt.xlabel(\"Y\")\n",
    "plt.ylabel(\"P(y)\")\n",
    "plt.title(\"Posterior distribution\")\n",
    "plt.show()"
   ]
  },
  {
   "cell_type": "code",
   "execution_count": 25,
   "id": "convertible-penalty",
   "metadata": {},
   "outputs": [],
   "source": [
    "# observed 11 times head, 9 times tail\n",
    "head = np.repeat(1, 11)\n",
    "tails = np.repeat(0, 9)\n",
    "obs_data_2 = np.hstack([head, tails])"
   ]
  },
  {
   "cell_type": "code",
   "execution_count": 26,
   "id": "numeric-there",
   "metadata": {},
   "outputs": [],
   "source": [
    "res = np.zeros((len(theta), 5))\n",
    "for i, _ in enumerate(theta):\n",
    "    \n",
    "    dist = torch.distributions.bernoulli.Bernoulli(probs=theta[i])\n",
    "    values = np.prod(inverse_log_prob(dist.log_prob(torch.tensor(obs_data_2, dtype=float))))\n",
    "    \n",
    "    res_row = np.array((\n",
    "        theta[i],\n",
    "        values, # joint probability\n",
    "        prior,\n",
    "        (values * prior), # unnormalized posterior\n",
    "    ))\n",
    "    \n",
    "    res[i, 0:4] = res_row"
   ]
  },
  {
   "cell_type": "code",
   "execution_count": 27,
   "id": "lesbian-rover",
   "metadata": {},
   "outputs": [],
   "source": [
    "new_df = pd.DataFrame(res, columns = [\"theta\", \"join_prob\", \"prior\", \"unnorm_post\", \"posterior\"])\n",
    "new_df[\"posterior\"] = new_df[\"unnorm_post\"] / np.sum(new_df[\"unnorm_post\"])"
   ]
  },
  {
   "cell_type": "code",
   "execution_count": 28,
   "id": "placed-stability",
   "metadata": {},
   "outputs": [
    {
     "data": {
      "text/plain": [
       "Text(0.5, 1.0, 'Posterior distribution')"
      ]
     },
     "execution_count": 28,
     "metadata": {},
     "output_type": "execute_result"
    },
    {
     "data": {
      "image/png": "[encoded data removed]",
      "text/plain": [
       "<Figure size 1152x432 with 2 Axes>"
      ]
     },
     "metadata": {
      "needs_background": "light"
     },
     "output_type": "display_data"
    }
   ],
   "source": [
    "plt.figure(figsize=(16, 6))\n",
    "plt.subplot(1, 2, 1)\n",
    "plt.stem(new_df[\"theta\"], new_df[\"posterior\"])\n",
    "plt.ylim([0, 1])\n",
    "plt.xlabel(\"theta\")\n",
    "plt.ylabel(\"posterior\")\n",
    "plt.title(\"Posteriror distribution\")\n",
    "\n",
    "\n",
    "plt.subplot(1, 2, 2)\n",
    "plt.stem([0, 1], [np.sum((1-new_df[\"theta\"])*new_df[\"posterior\"]), np.sum((new_df[\"posterior\"])*new_df[\"theta\"])])\n",
    "plt.ylim([0, 1])\n",
    "plt.ylabel(\"p(y)\")\n",
    "plt.xlabel(\"Y\")\n",
    "plt.title(\"Posterior distribution\")"
   ]
  },
  {
   "cell_type": "markdown",
   "id": "gorgeous-albert",
   "metadata": {},
   "source": [
    "### Exercise 2\n",
    "Use none uniform distribution for prior"
   ]
  },
  {
   "cell_type": "code",
   "execution_count": 29,
   "id": "popular-royalty",
   "metadata": {},
   "outputs": [],
   "source": [
    "prior = np.sqrt(np.square(0.5) - np.square(theta-0.5)) - 0.2\n",
    "prior = prior / np.sum(prior)"
   ]
  },
  {
   "cell_type": "code",
   "execution_count": 30,
   "id": "certified-subsection",
   "metadata": {},
   "outputs": [
    {
     "data": {
      "text/plain": [
       "(0.0, 1.0)"
      ]
     },
     "execution_count": 30,
     "metadata": {},
     "output_type": "execute_result"
    },
    {
     "data": {
      "image/png": "[encoded data removed]",
      "text/plain": [
       "<Figure size 432x288 with 1 Axes>"
      ]
     },
     "metadata": {
      "needs_background": "light"
     },
     "output_type": "display_data"
    }
   ],
   "source": [
    "plt.stem(theta, prior)\n",
    "plt.xlim([0, 1])"
   ]
  },
  {
   "cell_type": "code",
   "execution_count": 31,
   "id": "suburban-scene",
   "metadata": {},
   "outputs": [],
   "source": [
    "o_data = np.repeat(1, 40)\n",
    "res = np.zeros((len(theta), 5))\n",
    "for i, _ in enumerate(theta):\n",
    "    \n",
    "    dist = torch.distributions.bernoulli.Bernoulli(probs=theta[i])\n",
    "    probs = np.prod(inverse_log_prob(dist.log_prob(torch.tensor(o_data, dtype=float))))\n",
    "    \n",
    "    res_row = np.array((\n",
    "        theta[i],\n",
    "        probs, # joint probability\n",
    "        prior[i],\n",
    "        probs*prior[i], # unnormalized posteriror\n",
    "    ))\n",
    "    \n",
    "    res[i, 0:4] = res_row"
   ]
  },
  {
   "cell_type": "code",
   "execution_count": 32,
   "id": "flush-litigation",
   "metadata": {},
   "outputs": [],
   "source": [
    "df = pd.DataFrame(res, columns=[\"theta\", \"joint_prob\",\"prior\", \"un_post\", \"post\"])\n",
    "df[\"post\"] = df[\"un_post\"] / np.sum(df[\"un_post\"])"
   ]
  },
  {
   "cell_type": "code",
   "execution_count": 33,
   "id": "square-robinson",
   "metadata": {},
   "outputs": [
    {
     "data": {
      "text/html": [
       "<div>\n",
       "<style scoped>\n",
       "    .dataframe tbody tr th:only-of-type {\n",
       "        vertical-align: middle;\n",
       "    }\n",
       "\n",
       "    .dataframe tbody tr th {\n",
       "        vertical-align: top;\n",
       "    }\n",
       "\n",
       "    .dataframe thead th {\n",
       "        text-align: right;\n",
       "    }\n",
       "</style>\n",
       "<table border=\"1\" class=\"dataframe\">\n",
       "  <thead>\n",
       "    <tr style=\"text-align: right;\">\n",
       "      <th></th>\n",
       "      <th>theta</th>\n",
       "      <th>joint_prob</th>\n",
       "      <th>prior</th>\n",
       "      <th>un_post</th>\n",
       "      <th>post</th>\n",
       "    </tr>\n",
       "  </thead>\n",
       "  <tbody>\n",
       "    <tr>\n",
       "      <th>0</th>\n",
       "      <td>0.05</td>\n",
       "      <td>9.094951e-53</td>\n",
       "      <td>0.004530</td>\n",
       "      <td>4.120076e-55</td>\n",
       "      <td>4.030537e-52</td>\n",
       "    </tr>\n",
       "    <tr>\n",
       "      <th>1</th>\n",
       "      <td>0.10</td>\n",
       "      <td>9.999966e-41</td>\n",
       "      <td>0.025244</td>\n",
       "      <td>2.524418e-42</td>\n",
       "      <td>2.469556e-39</td>\n",
       "    </tr>\n",
       "    <tr>\n",
       "      <th>2</th>\n",
       "      <td>0.15</td>\n",
       "      <td>1.105733e-33</td>\n",
       "      <td>0.039652</td>\n",
       "      <td>4.384398e-35</td>\n",
       "      <td>4.289114e-32</td>\n",
       "    </tr>\n",
       "    <tr>\n",
       "      <th>3</th>\n",
       "      <td>0.20</td>\n",
       "      <td>1.099512e-28</td>\n",
       "      <td>0.050489</td>\n",
       "      <td>5.551272e-30</td>\n",
       "      <td>5.430629e-27</td>\n",
       "    </tr>\n",
       "    <tr>\n",
       "      <th>4</th>\n",
       "      <td>0.25</td>\n",
       "      <td>8.271825e-25</td>\n",
       "      <td>0.058822</td>\n",
       "      <td>4.865681e-26</td>\n",
       "      <td>4.759937e-23</td>\n",
       "    </tr>\n",
       "  </tbody>\n",
       "</table>\n",
       "</div>"
      ],
      "text/plain": [
       "   theta    joint_prob     prior       un_post          post\n",
       "0   0.05  9.094951e-53  0.004530  4.120076e-55  4.030537e-52\n",
       "1   0.10  9.999966e-41  0.025244  2.524418e-42  2.469556e-39\n",
       "2   0.15  1.105733e-33  0.039652  4.384398e-35  4.289114e-32\n",
       "3   0.20  1.099512e-28  0.050489  5.551272e-30  5.430629e-27\n",
       "4   0.25  8.271825e-25  0.058822  4.865681e-26  4.759937e-23"
      ]
     },
     "execution_count": 33,
     "metadata": {},
     "output_type": "execute_result"
    }
   ],
   "source": [
    "df.head()"
   ]
  },
  {
   "cell_type": "code",
   "execution_count": 38,
   "id": "committed-manhattan",
   "metadata": {},
   "outputs": [
    {
     "data": {
      "text/plain": [
       "Text(0.5, 1.0, 'Posterior dist.')"
      ]
     },
     "execution_count": 38,
     "metadata": {},
     "output_type": "execute_result"
    },
    {
     "data": {
      "image/png": "[encoded data removed]",
      "text/plain": [
       "<Figure size 1152x432 with 2 Axes>"
      ]
     },
     "metadata": {
      "needs_background": "light"
     },
     "output_type": "display_data"
    }
   ],
   "source": [
    "plt.figure(figsize=(16, 6))\n",
    "plt.subplot(1, 2, 1)\n",
    "plt.stem([0, 1], [np.sum((1-df[\"theta\"])*df[\"prior\"]), np.sum(df[\"theta\"]*df[\"prior\"])])\n",
    "plt.ylim([0, 1])\n",
    "plt.xlabel(\"theta\")\n",
    "plt.ylabel(\"posterior\")\n",
    "plt.title(\"Prior dist. \")\n",
    "\n",
    "plt.subplot(1, 2, 2)\n",
    "plt.stem([0, 1], [np.sum((1-df[\"theta\"])*df[\"post\"]), np.sum(df[\"theta\"]*df[\"post\"])])\n",
    "plt.ylim([0, 1])\n",
    "plt.xlabel(\"Y\")\n",
    "plt.ylabel(\"P(y)\")\n",
    "plt.title(\"Posterior dist.\")"
   ]
  },
  {
   "cell_type": "code",
   "execution_count": 43,
   "id": "coordinate-grill",
   "metadata": {},
   "outputs": [
    {
     "data": {
      "text/plain": [
       "Text(0.5, 1.0, 'Posterior dist.')"
      ]
     },
     "execution_count": 43,
     "metadata": {},
     "output_type": "execute_result"
    },
    {
     "data": {
      "image/png": "[encoded data removed]",
      "text/plain": [
       "<Figure size 1152x432 with 2 Axes>"
      ]
     },
     "metadata": {
      "needs_background": "light"
     },
     "output_type": "display_data"
    }
   ],
   "source": [
    "plt.figure(figsize=(16, 6))\n",
    "plt.subplot(1, 2, 1)\n",
    "plt.stem(df[\"theta\"], df[\"post\"])\n",
    "plt.ylim([0, 1])\n",
    "plt.ylabel(\"Posterior\")\n",
    "plt.xlabel(\"Theta\")\n",
    "plt.title(\"Posterior dist.\")\n",
    "\n",
    "plt.subplot(1, 2, 2)\n",
    "plt.stem([0, 1], [np.sum((1-df[\"theta\"])*df[\"post\"]), np.sum(df[\"theta\"]*df[\"post\"])])\n",
    "plt.ylim([0, 1])\n",
    "plt.ylabel(\"P(y)\")\n",
    "plt.xlabel(\"y\")\n",
    "plt.title(\"Posterior dist.\")"
   ]
  },
  {
   "cell_type": "code",
   "execution_count": 45,
   "id": "great-combination",
   "metadata": {},
   "outputs": [
    {
     "data": {
      "text/plain": [
       "[0.07518993113443667, 0.9248100688655634]"
      ]
     },
     "execution_count": 45,
     "metadata": {},
     "output_type": "execute_result"
    }
   ],
   "source": [
    "posterior_for_classes = [np.sum((1-df[\"theta\"])*df[\"post\"]), np.sum(df[\"theta\"]*df[\"post\"])]\n",
    "posterior_for_classes"
   ]
  },
  {
   "cell_type": "code",
   "execution_count": 61,
   "id": "atlantic-generation",
   "metadata": {},
   "outputs": [],
   "source": [
    "# Case with 11 heads, 9 tails\n",
    "obs_data = np.hstack([np.repeat(1, 11), np.repeat(0, 9)])\n",
    "theta = np.arange(0.05, 1, 0.05)\n",
    "res = np.zeros((len(obs_data), 5))\n",
    "for i, _ in enumerate(theta):\n",
    "    dist = torch.distributions.bernoulli.Bernoulli(probs=theta[i])\n",
    "    log_probs = dist.log_prob(torch.tensor(obs_data, dtype=float))\n",
    "    probs = np.prod(inverse_log_prob(log_probs))\n",
    "    \n",
    "    res[i, 0:4] = np.array((\n",
    "        theta[i],\n",
    "        probs,\n",
    "        prior[i],\n",
    "        probs*prior[i]\n",
    "    ))\n",
    "    "
   ]
  },
  {
   "cell_type": "code",
   "execution_count": 62,
   "id": "wrong-filling",
   "metadata": {},
   "outputs": [
    {
     "data": {
      "text/html": [
       "<div>\n",
       "<style scoped>\n",
       "    .dataframe tbody tr th:only-of-type {\n",
       "        vertical-align: middle;\n",
       "    }\n",
       "\n",
       "    .dataframe tbody tr th {\n",
       "        vertical-align: top;\n",
       "    }\n",
       "\n",
       "    .dataframe thead th {\n",
       "        text-align: right;\n",
       "    }\n",
       "</style>\n",
       "<table border=\"1\" class=\"dataframe\">\n",
       "  <thead>\n",
       "    <tr style=\"text-align: right;\">\n",
       "      <th></th>\n",
       "      <th>theta</th>\n",
       "      <th>joint_prob</th>\n",
       "      <th>prior</th>\n",
       "      <th>un_post</th>\n",
       "      <th>post</th>\n",
       "    </tr>\n",
       "  </thead>\n",
       "  <tbody>\n",
       "    <tr>\n",
       "      <th>0</th>\n",
       "      <td>0.05</td>\n",
       "      <td>3.077389e-15</td>\n",
       "      <td>0.004530</td>\n",
       "      <td>1.394079e-17</td>\n",
       "      <td>3.397536e-11</td>\n",
       "    </tr>\n",
       "    <tr>\n",
       "      <th>1</th>\n",
       "      <td>0.10</td>\n",
       "      <td>3.874200e-12</td>\n",
       "      <td>0.025244</td>\n",
       "      <td>9.780132e-14</td>\n",
       "      <td>2.383535e-07</td>\n",
       "    </tr>\n",
       "    <tr>\n",
       "      <th>2</th>\n",
       "      <td>0.15</td>\n",
       "      <td>2.003429e-10</td>\n",
       "      <td>0.039652</td>\n",
       "      <td>7.943901e-12</td>\n",
       "      <td>1.936023e-05</td>\n",
       "    </tr>\n",
       "    <tr>\n",
       "      <th>3</th>\n",
       "      <td>0.20</td>\n",
       "      <td>2.748779e-09</td>\n",
       "      <td>0.050489</td>\n",
       "      <td>1.387818e-10</td>\n",
       "      <td>3.382278e-04</td>\n",
       "    </tr>\n",
       "    <tr>\n",
       "      <th>4</th>\n",
       "      <td>0.25</td>\n",
       "      <td>1.790161e-08</td>\n",
       "      <td>0.058822</td>\n",
       "      <td>1.053014e-09</td>\n",
       "      <td>2.566322e-03</td>\n",
       "    </tr>\n",
       "  </tbody>\n",
       "</table>\n",
       "</div>"
      ],
      "text/plain": [
       "   theta    joint_prob     prior       un_post          post\n",
       "0   0.05  3.077389e-15  0.004530  1.394079e-17  3.397536e-11\n",
       "1   0.10  3.874200e-12  0.025244  9.780132e-14  2.383535e-07\n",
       "2   0.15  2.003429e-10  0.039652  7.943901e-12  1.936023e-05\n",
       "3   0.20  2.748779e-09  0.050489  1.387818e-10  3.382278e-04\n",
       "4   0.25  1.790161e-08  0.058822  1.053014e-09  2.566322e-03"
      ]
     },
     "execution_count": 62,
     "metadata": {},
     "output_type": "execute_result"
    }
   ],
   "source": [
    "df = pd.DataFrame(res, columns=[\"theta\", \"joint_prob\", \"prior\", \"un_post\", \"post\"])\n",
    "df[\"post\"] = df[\"un_post\"] / np.sum(df[\"un_post\"])\n",
    "df.head()"
   ]
  },
  {
   "cell_type": "code",
   "execution_count": 65,
   "id": "czech-burning",
   "metadata": {},
   "outputs": [
    {
     "data": {
      "text/plain": [
       "Text(0.5, 1.0, 'Posterior dist.')"
      ]
     },
     "execution_count": 65,
     "metadata": {},
     "output_type": "execute_result"
    },
    {
     "data": {
      "image/png": "[encoded data removed]",
      "text/plain": [
       "<Figure size 1152x432 with 2 Axes>"
      ]
     },
     "metadata": {
      "needs_background": "light"
     },
     "output_type": "display_data"
    }
   ],
   "source": [
    "plt.figure(figsize=(16, 6))\n",
    "plt.subplot(1, 2, 1)\n",
    "plt.stem([0, 1], [np.sum((1-df[\"theta\"])*df[\"prior\"]), np.sum(df[\"theta\"]*df[\"prior\"])])\n",
    "plt.ylim([0, 1])\n",
    "plt.ylabel(\"P(y)\")\n",
    "plt.xlabel(\"y\")\n",
    "plt.title(\"Prior dist.\")\n",
    "\n",
    "plt.subplot(1, 2, 2)\n",
    "plt.stem([0, 1], [np.sum((1-df[\"theta\"])*df[\"post\"]), np.sum(df[\"theta\"]*df[\"post\"])])\n",
    "plt.ylim([0, 1])\n",
    "plt.ylabel(\"P(y)\")\n",
    "plt.xlabel(\"y\")\n",
    "plt.title(\"Posterior dist.\")"
   ]
  },
  {
   "cell_type": "code",
   "execution_count": 67,
   "id": "respected-offset",
   "metadata": {},
   "outputs": [
    {
     "data": {
      "text/plain": [
       "Text(0.5, 0, 'y')"
      ]
     },
     "execution_count": 67,
     "metadata": {},
     "output_type": "execute_result"
    },
    {
     "data": {
      "image/png": "[encoded data removed]",
      "text/plain": [
       "<Figure size 1152x432 with 2 Axes>"
      ]
     },
     "metadata": {
      "needs_background": "light"
     },
     "output_type": "display_data"
    }
   ],
   "source": [
    "plt.figure(figsize=(16, 6))\n",
    "plt.subplot(1, 2, 1)\n",
    "plt.stem(df[\"theta\"], df[\"post\"])\n",
    "plt.ylim([0, 1])\n",
    "plt.ylabel(\"Posterior\")\n",
    "plt.xlabel(\"Theta\")\n",
    "plt.title(\"Posterior dist.\")\n",
    "\n",
    "plt.subplot(1, 2, 2)\n",
    "plt.stem([0, 1], [np.sum((1-df[\"theta\"])*df[\"post\"]), np.sum(df[\"theta\"]*df[\"post\"])])\n",
    "plt.ylim([0, 1])\n",
    "plt.ylabel(\"P(y)\")\n",
    "plt.xlabel(\"y\")"
   ]
  },
  {
   "cell_type": "code",
   "execution_count": 68,
   "id": "silver-logging",
   "metadata": {},
   "outputs": [
    {
     "data": {
      "text/plain": [
       "[0.45790058865083266, 0.5420994113491671]"
      ]
     },
     "execution_count": 68,
     "metadata": {},
     "output_type": "execute_result"
    }
   ],
   "source": [
    "[np.sum((1-df[\"theta\"])*df[\"post\"]), np.sum(df[\"theta\"]*df[\"post\"])]"
   ]
  }
 ],
 "metadata": {
  "kernelspec": {
   "display_name": "Python 3",
   "language": "python",
   "name": "python3"
  },
  "language_info": {
   "codemirror_mode": {
    "name": "ipython",
    "version": 3
   },
   "file_extension": ".py",
   "mimetype": "text/x-python",
   "name": "python",
   "nbconvert_exporter": "python",
   "pygments_lexer": "ipython3",
   "version": "3.8.6"
  }
 },
 "nbformat": 4,
 "nbformat_minor": 5
}
