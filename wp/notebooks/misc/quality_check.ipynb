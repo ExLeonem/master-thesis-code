{
 "cells": [
  {
   "cell_type": "markdown",
   "id": "8fa178ea",
   "metadata": {},
   "source": [
    "# Check uncertainty estimates\n"
   ]
  },
  {
   "cell_type": "markdown",
   "id": "936bb610",
   "metadata": {},
   "source": [
    "[can't start cudnn algorithm](https://stackoverflow.com/questions/53698035/failed-to-get-convolution-algorithm-this-is-probably-because-cudnn-failed-to-in)"
   ]
  },
  {
   "cell_type": "code",
   "execution_count": 1,
   "id": "edcbb93d",
   "metadata": {},
   "outputs": [],
   "source": [
    "import os, sys, importlib\n",
    "\n",
    "import pandas as pd\n",
    "import numpy as np\n",
    "import matplotlib.pyplot as plt\n",
    "import tensorflow as tf\n",
    "\n",
    "from sklearn.model_selection import train_test_split\n",
    "\n",
    "\n",
    "BASE_PATH = os.path.join(os.getcwd(), \"..\", \"..\")\n",
    "MODULE_PATH = os.path.join(BASE_PATH, \"modules\")\n",
    "DATASET_PATH = os.path.join(BASE_PATH, \"datasets\")\n",
    "\n",
    "sys.path.append(MODULE_PATH)\n",
    "\n",
    "from bayesian import McDropout, MomentPropagation\n",
    "import data.mnist as mnist_loader\n",
    "from models.default import default_model\n",
    "from models.tf_growth import setup_growth\n",
    "\n",
    "\n",
    "%load_ext autoreload "
   ]
  },
  {
   "cell_type": "markdown",
   "id": "a526a830",
   "metadata": {},
   "source": [
    "## Prepare Data"
   ]
  },
  {
   "cell_type": "code",
   "execution_count": 2,
   "id": "ed123e5b",
   "metadata": {},
   "outputs": [],
   "source": [
    "inputs, targets = mnist_loader.load(os.path.join(DATASET_PATH, \"mnist\"))"
   ]
  },
  {
   "cell_type": "code",
   "execution_count": 3,
   "id": "5ce39c85",
   "metadata": {},
   "outputs": [
    {
     "name": "stdout",
     "output_type": "stream",
     "text": [
      "Inputs-Shape: (70000, 28, 28)\n",
      "Targets-Shape: (70000,)\n"
     ]
    }
   ],
   "source": [
    "print(\"Inputs-Shape: {}\".format(inputs.shape))\n",
    "print(\"Targets-Shape: {}\".format(targets.shape))"
   ]
  },
  {
   "cell_type": "code",
   "execution_count": 4,
   "id": "c30d62b4",
   "metadata": {},
   "outputs": [],
   "source": [
    "selector = (targets==0) | (targets==1)\n",
    "new_inputs = inputs[selector]\n",
    "new_targets = targets[selector]"
   ]
  },
  {
   "cell_type": "code",
   "execution_count": 5,
   "id": "37bd8808",
   "metadata": {},
   "outputs": [],
   "source": [
    "x_train, x_test, y_train, y_test = train_test_split(np.expand_dims(new_inputs, axis=-1), new_targets)"
   ]
  },
  {
   "cell_type": "markdown",
   "id": "b84d3509",
   "metadata": {},
   "source": [
    "## Train and build models"
   ]
  },
  {
   "cell_type": "code",
   "execution_count": 6,
   "id": "7007e2f0",
   "metadata": {},
   "outputs": [
    {
     "name": "stdout",
     "output_type": "stream",
     "text": [
      "1 Physical GPU's,  1 Logical GPU's\n"
     ]
    }
   ],
   "source": [
    "setup_growth()"
   ]
  },
  {
   "cell_type": "code",
   "execution_count": 7,
   "id": "cfd8b060",
   "metadata": {},
   "outputs": [],
   "source": [
    "model = default_model()\n",
    "model.compile(optimizer=\"adam\", loss=\"binary_crossentropy\", metrics=[\"binary_accuracy\"])"
   ]
  },
  {
   "cell_type": "code",
   "execution_count": 8,
   "id": "a50391a7",
   "metadata": {},
   "outputs": [
    {
     "name": "stdout",
     "output_type": "stream",
     "text": [
      "Epoch 1/100\n",
      "347/347 [==============================] - 6s 17ms/step - loss: 0.0830 - binary_accuracy: 0.9933\n",
      "Epoch 2/100\n",
      "347/347 [==============================] - 1s 4ms/step - loss: 0.0108 - binary_accuracy: 0.9982\n",
      "Epoch 3/100\n",
      "347/347 [==============================] - 1s 4ms/step - loss: 0.0068 - binary_accuracy: 0.9984\n",
      "Epoch 4/100\n",
      "347/347 [==============================] - 1s 4ms/step - loss: 0.0055 - binary_accuracy: 0.9988\n",
      "Epoch 5/100\n",
      "347/347 [==============================] - 1s 4ms/step - loss: 0.0135 - binary_accuracy: 0.9977\n",
      "Epoch 6/100\n",
      "347/347 [==============================] - 1s 4ms/step - loss: 0.0146 - binary_accuracy: 0.9979\n",
      "Epoch 7/100\n",
      "347/347 [==============================] - 1s 4ms/step - loss: 0.0132 - binary_accuracy: 0.9986\n",
      "Epoch 8/100\n",
      "347/347 [==============================] - 1s 4ms/step - loss: 0.0266 - binary_accuracy: 0.9975\n",
      "Epoch 9/100\n",
      "347/347 [==============================] - 1s 4ms/step - loss: 0.0056 - binary_accuracy: 0.9989\n",
      "Epoch 10/100\n",
      "347/347 [==============================] - 1s 4ms/step - loss: 0.0065 - binary_accuracy: 0.9993\n",
      "Epoch 11/100\n",
      "347/347 [==============================] - 1s 4ms/step - loss: 0.0030 - binary_accuracy: 0.9993\n",
      "Epoch 12/100\n",
      "347/347 [==============================] - 1s 4ms/step - loss: 0.0028 - binary_accuracy: 0.9994\n",
      "Epoch 13/100\n",
      "347/347 [==============================] - 1s 4ms/step - loss: 0.0017 - binary_accuracy: 0.9993\n",
      "Epoch 14/100\n",
      "347/347 [==============================] - 1s 4ms/step - loss: 0.0014 - binary_accuracy: 0.9996\n",
      "Epoch 15/100\n",
      "347/347 [==============================] - 1s 4ms/step - loss: 0.0198 - binary_accuracy: 0.9986\n",
      "Epoch 16/100\n",
      "347/347 [==============================] - 1s 4ms/step - loss: 0.0090 - binary_accuracy: 0.9992\n",
      "Epoch 17/100\n",
      "347/347 [==============================] - 1s 4ms/step - loss: 0.0015 - binary_accuracy: 0.9997\n",
      "Epoch 18/100\n",
      "347/347 [==============================] - 1s 4ms/step - loss: 0.0020 - binary_accuracy: 0.9998\n",
      "Epoch 19/100\n",
      "347/347 [==============================] - 1s 4ms/step - loss: 0.0023 - binary_accuracy: 0.9998\n",
      "Epoch 20/100\n",
      "347/347 [==============================] - 1s 4ms/step - loss: 5.6814e-06 - binary_accuracy: 1.0000\n",
      "Epoch 21/100\n",
      "347/347 [==============================] - 1s 4ms/step - loss: 8.4517e-06 - binary_accuracy: 1.0000\n",
      "Epoch 22/100\n",
      "347/347 [==============================] - 1s 4ms/step - loss: 0.0027 - binary_accuracy: 0.9995\n",
      "Epoch 23/100\n",
      "347/347 [==============================] - 1s 4ms/step - loss: 0.0038 - binary_accuracy: 0.9996\n",
      "Epoch 24/100\n",
      "347/347 [==============================] - 1s 4ms/step - loss: 0.0151 - binary_accuracy: 0.9991\n",
      "Epoch 25/100\n",
      "347/347 [==============================] - 1s 4ms/step - loss: 0.0030 - binary_accuracy: 0.9995\n",
      "Epoch 26/100\n",
      "347/347 [==============================] - 1s 4ms/step - loss: 0.0045 - binary_accuracy: 0.9992\n",
      "Epoch 27/100\n",
      "347/347 [==============================] - 1s 4ms/step - loss: 9.0106e-04 - binary_accuracy: 0.9997\n",
      "Epoch 28/100\n",
      "347/347 [==============================] - 1s 4ms/step - loss: 5.6754e-04 - binary_accuracy: 0.9999\n",
      "Epoch 29/100\n",
      "347/347 [==============================] - 1s 4ms/step - loss: 0.0025 - binary_accuracy: 0.9997\n",
      "Epoch 30/100\n",
      "347/347 [==============================] - 1s 4ms/step - loss: 5.4344e-05 - binary_accuracy: 1.0000\n",
      "Epoch 31/100\n",
      "347/347 [==============================] - 1s 3ms/step - loss: 4.1006e-07 - binary_accuracy: 1.0000\n",
      "Epoch 32/100\n",
      "347/347 [==============================] - 1s 4ms/step - loss: 2.5886e-04 - binary_accuracy: 0.9999\n",
      "Epoch 33/100\n",
      "347/347 [==============================] - 1s 4ms/step - loss: 7.1194e-06 - binary_accuracy: 1.0000\n",
      "Epoch 34/100\n",
      "347/347 [==============================] - 1s 4ms/step - loss: 8.9943e-06 - binary_accuracy: 1.0000\n",
      "Epoch 35/100\n",
      "347/347 [==============================] - 1s 4ms/step - loss: 1.5167e-07 - binary_accuracy: 1.0000\n",
      "Epoch 36/100\n",
      "347/347 [==============================] - 1s 4ms/step - loss: 3.1523e-07 - binary_accuracy: 1.0000\n",
      "Epoch 37/100\n",
      "347/347 [==============================] - 1s 4ms/step - loss: 0.0048 - binary_accuracy: 0.9997\n",
      "Epoch 38/100\n",
      "347/347 [==============================] - 1s 4ms/step - loss: 0.0109 - binary_accuracy: 0.9988\n",
      "Epoch 39/100\n",
      "347/347 [==============================] - 1s 4ms/step - loss: 0.0287 - binary_accuracy: 0.9989\n",
      "Epoch 40/100\n",
      "347/347 [==============================] - 1s 4ms/step - loss: 0.0045 - binary_accuracy: 0.9997\n",
      "Epoch 41/100\n",
      "347/347 [==============================] - 1s 4ms/step - loss: 5.8148e-04 - binary_accuracy: 0.9996\n",
      "Epoch 42/100\n",
      "347/347 [==============================] - 1s 4ms/step - loss: 0.0279 - binary_accuracy: 0.9995\n",
      "Epoch 43/100\n",
      "347/347 [==============================] - 1s 4ms/step - loss: 0.0188 - binary_accuracy: 0.9987\n",
      "Epoch 44/100\n",
      "347/347 [==============================] - 1s 4ms/step - loss: 2.1734e-05 - binary_accuracy: 1.0000\n",
      "Epoch 45/100\n",
      "347/347 [==============================] - 1s 4ms/step - loss: 0.0068 - binary_accuracy: 0.9983\n",
      "Epoch 46/100\n",
      "347/347 [==============================] - 2s 4ms/step - loss: 0.0014 - binary_accuracy: 0.9991\n",
      "Epoch 47/100\n",
      "347/347 [==============================] - 1s 4ms/step - loss: 1.8543e-04 - binary_accuracy: 0.9999\n",
      "Epoch 48/100\n",
      "347/347 [==============================] - 1s 4ms/step - loss: 7.1722e-04 - binary_accuracy: 0.9998\n",
      "Epoch 49/100\n",
      "347/347 [==============================] - 1s 4ms/step - loss: 2.2919e-06 - binary_accuracy: 1.0000\n",
      "Epoch 50/100\n",
      "347/347 [==============================] - 1s 4ms/step - loss: 2.4311e-08 - binary_accuracy: 1.0000\n",
      "Epoch 51/100\n",
      "347/347 [==============================] - 1s 4ms/step - loss: 5.9398e-05 - binary_accuracy: 1.0000\n",
      "Epoch 52/100\n",
      "347/347 [==============================] - 1s 4ms/step - loss: 3.6369e-06 - binary_accuracy: 1.0000\n",
      "Epoch 53/100\n",
      "347/347 [==============================] - 1s 4ms/step - loss: 5.2967e-11 - binary_accuracy: 1.0000\n",
      "Epoch 54/100\n",
      "347/347 [==============================] - 1s 4ms/step - loss: 3.6813e-11 - binary_accuracy: 1.0000\n",
      "Epoch 55/100\n",
      "347/347 [==============================] - 1s 4ms/step - loss: 9.4627e-08 - binary_accuracy: 1.0000\n",
      "Epoch 56/100\n",
      "347/347 [==============================] - 1s 4ms/step - loss: 0.0030 - binary_accuracy: 0.9997\n",
      "Epoch 57/100\n",
      "347/347 [==============================] - 1s 4ms/step - loss: 0.0123 - binary_accuracy: 0.9990\n",
      "Epoch 58/100\n",
      "347/347 [==============================] - 1s 4ms/step - loss: 2.0425e-04 - binary_accuracy: 1.0000\n",
      "Epoch 59/100\n",
      "347/347 [==============================] - 1s 4ms/step - loss: 0.0016 - binary_accuracy: 0.9996\n",
      "Epoch 60/100\n",
      "347/347 [==============================] - 1s 4ms/step - loss: 6.6961e-04 - binary_accuracy: 0.9998\n",
      "Epoch 61/100\n",
      "347/347 [==============================] - 1s 4ms/step - loss: 0.0030 - binary_accuracy: 0.9989\n",
      "Epoch 62/100\n",
      "347/347 [==============================] - 1s 4ms/step - loss: 0.0012 - binary_accuracy: 0.9995\n",
      "Epoch 63/100\n",
      "347/347 [==============================] - 1s 4ms/step - loss: 0.0029 - binary_accuracy: 0.9995\n",
      "Epoch 64/100\n",
      "347/347 [==============================] - 1s 4ms/step - loss: 4.0799e-04 - binary_accuracy: 0.9998\n",
      "Epoch 65/100\n",
      "347/347 [==============================] - 1s 4ms/step - loss: 0.0043 - binary_accuracy: 0.9999\n",
      "Epoch 66/100\n",
      "347/347 [==============================] - 1s 4ms/step - loss: 0.0197 - binary_accuracy: 0.9975\n",
      "Epoch 67/100\n",
      "347/347 [==============================] - 1s 4ms/step - loss: 0.0010 - binary_accuracy: 0.9997\n",
      "Epoch 68/100\n",
      "347/347 [==============================] - 1s 4ms/step - loss: 0.0014 - binary_accuracy: 0.9994\n",
      "Epoch 69/100\n",
      "347/347 [==============================] - 1s 4ms/step - loss: 0.0047 - binary_accuracy: 0.9986\n",
      "Epoch 70/100\n",
      "347/347 [==============================] - 1s 4ms/step - loss: 0.0019 - binary_accuracy: 0.9992\n",
      "Epoch 71/100\n",
      "347/347 [==============================] - 1s 4ms/step - loss: 0.0275 - binary_accuracy: 0.9960\n",
      "Epoch 72/100\n",
      "347/347 [==============================] - 1s 4ms/step - loss: 0.0025 - binary_accuracy: 0.9995\n",
      "Epoch 73/100\n",
      "347/347 [==============================] - 1s 4ms/step - loss: 4.9633e-04 - binary_accuracy: 0.9997\n",
      "Epoch 74/100\n",
      "347/347 [==============================] - 1s 3ms/step - loss: 0.0035 - binary_accuracy: 0.9997\n",
      "Epoch 75/100\n"
     ]
    },
    {
     "name": "stdout",
     "output_type": "stream",
     "text": [
      "347/347 [==============================] - 1s 3ms/step - loss: 0.0026 - binary_accuracy: 0.9991\n",
      "Epoch 76/100\n",
      "347/347 [==============================] - 1s 3ms/step - loss: 2.6784e-04 - binary_accuracy: 0.9999\n",
      "Epoch 77/100\n",
      "347/347 [==============================] - 1s 4ms/step - loss: 1.1196e-04 - binary_accuracy: 0.9999\n",
      "Epoch 78/100\n",
      "347/347 [==============================] - 1s 4ms/step - loss: 1.1814e-05 - binary_accuracy: 1.0000\n",
      "Epoch 79/100\n",
      "347/347 [==============================] - 1s 4ms/step - loss: 9.7710e-04 - binary_accuracy: 0.9998\n",
      "Epoch 80/100\n",
      "347/347 [==============================] - 1s 4ms/step - loss: 1.7627e-04 - binary_accuracy: 0.9999\n",
      "Epoch 81/100\n",
      "347/347 [==============================] - 1s 4ms/step - loss: 0.0099 - binary_accuracy: 0.9978\n",
      "Epoch 82/100\n",
      "347/347 [==============================] - 1s 4ms/step - loss: 0.0067 - binary_accuracy: 0.9979\n",
      "Epoch 83/100\n",
      "347/347 [==============================] - 1s 4ms/step - loss: 0.0063 - binary_accuracy: 0.9983\n",
      "Epoch 84/100\n",
      "347/347 [==============================] - 1s 4ms/step - loss: 0.0091 - binary_accuracy: 0.9984\n",
      "Epoch 85/100\n",
      "347/347 [==============================] - 1s 4ms/step - loss: 0.0017 - binary_accuracy: 0.9990\n",
      "Epoch 86/100\n",
      "347/347 [==============================] - 1s 4ms/step - loss: 0.0012 - binary_accuracy: 0.9995\n",
      "Epoch 87/100\n",
      "347/347 [==============================] - 1s 4ms/step - loss: 0.0128 - binary_accuracy: 0.9960\n",
      "Epoch 88/100\n",
      "347/347 [==============================] - 1s 3ms/step - loss: 0.0025 - binary_accuracy: 0.9979\n",
      "Epoch 89/100\n",
      "347/347 [==============================] - 1s 4ms/step - loss: 5.1294e-04 - binary_accuracy: 0.9995\n",
      "Epoch 90/100\n",
      "347/347 [==============================] - 1s 4ms/step - loss: 0.0516 - binary_accuracy: 0.9987\n",
      "Epoch 91/100\n",
      "347/347 [==============================] - 1s 4ms/step - loss: 0.0011 - binary_accuracy: 0.9992\n",
      "Epoch 92/100\n",
      "347/347 [==============================] - 1s 4ms/step - loss: 0.0012 - binary_accuracy: 0.9990\n",
      "Epoch 93/100\n",
      "347/347 [==============================] - 1s 4ms/step - loss: 7.2429e-04 - binary_accuracy: 0.9998\n",
      "Epoch 94/100\n",
      "347/347 [==============================] - 1s 4ms/step - loss: 0.0355 - binary_accuracy: 0.9978\n",
      "Epoch 95/100\n",
      "347/347 [==============================] - 1s 4ms/step - loss: 0.0100 - binary_accuracy: 0.9977\n",
      "Epoch 96/100\n",
      "347/347 [==============================] - 1s 4ms/step - loss: 0.0056 - binary_accuracy: 0.9947\n",
      "Epoch 97/100\n",
      "347/347 [==============================] - 1s 4ms/step - loss: 0.0035 - binary_accuracy: 0.9984\n",
      "Epoch 98/100\n",
      "347/347 [==============================] - 1s 4ms/step - loss: 0.0036 - binary_accuracy: 0.9995\n",
      "Epoch 99/100\n",
      "347/347 [==============================] - 1s 4ms/step - loss: 0.0030 - binary_accuracy: 0.9996\n",
      "Epoch 100/100\n",
      "347/347 [==============================] - 1s 4ms/step - loss: 0.0048 - binary_accuracy: 0.9963\n"
     ]
    },
    {
     "data": {
      "text/plain": [
       "<tensorflow.python.keras.callbacks.History at 0x7f70e06e07c0>"
      ]
     },
     "execution_count": 8,
     "metadata": {},
     "output_type": "execute_result"
    }
   ],
   "source": [
    "model.fit(x_train, y_train, epochs=100)"
   ]
  },
  {
   "cell_type": "markdown",
   "id": "d7972ad0",
   "metadata": {},
   "source": [
    "## Evaluate performance"
   ]
  },
  {
   "cell_type": "code",
   "execution_count": 9,
   "id": "96f3180c",
   "metadata": {},
   "outputs": [
    {
     "name": "stdout",
     "output_type": "stream",
     "text": [
      "116/116 [==============================] - 2s 19ms/step - loss: 0.0041 - binary_accuracy: 0.9962\n"
     ]
    },
    {
     "data": {
      "text/plain": [
       "[0.00406778184697032, 0.9962111115455627]"
      ]
     },
     "execution_count": 9,
     "metadata": {},
     "output_type": "execute_result"
    }
   ],
   "source": [
    "model.evaluate(x_test, y_test)"
   ]
  },
  {
   "cell_type": "code",
   "execution_count": 10,
   "id": "64cf77a8",
   "metadata": {},
   "outputs": [
    {
     "name": "stdout",
     "output_type": "stream",
     "text": [
      "Predicted label: [[0.]]\n"
     ]
    },
    {
     "data": {
      "image/png": "[encoded data removed]",
      "text/plain": [
       "<Figure size 432x288 with 1 Axes>"
      ]
     },
     "metadata": {
      "needs_background": "light"
     },
     "output_type": "display_data"
    }
   ],
   "source": [
    "random_indx = np.random.choice(range(len(x_test)))\n",
    "\n",
    "test_img = x_test[random_indx]\n",
    "plt.imshow(test_img.reshape((28, 28)))\n",
    "\n",
    "prediction = model(np.expand_dims(test_img, axis=0))\n",
    "\n",
    "print(\"Predicted label: {}\".format(prediction))"
   ]
  },
  {
   "cell_type": "markdown",
   "id": "4bfc594d",
   "metadata": {},
   "source": [
    "## Metric Comparison"
   ]
  },
  {
   "cell_type": "code",
   "execution_count": 11,
   "id": "850a62a4",
   "metadata": {},
   "outputs": [],
   "source": [
    "%autoreload 2\n",
    "dp_model = McDropout(model)\n",
    "mp_model = MomentPropagation(model)"
   ]
  },
  {
   "cell_type": "code",
   "execution_count": 38,
   "id": "63d0b02d",
   "metadata": {},
   "outputs": [
    {
     "data": {
      "text/plain": [
       "array([1, 1, 1, 0, 1, 1, 1, 1, 0, 1], dtype=uint8)"
      ]
     },
     "execution_count": 38,
     "metadata": {},
     "output_type": "execute_result"
    }
   ],
   "source": [
    "test_inputs = x_test[:10]\n",
    "y_test[:10]"
   ]
  },
  {
   "cell_type": "code",
   "execution_count": 27,
   "id": "16a9cc0a",
   "metadata": {},
   "outputs": [],
   "source": [
    "values = dp_model.predict(test_inputs)"
   ]
  },
  {
   "cell_type": "code",
   "execution_count": 79,
   "id": "d30f9ba8",
   "metadata": {},
   "outputs": [
    {
     "name": "stdout",
     "output_type": "stream",
     "text": [
      "[[-9.13793852e-01 -5.09160344e-01]\n",
      " [-5.09160344e-01 -9.13793852e-01]\n",
      " [-2.21894332e-01 -1.60445037e+00]\n",
      " [-5.09160344e-01 -9.13793852e-01]\n",
      " [ 9.99500333e-04 -6.90775528e+00]\n",
      " [-5.09160344e-01 -9.13793852e-01]\n",
      " [-3.73132730e-01 -1.16019146e+00]\n",
      " [-5.09160344e-01 -9.13793852e-01]\n",
      " [-9.13793852e-01 -5.09160344e-01]\n",
      " [-5.09160344e-01 -9.13793852e-01]\n",
      " [-2.21894332e-01 -1.60445037e+00]\n",
      " [-5.09160344e-01 -9.13793852e-01]\n",
      " [ 9.99500333e-04 -6.90775528e+00]\n",
      " [-5.09160344e-01 -9.13793852e-01]\n",
      " [-5.09160344e-01 -9.13793852e-01]\n",
      " [-5.09160344e-01 -9.13793852e-01]\n",
      " [-9.13793852e-01 -5.09160344e-01]\n",
      " [-5.09160344e-01 -9.13793852e-01]\n",
      " [-2.21894332e-01 -1.60445037e+00]\n",
      " [-5.09160344e-01 -9.13793852e-01]\n",
      " [ 9.99500333e-04 -6.90775528e+00]\n",
      " [-7.16264678e-01 -6.66649042e-01]\n",
      " [-3.73132730e-01 -1.16019146e+00]\n",
      " [-5.09160344e-01 -9.13793852e-01]\n",
      " [-9.13793852e-01 -5.09160344e-01]\n",
      " [-5.09160344e-01 -9.13793852e-01]\n",
      " [-2.21894332e-01 -1.60445037e+00]\n",
      " [-5.09160344e-01 -9.13793852e-01]\n",
      " [ 9.99500333e-04 -6.90775528e+00]\n",
      " [-7.16264678e-01 -6.66649042e-01]\n",
      " [-5.09160344e-01 -9.13793852e-01]\n",
      " [-5.09160344e-01 -9.13793852e-01]\n",
      " [-9.13793852e-01 -5.09160344e-01]\n",
      " [-5.09160344e-01 -9.13793852e-01]\n",
      " [-2.21894332e-01 -1.60445037e+00]\n",
      " [-5.09160344e-01 -9.13793852e-01]\n",
      " [ 9.99500333e-04 -6.90775528e+00]\n",
      " [-7.16264678e-01 -6.66649042e-01]\n",
      " [-5.09160344e-01 -9.13793852e-01]\n",
      " [-5.09160344e-01 -9.13793852e-01]]\n"
     ]
    },
    {
     "data": {
      "text/plain": [
       "array([ 0.67101375,  0.67101375,  0.49840554,  0.67101375, -0.0009995 ,\n",
       "        0.67101375,  0.61903047,  0.67101375,  0.67101375,  0.67101375,\n",
       "        0.49840554,  0.67101375, -0.0009995 ,  0.67101375,  0.67101375,\n",
       "        0.67101375,  0.67101375,  0.67101375,  0.49840554,  0.67101375,\n",
       "       -0.0009995 ,  0.69084033,  0.61903047,  0.67101375,  0.67101375,\n",
       "        0.67101375,  0.49840554,  0.67101375, -0.0009995 ,  0.69084033,\n",
       "        0.67101375,  0.67101375,  0.67101375,  0.67101375,  0.49840554,\n",
       "        0.67101375, -0.0009995 ,  0.69084033,  0.67101375,  0.67101375])"
      ]
     },
     "execution_count": 79,
     "metadata": {},
     "output_type": "execute_result"
    }
   ],
   "source": [
    "# mc dropout max_entropy\n",
    "mc_max_entropy = dp_model.get_query_fn(\"max_entropy\")(x_test[10:50], runs=5)\n",
    "mc_max_entropy"
   ]
  },
  {
   "cell_type": "code",
   "execution_count": 81,
   "id": "a5f14f47",
   "metadata": {},
   "outputs": [
    {
     "name": "stdout",
     "output_type": "stream",
     "text": [
      "h4\n",
      "[[1.001e+00 1.000e-03]\n",
      " [1.001e+00 1.000e-03]\n",
      " [1.001e+00 1.000e-03]\n",
      " [1.000e-03 1.001e+00]\n",
      " [1.001e+00 1.000e-03]\n",
      " [1.001e+00 1.000e-03]\n",
      " [1.001e+00 1.000e-03]\n",
      " [1.001e+00 1.000e-03]\n",
      " [1.000e-03 1.001e+00]\n",
      " [1.001e+00 1.000e-03]]\n"
     ]
    },
    {
     "data": {
      "text/plain": [
       "array([-7.908756, -7.908756, -7.908756, -7.908756, -7.908756, -7.908756,\n",
       "       -7.908756, -7.908756, -7.908756, -7.908756], dtype=float32)"
      ]
     },
     "execution_count": 81,
     "metadata": {},
     "output_type": "execute_result"
    }
   ],
   "source": [
    "# moment propagation max entropy\n",
    "%autoreload 2\n",
    "mp_max_entropy = mp_model.get_query_fn(\"max_entropy\")(test_inputs)\n",
    "mp_max_entropy"
   ]
  },
  {
   "cell_type": "code",
   "execution_count": null,
   "id": "bc5ea525",
   "metadata": {},
   "outputs": [],
   "source": []
  },
  {
   "cell_type": "code",
   "execution_count": null,
   "id": "98f261ad",
   "metadata": {},
   "outputs": [],
   "source": []
  },
  {
   "cell_type": "code",
   "execution_count": null,
   "id": "b09d5d82",
   "metadata": {},
   "outputs": [],
   "source": []
  },
  {
   "cell_type": "code",
   "execution_count": null,
   "id": "dddead3c",
   "metadata": {},
   "outputs": [],
   "source": []
  },
  {
   "cell_type": "code",
   "execution_count": null,
   "id": "a0e13486",
   "metadata": {},
   "outputs": [],
   "source": []
  },
  {
   "cell_type": "code",
   "execution_count": null,
   "id": "de16c924",
   "metadata": {},
   "outputs": [],
   "source": []
  },
  {
   "cell_type": "code",
   "execution_count": null,
   "id": "4613fb43",
   "metadata": {},
   "outputs": [],
   "source": []
  },
  {
   "cell_type": "code",
   "execution_count": null,
   "id": "040e54c0",
   "metadata": {},
   "outputs": [],
   "source": []
  },
  {
   "cell_type": "code",
   "execution_count": null,
   "id": "ce4272c6",
   "metadata": {},
   "outputs": [],
   "source": []
  },
  {
   "cell_type": "code",
   "execution_count": null,
   "id": "cfdf0e2d",
   "metadata": {},
   "outputs": [],
   "source": []
  },
  {
   "cell_type": "code",
   "execution_count": null,
   "id": "4f5e1de4",
   "metadata": {},
   "outputs": [],
   "source": []
  },
  {
   "cell_type": "code",
   "execution_count": null,
   "id": "0502d3a5",
   "metadata": {},
   "outputs": [],
   "source": []
  },
  {
   "cell_type": "code",
   "execution_count": null,
   "id": "19695d00",
   "metadata": {},
   "outputs": [],
   "source": []
  },
  {
   "cell_type": "code",
   "execution_count": null,
   "id": "8b80b4b5",
   "metadata": {},
   "outputs": [],
   "source": []
  },
  {
   "cell_type": "code",
   "execution_count": null,
   "id": "57e401f6",
   "metadata": {},
   "outputs": [],
   "source": []
  },
  {
   "cell_type": "code",
   "execution_count": null,
   "id": "67abaf37",
   "metadata": {},
   "outputs": [],
   "source": []
  },
  {
   "cell_type": "code",
   "execution_count": null,
   "id": "2127a02e",
   "metadata": {},
   "outputs": [],
   "source": []
  }
 ],
 "metadata": {
  "kernelspec": {
   "display_name": "Python 3",
   "language": "python",
   "name": "python3"
  },
  "language_info": {
   "codemirror_mode": {
    "name": "ipython",
    "version": 3
   },
   "file_extension": ".py",
   "mimetype": "text/x-python",
   "name": "python",
   "nbconvert_exporter": "python",
   "pygments_lexer": "ipython3",
   "version": "3.8.8"
  }
 },
 "nbformat": 4,
 "nbformat_minor": 5
}
