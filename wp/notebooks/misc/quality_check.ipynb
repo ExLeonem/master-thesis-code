{
 "cells": [
  {
   "cell_type": "markdown",
   "id": "8fa178ea",
   "metadata": {},
   "source": [
    "# Check uncertainty estimates\n"
   ]
  },
  {
   "cell_type": "markdown",
   "id": "936bb610",
   "metadata": {},
   "source": [
    "[can't start cudnn algorithm](https://stackoverflow.com/questions/53698035/failed-to-get-convolution-algorithm-this-is-probably-because-cudnn-failed-to-in)"
   ]
  },
  {
   "cell_type": "code",
   "execution_count": 1,
   "id": "c4277dca",
   "metadata": {},
   "outputs": [],
   "source": [
    "# Extensions\n",
    "%load_ext autoreload "
   ]
  },
  {
   "cell_type": "code",
   "execution_count": 2,
   "id": "edcbb93d",
   "metadata": {},
   "outputs": [],
   "source": [
    "import os, sys, importlib\n",
    "\n",
    "import pandas as pd\n",
    "import numpy as np\n",
    "import matplotlib.pyplot as plt\n",
    "import tensorflow as tf\n",
    "\n",
    "from sklearn.model_selection import train_test_split\n",
    "\n",
    "\n",
    "BASE_PATH = os.path.join(os.getcwd(), \"..\", \"..\")\n",
    "MODULE_PATH = os.path.join(BASE_PATH, \"modules\")\n",
    "DATASET_PATH = os.path.join(BASE_PATH, \"datasets\")\n",
    "\n",
    "sys.path.append(MODULE_PATH)\n",
    "\n",
    "from bayesian import McDropout, MomentPropagation\n",
    "import data.mnist as mnist_loader\n",
    "\n",
    "from data import BenchmarkData, DataSetType\n",
    "import mp.MomentPropagation as mp\n",
    "\n",
    "from models.default import default_model\n",
    "from models.tf_growth import setup_growth"
   ]
  },
  {
   "cell_type": "markdown",
   "id": "a526a830",
   "metadata": {},
   "source": [
    "## Prepare Data"
   ]
  },
  {
   "cell_type": "code",
   "execution_count": 3,
   "id": "4321a215",
   "metadata": {},
   "outputs": [],
   "source": [
    "benchmark_data = BenchmarkData(DataSetType.MNIST, os.path.join(DATASET_PATH, \"mnist\"), classes=2)"
   ]
  },
  {
   "cell_type": "code",
   "execution_count": 4,
   "id": "c49923d7",
   "metadata": {},
   "outputs": [
    {
     "data": {
      "text/plain": [
       "array([0, 1, 1, 1, 1, 0, 1, 1, 0, 0], dtype=uint8)"
      ]
     },
     "execution_count": 4,
     "metadata": {},
     "output_type": "execute_result"
    }
   ],
   "source": [
    "benchmark_data.targets[:10]"
   ]
  },
  {
   "cell_type": "code",
   "execution_count": 5,
   "id": "37bd8808",
   "metadata": {},
   "outputs": [],
   "source": [
    "x_train, x_test, y_train, y_test = train_test_split(benchmark_data.inputs, benchmark_data.targets)"
   ]
  },
  {
   "cell_type": "code",
   "execution_count": 6,
   "id": "1a46400b",
   "metadata": {},
   "outputs": [
    {
     "name": "stdout",
     "output_type": "stream",
     "text": [
      "train_labels: \n",
      "Label-0: 5155\n",
      "Label-1: 5930\n",
      "-------------\n",
      "train_labels: \n",
      "Label-0: 1748\n",
      "Label-1: 1947\n",
      "-------------\n"
     ]
    }
   ],
   "source": [
    "unique_classes = np.unique(benchmark_data.targets)\n",
    "\n",
    "def print_label_count(targets, unique_labels, prefix=\"train\"):\n",
    "    print(prefix + \"_labels: \")\n",
    "    \n",
    "    for label in unique_labels:\n",
    "        count = (targets==label).sum()\n",
    "        print(\"Label-{}: {}\".format(label, count))\n",
    "    \n",
    "    print(\"-------------\")\n",
    "\n",
    "print_label_count(y_train, unique_classes)\n",
    "print_label_count(y_test, unique_classes)"
   ]
  },
  {
   "cell_type": "markdown",
   "id": "b84d3509",
   "metadata": {},
   "source": [
    "## Train and build models"
   ]
  },
  {
   "cell_type": "code",
   "execution_count": 7,
   "id": "7007e2f0",
   "metadata": {},
   "outputs": [
    {
     "name": "stdout",
     "output_type": "stream",
     "text": [
      "1 Physical GPU's,  1 Logical GPU's\n"
     ]
    }
   ],
   "source": [
    "setup_growth()"
   ]
  },
  {
   "cell_type": "code",
   "execution_count": 8,
   "id": "cfd8b060",
   "metadata": {},
   "outputs": [],
   "source": [
    "model = default_model()\n",
    "model.compile(optimizer=\"adam\", loss=\"binary_crossentropy\", metrics=[\"binary_accuracy\"])"
   ]
  },
  {
   "cell_type": "code",
   "execution_count": 9,
   "id": "a50391a7",
   "metadata": {},
   "outputs": [
    {
     "name": "stdout",
     "output_type": "stream",
     "text": [
      "Epoch 1/100\n",
      "347/347 [==============================] - 8s 22ms/step - loss: 0.1320 - binary_accuracy: 0.9920\n",
      "Epoch 2/100\n",
      "347/347 [==============================] - 1s 4ms/step - loss: 0.0083 - binary_accuracy: 0.9981\n",
      "Epoch 3/100\n",
      "347/347 [==============================] - 1s 4ms/step - loss: 0.0055 - binary_accuracy: 0.9986\n",
      "Epoch 4/100\n",
      "347/347 [==============================] - 1s 4ms/step - loss: 0.0091 - binary_accuracy: 0.9980\n",
      "Epoch 5/100\n",
      "347/347 [==============================] - 1s 4ms/step - loss: 0.0079 - binary_accuracy: 0.9985\n",
      "Epoch 6/100\n",
      "347/347 [==============================] - 1s 4ms/step - loss: 0.0093 - binary_accuracy: 0.9985\n",
      "Epoch 7/100\n",
      "347/347 [==============================] - 1s 4ms/step - loss: 0.0031 - binary_accuracy: 0.9992\n",
      "Epoch 8/100\n",
      "347/347 [==============================] - 1s 4ms/step - loss: 0.0110 - binary_accuracy: 0.9986\n",
      "Epoch 9/100\n",
      "347/347 [==============================] - 1s 4ms/step - loss: 0.0127 - binary_accuracy: 0.9984\n",
      "Epoch 10/100\n",
      "347/347 [==============================] - 1s 4ms/step - loss: 0.0041 - binary_accuracy: 0.9995\n",
      "Epoch 11/100\n",
      "347/347 [==============================] - 1s 4ms/step - loss: 0.0011 - binary_accuracy: 0.9997\n",
      "Epoch 12/100\n",
      "347/347 [==============================] - 1s 4ms/step - loss: 0.0031 - binary_accuracy: 0.9994\n",
      "Epoch 13/100\n",
      "347/347 [==============================] - 1s 4ms/step - loss: 0.0024 - binary_accuracy: 0.9994\n",
      "Epoch 14/100\n",
      "347/347 [==============================] - 1s 4ms/step - loss: 0.0072 - binary_accuracy: 0.9988\n",
      "Epoch 15/100\n",
      "347/347 [==============================] - 1s 4ms/step - loss: 0.0029 - binary_accuracy: 0.9994\n",
      "Epoch 16/100\n",
      "347/347 [==============================] - 1s 4ms/step - loss: 0.0014 - binary_accuracy: 0.9997\n",
      "Epoch 17/100\n",
      "347/347 [==============================] - 1s 4ms/step - loss: 0.0014 - binary_accuracy: 0.9999\n",
      "Epoch 18/100\n",
      "347/347 [==============================] - 1s 4ms/step - loss: 0.0022 - binary_accuracy: 0.9994\n",
      "Epoch 19/100\n",
      "347/347 [==============================] - 1s 4ms/step - loss: 0.0130 - binary_accuracy: 0.9987\n",
      "Epoch 20/100\n",
      "347/347 [==============================] - 1s 4ms/step - loss: 0.0025 - binary_accuracy: 0.9995\n",
      "Epoch 21/100\n",
      "347/347 [==============================] - 1s 4ms/step - loss: 0.0026 - binary_accuracy: 0.9997\n",
      "Epoch 22/100\n",
      "347/347 [==============================] - 1s 4ms/step - loss: 0.0093 - binary_accuracy: 0.9991\n",
      "Epoch 23/100\n",
      "347/347 [==============================] - 1s 4ms/step - loss: 7.1923e-04 - binary_accuracy: 0.9997\n",
      "Epoch 24/100\n",
      "347/347 [==============================] - 1s 4ms/step - loss: 1.0279e-05 - binary_accuracy: 1.0000\n",
      "Epoch 25/100\n",
      "347/347 [==============================] - 1s 4ms/step - loss: 6.2340e-04 - binary_accuracy: 0.9998\n",
      "Epoch 26/100\n",
      "347/347 [==============================] - 1s 4ms/step - loss: 8.6739e-04 - binary_accuracy: 0.9998\n",
      "Epoch 27/100\n",
      "347/347 [==============================] - 1s 4ms/step - loss: 8.8458e-04 - binary_accuracy: 0.9997\n",
      "Epoch 28/100\n",
      "347/347 [==============================] - 1s 4ms/step - loss: 1.5449e-07 - binary_accuracy: 1.0000\n",
      "Epoch 29/100\n",
      "347/347 [==============================] - 1s 4ms/step - loss: 0.0013 - binary_accuracy: 0.9998\n",
      "Epoch 30/100\n",
      "347/347 [==============================] - 1s 4ms/step - loss: 0.0155 - binary_accuracy: 0.9992\n",
      "Epoch 31/100\n",
      "347/347 [==============================] - 1s 4ms/step - loss: 0.0207 - binary_accuracy: 0.9987\n",
      "Epoch 32/100\n",
      "347/347 [==============================] - 1s 4ms/step - loss: 0.0164 - binary_accuracy: 0.9992\n",
      "Epoch 33/100\n",
      "347/347 [==============================] - 1s 4ms/step - loss: 3.8349e-04 - binary_accuracy: 0.9997\n",
      "Epoch 34/100\n",
      "347/347 [==============================] - 1s 4ms/step - loss: 0.0113 - binary_accuracy: 0.9990\n",
      "Epoch 35/100\n",
      "347/347 [==============================] - 1s 4ms/step - loss: 8.7481e-04 - binary_accuracy: 0.9997\n",
      "Epoch 36/100\n",
      "347/347 [==============================] - 1s 4ms/step - loss: 2.3009e-04 - binary_accuracy: 0.9999\n",
      "Epoch 37/100\n",
      "347/347 [==============================] - 1s 4ms/step - loss: 7.5694e-05 - binary_accuracy: 0.9999\n",
      "Epoch 38/100\n",
      "347/347 [==============================] - 1s 4ms/step - loss: 0.0011 - binary_accuracy: 0.9998\n",
      "Epoch 39/100\n",
      "347/347 [==============================] - 1s 4ms/step - loss: 7.9979e-05 - binary_accuracy: 0.9999\n",
      "Epoch 40/100\n",
      "347/347 [==============================] - 1s 4ms/step - loss: 0.0049 - binary_accuracy: 0.9996\n",
      "Epoch 41/100\n",
      "347/347 [==============================] - 1s 4ms/step - loss: 0.0052 - binary_accuracy: 0.9982\n",
      "Epoch 42/100\n",
      "347/347 [==============================] - 1s 4ms/step - loss: 8.7257e-04 - binary_accuracy: 0.9998\n",
      "Epoch 43/100\n",
      "347/347 [==============================] - 1s 4ms/step - loss: 5.5333e-04 - binary_accuracy: 0.9996\n",
      "Epoch 44/100\n",
      "347/347 [==============================] - 1s 4ms/step - loss: 0.0029 - binary_accuracy: 0.9996\n",
      "Epoch 45/100\n",
      "347/347 [==============================] - 1s 4ms/step - loss: 0.0010 - binary_accuracy: 0.9995\n",
      "Epoch 46/100\n",
      "347/347 [==============================] - 1s 4ms/step - loss: 0.0050 - binary_accuracy: 0.9994\n",
      "Epoch 47/100\n",
      "347/347 [==============================] - 1s 4ms/step - loss: 0.0065 - binary_accuracy: 0.9995\n",
      "Epoch 48/100\n",
      "347/347 [==============================] - 1s 4ms/step - loss: 0.0013 - binary_accuracy: 0.9996\n",
      "Epoch 49/100\n",
      "347/347 [==============================] - 1s 4ms/step - loss: 0.0016 - binary_accuracy: 0.9998\n",
      "Epoch 50/100\n",
      "347/347 [==============================] - 1s 4ms/step - loss: 6.9943e-04 - binary_accuracy: 0.9993\n",
      "Epoch 51/100\n",
      "347/347 [==============================] - 1s 4ms/step - loss: 5.3087e-04 - binary_accuracy: 0.9999\n",
      "Epoch 52/100\n",
      "347/347 [==============================] - 1s 4ms/step - loss: 0.0052 - binary_accuracy: 0.9992\n",
      "Epoch 53/100\n",
      "347/347 [==============================] - 1s 4ms/step - loss: 1.5324e-04 - binary_accuracy: 0.9999\n",
      "Epoch 54/100\n",
      "347/347 [==============================] - 1s 4ms/step - loss: 5.5726e-05 - binary_accuracy: 1.0000\n",
      "Epoch 55/100\n",
      "347/347 [==============================] - 1s 4ms/step - loss: 7.3276e-09 - binary_accuracy: 1.0000\n",
      "Epoch 56/100\n",
      "347/347 [==============================] - 1s 4ms/step - loss: 3.5814e-06 - binary_accuracy: 1.0000\n",
      "Epoch 57/100\n",
      "347/347 [==============================] - 1s 4ms/step - loss: 1.0010e-12 - binary_accuracy: 1.0000\n",
      "Epoch 58/100\n",
      "347/347 [==============================] - 1s 4ms/step - loss: 5.3954e-09 - binary_accuracy: 1.0000\n",
      "Epoch 59/100\n",
      "347/347 [==============================] - 1s 4ms/step - loss: 5.1652e-16 - binary_accuracy: 1.0000\n",
      "Epoch 60/100\n",
      "347/347 [==============================] - 1s 4ms/step - loss: 2.4560e-08 - binary_accuracy: 1.0000\n",
      "Epoch 61/100\n",
      "347/347 [==============================] - 1s 4ms/step - loss: 8.7006e-08 - binary_accuracy: 1.0000\n",
      "Epoch 62/100\n",
      "347/347 [==============================] - 1s 4ms/step - loss: 9.8947e-14 - binary_accuracy: 1.0000\n",
      "Epoch 63/100\n",
      "347/347 [==============================] - 1s 4ms/step - loss: 6.3400e-10 - binary_accuracy: 1.0000\n",
      "Epoch 64/100\n",
      "347/347 [==============================] - 1s 4ms/step - loss: 8.9793e-15 - binary_accuracy: 1.0000\n",
      "Epoch 65/100\n",
      "347/347 [==============================] - 1s 4ms/step - loss: 2.6968e-07 - binary_accuracy: 1.0000\n",
      "Epoch 66/100\n",
      "347/347 [==============================] - 2s 4ms/step - loss: 4.7281e-09 - binary_accuracy: 1.0000\n",
      "Epoch 67/100\n",
      "347/347 [==============================] - 1s 4ms/step - loss: 6.2434e-06 - binary_accuracy: 1.0000\n",
      "Epoch 68/100\n",
      "347/347 [==============================] - 1s 4ms/step - loss: 0.0633 - binary_accuracy: 0.9992\n",
      "Epoch 69/100\n",
      "347/347 [==============================] - 1s 4ms/step - loss: 5.5087e-05 - binary_accuracy: 1.0000\n",
      "Epoch 70/100\n",
      "347/347 [==============================] - 1s 4ms/step - loss: 6.2348e-04 - binary_accuracy: 0.9995\n",
      "Epoch 71/100\n",
      "347/347 [==============================] - 1s 4ms/step - loss: 1.4320e-04 - binary_accuracy: 1.0000\n",
      "Epoch 72/100\n",
      "347/347 [==============================] - 1s 4ms/step - loss: 0.0218 - binary_accuracy: 0.9988\n",
      "Epoch 73/100\n",
      "347/347 [==============================] - 1s 4ms/step - loss: 4.1193e-04 - binary_accuracy: 0.9999\n",
      "Epoch 74/100\n"
     ]
    },
    {
     "name": "stdout",
     "output_type": "stream",
     "text": [
      "347/347 [==============================] - 1s 4ms/step - loss: 3.9318e-04 - binary_accuracy: 1.0000\n",
      "Epoch 75/100\n",
      "347/347 [==============================] - 1s 4ms/step - loss: 4.3689e-04 - binary_accuracy: 1.0000\n",
      "Epoch 76/100\n",
      "347/347 [==============================] - 1s 4ms/step - loss: 0.0098 - binary_accuracy: 0.9995\n",
      "Epoch 77/100\n",
      "347/347 [==============================] - 1s 4ms/step - loss: 2.7036e-04 - binary_accuracy: 0.9997\n",
      "Epoch 78/100\n",
      "347/347 [==============================] - 1s 4ms/step - loss: 0.0049 - binary_accuracy: 0.9995\n",
      "Epoch 79/100\n",
      "347/347 [==============================] - 1s 4ms/step - loss: 0.0093 - binary_accuracy: 0.9996\n",
      "Epoch 80/100\n",
      "347/347 [==============================] - 1s 4ms/step - loss: 2.0872e-21 - binary_accuracy: 1.0000\n",
      "Epoch 81/100\n",
      "347/347 [==============================] - 1s 4ms/step - loss: 5.6141e-16 - binary_accuracy: 1.0000\n",
      "Epoch 82/100\n",
      "347/347 [==============================] - 1s 4ms/step - loss: 0.0048 - binary_accuracy: 0.9994\n",
      "Epoch 83/100\n",
      "347/347 [==============================] - 1s 4ms/step - loss: 8.4875e-04 - binary_accuracy: 0.9993\n",
      "Epoch 84/100\n",
      "347/347 [==============================] - 1s 4ms/step - loss: 0.0045 - binary_accuracy: 0.9991\n",
      "Epoch 85/100\n",
      "347/347 [==============================] - 1s 4ms/step - loss: 1.2716e-04 - binary_accuracy: 0.9999\n",
      "Epoch 86/100\n",
      "347/347 [==============================] - 1s 4ms/step - loss: 6.7937e-05 - binary_accuracy: 0.9999\n",
      "Epoch 87/100\n",
      "347/347 [==============================] - 1s 4ms/step - loss: 6.7647e-05 - binary_accuracy: 0.9999\n",
      "Epoch 88/100\n",
      "347/347 [==============================] - 1s 4ms/step - loss: 7.7490e-23 - binary_accuracy: 1.0000\n",
      "Epoch 89/100\n",
      "347/347 [==============================] - 1s 4ms/step - loss: 1.2568e-04 - binary_accuracy: 0.9999\n",
      "Epoch 90/100\n",
      "347/347 [==============================] - 1s 4ms/step - loss: 7.5266e-35 - binary_accuracy: 1.0000\n",
      "Epoch 91/100\n",
      "347/347 [==============================] - 1s 4ms/step - loss: 0.0094 - binary_accuracy: 0.9999\n",
      "Epoch 92/100\n",
      "347/347 [==============================] - 1s 4ms/step - loss: 0.0106 - binary_accuracy: 0.9995\n",
      "Epoch 93/100\n",
      "347/347 [==============================] - 1s 4ms/step - loss: 0.0121 - binary_accuracy: 0.9989\n",
      "Epoch 94/100\n",
      "347/347 [==============================] - 1s 4ms/step - loss: 0.0155 - binary_accuracy: 0.9989\n",
      "Epoch 95/100\n",
      "347/347 [==============================] - 1s 4ms/step - loss: 0.0407 - binary_accuracy: 0.9991\n",
      "Epoch 96/100\n",
      "347/347 [==============================] - 1s 4ms/step - loss: 3.5878e-04 - binary_accuracy: 0.9997\n",
      "Epoch 97/100\n",
      "347/347 [==============================] - 1s 4ms/step - loss: 0.0076 - binary_accuracy: 0.9987\n",
      "Epoch 98/100\n",
      "347/347 [==============================] - 1s 4ms/step - loss: 0.0011 - binary_accuracy: 0.9994\n",
      "Epoch 99/100\n",
      "347/347 [==============================] - 1s 4ms/step - loss: 9.4786e-04 - binary_accuracy: 0.9989\n",
      "Epoch 100/100\n",
      "347/347 [==============================] - 1s 3ms/step - loss: 8.0096e-04 - binary_accuracy: 0.9990\n"
     ]
    },
    {
     "data": {
      "text/plain": [
       "<tensorflow.python.keras.callbacks.History at 0x7fa6a809f2e0>"
      ]
     },
     "execution_count": 9,
     "metadata": {},
     "output_type": "execute_result"
    }
   ],
   "source": [
    "model.fit(x_train, y_train, epochs=100)"
   ]
  },
  {
   "cell_type": "markdown",
   "id": "d7972ad0",
   "metadata": {},
   "source": [
    "## Evaluate performance"
   ]
  },
  {
   "cell_type": "code",
   "execution_count": 10,
   "id": "96f3180c",
   "metadata": {},
   "outputs": [
    {
     "name": "stdout",
     "output_type": "stream",
     "text": [
      "116/116 [==============================] - 3s 26ms/step - loss: 0.0069 - binary_accuracy: 0.9992\n"
     ]
    },
    {
     "data": {
      "text/plain": [
       "[0.006884584669023752, 0.9991880655288696]"
      ]
     },
     "execution_count": 10,
     "metadata": {},
     "output_type": "execute_result"
    }
   ],
   "source": [
    "model.evaluate(x_test, y_test)"
   ]
  },
  {
   "cell_type": "code",
   "execution_count": 11,
   "id": "64cf77a8",
   "metadata": {},
   "outputs": [
    {
     "name": "stdout",
     "output_type": "stream",
     "text": [
      "Predicted label: [[0.]]\n"
     ]
    },
    {
     "data": {
      "image/png": "[encoded data removed]",
      "text/plain": [
       "<Figure size 432x288 with 1 Axes>"
      ]
     },
     "metadata": {
      "needs_background": "light"
     },
     "output_type": "display_data"
    }
   ],
   "source": [
    "random_indx = np.random.choice(range(len(x_test)))\n",
    "\n",
    "test_img = x_test[random_indx]\n",
    "plt.imshow(test_img.reshape((28, 28)))\n",
    "\n",
    "prediction = model(np.expand_dims(test_img, axis=0))\n",
    "\n",
    "print(\"Predicted label: {}\".format(prediction))"
   ]
  },
  {
   "cell_type": "markdown",
   "id": "4bfc594d",
   "metadata": {},
   "source": [
    "## Compare regular models"
   ]
  },
  {
   "cell_type": "code",
   "execution_count": 33,
   "id": "63d0b02d",
   "metadata": {},
   "outputs": [
    {
     "data": {
      "text/plain": [
       "array([0, 0, 0, 0, 0, 1, 1, 0, 1, 1], dtype=uint8)"
      ]
     },
     "execution_count": 33,
     "metadata": {},
     "output_type": "execute_result"
    }
   ],
   "source": [
    "test_inputs = x_test[10:20]\n",
    "test_targets = y_test[10:20]\n",
    "\n",
    "test_targets"
   ]
  },
  {
   "cell_type": "code",
   "execution_count": 40,
   "id": "2b59a296",
   "metadata": {},
   "outputs": [],
   "source": [
    "pred = []\n",
    "runs = 100\n",
    "\n",
    "for i in range(runs):\n",
    "    pred.append(model(test_inputs, training=True))\n",
    "\n",
    "pred = np.hstack(pred)"
   ]
  },
  {
   "cell_type": "code",
   "execution_count": 41,
   "id": "55f596b2",
   "metadata": {},
   "outputs": [
    {
     "data": {
      "text/plain": [
       "(10, 100)"
      ]
     },
     "execution_count": 41,
     "metadata": {},
     "output_type": "execute_result"
    }
   ],
   "source": [
    "pred.shape"
   ]
  },
  {
   "cell_type": "code",
   "execution_count": 42,
   "id": "baf2365e",
   "metadata": {},
   "outputs": [
    {
     "data": {
      "text/plain": [
       "array([0., 0., 0., 0., 0., 1., 1., 0., 1., 1.], dtype=float32)"
      ]
     },
     "execution_count": 42,
     "metadata": {},
     "output_type": "execute_result"
    }
   ],
   "source": [
    "avg = np.average(pred, axis=1)\n",
    "avg"
   ]
  },
  {
   "cell_type": "code",
   "execution_count": 43,
   "id": "91e9beae",
   "metadata": {},
   "outputs": [],
   "source": [
    "test_mp = mp.MP()\n",
    "test_mp_model = test_mp.create_MP_Model(model=model, use_mp=False, verbose=False)"
   ]
  },
  {
   "cell_type": "code",
   "execution_count": 50,
   "id": "987ece87",
   "metadata": {},
   "outputs": [
    {
     "data": {
      "text/plain": [
       "[<tf.Tensor: shape=(10, 1), dtype=float32, numpy=\n",
       " array([[0.],\n",
       "        [0.],\n",
       "        [0.],\n",
       "        [0.],\n",
       "        [0.],\n",
       "        [1.],\n",
       "        [1.],\n",
       "        [0.],\n",
       "        [1.],\n",
       "        [1.]], dtype=float32)>,\n",
       " <tf.Tensor: shape=(10, 1), dtype=float32, numpy=\n",
       " array([[0.],\n",
       "        [0.],\n",
       "        [0.],\n",
       "        [0.],\n",
       "        [0.],\n",
       "        [0.],\n",
       "        [0.],\n",
       "        [0.],\n",
       "        [0.],\n",
       "        [0.]], dtype=float32)>]"
      ]
     },
     "execution_count": 50,
     "metadata": {},
     "output_type": "execute_result"
    }
   ],
   "source": [
    "results = test_mp_model(test_inputs)\n",
    "results"
   ]
  },
  {
   "cell_type": "code",
   "execution_count": null,
   "id": "29584150",
   "metadata": {},
   "outputs": [],
   "source": []
  },
  {
   "cell_type": "code",
   "execution_count": null,
   "id": "8636c972",
   "metadata": {},
   "outputs": [],
   "source": []
  },
  {
   "cell_type": "markdown",
   "id": "f13dfdcc",
   "metadata": {},
   "source": [
    "# Compare metrics"
   ]
  },
  {
   "cell_type": "code",
   "execution_count": 12,
   "id": "850a62a4",
   "metadata": {},
   "outputs": [],
   "source": [
    "%autoreload 2\n",
    "dp_model = McDropout(model)\n",
    "mp_model = MomentPropagation(model)"
   ]
  },
  {
   "cell_type": "code",
   "execution_count": 14,
   "id": "16a9cc0a",
   "metadata": {},
   "outputs": [],
   "source": [
    "values = dp_model.predict(test_inputs)"
   ]
  },
  {
   "cell_type": "code",
   "execution_count": 31,
   "id": "d30f9ba8",
   "metadata": {},
   "outputs": [
    {
     "name": "stdout",
     "output_type": "stream",
     "text": [
      "[[-0.69114918 -0.69114918]\n",
      " [-1.60445037 -0.22189433]\n",
      " [-0.50916034 -0.91379385]\n",
      " [-0.35524739 -1.20064501]\n",
      " [-0.69114918 -0.69114918]\n",
      " [-1.3108708  -0.31140826]\n",
      " [-0.50916034 -0.91379385]\n",
      " [-0.35524739 -1.20064501]\n",
      " [-0.69114918 -0.69114918]\n",
      " [-1.20064501 -0.35524739]\n",
      " [-0.50916034 -0.91379385]\n",
      " [-0.35524739 -1.20064501]\n",
      " [-0.69114918 -0.69114918]\n",
      " [-1.3108708  -0.31140826]\n",
      " [-0.50916034 -0.91379385]\n",
      " [-0.35524739 -1.20064501]\n",
      " [-0.69114918 -0.69114918]\n",
      " [-1.60445037 -0.22189433]\n",
      " [-0.50916034 -0.91379385]\n",
      " [-0.35524739 -1.20064501]\n",
      " [-0.69114918 -0.69114918]\n",
      " [-1.3108708  -0.31140826]\n",
      " [-0.50916034 -0.91379385]\n",
      " [-0.35524739 -1.20064501]\n",
      " [-0.69114918 -0.69114918]\n",
      " [-1.3108708  -0.31140826]\n",
      " [-0.50916034 -0.91379385]\n",
      " [-0.35524739 -1.20064501]\n",
      " [-0.69114918 -0.69114918]\n",
      " [-1.5949702  -0.22428742]\n",
      " [-0.50916034 -0.91379385]\n",
      " [-0.35524739 -1.20064501]\n",
      " [-0.69114918 -0.69114918]\n",
      " [-1.20064501 -0.35524739]\n",
      " [-0.50916034 -0.91379385]\n",
      " [-0.35524739 -1.20064501]\n",
      " [-0.69114918 -0.69114918]\n",
      " [-1.60445037 -0.22189433]\n",
      " [-0.50916034 -0.91379385]\n",
      " [-0.35524739 -1.20064501]]\n"
     ]
    },
    {
     "data": {
      "text/plain": [
       "array([0.69114918, 0.49840554, 0.67101375, 0.60886668, 0.69114918,\n",
       "       0.5798491 , 0.67101375, 0.60886668, 0.69114918, 0.60886668,\n",
       "       0.67101375, 0.60886668, 0.69114918, 0.5798491 , 0.67101375,\n",
       "       0.60886668, 0.69114918, 0.49840554, 0.67101375, 0.60886668,\n",
       "       0.69114918, 0.5798491 , 0.67101375, 0.60886668, 0.69114918,\n",
       "       0.5798491 , 0.67101375, 0.60886668, 0.69114918, 0.50104825,\n",
       "       0.67101375, 0.60886668, 0.69114918, 0.60886668, 0.67101375,\n",
       "       0.60886668, 0.69114918, 0.49840554, 0.67101375, 0.60886668])"
      ]
     },
     "execution_count": 31,
     "metadata": {},
     "output_type": "execute_result"
    }
   ],
   "source": [
    "# mc dropout max_entropy\n",
    "mc_max_entropy = dp_model.get_query_fn(\"max_entropy\")(x_test[10:50], runs=10)\n",
    "mc_max_entropy"
   ]
  },
  {
   "cell_type": "code",
   "execution_count": 21,
   "id": "f94dc3a6",
   "metadata": {},
   "outputs": [
    {
     "data": {
      "text/plain": [
       "<tf.Tensor: shape=(10, 1), dtype=float32, numpy=\n",
       "array([[0.],\n",
       "       [0.],\n",
       "       [0.],\n",
       "       [1.],\n",
       "       [1.],\n",
       "       [1.],\n",
       "       [1.],\n",
       "       [1.],\n",
       "       [1.],\n",
       "       [1.]], dtype=float32)>"
      ]
     },
     "execution_count": 21,
     "metadata": {},
     "output_type": "execute_result"
    }
   ],
   "source": []
  },
  {
   "cell_type": "code",
   "execution_count": 37,
   "id": "a5f14f47",
   "metadata": {},
   "outputs": [
    {
     "data": {
      "text/plain": [
       "array([-7.908756 , -7.908756 , -7.908756 , -7.908756 , -7.908756 ,\n",
       "       -7.908756 , -7.908756 , -7.908756 , -7.908756 , -7.908756 ,\n",
       "       -7.908756 , -7.908756 , -7.908756 , -7.908756 , -7.908756 ,\n",
       "       -7.908756 , -7.908756 , -7.908756 , -7.908756 , -7.908756 ,\n",
       "       -2.5323493, -7.908756 , -7.908756 , -7.908756 , -7.908756 ,\n",
       "       -7.908756 , -7.908756 , -7.908756 , -7.908756 , -7.908756 ,\n",
       "       -7.908756 , -7.908756 , -7.908756 , -7.908756 , -7.908756 ,\n",
       "       -7.908756 , -7.908756 , -7.908756 , -7.908756 , -7.908756 ,\n",
       "       -7.908756 , -7.908756 , -7.908756 , -7.908756 , -7.908756 ,\n",
       "       -7.908756 , -7.908756 , -7.908756 , -7.908756 , -7.908756 ,\n",
       "       -7.908756 , -7.908756 , -7.908756 , -7.908756 , -7.908756 ,\n",
       "       -7.908756 , -7.908756 , -7.908756 , -7.908756 , -7.908756 ,\n",
       "       -7.908756 , -7.908756 , -7.908756 , -7.908756 , -7.908756 ,\n",
       "       -7.908756 , -7.908756 , -7.908756 , -7.908756 , -7.908756 ,\n",
       "       -7.908756 , -7.908756 , -7.908756 , -7.908756 , -7.908756 ,\n",
       "       -7.908756 , -7.908756 , -7.908756 , -7.908756 , -7.908756 ,\n",
       "       -7.908756 , -7.908756 , -7.908756 , -7.908756 , -7.908756 ,\n",
       "       -7.908756 , -7.908756 , -7.908756 , -7.908756 , -7.908756 ],\n",
       "      dtype=float32)"
      ]
     },
     "execution_count": 37,
     "metadata": {},
     "output_type": "execute_result"
    }
   ],
   "source": [
    "# moment propagation max entropy\n",
    "%autoreload 2\n",
    "mp_max_entropy = mp_model.get_query_fn(\"max_entropy\")(x_test[:90])\n",
    "mp_max_entropy"
   ]
  },
  {
   "cell_type": "code",
   "execution_count": null,
   "id": "bc5ea525",
   "metadata": {},
   "outputs": [],
   "source": []
  },
  {
   "cell_type": "code",
   "execution_count": null,
   "id": "98f261ad",
   "metadata": {},
   "outputs": [],
   "source": []
  },
  {
   "cell_type": "code",
   "execution_count": null,
   "id": "b09d5d82",
   "metadata": {},
   "outputs": [],
   "source": []
  },
  {
   "cell_type": "code",
   "execution_count": null,
   "id": "dddead3c",
   "metadata": {},
   "outputs": [],
   "source": []
  },
  {
   "cell_type": "code",
   "execution_count": null,
   "id": "a0e13486",
   "metadata": {},
   "outputs": [],
   "source": []
  },
  {
   "cell_type": "code",
   "execution_count": null,
   "id": "de16c924",
   "metadata": {},
   "outputs": [],
   "source": []
  },
  {
   "cell_type": "code",
   "execution_count": null,
   "id": "4613fb43",
   "metadata": {},
   "outputs": [],
   "source": []
  },
  {
   "cell_type": "code",
   "execution_count": null,
   "id": "040e54c0",
   "metadata": {},
   "outputs": [],
   "source": []
  },
  {
   "cell_type": "code",
   "execution_count": null,
   "id": "ce4272c6",
   "metadata": {},
   "outputs": [],
   "source": []
  },
  {
   "cell_type": "code",
   "execution_count": null,
   "id": "cfdf0e2d",
   "metadata": {},
   "outputs": [],
   "source": []
  },
  {
   "cell_type": "code",
   "execution_count": null,
   "id": "4f5e1de4",
   "metadata": {},
   "outputs": [],
   "source": []
  },
  {
   "cell_type": "code",
   "execution_count": null,
   "id": "0502d3a5",
   "metadata": {},
   "outputs": [],
   "source": []
  },
  {
   "cell_type": "code",
   "execution_count": null,
   "id": "19695d00",
   "metadata": {},
   "outputs": [],
   "source": []
  },
  {
   "cell_type": "code",
   "execution_count": null,
   "id": "8b80b4b5",
   "metadata": {},
   "outputs": [],
   "source": []
  },
  {
   "cell_type": "code",
   "execution_count": null,
   "id": "57e401f6",
   "metadata": {},
   "outputs": [],
   "source": []
  },
  {
   "cell_type": "code",
   "execution_count": null,
   "id": "67abaf37",
   "metadata": {},
   "outputs": [],
   "source": []
  },
  {
   "cell_type": "code",
   "execution_count": null,
   "id": "2127a02e",
   "metadata": {},
   "outputs": [],
   "source": []
  }
 ],
 "metadata": {
  "kernelspec": {
   "display_name": "Python 3",
   "language": "python",
   "name": "python3"
  },
  "language_info": {
   "codemirror_mode": {
    "name": "ipython",
    "version": 3
   },
   "file_extension": ".py",
   "mimetype": "text/x-python",
   "name": "python",
   "nbconvert_exporter": "python",
   "pygments_lexer": "ipython3",
   "version": "3.8.8"
  }
 },
 "nbformat": 4,
 "nbformat_minor": 5
}
