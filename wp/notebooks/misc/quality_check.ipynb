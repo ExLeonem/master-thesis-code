{
 "cells": [
  {
   "cell_type": "markdown",
   "id": "8fa178ea",
   "metadata": {},
   "source": [
    "# Check uncertainty estimates\n"
   ]
  },
  {
   "cell_type": "markdown",
   "id": "936bb610",
   "metadata": {},
   "source": [
    "[can't start cudnn algorithm](https://stackoverflow.com/questions/53698035/failed-to-get-convolution-algorithm-this-is-probably-because-cudnn-failed-to-in)"
   ]
  },
  {
   "cell_type": "code",
   "execution_count": 1,
   "id": "c4277dca",
   "metadata": {},
   "outputs": [],
   "source": [
    "# Extensions\n",
    "%load_ext autoreload "
   ]
  },
  {
   "cell_type": "code",
   "execution_count": 2,
   "id": "edcbb93d",
   "metadata": {},
   "outputs": [],
   "source": [
    "import os, sys, importlib\n",
    "\n",
    "import pandas as pd\n",
    "import numpy as np\n",
    "import matplotlib.pyplot as plt\n",
    "import tensorflow as tf\n",
    "\n",
    "from sklearn.model_selection import train_test_split\n",
    "\n",
    "\n",
    "BASE_PATH = os.path.join(os.getcwd(), \"..\", \"..\")\n",
    "MODULE_PATH = os.path.join(BASE_PATH, \"modules\")\n",
    "DATASET_PATH = os.path.join(BASE_PATH, \"datasets\")\n",
    "\n",
    "sys.path.append(MODULE_PATH)\n",
    "\n",
    "from bayesian import McDropout, MomentPropagation\n",
    "import data.mnist as mnist_loader\n",
    "\n",
    "from data import BenchmarkData, DataSetType\n",
    "import mp.MomentPropagation as mp\n",
    "\n",
    "from models.default import default_model\n",
    "from models.tf_growth import setup_growth"
   ]
  },
  {
   "cell_type": "markdown",
   "id": "a526a830",
   "metadata": {},
   "source": [
    "## Prepare Data"
   ]
  },
  {
   "cell_type": "code",
   "execution_count": 3,
   "id": "73f8908e",
   "metadata": {},
   "outputs": [],
   "source": [
    "benchmark_data = BenchmarkData(DataSetType.MNIST, os.path.join(DATASET_PATH, \"mnist\"), classes=2)"
   ]
  },
  {
   "cell_type": "code",
   "execution_count": 4,
   "id": "01dee3eb",
   "metadata": {},
   "outputs": [
    {
     "data": {
      "text/plain": [
       "array([0, 1, 1, 1, 1, 0, 1, 1, 0, 0], dtype=uint8)"
      ]
     },
     "execution_count": 4,
     "metadata": {},
     "output_type": "execute_result"
    }
   ],
   "source": [
    "benchmark_data.targets[:10]"
   ]
  },
  {
   "cell_type": "code",
   "execution_count": 5,
   "id": "37bd8808",
   "metadata": {},
   "outputs": [],
   "source": [
    "x_train, x_test, y_train, y_test = train_test_split(benchmark_data.inputs, benchmark_data.targets)"
   ]
  },
  {
   "cell_type": "code",
   "execution_count": 6,
   "id": "f0e00429",
   "metadata": {},
   "outputs": [
    {
     "name": "stdout",
     "output_type": "stream",
     "text": [
      "train_labels: \n",
      "Label-0: 5153\n",
      "Label-1: 5932\n",
      "-------------\n",
      "train_labels: \n",
      "Label-0: 1750\n",
      "Label-1: 1945\n",
      "-------------\n"
     ]
    }
   ],
   "source": [
    "unique_classes = np.unique(benchmark_data.targets)\n",
    "\n",
    "def print_label_count(targets, unique_labels, prefix=\"train\"):\n",
    "    print(prefix + \"_labels: \")\n",
    "    \n",
    "    for label in unique_labels:\n",
    "        count = (targets==label).sum()\n",
    "        print(\"Label-{}: {}\".format(label, count))\n",
    "    \n",
    "    print(\"-------------\")\n",
    "\n",
    "print_label_count(y_train, unique_classes)\n",
    "print_label_count(y_test, unique_classes)"
   ]
  },
  {
   "cell_type": "markdown",
   "id": "b84d3509",
   "metadata": {},
   "source": [
    "## Train and build models"
   ]
  },
  {
   "cell_type": "code",
   "execution_count": 7,
   "id": "7007e2f0",
   "metadata": {},
   "outputs": [
    {
     "name": "stdout",
     "output_type": "stream",
     "text": [
      "1 Physical GPU's,  1 Logical GPU's\n"
     ]
    }
   ],
   "source": [
    "setup_growth()"
   ]
  },
  {
   "cell_type": "code",
   "execution_count": 8,
   "id": "cfd8b060",
   "metadata": {},
   "outputs": [],
   "source": [
    "model = default_model()\n",
    "model.compile(optimizer=\"adam\", loss=\"binary_crossentropy\", metrics=[\"binary_accuracy\"])"
   ]
  },
  {
   "cell_type": "code",
   "execution_count": 2,
   "id": "a50391a7",
   "metadata": {},
   "outputs": [
    {
     "ename": "NameError",
     "evalue": "name 'model' is not defined",
     "output_type": "error",
     "traceback": [
      "\u001b[0;31m---------------------------------------------------------------------------\u001b[0m",
      "\u001b[0;31mNameError\u001b[0m                                 Traceback (most recent call last)",
      "\u001b[0;32m<ipython-input-2-4708b71cb33c>\u001b[0m in \u001b[0;36m<module>\u001b[0;34m\u001b[0m\n\u001b[0;32m----> 1\u001b[0;31m \u001b[0mmodel\u001b[0m\u001b[0;34m.\u001b[0m\u001b[0mfit\u001b[0m\u001b[0;34m(\u001b[0m\u001b[0mx_train\u001b[0m\u001b[0;34m,\u001b[0m \u001b[0my_train\u001b[0m\u001b[0;34m,\u001b[0m \u001b[0mepochs\u001b[0m\u001b[0;34m=\u001b[0m\u001b[0;36m100\u001b[0m\u001b[0;34m)\u001b[0m\u001b[0;34m\u001b[0m\u001b[0;34m\u001b[0m\u001b[0m\n\u001b[0m",
      "\u001b[0;31mNameError\u001b[0m: name 'model' is not defined"
     ]
    }
   ],
   "source": [
    "model.fit(x_train, y_train, epochs=100)"
   ]
  },
  {
   "cell_type": "markdown",
   "id": "d7972ad0",
   "metadata": {},
   "source": [
    "## Evaluate performance"
   ]
  },
  {
   "cell_type": "code",
   "execution_count": 9,
   "id": "96f3180c",
   "metadata": {},
   "outputs": [
    {
     "name": "stdout",
     "output_type": "stream",
     "text": [
      "116/116 [==============================] - 2s 21ms/step - loss: 5.4962 - binary_accuracy: 0.5323\n"
     ]
    },
    {
     "data": {
      "text/plain": [
       "[5.496200084686279, 0.5323410034179688]"
      ]
     },
     "execution_count": 9,
     "metadata": {},
     "output_type": "execute_result"
    }
   ],
   "source": [
    "model.evaluate(x_test, y_test)"
   ]
  },
  {
   "cell_type": "code",
   "execution_count": 10,
   "id": "64cf77a8",
   "metadata": {},
   "outputs": [
    {
     "name": "stdout",
     "output_type": "stream",
     "text": [
      "Predicted label: [[0.99999964]]\n"
     ]
    },
    {
     "data": {
      "image/png": "[encoded data removed]",
      "text/plain": [
       "<Figure size 432x288 with 1 Axes>"
      ]
     },
     "metadata": {
      "needs_background": "light"
     },
     "output_type": "display_data"
    }
   ],
   "source": [
    "random_indx = np.random.choice(range(len(x_test)))\n",
    "\n",
    "test_img = x_test[random_indx]\n",
    "plt.imshow(test_img.reshape((28, 28)))\n",
    "\n",
    "prediction = model(np.expand_dims(test_img, axis=0))\n",
    "\n",
    "print(\"Predicted label: {}\".format(prediction))"
   ]
  },
  {
   "cell_type": "markdown",
   "id": "4bfc594d",
   "metadata": {},
   "source": [
    "## Compare regular models"
   ]
  },
  {
   "cell_type": "code",
   "execution_count": 11,
   "id": "63d0b02d",
   "metadata": {},
   "outputs": [
    {
     "data": {
      "text/plain": [
       "array([1, 0, 1, 1, 0, 1, 0, 1, 0, 0], dtype=uint8)"
      ]
     },
     "execution_count": 11,
     "metadata": {},
     "output_type": "execute_result"
    }
   ],
   "source": [
    "test_inputs = x_test[10:20]\n",
    "test_targets = y_test[10:20]\n",
    "\n",
    "test_targets"
   ]
  },
  {
   "cell_type": "code",
   "execution_count": 12,
   "id": "0acc506d",
   "metadata": {},
   "outputs": [],
   "source": [
    "def check_shapes(inputs, targets):\n",
    "    \n",
    "    # Add batch dimension if single element given as \n",
    "    new_inputs = inputs\n",
    "    if len(inputs.shape) == 3:\n",
    "        new_inputs = np.expand_dims(inputs, axis=0)\n",
    "        \n",
    "    new_targets = targets\n",
    "    if isinstance(test_targets, np.uint8):\n",
    "        new_targets = np.array([targets])\n",
    "    \n",
    "    return new_inputs, new_targets"
   ]
  },
  {
   "cell_type": "code",
   "execution_count": 13,
   "id": "9a48a0e0",
   "metadata": {},
   "outputs": [],
   "source": [
    "test_inputs, test_targets = check_shapes(test_inputs, test_targets)"
   ]
  },
  {
   "cell_type": "code",
   "execution_count": 14,
   "id": "db26c22b",
   "metadata": {},
   "outputs": [],
   "source": [
    "# MP prediction\n",
    "pred = []\n",
    "runs = 10\n",
    "\n",
    "for i in range(runs):\n",
    "    pred.append(model(test_inputs, training=True))\n",
    "\n",
    "pred = np.hstack(pred)"
   ]
  },
  {
   "cell_type": "code",
   "execution_count": 15,
   "id": "0e36b8e7",
   "metadata": {},
   "outputs": [
    {
     "data": {
      "text/plain": [
       "array([0.9996084 , 0.9010212 , 0.9320754 , 0.9994774 , 0.9999994 ,\n",
       "       0.99883497, 0.8822039 , 0.9994766 , 0.9994203 , 0.9008714 ],\n",
       "      dtype=float32)"
      ]
     },
     "execution_count": 15,
     "metadata": {},
     "output_type": "execute_result"
    }
   ],
   "source": [
    "avg = np.average(pred, axis=1)\n",
    "avg"
   ]
  },
  {
   "cell_type": "code",
   "execution_count": 16,
   "id": "9181bcdc",
   "metadata": {},
   "outputs": [],
   "source": [
    "dp_model = McDropout(model)"
   ]
  },
  {
   "cell_type": "code",
   "execution_count": 17,
   "id": "abf4508f",
   "metadata": {},
   "outputs": [
    {
     "data": {
      "text/plain": [
       "array([[9.99999869e-01, 1.31130219e-07],\n",
       "       [9.51865071e-01, 4.81349289e-02],\n",
       "       [9.96487641e-01, 3.51235867e-03],\n",
       "       [9.99874699e-01, 1.25300884e-04],\n",
       "       [9.99994063e-01, 5.93662262e-06],\n",
       "       [9.99985409e-01, 1.45912170e-05],\n",
       "       [9.95504165e-01, 4.49583530e-03],\n",
       "       [9.94273758e-01, 5.72624207e-03],\n",
       "       [9.24192666e-01, 7.58073345e-02],\n",
       "       [9.91235095e-01, 8.76490474e-03]])"
      ]
     },
     "execution_count": 17,
     "metadata": {},
     "output_type": "execute_result"
    }
   ],
   "source": [
    "np.average(dp_model.predict(test_inputs, runs=10), axis=1)"
   ]
  },
  {
   "cell_type": "code",
   "execution_count": 19,
   "id": "355054ff",
   "metadata": {},
   "outputs": [],
   "source": [
    "model = default_model()\n",
    "model.compile(optimizer=\"adam\", loss=\"binary_crossentropy\", metrics=[\"binary_accuracy\"])\n",
    "test_mp = mp.MP()\n",
    "test_mp_model = test_mp.create_MP_Model(model=model, use_mp=False, verbose=False)"
   ]
  },
  {
   "cell_type": "code",
   "execution_count": 20,
   "id": "1d3489b6",
   "metadata": {},
   "outputs": [
    {
     "data": {
      "text/plain": [
       "[<tf.Tensor: shape=(10, 1), dtype=float32, numpy=\n",
       " array([[0.99999917],\n",
       "        [1.        ],\n",
       "        [0.99999404],\n",
       "        [1.        ],\n",
       "        [1.        ],\n",
       "        [0.9999999 ],\n",
       "        [1.        ],\n",
       "        [1.        ],\n",
       "        [1.        ],\n",
       "        [1.        ]], dtype=float32)>,\n",
       " <tf.Tensor: shape=(10, 1), dtype=float32, numpy=\n",
       " array([[3.0135800e-05],\n",
       "        [0.0000000e+00],\n",
       "        [1.5186102e-04],\n",
       "        [0.0000000e+00],\n",
       "        [0.0000000e+00],\n",
       "        [4.0707214e-06],\n",
       "        [0.0000000e+00],\n",
       "        [0.0000000e+00],\n",
       "        [0.0000000e+00],\n",
       "        [0.0000000e+00]], dtype=float32)>]"
      ]
     },
     "execution_count": 20,
     "metadata": {},
     "output_type": "execute_result"
    }
   ],
   "source": [
    "results = test_mp_model(test_inputs)\n",
    "results"
   ]
  },
  {
   "cell_type": "code",
   "execution_count": null,
   "id": "77015406",
   "metadata": {},
   "outputs": [],
   "source": []
  },
  {
   "cell_type": "markdown",
   "id": "73d7a3e4",
   "metadata": {},
   "source": [
    "# Compare metrics"
   ]
  },
  {
   "cell_type": "code",
   "execution_count": 21,
   "id": "850a62a4",
   "metadata": {},
   "outputs": [],
   "source": [
    "%autoreload 2\n",
    "dp_model = McDropout(model)\n",
    "mp_model = MomentPropagation(model)"
   ]
  },
  {
   "cell_type": "code",
   "execution_count": 22,
   "id": "16a9cc0a",
   "metadata": {},
   "outputs": [],
   "source": [
    "values = dp_model.predict(test_inputs)"
   ]
  },
  {
   "cell_type": "code",
   "execution_count": 32,
   "id": "d30f9ba8",
   "metadata": {},
   "outputs": [
    {
     "data": {
      "text/plain": [
       "array([-0.00096097, -0.0009995 , -0.00059155, -0.00099281, -0.00099931,\n",
       "       -0.00099941, -0.00099931, -0.00099931, -0.00099809, -0.00099941,\n",
       "       -0.00099941, -0.00099893, -0.00099724, -0.0009995 , -0.0009995 ,\n",
       "       -0.00099912, -0.0009995 , -0.0009995 , -0.00099479,  0.00024259,\n",
       "       -0.00099705, -0.00099696, -0.0009995 , -0.00099677, -0.00099799,\n",
       "       -0.00093593, -0.00099592, -0.00099903, -0.0009995 , -0.0009995 ,\n",
       "       -0.0009995 , -0.00097227, -0.00099931, -0.0009995 , -0.00099026,\n",
       "       -0.00097217, -0.00099856, -0.0009995 , -0.00099922, -0.0009995 ])"
      ]
     },
     "execution_count": 32,
     "metadata": {},
     "output_type": "execute_result"
    }
   ],
   "source": [
    "# mc dropout max_entropy\n",
    "%autoreload 2\n",
    "mc_max_entropy = dp_model.get_query_fn(\"max_entropy\")(x_test[10:50], runs=10)\n",
    "mc_max_entropy"
   ]
  },
  {
   "cell_type": "code",
   "execution_count": null,
   "id": "522ffe23",
   "metadata": {},
   "outputs": [],
   "source": []
  },
  {
   "cell_type": "code",
   "execution_count": 34,
   "id": "a5f14f47",
   "metadata": {},
   "outputs": [
    {
     "data": {
      "text/plain": [
       "array([-0.00099295, -0.00099955, -0.00095245, -0.00099955, -0.00099955,\n",
       "       -0.0009986 , -0.00099955, -0.00099955, -0.00099955, -0.00099955,\n",
       "       -0.00099955, -0.0009986 , -0.00099955, -0.00099955, -0.00099955,\n",
       "       -0.00099955, -0.00099955, -0.00099955, -0.00098353, -0.00099955,\n",
       "       -0.00099578, -0.00099955, -0.00097505, -0.00093363, -0.00099955,\n",
       "       -0.00099955, -0.00099955, -0.00099955, -0.00096469, -0.00099955,\n",
       "       -0.00099955, -0.0009986 , -0.00099955, -0.00099955, -0.0009986 ,\n",
       "       -0.00099955, -0.00099955, -0.00099955, -0.00098164, -0.0009986 ],\n",
       "      dtype=float32)"
      ]
     },
     "execution_count": 34,
     "metadata": {},
     "output_type": "execute_result"
    }
   ],
   "source": [
    "# moment propagation max entropy\n",
    "%autoreload 2\n",
    "mp_max_entropy = mp_model.get_query_fn(\"max_entropy\")(x_test[10:50])\n",
    "mp_max_entropy"
   ]
  },
  {
   "cell_type": "code",
   "execution_count": null,
   "id": "bc5ea525",
   "metadata": {},
   "outputs": [],
   "source": []
  },
  {
   "cell_type": "code",
   "execution_count": null,
   "id": "98f261ad",
   "metadata": {},
   "outputs": [],
   "source": []
  },
  {
   "cell_type": "code",
   "execution_count": null,
   "id": "b09d5d82",
   "metadata": {},
   "outputs": [],
   "source": []
  },
  {
   "cell_type": "code",
   "execution_count": null,
   "id": "dddead3c",
   "metadata": {},
   "outputs": [],
   "source": []
  },
  {
   "cell_type": "code",
   "execution_count": null,
   "id": "a0e13486",
   "metadata": {},
   "outputs": [],
   "source": []
  },
  {
   "cell_type": "code",
   "execution_count": null,
   "id": "de16c924",
   "metadata": {},
   "outputs": [],
   "source": []
  },
  {
   "cell_type": "code",
   "execution_count": null,
   "id": "4613fb43",
   "metadata": {},
   "outputs": [],
   "source": []
  },
  {
   "cell_type": "code",
   "execution_count": null,
   "id": "040e54c0",
   "metadata": {},
   "outputs": [],
   "source": []
  },
  {
   "cell_type": "code",
   "execution_count": null,
   "id": "ce4272c6",
   "metadata": {},
   "outputs": [],
   "source": []
  },
  {
   "cell_type": "code",
   "execution_count": null,
   "id": "cfdf0e2d",
   "metadata": {},
   "outputs": [],
   "source": []
  },
  {
   "cell_type": "code",
   "execution_count": null,
   "id": "4f5e1de4",
   "metadata": {},
   "outputs": [],
   "source": []
  },
  {
   "cell_type": "code",
   "execution_count": null,
   "id": "0502d3a5",
   "metadata": {},
   "outputs": [],
   "source": []
  },
  {
   "cell_type": "code",
   "execution_count": null,
   "id": "19695d00",
   "metadata": {},
   "outputs": [],
   "source": []
  },
  {
   "cell_type": "code",
   "execution_count": null,
   "id": "8b80b4b5",
   "metadata": {},
   "outputs": [],
   "source": []
  },
  {
   "cell_type": "code",
   "execution_count": null,
   "id": "57e401f6",
   "metadata": {},
   "outputs": [],
   "source": []
  },
  {
   "cell_type": "code",
   "execution_count": null,
   "id": "67abaf37",
   "metadata": {},
   "outputs": [],
   "source": []
  },
  {
   "cell_type": "code",
   "execution_count": null,
   "id": "2127a02e",
   "metadata": {},
   "outputs": [],
   "source": []
  }
 ],
 "metadata": {
  "kernelspec": {
   "display_name": "Python 3",
   "language": "python",
   "name": "python3"
  },
  "language_info": {
   "codemirror_mode": {
    "name": "ipython",
    "version": 3
   },
   "file_extension": ".py",
   "mimetype": "text/x-python",
   "name": "python",
   "nbconvert_exporter": "python",
   "pygments_lexer": "ipython3",
   "version": "3.8.8"
  }
 },
 "nbformat": 4,
 "nbformat_minor": 5
}
