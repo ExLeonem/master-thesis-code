{
 "cells": [
  {
   "cell_type": "markdown",
   "id": "8fa178ea",
   "metadata": {},
   "source": [
    "# Check uncertainty estimates\n"
   ]
  },
  {
   "cell_type": "markdown",
   "id": "936bb610",
   "metadata": {},
   "source": [
    "[can't start cudnn algorithm](https://stackoverflow.com/questions/53698035/failed-to-get-convolution-algorithm-this-is-probably-because-cudnn-failed-to-in)"
   ]
  },
  {
   "cell_type": "code",
   "execution_count": 1,
   "id": "edcbb93d",
   "metadata": {},
   "outputs": [],
   "source": [
    "import os, sys, importlib\n",
    "\n",
    "import pandas as pd\n",
    "import numpy as np\n",
    "import matplotlib.pyplot as plt\n",
    "import tensorflow as tf\n",
    "\n",
    "from sklearn.model_selection import train_test_split\n",
    "\n",
    "\n",
    "BASE_PATH = os.path.join(os.getcwd(), \"..\", \"..\")\n",
    "MODULE_PATH = os.path.join(BASE_PATH, \"modules\")\n",
    "DATASET_PATH = os.path.join(BASE_PATH, \"datasets\")\n",
    "\n",
    "sys.path.append(MODULE_PATH)\n",
    "\n",
    "from bayesian import McDropout, MomentPropagation\n",
    "import data.mnist as mnist_loader\n",
    "from models.default import default_model\n",
    "from models.tf_growth import setup_growth"
   ]
  },
  {
   "cell_type": "markdown",
   "id": "a526a830",
   "metadata": {},
   "source": [
    "## Prepare Data"
   ]
  },
  {
   "cell_type": "code",
   "execution_count": 2,
   "id": "ed123e5b",
   "metadata": {},
   "outputs": [],
   "source": [
    "inputs, targets = mnist_loader.load(os.path.join(DATASET_PATH, \"mnist\"))"
   ]
  },
  {
   "cell_type": "code",
   "execution_count": 3,
   "id": "5ce39c85",
   "metadata": {},
   "outputs": [
    {
     "name": "stdout",
     "output_type": "stream",
     "text": [
      "Inputs-Shape: (70000, 28, 28)\n",
      "Targets-Shape: (70000,)\n"
     ]
    }
   ],
   "source": [
    "print(\"Inputs-Shape: {}\".format(inputs.shape))\n",
    "print(\"Targets-Shape: {}\".format(targets.shape))"
   ]
  },
  {
   "cell_type": "code",
   "execution_count": 4,
   "id": "c30d62b4",
   "metadata": {},
   "outputs": [],
   "source": [
    "selector = (targets==0) | (targets==1)\n",
    "new_inputs = inputs[selector]\n",
    "new_targets = targets[selector]"
   ]
  },
  {
   "cell_type": "code",
   "execution_count": 5,
   "id": "37bd8808",
   "metadata": {},
   "outputs": [],
   "source": [
    "x_train, x_test, y_train, y_test = train_test_split(np.expand_dims(new_inputs, axis=-1), new_targets)"
   ]
  },
  {
   "cell_type": "markdown",
   "id": "b84d3509",
   "metadata": {},
   "source": [
    "## Train and build models"
   ]
  },
  {
   "cell_type": "code",
   "execution_count": 6,
   "id": "7007e2f0",
   "metadata": {},
   "outputs": [
    {
     "name": "stdout",
     "output_type": "stream",
     "text": [
      "1 Physical GPU's,  1 Logical GPU's\n"
     ]
    }
   ],
   "source": [
    "setup_growth()"
   ]
  },
  {
   "cell_type": "code",
   "execution_count": 7,
   "id": "cfd8b060",
   "metadata": {},
   "outputs": [],
   "source": [
    "model = default_model()\n",
    "model.compile(optimizer=\"adam\", loss=\"binary_crossentropy\", metrics=\"binary_crossentropy\")"
   ]
  },
  {
   "cell_type": "code",
   "execution_count": 8,
   "id": "a50391a7",
   "metadata": {},
   "outputs": [
    {
     "name": "stdout",
     "output_type": "stream",
     "text": [
      "Epoch 1/100\n",
      "347/347 [==============================] - 7s 21ms/step - loss: 0.1381 - binary_crossentropy: 0.1381\n",
      "Epoch 2/100\n",
      "347/347 [==============================] - 1s 4ms/step - loss: 0.0066 - binary_crossentropy: 0.0066\n",
      "Epoch 3/100\n",
      "347/347 [==============================] - 1s 4ms/step - loss: 0.0071 - binary_crossentropy: 0.0071\n",
      "Epoch 4/100\n",
      "347/347 [==============================] - 1s 4ms/step - loss: 0.0063 - binary_crossentropy: 0.0063\n",
      "Epoch 5/100\n",
      "347/347 [==============================] - 1s 4ms/step - loss: 0.0047 - binary_crossentropy: 0.0047\n",
      "Epoch 6/100\n",
      "347/347 [==============================] - 1s 4ms/step - loss: 0.1000 - binary_crossentropy: 0.1000\n",
      "Epoch 7/100\n",
      "347/347 [==============================] - 1s 4ms/step - loss: 0.0235 - binary_crossentropy: 0.0235\n",
      "Epoch 8/100\n",
      "347/347 [==============================] - 1s 4ms/step - loss: 0.0044 - binary_crossentropy: 0.0044\n",
      "Epoch 9/100\n",
      "347/347 [==============================] - 1s 4ms/step - loss: 0.0051 - binary_crossentropy: 0.0051\n",
      "Epoch 10/100\n",
      "347/347 [==============================] - 1s 4ms/step - loss: 0.0037 - binary_crossentropy: 0.0037\n",
      "Epoch 11/100\n",
      "347/347 [==============================] - 1s 4ms/step - loss: 0.0068 - binary_crossentropy: 0.0068\n",
      "Epoch 12/100\n",
      "347/347 [==============================] - 1s 4ms/step - loss: 0.0075 - binary_crossentropy: 0.0075\n",
      "Epoch 13/100\n",
      "347/347 [==============================] - 1s 4ms/step - loss: 0.0031 - binary_crossentropy: 0.0031\n",
      "Epoch 14/100\n",
      "347/347 [==============================] - 1s 4ms/step - loss: 0.0034 - binary_crossentropy: 0.0034\n",
      "Epoch 15/100\n",
      "347/347 [==============================] - 1s 4ms/step - loss: 0.0013 - binary_crossentropy: 0.0013    \n",
      "Epoch 16/100\n",
      "347/347 [==============================] - 1s 4ms/step - loss: 8.2131e-04 - binary_crossentropy: 8.2131e-04\n",
      "Epoch 17/100\n",
      "347/347 [==============================] - 1s 4ms/step - loss: 0.0016 - binary_crossentropy: 0.0016\n",
      "Epoch 18/100\n",
      "347/347 [==============================] - 1s 4ms/step - loss: 8.5730e-05 - binary_crossentropy: 8.5730e-05\n",
      "Epoch 19/100\n",
      "347/347 [==============================] - 1s 4ms/step - loss: 3.1021e-07 - binary_crossentropy: 3.1021e-07\n",
      "Epoch 20/100\n",
      "347/347 [==============================] - 1s 4ms/step - loss: 2.7601e-07 - binary_crossentropy: 2.7601e-07\n",
      "Epoch 21/100\n",
      "347/347 [==============================] - 1s 4ms/step - loss: 0.0011 - binary_crossentropy: 0.0011   \n",
      "Epoch 22/100\n",
      "347/347 [==============================] - 1s 4ms/step - loss: 0.0235 - binary_crossentropy: 0.0235\n",
      "Epoch 23/100\n",
      "347/347 [==============================] - 1s 4ms/step - loss: 0.0026 - binary_crossentropy: 0.0026\n",
      "Epoch 24/100\n",
      "347/347 [==============================] - 1s 4ms/step - loss: 0.0073 - binary_crossentropy: 0.0073\n",
      "Epoch 25/100\n",
      "347/347 [==============================] - 1s 4ms/step - loss: 0.0038 - binary_crossentropy: 0.0038\n",
      "Epoch 26/100\n",
      "347/347 [==============================] - 1s 4ms/step - loss: 3.3408e-04 - binary_crossentropy: 3.3408e-04\n",
      "Epoch 27/100\n",
      "347/347 [==============================] - 1s 4ms/step - loss: 6.8728e-04 - binary_crossentropy: 6.8728e-04\n",
      "Epoch 28/100\n",
      "347/347 [==============================] - 1s 4ms/step - loss: 1.1849e-04 - binary_crossentropy: 1.1849e-04\n",
      "Epoch 29/100\n",
      "347/347 [==============================] - 1s 4ms/step - loss: 3.4621e-05 - binary_crossentropy: 3.4621e-05\n",
      "Epoch 30/100\n",
      "347/347 [==============================] - 1s 4ms/step - loss: 9.1922e-06 - binary_crossentropy: 9.1922e-06\n",
      "Epoch 31/100\n",
      "347/347 [==============================] - 1s 4ms/step - loss: 1.3662e-07 - binary_crossentropy: 1.3662e-07\n",
      "Epoch 32/100\n",
      "347/347 [==============================] - 1s 4ms/step - loss: 1.8493e-08 - binary_crossentropy: 1.8493e-08\n",
      "Epoch 33/100\n",
      "347/347 [==============================] - 1s 4ms/step - loss: 1.9373e-04 - binary_crossentropy: 1.9373e-04\n",
      "Epoch 34/100\n",
      "347/347 [==============================] - 1s 4ms/step - loss: 0.0033 - binary_crossentropy: 0.0033\n",
      "Epoch 35/100\n",
      "347/347 [==============================] - 1s 4ms/step - loss: 0.0297 - binary_crossentropy: 0.0297\n",
      "Epoch 36/100\n",
      "347/347 [==============================] - 1s 4ms/step - loss: 0.0099 - binary_crossentropy: 0.0099\n",
      "Epoch 37/100\n",
      "347/347 [==============================] - 1s 4ms/step - loss: 1.8037e-05 - binary_crossentropy: 1.8037e-05\n",
      "Epoch 38/100\n",
      "347/347 [==============================] - 1s 4ms/step - loss: 0.0026 - binary_crossentropy: 0.0026\n",
      "Epoch 39/100\n",
      "347/347 [==============================] - 1s 4ms/step - loss: 0.0036 - binary_crossentropy: 0.0036\n",
      "Epoch 40/100\n",
      "347/347 [==============================] - 1s 4ms/step - loss: 1.0873e-04 - binary_crossentropy: 1.0873e-04\n",
      "Epoch 41/100\n",
      "347/347 [==============================] - 1s 4ms/step - loss: 1.1181e-04 - binary_crossentropy: 1.1181e-04\n",
      "Epoch 42/100\n",
      "347/347 [==============================] - 1s 4ms/step - loss: 5.9340e-07 - binary_crossentropy: 5.9340e-07\n",
      "Epoch 43/100\n",
      "347/347 [==============================] - 1s 4ms/step - loss: 1.5590e-08 - binary_crossentropy: 1.5590e-08\n",
      "Epoch 44/100\n",
      "347/347 [==============================] - 1s 4ms/step - loss: 3.2184e-07 - binary_crossentropy: 3.2184e-07\n",
      "Epoch 45/100\n",
      "347/347 [==============================] - 1s 4ms/step - loss: 7.5685e-10 - binary_crossentropy: 7.5685e-10\n",
      "Epoch 46/100\n",
      "347/347 [==============================] - 1s 4ms/step - loss: 3.7072e-06 - binary_crossentropy: 3.7072e-06\n",
      "Epoch 47/100\n",
      "347/347 [==============================] - 1s 4ms/step - loss: 1.3296e-06 - binary_crossentropy: 1.3296e-06\n",
      "Epoch 48/100\n",
      "347/347 [==============================] - 1s 4ms/step - loss: 2.1904e-09 - binary_crossentropy: 2.1904e-09\n",
      "Epoch 49/100\n",
      "347/347 [==============================] - 1s 4ms/step - loss: 3.5917e-08 - binary_crossentropy: 3.5917e-08\n",
      "Epoch 50/100\n",
      "347/347 [==============================] - 1s 4ms/step - loss: 1.0078e-08 - binary_crossentropy: 1.0078e-08\n",
      "Epoch 51/100\n",
      "347/347 [==============================] - 1s 4ms/step - loss: 2.7837e-09 - binary_crossentropy: 2.7837e-09\n",
      "Epoch 52/100\n",
      "347/347 [==============================] - 1s 4ms/step - loss: 4.0253e-09 - binary_crossentropy: 4.0253e-09\n",
      "Epoch 53/100\n",
      "347/347 [==============================] - 1s 4ms/step - loss: 0.0193 - binary_crossentropy: 0.0193\n",
      "Epoch 54/100\n",
      "347/347 [==============================] - 1s 4ms/step - loss: 0.0286 - binary_crossentropy: 0.0286\n",
      "Epoch 55/100\n",
      "347/347 [==============================] - 1s 4ms/step - loss: 0.0074 - binary_crossentropy: 0.0074\n",
      "Epoch 56/100\n",
      "347/347 [==============================] - 1s 4ms/step - loss: 0.0039 - binary_crossentropy: 0.0039\n",
      "Epoch 57/100\n",
      "347/347 [==============================] - 1s 4ms/step - loss: 4.7147e-04 - binary_crossentropy: 4.7147e-04\n",
      "Epoch 58/100\n",
      "347/347 [==============================] - 1s 4ms/step - loss: 0.0023 - binary_crossentropy: 0.0023\n",
      "Epoch 59/100\n",
      "347/347 [==============================] - 1s 4ms/step - loss: 6.3324e-04 - binary_crossentropy: 6.3324e-04\n",
      "Epoch 60/100\n",
      "347/347 [==============================] - 1s 4ms/step - loss: 1.3601e-04 - binary_crossentropy: 1.3601e-04\n",
      "Epoch 61/100\n",
      "347/347 [==============================] - 1s 4ms/step - loss: 4.0128e-08 - binary_crossentropy: 4.0128e-08\n",
      "Epoch 62/100\n",
      "347/347 [==============================] - 1s 4ms/step - loss: 1.9097e-05 - binary_crossentropy: 1.9097e-05\n",
      "Epoch 63/100\n",
      "347/347 [==============================] - 1s 4ms/step - loss: 0.0019 - binary_crossentropy: 0.0019\n",
      "Epoch 64/100\n",
      "347/347 [==============================] - 1s 4ms/step - loss: 0.0209 - binary_crossentropy: 0.0209\n",
      "Epoch 65/100\n",
      "347/347 [==============================] - 1s 4ms/step - loss: 0.0045 - binary_crossentropy: 0.0045\n",
      "Epoch 66/100\n",
      "347/347 [==============================] - 1s 4ms/step - loss: 0.0042 - binary_crossentropy: 0.0042\n",
      "Epoch 67/100\n",
      "347/347 [==============================] - 1s 4ms/step - loss: 0.0190 - binary_crossentropy: 0.0190\n",
      "Epoch 68/100\n",
      "347/347 [==============================] - 1s 4ms/step - loss: 3.2717e-04 - binary_crossentropy: 3.2717e-04\n",
      "Epoch 69/100\n",
      "347/347 [==============================] - 1s 4ms/step - loss: 3.4911e-06 - binary_crossentropy: 3.4911e-06\n",
      "Epoch 70/100\n",
      "347/347 [==============================] - 1s 4ms/step - loss: 4.2594e-08 - binary_crossentropy: 4.2594e-08\n",
      "Epoch 71/100\n"
     ]
    },
    {
     "name": "stdout",
     "output_type": "stream",
     "text": [
      "347/347 [==============================] - 1s 4ms/step - loss: 0.0031 - binary_crossentropy: 0.0031\n",
      "Epoch 72/100\n",
      "347/347 [==============================] - 1s 4ms/step - loss: 0.0011 - binary_crossentropy: 0.0011\n",
      "Epoch 73/100\n",
      "347/347 [==============================] - 1s 4ms/step - loss: 0.0134 - binary_crossentropy: 0.0134\n",
      "Epoch 74/100\n",
      "347/347 [==============================] - 1s 4ms/step - loss: 3.1303e-04 - binary_crossentropy: 3.1303e-04\n",
      "Epoch 75/100\n",
      "347/347 [==============================] - 1s 4ms/step - loss: 0.0024 - binary_crossentropy: 0.0024\n",
      "Epoch 76/100\n",
      "347/347 [==============================] - 1s 4ms/step - loss: 0.0012 - binary_crossentropy: 0.0012 \n",
      "Epoch 77/100\n",
      "347/347 [==============================] - 1s 4ms/step - loss: 8.6154e-04 - binary_crossentropy: 8.6154e-04\n",
      "Epoch 78/100\n",
      "347/347 [==============================] - 1s 4ms/step - loss: 2.0497e-04 - binary_crossentropy: 2.0497e-04\n",
      "Epoch 79/100\n",
      "347/347 [==============================] - 1s 4ms/step - loss: 2.5860e-04 - binary_crossentropy: 2.5860e-04\n",
      "Epoch 80/100\n",
      "347/347 [==============================] - 1s 4ms/step - loss: 1.2785e-04 - binary_crossentropy: 1.2785e-04\n",
      "Epoch 81/100\n",
      "347/347 [==============================] - 1s 4ms/step - loss: 0.0064 - binary_crossentropy: 0.0064\n",
      "Epoch 82/100\n",
      "347/347 [==============================] - 1s 4ms/step - loss: 0.0048 - binary_crossentropy: 0.0048\n",
      "Epoch 83/100\n",
      "347/347 [==============================] - 1s 4ms/step - loss: 0.0116 - binary_crossentropy: 0.0116\n",
      "Epoch 84/100\n",
      "347/347 [==============================] - 1s 4ms/step - loss: 8.4150e-04 - binary_crossentropy: 8.4150e-04\n",
      "Epoch 85/100\n",
      "347/347 [==============================] - 1s 4ms/step - loss: 3.0977e-04 - binary_crossentropy: 3.0977e-04\n",
      "Epoch 86/100\n",
      "347/347 [==============================] - 1s 4ms/step - loss: 2.5082e-04 - binary_crossentropy: 2.5082e-04\n",
      "Epoch 87/100\n",
      "347/347 [==============================] - 1s 4ms/step - loss: 0.0029 - binary_crossentropy: 0.0029\n",
      "Epoch 88/100\n",
      "347/347 [==============================] - 1s 4ms/step - loss: 0.0015 - binary_crossentropy: 0.0015\n",
      "Epoch 89/100\n",
      "347/347 [==============================] - 1s 4ms/step - loss: 0.0065 - binary_crossentropy: 0.0065\n",
      "Epoch 90/100\n",
      "347/347 [==============================] - 1s 4ms/step - loss: 1.8775e-04 - binary_crossentropy: 1.8775e-04\n",
      "Epoch 91/100\n",
      "347/347 [==============================] - 1s 4ms/step - loss: 0.0225 - binary_crossentropy: 0.0225\n",
      "Epoch 92/100\n",
      "347/347 [==============================] - 1s 4ms/step - loss: 2.0394e-04 - binary_crossentropy: 2.0394e-04\n",
      "Epoch 93/100\n",
      "347/347 [==============================] - 1s 4ms/step - loss: 1.9394e-04 - binary_crossentropy: 1.9394e-04\n",
      "Epoch 94/100\n",
      "347/347 [==============================] - 1s 4ms/step - loss: 1.2539e-04 - binary_crossentropy: 1.2539e-04\n",
      "Epoch 95/100\n",
      "347/347 [==============================] - 1s 4ms/step - loss: 1.2611e-04 - binary_crossentropy: 1.2611e-04\n",
      "Epoch 96/100\n",
      "347/347 [==============================] - 1s 4ms/step - loss: 9.5142e-07 - binary_crossentropy: 9.5142e-07\n",
      "Epoch 97/100\n",
      "347/347 [==============================] - 1s 4ms/step - loss: 0.0076 - binary_crossentropy: 0.0076\n",
      "Epoch 98/100\n",
      "347/347 [==============================] - 1s 4ms/step - loss: 5.2101e-04 - binary_crossentropy: 5.2101e-04\n",
      "Epoch 99/100\n",
      "347/347 [==============================] - 1s 3ms/step - loss: 2.8354e-04 - binary_crossentropy: 2.8354e-04\n",
      "Epoch 100/100\n",
      "347/347 [==============================] - 1s 4ms/step - loss: 0.0451 - binary_crossentropy: 0.0451\n"
     ]
    },
    {
     "data": {
      "text/plain": [
       "<tensorflow.python.keras.callbacks.History at 0x7fb3ec9f5640>"
      ]
     },
     "execution_count": 8,
     "metadata": {},
     "output_type": "execute_result"
    }
   ],
   "source": [
    "model.fit(x_train, y_train, epochs=100)"
   ]
  },
  {
   "cell_type": "code",
   "execution_count": null,
   "id": "96f3180c",
   "metadata": {},
   "outputs": [],
   "source": []
  },
  {
   "cell_type": "code",
   "execution_count": null,
   "id": "59c5274a",
   "metadata": {},
   "outputs": [],
   "source": []
  },
  {
   "cell_type": "code",
   "execution_count": null,
   "id": "850a62a4",
   "metadata": {},
   "outputs": [],
   "source": []
  },
  {
   "cell_type": "code",
   "execution_count": null,
   "id": "d30f9ba8",
   "metadata": {},
   "outputs": [],
   "source": []
  },
  {
   "cell_type": "code",
   "execution_count": null,
   "id": "86f419ed",
   "metadata": {},
   "outputs": [],
   "source": []
  },
  {
   "cell_type": "code",
   "execution_count": null,
   "id": "a5f14f47",
   "metadata": {},
   "outputs": [],
   "source": []
  },
  {
   "cell_type": "code",
   "execution_count": null,
   "id": "bc5ea525",
   "metadata": {},
   "outputs": [],
   "source": []
  },
  {
   "cell_type": "code",
   "execution_count": null,
   "id": "98f261ad",
   "metadata": {},
   "outputs": [],
   "source": []
  },
  {
   "cell_type": "code",
   "execution_count": null,
   "id": "b09d5d82",
   "metadata": {},
   "outputs": [],
   "source": []
  },
  {
   "cell_type": "code",
   "execution_count": null,
   "id": "dddead3c",
   "metadata": {},
   "outputs": [],
   "source": []
  },
  {
   "cell_type": "code",
   "execution_count": null,
   "id": "a0e13486",
   "metadata": {},
   "outputs": [],
   "source": []
  },
  {
   "cell_type": "code",
   "execution_count": null,
   "id": "de16c924",
   "metadata": {},
   "outputs": [],
   "source": []
  },
  {
   "cell_type": "code",
   "execution_count": null,
   "id": "4613fb43",
   "metadata": {},
   "outputs": [],
   "source": []
  },
  {
   "cell_type": "code",
   "execution_count": null,
   "id": "040e54c0",
   "metadata": {},
   "outputs": [],
   "source": []
  },
  {
   "cell_type": "code",
   "execution_count": null,
   "id": "ce4272c6",
   "metadata": {},
   "outputs": [],
   "source": []
  },
  {
   "cell_type": "code",
   "execution_count": null,
   "id": "cfdf0e2d",
   "metadata": {},
   "outputs": [],
   "source": []
  },
  {
   "cell_type": "code",
   "execution_count": null,
   "id": "4f5e1de4",
   "metadata": {},
   "outputs": [],
   "source": []
  },
  {
   "cell_type": "code",
   "execution_count": null,
   "id": "0502d3a5",
   "metadata": {},
   "outputs": [],
   "source": []
  },
  {
   "cell_type": "code",
   "execution_count": null,
   "id": "19695d00",
   "metadata": {},
   "outputs": [],
   "source": []
  },
  {
   "cell_type": "code",
   "execution_count": null,
   "id": "8b80b4b5",
   "metadata": {},
   "outputs": [],
   "source": []
  },
  {
   "cell_type": "code",
   "execution_count": null,
   "id": "57e401f6",
   "metadata": {},
   "outputs": [],
   "source": []
  },
  {
   "cell_type": "code",
   "execution_count": null,
   "id": "67abaf37",
   "metadata": {},
   "outputs": [],
   "source": []
  },
  {
   "cell_type": "code",
   "execution_count": null,
   "id": "2127a02e",
   "metadata": {},
   "outputs": [],
   "source": []
  }
 ],
 "metadata": {
  "kernelspec": {
   "display_name": "Python 3",
   "language": "python",
   "name": "python3"
  },
  "language_info": {
   "codemirror_mode": {
    "name": "ipython",
    "version": 3
   },
   "file_extension": ".py",
   "mimetype": "text/x-python",
   "name": "python",
   "nbconvert_exporter": "python",
   "pygments_lexer": "ipython3",
   "version": "3.8.8"
  }
 },
 "nbformat": 4,
 "nbformat_minor": 5
}
