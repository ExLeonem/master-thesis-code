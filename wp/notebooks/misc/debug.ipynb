{
 "cells": [
  {
   "cell_type": "markdown",
   "id": "c6d46c93",
   "metadata": {},
   "source": [
    "## Check if model converges at all"
   ]
  },
  {
   "cell_type": "code",
   "execution_count": 1,
   "id": "ce349208",
   "metadata": {},
   "outputs": [],
   "source": [
    "%load_ext autoreload"
   ]
  },
  {
   "cell_type": "code",
   "execution_count": 2,
   "id": "317029c8",
   "metadata": {},
   "outputs": [],
   "source": [
    "import os, sys, importlib\n",
    "import pandas as pd\n",
    "import numpy as np\n",
    "import matplotlib.pyplot as plt\n",
    "from sklearn.model_selection import train_test_split\n",
    "\n",
    "import tensorflow as tf\n",
    "\n",
    "BASE_PATH = os.path.join(os.getcwd(), \"..\", \"..\")\n",
    "MODULE_PATH = os.path.join(BASE_PATH, \"modules\")\n",
    "DATASETS_PATH = os.path.join(BASE_PATH, \"datasets\")\n",
    "\n",
    "sys.path.append(MODULE_PATH)\n",
    "\n",
    "from active_learning import TrainConfig\n",
    "from data import BenchmarkData, DataSetType\n",
    "from models import setup_growth, default_model\n",
    "from bayesian import BayesModel, McDropout, MomentPropagation\n",
    "\n",
    "import mp.MomentPropagation as mp"
   ]
  },
  {
   "cell_type": "code",
   "execution_count": 3,
   "id": "9ce45aa7",
   "metadata": {},
   "outputs": [
    {
     "name": "stdout",
     "output_type": "stream",
     "text": [
      "1 Physical GPU's,  1 Logical GPU's\n"
     ]
    }
   ],
   "source": [
    "setup_growth()"
   ]
  },
  {
   "cell_type": "code",
   "execution_count": 4,
   "id": "c24abf7c",
   "metadata": {},
   "outputs": [],
   "source": [
    "benchmark = BenchmarkData(DataSetType.MNIST, os.path.join(DATASETS_PATH, \"mnist\"), classes=2)"
   ]
  },
  {
   "cell_type": "code",
   "execution_count": 5,
   "id": "37115d4f",
   "metadata": {},
   "outputs": [],
   "source": [
    "x_train, x_test, y_train, y_test = train_test_split(benchmark.inputs, benchmark.targets)"
   ]
  },
  {
   "cell_type": "code",
   "execution_count": 6,
   "id": "aa04a68e",
   "metadata": {},
   "outputs": [
    {
     "name": "stdout",
     "output_type": "stream",
     "text": [
      "Datapoints: 14780\n",
      "Unique labels: [0 1]\n"
     ]
    }
   ],
   "source": [
    "print(\"Datapoints: {}\".format(len(benchmark.targets)))\n",
    "print(\"Unique labels: {}\".format(np.unique(benchmark.targets)))"
   ]
  },
  {
   "cell_type": "code",
   "execution_count": 7,
   "id": "5db9c0a4",
   "metadata": {},
   "outputs": [],
   "source": [
    "model = default_model(output_classes=1)\n",
    "model.compile(optimizer=\"adam\", loss=\"binary_crossentropy\", metrics=[\"binary_accuracy\"])"
   ]
  },
  {
   "cell_type": "code",
   "execution_count": 8,
   "id": "0b34971f",
   "metadata": {},
   "outputs": [
    {
     "data": {
      "text/plain": [
       "(3695, 28, 28, 1)"
      ]
     },
     "execution_count": 8,
     "metadata": {},
     "output_type": "execute_result"
    }
   ],
   "source": [
    "x_test.shape"
   ]
  },
  {
   "cell_type": "code",
   "execution_count": 9,
   "id": "c5c4d069",
   "metadata": {},
   "outputs": [
    {
     "data": {
      "text/plain": [
       "(3695,)"
      ]
     },
     "execution_count": 9,
     "metadata": {},
     "output_type": "execute_result"
    }
   ],
   "source": [
    "y_test.shape"
   ]
  },
  {
   "cell_type": "code",
   "execution_count": 10,
   "id": "5bd0379b",
   "metadata": {},
   "outputs": [
    {
     "name": "stdout",
     "output_type": "stream",
     "text": [
      "116/116 [==============================] - 3s 26ms/step - loss: 7.2278 - binary_accuracy: 0.4631\n"
     ]
    },
    {
     "data": {
      "text/plain": [
       "[7.227778434753418, 0.4630581736564636]"
      ]
     },
     "execution_count": 10,
     "metadata": {},
     "output_type": "execute_result"
    }
   ],
   "source": [
    "model.evaluate(x_test, y_test)"
   ]
  },
  {
   "cell_type": "markdown",
   "id": "945700d5",
   "metadata": {},
   "source": [
    "# Model Debug"
   ]
  },
  {
   "cell_type": "code",
   "execution_count": 19,
   "id": "186ca81f",
   "metadata": {},
   "outputs": [
    {
     "name": "stdout",
     "output_type": "stream",
     "text": [
      "Epoch 1/20\n",
      "347/347 [==============================] - 6s 16ms/step - loss: 0.1600 - binary_accuracy: 0.9899\n",
      "Epoch 2/20\n",
      "347/347 [==============================] - 1s 4ms/step - loss: 0.0064 - binary_accuracy: 0.9976\n",
      "Epoch 3/20\n",
      "347/347 [==============================] - 1s 4ms/step - loss: 0.0059 - binary_accuracy: 0.9986\n",
      "Epoch 4/20\n",
      "347/347 [==============================] - 1s 4ms/step - loss: 0.0108 - binary_accuracy: 0.9984\n",
      "Epoch 5/20\n",
      "347/347 [==============================] - 1s 4ms/step - loss: 0.0225 - binary_accuracy: 0.9969\n",
      "Epoch 6/20\n",
      "347/347 [==============================] - 1s 4ms/step - loss: 0.0053 - binary_accuracy: 0.9988\n",
      "Epoch 7/20\n",
      "347/347 [==============================] - 1s 4ms/step - loss: 0.0042 - binary_accuracy: 0.9992\n",
      "Epoch 8/20\n",
      "347/347 [==============================] - 1s 4ms/step - loss: 5.5304e-04 - binary_accuracy: 0.9998\n",
      "Epoch 9/20\n",
      "347/347 [==============================] - 1s 4ms/step - loss: 0.0030 - binary_accuracy: 0.9993\n",
      "Epoch 10/20\n",
      "347/347 [==============================] - 1s 4ms/step - loss: 0.0030 - binary_accuracy: 0.9991\n",
      "Epoch 11/20\n",
      "347/347 [==============================] - 1s 4ms/step - loss: 0.0051 - binary_accuracy: 0.9993\n",
      "Epoch 12/20\n",
      "347/347 [==============================] - 1s 4ms/step - loss: 0.0171 - binary_accuracy: 0.9983\n",
      "Epoch 13/20\n",
      "347/347 [==============================] - 1s 4ms/step - loss: 0.0042 - binary_accuracy: 0.9990\n",
      "Epoch 14/20\n",
      "347/347 [==============================] - 1s 4ms/step - loss: 8.3302e-04 - binary_accuracy: 0.9998\n",
      "Epoch 15/20\n",
      "347/347 [==============================] - 1s 4ms/step - loss: 5.8920e-04 - binary_accuracy: 0.9997\n",
      "Epoch 16/20\n",
      "347/347 [==============================] - 1s 4ms/step - loss: 0.0113 - binary_accuracy: 0.9986\n",
      "Epoch 17/20\n",
      "347/347 [==============================] - 1s 4ms/step - loss: 0.0082 - binary_accuracy: 0.9986\n",
      "Epoch 18/20\n",
      "347/347 [==============================] - 1s 4ms/step - loss: 0.0048 - binary_accuracy: 0.9994\n",
      "Epoch 19/20\n",
      "347/347 [==============================] - 1s 4ms/step - loss: 0.0028 - binary_accuracy: 0.9994\n",
      "Epoch 20/20\n",
      "347/347 [==============================] - 1s 4ms/step - loss: 1.5476e-04 - binary_accuracy: 1.0000\n"
     ]
    },
    {
     "data": {
      "text/plain": [
       "<tensorflow.python.keras.callbacks.History at 0x7ff33ddcdb50>"
      ]
     },
     "execution_count": 19,
     "metadata": {},
     "output_type": "execute_result"
    }
   ],
   "source": [
    "model.fit(x_train, y_train, epochs=20)"
   ]
  },
  {
   "cell_type": "code",
   "execution_count": 28,
   "id": "d41db75d",
   "metadata": {},
   "outputs": [
    {
     "name": "stdout",
     "output_type": "stream",
     "text": [
      "binary_crossentropy\n"
     ]
    },
    {
     "data": {
      "text/plain": [
       "[8.108395, 0.44]"
      ]
     },
     "execution_count": 28,
     "metadata": {},
     "output_type": "execute_result"
    }
   ],
   "source": [
    "dp_model = MomentPropagation(model)\n",
    "dp_model.compile(loss=\"binary_crossentropy\", optimizer=\"adam\", metrics=[\"binary_crossentropy\"])\n",
    "dp_model.evaluate(x_test[:50], y_test[:50])"
   ]
  },
  {
   "cell_type": "code",
   "execution_count": null,
   "id": "2bfa4ecc",
   "metadata": {},
   "outputs": [],
   "source": []
  }
 ],
 "metadata": {
  "kernelspec": {
   "display_name": "Python 3",
   "language": "python",
   "name": "python3"
  },
  "language_info": {
   "codemirror_mode": {
    "name": "ipython",
    "version": 3
   },
   "file_extension": ".py",
   "mimetype": "text/x-python",
   "name": "python",
   "nbconvert_exporter": "python",
   "pygments_lexer": "ipython3",
   "version": "3.8.8"
  }
 },
 "nbformat": 4,
 "nbformat_minor": 5
}
