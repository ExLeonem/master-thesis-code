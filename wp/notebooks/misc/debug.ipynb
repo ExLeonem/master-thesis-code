{
 "cells": [
  {
   "cell_type": "code",
   "execution_count": 8,
   "id": "ce349208",
   "metadata": {},
   "outputs": [],
   "source": [
    "%load_ext autoreload"
   ]
  },
  {
   "cell_type": "code",
   "execution_count": 9,
   "id": "317029c8",
   "metadata": {},
   "outputs": [],
   "source": [
    "import os, sys, importlib\n",
    "import pandas as pd\n",
    "import numpy as np\n",
    "import matplotlib.pyplot as plt\n",
    "from sklearn.model_selection import train_test_split\n",
    "\n",
    "import tensorflow as tf\n",
    "\n",
    "BASE_PATH = os.path.join(os.getcwd(), \"..\", \"..\")\n",
    "MODULE_PATH = os.path.join(BASE_PATH, \"modules\")\n",
    "DATASETS_PATH = os.path.join(BASE_PATH, \"datasets\")\n",
    "\n",
    "sys.path.append(MODULE_PATH)\n",
    "\n",
    "from data import BenchmarkData, DataSetType\n",
    "from models import setup_growth, default_model\n",
    "from bayesian import McDropout, MomentPropagation"
   ]
  },
  {
   "cell_type": "code",
   "execution_count": 10,
   "id": "9ce45aa7",
   "metadata": {},
   "outputs": [
    {
     "name": "stdout",
     "output_type": "stream",
     "text": [
      "1 Physical GPU's,  1 Logical GPU's\n"
     ]
    }
   ],
   "source": [
    "setup_growth()"
   ]
  },
  {
   "cell_type": "code",
   "execution_count": 11,
   "id": "c24abf7c",
   "metadata": {},
   "outputs": [],
   "source": [
    "benchmark = BenchmarkData(DataSetType.MNIST, os.path.join(DATASETS_PATH, \"mnist\"), classes=2)"
   ]
  },
  {
   "cell_type": "code",
   "execution_count": 12,
   "id": "37115d4f",
   "metadata": {},
   "outputs": [],
   "source": [
    "x_train, x_test, y_train, y_test = train_test_split(benchmark.inputs, benchmark.targets)"
   ]
  },
  {
   "cell_type": "code",
   "execution_count": 13,
   "id": "aa04a68e",
   "metadata": {},
   "outputs": [
    {
     "name": "stdout",
     "output_type": "stream",
     "text": [
      "Datapoints: 14780\n",
      "Unique labels: [0 1]\n"
     ]
    }
   ],
   "source": [
    "print(\"Datapoints: {}\".format(len(benchmark.targets)))\n",
    "print(\"Unique labels: {}\".format(np.unique(benchmark.targets)))"
   ]
  },
  {
   "cell_type": "code",
   "execution_count": 14,
   "id": "5db9c0a4",
   "metadata": {},
   "outputs": [],
   "source": [
    "model = default_model()\n",
    "model.compile(optimizer=\"adam\", loss=\"binary_crossentropy\", metrics=[\"binary_accuracy\"])"
   ]
  },
  {
   "cell_type": "code",
   "execution_count": 15,
   "id": "5bd0379b",
   "metadata": {},
   "outputs": [
    {
     "name": "stdout",
     "output_type": "stream",
     "text": [
      "116/116 [==============================] - 2s 16ms/step - loss: 4.1283 - binary_accuracy: 0.4736\n"
     ]
    },
    {
     "data": {
      "text/plain": [
       "[4.128287315368652, 0.4736129939556122]"
      ]
     },
     "execution_count": 15,
     "metadata": {},
     "output_type": "execute_result"
    }
   ],
   "source": [
    "model.evaluate(x_test, y_test)"
   ]
  },
  {
   "cell_type": "code",
   "execution_count": 16,
   "id": "f92af1f2",
   "metadata": {},
   "outputs": [],
   "source": [
    "%autoreload 2\n",
    "dp_model = McDropout(model)"
   ]
  },
  {
   "cell_type": "code",
   "execution_count": 18,
   "id": "e6323613",
   "metadata": {},
   "outputs": [
    {
     "data": {
      "text/plain": [
       "[2.796782698233213, 0.5372124492557511]"
      ]
     },
     "execution_count": 18,
     "metadata": {},
     "output_type": "execute_result"
    }
   ],
   "source": [
    "%autoreload 2\n",
    "dp_model.evaluate(x_test, y_test)"
   ]
  },
  {
   "cell_type": "code",
   "execution_count": 20,
   "id": "64a710f1",
   "metadata": {},
   "outputs": [
    {
     "name": "stdout",
     "output_type": "stream",
     "text": [
      "185/185 [==============================] - 5s 28ms/step - loss: 0.3102 - binary_accuracy: 0.9840\n"
     ]
    },
    {
     "data": {
      "text/plain": [
       "<tensorflow.python.keras.callbacks.History at 0x7fade0d6fe20>"
      ]
     },
     "execution_count": 20,
     "metadata": {},
     "output_type": "execute_result"
    }
   ],
   "source": [
    "dp_model.fit(x_train, y_train, batch_size=60)"
   ]
  },
  {
   "cell_type": "code",
   "execution_count": 22,
   "id": "46fb199a",
   "metadata": {},
   "outputs": [
    {
     "data": {
      "text/plain": [
       "[0.7615203117972562, 0.48660351826792964]"
      ]
     },
     "execution_count": 22,
     "metadata": {},
     "output_type": "execute_result"
    }
   ],
   "source": [
    "dp_model.evaluate(x_test, y_test)"
   ]
  },
  {
   "cell_type": "code",
   "execution_count": 23,
   "id": "1dff37b8",
   "metadata": {},
   "outputs": [
    {
     "name": "stdout",
     "output_type": "stream",
     "text": [
      "185/185 [==============================] - 1s 5ms/step - loss: 0.0045 - binary_accuracy: 0.9986\n"
     ]
    },
    {
     "data": {
      "text/plain": [
       "<tensorflow.python.keras.callbacks.History at 0x7fade0bcbac0>"
      ]
     },
     "execution_count": 23,
     "metadata": {},
     "output_type": "execute_result"
    }
   ],
   "source": [
    "dp_model.fit(x_train, y_train, batch_size=60)"
   ]
  },
  {
   "cell_type": "code",
   "execution_count": 24,
   "id": "5c37c206",
   "metadata": {},
   "outputs": [
    {
     "data": {
      "text/plain": [
       "[0.7671364879128623, 0.49039242219215157]"
      ]
     },
     "execution_count": 24,
     "metadata": {},
     "output_type": "execute_result"
    }
   ],
   "source": [
    "dp_model.evaluate(x_test, y_test)"
   ]
  },
  {
   "cell_type": "code",
   "execution_count": null,
   "id": "f29f9c05",
   "metadata": {},
   "outputs": [],
   "source": []
  },
  {
   "cell_type": "code",
   "execution_count": null,
   "id": "180161dd",
   "metadata": {},
   "outputs": [],
   "source": []
  },
  {
   "cell_type": "code",
   "execution_count": null,
   "id": "63acc7ba",
   "metadata": {},
   "outputs": [],
   "source": []
  },
  {
   "cell_type": "code",
   "execution_count": null,
   "id": "3e3684ea",
   "metadata": {},
   "outputs": [],
   "source": []
  },
  {
   "cell_type": "code",
   "execution_count": null,
   "id": "b0061e6a",
   "metadata": {},
   "outputs": [],
   "source": []
  }
 ],
 "metadata": {
  "kernelspec": {
   "display_name": "Python 3",
   "language": "python",
   "name": "python3"
  },
  "language_info": {
   "codemirror_mode": {
    "name": "ipython",
    "version": 3
   },
   "file_extension": ".py",
   "mimetype": "text/x-python",
   "name": "python",
   "nbconvert_exporter": "python",
   "pygments_lexer": "ipython3",
   "version": "3.8.8"
  }
 },
 "nbformat": 4,
 "nbformat_minor": 5
}
