{
 "cells": [
  {
   "cell_type": "markdown",
   "id": "c6d46c93",
   "metadata": {},
   "source": [
    "## Check if model converges at all"
   ]
  },
  {
   "cell_type": "code",
   "execution_count": 1,
   "id": "ce349208",
   "metadata": {},
   "outputs": [],
   "source": [
    "%load_ext autoreload"
   ]
  },
  {
   "cell_type": "code",
   "execution_count": 11,
   "id": "317029c8",
   "metadata": {},
   "outputs": [],
   "source": [
    "import os, sys, importlib\n",
    "import pandas as pd\n",
    "import numpy as np\n",
    "import matplotlib.pyplot as plt\n",
    "from sklearn.model_selection import train_test_split\n",
    "\n",
    "import tensorflow as tf\n",
    "\n",
    "BASE_PATH = os.path.join(os.getcwd(), \"..\", \"..\")\n",
    "MODULE_PATH = os.path.join(BASE_PATH, \"modules\")\n",
    "DATASETS_PATH = os.path.join(BASE_PATH, \"datasets\")\n",
    "\n",
    "sys.path.append(MODULE_PATH)\n",
    "\n",
    "from active_learning import TrainConfig\n",
    "from data import BenchmarkData, DataSetType\n",
    "from models import setup_growth, default_model\n",
    "from bayesian import BayesModel, McDropout, MomentPropagation\n",
    "\n",
    "import mp.MomentPropagation as mp"
   ]
  },
  {
   "cell_type": "code",
   "execution_count": 3,
   "id": "9ce45aa7",
   "metadata": {},
   "outputs": [
    {
     "name": "stdout",
     "output_type": "stream",
     "text": [
      "1 Physical GPU's,  1 Logical GPU's\n"
     ]
    }
   ],
   "source": [
    "setup_growth()"
   ]
  },
  {
   "cell_type": "code",
   "execution_count": 4,
   "id": "c24abf7c",
   "metadata": {},
   "outputs": [],
   "source": [
    "benchmark = BenchmarkData(DataSetType.MNIST, os.path.join(DATASETS_PATH, \"mnist\"), classes=2)"
   ]
  },
  {
   "cell_type": "code",
   "execution_count": 5,
   "id": "37115d4f",
   "metadata": {},
   "outputs": [],
   "source": [
    "x_train, x_test, y_train, y_test = train_test_split(benchmark.inputs, benchmark.targets)"
   ]
  },
  {
   "cell_type": "code",
   "execution_count": 6,
   "id": "aa04a68e",
   "metadata": {},
   "outputs": [
    {
     "name": "stdout",
     "output_type": "stream",
     "text": [
      "Datapoints: 14780\n",
      "Unique labels: [0 1]\n"
     ]
    }
   ],
   "source": [
    "print(\"Datapoints: {}\".format(len(benchmark.targets)))\n",
    "print(\"Unique labels: {}\".format(np.unique(benchmark.targets)))"
   ]
  },
  {
   "cell_type": "code",
   "execution_count": 7,
   "id": "5db9c0a4",
   "metadata": {},
   "outputs": [],
   "source": [
    "model = default_model()\n",
    "model.compile(optimizer=\"adam\", loss=\"binary_crossentropy\", metrics=[\"binary_accuracy\"])"
   ]
  },
  {
   "cell_type": "code",
   "execution_count": 8,
   "id": "5bd0379b",
   "metadata": {},
   "outputs": [
    {
     "name": "stdout",
     "output_type": "stream",
     "text": [
      "116/116 [==============================] - 3s 22ms/step - loss: 3.3832 - binary_accuracy: 0.4612\n"
     ]
    },
    {
     "data": {
      "text/plain": [
       "[3.3832244873046875, 0.461163729429245]"
      ]
     },
     "execution_count": 8,
     "metadata": {},
     "output_type": "execute_result"
    }
   ],
   "source": [
    "model.evaluate(x_test, y_test)"
   ]
  },
  {
   "cell_type": "markdown",
   "id": "945700d5",
   "metadata": {},
   "source": [
    "# Model Debug"
   ]
  },
  {
   "cell_type": "code",
   "execution_count": 13,
   "id": "7532eb8d",
   "metadata": {},
   "outputs": [],
   "source": [
    "dp_model = BayesModel(model, TrainConfig())\n",
    "#dp_model.fit(x_train, y_train, epochs=20, batch_size=60)"
   ]
  },
  {
   "cell_type": "code",
   "execution_count": 14,
   "id": "ffd86a12",
   "metadata": {},
   "outputs": [
    {
     "name": "stdout",
     "output_type": "stream",
     "text": [
      "116/116 [==============================] - 0s 2ms/step - loss: 3.3832 - binary_accuracy: 0.4612\n"
     ]
    },
    {
     "data": {
      "text/plain": [
       "[3.3832244873046875, 0.461163729429245]"
      ]
     },
     "execution_count": 14,
     "metadata": {},
     "output_type": "execute_result"
    }
   ],
   "source": [
    "dp_model.get_model().evaluate(x_test, y_test)"
   ]
  },
  {
   "cell_type": "code",
   "execution_count": 15,
   "id": "f22d4ec6",
   "metadata": {},
   "outputs": [
    {
     "data": {
      "text/plain": [
       "[3.0234593484615537, 0.4638700947225981]"
      ]
     },
     "execution_count": 15,
     "metadata": {},
     "output_type": "execute_result"
    }
   ],
   "source": [
    "%autoreload 2\n",
    "mp_model = MomentPropagation(dp_model.get_model())\n",
    "mp_model.compile(optimizer=\"adam\", loss=\"binary_crossentropy\", metrics=[\"binary_accuracy\"])\n",
    "mp_model.evaluate(x_test, y_test, batch_size=60)"
   ]
  },
  {
   "cell_type": "code",
   "execution_count": 16,
   "id": "1b9027b9",
   "metadata": {},
   "outputs": [
    {
     "name": "stdout",
     "output_type": "stream",
     "text": [
      "Epoch 1/5\n",
      "1/1 [==============================] - 0s 1ms/step - loss: 0.9502 - binary_accuracy: 0.9000\n",
      "Epoch 2/5\n",
      "1/1 [==============================] - 0s 1ms/step - loss: 4.6082 - binary_accuracy: 0.4000\n",
      "Epoch 3/5\n",
      "1/1 [==============================] - 0s 829us/step - loss: 7.2507 - binary_accuracy: 0.8000\n",
      "Epoch 4/5\n",
      "1/1 [==============================] - 0s 655us/step - loss: 2.3428 - binary_accuracy: 0.9000\n",
      "Epoch 5/5\n",
      "1/1 [==============================] - 0s 771us/step - loss: 5.0968e-11 - binary_accuracy: 1.0000\n",
      "116/116 [==============================] - 0s 2ms/step - loss: 0.1644 - binary_accuracy: 0.9873\n"
     ]
    },
    {
     "data": {
      "text/plain": [
       "[0.16437587141990662, 0.9872801303863525]"
      ]
     },
     "execution_count": 16,
     "metadata": {},
     "output_type": "execute_result"
    }
   ],
   "source": [
    "dp_model.fit(x_train[:10], y_train[:10], batch_size=10, epochs=5)\n",
    "dp_model.evaluate(x_test, y_test)"
   ]
  },
  {
   "cell_type": "code",
   "execution_count": 17,
   "id": "40e2408e",
   "metadata": {},
   "outputs": [
    {
     "data": {
      "text/plain": [
       "[7.570039925779771, 0.4638700947225981]"
      ]
     },
     "execution_count": 17,
     "metadata": {},
     "output_type": "execute_result"
    }
   ],
   "source": [
    "mp_model = MomentPropagation(dp_model.get_model())\n",
    "mp_model.compile(optimizer=\"adam\", loss=\"binary_crossentropy\", metrics=[\"binary_accuracy\"])\n",
    "mp_model.evaluate(x_test, y_test, batch_size=60)"
   ]
  },
  {
   "cell_type": "code",
   "execution_count": 18,
   "id": "04ee3aa6",
   "metadata": {},
   "outputs": [
    {
     "name": "stdout",
     "output_type": "stream",
     "text": [
      "116/116 [==============================] - 0s 2ms/step - loss: 0.1644 - binary_accuracy: 0.9873\n"
     ]
    },
    {
     "data": {
      "text/plain": [
       "[0.16437587141990662, 0.9872801303863525]"
      ]
     },
     "execution_count": 18,
     "metadata": {},
     "output_type": "execute_result"
    }
   ],
   "source": [
    "dp_model.evaluate(x_test, y_test)"
   ]
  },
  {
   "cell_type": "code",
   "execution_count": null,
   "id": "936ab155",
   "metadata": {},
   "outputs": [],
   "source": []
  }
 ],
 "metadata": {
  "kernelspec": {
   "display_name": "Python 3",
   "language": "python",
   "name": "python3"
  },
  "language_info": {
   "codemirror_mode": {
    "name": "ipython",
    "version": 3
   },
   "file_extension": ".py",
   "mimetype": "text/x-python",
   "name": "python",
   "nbconvert_exporter": "python",
   "pygments_lexer": "ipython3",
   "version": "3.8.8"
  }
 },
 "nbformat": 4,
 "nbformat_minor": 5
}
