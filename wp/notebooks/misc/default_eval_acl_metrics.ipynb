{
 "cells": [
  {
   "cell_type": "markdown",
   "id": "b33f7e24",
   "metadata": {},
   "source": [
    "## Compare active leanring metrics of model"
   ]
  },
  {
   "cell_type": "code",
   "execution_count": 1,
   "id": "f552d241",
   "metadata": {},
   "outputs": [],
   "source": [
    "%load_ext autoreload"
   ]
  },
  {
   "cell_type": "code",
   "execution_count": 3,
   "id": "5a709e50",
   "metadata": {},
   "outputs": [],
   "source": [
    "import os, sys, importlib\n",
    "\n",
    "import numpy as np\n",
    "import pandas as pd\n",
    "import matplotlib.pyplot as plt\n",
    "\n",
    "BASE_PATH = os.path.join(os.getcwd(), \"..\", \"..\")\n",
    "MODULE_PATH = os.path.join(BASE_PATH, \"modules\")\n",
    "DATASET_PATH = os.path.join(BASE_PATH, \"datasets\")\n",
    "\n",
    "sys.path.append(MODULE_PATH)"
   ]
  },
  {
   "cell_type": "code",
   "execution_count": 4,
   "id": "1ea81b51",
   "metadata": {},
   "outputs": [
    {
     "data": {
      "text/plain": [
       "['mp_max_entropy.csv', 'dp_max_entropy.csv']"
      ]
     },
     "execution_count": 4,
     "metadata": {},
     "output_type": "execute_result"
    }
   ],
   "source": [
    "METRICS_DIR = os.path.join(BASE_PATH, \"metrics\")\n",
    "os.listdir(METRICS_DIR)"
   ]
  },
  {
   "cell_type": "code",
   "execution_count": 10,
   "id": "359ee7d7",
   "metadata": {},
   "outputs": [],
   "source": [
    "# Read max entropy metric files for moment propagation and mc dropout\n",
    "mp_ment = pd.read_csv(os.path.join(METRICS_DIR, \"mp_max_entropy.csv\"), delimiter=\" \")\n",
    "dp_ment = pd.read_csv(os.path.join(METRICS_DIR, \"dp_max_entropy.csv\"), delimiter=\" \")"
   ]
  },
  {
   "cell_type": "code",
   "execution_count": 11,
   "id": "544890d2",
   "metadata": {},
   "outputs": [
    {
     "data": {
      "text/html": [
       "<div>\n",
       "<style scoped>\n",
       "    .dataframe tbody tr th:only-of-type {\n",
       "        vertical-align: middle;\n",
       "    }\n",
       "\n",
       "    .dataframe tbody tr th {\n",
       "        vertical-align: top;\n",
       "    }\n",
       "\n",
       "    .dataframe thead th {\n",
       "        text-align: right;\n",
       "    }\n",
       "</style>\n",
       "<table border=\"1\" class=\"dataframe\">\n",
       "  <thead>\n",
       "    <tr style=\"text-align: right;\">\n",
       "      <th></th>\n",
       "      <th>iteration</th>\n",
       "      <th>train_time</th>\n",
       "      <th>query_time</th>\n",
       "      <th>loss</th>\n",
       "      <th>tf_op_layer_Sigmoid_1_loss</th>\n",
       "      <th>tf_op_layer_Mul_8_loss</th>\n",
       "      <th>tf_op_layer_Sigmoid_1_binary_accuracy</th>\n",
       "      <th>tf_op_layer_Mul_8_binary_accuracy</th>\n",
       "    </tr>\n",
       "  </thead>\n",
       "  <tbody>\n",
       "    <tr>\n",
       "      <th>0</th>\n",
       "      <td>0</td>\n",
       "      <td>3.934485</td>\n",
       "      <td>7.409302</td>\n",
       "      <td>5.105153</td>\n",
       "      <td>0.690531</td>\n",
       "      <td>4.414621</td>\n",
       "      <td>0.685792</td>\n",
       "      <td>0.471177</td>\n",
       "    </tr>\n",
       "    <tr>\n",
       "      <th>1</th>\n",
       "      <td>40</td>\n",
       "      <td>3.315286</td>\n",
       "      <td>1.035045</td>\n",
       "      <td>5.105153</td>\n",
       "      <td>0.690531</td>\n",
       "      <td>4.414621</td>\n",
       "      <td>0.685792</td>\n",
       "      <td>0.471177</td>\n",
       "    </tr>\n",
       "    <tr>\n",
       "      <th>2</th>\n",
       "      <td>80</td>\n",
       "      <td>0.894000</td>\n",
       "      <td>1.014391</td>\n",
       "      <td>5.105153</td>\n",
       "      <td>0.690531</td>\n",
       "      <td>4.414621</td>\n",
       "      <td>0.685792</td>\n",
       "      <td>0.471177</td>\n",
       "    </tr>\n",
       "    <tr>\n",
       "      <th>3</th>\n",
       "      <td>120</td>\n",
       "      <td>0.758107</td>\n",
       "      <td>0.995816</td>\n",
       "      <td>5.105153</td>\n",
       "      <td>0.690531</td>\n",
       "      <td>4.414621</td>\n",
       "      <td>0.685792</td>\n",
       "      <td>0.471177</td>\n",
       "    </tr>\n",
       "    <tr>\n",
       "      <th>4</th>\n",
       "      <td>160</td>\n",
       "      <td>0.793534</td>\n",
       "      <td>0.937821</td>\n",
       "      <td>5.105153</td>\n",
       "      <td>0.690531</td>\n",
       "      <td>4.414621</td>\n",
       "      <td>0.685792</td>\n",
       "      <td>0.471177</td>\n",
       "    </tr>\n",
       "  </tbody>\n",
       "</table>\n",
       "</div>"
      ],
      "text/plain": [
       "   iteration  train_time  query_time      loss  tf_op_layer_Sigmoid_1_loss  \\\n",
       "0          0    3.934485    7.409302  5.105153                    0.690531   \n",
       "1         40    3.315286    1.035045  5.105153                    0.690531   \n",
       "2         80    0.894000    1.014391  5.105153                    0.690531   \n",
       "3        120    0.758107    0.995816  5.105153                    0.690531   \n",
       "4        160    0.793534    0.937821  5.105153                    0.690531   \n",
       "\n",
       "   tf_op_layer_Mul_8_loss  tf_op_layer_Sigmoid_1_binary_accuracy  \\\n",
       "0                4.414621                               0.685792   \n",
       "1                4.414621                               0.685792   \n",
       "2                4.414621                               0.685792   \n",
       "3                4.414621                               0.685792   \n",
       "4                4.414621                               0.685792   \n",
       "\n",
       "   tf_op_layer_Mul_8_binary_accuracy  \n",
       "0                           0.471177  \n",
       "1                           0.471177  \n",
       "2                           0.471177  \n",
       "3                           0.471177  \n",
       "4                           0.471177  "
      ]
     },
     "execution_count": 11,
     "metadata": {},
     "output_type": "execute_result"
    }
   ],
   "source": [
    "mp_ment.head()"
   ]
  },
  {
   "cell_type": "code",
   "execution_count": 12,
   "id": "84ac60c9",
   "metadata": {},
   "outputs": [
    {
     "data": {
      "text/html": [
       "<div>\n",
       "<style scoped>\n",
       "    .dataframe tbody tr th:only-of-type {\n",
       "        vertical-align: middle;\n",
       "    }\n",
       "\n",
       "    .dataframe tbody tr th {\n",
       "        vertical-align: top;\n",
       "    }\n",
       "\n",
       "    .dataframe thead th {\n",
       "        text-align: right;\n",
       "    }\n",
       "</style>\n",
       "<table border=\"1\" class=\"dataframe\">\n",
       "  <thead>\n",
       "    <tr style=\"text-align: right;\">\n",
       "      <th></th>\n",
       "      <th>iteration</th>\n",
       "      <th>train_time</th>\n",
       "      <th>query_time</th>\n",
       "      <th>loss</th>\n",
       "      <th>binary_accuracy</th>\n",
       "    </tr>\n",
       "  </thead>\n",
       "  <tbody>\n",
       "    <tr>\n",
       "      <th>0</th>\n",
       "      <td>0</td>\n",
       "      <td>6.563546</td>\n",
       "      <td>6.069463</td>\n",
       "      <td>7.338852</td>\n",
       "      <td>0.475778</td>\n",
       "    </tr>\n",
       "    <tr>\n",
       "      <th>1</th>\n",
       "      <td>40</td>\n",
       "      <td>5.358296</td>\n",
       "      <td>1.276976</td>\n",
       "      <td>7.338852</td>\n",
       "      <td>0.475778</td>\n",
       "    </tr>\n",
       "    <tr>\n",
       "      <th>2</th>\n",
       "      <td>80</td>\n",
       "      <td>0.481467</td>\n",
       "      <td>1.262462</td>\n",
       "      <td>7.338852</td>\n",
       "      <td>0.475778</td>\n",
       "    </tr>\n",
       "    <tr>\n",
       "      <th>3</th>\n",
       "      <td>120</td>\n",
       "      <td>0.474942</td>\n",
       "      <td>1.259934</td>\n",
       "      <td>7.338852</td>\n",
       "      <td>0.475778</td>\n",
       "    </tr>\n",
       "    <tr>\n",
       "      <th>4</th>\n",
       "      <td>160</td>\n",
       "      <td>0.465928</td>\n",
       "      <td>1.255418</td>\n",
       "      <td>7.338852</td>\n",
       "      <td>0.475778</td>\n",
       "    </tr>\n",
       "  </tbody>\n",
       "</table>\n",
       "</div>"
      ],
      "text/plain": [
       "   iteration  train_time  query_time      loss  binary_accuracy\n",
       "0          0    6.563546    6.069463  7.338852         0.475778\n",
       "1         40    5.358296    1.276976  7.338852         0.475778\n",
       "2         80    0.481467    1.262462  7.338852         0.475778\n",
       "3        120    0.474942    1.259934  7.338852         0.475778\n",
       "4        160    0.465928    1.255418  7.338852         0.475778"
      ]
     },
     "execution_count": 12,
     "metadata": {},
     "output_type": "execute_result"
    }
   ],
   "source": [
    "dp_ment.head()"
   ]
  },
  {
   "cell_type": "code",
   "execution_count": 13,
   "id": "fea63362",
   "metadata": {},
   "outputs": [
    {
     "data": {
      "text/plain": [
       "[<matplotlib.lines.Line2D at 0x7f22430bedc0>]"
      ]
     },
     "execution_count": 13,
     "metadata": {},
     "output_type": "execute_result"
    },
    {
     "data": {
      "image/png": "[encoded data removed]",
      "text/plain": [
       "<Figure size 432x288 with 1 Axes>"
      ]
     },
     "metadata": {
      "needs_background": "light"
     },
     "output_type": "display_data"
    }
   ],
   "source": [
    "plt.plot(dp_ment[\"iteration\"], dp_ment[\"binary_accuracy\"])"
   ]
  },
  {
   "cell_type": "code",
   "execution_count": null,
   "id": "716cd704",
   "metadata": {},
   "outputs": [],
   "source": []
  },
  {
   "cell_type": "code",
   "execution_count": null,
   "id": "859e9aa6",
   "metadata": {},
   "outputs": [],
   "source": []
  },
  {
   "cell_type": "code",
   "execution_count": null,
   "id": "46ece02d",
   "metadata": {},
   "outputs": [],
   "source": []
  },
  {
   "cell_type": "code",
   "execution_count": null,
   "id": "710bf5f9",
   "metadata": {},
   "outputs": [],
   "source": []
  },
  {
   "cell_type": "code",
   "execution_count": null,
   "id": "5238506b",
   "metadata": {},
   "outputs": [],
   "source": []
  },
  {
   "cell_type": "code",
   "execution_count": null,
   "id": "f71439fd",
   "metadata": {},
   "outputs": [],
   "source": []
  }
 ],
 "metadata": {
  "kernelspec": {
   "display_name": "Python 3",
   "language": "python",
   "name": "python3"
  },
  "language_info": {
   "codemirror_mode": {
    "name": "ipython",
    "version": 3
   },
   "file_extension": ".py",
   "mimetype": "text/x-python",
   "name": "python",
   "nbconvert_exporter": "python",
   "pygments_lexer": "ipython3",
   "version": "3.8.8"
  }
 },
 "nbformat": 4,
 "nbformat_minor": 5
}
