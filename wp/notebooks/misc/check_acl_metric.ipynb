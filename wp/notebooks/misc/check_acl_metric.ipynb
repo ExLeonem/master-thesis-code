{
 "cells": [
  {
   "cell_type": "markdown",
   "id": "8fa178ea",
   "metadata": {},
   "source": [
    "# Check uncertainty estimates\n"
   ]
  },
  {
   "cell_type": "markdown",
   "id": "936bb610",
   "metadata": {},
   "source": [
    "[can't start cudnn algorithm](https://stackoverflow.com/questions/53698035/failed-to-get-convolution-algorithm-this-is-probably-because-cudnn-failed-to-in)"
   ]
  },
  {
   "cell_type": "code",
   "execution_count": 1,
   "id": "c4277dca",
   "metadata": {},
   "outputs": [],
   "source": [
    "# Extensions\n",
    "%load_ext autoreload "
   ]
  },
  {
   "cell_type": "code",
   "execution_count": 33,
   "id": "edcbb93d",
   "metadata": {},
   "outputs": [],
   "source": [
    "import os, sys, importlib\n",
    "\n",
    "import pandas as pd\n",
    "import numpy as np\n",
    "import matplotlib.pyplot as plt\n",
    "import tensorflow as tf\n",
    "\n",
    "import seaborn as sns\n",
    "from sklearn.model_selection import train_test_split\n",
    "\n",
    "\n",
    "BASE_PATH = os.path.join(os.getcwd(), \"..\", \"..\")\n",
    "MODULE_PATH = os.path.join(BASE_PATH, \"modules\")\n",
    "DATASET_PATH = os.path.join(BASE_PATH, \"datasets\")\n",
    "\n",
    "sys.path.append(MODULE_PATH)\n",
    "\n",
    "from bayesian import McDropout, MomentPropagation\n",
    "import data.mnist as mnist_loader\n",
    "\n",
    "from data import BenchmarkData, DataSetType\n",
    "import mp.MomentPropagation as mp\n",
    "\n",
    "from models.default import default_model\n",
    "from models.tf_growth import setup_growth"
   ]
  },
  {
   "cell_type": "markdown",
   "id": "a526a830",
   "metadata": {},
   "source": [
    "## Prepare Data"
   ]
  },
  {
   "cell_type": "code",
   "execution_count": 3,
   "id": "73f8908e",
   "metadata": {},
   "outputs": [],
   "source": [
    "benchmark_data = BenchmarkData(DataSetType.MNIST, os.path.join(DATASET_PATH, \"mnist\"), classes=2)"
   ]
  },
  {
   "cell_type": "code",
   "execution_count": 4,
   "id": "01dee3eb",
   "metadata": {},
   "outputs": [
    {
     "data": {
      "text/plain": [
       "array([0, 1, 1, 1, 1, 0, 1, 1, 0, 0], dtype=uint8)"
      ]
     },
     "execution_count": 4,
     "metadata": {},
     "output_type": "execute_result"
    }
   ],
   "source": [
    "benchmark_data.targets[:10]"
   ]
  },
  {
   "cell_type": "code",
   "execution_count": 5,
   "id": "37bd8808",
   "metadata": {},
   "outputs": [],
   "source": [
    "x_train, x_test, y_train, y_test = train_test_split(benchmark_data.inputs, benchmark_data.targets)"
   ]
  },
  {
   "cell_type": "code",
   "execution_count": 6,
   "id": "f0e00429",
   "metadata": {},
   "outputs": [
    {
     "name": "stdout",
     "output_type": "stream",
     "text": [
      "train_labels: \n",
      "Label-0: 5208\n",
      "Label-1: 5877\n",
      "-------------\n",
      "train_labels: \n",
      "Label-0: 1695\n",
      "Label-1: 2000\n",
      "-------------\n"
     ]
    }
   ],
   "source": [
    "unique_classes = np.unique(benchmark_data.targets)\n",
    "\n",
    "def print_label_count(targets, unique_labels, prefix=\"train\"):\n",
    "    print(prefix + \"_labels: \")\n",
    "    \n",
    "    for label in unique_labels:\n",
    "        count = (targets==label).sum()\n",
    "        print(\"Label-{}: {}\".format(label, count))\n",
    "    \n",
    "    print(\"-------------\")\n",
    "\n",
    "print_label_count(y_train, unique_classes)\n",
    "print_label_count(y_test, unique_classes)"
   ]
  },
  {
   "cell_type": "markdown",
   "id": "b84d3509",
   "metadata": {},
   "source": [
    "## Train and build models"
   ]
  },
  {
   "cell_type": "code",
   "execution_count": 7,
   "id": "963ad1b9",
   "metadata": {},
   "outputs": [],
   "source": [
    "tf.random.set_seed(4)"
   ]
  },
  {
   "cell_type": "code",
   "execution_count": 8,
   "id": "7007e2f0",
   "metadata": {},
   "outputs": [
    {
     "name": "stdout",
     "output_type": "stream",
     "text": [
      "1 Physical GPU's,  1 Logical GPU's\n"
     ]
    }
   ],
   "source": [
    "setup_growth()"
   ]
  },
  {
   "cell_type": "code",
   "execution_count": 9,
   "id": "cfd8b060",
   "metadata": {},
   "outputs": [],
   "source": [
    "model = default_model()\n",
    "model.compile(optimizer=\"adam\", loss=\"binary_crossentropy\", metrics=[\"binary_accuracy\"])"
   ]
  },
  {
   "cell_type": "code",
   "execution_count": 10,
   "id": "a50391a7",
   "metadata": {},
   "outputs": [
    {
     "name": "stdout",
     "output_type": "stream",
     "text": [
      "Epoch 1/100\n",
      "347/347 [==============================] - 6s 18ms/step - loss: 0.1469 - binary_accuracy: 0.9905\n",
      "Epoch 2/100\n",
      "347/347 [==============================] - 1s 4ms/step - loss: 0.0117 - binary_accuracy: 0.9978\n",
      "Epoch 3/100\n",
      "347/347 [==============================] - 1s 4ms/step - loss: 0.0092 - binary_accuracy: 0.9981\n",
      "Epoch 4/100\n",
      "347/347 [==============================] - 1s 4ms/step - loss: 0.0093 - binary_accuracy: 0.9985\n",
      "Epoch 5/100\n",
      "347/347 [==============================] - 1s 4ms/step - loss: 0.0068 - binary_accuracy: 0.9987\n",
      "Epoch 6/100\n",
      "347/347 [==============================] - 1s 4ms/step - loss: 0.0036 - binary_accuracy: 0.9993\n",
      "Epoch 7/100\n",
      "347/347 [==============================] - 1s 4ms/step - loss: 0.0041 - binary_accuracy: 0.9990\n",
      "Epoch 8/100\n",
      "347/347 [==============================] - 1s 4ms/step - loss: 0.0022 - binary_accuracy: 0.9993\n",
      "Epoch 9/100\n",
      "347/347 [==============================] - 1s 4ms/step - loss: 3.3493e-05 - binary_accuracy: 1.0000\n",
      "Epoch 10/100\n",
      "347/347 [==============================] - 1s 4ms/step - loss: 2.8596e-05 - binary_accuracy: 1.0000\n",
      "Epoch 11/100\n",
      "347/347 [==============================] - 1s 4ms/step - loss: 0.0265 - binary_accuracy: 0.9981\n",
      "Epoch 12/100\n",
      "347/347 [==============================] - 1s 4ms/step - loss: 0.0206 - binary_accuracy: 0.9984\n",
      "Epoch 13/100\n",
      "347/347 [==============================] - 1s 4ms/step - loss: 0.0069 - binary_accuracy: 0.9993\n",
      "Epoch 14/100\n",
      "347/347 [==============================] - 1s 4ms/step - loss: 1.6516e-04 - binary_accuracy: 0.9999\n",
      "Epoch 15/100\n",
      "347/347 [==============================] - 1s 4ms/step - loss: 0.0051 - binary_accuracy: 0.9991\n",
      "Epoch 16/100\n",
      "347/347 [==============================] - 1s 4ms/step - loss: 0.0027 - binary_accuracy: 0.9993\n",
      "Epoch 17/100\n",
      "347/347 [==============================] - 1s 4ms/step - loss: 0.0019 - binary_accuracy: 0.9998\n",
      "Epoch 18/100\n",
      "347/347 [==============================] - 1s 4ms/step - loss: 0.0130 - binary_accuracy: 0.9986\n",
      "Epoch 19/100\n",
      "347/347 [==============================] - 1s 4ms/step - loss: 0.0079 - binary_accuracy: 0.9993\n",
      "Epoch 20/100\n",
      "347/347 [==============================] - 1s 4ms/step - loss: 0.0037 - binary_accuracy: 0.9995\n",
      "Epoch 21/100\n",
      "347/347 [==============================] - 1s 4ms/step - loss: 0.0041 - binary_accuracy: 0.9997\n",
      "Epoch 22/100\n",
      "347/347 [==============================] - 1s 4ms/step - loss: 0.0014 - binary_accuracy: 0.9995\n",
      "Epoch 23/100\n",
      "347/347 [==============================] - 1s 4ms/step - loss: 0.0113 - binary_accuracy: 0.9995\n",
      "Epoch 24/100\n",
      "347/347 [==============================] - 1s 4ms/step - loss: 3.2739e-04 - binary_accuracy: 0.9999\n",
      "Epoch 25/100\n",
      "347/347 [==============================] - 1s 4ms/step - loss: 0.0015 - binary_accuracy: 0.9995\n",
      "Epoch 26/100\n",
      "347/347 [==============================] - 1s 4ms/step - loss: 1.3056e-04 - binary_accuracy: 1.0000\n",
      "Epoch 27/100\n",
      "347/347 [==============================] - 1s 4ms/step - loss: 0.0013 - binary_accuracy: 0.9995\n",
      "Epoch 28/100\n",
      "347/347 [==============================] - 1s 4ms/step - loss: 1.0406e-04 - binary_accuracy: 0.9999\n",
      "Epoch 29/100\n",
      "347/347 [==============================] - 1s 4ms/step - loss: 0.0015 - binary_accuracy: 0.9998\n",
      "Epoch 30/100\n",
      "347/347 [==============================] - 1s 4ms/step - loss: 2.2728e-06 - binary_accuracy: 1.0000\n",
      "Epoch 31/100\n",
      "347/347 [==============================] - 1s 4ms/step - loss: 0.0042 - binary_accuracy: 0.9991\n",
      "Epoch 32/100\n",
      "347/347 [==============================] - 1s 4ms/step - loss: 0.0089 - binary_accuracy: 0.9996\n",
      "Epoch 33/100\n",
      "347/347 [==============================] - 1s 4ms/step - loss: 1.8143e-05 - binary_accuracy: 1.0000\n",
      "Epoch 34/100\n",
      "347/347 [==============================] - 1s 4ms/step - loss: 0.0062 - binary_accuracy: 0.9996\n",
      "Epoch 35/100\n",
      "347/347 [==============================] - 1s 4ms/step - loss: 0.0041 - binary_accuracy: 0.9993\n",
      "Epoch 36/100\n",
      "347/347 [==============================] - 1s 4ms/step - loss: 0.0024 - binary_accuracy: 0.9998\n",
      "Epoch 37/100\n",
      "347/347 [==============================] - 1s 4ms/step - loss: 0.0027 - binary_accuracy: 0.9996\n",
      "Epoch 38/100\n",
      "347/347 [==============================] - 1s 4ms/step - loss: 0.0020 - binary_accuracy: 0.9996\n",
      "Epoch 39/100\n",
      "347/347 [==============================] - 1s 4ms/step - loss: 1.5328e-05 - binary_accuracy: 1.0000\n",
      "Epoch 40/100\n",
      "347/347 [==============================] - 1s 4ms/step - loss: 3.1339e-06 - binary_accuracy: 1.0000\n",
      "Epoch 41/100\n",
      "347/347 [==============================] - 1s 4ms/step - loss: 1.8799e-04 - binary_accuracy: 0.9999\n",
      "Epoch 42/100\n",
      "347/347 [==============================] - 1s 4ms/step - loss: 5.8015e-08 - binary_accuracy: 1.0000\n",
      "Epoch 43/100\n",
      "347/347 [==============================] - 1s 4ms/step - loss: 0.0012 - binary_accuracy: 0.9997\n",
      "Epoch 44/100\n",
      "347/347 [==============================] - 1s 4ms/step - loss: 0.0139 - binary_accuracy: 0.9995\n",
      "Epoch 45/100\n",
      "347/347 [==============================] - 1s 4ms/step - loss: 6.9591e-05 - binary_accuracy: 0.9999\n",
      "Epoch 46/100\n",
      "347/347 [==============================] - 1s 4ms/step - loss: 0.0039 - binary_accuracy: 0.9998\n",
      "Epoch 47/100\n",
      "347/347 [==============================] - 1s 4ms/step - loss: 0.0021 - binary_accuracy: 0.9997\n",
      "Epoch 48/100\n",
      "347/347 [==============================] - 1s 4ms/step - loss: 2.3444e-05 - binary_accuracy: 1.0000\n",
      "Epoch 49/100\n",
      "347/347 [==============================] - 1s 4ms/step - loss: 1.2085e-11 - binary_accuracy: 1.0000\n",
      "Epoch 50/100\n",
      "347/347 [==============================] - 1s 4ms/step - loss: 8.6821e-06 - binary_accuracy: 1.0000\n",
      "Epoch 51/100\n",
      "347/347 [==============================] - 1s 4ms/step - loss: 0.0025 - binary_accuracy: 0.9998\n",
      "Epoch 52/100\n",
      "347/347 [==============================] - 1s 4ms/step - loss: 3.1976e-04 - binary_accuracy: 0.9999\n",
      "Epoch 53/100\n",
      "347/347 [==============================] - 1s 4ms/step - loss: 1.0332e-14 - binary_accuracy: 1.0000\n",
      "Epoch 54/100\n",
      "347/347 [==============================] - 1s 4ms/step - loss: 6.3376e-08 - binary_accuracy: 1.0000\n",
      "Epoch 55/100\n",
      "347/347 [==============================] - 1s 4ms/step - loss: 6.8900e-05 - binary_accuracy: 0.9999\n",
      "Epoch 56/100\n",
      "347/347 [==============================] - 1s 4ms/step - loss: 2.5792e-13 - binary_accuracy: 1.0000\n",
      "Epoch 57/100\n",
      "347/347 [==============================] - 1s 4ms/step - loss: 1.0847e-10 - binary_accuracy: 1.0000\n",
      "Epoch 58/100\n",
      "347/347 [==============================] - 1s 4ms/step - loss: 3.3771e-09 - binary_accuracy: 1.0000\n",
      "Epoch 59/100\n",
      "347/347 [==============================] - 1s 4ms/step - loss: 2.0291e-08 - binary_accuracy: 1.0000\n",
      "Epoch 60/100\n",
      "347/347 [==============================] - 1s 4ms/step - loss: 6.6510e-13 - binary_accuracy: 1.0000\n",
      "Epoch 61/100\n",
      "347/347 [==============================] - 1s 4ms/step - loss: 0.0259 - binary_accuracy: 0.9994\n",
      "Epoch 62/100\n",
      "347/347 [==============================] - 1s 4ms/step - loss: 0.0133 - binary_accuracy: 0.9995\n",
      "Epoch 63/100\n",
      "347/347 [==============================] - 1s 4ms/step - loss: 8.6553e-05 - binary_accuracy: 0.9999\n",
      "Epoch 64/100\n",
      "347/347 [==============================] - 1s 4ms/step - loss: 3.8022e-04 - binary_accuracy: 0.9999\n",
      "Epoch 65/100\n",
      "347/347 [==============================] - 1s 4ms/step - loss: 0.0190 - binary_accuracy: 0.9994\n",
      "Epoch 66/100\n",
      "347/347 [==============================] - 1s 4ms/step - loss: 3.9976e-04 - binary_accuracy: 0.9999\n",
      "Epoch 67/100\n",
      "347/347 [==============================] - 1s 4ms/step - loss: 0.0021 - binary_accuracy: 0.9997\n",
      "Epoch 68/100\n",
      "347/347 [==============================] - 1s 4ms/step - loss: 0.0010 - binary_accuracy: 0.9999\n",
      "Epoch 69/100\n",
      "347/347 [==============================] - 1s 4ms/step - loss: 8.9050e-05 - binary_accuracy: 0.9999\n",
      "Epoch 70/100\n",
      "347/347 [==============================] - 1s 4ms/step - loss: 7.1363e-06 - binary_accuracy: 1.0000\n",
      "Epoch 71/100\n",
      "347/347 [==============================] - 1s 4ms/step - loss: 0.0012 - binary_accuracy: 0.9998\n",
      "Epoch 72/100\n",
      "347/347 [==============================] - 1s 4ms/step - loss: 0.0011 - binary_accuracy: 0.9994\n",
      "Epoch 73/100\n",
      "347/347 [==============================] - 1s 4ms/step - loss: 0.0033 - binary_accuracy: 0.9992\n",
      "Epoch 74/100\n",
      "347/347 [==============================] - 1s 4ms/step - loss: 2.4341e-04 - binary_accuracy: 0.9998\n",
      "Epoch 75/100\n"
     ]
    },
    {
     "name": "stdout",
     "output_type": "stream",
     "text": [
      "347/347 [==============================] - 1s 4ms/step - loss: 0.0053 - binary_accuracy: 0.9995\n",
      "Epoch 76/100\n",
      "347/347 [==============================] - 1s 4ms/step - loss: 1.0389e-11 - binary_accuracy: 1.0000\n",
      "Epoch 77/100\n",
      "347/347 [==============================] - 1s 4ms/step - loss: 0.0153 - binary_accuracy: 0.9995\n",
      "Epoch 78/100\n",
      "347/347 [==============================] - 1s 4ms/step - loss: 0.0233 - binary_accuracy: 0.9981\n",
      "Epoch 79/100\n",
      "347/347 [==============================] - 1s 4ms/step - loss: 9.3625e-04 - binary_accuracy: 0.9996\n",
      "Epoch 80/100\n",
      "347/347 [==============================] - 1s 4ms/step - loss: 2.6305e-04 - binary_accuracy: 0.9999\n",
      "Epoch 81/100\n",
      "347/347 [==============================] - 1s 4ms/step - loss: 0.0541 - binary_accuracy: 0.9995\n",
      "Epoch 82/100\n",
      "347/347 [==============================] - 1s 4ms/step - loss: 0.0016 - binary_accuracy: 0.9996\n",
      "Epoch 83/100\n",
      "347/347 [==============================] - 1s 4ms/step - loss: 3.6019e-04 - binary_accuracy: 0.9996\n",
      "Epoch 84/100\n",
      "347/347 [==============================] - 1s 4ms/step - loss: 7.4341e-04 - binary_accuracy: 0.9998\n",
      "Epoch 85/100\n",
      "347/347 [==============================] - 1s 4ms/step - loss: 4.8144e-04 - binary_accuracy: 1.0000\n",
      "Epoch 86/100\n",
      "347/347 [==============================] - 1s 4ms/step - loss: 3.8603e-04 - binary_accuracy: 1.0000\n",
      "Epoch 87/100\n",
      "347/347 [==============================] - 1s 4ms/step - loss: 1.2636e-04 - binary_accuracy: 0.9999\n",
      "Epoch 88/100\n",
      "347/347 [==============================] - 1s 4ms/step - loss: 5.8481e-05 - binary_accuracy: 1.0000\n",
      "Epoch 89/100\n",
      "347/347 [==============================] - 1s 4ms/step - loss: 1.2555e-04 - binary_accuracy: 0.9999\n",
      "Epoch 90/100\n",
      "347/347 [==============================] - 1s 4ms/step - loss: 7.8574e-10 - binary_accuracy: 1.0000\n",
      "Epoch 91/100\n",
      "347/347 [==============================] - 1s 4ms/step - loss: 1.2126e-05 - binary_accuracy: 1.0000\n",
      "Epoch 92/100\n",
      "347/347 [==============================] - 1s 4ms/step - loss: 9.1551e-07 - binary_accuracy: 1.0000\n",
      "Epoch 93/100\n",
      "347/347 [==============================] - 1s 4ms/step - loss: 3.0565e-08 - binary_accuracy: 1.0000\n",
      "Epoch 94/100\n",
      "347/347 [==============================] - 1s 4ms/step - loss: 5.8292e-05 - binary_accuracy: 1.0000\n",
      "Epoch 95/100\n",
      "347/347 [==============================] - 1s 4ms/step - loss: 0.0037 - binary_accuracy: 0.9997\n",
      "Epoch 96/100\n",
      "347/347 [==============================] - 1s 4ms/step - loss: 0.0098 - binary_accuracy: 0.9998\n",
      "Epoch 97/100\n",
      "347/347 [==============================] - 1s 4ms/step - loss: 0.0030 - binary_accuracy: 0.9992\n",
      "Epoch 98/100\n",
      "347/347 [==============================] - 1s 4ms/step - loss: 8.6711e-04 - binary_accuracy: 0.9990\n",
      "Epoch 99/100\n",
      "347/347 [==============================] - 1s 4ms/step - loss: 5.0169e-04 - binary_accuracy: 0.9995\n",
      "Epoch 100/100\n",
      "347/347 [==============================] - 1s 4ms/step - loss: 6.5535e-05 - binary_accuracy: 0.9999\n"
     ]
    },
    {
     "data": {
      "text/plain": [
       "<tensorflow.python.keras.callbacks.History at 0x7fda80047a30>"
      ]
     },
     "execution_count": 10,
     "metadata": {},
     "output_type": "execute_result"
    }
   ],
   "source": [
    "model.fit(x_train, y_train, epochs=100)"
   ]
  },
  {
   "cell_type": "markdown",
   "id": "d7972ad0",
   "metadata": {},
   "source": [
    "## Evaluate performance"
   ]
  },
  {
   "cell_type": "code",
   "execution_count": 10,
   "id": "96f3180c",
   "metadata": {},
   "outputs": [
    {
     "name": "stdout",
     "output_type": "stream",
     "text": [
      "116/116 [==============================] - 3s 22ms/step - loss: 6.8099 - binary_accuracy: 0.4606\n"
     ]
    },
    {
     "data": {
      "text/plain": [
       "[6.809908390045166, 0.4606224596500397]"
      ]
     },
     "execution_count": 10,
     "metadata": {},
     "output_type": "execute_result"
    }
   ],
   "source": [
    "model.evaluate(x_test, y_test)"
   ]
  },
  {
   "cell_type": "code",
   "execution_count": 10,
   "id": "64cf77a8",
   "metadata": {},
   "outputs": [
    {
     "name": "stdout",
     "output_type": "stream",
     "text": [
      "Predicted label: [[0.00017951]]\n"
     ]
    },
    {
     "data": {
      "image/png": "[encoded data removed]",
      "text/plain": [
       "<Figure size 432x288 with 1 Axes>"
      ]
     },
     "metadata": {
      "needs_background": "light"
     },
     "output_type": "display_data"
    }
   ],
   "source": [
    "random_indx = np.random.choice(range(len(x_test)))\n",
    "\n",
    "test_img = x_test[random_indx]\n",
    "plt.imshow(test_img.reshape((28, 28)))\n",
    "\n",
    "prediction = model(np.expand_dims(test_img, axis=0))\n",
    "\n",
    "print(\"Predicted label: {}\".format(prediction))"
   ]
  },
  {
   "cell_type": "markdown",
   "id": "4bfc594d",
   "metadata": {},
   "source": [
    "## Compare regular models"
   ]
  },
  {
   "cell_type": "code",
   "execution_count": 11,
   "id": "63d0b02d",
   "metadata": {},
   "outputs": [
    {
     "data": {
      "text/plain": [
       "array([1, 1, 1, 1, 1, 1, 1, 0, 1, 0], dtype=uint8)"
      ]
     },
     "execution_count": 11,
     "metadata": {},
     "output_type": "execute_result"
    }
   ],
   "source": [
    "test_inputs = x_test[10:20]\n",
    "test_targets = y_test[10:20]\n",
    "\n",
    "test_targets"
   ]
  },
  {
   "cell_type": "code",
   "execution_count": 12,
   "id": "0acc506d",
   "metadata": {},
   "outputs": [],
   "source": [
    "def check_shapes(inputs, targets):\n",
    "    \n",
    "    # Add batch dimension if single element given as \n",
    "    new_inputs = inputs\n",
    "    if len(inputs.shape) == 3:\n",
    "        new_inputs = np.expand_dims(inputs, axis=0)\n",
    "        \n",
    "    new_targets = targets\n",
    "    if isinstance(test_targets, np.uint8):\n",
    "        new_targets = np.array([targets])\n",
    "    \n",
    "    return new_inputs, new_targets"
   ]
  },
  {
   "cell_type": "code",
   "execution_count": 13,
   "id": "9a48a0e0",
   "metadata": {},
   "outputs": [],
   "source": [
    "test_inputs, test_targets = check_shapes(test_inputs, test_targets)"
   ]
  },
  {
   "cell_type": "code",
   "execution_count": 14,
   "id": "355054ff",
   "metadata": {},
   "outputs": [],
   "source": [
    "model.compile(optimizer=\"adam\", loss=\"binary_crossentropy\", metrics=[\"binary_accuracy\"])\n",
    "mp_model = MomentPropagation(model)"
   ]
  },
  {
   "cell_type": "code",
   "execution_count": 15,
   "id": "1d3489b6",
   "metadata": {},
   "outputs": [
    {
     "data": {
      "text/plain": [
       "[<tf.Tensor: shape=(10, 1), dtype=float32, numpy=\n",
       " array([[7.89283004e-05],\n",
       "        [1.94939602e-07],\n",
       "        [6.12330157e-04],\n",
       "        [5.79393491e-05],\n",
       "        [6.45801338e-05],\n",
       "        [1.19924352e-05],\n",
       "        [2.42711599e-06],\n",
       "        [1.16127346e-07],\n",
       "        [1.13102456e-03],\n",
       "        [1.84205373e-09]], dtype=float32)>,\n",
       " <tf.Tensor: shape=(10, 1), dtype=float32, numpy=\n",
       " array([[3.25818849e-03],\n",
       "        [9.62930244e-06],\n",
       "        [1.58093981e-02],\n",
       "        [2.45260075e-03],\n",
       "        [3.06777260e-03],\n",
       "        [7.68493628e-04],\n",
       "        [1.20901575e-04],\n",
       "        [1.45117929e-05],\n",
       "        [4.24505062e-02],\n",
       "        [2.13192649e-07]], dtype=float32)>]"
      ]
     },
     "execution_count": 15,
     "metadata": {},
     "output_type": "execute_result"
    }
   ],
   "source": [
    "mp_result = mp_model.predict(test_inputs)\n",
    "mp_result"
   ]
  },
  {
   "cell_type": "code",
   "execution_count": 31,
   "id": "abf4508f",
   "metadata": {},
   "outputs": [
    {
     "data": {
      "text/plain": [
       "array([0.00603325, 0.01992328, 0.0020993 , 0.00665091, 0.01816636,\n",
       "       0.00780493, 0.00272621, 0.00085167, 0.01451689, 0.00626744])"
      ]
     },
     "execution_count": 31,
     "metadata": {},
     "output_type": "execute_result"
    }
   ],
   "source": [
    "dp_model = McDropout(model)\n",
    "dp_result = np.average(dp_model.predict(test_inputs, runs=50), axis=1)\n",
    "dp_result"
   ]
  },
  {
   "cell_type": "code",
   "execution_count": 47,
   "id": "b30e80e5",
   "metadata": {},
   "outputs": [
    {
     "data": {
      "image/png": "[encoded data removed]",
      "text/plain": [
       "<Figure size 432x288 with 1 Axes>"
      ]
     },
     "metadata": {
      "needs_background": "light"
     },
     "output_type": "display_data"
    }
   ],
   "source": [
    "all_res = dp_model.predict(test_inputs, runs=1000)\n",
    "sns.kdeplot(all_res[0], shade=True)\n",
    "plt.axvline(np.mean(all_res, axis=1)[0], color='red')\n",
    "plt.show()"
   ]
  },
  {
   "cell_type": "code",
   "execution_count": 17,
   "id": "e5811d46",
   "metadata": {},
   "outputs": [],
   "source": [
    "def bar_plot(first_values, second_values, metrics=(\"MP\", \"DP\"), ylabel=\"Max Entropy\"):\n",
    "    N = len(first_values)\n",
    "    width = 0.35\n",
    "    ind = np.arange(N)\n",
    "\n",
    "    fig = plt.figure()\n",
    "    ax = fig.add_subplot(111)\n",
    "    rects1 = ax.bar(ind, first_values, width)\n",
    "    rects2 = ax.bar(ind+width, second_values, width)\n",
    "\n",
    "    ax.set_ylabel(ylabel)\n",
    "\n",
    "    ax.legend((rects1[0], rects2[0]), (\"MP\", \"DP\"))"
   ]
  },
  {
   "cell_type": "code",
   "execution_count": 18,
   "id": "c3b57cf3",
   "metadata": {},
   "outputs": [
    {
     "data": {
      "text/plain": [
       "array([1, 1, 1, 1, 1, 1, 1, 0, 1, 0], dtype=uint8)"
      ]
     },
     "execution_count": 18,
     "metadata": {},
     "output_type": "execute_result"
    }
   ],
   "source": [
    "test_targets"
   ]
  },
  {
   "cell_type": "code",
   "execution_count": 30,
   "id": "a3917029",
   "metadata": {},
   "outputs": [
    {
     "data": {
      "image/png": "[encoded data removed]",
      "text/plain": [
       "<Figure size 432x288 with 1 Axes>"
      ]
     },
     "metadata": {
      "needs_background": "light"
     },
     "output_type": "display_data"
    }
   ],
   "source": [
    "bar_plot(mp_result[0].numpy().flatten(), dp_result, ylabel=\"Expectation\")"
   ]
  },
  {
   "cell_type": "markdown",
   "id": "73d7a3e4",
   "metadata": {},
   "source": [
    "# Compare Max Entropy values"
   ]
  },
  {
   "cell_type": "code",
   "execution_count": 49,
   "id": "17aab021",
   "metadata": {},
   "outputs": [
    {
     "name": "stdout",
     "output_type": "stream",
     "text": [
      "(2, 1)\n",
      "(10, 2, 1)\n"
     ]
    },
    {
     "data": {
      "text/plain": [
       "(2, 10)"
      ]
     },
     "execution_count": 49,
     "metadata": {},
     "output_type": "execute_result"
    }
   ],
   "source": [
    "dp_model.predict(x_test[:2]).shape"
   ]
  },
  {
   "cell_type": "code",
   "execution_count": 20,
   "id": "d30f9ba8",
   "metadata": {},
   "outputs": [
    {
     "data": {
      "text/plain": [
       "array([-3.44475682e-04,  3.80708307e-02, -6.65892819e-05,  7.12995948e-04,\n",
       "       -9.89130178e-04,  1.66046937e-01,  6.68566335e-02, -2.88683946e-04,\n",
       "        5.53516604e-02, -7.55468027e-04])"
      ]
     },
     "execution_count": 20,
     "metadata": {},
     "output_type": "execute_result"
    }
   ],
   "source": [
    "# mc dropout max_entropy\n",
    "%autoreload 2\n",
    "mc_max_entropy = dp_model.get_query_fn(\"max_entropy\")(x_test[10:20], runs=10)\n",
    "mc_max_entropy"
   ]
  },
  {
   "cell_type": "code",
   "execution_count": 21,
   "id": "a5f14f47",
   "metadata": {},
   "outputs": [
    {
     "data": {
      "text/plain": [
       "array([-0.00038141, -0.00099796,  0.00354997, -0.00054465, -0.00049288,\n",
       "       -0.00090481, -0.00098028, -0.00099863,  0.00708798, -0.00099953],\n",
       "      dtype=float32)"
      ]
     },
     "execution_count": 21,
     "metadata": {},
     "output_type": "execute_result"
    }
   ],
   "source": [
    "# moment propagation max entropy\n",
    "%autoreload 2\n",
    "mp_max_entropy = mp_model.get_query_fn(\"max_entropy\")(x_test[10:20])\n",
    "mp_max_entropy"
   ]
  },
  {
   "cell_type": "code",
   "execution_count": 26,
   "id": "0502d3a5",
   "metadata": {},
   "outputs": [
    {
     "data": {
      "text/plain": [
       "<matplotlib.legend.Legend at 0x7f7a80672550>"
      ]
     },
     "execution_count": 26,
     "metadata": {},
     "output_type": "execute_result"
    },
    {
     "data": {
      "image/png": "[encoded data removed]",
      "text/plain": [
       "<Figure size 432x288 with 1 Axes>"
      ]
     },
     "metadata": {
      "needs_background": "light"
     },
     "output_type": "display_data"
    }
   ],
   "source": [
    "N = len(mc_max_entropy)\n",
    "width = 0.2\n",
    "ind = np.arange(N)\n",
    "\n",
    "fig = plt.figure()\n",
    "ax = fig.add_subplot(111)\n",
    "rects1 = ax.bar(ind, mp_max_entropy, width)\n",
    "rects2 = ax.bar(ind+width, mc_max_entropy, width)\n",
    "\n",
    "ax.set_ylabel(\"Max Entropy\")\n",
    "ax.legend((rects1[0], rects2[0]), (\"MP\", \"DP\"))"
   ]
  },
  {
   "cell_type": "markdown",
   "id": "35caa803",
   "metadata": {},
   "source": [
    "## Compare Max Var Ratios"
   ]
  },
  {
   "cell_type": "code",
   "execution_count": 27,
   "id": "8b80b4b5",
   "metadata": {},
   "outputs": [
    {
     "data": {
      "text/plain": [
       "array([1.99684766, 1.9987057 , 1.98671453, 1.99170183, 1.99958135,\n",
       "       1.9879807 , 1.99002438, 1.99940488, 1.97498435, 1.99955513])"
      ]
     },
     "execution_count": 27,
     "metadata": {},
     "output_type": "execute_result"
    }
   ],
   "source": [
    "%autoreload 2\n",
    "dp_mvarr = dp_model.get_query_fn(\"max_var_ratio\")(x_test[10:20], runs=10)\n",
    "dp_mvarr"
   ]
  },
  {
   "cell_type": "code",
   "execution_count": 28,
   "id": "57e401f6",
   "metadata": {},
   "outputs": [
    {
     "data": {
      "text/plain": [
       "array([7.8916550e-05, 1.7881393e-07, 6.1231852e-04, 5.7935715e-05,\n",
       "       6.4551830e-05, 1.1980534e-05, 2.4437904e-06, 1.1920929e-07,\n",
       "       1.1309981e-03, 0.0000000e+00], dtype=float32)"
      ]
     },
     "execution_count": 28,
     "metadata": {},
     "output_type": "execute_result"
    }
   ],
   "source": [
    "mp_mvarr = mp_model.get_query_fn(\"max_var_ratio\")(x_test[10:20])\n",
    "mp_mvarr"
   ]
  },
  {
   "cell_type": "code",
   "execution_count": 29,
   "id": "67abaf37",
   "metadata": {},
   "outputs": [
    {
     "data": {
      "image/png": "[encoded data removed]",
      "text/plain": [
       "<Figure size 432x288 with 1 Axes>"
      ]
     },
     "metadata": {
      "needs_background": "light"
     },
     "output_type": "display_data"
    }
   ],
   "source": [
    "bar_plot(mp_mvarr, dp_mvarr, ylabel=\"Max Var Ratios\")"
   ]
  },
  {
   "cell_type": "code",
   "execution_count": null,
   "id": "7642a766",
   "metadata": {},
   "outputs": [],
   "source": []
  },
  {
   "cell_type": "code",
   "execution_count": null,
   "id": "fbcb5732",
   "metadata": {},
   "outputs": [],
   "source": []
  },
  {
   "cell_type": "code",
   "execution_count": null,
   "id": "11c2673e",
   "metadata": {},
   "outputs": [],
   "source": []
  }
 ],
 "metadata": {
  "kernelspec": {
   "display_name": "Python 3",
   "language": "python",
   "name": "python3"
  },
  "language_info": {
   "codemirror_mode": {
    "name": "ipython",
    "version": 3
   },
   "file_extension": ".py",
   "mimetype": "text/x-python",
   "name": "python",
   "nbconvert_exporter": "python",
   "pygments_lexer": "ipython3",
   "version": "3.8.8"
  }
 },
 "nbformat": 4,
 "nbformat_minor": 5
}
