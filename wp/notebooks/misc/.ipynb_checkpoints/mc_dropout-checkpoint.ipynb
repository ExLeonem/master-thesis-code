{
 "cells": [
  {
   "cell_type": "markdown",
   "id": "8f8d7618",
   "metadata": {},
   "source": [
    "# MC Dropout"
   ]
  },
  {
   "cell_type": "code",
   "execution_count": 1,
   "id": "da42a68c",
   "metadata": {},
   "outputs": [],
   "source": [
    "%load_ext autoreload"
   ]
  },
  {
   "cell_type": "code",
   "execution_count": 2,
   "id": "d0d2fb5f",
   "metadata": {},
   "outputs": [],
   "source": [
    "import os, sys\n",
    "\n",
    "import numpy as np\n",
    "import pandas as pd\n",
    "import matplotlib.pyplot as plt\n",
    "import seaborn as sns\n",
    "from sklearn.metrics import accuracy_score\n",
    "\n",
    "import tensorflow as tf\n",
    "import tensorflow.keras as keras\n",
    "from tensorflow.keras.models import  Sequential, Model\n",
    "from tensorflow.keras.layers import Dense, Dropout, Flatten,Conv2D, MaxPooling2D, Input\n",
    "from tensorflow.keras.datasets import mnist\n",
    "import tensorflow.keras.backend as K"
   ]
  },
  {
   "cell_type": "code",
   "execution_count": 3,
   "id": "feb02e48",
   "metadata": {},
   "outputs": [],
   "source": [
    "BASE_PATH = os.path.join(os.getcwd(), \"..\", \"..\")\n",
    "MODULES_PATH = os.path.join(BASE_PATH, \"modules\")\n",
    "\n",
    "sys.path.append(MODULES_PATH)\n",
    "from models import setup_growth"
   ]
  },
  {
   "cell_type": "code",
   "execution_count": 4,
   "id": "56026778",
   "metadata": {},
   "outputs": [
    {
     "name": "stdout",
     "output_type": "stream",
     "text": [
      "1 Physical GPU's,  1 Logical GPU's\n"
     ]
    }
   ],
   "source": [
    "setup_growth()"
   ]
  },
  {
   "cell_type": "code",
   "execution_count": 5,
   "id": "5f65dacc",
   "metadata": {},
   "outputs": [],
   "source": [
    "batch_size = 128\n",
    "num_classes = 10\n",
    "epochs = 12\n",
    "\n",
    "# Input image dimensions\n",
    "img_rows, img_cols = 28, 28"
   ]
  },
  {
   "cell_type": "code",
   "execution_count": 6,
   "id": "d9a9cc0b",
   "metadata": {},
   "outputs": [],
   "source": [
    "(x_train, y_train), (x_test, y_test) = mnist.load_data()"
   ]
  },
  {
   "cell_type": "code",
   "execution_count": 7,
   "id": "561fabf7",
   "metadata": {},
   "outputs": [],
   "source": [
    "if K.image_data_format() == 'channels_first':\n",
    "    x_train = x_train.reshape(x_train.shape[0], 1, img_rows, img_cols)\n",
    "    x_test = x_test.reshape(x_test.shape[0], 1, img_rows, img_cols)\n",
    "    input_shape = (1, img_rows, img_cols)\n",
    "else:\n",
    "    x_train = x_train.reshape(x_train.shape[0], img_rows, img_cols, 1)\n",
    "    x_test = x_test.reshape(x_test.shape[0], img_rows, img_cols, 1)\n",
    "    input_shape = (img_rows, img_cols, 1)"
   ]
  },
  {
   "cell_type": "code",
   "execution_count": 8,
   "id": "4322ec51",
   "metadata": {},
   "outputs": [
    {
     "name": "stdout",
     "output_type": "stream",
     "text": [
      "x_train shape:  (60000, 28, 28, 1)\n",
      "60000 train samples\n",
      "10000 test samples\n"
     ]
    }
   ],
   "source": [
    "x_train = x_train.astype(\"float32\")\n",
    "x_test = x_test.astype(\"float32\")\n",
    "x_train /= 255\n",
    "x_test /= 255\n",
    "\n",
    "print(\"x_train shape: \", x_train.shape)\n",
    "print(x_train.shape[0], \"train samples\")\n",
    "print(x_test.shape[0], \"test samples\")"
   ]
  },
  {
   "cell_type": "code",
   "execution_count": 9,
   "id": "efaaf355",
   "metadata": {},
   "outputs": [],
   "source": [
    "# convert class vectors to binary class matrices\n",
    "y_train = keras.utils.to_categorical(y_train, num_classes)\n",
    "y_test = keras.utils.to_categorical(y_test, num_classes)"
   ]
  },
  {
   "cell_type": "code",
   "execution_count": 10,
   "id": "741a1e12",
   "metadata": {},
   "outputs": [],
   "source": [
    "def get_dropout(input_tensor, p=0.5, mc=False):\n",
    "    if mc:\n",
    "        return Dropout(p)(input_tensor, training=True)\n",
    "    else:\n",
    "        return Dropout(p)(input_tensor)\n",
    "\n",
    "\n",
    "def get_model(mc=False, act=\"relu\"):\n",
    "    inp = Input(input_shape)\n",
    "    x = Conv2D(32, kernel_size=(3, 3), activation=act)(inp)\n",
    "    x = Conv2D(64, kernel_size=(3, 3), activation=act)(x)\n",
    "    x = MaxPooling2D(pool_size=(2, 2))(x)\n",
    "    x = get_dropout(x, p=0.25, mc=mc)\n",
    "    x = Flatten()(x)\n",
    "    x = Dense(128, activation=act)(x)\n",
    "    x = get_dropout(x, p=0.5, mc=mc)\n",
    "    out = Dense(num_classes, activation='softmax')(x)\n",
    "\n",
    "    model = Model(inputs=inp, outputs=out)\n",
    "\n",
    "    model.compile(loss=keras.losses.categorical_crossentropy,\n",
    "                  optimizer=keras.optimizers.Adadelta(),\n",
    "                  metrics=['accuracy'])\n",
    "    return model\n"
   ]
  },
  {
   "cell_type": "code",
   "execution_count": 11,
   "id": "4897de95",
   "metadata": {},
   "outputs": [],
   "source": [
    "model = get_model()\n",
    "mc_model = get_model(mc=True)"
   ]
  },
  {
   "cell_type": "code",
   "execution_count": 12,
   "id": "6df3b0a5",
   "metadata": {},
   "outputs": [
    {
     "name": "stdout",
     "output_type": "stream",
     "text": [
      "Epoch 1/10\n",
      "469/469 [==============================] - 12s 26ms/step - loss: 2.2937 - accuracy: 0.1238 - val_loss: 2.2751 - val_accuracy: 0.2104\n",
      "Epoch 2/10\n",
      "469/469 [==============================] - 4s 7ms/step - loss: 2.2630 - accuracy: 0.2062 - val_loss: 2.2393 - val_accuracy: 0.3608\n",
      "Epoch 3/10\n",
      "469/469 [==============================] - 3s 7ms/step - loss: 2.2258 - accuracy: 0.2959 - val_loss: 2.1922 - val_accuracy: 0.4370\n",
      "Epoch 4/10\n",
      "469/469 [==============================] - 3s 7ms/step - loss: 2.1756 - accuracy: 0.3720 - val_loss: 2.1265 - val_accuracy: 0.5449\n",
      "Epoch 5/10\n",
      "469/469 [==============================] - 3s 7ms/step - loss: 2.1020 - accuracy: 0.4453 - val_loss: 2.0333 - val_accuracy: 0.6373\n",
      "Epoch 6/10\n",
      "469/469 [==============================] - 3s 7ms/step - loss: 2.0016 - accuracy: 0.5001 - val_loss: 1.9031 - val_accuracy: 0.6913\n",
      "Epoch 7/10\n",
      "469/469 [==============================] - 3s 7ms/step - loss: 1.8669 - accuracy: 0.5441 - val_loss: 1.7283 - val_accuracy: 0.7198\n",
      "Epoch 8/10\n",
      "469/469 [==============================] - 3s 7ms/step - loss: 1.6981 - accuracy: 0.5785 - val_loss: 1.5193 - val_accuracy: 0.7426\n",
      "Epoch 9/10\n",
      "469/469 [==============================] - 3s 7ms/step - loss: 1.5151 - accuracy: 0.6104 - val_loss: 1.3047 - val_accuracy: 0.7692\n",
      "Epoch 10/10\n",
      "469/469 [==============================] - 3s 7ms/step - loss: 1.3444 - accuracy: 0.6373 - val_loss: 1.1152 - val_accuracy: 0.7895\n"
     ]
    },
    {
     "data": {
      "text/plain": [
       "<tensorflow.python.keras.callbacks.History at 0x7f20240a2a90>"
      ]
     },
     "execution_count": 12,
     "metadata": {},
     "output_type": "execute_result"
    }
   ],
   "source": [
    "model.fit(x_train, y_train, batch_size=batch_size, epochs=10, verbose=1, validation_data=(x_test, y_test))"
   ]
  },
  {
   "cell_type": "code",
   "execution_count": 13,
   "id": "f83dbaef",
   "metadata": {},
   "outputs": [
    {
     "name": "stdout",
     "output_type": "stream",
     "text": [
      "Test loss:  1.1152267456054688\n",
      "Test accuracy:  0.7894999980926514\n"
     ]
    }
   ],
   "source": [
    "score = model.evaluate(x_test, y_test, verbose=0)\n",
    "\n",
    "print(\"Test loss: \", score[0])\n",
    "print(\"Test accuracy: \", score[1])"
   ]
  },
  {
   "cell_type": "code",
   "execution_count": 14,
   "id": "062c5e2b",
   "metadata": {},
   "outputs": [
    {
     "name": "stdout",
     "output_type": "stream",
     "text": [
      "Epoch 1/10\n",
      "469/469 [==============================] - 3s 7ms/step - loss: 2.2833 - accuracy: 0.1287 - val_loss: 2.2573 - val_accuracy: 0.1672\n",
      "Epoch 2/10\n",
      "469/469 [==============================] - 3s 7ms/step - loss: 2.2346 - accuracy: 0.2166 - val_loss: 2.2032 - val_accuracy: 0.2743\n",
      "Epoch 3/10\n",
      "469/469 [==============================] - 3s 7ms/step - loss: 2.1726 - accuracy: 0.3151 - val_loss: 2.1327 - val_accuracy: 0.3538\n",
      "Epoch 4/10\n",
      "469/469 [==============================] - 3s 7ms/step - loss: 2.0896 - accuracy: 0.3971 - val_loss: 2.0351 - val_accuracy: 0.4411\n",
      "Epoch 5/10\n",
      "469/469 [==============================] - 3s 7ms/step - loss: 1.9841 - accuracy: 0.4629 - val_loss: 1.9122 - val_accuracy: 0.4972\n",
      "Epoch 6/10\n",
      "469/469 [==============================] - 3s 7ms/step - loss: 1.8459 - accuracy: 0.5239 - val_loss: 1.7589 - val_accuracy: 0.5492\n",
      "Epoch 7/10\n",
      "469/469 [==============================] - 3s 7ms/step - loss: 1.6831 - accuracy: 0.5715 - val_loss: 1.5887 - val_accuracy: 0.5989\n",
      "Epoch 8/10\n",
      "469/469 [==============================] - 3s 7ms/step - loss: 1.5093 - accuracy: 0.6126 - val_loss: 1.4120 - val_accuracy: 0.6307\n",
      "Epoch 9/10\n",
      "469/469 [==============================] - 3s 7ms/step - loss: 1.3478 - accuracy: 0.6429 - val_loss: 1.2640 - val_accuracy: 0.6588\n",
      "Epoch 10/10\n",
      "469/469 [==============================] - 3s 7ms/step - loss: 1.2134 - accuracy: 0.6673 - val_loss: 1.1373 - val_accuracy: 0.6792\n"
     ]
    }
   ],
   "source": [
    "h_mc = mc_model.fit(x_train, y_train, batch_size=batch_size, epochs=10, verbose=1, validation_data=(x_test, y_test))"
   ]
  },
  {
   "cell_type": "code",
   "execution_count": 15,
   "id": "1465b57a",
   "metadata": {},
   "outputs": [
    {
     "name": "stderr",
     "output_type": "stream",
     "text": [
      "100%|██████████| 500/500 [01:18<00:00,  6.36it/s]\n"
     ]
    }
   ],
   "source": [
    "import tqdm\n",
    "\n",
    "mc_predictions = []\n",
    "for i in tqdm.tqdm(range(500)):\n",
    "    y_p = mc_model.predict(x_test, batch_size=1000)\n",
    "    mc_predictions.append(y_p)\n",
    "    "
   ]
  },
  {
   "cell_type": "code",
   "execution_count": 16,
   "id": "3971c2f2",
   "metadata": {},
   "outputs": [
    {
     "name": "stdout",
     "output_type": "stream",
     "text": [
      "MC accuracy: 68.5%\n"
     ]
    }
   ],
   "source": [
    "accs = []\n",
    "for y_p in mc_predictions:\n",
    "    acc = accuracy_score(y_test.argmax(axis=1), y_p.argmax(axis=1))\n",
    "    accs.append(acc)\n",
    "    \n",
    "print(\"MC accuracy: {:.1%}\".format(sum(accs)/len(accs)))"
   ]
  },
  {
   "cell_type": "code",
   "execution_count": 17,
   "id": "cf2ee659",
   "metadata": {},
   "outputs": [
    {
     "data": {
      "text/plain": [
       "(10000, 10)"
      ]
     },
     "execution_count": 17,
     "metadata": {},
     "output_type": "execute_result"
    }
   ],
   "source": [
    "mc_predictions[0].shape"
   ]
  },
  {
   "cell_type": "code",
   "execution_count": 18,
   "id": "3ad7df35",
   "metadata": {},
   "outputs": [
    {
     "data": {
      "text/plain": [
       "(10000, 10, 500)"
      ]
     },
     "execution_count": 18,
     "metadata": {},
     "output_type": "execute_result"
    }
   ],
   "source": [
    "stacked = np.stack(mc_predictions, axis=2)\n",
    "stacked.shape"
   ]
  },
  {
   "cell_type": "code",
   "execution_count": 19,
   "id": "f96ebe53",
   "metadata": {},
   "outputs": [
    {
     "data": {
      "text/plain": [
       "(10000, 10, 500)"
      ]
     },
     "execution_count": 19,
     "metadata": {},
     "output_type": "execute_result"
    }
   ],
   "source": [
    "stacked.shape"
   ]
  },
  {
   "cell_type": "code",
   "execution_count": 20,
   "id": "5cb46816",
   "metadata": {},
   "outputs": [
    {
     "data": {
      "text/plain": [
       "(10000, 500)"
      ]
     },
     "execution_count": 20,
     "metadata": {},
     "output_type": "execute_result"
    }
   ],
   "source": [
    "maxes = stacked.argmax(axis=1)\n",
    "maxes.shape"
   ]
  },
  {
   "cell_type": "code",
   "execution_count": 21,
   "id": "db8c0420",
   "metadata": {},
   "outputs": [
    {
     "data": {
      "text/plain": [
       "(10000, 500)"
      ]
     },
     "execution_count": 21,
     "metadata": {},
     "output_type": "execute_result"
    }
   ],
   "source": [
    "stacked.argmax(axis=1).shape"
   ]
  },
  {
   "cell_type": "code",
   "execution_count": 22,
   "id": "9786296d",
   "metadata": {},
   "outputs": [],
   "source": [
    "means = np.mean(stacked, axis=2)"
   ]
  },
  {
   "cell_type": "code",
   "execution_count": 23,
   "id": "0efbae0f",
   "metadata": {},
   "outputs": [
    {
     "data": {
      "text/plain": [
       "0.8177"
      ]
     },
     "execution_count": 23,
     "metadata": {},
     "output_type": "execute_result"
    }
   ],
   "source": [
    "accuracy_score(y_test.argmax(axis=1), means.argmax(axis=1))"
   ]
  },
  {
   "cell_type": "code",
   "execution_count": 24,
   "id": "2f7581df",
   "metadata": {},
   "outputs": [
    {
     "name": "stdout",
     "output_type": "stream",
     "text": [
      "313/313 [==============================] - 1s 2ms/step - loss: 1.1334 - accuracy: 0.6891\n"
     ]
    },
    {
     "data": {
      "text/plain": [
       "[1.1333953142166138, 0.6891000270843506]"
      ]
     },
     "execution_count": 24,
     "metadata": {},
     "output_type": "execute_result"
    }
   ],
   "source": [
    "mc_model.evaluate(x_test, y_test)"
   ]
  },
  {
   "cell_type": "code",
   "execution_count": 25,
   "id": "400bd27d",
   "metadata": {},
   "outputs": [],
   "source": [
    "batches = np.split(stacked, 500, axis=2)"
   ]
  },
  {
   "cell_type": "code",
   "execution_count": 26,
   "id": "95512ada",
   "metadata": {},
   "outputs": [],
   "source": [
    "all_accs = []\n",
    "for batch in batches:\n",
    "    reshaped = batch.reshape(len(batch), 10)\n",
    "    new_score = accuracy_score(y_test.argmax(axis=1), reshaped.argmax(axis=1))\n",
    "    all_accs.append(new_score)"
   ]
  },
  {
   "cell_type": "code",
   "execution_count": 27,
   "id": "6bec6380",
   "metadata": {},
   "outputs": [
    {
     "data": {
      "text/plain": [
       "0.6854134000000008"
      ]
     },
     "execution_count": 27,
     "metadata": {},
     "output_type": "execute_result"
    }
   ],
   "source": [
    "sum(all_accs)/len(all_accs)"
   ]
  },
  {
   "cell_type": "markdown",
   "id": "ba38cd8a",
   "metadata": {},
   "source": [
    "# Debugg Mc Dropout"
   ]
  },
  {
   "cell_type": "code",
   "execution_count": 28,
   "id": "cbbd23dd",
   "metadata": {},
   "outputs": [],
   "source": [
    "%autoreload 2\n",
    "from active_learning import TrainConfig\n",
    "from bayesian import McDropout"
   ]
  },
  {
   "cell_type": "code",
   "execution_count": 29,
   "id": "1bf8891b",
   "metadata": {},
   "outputs": [],
   "source": [
    "%autoreload 2\n",
    "wp_mc_model = McDropout(mc_model, TrainConfig())"
   ]
  },
  {
   "cell_type": "code",
   "execution_count": 31,
   "id": "2955c1be",
   "metadata": {},
   "outputs": [],
   "source": [
    "predictions = wp_mc_model.demo_call(x_test, batch_size=1000)"
   ]
  },
  {
   "cell_type": "code",
   "execution_count": 32,
   "id": "716fcdbb",
   "metadata": {},
   "outputs": [
    {
     "data": {
      "text/plain": [
       "(10000, 10, 10)"
      ]
     },
     "execution_count": 32,
     "metadata": {},
     "output_type": "execute_result"
    }
   ],
   "source": [
    "predictions.shape"
   ]
  },
  {
   "cell_type": "code",
   "execution_count": 138,
   "id": "c0dbf9d9",
   "metadata": {},
   "outputs": [
    {
     "name": "stdout",
     "output_type": "stream",
     "text": [
      "Batches: 7\n",
      "Batch-shape: (3, 28, 28, 1)\n",
      "Batch-shape: (3, 28, 28, 1)\n",
      "Batch-shape: (3, 28, 28, 1)\n",
      "Batch-shape: (3, 28, 28, 1)\n",
      "Batch-shape: (3, 28, 28, 1)\n",
      "Batch-shape: (3, 28, 28, 1)\n",
      "Batch-shape: (2, 28, 28, 1)\n"
     ]
    },
    {
     "data": {
      "text/plain": [
       "(20, 10)"
      ]
     },
     "execution_count": 138,
     "metadata": {},
     "output_type": "execute_result"
    }
   ],
   "source": [
    "%autoreload 2\n",
    "batch_prediction = wp_mc_model(x_test[:20], n_times=1, batch_size=8)\n",
    "batch_prediction.shape"
   ]
  },
  {
   "cell_type": "code",
   "execution_count": null,
   "id": "cd3c1cd5",
   "metadata": {},
   "outputs": [],
   "source": []
  },
  {
   "cell_type": "code",
   "execution_count": 114,
   "id": "e4e1eb6c",
   "metadata": {},
   "outputs": [],
   "source": [
    "label_predictions = np.argmax(batch_prediction, axis=-1)"
   ]
  },
  {
   "cell_type": "code",
   "execution_count": 116,
   "id": "86253ad8",
   "metadata": {},
   "outputs": [
    {
     "data": {
      "text/plain": [
       "(10, 10)"
      ]
     },
     "execution_count": 116,
     "metadata": {},
     "output_type": "execute_result"
    }
   ],
   "source": [
    "label_predictions.shape"
   ]
  },
  {
   "cell_type": "code",
   "execution_count": 119,
   "id": "d54e2ea1",
   "metadata": {},
   "outputs": [
    {
     "data": {
      "text/plain": [
       "array([[7, 7, 7, 7, 7, 7, 7, 7, 7, 7],\n",
       "       [2, 2, 2, 2, 2, 2, 2, 2, 2, 2],\n",
       "       [1, 1, 1, 1, 1, 1, 1, 1, 1, 1],\n",
       "       [0, 0, 0, 0, 0, 0, 0, 0, 0, 0],\n",
       "       [4, 4, 4, 4, 4, 4, 4, 4, 4, 4],\n",
       "       [1, 1, 1, 1, 1, 1, 1, 1, 1, 1],\n",
       "       [4, 4, 4, 4, 4, 4, 4, 4, 4, 4],\n",
       "       [9, 9, 9, 9, 9, 9, 9, 9, 9, 9],\n",
       "       [5, 5, 5, 5, 5, 5, 5, 5, 5, 5],\n",
       "       [9, 9, 9, 9, 9, 9, 9, 9, 9, 9]])"
      ]
     },
     "execution_count": 119,
     "metadata": {},
     "output_type": "execute_result"
    }
   ],
   "source": []
  },
  {
   "cell_type": "code",
   "execution_count": 121,
   "id": "d555a3a4",
   "metadata": {},
   "outputs": [
    {
     "data": {
      "text/plain": [
       "0.71"
      ]
     },
     "execution_count": 121,
     "metadata": {},
     "output_type": "execute_result"
    }
   ],
   "source": [
    "np.mean(true_labels.T[:10] == label_predictions)"
   ]
  },
  {
   "cell_type": "code",
   "execution_count": 66,
   "id": "9e541891",
   "metadata": {},
   "outputs": [
    {
     "data": {
      "text/plain": [
       "(10000, 10)"
      ]
     },
     "execution_count": 66,
     "metadata": {},
     "output_type": "execute_result"
    }
   ],
   "source": [
    "label_predictions = np.argmax(predictions, axis=-1)\n",
    "label_predictions.shape"
   ]
  },
  {
   "cell_type": "code",
   "execution_count": 47,
   "id": "a784b4a0",
   "metadata": {},
   "outputs": [],
   "source": [
    "true_labels = np.argmax(y_test, axis=1)"
   ]
  },
  {
   "cell_type": "code",
   "execution_count": 54,
   "id": "b1602fb3",
   "metadata": {},
   "outputs": [],
   "source": [
    "true_labels = np.vstack([true_labels]*label_predictions.shape[-1])"
   ]
  },
  {
   "cell_type": "code",
   "execution_count": 55,
   "id": "6c818d92",
   "metadata": {},
   "outputs": [
    {
     "data": {
      "text/plain": [
       "(10, 10000)"
      ]
     },
     "execution_count": 55,
     "metadata": {},
     "output_type": "execute_result"
    }
   ],
   "source": [
    "true_labels.shape"
   ]
  },
  {
   "cell_type": "code",
   "execution_count": 59,
   "id": "5dbec3c3",
   "metadata": {},
   "outputs": [
    {
     "data": {
      "text/plain": [
       "array([[7, 7, 7, ..., 7, 7, 7],\n",
       "       [2, 2, 2, ..., 2, 2, 2],\n",
       "       [1, 1, 1, ..., 1, 1, 1],\n",
       "       ...,\n",
       "       [4, 4, 4, ..., 4, 4, 4],\n",
       "       [5, 5, 5, ..., 5, 5, 5],\n",
       "       [6, 6, 6, ..., 6, 6, 6]])"
      ]
     },
     "execution_count": 59,
     "metadata": {},
     "output_type": "execute_result"
    }
   ],
   "source": [
    "true_labels.T"
   ]
  },
  {
   "cell_type": "code",
   "execution_count": 61,
   "id": "d1924665",
   "metadata": {},
   "outputs": [
    {
     "data": {
      "text/plain": [
       "array([[3, 2, 1, ..., 0, 9, 7],\n",
       "       [3, 5, 1, ..., 0, 8, 9],\n",
       "       [3, 5, 1, ..., 0, 8, 7],\n",
       "       ...,\n",
       "       [3, 4, 5, ..., 0, 8, 2],\n",
       "       [3, 4, 9, ..., 0, 5, 2],\n",
       "       [3, 4, 5, ..., 0, 1, 2]])"
      ]
     },
     "execution_count": 61,
     "metadata": {},
     "output_type": "execute_result"
    }
   ],
   "source": [
    "label_predictions"
   ]
  },
  {
   "cell_type": "code",
   "execution_count": 71,
   "id": "88ef01dd",
   "metadata": {},
   "outputs": [
    {
     "data": {
      "text/plain": [
       "0.14983"
      ]
     },
     "execution_count": 71,
     "metadata": {},
     "output_type": "execute_result"
    }
   ],
   "source": [
    "np.mean(label_predictions == true_labels.T)"
   ]
  },
  {
   "cell_type": "code",
   "execution_count": null,
   "id": "f356b3e9",
   "metadata": {},
   "outputs": [],
   "source": []
  },
  {
   "cell_type": "code",
   "execution_count": null,
   "id": "c070c92f",
   "metadata": {},
   "outputs": [],
   "source": []
  },
  {
   "cell_type": "code",
   "execution_count": 36,
   "id": "c1d256c7",
   "metadata": {},
   "outputs": [
    {
     "data": {
      "text/plain": [
       "array([7, 2, 1, 0, 4, 1, 4, 9, 4, 7])"
      ]
     },
     "execution_count": 36,
     "metadata": {},
     "output_type": "execute_result"
    }
   ],
   "source": [
    "%autoreload 2\n",
    "np.argmax(wp_mc_model(x_test[:10]), axis=1)"
   ]
  },
  {
   "cell_type": "code",
   "execution_count": 41,
   "id": "e6344526",
   "metadata": {},
   "outputs": [
    {
     "data": {
      "text/plain": [
       "(10,)"
      ]
     },
     "execution_count": 41,
     "metadata": {},
     "output_type": "execute_result"
    }
   ],
   "source": [
    "res1 = np.argmax(wp_mc_model(x_test[:10]), axis=1)\n",
    "res1.shape"
   ]
  },
  {
   "cell_type": "code",
   "execution_count": 42,
   "id": "57f2c042",
   "metadata": {},
   "outputs": [],
   "source": [
    "res2 = np.argmax(wp_mc_model(x_test[:10]), axis=1)"
   ]
  },
  {
   "cell_type": "code",
   "execution_count": 43,
   "id": "140f0c63",
   "metadata": {},
   "outputs": [],
   "source": [
    "res3 = np.argmax(wp_mc_model(x_test[:10]), axis=1)"
   ]
  },
  {
   "cell_type": "code",
   "execution_count": 44,
   "id": "67db7b7b",
   "metadata": {},
   "outputs": [
    {
     "data": {
      "text/plain": [
       "0.8"
      ]
     },
     "execution_count": 44,
     "metadata": {},
     "output_type": "execute_result"
    }
   ],
   "source": [
    "accuracy_score(res1, np.argmax(y_test[:10], axis=1))"
   ]
  },
  {
   "cell_type": "code",
   "execution_count": 45,
   "id": "253b816d",
   "metadata": {},
   "outputs": [
    {
     "data": {
      "text/plain": [
       "0.5"
      ]
     },
     "execution_count": 45,
     "metadata": {},
     "output_type": "execute_result"
    }
   ],
   "source": [
    "accuracy_score(res2, np.argmax(y_test[:10], axis=1))"
   ]
  },
  {
   "cell_type": "code",
   "execution_count": 46,
   "id": "09fcb93a",
   "metadata": {},
   "outputs": [
    {
     "data": {
      "text/plain": [
       "0.8"
      ]
     },
     "execution_count": 46,
     "metadata": {},
     "output_type": "execute_result"
    }
   ],
   "source": [
    "accuracy_score(res3, np.argmax(y_test[:10], axis=1))"
   ]
  },
  {
   "cell_type": "code",
   "execution_count": null,
   "id": "d03f8490",
   "metadata": {},
   "outputs": [],
   "source": [
    "results = wp_mc_model.batch_prediction(x_test, n_times=10, batch_size=1000)"
   ]
  },
  {
   "cell_type": "code",
   "execution_count": null,
   "id": "f6670243",
   "metadata": {},
   "outputs": [],
   "source": [
    "batches = np.split(results, 10, axis=1)"
   ]
  },
  {
   "cell_type": "code",
   "execution_count": null,
   "id": "410a898e",
   "metadata": {},
   "outputs": [],
   "source": [
    "accs = []\n",
    "for batch in batches:\n",
    "    reshaped = batch.reshape(len(batch), 10)\n",
    "    score = accuracy_score(y_test.argmax(axis=1), reshaped.argmax(axis=1))\n",
    "    print(score)\n",
    "    accs.append(score)"
   ]
  },
  {
   "cell_type": "code",
   "execution_count": null,
   "id": "9ec3b328",
   "metadata": {},
   "outputs": [],
   "source": [
    "sum(accs)/len(accs)"
   ]
  },
  {
   "cell_type": "code",
   "execution_count": null,
   "id": "2ad35768",
   "metadata": {},
   "outputs": [],
   "source": [
    "g_model = wp_mc_model.get_model()"
   ]
  },
  {
   "cell_type": "code",
   "execution_count": null,
   "id": "81beb1f7",
   "metadata": {},
   "outputs": [],
   "source": [
    "g_model.evaluate(x_test, y_test)"
   ]
  },
  {
   "cell_type": "code",
   "execution_count": null,
   "id": "c5aee2d9",
   "metadata": {},
   "outputs": [],
   "source": []
  },
  {
   "cell_type": "code",
   "execution_count": null,
   "id": "6e6d488a",
   "metadata": {},
   "outputs": [],
   "source": [
    "all_split = np.split(x_test, 100, axis=0)"
   ]
  },
  {
   "cell_type": "code",
   "execution_count": null,
   "id": "25935648",
   "metadata": {},
   "outputs": [],
   "source": [
    "all_split[0].shape"
   ]
  },
  {
   "cell_type": "code",
   "execution_count": null,
   "id": "520267f0",
   "metadata": {},
   "outputs": [],
   "source": [
    "all_split = np.split(x_test, 1, axis=0)"
   ]
  },
  {
   "cell_type": "code",
   "execution_count": null,
   "id": "ac72efe4",
   "metadata": {},
   "outputs": [],
   "source": [
    "all_split[0].shape"
   ]
  },
  {
   "cell_type": "code",
   "execution_count": null,
   "id": "ee5b01e9",
   "metadata": {},
   "outputs": [],
   "source": []
  },
  {
   "cell_type": "code",
   "execution_count": null,
   "id": "e8678c1d",
   "metadata": {},
   "outputs": [],
   "source": []
  }
 ],
 "metadata": {
  "kernelspec": {
   "display_name": "Python 3",
   "language": "python",
   "name": "python3"
  },
  "language_info": {
   "codemirror_mode": {
    "name": "ipython",
    "version": 3
   },
   "file_extension": ".py",
   "mimetype": "text/x-python",
   "name": "python",
   "nbconvert_exporter": "python",
   "pygments_lexer": "ipython3",
   "version": "3.8.8"
  }
 },
 "nbformat": 4,
 "nbformat_minor": 5
}
