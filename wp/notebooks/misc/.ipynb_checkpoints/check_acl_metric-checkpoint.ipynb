{
 "cells": [
  {
   "cell_type": "markdown",
   "id": "8fa178ea",
   "metadata": {},
   "source": [
    "# Check uncertainty estimates\n"
   ]
  },
  {
   "cell_type": "markdown",
   "id": "936bb610",
   "metadata": {},
   "source": [
    "[can't start cudnn algorithm](https://stackoverflow.com/questions/53698035/failed-to-get-convolution-algorithm-this-is-probably-because-cudnn-failed-to-in)"
   ]
  },
  {
   "cell_type": "code",
   "execution_count": 1,
   "id": "c4277dca",
   "metadata": {},
   "outputs": [],
   "source": [
    "# Extensions\n",
    "%load_ext autoreload "
   ]
  },
  {
   "cell_type": "code",
   "execution_count": 2,
   "id": "edcbb93d",
   "metadata": {},
   "outputs": [],
   "source": [
    "import os, sys, importlib\n",
    "\n",
    "import pandas as pd\n",
    "import numpy as np\n",
    "import matplotlib.pyplot as plt\n",
    "import tensorflow as tf\n",
    "\n",
    "from sklearn.model_selection import train_test_split\n",
    "\n",
    "\n",
    "BASE_PATH = os.path.join(os.getcwd(), \"..\", \"..\")\n",
    "MODULE_PATH = os.path.join(BASE_PATH, \"modules\")\n",
    "DATASET_PATH = os.path.join(BASE_PATH, \"datasets\")\n",
    "\n",
    "sys.path.append(MODULE_PATH)\n",
    "\n",
    "from bayesian import McDropout, MomentPropagation\n",
    "import data.mnist as mnist_loader\n",
    "\n",
    "from data import BenchmarkData, DataSetType\n",
    "import mp.MomentPropagation as mp\n",
    "\n",
    "from models.default import default_model\n",
    "from models.tf_growth import setup_growth"
   ]
  },
  {
   "cell_type": "markdown",
   "id": "a526a830",
   "metadata": {},
   "source": [
    "## Prepare Data"
   ]
  },
  {
   "cell_type": "code",
   "execution_count": 3,
   "id": "73f8908e",
   "metadata": {},
   "outputs": [],
   "source": [
    "benchmark_data = BenchmarkData(DataSetType.MNIST, os.path.join(DATASET_PATH, \"mnist\"), classes=2)"
   ]
  },
  {
   "cell_type": "code",
   "execution_count": 4,
   "id": "01dee3eb",
   "metadata": {},
   "outputs": [
    {
     "data": {
      "text/plain": [
       "array([0, 1, 1, 1, 1, 0, 1, 1, 0, 0], dtype=uint8)"
      ]
     },
     "execution_count": 4,
     "metadata": {},
     "output_type": "execute_result"
    }
   ],
   "source": [
    "benchmark_data.targets[:10]"
   ]
  },
  {
   "cell_type": "code",
   "execution_count": 5,
   "id": "37bd8808",
   "metadata": {},
   "outputs": [],
   "source": [
    "x_train, x_test, y_train, y_test = train_test_split(benchmark_data.inputs, benchmark_data.targets)"
   ]
  },
  {
   "cell_type": "code",
   "execution_count": 6,
   "id": "f0e00429",
   "metadata": {},
   "outputs": [
    {
     "name": "stdout",
     "output_type": "stream",
     "text": [
      "train_labels: \n",
      "Label-0: 5154\n",
      "Label-1: 5931\n",
      "-------------\n",
      "train_labels: \n",
      "Label-0: 1749\n",
      "Label-1: 1946\n",
      "-------------\n"
     ]
    }
   ],
   "source": [
    "unique_classes = np.unique(benchmark_data.targets)\n",
    "\n",
    "def print_label_count(targets, unique_labels, prefix=\"train\"):\n",
    "    print(prefix + \"_labels: \")\n",
    "    \n",
    "    for label in unique_labels:\n",
    "        count = (targets==label).sum()\n",
    "        print(\"Label-{}: {}\".format(label, count))\n",
    "    \n",
    "    print(\"-------------\")\n",
    "\n",
    "print_label_count(y_train, unique_classes)\n",
    "print_label_count(y_test, unique_classes)"
   ]
  },
  {
   "cell_type": "markdown",
   "id": "b84d3509",
   "metadata": {},
   "source": [
    "## Train and build models"
   ]
  },
  {
   "cell_type": "code",
   "execution_count": 7,
   "id": "09b913df",
   "metadata": {},
   "outputs": [],
   "source": [
    "# tf.random.set_seed(1)"
   ]
  },
  {
   "cell_type": "code",
   "execution_count": 8,
   "id": "7007e2f0",
   "metadata": {},
   "outputs": [
    {
     "name": "stdout",
     "output_type": "stream",
     "text": [
      "1 Physical GPU's,  1 Logical GPU's\n"
     ]
    }
   ],
   "source": [
    "setup_growth()"
   ]
  },
  {
   "cell_type": "code",
   "execution_count": 9,
   "id": "cfd8b060",
   "metadata": {},
   "outputs": [],
   "source": [
    "model = default_model()\n",
    "model.compile(optimizer=\"adam\", loss=\"binary_crossentropy\", metrics=[\"binary_accuracy\"])"
   ]
  },
  {
   "cell_type": "code",
   "execution_count": 10,
   "id": "a50391a7",
   "metadata": {},
   "outputs": [
    {
     "name": "stdout",
     "output_type": "stream",
     "text": [
      "Epoch 1/100\n",
      "347/347 [==============================] - 6s 18ms/step - loss: 0.1469 - binary_accuracy: 0.9905\n",
      "Epoch 2/100\n",
      "347/347 [==============================] - 1s 4ms/step - loss: 0.0117 - binary_accuracy: 0.9978\n",
      "Epoch 3/100\n",
      "347/347 [==============================] - 1s 4ms/step - loss: 0.0092 - binary_accuracy: 0.9981\n",
      "Epoch 4/100\n",
      "347/347 [==============================] - 1s 4ms/step - loss: 0.0093 - binary_accuracy: 0.9985\n",
      "Epoch 5/100\n",
      "347/347 [==============================] - 1s 4ms/step - loss: 0.0068 - binary_accuracy: 0.9987\n",
      "Epoch 6/100\n",
      "347/347 [==============================] - 1s 4ms/step - loss: 0.0036 - binary_accuracy: 0.9993\n",
      "Epoch 7/100\n",
      "347/347 [==============================] - 1s 4ms/step - loss: 0.0041 - binary_accuracy: 0.9990\n",
      "Epoch 8/100\n",
      "347/347 [==============================] - 1s 4ms/step - loss: 0.0022 - binary_accuracy: 0.9993\n",
      "Epoch 9/100\n",
      "347/347 [==============================] - 1s 4ms/step - loss: 3.3493e-05 - binary_accuracy: 1.0000\n",
      "Epoch 10/100\n",
      "347/347 [==============================] - 1s 4ms/step - loss: 2.8596e-05 - binary_accuracy: 1.0000\n",
      "Epoch 11/100\n",
      "347/347 [==============================] - 1s 4ms/step - loss: 0.0265 - binary_accuracy: 0.9981\n",
      "Epoch 12/100\n",
      "347/347 [==============================] - 1s 4ms/step - loss: 0.0206 - binary_accuracy: 0.9984\n",
      "Epoch 13/100\n",
      "347/347 [==============================] - 1s 4ms/step - loss: 0.0069 - binary_accuracy: 0.9993\n",
      "Epoch 14/100\n",
      "347/347 [==============================] - 1s 4ms/step - loss: 1.6516e-04 - binary_accuracy: 0.9999\n",
      "Epoch 15/100\n",
      "347/347 [==============================] - 1s 4ms/step - loss: 0.0051 - binary_accuracy: 0.9991\n",
      "Epoch 16/100\n",
      "347/347 [==============================] - 1s 4ms/step - loss: 0.0027 - binary_accuracy: 0.9993\n",
      "Epoch 17/100\n",
      "347/347 [==============================] - 1s 4ms/step - loss: 0.0019 - binary_accuracy: 0.9998\n",
      "Epoch 18/100\n",
      "347/347 [==============================] - 1s 4ms/step - loss: 0.0130 - binary_accuracy: 0.9986\n",
      "Epoch 19/100\n",
      "347/347 [==============================] - 1s 4ms/step - loss: 0.0079 - binary_accuracy: 0.9993\n",
      "Epoch 20/100\n",
      "347/347 [==============================] - 1s 4ms/step - loss: 0.0037 - binary_accuracy: 0.9995\n",
      "Epoch 21/100\n",
      "347/347 [==============================] - 1s 4ms/step - loss: 0.0041 - binary_accuracy: 0.9997\n",
      "Epoch 22/100\n",
      "347/347 [==============================] - 1s 4ms/step - loss: 0.0014 - binary_accuracy: 0.9995\n",
      "Epoch 23/100\n",
      "347/347 [==============================] - 1s 4ms/step - loss: 0.0113 - binary_accuracy: 0.9995\n",
      "Epoch 24/100\n",
      "347/347 [==============================] - 1s 4ms/step - loss: 3.2739e-04 - binary_accuracy: 0.9999\n",
      "Epoch 25/100\n",
      "347/347 [==============================] - 1s 4ms/step - loss: 0.0015 - binary_accuracy: 0.9995\n",
      "Epoch 26/100\n",
      "347/347 [==============================] - 1s 4ms/step - loss: 1.3056e-04 - binary_accuracy: 1.0000\n",
      "Epoch 27/100\n",
      "347/347 [==============================] - 1s 4ms/step - loss: 0.0013 - binary_accuracy: 0.9995\n",
      "Epoch 28/100\n",
      "347/347 [==============================] - 1s 4ms/step - loss: 1.0406e-04 - binary_accuracy: 0.9999\n",
      "Epoch 29/100\n",
      "347/347 [==============================] - 1s 4ms/step - loss: 0.0015 - binary_accuracy: 0.9998\n",
      "Epoch 30/100\n",
      "347/347 [==============================] - 1s 4ms/step - loss: 2.2728e-06 - binary_accuracy: 1.0000\n",
      "Epoch 31/100\n",
      "347/347 [==============================] - 1s 4ms/step - loss: 0.0042 - binary_accuracy: 0.9991\n",
      "Epoch 32/100\n",
      "347/347 [==============================] - 1s 4ms/step - loss: 0.0089 - binary_accuracy: 0.9996\n",
      "Epoch 33/100\n",
      "347/347 [==============================] - 1s 4ms/step - loss: 1.8143e-05 - binary_accuracy: 1.0000\n",
      "Epoch 34/100\n",
      "347/347 [==============================] - 1s 4ms/step - loss: 0.0062 - binary_accuracy: 0.9996\n",
      "Epoch 35/100\n",
      "347/347 [==============================] - 1s 4ms/step - loss: 0.0041 - binary_accuracy: 0.9993\n",
      "Epoch 36/100\n",
      "347/347 [==============================] - 1s 4ms/step - loss: 0.0024 - binary_accuracy: 0.9998\n",
      "Epoch 37/100\n",
      "347/347 [==============================] - 1s 4ms/step - loss: 0.0027 - binary_accuracy: 0.9996\n",
      "Epoch 38/100\n",
      "347/347 [==============================] - 1s 4ms/step - loss: 0.0020 - binary_accuracy: 0.9996\n",
      "Epoch 39/100\n",
      "347/347 [==============================] - 1s 4ms/step - loss: 1.5328e-05 - binary_accuracy: 1.0000\n",
      "Epoch 40/100\n",
      "347/347 [==============================] - 1s 4ms/step - loss: 3.1339e-06 - binary_accuracy: 1.0000\n",
      "Epoch 41/100\n",
      "347/347 [==============================] - 1s 4ms/step - loss: 1.8799e-04 - binary_accuracy: 0.9999\n",
      "Epoch 42/100\n",
      "347/347 [==============================] - 1s 4ms/step - loss: 5.8015e-08 - binary_accuracy: 1.0000\n",
      "Epoch 43/100\n",
      "347/347 [==============================] - 1s 4ms/step - loss: 0.0012 - binary_accuracy: 0.9997\n",
      "Epoch 44/100\n",
      "347/347 [==============================] - 1s 4ms/step - loss: 0.0139 - binary_accuracy: 0.9995\n",
      "Epoch 45/100\n",
      "347/347 [==============================] - 1s 4ms/step - loss: 6.9591e-05 - binary_accuracy: 0.9999\n",
      "Epoch 46/100\n",
      "347/347 [==============================] - 1s 4ms/step - loss: 0.0039 - binary_accuracy: 0.9998\n",
      "Epoch 47/100\n",
      "347/347 [==============================] - 1s 4ms/step - loss: 0.0021 - binary_accuracy: 0.9997\n",
      "Epoch 48/100\n",
      "347/347 [==============================] - 1s 4ms/step - loss: 2.3444e-05 - binary_accuracy: 1.0000\n",
      "Epoch 49/100\n",
      "347/347 [==============================] - 1s 4ms/step - loss: 1.2085e-11 - binary_accuracy: 1.0000\n",
      "Epoch 50/100\n",
      "347/347 [==============================] - 1s 4ms/step - loss: 8.6821e-06 - binary_accuracy: 1.0000\n",
      "Epoch 51/100\n",
      "347/347 [==============================] - 1s 4ms/step - loss: 0.0025 - binary_accuracy: 0.9998\n",
      "Epoch 52/100\n",
      "347/347 [==============================] - 1s 4ms/step - loss: 3.1976e-04 - binary_accuracy: 0.9999\n",
      "Epoch 53/100\n",
      "347/347 [==============================] - 1s 4ms/step - loss: 1.0332e-14 - binary_accuracy: 1.0000\n",
      "Epoch 54/100\n",
      "347/347 [==============================] - 1s 4ms/step - loss: 6.3376e-08 - binary_accuracy: 1.0000\n",
      "Epoch 55/100\n",
      "347/347 [==============================] - 1s 4ms/step - loss: 6.8900e-05 - binary_accuracy: 0.9999\n",
      "Epoch 56/100\n",
      "347/347 [==============================] - 1s 4ms/step - loss: 2.5792e-13 - binary_accuracy: 1.0000\n",
      "Epoch 57/100\n",
      "347/347 [==============================] - 1s 4ms/step - loss: 1.0847e-10 - binary_accuracy: 1.0000\n",
      "Epoch 58/100\n",
      "347/347 [==============================] - 1s 4ms/step - loss: 3.3771e-09 - binary_accuracy: 1.0000\n",
      "Epoch 59/100\n",
      "347/347 [==============================] - 1s 4ms/step - loss: 2.0291e-08 - binary_accuracy: 1.0000\n",
      "Epoch 60/100\n",
      "347/347 [==============================] - 1s 4ms/step - loss: 6.6510e-13 - binary_accuracy: 1.0000\n",
      "Epoch 61/100\n",
      "347/347 [==============================] - 1s 4ms/step - loss: 0.0259 - binary_accuracy: 0.9994\n",
      "Epoch 62/100\n",
      "347/347 [==============================] - 1s 4ms/step - loss: 0.0133 - binary_accuracy: 0.9995\n",
      "Epoch 63/100\n",
      "347/347 [==============================] - 1s 4ms/step - loss: 8.6553e-05 - binary_accuracy: 0.9999\n",
      "Epoch 64/100\n",
      "347/347 [==============================] - 1s 4ms/step - loss: 3.8022e-04 - binary_accuracy: 0.9999\n",
      "Epoch 65/100\n",
      "347/347 [==============================] - 1s 4ms/step - loss: 0.0190 - binary_accuracy: 0.9994\n",
      "Epoch 66/100\n",
      "347/347 [==============================] - 1s 4ms/step - loss: 3.9976e-04 - binary_accuracy: 0.9999\n",
      "Epoch 67/100\n",
      "347/347 [==============================] - 1s 4ms/step - loss: 0.0021 - binary_accuracy: 0.9997\n",
      "Epoch 68/100\n",
      "347/347 [==============================] - 1s 4ms/step - loss: 0.0010 - binary_accuracy: 0.9999\n",
      "Epoch 69/100\n",
      "347/347 [==============================] - 1s 4ms/step - loss: 8.9050e-05 - binary_accuracy: 0.9999\n",
      "Epoch 70/100\n",
      "347/347 [==============================] - 1s 4ms/step - loss: 7.1363e-06 - binary_accuracy: 1.0000\n",
      "Epoch 71/100\n",
      "347/347 [==============================] - 1s 4ms/step - loss: 0.0012 - binary_accuracy: 0.9998\n",
      "Epoch 72/100\n",
      "347/347 [==============================] - 1s 4ms/step - loss: 0.0011 - binary_accuracy: 0.9994\n",
      "Epoch 73/100\n",
      "347/347 [==============================] - 1s 4ms/step - loss: 0.0033 - binary_accuracy: 0.9992\n",
      "Epoch 74/100\n",
      "347/347 [==============================] - 1s 4ms/step - loss: 2.4341e-04 - binary_accuracy: 0.9998\n",
      "Epoch 75/100\n"
     ]
    },
    {
     "name": "stdout",
     "output_type": "stream",
     "text": [
      "347/347 [==============================] - 1s 4ms/step - loss: 0.0053 - binary_accuracy: 0.9995\n",
      "Epoch 76/100\n",
      "347/347 [==============================] - 1s 4ms/step - loss: 1.0389e-11 - binary_accuracy: 1.0000\n",
      "Epoch 77/100\n",
      "347/347 [==============================] - 1s 4ms/step - loss: 0.0153 - binary_accuracy: 0.9995\n",
      "Epoch 78/100\n",
      "347/347 [==============================] - 1s 4ms/step - loss: 0.0233 - binary_accuracy: 0.9981\n",
      "Epoch 79/100\n",
      "347/347 [==============================] - 1s 4ms/step - loss: 9.3625e-04 - binary_accuracy: 0.9996\n",
      "Epoch 80/100\n",
      "347/347 [==============================] - 1s 4ms/step - loss: 2.6305e-04 - binary_accuracy: 0.9999\n",
      "Epoch 81/100\n",
      "347/347 [==============================] - 1s 4ms/step - loss: 0.0541 - binary_accuracy: 0.9995\n",
      "Epoch 82/100\n",
      "347/347 [==============================] - 1s 4ms/step - loss: 0.0016 - binary_accuracy: 0.9996\n",
      "Epoch 83/100\n",
      "347/347 [==============================] - 1s 4ms/step - loss: 3.6019e-04 - binary_accuracy: 0.9996\n",
      "Epoch 84/100\n",
      "347/347 [==============================] - 1s 4ms/step - loss: 7.4341e-04 - binary_accuracy: 0.9998\n",
      "Epoch 85/100\n",
      "347/347 [==============================] - 1s 4ms/step - loss: 4.8144e-04 - binary_accuracy: 1.0000\n",
      "Epoch 86/100\n",
      "347/347 [==============================] - 1s 4ms/step - loss: 3.8603e-04 - binary_accuracy: 1.0000\n",
      "Epoch 87/100\n",
      "347/347 [==============================] - 1s 4ms/step - loss: 1.2636e-04 - binary_accuracy: 0.9999\n",
      "Epoch 88/100\n",
      "347/347 [==============================] - 1s 4ms/step - loss: 5.8481e-05 - binary_accuracy: 1.0000\n",
      "Epoch 89/100\n",
      "347/347 [==============================] - 1s 4ms/step - loss: 1.2555e-04 - binary_accuracy: 0.9999\n",
      "Epoch 90/100\n",
      "347/347 [==============================] - 1s 4ms/step - loss: 7.8574e-10 - binary_accuracy: 1.0000\n",
      "Epoch 91/100\n",
      "347/347 [==============================] - 1s 4ms/step - loss: 1.2126e-05 - binary_accuracy: 1.0000\n",
      "Epoch 92/100\n",
      "347/347 [==============================] - 1s 4ms/step - loss: 9.1551e-07 - binary_accuracy: 1.0000\n",
      "Epoch 93/100\n",
      "347/347 [==============================] - 1s 4ms/step - loss: 3.0565e-08 - binary_accuracy: 1.0000\n",
      "Epoch 94/100\n",
      "347/347 [==============================] - 1s 4ms/step - loss: 5.8292e-05 - binary_accuracy: 1.0000\n",
      "Epoch 95/100\n",
      "347/347 [==============================] - 1s 4ms/step - loss: 0.0037 - binary_accuracy: 0.9997\n",
      "Epoch 96/100\n",
      "347/347 [==============================] - 1s 4ms/step - loss: 0.0098 - binary_accuracy: 0.9998\n",
      "Epoch 97/100\n",
      "347/347 [==============================] - 1s 4ms/step - loss: 0.0030 - binary_accuracy: 0.9992\n",
      "Epoch 98/100\n",
      "347/347 [==============================] - 1s 4ms/step - loss: 8.6711e-04 - binary_accuracy: 0.9990\n",
      "Epoch 99/100\n",
      "347/347 [==============================] - 1s 4ms/step - loss: 5.0169e-04 - binary_accuracy: 0.9995\n",
      "Epoch 100/100\n",
      "347/347 [==============================] - 1s 4ms/step - loss: 6.5535e-05 - binary_accuracy: 0.9999\n"
     ]
    },
    {
     "data": {
      "text/plain": [
       "<tensorflow.python.keras.callbacks.History at 0x7fda80047a30>"
      ]
     },
     "execution_count": 10,
     "metadata": {},
     "output_type": "execute_result"
    }
   ],
   "source": [
    "model.fit(x_train, y_train, epochs=100)"
   ]
  },
  {
   "cell_type": "markdown",
   "id": "d7972ad0",
   "metadata": {},
   "source": [
    "## Evaluate performance"
   ]
  },
  {
   "cell_type": "code",
   "execution_count": 13,
   "id": "96f3180c",
   "metadata": {},
   "outputs": [
    {
     "name": "stdout",
     "output_type": "stream",
     "text": [
      "116/116 [==============================] - 3s 24ms/step - loss: 0.0452 - binary_accuracy: 0.9997\n"
     ]
    },
    {
     "data": {
      "text/plain": [
       "[0.04523710533976555, 0.999729335308075]"
      ]
     },
     "execution_count": 13,
     "metadata": {},
     "output_type": "execute_result"
    }
   ],
   "source": [
    "model.evaluate(x_test, y_test)"
   ]
  },
  {
   "cell_type": "code",
   "execution_count": 14,
   "id": "64cf77a8",
   "metadata": {},
   "outputs": [
    {
     "name": "stdout",
     "output_type": "stream",
     "text": [
      "Predicted label: [[1.]]\n"
     ]
    },
    {
     "data": {
      "image/png": "[encoded data removed]",
      "text/plain": [
       "<Figure size 432x288 with 1 Axes>"
      ]
     },
     "metadata": {
      "needs_background": "light"
     },
     "output_type": "display_data"
    }
   ],
   "source": [
    "random_indx = np.random.choice(range(len(x_test)))\n",
    "\n",
    "test_img = x_test[random_indx]\n",
    "plt.imshow(test_img.reshape((28, 28)))\n",
    "\n",
    "prediction = model(np.expand_dims(test_img, axis=0))\n",
    "\n",
    "print(\"Predicted label: {}\".format(prediction))"
   ]
  },
  {
   "cell_type": "markdown",
   "id": "4bfc594d",
   "metadata": {},
   "source": [
    "## Compare regular models"
   ]
  },
  {
   "cell_type": "code",
   "execution_count": 15,
   "id": "63d0b02d",
   "metadata": {},
   "outputs": [
    {
     "data": {
      "text/plain": [
       "array([0, 1, 1, 0, 1, 0, 0, 1, 1, 1], dtype=uint8)"
      ]
     },
     "execution_count": 15,
     "metadata": {},
     "output_type": "execute_result"
    }
   ],
   "source": [
    "test_inputs = x_test[10:20]\n",
    "test_targets = y_test[10:20]\n",
    "\n",
    "test_targets"
   ]
  },
  {
   "cell_type": "code",
   "execution_count": 16,
   "id": "0acc506d",
   "metadata": {},
   "outputs": [],
   "source": [
    "def check_shapes(inputs, targets):\n",
    "    \n",
    "    # Add batch dimension if single element given as \n",
    "    new_inputs = inputs\n",
    "    if len(inputs.shape) == 3:\n",
    "        new_inputs = np.expand_dims(inputs, axis=0)\n",
    "        \n",
    "    new_targets = targets\n",
    "    if isinstance(test_targets, np.uint8):\n",
    "        new_targets = np.array([targets])\n",
    "    \n",
    "    return new_inputs, new_targets"
   ]
  },
  {
   "cell_type": "code",
   "execution_count": 17,
   "id": "9a48a0e0",
   "metadata": {},
   "outputs": [],
   "source": [
    "test_inputs, test_targets = check_shapes(test_inputs, test_targets)"
   ]
  },
  {
   "cell_type": "code",
   "execution_count": 18,
   "id": "355054ff",
   "metadata": {},
   "outputs": [],
   "source": [
    "model.compile(optimizer=\"adam\", loss=\"binary_crossentropy\", metrics=[\"binary_accuracy\"])\n",
    "mp_model = MomentPropagation(model)"
   ]
  },
  {
   "cell_type": "code",
   "execution_count": 19,
   "id": "1d3489b6",
   "metadata": {},
   "outputs": [
    {
     "data": {
      "text/plain": [
       "[<tf.Tensor: shape=(10, 1), dtype=float32, numpy=\n",
       " array([[0.],\n",
       "        [1.],\n",
       "        [1.],\n",
       "        [0.],\n",
       "        [1.],\n",
       "        [0.],\n",
       "        [0.],\n",
       "        [1.],\n",
       "        [1.],\n",
       "        [1.]], dtype=float32)>,\n",
       " <tf.Tensor: shape=(10, 1), dtype=float32, numpy=\n",
       " array([[0.],\n",
       "        [0.],\n",
       "        [0.],\n",
       "        [0.],\n",
       "        [0.],\n",
       "        [0.],\n",
       "        [0.],\n",
       "        [0.],\n",
       "        [0.],\n",
       "        [0.]], dtype=float32)>]"
      ]
     },
     "execution_count": 19,
     "metadata": {},
     "output_type": "execute_result"
    }
   ],
   "source": [
    "mp_result = mp_model.predict(test_inputs)\n",
    "mp_result"
   ]
  },
  {
   "cell_type": "code",
   "execution_count": 164,
   "id": "abf4508f",
   "metadata": {},
   "outputs": [
    {
     "data": {
      "text/plain": [
       "array([0., 1., 1., 0., 1., 0., 0., 1., 1., 1.])"
      ]
     },
     "execution_count": 164,
     "metadata": {},
     "output_type": "execute_result"
    }
   ],
   "source": [
    "dp_model = McDropout(model)\n",
    "dp_result = np.average(dp_model.predict(test_inputs, runs=), axis=1)\n",
    "dp_result"
   ]
  },
  {
   "cell_type": "code",
   "execution_count": 145,
   "id": "91fb32d1",
   "metadata": {},
   "outputs": [],
   "source": [
    "def bar_plot(first_values, second_values, metrics=(\"MP\", \"DP\"), ylabel=\"Max Entropy\"):\n",
    "    N = len(dp_result)\n",
    "    width = 0.35\n",
    "    ind = np.arange(N)\n",
    "\n",
    "    fig = plt.figure()\n",
    "    ax = fig.add_subplot(111)\n",
    "    rects1 = ax.bar(ind, mp_result[0].numpy().flatten(), width)\n",
    "    rects2 = ax.bar(ind+width, dp_result, width)\n",
    "\n",
    "    ax.set_ylabel(ylabel)\n",
    "\n",
    "    ax.legend((rects1[0], rects2[0]), (\"MP\", \"DP\"))"
   ]
  },
  {
   "cell_type": "code",
   "execution_count": 56,
   "id": "d2b5a8fe",
   "metadata": {},
   "outputs": [
    {
     "data": {
      "text/plain": [
       "array([0, 1, 1, 0, 1, 0, 0, 1, 1, 1], dtype=uint8)"
      ]
     },
     "execution_count": 56,
     "metadata": {},
     "output_type": "execute_result"
    }
   ],
   "source": [
    "test_targets"
   ]
  },
  {
   "cell_type": "code",
   "execution_count": 57,
   "id": "03780748",
   "metadata": {},
   "outputs": [
    {
     "data": {
      "image/png": "[encoded data removed]",
      "text/plain": [
       "<Figure size 432x288 with 1 Axes>"
      ]
     },
     "metadata": {
      "needs_background": "light"
     },
     "output_type": "display_data"
    }
   ],
   "source": [
    "bar_plot(mp_result[0].numpy().flatten(), dp_result, ylabel=\"Predictions\")"
   ]
  },
  {
   "cell_type": "markdown",
   "id": "73d7a3e4",
   "metadata": {},
   "source": [
    "# Compare Max Entropy values"
   ]
  },
  {
   "cell_type": "code",
   "execution_count": 22,
   "id": "d30f9ba8",
   "metadata": {},
   "outputs": [
    {
     "data": {
      "text/plain": [
       "array([0.0707085 , 0.57933255, 0.05123987, 0.46988175, 0.03555431,\n",
       "       0.32015345, 0.00613931, 0.22855385, 0.04223219, 0.45127518,\n",
       "       0.1842986 , 0.31798373, 0.01116035, 0.32422983, 0.35492749,\n",
       "       0.06091069, 0.32311445, 0.19183154, 0.02676271, 0.04576554,\n",
       "       0.48681686, 0.52281327, 0.0201278 , 0.27478687, 0.28582775,\n",
       "       0.32901713, 0.00945385, 0.38556276, 0.08332783, 0.51520236,\n",
       "       0.31498043, 0.41389879, 0.32253591, 0.32057703, 0.11799055,\n",
       "       0.30585555, 0.49227675, 0.38234053, 0.16689207, 0.10324091])"
      ]
     },
     "execution_count": 22,
     "metadata": {},
     "output_type": "execute_result"
    }
   ],
   "source": [
    "# mc dropout max_entropy\n",
    "%autoreload 2\n",
    "mc_max_entropy = dp_model.get_query_fn(\"max_entropy\")(x_test[10:50], runs=10)\n",
    "mc_max_entropy"
   ]
  },
  {
   "cell_type": "code",
   "execution_count": 23,
   "id": "a5f14f47",
   "metadata": {},
   "outputs": [
    {
     "data": {
      "text/plain": [
       "array([-3.64062726e-05, -8.08762212e-04,  1.71199627e-02,  1.13057405e-01,\n",
       "        4.61307727e-03, -8.06888391e-04, -8.04077717e-04,  3.82834580e-04,\n",
       "        2.55596149e-03,  3.35828122e-03,  1.76083714e-01,  2.79716030e-02,\n",
       "        4.05945815e-03,  4.30094361e-01, -4.20359604e-04,  1.61134510e-03,\n",
       "        7.92359351e-04, -9.25163797e-04,  4.02744785e-02,  5.72401623e-04,\n",
       "        4.27206382e-02,  1.37360528e-01, -3.56528675e-04,  2.47029662e-01,\n",
       "       -7.42303557e-04,  9.58972052e-02,  5.95259480e-03, -9.92949004e-04,\n",
       "       -4.27768216e-04, -3.33431293e-04,  1.41353870e-03,  2.77684303e-03,\n",
       "        2.06024875e-03, -6.06069574e-04,  3.35199535e-01, -8.76298524e-04,\n",
       "       -6.26561581e-04,  3.33899111e-01,  3.57485260e-04, -3.10349686e-04],\n",
       "      dtype=float32)"
      ]
     },
     "execution_count": 23,
     "metadata": {},
     "output_type": "execute_result"
    }
   ],
   "source": [
    "# moment propagation max entropy\n",
    "%autoreload 2\n",
    "mp_max_entropy = mp_model.get_query_fn(\"max_entropy\")(x_test[10:50])\n",
    "mp_max_entropy"
   ]
  },
  {
   "cell_type": "code",
   "execution_count": 24,
   "id": "0502d3a5",
   "metadata": {},
   "outputs": [
    {
     "data": {
      "image/png": "[encoded data removed]",
      "text/plain": [
       "<Figure size 432x288 with 1 Axes>"
      ]
     },
     "metadata": {
      "needs_background": "light"
     },
     "output_type": "display_data"
    }
   ],
   "source": [
    "bar_plot(mp_max_entropy, mc_max_entropy)"
   ]
  },
  {
   "cell_type": "markdown",
   "id": "5fb1194c",
   "metadata": {},
   "source": [
    "## Compare Max Var Ratios"
   ]
  },
  {
   "cell_type": "code",
   "execution_count": 25,
   "id": "8b80b4b5",
   "metadata": {},
   "outputs": [
    {
     "data": {
      "text/plain": [
       "array([1.99878229, 1.65733638, 1.96415398, 1.94737058, 1.98324748,\n",
       "       1.70842221, 1.92584981, 1.91551925, 1.89796888, 1.99896322,\n",
       "       1.85993408, 1.98641575, 1.92896778, 1.82628148, 1.91874005,\n",
       "       1.90233158, 1.86190385, 1.9708869 , 1.88789077, 1.99519536,\n",
       "       1.93286196, 1.97221883, 1.94711812, 1.98487426, 1.89794204,\n",
       "       1.87741475, 1.9515493 , 1.89151019, 1.99478935, 1.79628453,\n",
       "       1.78755483, 1.99808392, 1.95049979, 1.76454977, 1.92213   ,\n",
       "       1.84972171, 1.84407664, 1.78197192, 1.99745173, 1.94810611])"
      ]
     },
     "execution_count": 25,
     "metadata": {},
     "output_type": "execute_result"
    }
   ],
   "source": [
    "%autoreload 2\n",
    "dp_mvarr = dp_model.get_query_fn(\"max_var_ratio\")(x_test[10:50], runs=10)\n",
    "dp_mvarr"
   ]
  },
  {
   "cell_type": "code",
   "execution_count": 26,
   "id": "57e401f6",
   "metadata": {},
   "outputs": [
    {
     "data": {
      "text/plain": [
       "array([1.2362003e-04, 2.4199486e-05, 2.7520061e-03, 2.4491072e-02,\n",
       "       7.6472759e-04, 2.4437904e-05, 2.4795532e-05, 1.7851591e-04,\n",
       "       4.7278404e-04, 5.8519840e-04, 4.3228388e-02, 4.6992302e-03,\n",
       "       6.8497658e-04, 1.5547556e-01, 7.3909760e-05, 3.4296513e-04,\n",
       "       2.3275614e-04, 9.4175339e-06, 7.1012974e-03, 2.0354986e-04,\n",
       "       7.6007247e-03, 3.1332612e-02, 8.2135201e-05, 6.8224490e-02,\n",
       "       3.2663345e-05, 1.9957185e-02, 9.6106529e-04, 8.3446503e-07,\n",
       "       7.2956085e-05, 8.5115433e-05, 3.1614304e-04, 5.0354004e-04,\n",
       "       4.0429831e-04, 5.0067902e-05, 1.0558981e-01, 1.5616417e-05,\n",
       "       4.7445297e-05, 1.0498208e-01, 1.7517805e-04, 8.8095665e-05],\n",
       "      dtype=float32)"
      ]
     },
     "execution_count": 26,
     "metadata": {},
     "output_type": "execute_result"
    }
   ],
   "source": [
    "mp_mvarr = mp_model.get_query_fn(\"max_var_ratio\")(x_test[10:50])\n",
    "mp_mvarr"
   ]
  },
  {
   "cell_type": "code",
   "execution_count": 27,
   "id": "67abaf37",
   "metadata": {},
   "outputs": [
    {
     "data": {
      "image/png": "[encoded data removed]",
      "text/plain": [
       "<Figure size 432x288 with 1 Axes>"
      ]
     },
     "metadata": {
      "needs_background": "light"
     },
     "output_type": "display_data"
    }
   ],
   "source": [
    "bar_plot(mp_mvarr, dp_mvarr, ylabel=\"Max Var Ratios\")"
   ]
  },
  {
   "cell_type": "code",
   "execution_count": null,
   "id": "5cfff661",
   "metadata": {},
   "outputs": [],
   "source": []
  },
  {
   "cell_type": "code",
   "execution_count": null,
   "id": "bc9f266e",
   "metadata": {},
   "outputs": [],
   "source": []
  },
  {
   "cell_type": "code",
   "execution_count": null,
   "id": "bdfc6fab",
   "metadata": {},
   "outputs": [],
   "source": []
  }
 ],
 "metadata": {
  "kernelspec": {
   "display_name": "Python 3",
   "language": "python",
   "name": "python3"
  },
  "language_info": {
   "codemirror_mode": {
    "name": "ipython",
    "version": 3
   },
   "file_extension": ".py",
   "mimetype": "text/x-python",
   "name": "python",
   "nbconvert_exporter": "python",
   "pygments_lexer": "ipython3",
   "version": "3.8.8"
  }
 },
 "nbformat": 4,
 "nbformat_minor": 5
}
