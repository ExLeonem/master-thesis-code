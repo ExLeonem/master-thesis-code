{
 "cells": [
  {
   "cell_type": "code",
   "execution_count": 1,
   "id": "558be6aa",
   "metadata": {},
   "outputs": [],
   "source": [
    "import os, sys, importlib\n",
    "import pandas as pd\n",
    "import numpy as np\n",
    "import matplotlib.pyplot as plt\n",
    "\n",
    "import tensorflow as tf\n",
    "\n",
    "\n",
    "BASE_PATH = os.path.join(os.getcwd(), \"..\", \"..\")\n",
    "MODULE_PATH = os.path.join(BASE_PATH, \"modules\")\n",
    "DATASETS_PATH = os.path.join(BASE_PATH, \"datasets\")\n",
    "\n",
    "sys.path.append(MODULE_PATH)\n",
    "\n",
    "from data import BenchmarkData, DataSetType\n",
    "\n",
    "%load_ext autoreload "
   ]
  },
  {
   "cell_type": "code",
   "execution_count": 17,
   "id": "b8f1247d",
   "metadata": {},
   "outputs": [],
   "source": [
    "%autoreload 2\n",
    "\n",
    "benchmark = BenchmarkData(val, os.path.join(DATASETS_PATH, \"mnist\"), classes=9)"
   ]
  },
  {
   "cell_type": "code",
   "execution_count": 18,
   "id": "9267c2fb",
   "metadata": {},
   "outputs": [
    {
     "data": {
      "text/plain": [
       "(63042,)"
      ]
     },
     "execution_count": 18,
     "metadata": {},
     "output_type": "execute_result"
    }
   ],
   "source": [
    "benchmark.targets.shape"
   ]
  },
  {
   "cell_type": "code",
   "execution_count": null,
   "id": "477a6e8f",
   "metadata": {},
   "outputs": [],
   "source": []
  },
  {
   "cell_type": "code",
   "execution_count": null,
   "id": "eae8ceee",
   "metadata": {},
   "outputs": [],
   "source": []
  },
  {
   "cell_type": "code",
   "execution_count": null,
   "id": "73f323dd",
   "metadata": {},
   "outputs": [],
   "source": []
  },
  {
   "cell_type": "code",
   "execution_count": null,
   "id": "01970728",
   "metadata": {},
   "outputs": [],
   "source": []
  },
  {
   "cell_type": "code",
   "execution_count": null,
   "id": "ac9a1ab7",
   "metadata": {},
   "outputs": [],
   "source": []
  },
  {
   "cell_type": "code",
   "execution_count": null,
   "id": "42da1e7c",
   "metadata": {},
   "outputs": [],
   "source": []
  },
  {
   "cell_type": "code",
   "execution_count": null,
   "id": "e3f34a4f",
   "metadata": {},
   "outputs": [],
   "source": []
  },
  {
   "cell_type": "code",
   "execution_count": null,
   "id": "427db4ae",
   "metadata": {},
   "outputs": [],
   "source": []
  }
 ],
 "metadata": {
  "kernelspec": {
   "display_name": "Python 3",
   "language": "python",
   "name": "python3"
  },
  "language_info": {
   "codemirror_mode": {
    "name": "ipython",
    "version": 3
   },
   "file_extension": ".py",
   "mimetype": "text/x-python",
   "name": "python",
   "nbconvert_exporter": "python",
   "pygments_lexer": "ipython3",
   "version": "3.8.8"
  }
 },
 "nbformat": 4,
 "nbformat_minor": 5
}
