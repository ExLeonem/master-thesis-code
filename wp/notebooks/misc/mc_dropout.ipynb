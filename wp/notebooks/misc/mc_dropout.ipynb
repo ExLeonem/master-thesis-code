{
 "cells": [
  {
   "cell_type": "markdown",
   "id": "8f8d7618",
   "metadata": {},
   "source": [
    "# MC Dropout"
   ]
  },
  {
   "cell_type": "code",
   "execution_count": 1,
   "id": "da42a68c",
   "metadata": {},
   "outputs": [],
   "source": [
    "%load_ext autoreload"
   ]
  },
  {
   "cell_type": "code",
   "execution_count": 2,
   "id": "d0d2fb5f",
   "metadata": {},
   "outputs": [],
   "source": [
    "import os, sys\n",
    "\n",
    "import numpy as np\n",
    "import pandas as pd\n",
    "import matplotlib.pyplot as plt\n",
    "import seaborn as sns\n",
    "from sklearn.metrics import accuracy_score\n",
    "\n",
    "import tensorflow as tf\n",
    "import tensorflow.keras as keras\n",
    "from tensorflow.keras.models import  Sequential, Model\n",
    "from tensorflow.keras.layers import Dense, Dropout, Flatten,Conv2D, MaxPooling2D, Input\n",
    "from tensorflow.keras.datasets import mnist\n",
    "import tensorflow.keras.backend as K"
   ]
  },
  {
   "cell_type": "code",
   "execution_count": 3,
   "id": "feb02e48",
   "metadata": {},
   "outputs": [],
   "source": [
    "BASE_PATH = os.path.join(os.getcwd(), \"..\", \"..\")\n",
    "MODULES_PATH = os.path.join(BASE_PATH, \"modules\")\n",
    "\n",
    "sys.path.append(MODULES_PATH)\n",
    "from models import setup_growth"
   ]
  },
  {
   "cell_type": "code",
   "execution_count": 4,
   "id": "56026778",
   "metadata": {},
   "outputs": [
    {
     "name": "stdout",
     "output_type": "stream",
     "text": [
      "1 Physical GPU's,  1 Logical GPU's\n"
     ]
    }
   ],
   "source": [
    "setup_growth()"
   ]
  },
  {
   "cell_type": "code",
   "execution_count": 5,
   "id": "5f65dacc",
   "metadata": {},
   "outputs": [],
   "source": [
    "batch_size = 128\n",
    "num_classes = 10\n",
    "epochs = 12\n",
    "\n",
    "# Input image dimensions\n",
    "img_rows, img_cols = 28, 28"
   ]
  },
  {
   "cell_type": "code",
   "execution_count": 6,
   "id": "d9a9cc0b",
   "metadata": {},
   "outputs": [],
   "source": [
    "(x_train, y_train), (x_test, y_test) = mnist.load_data()"
   ]
  },
  {
   "cell_type": "code",
   "execution_count": 7,
   "id": "561fabf7",
   "metadata": {},
   "outputs": [],
   "source": [
    "if K.image_data_format() == 'channels_first':\n",
    "    x_train = x_train.reshape(x_train.shape[0], 1, img_rows, img_cols)\n",
    "    x_test = x_test.reshape(x_test.shape[0], 1, img_rows, img_cols)\n",
    "    input_shape = (1, img_rows, img_cols)\n",
    "else:\n",
    "    x_train = x_train.reshape(x_train.shape[0], img_rows, img_cols, 1)\n",
    "    x_test = x_test.reshape(x_test.shape[0], img_rows, img_cols, 1)\n",
    "    input_shape = (img_rows, img_cols, 1)"
   ]
  },
  {
   "cell_type": "code",
   "execution_count": 8,
   "id": "4322ec51",
   "metadata": {},
   "outputs": [
    {
     "name": "stdout",
     "output_type": "stream",
     "text": [
      "x_train shape:  (60000, 28, 28, 1)\n",
      "60000 train samples\n",
      "10000 test samples\n"
     ]
    }
   ],
   "source": [
    "x_train = x_train.astype(\"float32\")\n",
    "x_test = x_test.astype(\"float32\")\n",
    "x_train /= 255\n",
    "x_test /= 255\n",
    "\n",
    "print(\"x_train shape: \", x_train.shape)\n",
    "print(x_train.shape[0], \"train samples\")\n",
    "print(x_test.shape[0], \"test samples\")"
   ]
  },
  {
   "cell_type": "code",
   "execution_count": 9,
   "id": "efaaf355",
   "metadata": {},
   "outputs": [],
   "source": [
    "# convert class vectors to binary class matrices\n",
    "y_train = keras.utils.to_categorical(y_train, num_classes)\n",
    "y_test = keras.utils.to_categorical(y_test, num_classes)"
   ]
  },
  {
   "cell_type": "code",
   "execution_count": 10,
   "id": "741a1e12",
   "metadata": {},
   "outputs": [],
   "source": [
    "def get_dropout(input_tensor, p=0.5, mc=False):\n",
    "    if mc:\n",
    "        return Dropout(p)(input_tensor, training=True)\n",
    "    else:\n",
    "        return Dropout(p)(input_tensor)\n",
    "\n",
    "\n",
    "def get_model(mc=False, act=\"relu\"):\n",
    "    inp = Input(input_shape)\n",
    "    x = Conv2D(32, kernel_size=(3, 3), activation=act)(inp)\n",
    "    x = Conv2D(64, kernel_size=(3, 3), activation=act)(x)\n",
    "    x = MaxPooling2D(pool_size=(2, 2))(x)\n",
    "    x = get_dropout(x, p=0.25, mc=mc)\n",
    "    x = Flatten()(x)\n",
    "    x = Dense(128, activation=act)(x)\n",
    "    x = get_dropout(x, p=0.5, mc=mc)\n",
    "    out = Dense(num_classes, activation='softmax')(x)\n",
    "\n",
    "    model = Model(inputs=inp, outputs=out)\n",
    "\n",
    "    model.compile(loss=keras.losses.categorical_crossentropy,\n",
    "                  optimizer=keras.optimizers.Adadelta(),\n",
    "                  metrics=['accuracy'])\n",
    "    return model\n"
   ]
  },
  {
   "cell_type": "code",
   "execution_count": 11,
   "id": "4897de95",
   "metadata": {},
   "outputs": [],
   "source": [
    "model = get_model()\n",
    "mc_model = get_model(mc=True)"
   ]
  },
  {
   "cell_type": "code",
   "execution_count": 12,
   "id": "6df3b0a5",
   "metadata": {},
   "outputs": [
    {
     "name": "stdout",
     "output_type": "stream",
     "text": [
      "Epoch 1/10\n",
      "469/469 [==============================] - 12s 26ms/step - loss: 2.2937 - accuracy: 0.1238 - val_loss: 2.2751 - val_accuracy: 0.2104\n",
      "Epoch 2/10\n",
      "469/469 [==============================] - 4s 7ms/step - loss: 2.2630 - accuracy: 0.2062 - val_loss: 2.2393 - val_accuracy: 0.3608\n",
      "Epoch 3/10\n",
      "469/469 [==============================] - 3s 7ms/step - loss: 2.2258 - accuracy: 0.2959 - val_loss: 2.1922 - val_accuracy: 0.4370\n",
      "Epoch 4/10\n",
      "469/469 [==============================] - 3s 7ms/step - loss: 2.1756 - accuracy: 0.3720 - val_loss: 2.1265 - val_accuracy: 0.5449\n",
      "Epoch 5/10\n",
      "469/469 [==============================] - 3s 7ms/step - loss: 2.1020 - accuracy: 0.4453 - val_loss: 2.0333 - val_accuracy: 0.6373\n",
      "Epoch 6/10\n",
      "469/469 [==============================] - 3s 7ms/step - loss: 2.0016 - accuracy: 0.5001 - val_loss: 1.9031 - val_accuracy: 0.6913\n",
      "Epoch 7/10\n",
      "469/469 [==============================] - 3s 7ms/step - loss: 1.8669 - accuracy: 0.5441 - val_loss: 1.7283 - val_accuracy: 0.7198\n",
      "Epoch 8/10\n",
      "469/469 [==============================] - 3s 7ms/step - loss: 1.6981 - accuracy: 0.5785 - val_loss: 1.5193 - val_accuracy: 0.7426\n",
      "Epoch 9/10\n",
      "469/469 [==============================] - 3s 7ms/step - loss: 1.5151 - accuracy: 0.6104 - val_loss: 1.3047 - val_accuracy: 0.7692\n",
      "Epoch 10/10\n",
      "469/469 [==============================] - 3s 7ms/step - loss: 1.3444 - accuracy: 0.6373 - val_loss: 1.1152 - val_accuracy: 0.7895\n"
     ]
    },
    {
     "data": {
      "text/plain": [
       "<tensorflow.python.keras.callbacks.History at 0x7f20240a2a90>"
      ]
     },
     "execution_count": 12,
     "metadata": {},
     "output_type": "execute_result"
    }
   ],
   "source": [
    "model.fit(x_train, y_train, batch_size=batch_size, epochs=10, verbose=1, validation_data=(x_test, y_test))"
   ]
  },
  {
   "cell_type": "code",
   "execution_count": 13,
   "id": "f83dbaef",
   "metadata": {},
   "outputs": [
    {
     "name": "stdout",
     "output_type": "stream",
     "text": [
      "Test loss:  1.1152267456054688\n",
      "Test accuracy:  0.7894999980926514\n"
     ]
    }
   ],
   "source": [
    "score = model.evaluate(x_test, y_test, verbose=0)\n",
    "\n",
    "print(\"Test loss: \", score[0])\n",
    "print(\"Test accuracy: \", score[1])"
   ]
  },
  {
   "cell_type": "code",
   "execution_count": 14,
   "id": "062c5e2b",
   "metadata": {},
   "outputs": [
    {
     "name": "stdout",
     "output_type": "stream",
     "text": [
      "Epoch 1/10\n",
      "469/469 [==============================] - 3s 7ms/step - loss: 2.2833 - accuracy: 0.1287 - val_loss: 2.2573 - val_accuracy: 0.1672\n",
      "Epoch 2/10\n",
      "469/469 [==============================] - 3s 7ms/step - loss: 2.2346 - accuracy: 0.2166 - val_loss: 2.2032 - val_accuracy: 0.2743\n",
      "Epoch 3/10\n",
      "469/469 [==============================] - 3s 7ms/step - loss: 2.1726 - accuracy: 0.3151 - val_loss: 2.1327 - val_accuracy: 0.3538\n",
      "Epoch 4/10\n",
      "469/469 [==============================] - 3s 7ms/step - loss: 2.0896 - accuracy: 0.3971 - val_loss: 2.0351 - val_accuracy: 0.4411\n",
      "Epoch 5/10\n",
      "469/469 [==============================] - 3s 7ms/step - loss: 1.9841 - accuracy: 0.4629 - val_loss: 1.9122 - val_accuracy: 0.4972\n",
      "Epoch 6/10\n",
      "469/469 [==============================] - 3s 7ms/step - loss: 1.8459 - accuracy: 0.5239 - val_loss: 1.7589 - val_accuracy: 0.5492\n",
      "Epoch 7/10\n",
      "469/469 [==============================] - 3s 7ms/step - loss: 1.6831 - accuracy: 0.5715 - val_loss: 1.5887 - val_accuracy: 0.5989\n",
      "Epoch 8/10\n",
      "469/469 [==============================] - 3s 7ms/step - loss: 1.5093 - accuracy: 0.6126 - val_loss: 1.4120 - val_accuracy: 0.6307\n",
      "Epoch 9/10\n",
      "469/469 [==============================] - 3s 7ms/step - loss: 1.3478 - accuracy: 0.6429 - val_loss: 1.2640 - val_accuracy: 0.6588\n",
      "Epoch 10/10\n",
      "469/469 [==============================] - 3s 7ms/step - loss: 1.2134 - accuracy: 0.6673 - val_loss: 1.1373 - val_accuracy: 0.6792\n"
     ]
    }
   ],
   "source": [
    "h_mc = mc_model.fit(x_train, y_train, batch_size=batch_size, epochs=10, verbose=1, validation_data=(x_test, y_test))"
   ]
  },
  {
   "cell_type": "markdown",
   "id": "ba38cd8a",
   "metadata": {},
   "source": [
    "# Debugg Mc Dropout"
   ]
  },
  {
   "cell_type": "code",
   "execution_count": 28,
   "id": "cbbd23dd",
   "metadata": {},
   "outputs": [],
   "source": [
    "%autoreload 2\n",
    "from active_learning import TrainConfig\n",
    "from bayesian import McDropout"
   ]
  },
  {
   "cell_type": "code",
   "execution_count": 223,
   "id": "545ee204",
   "metadata": {},
   "outputs": [
    {
     "name": "stdout",
     "output_type": "stream",
     "text": [
      "Epoch 1/100\n",
      "1000/1000 [==============================] - 4s 4ms/step - loss: 1.0690 - accuracy: 0.6945\n",
      "Epoch 2/100\n",
      "1000/1000 [==============================] - 4s 4ms/step - loss: 0.9515 - accuracy: 0.7186\n",
      "Epoch 3/100\n",
      "1000/1000 [==============================] - 4s 4ms/step - loss: 0.8713 - accuracy: 0.7372\n",
      "Epoch 4/100\n",
      "1000/1000 [==============================] - 4s 4ms/step - loss: 0.8135 - accuracy: 0.7556\n",
      "Epoch 5/100\n",
      "1000/1000 [==============================] - 4s 4ms/step - loss: 0.7631 - accuracy: 0.7689\n",
      "Epoch 6/100\n",
      "1000/1000 [==============================] - 4s 4ms/step - loss: 0.7294 - accuracy: 0.7781\n",
      "Epoch 7/100\n",
      "1000/1000 [==============================] - 4s 4ms/step - loss: 0.6928 - accuracy: 0.7891\n",
      "Epoch 8/100\n",
      "1000/1000 [==============================] - 4s 4ms/step - loss: 0.6630 - accuracy: 0.7998\n",
      "Epoch 9/100\n",
      "1000/1000 [==============================] - 4s 4ms/step - loss: 0.6432 - accuracy: 0.8040\n",
      "Epoch 10/100\n",
      "1000/1000 [==============================] - 4s 4ms/step - loss: 0.6227 - accuracy: 0.8108\n",
      "Epoch 11/100\n",
      "1000/1000 [==============================] - 4s 4ms/step - loss: 0.6085 - accuracy: 0.8130\n",
      "Epoch 12/100\n",
      "1000/1000 [==============================] - 4s 4ms/step - loss: 0.5867 - accuracy: 0.8217\n",
      "Epoch 13/100\n",
      "1000/1000 [==============================] - 4s 4ms/step - loss: 0.5777 - accuracy: 0.8243\n",
      "Epoch 14/100\n",
      "1000/1000 [==============================] - 4s 4ms/step - loss: 0.5574 - accuracy: 0.8297\n",
      "Epoch 15/100\n",
      "1000/1000 [==============================] - 4s 4ms/step - loss: 0.5479 - accuracy: 0.8339\n",
      "Epoch 16/100\n",
      "1000/1000 [==============================] - 4s 4ms/step - loss: 0.5349 - accuracy: 0.8383\n",
      "Epoch 17/100\n",
      "1000/1000 [==============================] - 4s 4ms/step - loss: 0.5283 - accuracy: 0.8371\n",
      "Epoch 18/100\n",
      "1000/1000 [==============================] - 4s 4ms/step - loss: 0.5186 - accuracy: 0.8432\n",
      "Epoch 19/100\n",
      "1000/1000 [==============================] - 4s 4ms/step - loss: 0.5046 - accuracy: 0.8488\n",
      "Epoch 20/100\n",
      "1000/1000 [==============================] - 4s 4ms/step - loss: 0.4967 - accuracy: 0.8508\n",
      "Epoch 21/100\n",
      "1000/1000 [==============================] - 4s 4ms/step - loss: 0.4930 - accuracy: 0.8508\n",
      "Epoch 22/100\n",
      "1000/1000 [==============================] - 4s 4ms/step - loss: 0.4849 - accuracy: 0.8533\n",
      "Epoch 23/100\n",
      "1000/1000 [==============================] - 4s 4ms/step - loss: 0.4813 - accuracy: 0.8546\n",
      "Epoch 24/100\n",
      "1000/1000 [==============================] - 4s 4ms/step - loss: 0.4703 - accuracy: 0.8572\n",
      "Epoch 25/100\n",
      "1000/1000 [==============================] - 4s 4ms/step - loss: 0.4694 - accuracy: 0.8587\n",
      "Epoch 26/100\n",
      "1000/1000 [==============================] - 4s 4ms/step - loss: 0.4594 - accuracy: 0.8612\n",
      "Epoch 27/100\n",
      "1000/1000 [==============================] - 4s 4ms/step - loss: 0.4558 - accuracy: 0.8620\n",
      "Epoch 28/100\n",
      "1000/1000 [==============================] - 4s 4ms/step - loss: 0.4482 - accuracy: 0.8639\n",
      "Epoch 29/100\n",
      "1000/1000 [==============================] - 4s 4ms/step - loss: 0.4436 - accuracy: 0.8663\n",
      "Epoch 30/100\n",
      "1000/1000 [==============================] - 4s 4ms/step - loss: 0.4402 - accuracy: 0.8674\n",
      "Epoch 31/100\n",
      "1000/1000 [==============================] - 4s 4ms/step - loss: 0.4335 - accuracy: 0.8696\n",
      "Epoch 32/100\n",
      "1000/1000 [==============================] - 4s 4ms/step - loss: 0.4286 - accuracy: 0.8693\n",
      "Epoch 33/100\n",
      "1000/1000 [==============================] - 4s 4ms/step - loss: 0.4255 - accuracy: 0.8717\n",
      "Epoch 34/100\n",
      "1000/1000 [==============================] - 4s 4ms/step - loss: 0.4243 - accuracy: 0.8713\n",
      "Epoch 35/100\n",
      "1000/1000 [==============================] - 4s 4ms/step - loss: 0.4177 - accuracy: 0.8734\n",
      "Epoch 36/100\n",
      "1000/1000 [==============================] - 4s 4ms/step - loss: 0.4139 - accuracy: 0.8756\n",
      "Epoch 37/100\n",
      "1000/1000 [==============================] - 4s 4ms/step - loss: 0.4109 - accuracy: 0.8757\n",
      "Epoch 38/100\n",
      "1000/1000 [==============================] - 4s 4ms/step - loss: 0.4079 - accuracy: 0.8777\n",
      "Epoch 39/100\n",
      "1000/1000 [==============================] - 4s 4ms/step - loss: 0.3970 - accuracy: 0.8806\n",
      "Epoch 40/100\n",
      "1000/1000 [==============================] - 4s 4ms/step - loss: 0.3993 - accuracy: 0.8809\n",
      "Epoch 41/100\n",
      "1000/1000 [==============================] - 4s 4ms/step - loss: 0.3961 - accuracy: 0.8811\n",
      "Epoch 42/100\n",
      "1000/1000 [==============================] - 4s 4ms/step - loss: 0.3948 - accuracy: 0.8810\n",
      "Epoch 43/100\n",
      "1000/1000 [==============================] - 4s 4ms/step - loss: 0.3889 - accuracy: 0.8834\n",
      "Epoch 44/100\n",
      "1000/1000 [==============================] - 4s 4ms/step - loss: 0.3879 - accuracy: 0.8834\n",
      "Epoch 45/100\n",
      "1000/1000 [==============================] - 4s 4ms/step - loss: 0.3811 - accuracy: 0.8860\n",
      "Epoch 46/100\n",
      "1000/1000 [==============================] - 4s 4ms/step - loss: 0.3819 - accuracy: 0.8850\n",
      "Epoch 47/100\n",
      "1000/1000 [==============================] - 4s 4ms/step - loss: 0.3764 - accuracy: 0.8876\n",
      "Epoch 48/100\n",
      "1000/1000 [==============================] - 4s 4ms/step - loss: 0.3737 - accuracy: 0.8887\n",
      "Epoch 49/100\n",
      "1000/1000 [==============================] - 4s 4ms/step - loss: 0.3714 - accuracy: 0.8889\n",
      "Epoch 50/100\n",
      "1000/1000 [==============================] - 4s 4ms/step - loss: 0.3694 - accuracy: 0.8899\n",
      "Epoch 51/100\n",
      "1000/1000 [==============================] - 4s 4ms/step - loss: 0.3653 - accuracy: 0.8913\n",
      "Epoch 52/100\n",
      "1000/1000 [==============================] - 4s 4ms/step - loss: 0.3658 - accuracy: 0.8912\n",
      "Epoch 53/100\n",
      "1000/1000 [==============================] - 4s 4ms/step - loss: 0.3636 - accuracy: 0.8907\n",
      "Epoch 54/100\n",
      "1000/1000 [==============================] - 4s 4ms/step - loss: 0.3571 - accuracy: 0.8942\n",
      "Epoch 55/100\n",
      "1000/1000 [==============================] - 4s 4ms/step - loss: 0.3586 - accuracy: 0.8928\n",
      "Epoch 56/100\n",
      "1000/1000 [==============================] - 4s 4ms/step - loss: 0.3549 - accuracy: 0.8946\n",
      "Epoch 57/100\n",
      "1000/1000 [==============================] - 4s 4ms/step - loss: 0.3543 - accuracy: 0.8940\n",
      "Epoch 58/100\n",
      "1000/1000 [==============================] - 4s 4ms/step - loss: 0.3515 - accuracy: 0.8946\n",
      "Epoch 59/100\n",
      "1000/1000 [==============================] - 4s 4ms/step - loss: 0.3492 - accuracy: 0.8958\n",
      "Epoch 60/100\n",
      "1000/1000 [==============================] - 4s 4ms/step - loss: 0.3457 - accuracy: 0.8978\n",
      "Epoch 61/100\n",
      "1000/1000 [==============================] - 4s 4ms/step - loss: 0.3414 - accuracy: 0.8974\n",
      "Epoch 62/100\n",
      "1000/1000 [==============================] - 4s 4ms/step - loss: 0.3423 - accuracy: 0.8981\n",
      "Epoch 63/100\n",
      "1000/1000 [==============================] - 4s 4ms/step - loss: 0.3398 - accuracy: 0.8975\n",
      "Epoch 64/100\n",
      "1000/1000 [==============================] - 4s 4ms/step - loss: 0.3375 - accuracy: 0.8994\n",
      "Epoch 65/100\n",
      "1000/1000 [==============================] - 4s 4ms/step - loss: 0.3371 - accuracy: 0.8997\n",
      "Epoch 66/100\n",
      "1000/1000 [==============================] - 4s 4ms/step - loss: 0.3342 - accuracy: 0.9008\n",
      "Epoch 67/100\n",
      "1000/1000 [==============================] - 4s 4ms/step - loss: 0.3302 - accuracy: 0.9018\n",
      "Epoch 68/100\n",
      "1000/1000 [==============================] - 4s 4ms/step - loss: 0.3299 - accuracy: 0.9018\n",
      "Epoch 69/100\n",
      "1000/1000 [==============================] - 4s 4ms/step - loss: 0.3266 - accuracy: 0.9022\n",
      "Epoch 70/100\n",
      "1000/1000 [==============================] - 4s 4ms/step - loss: 0.3269 - accuracy: 0.9031\n",
      "Epoch 71/100\n",
      "1000/1000 [==============================] - 4s 4ms/step - loss: 0.3274 - accuracy: 0.9037\n",
      "Epoch 72/100\n",
      "1000/1000 [==============================] - 4s 4ms/step - loss: 0.3209 - accuracy: 0.9055\n",
      "Epoch 73/100\n",
      "1000/1000 [==============================] - 4s 4ms/step - loss: 0.3201 - accuracy: 0.9047\n",
      "Epoch 74/100\n",
      "1000/1000 [==============================] - 4s 4ms/step - loss: 0.3219 - accuracy: 0.9044\n",
      "Epoch 75/100\n",
      "1000/1000 [==============================] - 4s 4ms/step - loss: 0.3167 - accuracy: 0.9057\n",
      "Epoch 76/100\n",
      "1000/1000 [==============================] - 4s 4ms/step - loss: 0.3162 - accuracy: 0.9072\n",
      "Epoch 77/100\n",
      "1000/1000 [==============================] - 4s 4ms/step - loss: 0.3161 - accuracy: 0.9051\n",
      "Epoch 78/100\n",
      "1000/1000 [==============================] - 4s 4ms/step - loss: 0.3152 - accuracy: 0.9067\n",
      "Epoch 79/100\n"
     ]
    },
    {
     "name": "stdout",
     "output_type": "stream",
     "text": [
      "1000/1000 [==============================] - 4s 4ms/step - loss: 0.3085 - accuracy: 0.9086\n",
      "Epoch 80/100\n",
      "1000/1000 [==============================] - 4s 4ms/step - loss: 0.3084 - accuracy: 0.9080\n",
      "Epoch 81/100\n",
      "1000/1000 [==============================] - 4s 4ms/step - loss: 0.3089 - accuracy: 0.9089\n",
      "Epoch 82/100\n",
      "1000/1000 [==============================] - 4s 4ms/step - loss: 0.3074 - accuracy: 0.9086\n",
      "Epoch 83/100\n",
      "1000/1000 [==============================] - 4s 4ms/step - loss: 0.3057 - accuracy: 0.9096\n",
      "Epoch 84/100\n",
      "1000/1000 [==============================] - 4s 4ms/step - loss: 0.3043 - accuracy: 0.9101\n",
      "Epoch 85/100\n",
      "1000/1000 [==============================] - 4s 4ms/step - loss: 0.3048 - accuracy: 0.9117\n",
      "Epoch 86/100\n",
      "1000/1000 [==============================] - 4s 4ms/step - loss: 0.2980 - accuracy: 0.9105\n",
      "Epoch 87/100\n",
      "1000/1000 [==============================] - 4s 4ms/step - loss: 0.2963 - accuracy: 0.9120\n",
      "Epoch 88/100\n",
      "1000/1000 [==============================] - 4s 4ms/step - loss: 0.2995 - accuracy: 0.9107\n",
      "Epoch 89/100\n",
      "1000/1000 [==============================] - 4s 4ms/step - loss: 0.2963 - accuracy: 0.9115\n",
      "Epoch 90/100\n",
      "1000/1000 [==============================] - 4s 4ms/step - loss: 0.2943 - accuracy: 0.9133\n",
      "Epoch 91/100\n",
      "1000/1000 [==============================] - 4s 4ms/step - loss: 0.2938 - accuracy: 0.9133\n",
      "Epoch 92/100\n",
      "1000/1000 [==============================] - 4s 4ms/step - loss: 0.2950 - accuracy: 0.9123\n",
      "Epoch 93/100\n",
      "1000/1000 [==============================] - 4s 4ms/step - loss: 0.2920 - accuracy: 0.9137\n",
      "Epoch 94/100\n",
      "1000/1000 [==============================] - 4s 4ms/step - loss: 0.2885 - accuracy: 0.9154\n",
      "Epoch 95/100\n",
      "1000/1000 [==============================] - 4s 4ms/step - loss: 0.2914 - accuracy: 0.9137\n",
      "Epoch 96/100\n",
      "1000/1000 [==============================] - 4s 4ms/step - loss: 0.2909 - accuracy: 0.9143\n",
      "Epoch 97/100\n",
      "1000/1000 [==============================] - 4s 4ms/step - loss: 0.2820 - accuracy: 0.9172\n",
      "Epoch 98/100\n",
      "1000/1000 [==============================] - 4s 4ms/step - loss: 0.2872 - accuracy: 0.9150\n",
      "Epoch 99/100\n",
      "1000/1000 [==============================] - 4s 4ms/step - loss: 0.2819 - accuracy: 0.9167\n",
      "Epoch 100/100\n",
      "1000/1000 [==============================] - 4s 4ms/step - loss: 0.2823 - accuracy: 0.9164\n"
     ]
    },
    {
     "data": {
      "text/plain": [
       "<tensorflow.python.keras.callbacks.History at 0x7f215059d040>"
      ]
     },
     "execution_count": 223,
     "metadata": {},
     "output_type": "execute_result"
    }
   ],
   "source": [
    "mc_model.fit(x_train, y_train, epochs=100, batch_size=60)"
   ]
  },
  {
   "cell_type": "code",
   "execution_count": 229,
   "id": "1e384643",
   "metadata": {},
   "outputs": [
    {
     "name": "stdout",
     "output_type": "stream",
     "text": [
      "313/313 [==============================] - 1s 3ms/step - loss: 0.2722 - accuracy: 0.9203\n"
     ]
    },
    {
     "data": {
      "text/plain": [
       "[0.27217549085617065, 0.9203000068664551]"
      ]
     },
     "execution_count": 229,
     "metadata": {},
     "output_type": "execute_result"
    }
   ],
   "source": [
    "mc_model.evaluate(x_test, y_test)"
   ]
  },
  {
   "cell_type": "code",
   "execution_count": null,
   "id": "a97e2232",
   "metadata": {},
   "outputs": [],
   "source": []
  },
  {
   "cell_type": "code",
   "execution_count": null,
   "id": "15c3cd20",
   "metadata": {},
   "outputs": [],
   "source": []
  },
  {
   "cell_type": "code",
   "execution_count": null,
   "id": "e8678c1d",
   "metadata": {},
   "outputs": [],
   "source": []
  }
 ],
 "metadata": {
  "kernelspec": {
   "display_name": "Python 3",
   "language": "python",
   "name": "python3"
  },
  "language_info": {
   "codemirror_mode": {
    "name": "ipython",
    "version": 3
   },
   "file_extension": ".py",
   "mimetype": "text/x-python",
   "name": "python",
   "nbconvert_exporter": "python",
   "pygments_lexer": "ipython3",
   "version": "3.8.8"
  }
 },
 "nbformat": 4,
 "nbformat_minor": 5
}
