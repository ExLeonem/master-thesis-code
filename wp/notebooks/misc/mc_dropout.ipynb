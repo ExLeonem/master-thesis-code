{
 "cells": [
  {
   "cell_type": "markdown",
   "id": "00644ae9",
   "metadata": {},
   "source": [
    "# MC Dropout"
   ]
  },
  {
   "cell_type": "code",
   "execution_count": 1,
   "id": "da42a68c",
   "metadata": {},
   "outputs": [],
   "source": [
    "%load_ext autoreload"
   ]
  },
  {
   "cell_type": "code",
   "execution_count": 2,
   "id": "d0d2fb5f",
   "metadata": {},
   "outputs": [],
   "source": [
    "import os, sys\n",
    "\n",
    "import numpy as np\n",
    "import pandas as pd\n",
    "import matplotlib.pyplot as plt\n",
    "import seaborn as sns\n",
    "from sklearn.metrics import accuracy_score\n",
    "\n",
    "import tensorflow as tf\n",
    "import tensorflow.keras as keras\n",
    "from tensorflow.keras.models import  Sequential, Model\n",
    "from tensorflow.keras.layers import Dense, Dropout, Flatten,Conv2D, MaxPooling2D, Input\n",
    "from tensorflow.keras.datasets import mnist\n",
    "import tensorflow.keras.backend as K"
   ]
  },
  {
   "cell_type": "code",
   "execution_count": 3,
   "id": "feb02e48",
   "metadata": {},
   "outputs": [],
   "source": [
    "BASE_PATH = os.path.join(os.getcwd(), \"..\", \"..\")\n",
    "MODULES_PATH = os.path.join(BASE_PATH, \"modules\")\n",
    "\n",
    "sys.path.append(MODULES_PATH)\n",
    "from models import setup_growth"
   ]
  },
  {
   "cell_type": "code",
   "execution_count": 4,
   "id": "56026778",
   "metadata": {},
   "outputs": [
    {
     "name": "stdout",
     "output_type": "stream",
     "text": [
      "1 Physical GPU's,  1 Logical GPU's\n"
     ]
    }
   ],
   "source": [
    "setup_growth()"
   ]
  },
  {
   "cell_type": "code",
   "execution_count": 5,
   "id": "5f65dacc",
   "metadata": {},
   "outputs": [],
   "source": [
    "batch_size = 128\n",
    "num_classes = 10\n",
    "epochs = 12\n",
    "\n",
    "# Input image dimensions\n",
    "img_rows, img_cols = 28, 28"
   ]
  },
  {
   "cell_type": "code",
   "execution_count": 6,
   "id": "d9a9cc0b",
   "metadata": {},
   "outputs": [],
   "source": [
    "(x_train, y_train), (x_test, y_test) = mnist.load_data()"
   ]
  },
  {
   "cell_type": "code",
   "execution_count": 7,
   "id": "561fabf7",
   "metadata": {},
   "outputs": [],
   "source": [
    "if K.image_data_format() == 'channels_first':\n",
    "    x_train = x_train.reshape(x_train.shape[0], 1, img_rows, img_cols)\n",
    "    x_test = x_test.reshape(x_test.shape[0], 1, img_rows, img_cols)\n",
    "    input_shape = (1, img_rows, img_cols)\n",
    "else:\n",
    "    x_train = x_train.reshape(x_train.shape[0], img_rows, img_cols, 1)\n",
    "    x_test = x_test.reshape(x_test.shape[0], img_rows, img_cols, 1)\n",
    "    input_shape = (img_rows, img_cols, 1)"
   ]
  },
  {
   "cell_type": "code",
   "execution_count": 8,
   "id": "4322ec51",
   "metadata": {},
   "outputs": [
    {
     "name": "stdout",
     "output_type": "stream",
     "text": [
      "x_train shape:  (60000, 28, 28, 1)\n",
      "60000 train samples\n",
      "10000 test samples\n"
     ]
    }
   ],
   "source": [
    "x_train = x_train.astype(\"float32\")\n",
    "x_test = x_test.astype(\"float32\")\n",
    "x_train /= 255\n",
    "x_test /= 255\n",
    "\n",
    "print(\"x_train shape: \", x_train.shape)\n",
    "print(x_train.shape[0], \"train samples\")\n",
    "print(x_test.shape[0], \"test samples\")"
   ]
  },
  {
   "cell_type": "code",
   "execution_count": 9,
   "id": "efaaf355",
   "metadata": {},
   "outputs": [],
   "source": [
    "# convert class vectors to binary class matrices\n",
    "y_train = keras.utils.to_categorical(y_train, num_classes)\n",
    "y_test = keras.utils.to_categorical(y_test, num_classes)"
   ]
  },
  {
   "cell_type": "code",
   "execution_count": 10,
   "id": "741a1e12",
   "metadata": {},
   "outputs": [],
   "source": [
    "def get_dropout(input_tensor, p=0.5, mc=False):\n",
    "    if mc:\n",
    "        return Dropout(p)(input_tensor, training=True)\n",
    "    else:\n",
    "        return Dropout(p)(input_tensor)\n",
    "\n",
    "\n",
    "def get_model(mc=False, act=\"relu\"):\n",
    "    inp = Input(input_shape)\n",
    "    x = Conv2D(32, kernel_size=(3, 3), activation=act)(inp)\n",
    "    x = Conv2D(64, kernel_size=(3, 3), activation=act)(x)\n",
    "    x = MaxPooling2D(pool_size=(2, 2))(x)\n",
    "    x = get_dropout(x, p=0.25, mc=mc)\n",
    "    x = Flatten()(x)\n",
    "    x = Dense(128, activation=act)(x)\n",
    "    x = get_dropout(x, p=0.5, mc=mc)\n",
    "    out = Dense(num_classes, activation='softmax')(x)\n",
    "\n",
    "    model = Model(inputs=inp, outputs=out)\n",
    "\n",
    "    model.compile(loss=keras.losses.categorical_crossentropy,\n",
    "                  optimizer=keras.optimizers.Adadelta(),\n",
    "                  metrics=['accuracy'])\n",
    "    return model\n"
   ]
  },
  {
   "cell_type": "code",
   "execution_count": 11,
   "id": "4897de95",
   "metadata": {},
   "outputs": [],
   "source": [
    "model = get_model()\n",
    "mc_model = get_model(mc=True)"
   ]
  },
  {
   "cell_type": "code",
   "execution_count": 12,
   "id": "6df3b0a5",
   "metadata": {},
   "outputs": [
    {
     "name": "stdout",
     "output_type": "stream",
     "text": [
      "Epoch 1/10\n",
      "469/469 [==============================] - 16s 34ms/step - loss: 2.2863 - accuracy: 0.1314 - val_loss: 2.2512 - val_accuracy: 0.2841\n",
      "Epoch 2/10\n",
      "469/469 [==============================] - 3s 7ms/step - loss: 2.2284 - accuracy: 0.2510 - val_loss: 2.1809 - val_accuracy: 0.5045\n",
      "Epoch 3/10\n",
      "469/469 [==============================] - 4s 8ms/step - loss: 2.1565 - accuracy: 0.3565 - val_loss: 2.0896 - val_accuracy: 0.6001\n",
      "Epoch 4/10\n",
      "469/469 [==============================] - 4s 8ms/step - loss: 2.0578 - accuracy: 0.4449 - val_loss: 1.9655 - val_accuracy: 0.6776\n",
      "Epoch 5/10\n",
      "469/469 [==============================] - 4s 8ms/step - loss: 1.9308 - accuracy: 0.5121 - val_loss: 1.8039 - val_accuracy: 0.7329\n",
      "Epoch 6/10\n",
      "469/469 [==============================] - 3s 7ms/step - loss: 1.7728 - accuracy: 0.5623 - val_loss: 1.6110 - val_accuracy: 0.7615\n",
      "Epoch 7/10\n",
      "469/469 [==============================] - 3s 7ms/step - loss: 1.5987 - accuracy: 0.6078 - val_loss: 1.4055 - val_accuracy: 0.7871\n",
      "Epoch 8/10\n",
      "469/469 [==============================] - 4s 7ms/step - loss: 1.4311 - accuracy: 0.6370 - val_loss: 1.2120 - val_accuracy: 0.8040\n",
      "Epoch 9/10\n",
      "469/469 [==============================] - 4s 8ms/step - loss: 1.2781 - accuracy: 0.6667 - val_loss: 1.0463 - val_accuracy: 0.8154\n",
      "Epoch 10/10\n",
      "469/469 [==============================] - 4s 8ms/step - loss: 1.1521 - accuracy: 0.6850 - val_loss: 0.9142 - val_accuracy: 0.8274\n"
     ]
    },
    {
     "data": {
      "text/plain": [
       "<tensorflow.python.keras.callbacks.History at 0x7fc09006d2e0>"
      ]
     },
     "execution_count": 12,
     "metadata": {},
     "output_type": "execute_result"
    }
   ],
   "source": [
    "model.fit(x_train, y_train, batch_size=batch_size, epochs=10, verbose=1, validation_data=(x_test, y_test))"
   ]
  },
  {
   "cell_type": "code",
   "execution_count": 13,
   "id": "f83dbaef",
   "metadata": {},
   "outputs": [
    {
     "name": "stdout",
     "output_type": "stream",
     "text": [
      "Test loss:  0.9142003059387207\n",
      "Test accuracy:  0.8274000287055969\n"
     ]
    }
   ],
   "source": [
    "score = model.evaluate(x_test, y_test, verbose=0)\n",
    "\n",
    "print(\"Test loss: \", score[0])\n",
    "print(\"Test accuracy: \", score[1])"
   ]
  },
  {
   "cell_type": "code",
   "execution_count": 14,
   "id": "062c5e2b",
   "metadata": {},
   "outputs": [
    {
     "name": "stdout",
     "output_type": "stream",
     "text": [
      "Epoch 1/10\n",
      "469/469 [==============================] - 4s 8ms/step - loss: 2.2776 - accuracy: 0.1641 - val_loss: 2.2510 - val_accuracy: 0.2255\n",
      "Epoch 2/10\n",
      "469/469 [==============================] - 4s 8ms/step - loss: 2.2221 - accuracy: 0.2821 - val_loss: 2.1882 - val_accuracy: 0.3380\n",
      "Epoch 3/10\n",
      "469/469 [==============================] - 4s 7ms/step - loss: 2.1501 - accuracy: 0.3892 - val_loss: 2.1030 - val_accuracy: 0.4360\n",
      "Epoch 4/10\n",
      "469/469 [==============================] - 3s 7ms/step - loss: 2.0516 - accuracy: 0.4639 - val_loss: 1.9864 - val_accuracy: 0.5084\n",
      "Epoch 5/10\n",
      "469/469 [==============================] - 3s 7ms/step - loss: 1.9173 - accuracy: 0.5278 - val_loss: 1.8242 - val_accuracy: 0.5638\n",
      "Epoch 6/10\n",
      "469/469 [==============================] - 4s 8ms/step - loss: 1.7476 - accuracy: 0.5702 - val_loss: 1.6458 - val_accuracy: 0.5955\n",
      "Epoch 7/10\n",
      "469/469 [==============================] - 4s 8ms/step - loss: 1.5647 - accuracy: 0.6089 - val_loss: 1.4678 - val_accuracy: 0.6274\n",
      "Epoch 8/10\n",
      "469/469 [==============================] - 4s 8ms/step - loss: 1.3935 - accuracy: 0.6334 - val_loss: 1.2945 - val_accuracy: 0.6606\n",
      "Epoch 9/10\n",
      "469/469 [==============================] - 4s 8ms/step - loss: 1.2474 - accuracy: 0.6597 - val_loss: 1.1641 - val_accuracy: 0.6766\n",
      "Epoch 10/10\n",
      "469/469 [==============================] - 4s 7ms/step - loss: 1.1283 - accuracy: 0.6813 - val_loss: 1.0589 - val_accuracy: 0.6972\n"
     ]
    }
   ],
   "source": [
    "h_mc = mc_model.fit(x_train, y_train, batch_size=batch_size, epochs=10, verbose=1, validation_data=(x_test, y_test))"
   ]
  },
  {
   "cell_type": "code",
   "execution_count": 15,
   "id": "1465b57a",
   "metadata": {},
   "outputs": [
    {
     "name": "stderr",
     "output_type": "stream",
     "text": [
      "100%|██████████| 500/500 [01:18<00:00,  6.39it/s]\n"
     ]
    }
   ],
   "source": [
    "import tqdm\n",
    "\n",
    "mc_predictions = []\n",
    "for i in tqdm.tqdm(range(500)):\n",
    "    y_p = mc_model.predict(x_test, batch_size=1000)\n",
    "    mc_predictions.append(y_p)\n",
    "    "
   ]
  },
  {
   "cell_type": "code",
   "execution_count": 16,
   "id": "3971c2f2",
   "metadata": {},
   "outputs": [
    {
     "name": "stdout",
     "output_type": "stream",
     "text": [
      "MC accuracy: 70.0%\n"
     ]
    }
   ],
   "source": [
    "accs = []\n",
    "for y_p in mc_predictions:\n",
    "    acc = accuracy_score(y_test.argmax(axis=1), y_p.argmax(axis=1))\n",
    "    accs.append(acc)\n",
    "    \n",
    "print(\"MC accuracy: {:.1%}\".format(sum(accs)/len(accs)))"
   ]
  },
  {
   "cell_type": "code",
   "execution_count": 18,
   "id": "cf2ee659",
   "metadata": {},
   "outputs": [
    {
     "data": {
      "text/plain": [
       "(10000, 10)"
      ]
     },
     "execution_count": 18,
     "metadata": {},
     "output_type": "execute_result"
    }
   ],
   "source": [
    "mc_predictions[0].shape"
   ]
  },
  {
   "cell_type": "code",
   "execution_count": 19,
   "id": "3ad7df35",
   "metadata": {},
   "outputs": [
    {
     "data": {
      "text/plain": [
       "(10000, 10, 500)"
      ]
     },
     "execution_count": 19,
     "metadata": {},
     "output_type": "execute_result"
    }
   ],
   "source": [
    "stacked = np.stack(mc_predictions, axis=2)\n",
    "stacked.shape"
   ]
  },
  {
   "cell_type": "code",
   "execution_count": 20,
   "id": "f96ebe53",
   "metadata": {},
   "outputs": [
    {
     "data": {
      "text/plain": [
       "(10000, 10, 500)"
      ]
     },
     "execution_count": 20,
     "metadata": {},
     "output_type": "execute_result"
    }
   ],
   "source": [
    "stacked.shape"
   ]
  },
  {
   "cell_type": "code",
   "execution_count": 21,
   "id": "5cb46816",
   "metadata": {},
   "outputs": [
    {
     "data": {
      "text/plain": [
       "(10000, 500)"
      ]
     },
     "execution_count": 21,
     "metadata": {},
     "output_type": "execute_result"
    }
   ],
   "source": [
    "maxes = stacked.argmax(axis=1)\n",
    "maxes.shape"
   ]
  },
  {
   "cell_type": "code",
   "execution_count": 22,
   "id": "db8c0420",
   "metadata": {},
   "outputs": [
    {
     "data": {
      "text/plain": [
       "(10000, 500)"
      ]
     },
     "execution_count": 22,
     "metadata": {},
     "output_type": "execute_result"
    }
   ],
   "source": [
    "stacked.argmax(axis=1).shape"
   ]
  },
  {
   "cell_type": "code",
   "execution_count": 23,
   "id": "9786296d",
   "metadata": {},
   "outputs": [],
   "source": [
    "means = np.mean(stacked, axis=2)"
   ]
  },
  {
   "cell_type": "code",
   "execution_count": 24,
   "id": "0efbae0f",
   "metadata": {},
   "outputs": [
    {
     "data": {
      "text/plain": [
       "0.8258"
      ]
     },
     "execution_count": 24,
     "metadata": {},
     "output_type": "execute_result"
    }
   ],
   "source": [
    "accuracy_score(y_test.argmax(axis=1), means.argmax(axis=1))"
   ]
  },
  {
   "cell_type": "code",
   "execution_count": 25,
   "id": "2f7581df",
   "metadata": {},
   "outputs": [
    {
     "name": "stdout",
     "output_type": "stream",
     "text": [
      "313/313 [==============================] - 1s 2ms/step - loss: 1.0542 - accuracy: 0.6970\n"
     ]
    },
    {
     "data": {
      "text/plain": [
       "[1.0541653633117676, 0.6970000267028809]"
      ]
     },
     "execution_count": 25,
     "metadata": {},
     "output_type": "execute_result"
    }
   ],
   "source": [
    "mc_model.evaluate(x_test, y_test)"
   ]
  },
  {
   "cell_type": "code",
   "execution_count": 26,
   "id": "400bd27d",
   "metadata": {},
   "outputs": [],
   "source": [
    "batches = np.split(stacked, 500, axis=2)"
   ]
  },
  {
   "cell_type": "code",
   "execution_count": 27,
   "id": "95512ada",
   "metadata": {},
   "outputs": [],
   "source": [
    "all_accs = []\n",
    "for batch in batches:\n",
    "    reshaped = batch.reshape(len(batch), 10)\n",
    "    new_score = accuracy_score(y_test.argmax(axis=1), reshaped.argmax(axis=1))\n",
    "    all_accs.append(new_score)"
   ]
  },
  {
   "cell_type": "code",
   "execution_count": 28,
   "id": "6bec6380",
   "metadata": {},
   "outputs": [
    {
     "data": {
      "text/plain": [
       "0.6999017999999994"
      ]
     },
     "execution_count": 28,
     "metadata": {},
     "output_type": "execute_result"
    }
   ],
   "source": [
    "sum(all_accs)/len(all_accs)"
   ]
  },
  {
   "cell_type": "markdown",
   "id": "daedf5b4",
   "metadata": {},
   "source": [
    "# Debugg Mc Dropout"
   ]
  },
  {
   "cell_type": "code",
   "execution_count": 29,
   "id": "7cd9cf9d",
   "metadata": {},
   "outputs": [],
   "source": [
    "from active_learning import TrainConfig\n",
    "from bayesian import McDropout"
   ]
  },
  {
   "cell_type": "code",
   "execution_count": 30,
   "id": "dde16f13",
   "metadata": {},
   "outputs": [],
   "source": [
    "wp_mc_model = McDropout(mc_model, TrainConfig())"
   ]
  },
  {
   "cell_type": "code",
   "execution_count": 31,
   "id": "64f84f90",
   "metadata": {},
   "outputs": [
    {
     "data": {
      "text/plain": [
       "[2.4117420833379772, 0.0]"
      ]
     },
     "execution_count": 31,
     "metadata": {},
     "output_type": "execute_result"
    }
   ],
   "source": [
    "wp_mc_model.evaluate(x_test, y_test, batch_size=300)"
   ]
  },
  {
   "cell_type": "code",
   "execution_count": 32,
   "id": "22647a8f",
   "metadata": {},
   "outputs": [],
   "source": [
    "results = wp_mc_model.batch_prediction(x_test, n_times=10, batch_size=1000)"
   ]
  },
  {
   "cell_type": "code",
   "execution_count": 33,
   "id": "39f28a24",
   "metadata": {},
   "outputs": [
    {
     "data": {
      "text/plain": [
       "(10000, 10, 10)"
      ]
     },
     "execution_count": 33,
     "metadata": {},
     "output_type": "execute_result"
    }
   ],
   "source": [
    "results.shape"
   ]
  },
  {
   "cell_type": "code",
   "execution_count": 35,
   "id": "41087542",
   "metadata": {},
   "outputs": [],
   "source": [
    "batches = np.split(results, 10, axis=1)"
   ]
  },
  {
   "cell_type": "code",
   "execution_count": 36,
   "id": "dd7bf1c8",
   "metadata": {},
   "outputs": [
    {
     "name": "stdout",
     "output_type": "stream",
     "text": [
      "0.1021\n",
      "0.1026\n",
      "0.1019\n",
      "0.1014\n",
      "0.1006\n",
      "0.0977\n",
      "0.1045\n",
      "0.1052\n",
      "0.1019\n",
      "0.0956\n"
     ]
    }
   ],
   "source": [
    "accs = []\n",
    "for batch in batches:\n",
    "    reshaped = batch.reshape(len(batch), 10)\n",
    "    score = accuracy_score(y_test.argmax(axis=1), reshaped.argmax(axis=1))\n",
    "    print(score)\n",
    "    accs.append(score)"
   ]
  },
  {
   "cell_type": "code",
   "execution_count": 114,
   "id": "f6aaa7bb",
   "metadata": {},
   "outputs": [
    {
     "data": {
      "text/plain": [
       "0.10246999999999999"
      ]
     },
     "execution_count": 114,
     "metadata": {},
     "output_type": "execute_result"
    }
   ],
   "source": [
    "sum(accs)/len(accs)"
   ]
  },
  {
   "cell_type": "code",
   "execution_count": 115,
   "id": "5bae0287",
   "metadata": {},
   "outputs": [],
   "source": [
    "g_model = wp_mc_model.get_model()"
   ]
  },
  {
   "cell_type": "code",
   "execution_count": 121,
   "id": "6c89fc6c",
   "metadata": {},
   "outputs": [
    {
     "name": "stdout",
     "output_type": "stream",
     "text": [
      "313/313 [==============================] - 1s 2ms/step - loss: 1.0524 - accuracy: 0.7008\n"
     ]
    },
    {
     "data": {
      "text/plain": [
       "[1.0524163246154785, 0.7008000016212463]"
      ]
     },
     "execution_count": 121,
     "metadata": {},
     "output_type": "execute_result"
    }
   ],
   "source": [
    "g_model.evaluate(x_test, y_test)"
   ]
  },
  {
   "cell_type": "code",
   "execution_count": null,
   "id": "8cd3884f",
   "metadata": {},
   "outputs": [],
   "source": []
  },
  {
   "cell_type": "code",
   "execution_count": null,
   "id": "e83cac84",
   "metadata": {},
   "outputs": [],
   "source": []
  },
  {
   "cell_type": "code",
   "execution_count": null,
   "id": "0acb00e4",
   "metadata": {},
   "outputs": [],
   "source": []
  },
  {
   "cell_type": "code",
   "execution_count": null,
   "id": "8e349e33",
   "metadata": {},
   "outputs": [],
   "source": []
  }
 ],
 "metadata": {
  "kernelspec": {
   "display_name": "Python 3",
   "language": "python",
   "name": "python3"
  },
  "language_info": {
   "codemirror_mode": {
    "name": "ipython",
    "version": 3
   },
   "file_extension": ".py",
   "mimetype": "text/x-python",
   "name": "python",
   "nbconvert_exporter": "python",
   "pygments_lexer": "ipython3",
   "version": "3.8.8"
  }
 },
 "nbformat": 4,
 "nbformat_minor": 5
}
