{
 "cells": [
  {
   "cell_type": "code",
   "execution_count": 1,
   "id": "d0ab5f3c",
   "metadata": {},
   "outputs": [],
   "source": [
    "%load_ext autoreload"
   ]
  },
  {
   "cell_type": "code",
   "execution_count": 2,
   "id": "9b877d9d",
   "metadata": {},
   "outputs": [],
   "source": [
    "import os, sys\n",
    "import numpy as np\n",
    "from sklearn.model_selection import train_test_split\n",
    "\n",
    "import tensorflow as tf\n",
    "import tensorflow.keras as keras\n",
    "from tensorflow.keras import Sequential\n",
    "from tensorflow.keras.layers import Conv2D, Flatten, Dropout, MaxPooling2D, Dense, Softmax\n",
    "from tensorflow.keras.preprocessing.image import ImageDataGenerator"
   ]
  },
  {
   "cell_type": "code",
   "execution_count": 3,
   "id": "b35de426",
   "metadata": {},
   "outputs": [],
   "source": [
    "BASE_PATH = os.path.join(os.getcwd(), \"..\", \"..\")\n",
    "MODULE_PATH = os.path.join(BASE_PATH, \"modules\")\n",
    "TF_AL_PATH = os.path.join(BASE_PATH, \"tf_al\")\n",
    "TF_AL_MP_PATH = os.path.join(BASE_PATH, \"tf_al_mp\")"
   ]
  },
  {
   "cell_type": "code",
   "execution_count": 4,
   "id": "9981da65",
   "metadata": {},
   "outputs": [],
   "source": [
    "sys.path.append(MODULE_PATH)\n",
    "sys.path.append(TF_AL_PATH)\n",
    "sys.path.append(TF_AL_MP_PATH)"
   ]
  },
  {
   "cell_type": "code",
   "execution_count": 5,
   "id": "cb911b1e",
   "metadata": {},
   "outputs": [],
   "source": [
    "from tf_al import ExperimentSuitMetrics, Dataset, AcquisitionFunction, ExperimentSuitMetrics, Pool, Config\n",
    "from tf_al.wrapper import McDropout\n",
    "from tf_al.utils import setup_growth\n",
    "\n",
    "from models import vgg16, vgg11, setup_growth, disable_tf_logs"
   ]
  },
  {
   "cell_type": "code",
   "execution_count": 6,
   "id": "435eb511",
   "metadata": {},
   "outputs": [],
   "source": [
    "(x_train, y_train), (x_test, y_test) = keras.datasets.cifar10.load_data()\n",
    "datagen = ImageDataGenerator(featurewise_center=True, featurewise_std_normalization=True)\n",
    "datagen.fit(x_train)\n",
    "x_train = datagen.standardize(x_train.astype(np.float32))\n",
    "datagen.fit(x_test)\n",
    "x_test = datagen.standardize(x_test.astype(np.float32))\n",
    "\n",
    "y_train = y_train.flatten()\n",
    "y_test = y_test.flatten()"
   ]
  },
  {
   "cell_type": "code",
   "execution_count": 7,
   "id": "0c3fbab7",
   "metadata": {},
   "outputs": [
    {
     "name": "stdout",
     "output_type": "stream",
     "text": [
      "1 Physical GPU's,  1 Logical GPU's\n"
     ]
    }
   ],
   "source": [
    "disable_tf_logs()\n",
    "setup_growth()"
   ]
  },
  {
   "cell_type": "code",
   "execution_count": 11,
   "id": "0728aeaa",
   "metadata": {},
   "outputs": [],
   "source": [
    "optimizer = tf.keras.optimizers.SGD(learning_rate=0.01)\n",
    "optimizer = \"adam\"\n",
    "loss = \"sparse_categorical_crossentropy\"\n",
    "metrics = [keras.metrics.SparseCategoricalAccuracy()]\n",
    "callbacks = [\n",
    "    tf.keras.callbacks.EarlyStopping(monitor='sparse_categorical_accuracy', patience=3)\n",
    "]\n",
    "\n",
    "# Create McModel\n",
    "num_classes = len(list(np.unique(y_test)))\n",
    "input_shape = tuple(x_train.shape[1:])"
   ]
  },
  {
   "cell_type": "code",
   "execution_count": 12,
   "id": "3fecacec",
   "metadata": {},
   "outputs": [],
   "source": [
    "vgg_net = vgg11(input_shape, num_classes)\n",
    "vgg_net.compile(optimizer=optimizer, loss=loss, metrics=metrics)"
   ]
  },
  {
   "cell_type": "code",
   "execution_count": 13,
   "id": "4b6b774c",
   "metadata": {},
   "outputs": [
    {
     "name": "stdout",
     "output_type": "stream",
     "text": [
      "Epoch 1/300\n",
      "200/200 [==============================] - 6s 30ms/step - loss: 2.3057 - sparse_categorical_accuracy: 0.1023\n",
      "Epoch 2/300\n",
      "200/200 [==============================] - 6s 29ms/step - loss: 2.3028 - sparse_categorical_accuracy: 0.0984\n",
      "Epoch 3/300\n",
      "200/200 [==============================] - 6s 29ms/step - loss: 2.3027 - sparse_categorical_accuracy: 0.0993\n",
      "Epoch 4/300\n",
      "200/200 [==============================] - 6s 29ms/step - loss: 2.3026 - sparse_categorical_accuracy: 0.0989\n"
     ]
    },
    {
     "data": {
      "text/plain": [
       "<tensorflow.python.keras.callbacks.History at 0x7f01afe327c0>"
      ]
     },
     "execution_count": 13,
     "metadata": {},
     "output_type": "execute_result"
    }
   ],
   "source": [
    "vgg_net.fit(x_train[:20_000], y_train[:20_000], epochs=300, batch_size=100, callbacks=callbacks)"
   ]
  },
  {
   "cell_type": "code",
   "execution_count": 14,
   "id": "66efdf25",
   "metadata": {},
   "outputs": [
    {
     "name": "stdout",
     "output_type": "stream",
     "text": [
      "313/313 [==============================] - 2s 6ms/step - loss: 1.7265 - sparse_categorical_accuracy: 0.6754\n"
     ]
    },
    {
     "data": {
      "text/plain": [
       "[1.726496696472168, 0.6754000186920166]"
      ]
     },
     "execution_count": 14,
     "metadata": {},
     "output_type": "execute_result"
    }
   ],
   "source": [
    "vgg_net.evaluate(x_test, y_test)"
   ]
  },
  {
   "cell_type": "code",
   "execution_count": 12,
   "id": "817382ec",
   "metadata": {},
   "outputs": [
    {
     "data": {
      "text/plain": [
       "<tf.Tensor: shape=(2, 10), dtype=float32, numpy=\n",
       "array([[4.5452946e-08, 4.2898310e-10, 1.5642673e-04, 4.3759039e-03,\n",
       "        3.7046952e-06, 9.9543035e-01, 8.9716366e-08, 3.3517255e-05,\n",
       "        9.9939412e-10, 1.9787318e-08],\n",
       "       [3.1917086e-08, 1.0577004e-07, 4.4914983e-10, 1.0605039e-08,\n",
       "        8.3743098e-13, 1.8531756e-16, 8.4667851e-10, 7.6592177e-18,\n",
       "        9.9999988e-01, 3.4803932e-10]], dtype=float32)>"
      ]
     },
     "execution_count": 12,
     "metadata": {},
     "output_type": "execute_result"
    }
   ],
   "source": [
    "vgg_net(x_test[:2], training=True)"
   ]
  },
  {
   "cell_type": "code",
   "execution_count": 13,
   "id": "501f49ed",
   "metadata": {},
   "outputs": [
    {
     "data": {
      "text/plain": [
       "<tf.Tensor: shape=(2, 10), dtype=float32, numpy=\n",
       "array([[1.66250103e-09, 1.41531925e-11, 1.12281678e-05, 6.05708745e-04,\n",
       "        3.69283543e-06, 9.99369085e-01, 2.34489246e-08, 1.02791864e-05,\n",
       "        2.48340376e-11, 1.79394444e-09],\n",
       "       [9.89301270e-07, 2.60550267e-04, 9.50503054e-09, 8.14199382e-07,\n",
       "        4.27888315e-11, 4.29811731e-13, 5.08373077e-08, 1.62107012e-14,\n",
       "        9.99737203e-01, 3.84245652e-07]], dtype=float32)>"
      ]
     },
     "execution_count": 13,
     "metadata": {},
     "output_type": "execute_result"
    }
   ],
   "source": [
    "vgg_net(x_test[:2], training=True)"
   ]
  },
  {
   "cell_type": "code",
   "execution_count": null,
   "id": "a04f84fe",
   "metadata": {},
   "outputs": [],
   "source": []
  }
 ],
 "metadata": {
  "kernelspec": {
   "display_name": "Python 3 (ipykernel)",
   "language": "python",
   "name": "python3"
  },
  "language_info": {
   "codemirror_mode": {
    "name": "ipython",
    "version": 3
   },
   "file_extension": ".py",
   "mimetype": "text/x-python",
   "name": "python",
   "nbconvert_exporter": "python",
   "pygments_lexer": "ipython3",
   "version": "3.8.8"
  }
 },
 "nbformat": 4,
 "nbformat_minor": 5
}
