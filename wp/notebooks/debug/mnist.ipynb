{
 "cells": [
  {
   "cell_type": "code",
   "execution_count": 1,
   "metadata": {
    "colab": {
     "base_uri": "https://localhost:8080/"
    },
    "executionInfo": {
     "elapsed": 11490,
     "status": "ok",
     "timestamp": 1631228994967,
     "user": {
      "displayName": "Maksim S.",
      "photoUrl": "https://lh3.googleusercontent.com/a-/AOh14GiDIsk4k3BkZq6Vdudjt60w9s6VhJj39PHi6eKbgQ=s64",
      "userId": "04355350649774035216"
     },
     "user_tz": -120
    },
    "id": "urt2PkD_t5du",
    "outputId": "d7f06406-9649-47c8-c5df-56b56a33c73b"
   },
   "outputs": [
    {
     "name": "stdout",
     "output_type": "stream",
     "text": [
      "Requirement already satisfied: tf-al in /home/exleonem/.anaconda/envs/mp/lib/python3.8/site-packages (0.0.2)\n",
      "Requirement already satisfied: tqdm<5.0.0,>=4.62.2 in /home/exleonem/.anaconda/envs/mp/lib/python3.8/site-packages (from tf-al) (4.62.2)\n",
      "Requirement already satisfied: tensorflow<3,>=2 in /home/exleonem/.anaconda/envs/mp/lib/python3.8/site-packages (from tf-al) (2.2.0)\n",
      "Requirement already satisfied: scikit-learn<0.25.0,>=0.24.2 in /home/exleonem/.anaconda/envs/mp/lib/python3.8/site-packages (from tf-al) (0.24.2)\n",
      "Requirement already satisfied: numpy<2,>=1 in /home/exleonem/.anaconda/envs/mp/lib/python3.8/site-packages (from tf-al) (1.18.5)\n",
      "Requirement already satisfied: threadpoolctl>=2.0.0 in /home/exleonem/.anaconda/envs/mp/lib/python3.8/site-packages (from scikit-learn<0.25.0,>=0.24.2->tf-al) (2.1.0)\n",
      "Requirement already satisfied: scipy>=0.19.1 in /home/exleonem/.anaconda/envs/mp/lib/python3.8/site-packages (from scikit-learn<0.25.0,>=0.24.2->tf-al) (1.4.1)\n",
      "Requirement already satisfied: joblib>=0.11 in /home/exleonem/.anaconda/envs/mp/lib/python3.8/site-packages (from scikit-learn<0.25.0,>=0.24.2->tf-al) (1.0.1)\n",
      "Requirement already satisfied: h5py<2.11.0,>=2.10.0 in /home/exleonem/.anaconda/envs/mp/lib/python3.8/site-packages (from tensorflow<3,>=2->tf-al) (2.10.0)\n",
      "Requirement already satisfied: six>=1.12.0 in /home/exleonem/.anaconda/envs/mp/lib/python3.8/site-packages (from tensorflow<3,>=2->tf-al) (1.16.0)\n",
      "Requirement already satisfied: protobuf>=3.8.0 in /home/exleonem/.anaconda/envs/mp/lib/python3.8/site-packages (from tensorflow<3,>=2->tf-al) (3.15.6)\n",
      "Collecting tensorboard<2.3.0,>=2.2.0\n",
      "  Using cached tensorboard-2.2.2-py3-none-any.whl (3.0 MB)\n",
      "Requirement already satisfied: grpcio>=1.8.6 in /home/exleonem/.anaconda/envs/mp/lib/python3.8/site-packages (from tensorflow<3,>=2->tf-al) (1.36.1)\n",
      "Requirement already satisfied: termcolor>=1.1.0 in /home/exleonem/.anaconda/envs/mp/lib/python3.8/site-packages (from tensorflow<3,>=2->tf-al) (1.1.0)\n",
      "Requirement already satisfied: tensorflow-estimator<2.3.0,>=2.2.0 in /home/exleonem/.anaconda/envs/mp/lib/python3.8/site-packages (from tensorflow<3,>=2->tf-al) (2.2.0)\n",
      "Requirement already satisfied: absl-py>=0.7.0 in /home/exleonem/.anaconda/envs/mp/lib/python3.8/site-packages (from tensorflow<3,>=2->tf-al) (0.12.0)\n",
      "Requirement already satisfied: wheel>=0.26 in /home/exleonem/.anaconda/envs/mp/lib/python3.8/site-packages (from tensorflow<3,>=2->tf-al) (0.36.2)\n",
      "Requirement already satisfied: gast==0.3.3 in /home/exleonem/.anaconda/envs/mp/lib/python3.8/site-packages (from tensorflow<3,>=2->tf-al) (0.3.3)\n",
      "Requirement already satisfied: keras-preprocessing>=1.1.0 in /home/exleonem/.anaconda/envs/mp/lib/python3.8/site-packages (from tensorflow<3,>=2->tf-al) (1.1.2)\n",
      "Requirement already satisfied: astunparse==1.6.3 in /home/exleonem/.anaconda/envs/mp/lib/python3.8/site-packages (from tensorflow<3,>=2->tf-al) (1.6.3)\n",
      "Requirement already satisfied: opt-einsum>=2.3.2 in /home/exleonem/.anaconda/envs/mp/lib/python3.8/site-packages (from tensorflow<3,>=2->tf-al) (3.3.0)\n",
      "Requirement already satisfied: wrapt>=1.11.1 in /home/exleonem/.anaconda/envs/mp/lib/python3.8/site-packages (from tensorflow<3,>=2->tf-al) (1.12.1)\n",
      "Requirement already satisfied: google-pasta>=0.1.8 in /home/exleonem/.anaconda/envs/mp/lib/python3.8/site-packages (from tensorflow<3,>=2->tf-al) (0.2.0)\n",
      "Requirement already satisfied: werkzeug>=0.11.15 in /home/exleonem/.anaconda/envs/mp/lib/python3.8/site-packages (from tensorboard<2.3.0,>=2.2.0->tensorflow<3,>=2->tf-al) (1.0.1)\n",
      "Requirement already satisfied: google-auth-oauthlib<0.5,>=0.4.1 in /home/exleonem/.anaconda/envs/mp/lib/python3.8/site-packages (from tensorboard<2.3.0,>=2.2.0->tensorflow<3,>=2->tf-al) (0.4.4)\n",
      "Requirement already satisfied: requests<3,>=2.21.0 in /home/exleonem/.anaconda/envs/mp/lib/python3.8/site-packages (from tensorboard<2.3.0,>=2.2.0->tensorflow<3,>=2->tf-al) (2.25.1)\n",
      "Requirement already satisfied: markdown>=2.6.8 in /home/exleonem/.anaconda/envs/mp/lib/python3.8/site-packages (from tensorboard<2.3.0,>=2.2.0->tensorflow<3,>=2->tf-al) (3.3.4)\n",
      "Requirement already satisfied: google-auth<2,>=1.6.3 in /home/exleonem/.anaconda/envs/mp/lib/python3.8/site-packages (from tensorboard<2.3.0,>=2.2.0->tensorflow<3,>=2->tf-al) (1.28.1)\n",
      "Requirement already satisfied: setuptools>=41.0.0 in /home/exleonem/.anaconda/envs/mp/lib/python3.8/site-packages (from tensorboard<2.3.0,>=2.2.0->tensorflow<3,>=2->tf-al) (52.0.0.post20210125)\n",
      "Requirement already satisfied: tensorboard-plugin-wit>=1.6.0 in /home/exleonem/.anaconda/envs/mp/lib/python3.8/site-packages (from tensorboard<2.3.0,>=2.2.0->tensorflow<3,>=2->tf-al) (1.8.0)\n",
      "Requirement already satisfied: rsa<5,>=3.1.4 in /home/exleonem/.anaconda/envs/mp/lib/python3.8/site-packages (from google-auth<2,>=1.6.3->tensorboard<2.3.0,>=2.2.0->tensorflow<3,>=2->tf-al) (4.7.2)\n",
      "Requirement already satisfied: cachetools<5.0,>=2.0.0 in /home/exleonem/.anaconda/envs/mp/lib/python3.8/site-packages (from google-auth<2,>=1.6.3->tensorboard<2.3.0,>=2.2.0->tensorflow<3,>=2->tf-al) (4.2.1)\n",
      "Requirement already satisfied: pyasn1-modules>=0.2.1 in /home/exleonem/.anaconda/envs/mp/lib/python3.8/site-packages (from google-auth<2,>=1.6.3->tensorboard<2.3.0,>=2.2.0->tensorflow<3,>=2->tf-al) (0.2.8)\n",
      "Requirement already satisfied: requests-oauthlib>=0.7.0 in /home/exleonem/.anaconda/envs/mp/lib/python3.8/site-packages (from google-auth-oauthlib<0.5,>=0.4.1->tensorboard<2.3.0,>=2.2.0->tensorflow<3,>=2->tf-al) (1.3.0)\n",
      "Requirement already satisfied: pyasn1<0.5.0,>=0.4.6 in /home/exleonem/.anaconda/envs/mp/lib/python3.8/site-packages (from pyasn1-modules>=0.2.1->google-auth<2,>=1.6.3->tensorboard<2.3.0,>=2.2.0->tensorflow<3,>=2->tf-al) (0.4.8)\n",
      "Requirement already satisfied: certifi>=2017.4.17 in /home/exleonem/.anaconda/envs/mp/lib/python3.8/site-packages (from requests<3,>=2.21.0->tensorboard<2.3.0,>=2.2.0->tensorflow<3,>=2->tf-al) (2021.5.30)\n",
      "Requirement already satisfied: idna<3,>=2.5 in /home/exleonem/.anaconda/envs/mp/lib/python3.8/site-packages (from requests<3,>=2.21.0->tensorboard<2.3.0,>=2.2.0->tensorflow<3,>=2->tf-al) (2.10)\n",
      "Requirement already satisfied: urllib3<1.27,>=1.21.1 in /home/exleonem/.anaconda/envs/mp/lib/python3.8/site-packages (from requests<3,>=2.21.0->tensorboard<2.3.0,>=2.2.0->tensorflow<3,>=2->tf-al) (1.26.4)\n",
      "Requirement already satisfied: chardet<5,>=3.0.2 in /home/exleonem/.anaconda/envs/mp/lib/python3.8/site-packages (from requests<3,>=2.21.0->tensorboard<2.3.0,>=2.2.0->tensorflow<3,>=2->tf-al) (4.0.0)\n",
      "Requirement already satisfied: oauthlib>=3.0.0 in /home/exleonem/.anaconda/envs/mp/lib/python3.8/site-packages (from requests-oauthlib>=0.7.0->google-auth-oauthlib<0.5,>=0.4.1->tensorboard<2.3.0,>=2.2.0->tensorflow<3,>=2->tf-al) (3.1.0)\n",
      "Installing collected packages: tensorboard\n",
      "  Attempting uninstall: tensorboard\n",
      "    Found existing installation: tensorboard 2.4.0\n",
      "    Uninstalling tensorboard-2.4.0:\n",
      "      Successfully uninstalled tensorboard-2.4.0\n",
      "Successfully installed tensorboard-2.2.2\n"
     ]
    }
   ],
   "source": [
    "!pip install tf-al"
   ]
  },
  {
   "cell_type": "code",
   "execution_count": 2,
   "metadata": {
    "executionInfo": {
     "elapsed": 2568,
     "status": "ok",
     "timestamp": 1631228997530,
     "user": {
      "displayName": "Maksim S.",
      "photoUrl": "https://lh3.googleusercontent.com/a-/AOh14GiDIsk4k3BkZq6Vdudjt60w9s6VhJj39PHi6eKbgQ=s64",
      "userId": "04355350649774035216"
     },
     "user_tz": -120
    },
    "id": "ZaD-6wUltxby"
   },
   "outputs": [],
   "source": [
    "import numpy as np\n",
    "from sklearn.model_selection import train_test_split\n",
    "\n",
    "import tensorflow as tf\n",
    "import tensorflow.keras as keras\n",
    "from tensorflow.keras import Sequential\n",
    "from tensorflow.keras.layers import Conv2D, Flatten, Dropout, MaxPooling2D, Dense, Softmax\n",
    "\n",
    "from tf_al import ExperimentSuitMetrics, Dataset, AcquisitionFunction, ExperimentSuitMetrics, Pool, Config\n",
    "from tf_al.wrapper import McDropout\n",
    "from tf_al.utils import setup_growth"
   ]
  },
  {
   "cell_type": "code",
   "execution_count": 3,
   "metadata": {
    "colab": {
     "base_uri": "https://localhost:8080/"
    },
    "executionInfo": {
     "elapsed": 530,
     "status": "ok",
     "timestamp": 1631228998053,
     "user": {
      "displayName": "Maksim S.",
      "photoUrl": "https://lh3.googleusercontent.com/a-/AOh14GiDIsk4k3BkZq6Vdudjt60w9s6VhJj39PHi6eKbgQ=s64",
      "userId": "04355350649774035216"
     },
     "user_tz": -120
    },
    "id": "lxLNDPT2u-OX",
    "outputId": "f2388118-5ab1-4c91-cb46-8829ac20fc5c"
   },
   "outputs": [],
   "source": [
    "(x_train, y_train), (x_test, y_test) = keras.datasets.mnist.load_data()"
   ]
  },
  {
   "cell_type": "code",
   "execution_count": 4,
   "metadata": {
    "executionInfo": {
     "elapsed": 328,
     "status": "ok",
     "timestamp": 1631228998377,
     "user": {
      "displayName": "Maksim S.",
      "photoUrl": "https://lh3.googleusercontent.com/a-/AOh14GiDIsk4k3BkZq6Vdudjt60w9s6VhJj39PHi6eKbgQ=s64",
      "userId": "04355350649774035216"
     },
     "user_tz": -120
    },
    "id": "9Yga2V7DvYYW"
   },
   "outputs": [],
   "source": [
    "inputs = np.expand_dims(np.vstack([x_train, x_test])/255., axis=-1)\n",
    "targets = np.hstack([y_train, y_test])"
   ]
  },
  {
   "cell_type": "code",
   "execution_count": 5,
   "metadata": {
    "colab": {
     "base_uri": "https://localhost:8080/"
    },
    "executionInfo": {
     "elapsed": 12,
     "status": "ok",
     "timestamp": 1631228998378,
     "user": {
      "displayName": "Maksim S.",
      "photoUrl": "https://lh3.googleusercontent.com/a-/AOh14GiDIsk4k3BkZq6Vdudjt60w9s6VhJj39PHi6eKbgQ=s64",
      "userId": "04355350649774035216"
     },
     "user_tz": -120
    },
    "id": "6qu-ej22wRaY",
    "outputId": "deaca0ed-4ad5-43b5-e8c7-61df035843eb"
   },
   "outputs": [
    {
     "name": "stdout",
     "output_type": "stream",
     "text": [
      "Inputs-shape:  (70000, 28, 28, 1)\n",
      "Targets-shape: (70000,)\n"
     ]
    }
   ],
   "source": [
    "print(\"Inputs-shape: \", inputs.shape)\n",
    "print(\"Targets-shape:\", targets.shape)"
   ]
  },
  {
   "cell_type": "code",
   "execution_count": 6,
   "metadata": {
    "executionInfo": {
     "elapsed": 10,
     "status": "ok",
     "timestamp": 1631228998379,
     "user": {
      "displayName": "Maksim S.",
      "photoUrl": "https://lh3.googleusercontent.com/a-/AOh14GiDIsk4k3BkZq6Vdudjt60w9s6VhJj39PHi6eKbgQ=s64",
      "userId": "04355350649774035216"
     },
     "user_tz": -120
    },
    "id": "JHC-PRIyvYPp"
   },
   "outputs": [],
   "source": [
    "seed = 83152\n",
    "np.random.seed(seed)\n",
    "tf.random.set_seed(seed)"
   ]
  },
  {
   "cell_type": "code",
   "execution_count": 7,
   "metadata": {
    "executionInfo": {
     "elapsed": 309,
     "status": "ok",
     "timestamp": 1631228998679,
     "user": {
      "displayName": "Maksim S.",
      "photoUrl": "https://lh3.googleusercontent.com/a-/AOh14GiDIsk4k3BkZq6Vdudjt60w9s6VhJj39PHi6eKbgQ=s64",
      "userId": "04355350649774035216"
     },
     "user_tz": -120
    },
    "id": "oycis6mZvlhE"
   },
   "outputs": [],
   "source": [
    "# Create dataset splits\n",
    "val_set_size = 100\n",
    "test_set_size = 10_000\n",
    "\n",
    "x_train, x_test, y_train, y_test = train_test_split(inputs, targets, test_size=test_set_size)\n",
    "x_train, x_val, y_train, y_val = train_test_split(x_train, y_train, test_size=val_set_size)\n",
    "init_indices = [836, 1034, 3278, 6563, 7656, 9477, 9510, 13228, 16375, 20170, 21573, 24311, 26170, 26971, 28686, 30281, 32193, 50056, 50696, 51906]\n",
    "\n",
    "pool = Pool(x_train, y_train)\n",
    "pool.annotate(init_indices)"
   ]
  },
  {
   "cell_type": "code",
   "execution_count": 8,
   "metadata": {
    "colab": {
     "base_uri": "https://localhost:8080/"
    },
    "executionInfo": {
     "elapsed": 9,
     "status": "ok",
     "timestamp": 1631228998680,
     "user": {
      "displayName": "Maksim S.",
      "photoUrl": "https://lh3.googleusercontent.com/a-/AOh14GiDIsk4k3BkZq6Vdudjt60w9s6VhJj39PHi6eKbgQ=s64",
      "userId": "04355350649774035216"
     },
     "user_tz": -120
    },
    "id": "kZDHAxTWvTtl",
    "outputId": "6e493673-dbf1-4cd4-fe5a-5a4e802ac833"
   },
   "outputs": [
    {
     "data": {
      "text/plain": [
       "array([  836,  1034,  3278,  6563,  7656,  9477,  9510, 13228, 16375,\n",
       "       20170, 21573, 24311, 26170, 26971, 28686, 30281, 32193, 50056,\n",
       "       50696, 51906])"
      ]
     },
     "execution_count": 8,
     "metadata": {},
     "output_type": "execute_result"
    }
   ],
   "source": [
    "pool.get_labeled_indices()"
   ]
  },
  {
   "cell_type": "code",
   "execution_count": 9,
   "metadata": {},
   "outputs": [
    {
     "name": "stdout",
     "output_type": "stream",
     "text": [
      "1 Physical GPU's,  1 Logical GPU's\n"
     ]
    }
   ],
   "source": [
    "setup_growth()"
   ]
  },
  {
   "cell_type": "code",
   "execution_count": 10,
   "metadata": {
    "executionInfo": {
     "elapsed": 5886,
     "status": "ok",
     "timestamp": 1631229004562,
     "user": {
      "displayName": "Maksim S.",
      "photoUrl": "https://lh3.googleusercontent.com/a-/AOh14GiDIsk4k3BkZq6Vdudjt60w9s6VhJj39PHi6eKbgQ=s64",
      "userId": "04355350649774035216"
     },
     "user_tz": -120
    },
    "id": "OSE8Izf3tw-1"
   },
   "outputs": [],
   "source": [
    "base_model = Sequential([\n",
    "        Conv2D(32, 3, activation=tf.nn.relu, padding=\"same\", input_shape=(28, 28, 1)),\n",
    "        Conv2D(64, 3, activation=tf.nn.relu, padding=\"same\"),\n",
    "        MaxPooling2D(),\n",
    "        Dropout(.25),\n",
    "        Flatten(),\n",
    "        Dense(128, activation=tf.nn.relu),\n",
    "        Dropout(.5),\n",
    "        Dense(10),\n",
    "        Softmax()  \n",
    "    ])"
   ]
  },
  {
   "cell_type": "code",
   "execution_count": 11,
   "metadata": {
    "executionInfo": {
     "elapsed": 22,
     "status": "ok",
     "timestamp": 1631229004564,
     "user": {
      "displayName": "Maksim S.",
      "photoUrl": "https://lh3.googleusercontent.com/a-/AOh14GiDIsk4k3BkZq6Vdudjt60w9s6VhJj39PHi6eKbgQ=s64",
      "userId": "04355350649774035216"
     },
     "user_tz": -120
    },
    "id": "snIsgmqWu9nx"
   },
   "outputs": [],
   "source": [
    "sample_size = 25\n",
    "config = Config(\n",
    "    fit = {\"epochs\": 200, \"batch_size\": sample_size},\n",
    "    query = {\"sample_size\": sample_size},\n",
    "    eval={\"batch_size\": 800, \"sample_size\": sample_size}\n",
    ")\n",
    "\n",
    "mc_model = McDropout(base_model, config=config)\n",
    "mc_model.compile(optimizer=\"adam\", loss=\"sparse_categorical_crossentropy\", metrics=[keras.metrics.SparseCategoricalAccuracy()])"
   ]
  },
  {
   "cell_type": "code",
   "execution_count": 12,
   "metadata": {
    "colab": {
     "base_uri": "https://localhost:8080/"
    },
    "executionInfo": {
     "elapsed": 39363,
     "status": "ok",
     "timestamp": 1631229043907,
     "user": {
      "displayName": "Maksim S.",
      "photoUrl": "https://lh3.googleusercontent.com/a-/AOh14GiDIsk4k3BkZq6Vdudjt60w9s6VhJj39PHi6eKbgQ=s64",
      "userId": "04355350649774035216"
     },
     "user_tz": -120
    },
    "id": "rruu09nJty83",
    "outputId": "d446588a-3e6d-4e22-ad91-bcac2288c921"
   },
   "outputs": [
    {
     "data": {
      "text/plain": [
       "{'loss': 2.3054852, 'accuracy': 0.08986}"
      ]
     },
     "execution_count": 12,
     "metadata": {},
     "output_type": "execute_result"
    }
   ],
   "source": [
    "mc_model.evaluate(x_test, y_test, sample_size=sample_size, batch_size=900)"
   ]
  },
  {
   "cell_type": "code",
   "execution_count": 13,
   "metadata": {
    "colab": {
     "base_uri": "https://localhost:8080/"
    },
    "executionInfo": {
     "elapsed": 6516,
     "status": "ok",
     "timestamp": 1631229050409,
     "user": {
      "displayName": "Maksim S.",
      "photoUrl": "https://lh3.googleusercontent.com/a-/AOh14GiDIsk4k3BkZq6Vdudjt60w9s6VhJj39PHi6eKbgQ=s64",
      "userId": "04355350649774035216"
     },
     "user_tz": -120
    },
    "id": "NnfDByKEtwm1",
    "outputId": "4cb1ada2-b708-4132-a099-bedd14a1e286"
   },
   "outputs": [
    {
     "name": "stdout",
     "output_type": "stream",
     "text": [
      "Epoch 1/200\n",
      "1/1 [==============================] - 0s 3ms/step - loss: 2.3212 - sparse_categorical_accuracy: 0.1000\n",
      "Epoch 2/200\n",
      "1/1 [==============================] - 0s 2ms/step - loss: 2.2348 - sparse_categorical_accuracy: 0.2000\n",
      "Epoch 3/200\n",
      "1/1 [==============================] - 0s 2ms/step - loss: 2.0682 - sparse_categorical_accuracy: 0.3500\n",
      "Epoch 4/200\n",
      "1/1 [==============================] - 0s 2ms/step - loss: 1.8993 - sparse_categorical_accuracy: 0.6000\n",
      "Epoch 5/200\n",
      "1/1 [==============================] - 0s 2ms/step - loss: 1.6517 - sparse_categorical_accuracy: 0.6500\n",
      "Epoch 6/200\n",
      "1/1 [==============================] - 0s 1ms/step - loss: 1.4744 - sparse_categorical_accuracy: 0.8000\n",
      "Epoch 7/200\n",
      "1/1 [==============================] - 0s 2ms/step - loss: 1.1188 - sparse_categorical_accuracy: 0.8500\n",
      "Epoch 8/200\n",
      "1/1 [==============================] - 0s 1ms/step - loss: 0.9952 - sparse_categorical_accuracy: 0.7000\n",
      "Epoch 9/200\n",
      "1/1 [==============================] - 0s 1ms/step - loss: 0.5861 - sparse_categorical_accuracy: 1.0000\n",
      "Epoch 10/200\n",
      "1/1 [==============================] - 0s 2ms/step - loss: 0.8057 - sparse_categorical_accuracy: 0.8000\n",
      "Epoch 11/200\n",
      "1/1 [==============================] - 0s 1ms/step - loss: 0.5846 - sparse_categorical_accuracy: 0.8000\n",
      "Epoch 12/200\n",
      "1/1 [==============================] - 0s 1ms/step - loss: 0.6348 - sparse_categorical_accuracy: 0.8500\n",
      "Epoch 13/200\n",
      "1/1 [==============================] - 0s 1ms/step - loss: 0.3437 - sparse_categorical_accuracy: 0.9000\n",
      "Epoch 14/200\n",
      "1/1 [==============================] - 0s 2ms/step - loss: 0.1212 - sparse_categorical_accuracy: 1.0000\n",
      "Epoch 15/200\n",
      "1/1 [==============================] - 0s 850us/step - loss: 0.1561 - sparse_categorical_accuracy: 0.9500\n",
      "Epoch 16/200\n",
      "1/1 [==============================] - 0s 962us/step - loss: 0.1115 - sparse_categorical_accuracy: 1.0000\n",
      "Epoch 17/200\n",
      "1/1 [==============================] - 0s 1ms/step - loss: 0.0983 - sparse_categorical_accuracy: 0.9500\n",
      "Epoch 18/200\n",
      "1/1 [==============================] - 0s 2ms/step - loss: 0.1025 - sparse_categorical_accuracy: 0.9500\n",
      "Epoch 19/200\n",
      "1/1 [==============================] - 0s 2ms/step - loss: 0.1013 - sparse_categorical_accuracy: 1.0000\n",
      "Epoch 20/200\n",
      "1/1 [==============================] - 0s 2ms/step - loss: 0.0724 - sparse_categorical_accuracy: 1.0000\n",
      "Epoch 21/200\n",
      "1/1 [==============================] - 0s 2ms/step - loss: 0.0338 - sparse_categorical_accuracy: 1.0000\n",
      "Epoch 22/200\n",
      "1/1 [==============================] - 0s 2ms/step - loss: 0.0368 - sparse_categorical_accuracy: 1.0000\n",
      "Epoch 23/200\n",
      "1/1 [==============================] - 0s 2ms/step - loss: 0.0073 - sparse_categorical_accuracy: 1.0000\n",
      "Epoch 24/200\n",
      "1/1 [==============================] - 0s 2ms/step - loss: 0.0584 - sparse_categorical_accuracy: 1.0000\n",
      "Epoch 25/200\n",
      "1/1 [==============================] - 0s 1ms/step - loss: 0.0282 - sparse_categorical_accuracy: 1.0000\n",
      "Epoch 26/200\n",
      "1/1 [==============================] - 0s 2ms/step - loss: 0.0129 - sparse_categorical_accuracy: 1.0000\n",
      "Epoch 27/200\n",
      "1/1 [==============================] - 0s 1ms/step - loss: 0.0075 - sparse_categorical_accuracy: 1.0000\n",
      "Epoch 28/200\n",
      "1/1 [==============================] - 0s 1ms/step - loss: 0.0587 - sparse_categorical_accuracy: 1.0000\n",
      "Epoch 29/200\n",
      "1/1 [==============================] - 0s 2ms/step - loss: 0.0107 - sparse_categorical_accuracy: 1.0000\n",
      "Epoch 30/200\n",
      "1/1 [==============================] - 0s 1ms/step - loss: 0.0137 - sparse_categorical_accuracy: 1.0000\n",
      "Epoch 31/200\n",
      "1/1 [==============================] - 0s 2ms/step - loss: 0.0087 - sparse_categorical_accuracy: 1.0000\n",
      "Epoch 32/200\n",
      "1/1 [==============================] - 0s 1ms/step - loss: 0.0146 - sparse_categorical_accuracy: 1.0000\n",
      "Epoch 33/200\n",
      "1/1 [==============================] - 0s 700us/step - loss: 0.0074 - sparse_categorical_accuracy: 1.0000\n",
      "Epoch 34/200\n",
      "1/1 [==============================] - 0s 1ms/step - loss: 0.0096 - sparse_categorical_accuracy: 1.0000\n",
      "Epoch 35/200\n",
      "1/1 [==============================] - 0s 855us/step - loss: 0.0142 - sparse_categorical_accuracy: 1.0000\n",
      "Epoch 36/200\n",
      "1/1 [==============================] - 0s 1ms/step - loss: 4.9376e-04 - sparse_categorical_accuracy: 1.0000\n",
      "Epoch 37/200\n",
      "1/1 [==============================] - 0s 2ms/step - loss: 0.0103 - sparse_categorical_accuracy: 1.0000\n",
      "Epoch 38/200\n",
      "1/1 [==============================] - 0s 1ms/step - loss: 0.0033 - sparse_categorical_accuracy: 1.0000\n",
      "Epoch 39/200\n",
      "1/1 [==============================] - 0s 1ms/step - loss: 0.0034 - sparse_categorical_accuracy: 1.0000\n",
      "Epoch 40/200\n",
      "1/1 [==============================] - 0s 3ms/step - loss: 0.0055 - sparse_categorical_accuracy: 1.0000\n",
      "Epoch 41/200\n",
      "1/1 [==============================] - 0s 3ms/step - loss: 0.0252 - sparse_categorical_accuracy: 1.0000\n",
      "Epoch 42/200\n",
      "1/1 [==============================] - 0s 2ms/step - loss: 0.0019 - sparse_categorical_accuracy: 1.0000\n",
      "Epoch 43/200\n",
      "1/1 [==============================] - 0s 2ms/step - loss: 9.6554e-04 - sparse_categorical_accuracy: 1.0000\n",
      "Epoch 44/200\n",
      "1/1 [==============================] - 0s 2ms/step - loss: 0.0013 - sparse_categorical_accuracy: 1.0000\n",
      "Epoch 45/200\n",
      "1/1 [==============================] - 0s 2ms/step - loss: 0.0047 - sparse_categorical_accuracy: 1.0000\n",
      "Epoch 46/200\n",
      "1/1 [==============================] - 0s 1ms/step - loss: 3.3437e-04 - sparse_categorical_accuracy: 1.0000\n",
      "Epoch 47/200\n",
      "1/1 [==============================] - 0s 871us/step - loss: 0.0076 - sparse_categorical_accuracy: 1.0000\n",
      "Epoch 48/200\n",
      "1/1 [==============================] - 0s 1ms/step - loss: 0.0403 - sparse_categorical_accuracy: 1.0000\n",
      "Epoch 49/200\n",
      "1/1 [==============================] - 0s 899us/step - loss: 0.0024 - sparse_categorical_accuracy: 1.0000\n",
      "Epoch 50/200\n",
      "1/1 [==============================] - 0s 877us/step - loss: 1.2511e-04 - sparse_categorical_accuracy: 1.0000\n",
      "Epoch 51/200\n",
      "1/1 [==============================] - 0s 1ms/step - loss: 0.0054 - sparse_categorical_accuracy: 1.0000\n",
      "Epoch 52/200\n",
      "1/1 [==============================] - 0s 897us/step - loss: 6.2652e-05 - sparse_categorical_accuracy: 1.0000\n",
      "Epoch 53/200\n",
      "1/1 [==============================] - 0s 898us/step - loss: 2.9887e-04 - sparse_categorical_accuracy: 1.0000\n",
      "Epoch 54/200\n",
      "1/1 [==============================] - 0s 1ms/step - loss: 0.0623 - sparse_categorical_accuracy: 0.9500\n",
      "Epoch 55/200\n",
      "1/1 [==============================] - 0s 1ms/step - loss: 0.0097 - sparse_categorical_accuracy: 1.0000\n",
      "Epoch 56/200\n",
      "1/1 [==============================] - 0s 2ms/step - loss: 0.0021 - sparse_categorical_accuracy: 1.0000\n",
      "Epoch 57/200\n",
      "1/1 [==============================] - 0s 2ms/step - loss: 0.0050 - sparse_categorical_accuracy: 1.0000\n",
      "Epoch 58/200\n",
      "1/1 [==============================] - 0s 1ms/step - loss: 0.0014 - sparse_categorical_accuracy: 1.0000\n",
      "Epoch 59/200\n",
      "1/1 [==============================] - 0s 1ms/step - loss: 0.0027 - sparse_categorical_accuracy: 1.0000\n",
      "Epoch 60/200\n",
      "1/1 [==============================] - 0s 2ms/step - loss: 0.0129 - sparse_categorical_accuracy: 1.0000\n",
      "Epoch 61/200\n",
      "1/1 [==============================] - 0s 1ms/step - loss: 0.0019 - sparse_categorical_accuracy: 1.0000\n",
      "Epoch 62/200\n",
      "1/1 [==============================] - 0s 968us/step - loss: 0.0010 - sparse_categorical_accuracy: 1.0000\n",
      "Epoch 63/200\n",
      "1/1 [==============================] - 0s 1ms/step - loss: 0.0032 - sparse_categorical_accuracy: 1.0000\n",
      "Epoch 64/200\n",
      "1/1 [==============================] - 0s 1ms/step - loss: 0.0078 - sparse_categorical_accuracy: 1.0000\n",
      "Epoch 65/200\n",
      "1/1 [==============================] - 0s 874us/step - loss: 0.0014 - sparse_categorical_accuracy: 1.0000\n",
      "Epoch 66/200\n",
      "1/1 [==============================] - 0s 938us/step - loss: 0.0476 - sparse_categorical_accuracy: 0.9500\n",
      "Epoch 67/200\n",
      "1/1 [==============================] - 0s 766us/step - loss: 2.5474e-04 - sparse_categorical_accuracy: 1.0000\n",
      "Epoch 68/200\n",
      "1/1 [==============================] - 0s 754us/step - loss: 9.9197e-04 - sparse_categorical_accuracy: 1.0000\n",
      "Epoch 69/200\n",
      "1/1 [==============================] - 0s 1ms/step - loss: 1.9371e-04 - sparse_categorical_accuracy: 1.0000\n",
      "Epoch 70/200\n",
      "1/1 [==============================] - 0s 1ms/step - loss: 9.1150e-04 - sparse_categorical_accuracy: 1.0000\n",
      "Epoch 71/200\n",
      "1/1 [==============================] - 0s 1ms/step - loss: 0.0078 - sparse_categorical_accuracy: 1.0000\n",
      "Epoch 72/200\n",
      "1/1 [==============================] - 0s 1ms/step - loss: 7.7214e-04 - sparse_categorical_accuracy: 1.0000\n",
      "Epoch 73/200\n",
      "1/1 [==============================] - 0s 2ms/step - loss: 0.0028 - sparse_categorical_accuracy: 1.0000\n",
      "Epoch 74/200\n",
      "1/1 [==============================] - 0s 1ms/step - loss: 0.0037 - sparse_categorical_accuracy: 1.0000\n",
      "Epoch 75/200\n",
      "1/1 [==============================] - 0s 1ms/step - loss: 9.6195e-04 - sparse_categorical_accuracy: 1.0000\n",
      "Epoch 76/200\n",
      "1/1 [==============================] - 0s 1ms/step - loss: 0.1231 - sparse_categorical_accuracy: 0.9500\n",
      "Epoch 77/200\n",
      "1/1 [==============================] - 0s 1ms/step - loss: 0.1818 - sparse_categorical_accuracy: 0.9500\n",
      "Epoch 78/200\n",
      "1/1 [==============================] - 0s 852us/step - loss: 1.9117e-04 - sparse_categorical_accuracy: 1.0000\n",
      "Epoch 79/200\n",
      "1/1 [==============================] - 0s 958us/step - loss: 1.7302e-04 - sparse_categorical_accuracy: 1.0000\n",
      "Epoch 80/200\n",
      "1/1 [==============================] - 0s 644us/step - loss: 0.0013 - sparse_categorical_accuracy: 1.0000\n",
      "Epoch 81/200\n",
      "1/1 [==============================] - 0s 753us/step - loss: 0.0050 - sparse_categorical_accuracy: 1.0000\n",
      "Epoch 82/200\n",
      "1/1 [==============================] - 0s 880us/step - loss: 0.0080 - sparse_categorical_accuracy: 1.0000\n",
      "Epoch 83/200\n",
      "1/1 [==============================] - 0s 597us/step - loss: 0.0754 - sparse_categorical_accuracy: 0.9500\n",
      "Epoch 84/200\n",
      "1/1 [==============================] - 0s 836us/step - loss: 0.0018 - sparse_categorical_accuracy: 1.0000\n",
      "Epoch 85/200\n",
      "1/1 [==============================] - 0s 828us/step - loss: 0.0017 - sparse_categorical_accuracy: 1.0000\n",
      "Epoch 86/200\n",
      "1/1 [==============================] - 0s 758us/step - loss: 0.1068 - sparse_categorical_accuracy: 0.9500\n",
      "Epoch 87/200\n",
      "1/1 [==============================] - 0s 1ms/step - loss: 0.0032 - sparse_categorical_accuracy: 1.0000\n",
      "Epoch 88/200\n",
      "1/1 [==============================] - 0s 1ms/step - loss: 0.0049 - sparse_categorical_accuracy: 1.0000\n",
      "Epoch 89/200\n",
      "1/1 [==============================] - 0s 1ms/step - loss: 0.0164 - sparse_categorical_accuracy: 1.0000\n",
      "Epoch 90/200\n",
      "1/1 [==============================] - 0s 855us/step - loss: 0.0031 - sparse_categorical_accuracy: 1.0000\n",
      "Epoch 91/200\n",
      "1/1 [==============================] - 0s 1ms/step - loss: 0.0356 - sparse_categorical_accuracy: 1.0000\n",
      "Epoch 92/200\n",
      "1/1 [==============================] - 0s 1ms/step - loss: 0.0119 - sparse_categorical_accuracy: 1.0000\n",
      "Epoch 93/200\n",
      "1/1 [==============================] - 0s 960us/step - loss: 0.0068 - sparse_categorical_accuracy: 1.0000\n",
      "Epoch 94/200\n",
      "1/1 [==============================] - 0s 932us/step - loss: 0.0013 - sparse_categorical_accuracy: 1.0000\n",
      "Epoch 95/200\n",
      "1/1 [==============================] - 0s 732us/step - loss: 0.0110 - sparse_categorical_accuracy: 1.0000\n",
      "Epoch 96/200\n",
      "1/1 [==============================] - 0s 895us/step - loss: 0.0720 - sparse_categorical_accuracy: 0.9500\n",
      "Epoch 97/200\n",
      "1/1 [==============================] - 0s 2ms/step - loss: 0.0119 - sparse_categorical_accuracy: 1.0000\n",
      "Epoch 98/200\n",
      "1/1 [==============================] - 0s 1ms/step - loss: 0.0172 - sparse_categorical_accuracy: 1.0000\n",
      "Epoch 99/200\n",
      "1/1 [==============================] - 0s 1ms/step - loss: 0.0075 - sparse_categorical_accuracy: 1.0000\n",
      "Epoch 100/200\n",
      "1/1 [==============================] - 0s 1ms/step - loss: 0.0029 - sparse_categorical_accuracy: 1.0000\n",
      "Epoch 101/200\n",
      "1/1 [==============================] - 0s 2ms/step - loss: 0.0030 - sparse_categorical_accuracy: 1.0000\n",
      "Epoch 102/200\n",
      "1/1 [==============================] - 0s 1ms/step - loss: 0.0595 - sparse_categorical_accuracy: 0.9500\n",
      "Epoch 103/200\n",
      "1/1 [==============================] - 0s 3ms/step - loss: 0.0042 - sparse_categorical_accuracy: 1.0000\n",
      "Epoch 104/200\n",
      "1/1 [==============================] - 0s 1ms/step - loss: 0.0014 - sparse_categorical_accuracy: 1.0000\n",
      "Epoch 105/200\n",
      "1/1 [==============================] - 0s 2ms/step - loss: 0.0319 - sparse_categorical_accuracy: 1.0000\n",
      "Epoch 106/200\n",
      "1/1 [==============================] - 0s 2ms/step - loss: 0.0055 - sparse_categorical_accuracy: 1.0000\n",
      "Epoch 107/200\n",
      "1/1 [==============================] - 0s 1ms/step - loss: 0.0051 - sparse_categorical_accuracy: 1.0000\n",
      "Epoch 108/200\n",
      "1/1 [==============================] - ETA: 0s - loss: 0.0032 - sparse_categorical_accuracy: 1.000 - 0s 2ms/step - loss: 0.0032 - sparse_categorical_accuracy: 1.0000\n",
      "Epoch 109/200\n",
      "1/1 [==============================] - 0s 854us/step - loss: 0.0238 - sparse_categorical_accuracy: 1.0000\n",
      "Epoch 110/200\n",
      "1/1 [==============================] - 0s 2ms/step - loss: 0.0049 - sparse_categorical_accuracy: 1.0000\n",
      "Epoch 111/200\n",
      "1/1 [==============================] - 0s 787us/step - loss: 0.0170 - sparse_categorical_accuracy: 1.0000\n",
      "Epoch 112/200\n",
      "1/1 [==============================] - 0s 838us/step - loss: 0.0329 - sparse_categorical_accuracy: 1.0000\n",
      "Epoch 113/200\n",
      "1/1 [==============================] - 0s 718us/step - loss: 0.0029 - sparse_categorical_accuracy: 1.0000\n",
      "Epoch 114/200\n",
      "1/1 [==============================] - 0s 744us/step - loss: 0.0105 - sparse_categorical_accuracy: 1.0000\n",
      "Epoch 115/200\n",
      "1/1 [==============================] - 0s 1ms/step - loss: 0.0066 - sparse_categorical_accuracy: 1.0000\n",
      "Epoch 116/200\n",
      "1/1 [==============================] - 0s 822us/step - loss: 0.0019 - sparse_categorical_accuracy: 1.0000\n",
      "Epoch 117/200\n",
      "1/1 [==============================] - 0s 1ms/step - loss: 0.0032 - sparse_categorical_accuracy: 1.0000\n",
      "Epoch 118/200\n",
      "1/1 [==============================] - 0s 858us/step - loss: 0.0010 - sparse_categorical_accuracy: 1.0000\n",
      "Epoch 119/200\n",
      "1/1 [==============================] - 0s 1ms/step - loss: 7.0252e-04 - sparse_categorical_accuracy: 1.0000\n",
      "Epoch 120/200\n",
      "1/1 [==============================] - 0s 1ms/step - loss: 0.0785 - sparse_categorical_accuracy: 0.9500\n",
      "Epoch 121/200\n",
      "1/1 [==============================] - 0s 955us/step - loss: 5.0082e-04 - sparse_categorical_accuracy: 1.0000\n",
      "Epoch 122/200\n",
      "1/1 [==============================] - 0s 1ms/step - loss: 7.5315e-05 - sparse_categorical_accuracy: 1.0000\n",
      "Epoch 123/200\n",
      "1/1 [==============================] - 0s 879us/step - loss: 5.6961e-04 - sparse_categorical_accuracy: 1.0000\n",
      "Epoch 124/200\n",
      "1/1 [==============================] - 0s 652us/step - loss: 4.6459e-04 - sparse_categorical_accuracy: 1.0000\n",
      "Epoch 125/200\n",
      "1/1 [==============================] - 0s 1ms/step - loss: 0.0134 - sparse_categorical_accuracy: 1.0000\n",
      "Epoch 126/200\n",
      "1/1 [==============================] - 0s 961us/step - loss: 0.0029 - sparse_categorical_accuracy: 1.0000\n",
      "Epoch 127/200\n",
      "1/1 [==============================] - 0s 938us/step - loss: 0.0018 - sparse_categorical_accuracy: 1.0000\n",
      "Epoch 128/200\n",
      "1/1 [==============================] - 0s 956us/step - loss: 9.6890e-05 - sparse_categorical_accuracy: 1.0000\n",
      "Epoch 129/200\n",
      "1/1 [==============================] - 0s 1ms/step - loss: 7.5471e-04 - sparse_categorical_accuracy: 1.0000\n",
      "Epoch 130/200\n",
      "1/1 [==============================] - 0s 1ms/step - loss: 0.0088 - sparse_categorical_accuracy: 1.0000\n",
      "Epoch 131/200\n",
      "1/1 [==============================] - 0s 1ms/step - loss: 4.0767e-04 - sparse_categorical_accuracy: 1.0000\n",
      "Epoch 132/200\n",
      "1/1 [==============================] - 0s 1ms/step - loss: 0.0013 - sparse_categorical_accuracy: 1.0000\n",
      "Epoch 133/200\n",
      "1/1 [==============================] - 0s 2ms/step - loss: 0.0387 - sparse_categorical_accuracy: 1.0000\n",
      "Epoch 134/200\n",
      "1/1 [==============================] - 0s 1ms/step - loss: 0.0532 - sparse_categorical_accuracy: 0.9500\n",
      "Epoch 135/200\n",
      "1/1 [==============================] - 0s 1ms/step - loss: 0.0013 - sparse_categorical_accuracy: 1.0000\n",
      "Epoch 136/200\n",
      "1/1 [==============================] - 0s 2ms/step - loss: 0.0012 - sparse_categorical_accuracy: 1.0000\n",
      "Epoch 137/200\n",
      "1/1 [==============================] - 0s 929us/step - loss: 0.0121 - sparse_categorical_accuracy: 1.0000\n",
      "Epoch 138/200\n"
     ]
    },
    {
     "name": "stdout",
     "output_type": "stream",
     "text": [
      "1/1 [==============================] - 0s 821us/step - loss: 4.8741e-04 - sparse_categorical_accuracy: 1.0000\n",
      "Epoch 139/200\n",
      "1/1 [==============================] - 0s 755us/step - loss: 0.0144 - sparse_categorical_accuracy: 1.0000\n",
      "Epoch 140/200\n",
      "1/1 [==============================] - 0s 696us/step - loss: 0.0024 - sparse_categorical_accuracy: 1.0000\n",
      "Epoch 141/200\n",
      "1/1 [==============================] - 0s 749us/step - loss: 7.3252e-04 - sparse_categorical_accuracy: 1.0000\n",
      "Epoch 142/200\n",
      "1/1 [==============================] - 0s 715us/step - loss: 0.0021 - sparse_categorical_accuracy: 1.0000\n",
      "Epoch 143/200\n",
      "1/1 [==============================] - 0s 822us/step - loss: 7.4163e-04 - sparse_categorical_accuracy: 1.0000\n",
      "Epoch 144/200\n",
      "1/1 [==============================] - 0s 739us/step - loss: 9.8072e-05 - sparse_categorical_accuracy: 1.0000\n",
      "Epoch 145/200\n",
      "1/1 [==============================] - 0s 1ms/step - loss: 0.0026 - sparse_categorical_accuracy: 1.0000\n",
      "Epoch 146/200\n",
      "1/1 [==============================] - 0s 798us/step - loss: 1.1249e-04 - sparse_categorical_accuracy: 1.0000\n",
      "Epoch 147/200\n",
      "1/1 [==============================] - 0s 832us/step - loss: 8.7318e-04 - sparse_categorical_accuracy: 1.0000\n",
      "Epoch 148/200\n",
      "1/1 [==============================] - 0s 749us/step - loss: 0.0022 - sparse_categorical_accuracy: 1.0000\n",
      "Epoch 149/200\n",
      "1/1 [==============================] - 0s 821us/step - loss: 0.0102 - sparse_categorical_accuracy: 1.0000\n",
      "Epoch 150/200\n",
      "1/1 [==============================] - 0s 832us/step - loss: 1.3621e-04 - sparse_categorical_accuracy: 1.0000\n",
      "Epoch 151/200\n",
      "1/1 [==============================] - 0s 776us/step - loss: 7.5468e-04 - sparse_categorical_accuracy: 1.0000\n",
      "Epoch 152/200\n",
      "1/1 [==============================] - 0s 1ms/step - loss: 3.2373e-04 - sparse_categorical_accuracy: 1.0000\n",
      "Epoch 153/200\n",
      "1/1 [==============================] - 0s 1ms/step - loss: 6.8358e-04 - sparse_categorical_accuracy: 1.0000\n",
      "Epoch 154/200\n",
      "1/1 [==============================] - 0s 2ms/step - loss: 2.4636e-04 - sparse_categorical_accuracy: 1.0000\n",
      "Epoch 155/200\n",
      "1/1 [==============================] - 0s 2ms/step - loss: 0.0011 - sparse_categorical_accuracy: 1.0000\n",
      "Epoch 156/200\n",
      "1/1 [==============================] - 0s 1ms/step - loss: 7.5357e-04 - sparse_categorical_accuracy: 1.0000\n",
      "Epoch 157/200\n",
      "1/1 [==============================] - 0s 4ms/step - loss: 0.0083 - sparse_categorical_accuracy: 1.0000\n",
      "Epoch 158/200\n",
      "1/1 [==============================] - 0s 903us/step - loss: 6.1286e-05 - sparse_categorical_accuracy: 1.0000\n",
      "Epoch 159/200\n",
      "1/1 [==============================] - 0s 830us/step - loss: 0.0132 - sparse_categorical_accuracy: 1.0000\n",
      "Epoch 160/200\n",
      "1/1 [==============================] - 0s 1ms/step - loss: 0.0076 - sparse_categorical_accuracy: 1.0000\n",
      "Epoch 161/200\n",
      "1/1 [==============================] - 0s 751us/step - loss: 6.1182e-04 - sparse_categorical_accuracy: 1.0000\n",
      "Epoch 162/200\n",
      "1/1 [==============================] - 0s 962us/step - loss: 0.0095 - sparse_categorical_accuracy: 1.0000\n",
      "Epoch 163/200\n",
      "1/1 [==============================] - 0s 902us/step - loss: 3.1343e-04 - sparse_categorical_accuracy: 1.0000\n",
      "Epoch 164/200\n",
      "1/1 [==============================] - 0s 1ms/step - loss: 0.0096 - sparse_categorical_accuracy: 1.0000\n",
      "Epoch 165/200\n",
      "1/1 [==============================] - 0s 1ms/step - loss: 2.1431e-04 - sparse_categorical_accuracy: 1.0000\n",
      "Epoch 166/200\n",
      "1/1 [==============================] - 0s 737us/step - loss: 0.0014 - sparse_categorical_accuracy: 1.0000\n",
      "Epoch 167/200\n",
      "1/1 [==============================] - 0s 803us/step - loss: 3.0787e-04 - sparse_categorical_accuracy: 1.0000\n",
      "Epoch 168/200\n",
      "1/1 [==============================] - 0s 1ms/step - loss: 4.7294e-04 - sparse_categorical_accuracy: 1.0000\n",
      "Epoch 169/200\n",
      "1/1 [==============================] - 0s 572us/step - loss: 2.0893e-04 - sparse_categorical_accuracy: 1.0000\n",
      "Epoch 170/200\n",
      "1/1 [==============================] - 0s 604us/step - loss: 9.8800e-04 - sparse_categorical_accuracy: 1.0000\n",
      "Epoch 171/200\n",
      "1/1 [==============================] - 0s 673us/step - loss: 0.0043 - sparse_categorical_accuracy: 1.0000\n",
      "Epoch 172/200\n",
      "1/1 [==============================] - 0s 587us/step - loss: 5.6591e-04 - sparse_categorical_accuracy: 1.0000\n",
      "Epoch 173/200\n",
      "1/1 [==============================] - 0s 867us/step - loss: 9.7169e-04 - sparse_categorical_accuracy: 1.0000\n",
      "Epoch 174/200\n",
      "1/1 [==============================] - 0s 872us/step - loss: 0.0043 - sparse_categorical_accuracy: 1.0000\n",
      "Epoch 175/200\n",
      "1/1 [==============================] - 0s 1ms/step - loss: 5.9252e-04 - sparse_categorical_accuracy: 1.0000\n",
      "Epoch 176/200\n",
      "1/1 [==============================] - 0s 989us/step - loss: 2.5979e-04 - sparse_categorical_accuracy: 1.0000\n",
      "Epoch 177/200\n",
      "1/1 [==============================] - 0s 1ms/step - loss: 1.3290e-04 - sparse_categorical_accuracy: 1.0000\n",
      "Epoch 178/200\n",
      "1/1 [==============================] - 0s 757us/step - loss: 5.1705e-04 - sparse_categorical_accuracy: 1.0000\n",
      "Epoch 179/200\n",
      "1/1 [==============================] - 0s 785us/step - loss: 9.5222e-05 - sparse_categorical_accuracy: 1.0000\n",
      "Epoch 180/200\n",
      "1/1 [==============================] - 0s 762us/step - loss: 0.0011 - sparse_categorical_accuracy: 1.0000\n",
      "Epoch 181/200\n",
      "1/1 [==============================] - 0s 944us/step - loss: 2.3489e-05 - sparse_categorical_accuracy: 1.0000\n",
      "Epoch 182/200\n",
      "1/1 [==============================] - 0s 678us/step - loss: 5.8541e-04 - sparse_categorical_accuracy: 1.0000\n",
      "Epoch 183/200\n",
      "1/1 [==============================] - 0s 1ms/step - loss: 2.0630e-04 - sparse_categorical_accuracy: 1.0000\n",
      "Epoch 184/200\n",
      "1/1 [==============================] - 0s 912us/step - loss: 2.2338e-04 - sparse_categorical_accuracy: 1.0000\n",
      "Epoch 185/200\n",
      "1/1 [==============================] - 0s 598us/step - loss: 8.0004e-05 - sparse_categorical_accuracy: 1.0000\n",
      "Epoch 186/200\n",
      "1/1 [==============================] - 0s 1ms/step - loss: 2.7927e-04 - sparse_categorical_accuracy: 1.0000\n",
      "Epoch 187/200\n",
      "1/1 [==============================] - 0s 2ms/step - loss: 0.0134 - sparse_categorical_accuracy: 1.0000\n",
      "Epoch 188/200\n",
      "1/1 [==============================] - 0s 1ms/step - loss: 0.0012 - sparse_categorical_accuracy: 1.0000\n",
      "Epoch 189/200\n",
      "1/1 [==============================] - 0s 1ms/step - loss: 0.0169 - sparse_categorical_accuracy: 1.0000\n",
      "Epoch 190/200\n",
      "1/1 [==============================] - 0s 962us/step - loss: 4.3278e-05 - sparse_categorical_accuracy: 1.0000\n",
      "Epoch 191/200\n",
      "1/1 [==============================] - 0s 924us/step - loss: 8.3969e-05 - sparse_categorical_accuracy: 1.0000\n",
      "Epoch 192/200\n",
      "1/1 [==============================] - 0s 976us/step - loss: 0.0091 - sparse_categorical_accuracy: 1.0000\n",
      "Epoch 193/200\n",
      "1/1 [==============================] - 0s 1ms/step - loss: 9.4238e-04 - sparse_categorical_accuracy: 1.0000\n",
      "Epoch 194/200\n",
      "1/1 [==============================] - 0s 1ms/step - loss: 2.6719e-05 - sparse_categorical_accuracy: 1.0000\n",
      "Epoch 195/200\n",
      "1/1 [==============================] - 0s 1ms/step - loss: 5.7715e-04 - sparse_categorical_accuracy: 1.0000\n",
      "Epoch 196/200\n",
      "1/1 [==============================] - 0s 619us/step - loss: 3.6896e-04 - sparse_categorical_accuracy: 1.0000\n",
      "Epoch 197/200\n",
      "1/1 [==============================] - ETA: 0s - loss: 0.0581 - sparse_categorical_accuracy: 0.950 - 0s 1ms/step - loss: 0.0581 - sparse_categorical_accuracy: 0.9500\n",
      "Epoch 198/200\n",
      "1/1 [==============================] - 0s 1ms/step - loss: 2.1827e-04 - sparse_categorical_accuracy: 1.0000\n",
      "Epoch 199/200\n",
      "1/1 [==============================] - 0s 2ms/step - loss: 2.2897e-04 - sparse_categorical_accuracy: 1.0000\n",
      "Epoch 200/200\n",
      "1/1 [==============================] - 0s 989us/step - loss: 7.5165e-05 - sparse_categorical_accuracy: 1.0000\n"
     ]
    },
    {
     "data": {
      "text/plain": [
       "<tensorflow.python.keras.callbacks.History at 0x7f3bc56ab2b0>"
      ]
     },
     "execution_count": 13,
     "metadata": {},
     "output_type": "execute_result"
    }
   ],
   "source": [
    "x_lab, y_lab = pool.get_labeled_data()\n",
    "mc_model.fit(x_lab, y_lab)"
   ]
  },
  {
   "cell_type": "code",
   "execution_count": 14,
   "metadata": {
    "colab": {
     "base_uri": "https://localhost:8080/"
    },
    "executionInfo": {
     "elapsed": 11835,
     "status": "ok",
     "timestamp": 1631229062225,
     "user": {
      "displayName": "Maksim S.",
      "photoUrl": "https://lh3.googleusercontent.com/a-/AOh14GiDIsk4k3BkZq6Vdudjt60w9s6VhJj39PHi6eKbgQ=s64",
      "userId": "04355350649774035216"
     },
     "user_tz": -120
    },
    "id": "zNZWp-BRtuF7",
    "outputId": "c9bc4596-8c0d-4490-89f4-632a32c75420"
   },
   "outputs": [
    {
     "data": {
      "text/plain": [
       "{'loss': 1.8224133, 'accuracy': 0.52826}"
      ]
     },
     "execution_count": 14,
     "metadata": {},
     "output_type": "execute_result"
    }
   ],
   "source": [
    "mc_model.evaluate(x_test, y_test, batch_size=900, sample_size=sample_size)"
   ]
  },
  {
   "cell_type": "code",
   "execution_count": null,
   "metadata": {
    "id": "HO4ad52q0w1j"
   },
   "outputs": [],
   "source": []
  },
  {
   "cell_type": "code",
   "execution_count": null,
   "metadata": {},
   "outputs": [],
   "source": []
  }
 ],
 "metadata": {
  "accelerator": "GPU",
  "colab": {
   "authorship_tag": "ABX9TyMAVnZ3USHsEV9K5bzraP2j",
   "collapsed_sections": [],
   "name": "mnist.ipynb",
   "provenance": []
  },
  "kernelspec": {
   "display_name": "Python 3 (ipykernel)",
   "language": "python",
   "name": "python3"
  },
  "language_info": {
   "codemirror_mode": {
    "name": "ipython",
    "version": 3
   },
   "file_extension": ".py",
   "mimetype": "text/x-python",
   "name": "python",
   "nbconvert_exporter": "python",
   "pygments_lexer": "ipython3",
   "version": "3.8.8"
  }
 },
 "nbformat": 4,
 "nbformat_minor": 1
}
