{
 "cells": [
  {
   "cell_type": "code",
   "execution_count": 1,
   "id": "1b58a9e0",
   "metadata": {},
   "outputs": [],
   "source": [
    "%load_ext autoreload"
   ]
  },
  {
   "cell_type": "code",
   "execution_count": 2,
   "id": "3afb8426",
   "metadata": {},
   "outputs": [],
   "source": [
    "import os, sys, json, math\n",
    "import numpy as np\n",
    "import pandas as pd\n",
    "import matplotlib.pyplot as plt\n",
    "import seaborn as sns"
   ]
  },
  {
   "cell_type": "code",
   "execution_count": 3,
   "id": "0b65f172",
   "metadata": {},
   "outputs": [],
   "source": [
    "BASE_PATH = os.path.join(os.getcwd(), \"..\", \"..\")\n",
    "\n",
    "METRICS_PATH = os.path.join(BASE_PATH, \"metrics\")\n",
    "MODULES_PATH = os.path.join(BASE_PATH, \"modules\")"
   ]
  },
  {
   "cell_type": "code",
   "execution_count": 4,
   "id": "0d7cf6ca",
   "metadata": {},
   "outputs": [],
   "source": [
    "sys.path.append(MODULES_PATH)"
   ]
  },
  {
   "cell_type": "code",
   "execution_count": 5,
   "id": "a579cc77",
   "metadata": {},
   "outputs": [],
   "source": [
    "from active_learning import ExperimentSuitMetrics\n",
    "from utils import MetricsTransformer"
   ]
  },
  {
   "cell_type": "code",
   "execution_count": 6,
   "id": "7b529567",
   "metadata": {},
   "outputs": [],
   "source": [
    "%autoreload 2\n",
    "metrics_handler = ExperimentSuitMetrics(os.path.join(METRICS_PATH, \"y_gal_external\"))\n",
    "metrics_transformer = MetricsTransformer()"
   ]
  },
  {
   "cell_type": "code",
   "execution_count": 7,
   "id": "60553b78",
   "metadata": {},
   "outputs": [
    {
     "ename": "FileNotFoundError",
     "evalue": "[Errno 2] No such file or directory: '/home/exleonem/Desktop/workspace/thesis/wp/notebooks/debug/../../metrics/y_gal_external/0_mc_dropout_random.csv'",
     "output_type": "error",
     "traceback": [
      "\u001b[0;31m---------------------------------------------------------------------------\u001b[0m",
      "\u001b[0;31mFileNotFoundError\u001b[0m                         Traceback (most recent call last)",
      "\u001b[0;32m<ipython-input-7-95bc85d1afb7>\u001b[0m in \u001b[0;36m<module>\u001b[0;34m\u001b[0m\n\u001b[1;32m      1\u001b[0m \u001b[0mdtypes\u001b[0m \u001b[0;34m=\u001b[0m \u001b[0;34m{\u001b[0m\u001b[0;34m\"iteration\"\u001b[0m\u001b[0;34m:\u001b[0m \u001b[0mint\u001b[0m\u001b[0;34m,\u001b[0m \u001b[0;34m\"labeled_pool_size\"\u001b[0m\u001b[0;34m:\u001b[0m \u001b[0mint\u001b[0m\u001b[0;34m,\u001b[0m \u001b[0;34m\"eval_time\"\u001b[0m\u001b[0;34m:\u001b[0m \u001b[0mfloat\u001b[0m\u001b[0;34m,\u001b[0m \u001b[0;34m\"eval_accuracy\"\u001b[0m\u001b[0;34m:\u001b[0m \u001b[0mfloat\u001b[0m\u001b[0;34m,\u001b[0m \u001b[0;34m\"train_time\"\u001b[0m\u001b[0;34m:\u001b[0m \u001b[0mfloat\u001b[0m\u001b[0;34m,\u001b[0m \u001b[0;34m\"eval_loss\"\u001b[0m\u001b[0;34m:\u001b[0m \u001b[0mfloat\u001b[0m\u001b[0;34m}\u001b[0m\u001b[0;34m\u001b[0m\u001b[0;34m\u001b[0m\u001b[0m\n\u001b[0;32m----> 2\u001b[0;31m \u001b[0mdf_random\u001b[0m \u001b[0;34m=\u001b[0m \u001b[0mmetrics_transformer\u001b[0m\u001b[0;34m.\u001b[0m\u001b[0mload\u001b[0m\u001b[0;34m(\u001b[0m\u001b[0;34m\"0_mc_dropout_random\"\u001b[0m\u001b[0;34m,\u001b[0m \u001b[0mmetrics_handler\u001b[0m\u001b[0;34m,\u001b[0m \u001b[0mdtype\u001b[0m\u001b[0;34m=\u001b[0m\u001b[0mdtypes\u001b[0m\u001b[0;34m)\u001b[0m\u001b[0;34m\u001b[0m\u001b[0;34m\u001b[0m\u001b[0m\n\u001b[0m\u001b[1;32m      3\u001b[0m \u001b[0mdf_max_entropy\u001b[0m \u001b[0;34m=\u001b[0m \u001b[0mmetrics_transformer\u001b[0m\u001b[0;34m.\u001b[0m\u001b[0mload\u001b[0m\u001b[0;34m(\u001b[0m\u001b[0;34m\"0_mc_dropout_max_entropy\"\u001b[0m\u001b[0;34m,\u001b[0m \u001b[0mmetrics_handler\u001b[0m\u001b[0;34m,\u001b[0m \u001b[0mdtype\u001b[0m\u001b[0;34m=\u001b[0m\u001b[0mdtypes\u001b[0m\u001b[0;34m)\u001b[0m\u001b[0;34m\u001b[0m\u001b[0;34m\u001b[0m\u001b[0m\n\u001b[1;32m      4\u001b[0m \u001b[0mdf_bald\u001b[0m \u001b[0;34m=\u001b[0m \u001b[0mmetrics_transformer\u001b[0m\u001b[0;34m.\u001b[0m\u001b[0mload\u001b[0m\u001b[0;34m(\u001b[0m\u001b[0;34m\"0_mc_dropout_bald\"\u001b[0m\u001b[0;34m,\u001b[0m \u001b[0mmetrics_handler\u001b[0m\u001b[0;34m,\u001b[0m \u001b[0mdtype\u001b[0m\u001b[0;34m=\u001b[0m\u001b[0mdtypes\u001b[0m\u001b[0;34m)\u001b[0m\u001b[0;34m\u001b[0m\u001b[0;34m\u001b[0m\u001b[0m\n\u001b[1;32m      5\u001b[0m \u001b[0mdf_max_var_ratio\u001b[0m \u001b[0;34m=\u001b[0m \u001b[0mmetrics_transformer\u001b[0m\u001b[0;34m.\u001b[0m\u001b[0mload\u001b[0m\u001b[0;34m(\u001b[0m\u001b[0;34m\"0_mc_dropout_max_var_ratio\"\u001b[0m\u001b[0;34m,\u001b[0m \u001b[0mmetrics_handler\u001b[0m\u001b[0;34m,\u001b[0m \u001b[0mdtype\u001b[0m\u001b[0;34m=\u001b[0m\u001b[0mdtypes\u001b[0m\u001b[0;34m)\u001b[0m\u001b[0;34m\u001b[0m\u001b[0;34m\u001b[0m\u001b[0m\n",
      "\u001b[0;32m~/Desktop/workspace/thesis/wp/notebooks/debug/../../modules/utils/metrics_transformer.py\u001b[0m in \u001b[0;36mload\u001b[0;34m(filename, metrics_handler, dtype)\u001b[0m\n\u001b[1;32m     42\u001b[0m                 \u001b[0mcolumn_types\u001b[0m \u001b[0;34m(\u001b[0m\u001b[0mdict\u001b[0m\u001b[0;34m)\u001b[0m\u001b[0;34m:\u001b[0m \u001b[0mA\u001b[0m \u001b[0mmap\u001b[0m \u001b[0mto\u001b[0m \u001b[0mtransform\u001b[0m \u001b[0mcolumn\u001b[0m \u001b[0mnames\u001b[0m \u001b[0minto\u001b[0m \u001b[0mgiven\u001b[0m \u001b[0mtypes\u001b[0m\u001b[0;34m.\u001b[0m\u001b[0;34m\u001b[0m\u001b[0;34m\u001b[0m\u001b[0m\n\u001b[1;32m     43\u001b[0m         \"\"\"\n\u001b[0;32m---> 44\u001b[0;31m         \u001b[0mdata\u001b[0m \u001b[0;34m=\u001b[0m \u001b[0mmetrics_handler\u001b[0m\u001b[0;34m.\u001b[0m\u001b[0mread\u001b[0m\u001b[0;34m(\u001b[0m\u001b[0mfilename\u001b[0m\u001b[0;34m)\u001b[0m\u001b[0;34m\u001b[0m\u001b[0;34m\u001b[0m\u001b[0m\n\u001b[0m\u001b[1;32m     45\u001b[0m         \u001b[0mdf\u001b[0m \u001b[0;34m=\u001b[0m \u001b[0mpd\u001b[0m\u001b[0;34m.\u001b[0m\u001b[0mDataFrame\u001b[0m\u001b[0;34m(\u001b[0m\u001b[0mdata\u001b[0m\u001b[0;34m)\u001b[0m\u001b[0;34m\u001b[0m\u001b[0;34m\u001b[0m\u001b[0m\n\u001b[1;32m     46\u001b[0m \u001b[0;34m\u001b[0m\u001b[0m\n",
      "\u001b[0;32m~/Desktop/workspace/thesis/wp/notebooks/debug/../../modules/active_learning/experiment_metrics.py\u001b[0m in \u001b[0;36mread\u001b[0;34m(self, experiment_name)\u001b[0m\n\u001b[1;32m    231\u001b[0m         \u001b[0mvalues\u001b[0m \u001b[0;34m=\u001b[0m \u001b[0;34m[\u001b[0m\u001b[0;34m]\u001b[0m\u001b[0;34m\u001b[0m\u001b[0;34m\u001b[0m\u001b[0m\n\u001b[1;32m    232\u001b[0m         \u001b[0mexperiment_file_path\u001b[0m \u001b[0;34m=\u001b[0m \u001b[0mos\u001b[0m\u001b[0;34m.\u001b[0m\u001b[0mpath\u001b[0m\u001b[0;34m.\u001b[0m\u001b[0mjoin\u001b[0m\u001b[0;34m(\u001b[0m\u001b[0mself\u001b[0m\u001b[0;34m.\u001b[0m\u001b[0mBASE_PATH\u001b[0m\u001b[0;34m,\u001b[0m \u001b[0mexperiment_name\u001b[0m\u001b[0;34m)\u001b[0m\u001b[0;34m\u001b[0m\u001b[0;34m\u001b[0m\u001b[0m\n\u001b[0;32m--> 233\u001b[0;31m         \u001b[0;32mwith\u001b[0m \u001b[0mopen\u001b[0m\u001b[0;34m(\u001b[0m\u001b[0mexperiment_file_path\u001b[0m\u001b[0;34m,\u001b[0m \u001b[0;34m\"r\"\u001b[0m\u001b[0;34m)\u001b[0m \u001b[0;32mas\u001b[0m \u001b[0mcsv_file\u001b[0m\u001b[0;34m:\u001b[0m\u001b[0;34m\u001b[0m\u001b[0;34m\u001b[0m\u001b[0m\n\u001b[0m\u001b[1;32m    234\u001b[0m \u001b[0;34m\u001b[0m\u001b[0m\n\u001b[1;32m    235\u001b[0m             \u001b[0mcsv_reader\u001b[0m \u001b[0;34m=\u001b[0m \u001b[0mself\u001b[0m\u001b[0;34m.\u001b[0m\u001b[0m__get_csv_reader\u001b[0m\u001b[0;34m(\u001b[0m\u001b[0mcsv_file\u001b[0m\u001b[0;34m)\u001b[0m\u001b[0;34m\u001b[0m\u001b[0;34m\u001b[0m\u001b[0m\n",
      "\u001b[0;31mFileNotFoundError\u001b[0m: [Errno 2] No such file or directory: '/home/exleonem/Desktop/workspace/thesis/wp/notebooks/debug/../../metrics/y_gal_external/0_mc_dropout_random.csv'"
     ]
    }
   ],
   "source": [
    "dtypes = {\"iteration\": int, \"labeled_pool_size\": int, \"eval_time\": float, \"eval_accuracy\": float, \"train_time\": float, \"eval_loss\": float}\n",
    "df_random = metrics_transformer.load(\"0_mc_dropout_random\", metrics_handler, dtype=dtypes)\n",
    "df_max_entropy = metrics_transformer.load(\"0_mc_dropout_max_entropy\", metrics_handler, dtype=dtypes)\n",
    "df_bald = metrics_transformer.load(\"0_mc_dropout_bald\", metrics_handler, dtype=dtypes)\n",
    "df_max_var_ratio = metrics_transformer.load(\"0_mc_dropout_max_var_ratio\", metrics_handler, dtype=dtypes)\n",
    "df_std_mean = metrics_transformer.load(\"0_mc_dropout_std_mean\", metrics_handler, dtype=dtypes)"
   ]
  },
  {
   "cell_type": "markdown",
   "id": "b1a00baf",
   "metadata": {},
   "source": [
    "## Methods"
   ]
  },
  {
   "cell_type": "code",
   "execution_count": null,
   "id": "0e3df91b",
   "metadata": {},
   "outputs": [],
   "source": [
    "def get_losses(dataframe):\n",
    "    \"\"\"\n",
    "        Returns list of losses during traing as a separate dataframe\n",
    "    \"\"\"\n",
    "    return MetricsTransformer.list_to_series(dataframe, \"train_loss\")"
   ]
  },
  {
   "cell_type": "code",
   "execution_count": null,
   "id": "506ffaaf",
   "metadata": {},
   "outputs": [],
   "source": [
    "def loss_in_steps(losses, step_size, num_plots, figsize=(22, 10), num_columns=5, from_epoch=None, to_epoch=None):\n",
    "    \n",
    "    \n",
    "    num_rows = math.ceil(num_plots/num_columns)\n",
    "    fig, axes = plt.subplots(num_rows, num_columns, figsize=figsize)    \n",
    "    \n",
    "    column_idx = 0\n",
    "    range_start = 0\n",
    "    row_idx = 0\n",
    "    for i in range(num_plots):\n",
    "        \n",
    "        range_end = range_start + step_size\n",
    "        \n",
    "        data = losses.T[range_start:range_end].T\n",
    "        \n",
    "        if to_epoch is not None and from_epoch is not None:\n",
    "            data = data[from_epoch:to_epoch]\n",
    "        \n",
    "        elif to_epoch is not None:\n",
    "            data = data[:to_epoch]\n",
    "        \n",
    "        elif from_epoch is not None:\n",
    "            data = data[from_epoch:]\n",
    "        \n",
    "        sns.lineplot(data=data, ax=axes[row_idx, column_idx])\n",
    "        axes[row_idx, column_idx].set_ylabel(\"Loss\")\n",
    "        axes[row_idx, column_idx].set_xlabel(\"Epoch\")\n",
    "        axes[row_idx, column_idx].legend(title=\"Iteration\")\n",
    "        axes[row_idx, column_idx].set_xticks(range(0, len(data.T.columns), 3))\n",
    "        \n",
    "        \n",
    "        # Update range of data to plot\n",
    "        range_start += step_size\n",
    "        column_idx += 1\n",
    "        \n",
    "        # Update row index\n",
    "        if column_idx % num_columns == 0:\n",
    "            row_idx += 1\n",
    "            column_idx = 0"
   ]
  },
  {
   "cell_type": "code",
   "execution_count": null,
   "id": "482dd0f9",
   "metadata": {},
   "outputs": [],
   "source": [
    "df_random.columns"
   ]
  },
  {
   "cell_type": "code",
   "execution_count": null,
   "id": "828e1d07",
   "metadata": {},
   "outputs": [],
   "source": [
    "def merge_and_exclude(dataframes, to_exclude=[]):\n",
    "    \n",
    "    filtered = []\n",
    "    for frame in dataframes:\n",
    "        all_columns = list(frame.columns)\n",
    "        columns_filtered = list(filter(lambda name: name not in to_exclude, all_columns))\n",
    "        filtered.append(frame[columns_filtered])\n",
    "\n",
    "    return pd.concat(filtered, sort=True)"
   ]
  },
  {
   "cell_type": "markdown",
   "id": "a4a0fe01",
   "metadata": {},
   "source": [
    "## Loss Comparison"
   ]
  },
  {
   "cell_type": "code",
   "execution_count": null,
   "id": "7bfa28c8",
   "metadata": {},
   "outputs": [],
   "source": [
    "losses = get_losses(df_random)\n",
    "loss_in_steps(losses, 10, 10, num_columns=2, to_epoch=20, figsize=(20, 20))"
   ]
  },
  {
   "cell_type": "code",
   "execution_count": null,
   "id": "b5e82ff8",
   "metadata": {},
   "outputs": [],
   "source": [
    "losses = get_losses(df_max_entropy)\n",
    "loss_in_steps(losses, 10, 10, num_columns=2, to_epoch=15, figsize=(20, 20))"
   ]
  },
  {
   "cell_type": "code",
   "execution_count": 8,
   "id": "1400fce1",
   "metadata": {},
   "outputs": [
    {
     "ename": "NameError",
     "evalue": "name 'get_losses' is not defined",
     "output_type": "error",
     "traceback": [
      "\u001b[0;31m---------------------------------------------------------------------------\u001b[0m",
      "\u001b[0;31mNameError\u001b[0m                                 Traceback (most recent call last)",
      "\u001b[0;32m<ipython-input-8-27b2ec649a65>\u001b[0m in \u001b[0;36m<module>\u001b[0;34m\u001b[0m\n\u001b[0;32m----> 1\u001b[0;31m \u001b[0mlosses\u001b[0m \u001b[0;34m=\u001b[0m \u001b[0mget_losses\u001b[0m\u001b[0;34m(\u001b[0m\u001b[0mdf_bald\u001b[0m\u001b[0;34m)\u001b[0m\u001b[0;34m\u001b[0m\u001b[0;34m\u001b[0m\u001b[0m\n\u001b[0m\u001b[1;32m      2\u001b[0m \u001b[0mloss_in_steps\u001b[0m\u001b[0;34m(\u001b[0m\u001b[0mlosses\u001b[0m\u001b[0;34m,\u001b[0m \u001b[0;36m10\u001b[0m\u001b[0;34m,\u001b[0m \u001b[0;36m10\u001b[0m\u001b[0;34m,\u001b[0m \u001b[0mnum_columns\u001b[0m\u001b[0;34m=\u001b[0m\u001b[0;36m2\u001b[0m\u001b[0;34m,\u001b[0m \u001b[0mto_epoch\u001b[0m\u001b[0;34m=\u001b[0m\u001b[0;36m10\u001b[0m\u001b[0;34m,\u001b[0m \u001b[0mfigsize\u001b[0m\u001b[0;34m=\u001b[0m\u001b[0;34m(\u001b[0m\u001b[0;36m20\u001b[0m\u001b[0;34m,\u001b[0m \u001b[0;36m20\u001b[0m\u001b[0;34m)\u001b[0m\u001b[0;34m)\u001b[0m\u001b[0;34m\u001b[0m\u001b[0;34m\u001b[0m\u001b[0m\n",
      "\u001b[0;31mNameError\u001b[0m: name 'get_losses' is not defined"
     ]
    }
   ],
   "source": [
    "losses = get_losses(df_bald)\n",
    "loss_in_steps(losses, 10, 10, num_columns=2, to_epoch=10, figsize=(20, 20))"
   ]
  },
  {
   "cell_type": "code",
   "execution_count": null,
   "id": "68163b05",
   "metadata": {},
   "outputs": [],
   "source": []
  },
  {
   "cell_type": "code",
   "execution_count": null,
   "id": "b79eda4a",
   "metadata": {},
   "outputs": [],
   "source": []
  },
  {
   "cell_type": "markdown",
   "id": "c4c5fa22",
   "metadata": {},
   "source": [
    "# Comparison between methods"
   ]
  },
  {
   "cell_type": "code",
   "execution_count": 9,
   "id": "2b4acb1d",
   "metadata": {},
   "outputs": [
    {
     "ename": "NameError",
     "evalue": "name 'df_bald' is not defined",
     "output_type": "error",
     "traceback": [
      "\u001b[0;31m---------------------------------------------------------------------------\u001b[0m",
      "\u001b[0;31mNameError\u001b[0m                                 Traceback (most recent call last)",
      "\u001b[0;32m<ipython-input-9-2eab0f35d15e>\u001b[0m in \u001b[0;36m<module>\u001b[0;34m\u001b[0m\n\u001b[0;32m----> 1\u001b[0;31m \u001b[0mdf_bald\u001b[0m\u001b[0;34m.\u001b[0m\u001b[0minsert\u001b[0m\u001b[0;34m(\u001b[0m\u001b[0;36m0\u001b[0m\u001b[0;34m,\u001b[0m \u001b[0;34m\"method\"\u001b[0m\u001b[0;34m,\u001b[0m \u001b[0;34m\"Bald\"\u001b[0m\u001b[0;34m)\u001b[0m\u001b[0;34m\u001b[0m\u001b[0;34m\u001b[0m\u001b[0m\n\u001b[0m\u001b[1;32m      2\u001b[0m \u001b[0mdf_max_entropy\u001b[0m\u001b[0;34m.\u001b[0m\u001b[0minsert\u001b[0m\u001b[0;34m(\u001b[0m\u001b[0;36m0\u001b[0m\u001b[0;34m,\u001b[0m \u001b[0;34m\"method\"\u001b[0m\u001b[0;34m,\u001b[0m \u001b[0;34m\"Max Entropy\"\u001b[0m\u001b[0;34m)\u001b[0m\u001b[0;34m\u001b[0m\u001b[0;34m\u001b[0m\u001b[0m\n\u001b[1;32m      3\u001b[0m \u001b[0mdf_random\u001b[0m\u001b[0;34m.\u001b[0m\u001b[0minsert\u001b[0m\u001b[0;34m(\u001b[0m\u001b[0;36m0\u001b[0m\u001b[0;34m,\u001b[0m \u001b[0;34m\"method\"\u001b[0m\u001b[0;34m,\u001b[0m \u001b[0;34m\"Random\"\u001b[0m\u001b[0;34m)\u001b[0m\u001b[0;34m\u001b[0m\u001b[0;34m\u001b[0m\u001b[0m\n\u001b[1;32m      4\u001b[0m \u001b[0mdf_max_var_ratio\u001b[0m\u001b[0;34m.\u001b[0m\u001b[0minsert\u001b[0m\u001b[0;34m(\u001b[0m\u001b[0;36m0\u001b[0m\u001b[0;34m,\u001b[0m \u001b[0;34m\"method\"\u001b[0m\u001b[0;34m,\u001b[0m \u001b[0;34m\"Max Var. Ratio.\"\u001b[0m\u001b[0;34m)\u001b[0m\u001b[0;34m\u001b[0m\u001b[0;34m\u001b[0m\u001b[0m\n\u001b[1;32m      5\u001b[0m \u001b[0mdf_std_mean\u001b[0m\u001b[0;34m.\u001b[0m\u001b[0minsert\u001b[0m\u001b[0;34m(\u001b[0m\u001b[0;36m0\u001b[0m\u001b[0;34m,\u001b[0m \u001b[0;34m\"method\"\u001b[0m\u001b[0;34m,\u001b[0m \u001b[0;34m\"Std. Mean\"\u001b[0m\u001b[0;34m)\u001b[0m\u001b[0;34m\u001b[0m\u001b[0;34m\u001b[0m\u001b[0m\n",
      "\u001b[0;31mNameError\u001b[0m: name 'df_bald' is not defined"
     ]
    }
   ],
   "source": [
    "df_bald.insert(0, \"method\", \"Bald\")\n",
    "df_max_entropy.insert(0, \"method\", \"Max Entropy\")\n",
    "df_random.insert(0, \"method\", \"Random\")\n",
    "df_max_var_ratio.insert(0, \"method\", \"Max Var. Ratio.\")\n",
    "df_std_mean.insert(0, \"method\", \"Std. Mean\")"
   ]
  },
  {
   "cell_type": "code",
   "execution_count": 10,
   "id": "0b5a2e7e",
   "metadata": {},
   "outputs": [
    {
     "ename": "NameError",
     "evalue": "name 'df_max_entropy' is not defined",
     "output_type": "error",
     "traceback": [
      "\u001b[0;31m---------------------------------------------------------------------------\u001b[0m",
      "\u001b[0;31mNameError\u001b[0m                                 Traceback (most recent call last)",
      "\u001b[0;32m<ipython-input-10-fdcd0b3de6a6>\u001b[0m in \u001b[0;36m<module>\u001b[0;34m\u001b[0m\n\u001b[0;32m----> 1\u001b[0;31m \u001b[0mto_merge\u001b[0m \u001b[0;34m=\u001b[0m \u001b[0;34m[\u001b[0m\u001b[0mdf_max_entropy\u001b[0m\u001b[0;34m,\u001b[0m \u001b[0mdf_random\u001b[0m\u001b[0;34m,\u001b[0m \u001b[0mdf_bald\u001b[0m\u001b[0;34m,\u001b[0m \u001b[0mdf_max_var_ratio\u001b[0m\u001b[0;34m,\u001b[0m \u001b[0mdf_std_mean\u001b[0m\u001b[0;34m]\u001b[0m\u001b[0;34m\u001b[0m\u001b[0;34m\u001b[0m\u001b[0m\n\u001b[0m\u001b[1;32m      2\u001b[0m \u001b[0mmerged\u001b[0m \u001b[0;34m=\u001b[0m \u001b[0mmerge_and_exclude\u001b[0m\u001b[0;34m(\u001b[0m\u001b[0mto_merge\u001b[0m\u001b[0;34m,\u001b[0m \u001b[0;34m[\u001b[0m\u001b[0;34m\"train_loss\"\u001b[0m\u001b[0;34m]\u001b[0m\u001b[0;34m)\u001b[0m\u001b[0;34m\u001b[0m\u001b[0;34m\u001b[0m\u001b[0m\n\u001b[1;32m      3\u001b[0m \u001b[0mmerged\u001b[0m\u001b[0;34m.\u001b[0m\u001b[0mhead\u001b[0m\u001b[0;34m(\u001b[0m\u001b[0;34m)\u001b[0m\u001b[0;34m\u001b[0m\u001b[0;34m\u001b[0m\u001b[0m\n",
      "\u001b[0;31mNameError\u001b[0m: name 'df_max_entropy' is not defined"
     ]
    }
   ],
   "source": [
    "to_merge = [df_max_entropy, df_random, df_bald, df_max_var_ratio, df_std_mean]\n",
    "merged = merge_and_exclude(to_merge, [\"train_loss\"])\n",
    "merged.head()"
   ]
  },
  {
   "cell_type": "code",
   "execution_count": 11,
   "id": "4218c798",
   "metadata": {},
   "outputs": [
    {
     "ename": "NameError",
     "evalue": "name 'merged' is not defined",
     "output_type": "error",
     "traceback": [
      "\u001b[0;31m---------------------------------------------------------------------------\u001b[0m",
      "\u001b[0;31mNameError\u001b[0m                                 Traceback (most recent call last)",
      "\u001b[0;32m<ipython-input-11-3400a669d56e>\u001b[0m in \u001b[0;36m<module>\u001b[0;34m\u001b[0m\n\u001b[1;32m      2\u001b[0m \u001b[0;34m\u001b[0m\u001b[0m\n\u001b[1;32m      3\u001b[0m \u001b[0;31m# Query time\u001b[0m\u001b[0;34m\u001b[0m\u001b[0;34m\u001b[0m\u001b[0;34m\u001b[0m\u001b[0m\n\u001b[0;32m----> 4\u001b[0;31m \u001b[0msns\u001b[0m\u001b[0;34m.\u001b[0m\u001b[0mlineplot\u001b[0m\u001b[0;34m(\u001b[0m\u001b[0max\u001b[0m\u001b[0;34m=\u001b[0m\u001b[0max\u001b[0m\u001b[0;34m[\u001b[0m\u001b[0;36m0\u001b[0m\u001b[0;34m]\u001b[0m\u001b[0;34m,\u001b[0m \u001b[0mdata\u001b[0m\u001b[0;34m=\u001b[0m\u001b[0mmerged\u001b[0m\u001b[0;34m,\u001b[0m \u001b[0mx\u001b[0m\u001b[0;34m=\u001b[0m\u001b[0;34m\"labeled_pool_size\"\u001b[0m\u001b[0;34m,\u001b[0m \u001b[0my\u001b[0m\u001b[0;34m=\u001b[0m\u001b[0;34m\"eval_loss\"\u001b[0m\u001b[0;34m,\u001b[0m \u001b[0mhue\u001b[0m\u001b[0;34m=\u001b[0m\u001b[0;34m\"method\"\u001b[0m\u001b[0;34m)\u001b[0m\u001b[0;34m\u001b[0m\u001b[0;34m\u001b[0m\u001b[0m\n\u001b[0m\u001b[1;32m      5\u001b[0m \u001b[0max\u001b[0m\u001b[0;34m[\u001b[0m\u001b[0;36m0\u001b[0m\u001b[0;34m]\u001b[0m\u001b[0;34m.\u001b[0m\u001b[0mset_xlabel\u001b[0m\u001b[0;34m(\u001b[0m\u001b[0;34m\"Labeled Size\"\u001b[0m\u001b[0;34m)\u001b[0m\u001b[0;34m\u001b[0m\u001b[0;34m\u001b[0m\u001b[0m\n\u001b[1;32m      6\u001b[0m \u001b[0max\u001b[0m\u001b[0;34m[\u001b[0m\u001b[0;36m0\u001b[0m\u001b[0;34m]\u001b[0m\u001b[0;34m.\u001b[0m\u001b[0mset_ylabel\u001b[0m\u001b[0;34m(\u001b[0m\u001b[0;34m\"Loss\"\u001b[0m\u001b[0;34m)\u001b[0m\u001b[0;34m\u001b[0m\u001b[0;34m\u001b[0m\u001b[0m\n",
      "\u001b[0;31mNameError\u001b[0m: name 'merged' is not defined"
     ]
    },
    {
     "data": {
      "image/png": "[encoded data removed]",
      "text/plain": [
       "<Figure size 1440x360 with 2 Axes>"
      ]
     },
     "metadata": {
      "needs_background": "light"
     },
     "output_type": "display_data"
    }
   ],
   "source": [
    "fig, ax = plt.subplots(1, 2, figsize=(20, 5))\n",
    "\n",
    "# Query time\n",
    "sns.lineplot(ax=ax[0], data=merged, x=\"labeled_pool_size\", y=\"eval_loss\", hue=\"method\")\n",
    "ax[0].set_xlabel(\"Labeled Size\")\n",
    "ax[0].set_ylabel(\"Loss\")\n",
    "\n",
    "# Accuracy\n",
    "sns.lineplot(ax=ax[1], data=merged, x=\"labeled_pool_size\", y=\"eval_accuracy\", hue=\"method\")\n",
    "ax[1].set_xlabel(\"Labeled Size\")\n",
    "ax[1].set_ylabel(\"Accuracy\")\n",
    "\n",
    "# \n",
    "#sns.lineplot(ax=ax[2], data=merged, x=\"labeled_pool_size\", y=\"query_time\", hue=\"method\")\n",
    "#ax[2].set_xlabel(\"Labeled Size\")\n",
    "#ax[2].set_ylabel(\"Query Time in seconds\")"
   ]
  },
  {
   "cell_type": "code",
   "execution_count": null,
   "id": "a7f103e2",
   "metadata": {},
   "outputs": [],
   "source": []
  }
 ],
 "metadata": {
  "kernelspec": {
   "display_name": "Python 3",
   "language": "python",
   "name": "python3"
  },
  "language_info": {
   "codemirror_mode": {
    "name": "ipython",
    "version": 3
   },
   "file_extension": ".py",
   "mimetype": "text/x-python",
   "name": "python",
   "nbconvert_exporter": "python",
   "pygments_lexer": "ipython3",
   "version": "3.8.8"
  }
 },
 "nbformat": 4,
 "nbformat_minor": 5
}
