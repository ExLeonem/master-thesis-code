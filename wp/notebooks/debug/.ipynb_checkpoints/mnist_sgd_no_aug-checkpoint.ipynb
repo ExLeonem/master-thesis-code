{
 "cells": [
  {
   "cell_type": "code",
   "execution_count": 12,
   "id": "b64cec65",
   "metadata": {},
   "outputs": [],
   "source": [
    "import os, sys\n",
    "import numpy as np\n",
    "import pandas as pd\n",
    "import matplotlib.pyplot as plt\n",
    "import seaborn as sns\n",
    "\n",
    "from sklearn.model_selection import train_test_split\n",
    "import tensorflow as tf"
   ]
  },
  {
   "cell_type": "code",
   "execution_count": 13,
   "id": "cff3e0f7",
   "metadata": {},
   "outputs": [],
   "source": [
    "BASE_PATH = os.path.join(os.getcwd(), \"..\", \"..\")\n",
    "MODULES_PATH = os.path.join(BASE_PATH, \"modules\")\n",
    "DATASETS_PATH = os.path.join(BASE_PATH, \"datasets\")\n",
    "METRICS_PATH = os.path.join(BASE_PATH, \"metrics\")"
   ]
  },
  {
   "cell_type": "code",
   "execution_count": 14,
   "id": "f5f62c3c",
   "metadata": {},
   "outputs": [],
   "source": [
    "sys.path.append(MODULES_PATH)"
   ]
  },
  {
   "cell_type": "code",
   "execution_count": 15,
   "id": "43666d1e",
   "metadata": {},
   "outputs": [],
   "source": [
    "from data import BenchmarkData, DataSetType\n",
    "from models import fchollet_cnn, setup_growth\n",
    "from bayesian import McDropout"
   ]
  },
  {
   "cell_type": "code",
   "execution_count": 21,
   "id": "ab39da3c",
   "metadata": {},
   "outputs": [],
   "source": [
    "num_classes = 10\n",
    "mnist_path = os.path.join(DATASETS_PATH, \"mnist\")\n",
    "mnist = BenchmarkData(DataSetType.MNIST, mnist_path, dtype=float, classes=num_classes)"
   ]
  },
  {
   "cell_type": "code",
   "execution_count": 22,
   "id": "f71edbaa",
   "metadata": {},
   "outputs": [],
   "source": [
    "x_train, x_test, y_train, y_test = train_test_split(mnist.inputs, mnist.targets, train_size=300)"
   ]
  },
  {
   "cell_type": "code",
   "execution_count": 25,
   "id": "9bc32426",
   "metadata": {},
   "outputs": [
    {
     "name": "stdout",
     "output_type": "stream",
     "text": [
      "1 Physical GPU's,  1 Logical GPU's\n"
     ]
    }
   ],
   "source": [
    "setup_growth()"
   ]
  },
  {
   "cell_type": "code",
   "execution_count": 26,
   "id": "6d358c13",
   "metadata": {},
   "outputs": [],
   "source": [
    "model = fchollet_cnn(output=num_classes)\n",
    "model.compile(optimizer=\"sgd\", loss=\"sparse_categorical_crossentropy\", metrics=[\"sparse_categorical_accuracy\"])"
   ]
  },
  {
   "cell_type": "code",
   "execution_count": null,
   "id": "13bda441",
   "metadata": {},
   "outputs": [],
   "source": []
  },
  {
   "cell_type": "code",
   "execution_count": null,
   "id": "7d2db95a",
   "metadata": {},
   "outputs": [],
   "source": []
  },
  {
   "cell_type": "code",
   "execution_count": null,
   "id": "c727f3be",
   "metadata": {},
   "outputs": [],
   "source": []
  },
  {
   "cell_type": "code",
   "execution_count": null,
   "id": "a10bbc9d",
   "metadata": {},
   "outputs": [],
   "source": []
  },
  {
   "cell_type": "code",
   "execution_count": null,
   "id": "3fde77b1",
   "metadata": {},
   "outputs": [],
   "source": []
  },
  {
   "cell_type": "code",
   "execution_count": null,
   "id": "81065211",
   "metadata": {},
   "outputs": [],
   "source": []
  }
 ],
 "metadata": {
  "kernelspec": {
   "display_name": "Python 3",
   "language": "python",
   "name": "python3"
  },
  "language_info": {
   "codemirror_mode": {
    "name": "ipython",
    "version": 3
   },
   "file_extension": ".py",
   "mimetype": "text/x-python",
   "name": "python",
   "nbconvert_exporter": "python",
   "pygments_lexer": "ipython3",
   "version": "3.8.8"
  }
 },
 "nbformat": 4,
 "nbformat_minor": 5
}
