{
 "cells": [
  {
   "cell_type": "code",
   "execution_count": 1,
   "id": "1f36d35e",
   "metadata": {},
   "outputs": [],
   "source": [
    "%load_ext autoreload"
   ]
  },
  {
   "cell_type": "code",
   "execution_count": 2,
   "id": "989be771",
   "metadata": {},
   "outputs": [],
   "source": [
    "import os, sys\n",
    "import numpy as np\n",
    "import pandas as pd\n",
    "\n",
    "import tensorflow as tf\n",
    "import tensorflow.keras as keras"
   ]
  },
  {
   "cell_type": "code",
   "execution_count": 3,
   "id": "6ccc1f96",
   "metadata": {},
   "outputs": [
    {
     "data": {
      "text/plain": [
       "['fashion_mnist',\n",
       " 'caltech_ucsd_birds200',\n",
       " 'baffin_bay',\n",
       " 'mnist',\n",
       " 'reg_data_wilson_izmailov']"
      ]
     },
     "execution_count": 3,
     "metadata": {},
     "output_type": "execute_result"
    }
   ],
   "source": [
    "BASE_PATH = os.path.join(os.getcwd(), \"..\", \"..\")\n",
    "\n",
    "MODULES_PATH = os.path.join(BASE_PATH, \"modules\")\n",
    "DATASETS_PATH = os.path.join(BASE_PATH, \"datasets\")\n",
    "os.listdir(DATASETS_PATH)"
   ]
  },
  {
   "cell_type": "code",
   "execution_count": 4,
   "id": "4817101f",
   "metadata": {},
   "outputs": [],
   "source": [
    "sys.path.append(MODULES_PATH)"
   ]
  },
  {
   "cell_type": "code",
   "execution_count": 5,
   "id": "870f6d3a",
   "metadata": {},
   "outputs": [],
   "source": [
    "from data import BenchmarkData\n",
    "from models import setup_growth"
   ]
  },
  {
   "cell_type": "code",
   "execution_count": 6,
   "id": "06f75839",
   "metadata": {},
   "outputs": [],
   "source": [
    "(x_train, y_train), (x_test, y_test) = keras.datasets.cifar10.load_data()"
   ]
  },
  {
   "cell_type": "code",
   "execution_count": 7,
   "id": "ff0e2112",
   "metadata": {},
   "outputs": [
    {
     "data": {
      "text/plain": [
       "(50000, 32, 32, 3)"
      ]
     },
     "execution_count": 7,
     "metadata": {},
     "output_type": "execute_result"
    }
   ],
   "source": [
    "x_train.shape"
   ]
  },
  {
   "cell_type": "code",
   "execution_count": 8,
   "id": "01ad2bc3",
   "metadata": {},
   "outputs": [
    {
     "data": {
      "text/plain": [
       "(50000, 1)"
      ]
     },
     "execution_count": 8,
     "metadata": {},
     "output_type": "execute_result"
    }
   ],
   "source": [
    "y_train.shape"
   ]
  },
  {
   "cell_type": "code",
   "execution_count": 9,
   "id": "ba82ff15",
   "metadata": {},
   "outputs": [
    {
     "name": "stdout",
     "output_type": "stream",
     "text": [
      "Number of classes 10\n"
     ]
    }
   ],
   "source": [
    "num_classes = len(np.unique(y_train))\n",
    "print(\"Number of classes {}\".format(num_classes))"
   ]
  },
  {
   "cell_type": "code",
   "execution_count": 10,
   "id": "ba52a26b",
   "metadata": {},
   "outputs": [
    {
     "name": "stdout",
     "output_type": "stream",
     "text": [
      "1 Physical GPU's,  1 Logical GPU's\n"
     ]
    }
   ],
   "source": [
    "setup_growth()"
   ]
  },
  {
   "cell_type": "code",
   "execution_count": 21,
   "id": "7fb867e6",
   "metadata": {},
   "outputs": [],
   "source": [
    "mobile_net = keras.applications.MobileNetV2(\n",
    "    weights=None,\n",
    "    classes=num_classes,\n",
    "    classifier_activation=\"softmax\"\n",
    ")"
   ]
  },
  {
   "cell_type": "code",
   "execution_count": 18,
   "id": "e056da7d",
   "metadata": {},
   "outputs": [
    {
     "data": {
      "text/plain": [
       "(2, 32, 32, 3)"
      ]
     },
     "execution_count": 18,
     "metadata": {},
     "output_type": "execute_result"
    }
   ],
   "source": [
    "x_train[:2].shape"
   ]
  },
  {
   "cell_type": "code",
   "execution_count": 24,
   "id": "6433f6c9",
   "metadata": {},
   "outputs": [
    {
     "name": "stdout",
     "output_type": "stream",
     "text": [
      "WARNING:tensorflow:Model was constructed with shape (None, 224, 224, 3) for input Tensor(\"input_3:0\", shape=(None, 224, 224, 3), dtype=float32), but it was called on an input with incompatible shape (2, 32, 32, 3).\n"
     ]
    },
    {
     "data": {
      "text/plain": [
       "<tf.Tensor: shape=(2, 10), dtype=float32, numpy=\n",
       "array([[0.1, 0.1, 0.1, 0.1, 0.1, 0.1, 0.1, 0.1, 0.1, 0.1],\n",
       "       [0.1, 0.1, 0.1, 0.1, 0.1, 0.1, 0.1, 0.1, 0.1, 0.1]], dtype=float32)>"
      ]
     },
     "execution_count": 24,
     "metadata": {},
     "output_type": "execute_result"
    }
   ],
   "source": [
    "output = mobile_net(x_train[:2])\n",
    "output"
   ]
  },
  {
   "cell_type": "code",
   "execution_count": 27,
   "id": "e184684b",
   "metadata": {},
   "outputs": [],
   "source": [
    "mobile_net.compile(\n",
    "    loss=\"sparse_categorical_crossentropy\", \n",
    "    optimizer=\"adam\", \n",
    "    metrics=[keras.metrics.SparseCategoricalAccuracy()]\n",
    ")"
   ]
  },
  {
   "cell_type": "code",
   "execution_count": 28,
   "id": "e49a0ebc",
   "metadata": {},
   "outputs": [
    {
     "name": "stdout",
     "output_type": "stream",
     "text": [
      "Epoch 1/100\n",
      "WARNING:tensorflow:Model was constructed with shape (None, 224, 224, 3) for input Tensor(\"input_3:0\", shape=(None, 224, 224, 3), dtype=float32), but it was called on an input with incompatible shape (100, 32, 32, 3).\n",
      "WARNING:tensorflow:Model was constructed with shape (None, 224, 224, 3) for input Tensor(\"input_3:0\", shape=(None, 224, 224, 3), dtype=float32), but it was called on an input with incompatible shape (100, 32, 32, 3).\n",
      "500/500 [==============================] - 13s 25ms/step - loss: 1.0749 - sparse_categorical_accuracy: 0.6265\n",
      "Epoch 2/100\n",
      "500/500 [==============================] - 12s 25ms/step - loss: 0.9823 - sparse_categorical_accuracy: 0.6562\n",
      "Epoch 3/100\n",
      "500/500 [==============================] - 13s 25ms/step - loss: 0.9152 - sparse_categorical_accuracy: 0.6802\n",
      "Epoch 4/100\n",
      "500/500 [==============================] - 13s 26ms/step - loss: 0.7948 - sparse_categorical_accuracy: 0.7222\n",
      "Epoch 5/100\n",
      "500/500 [==============================] - 13s 26ms/step - loss: 0.7433 - sparse_categorical_accuracy: 0.7398\n",
      "Epoch 6/100\n",
      "500/500 [==============================] - 13s 26ms/step - loss: 0.7060 - sparse_categorical_accuracy: 0.7545\n",
      "Epoch 7/100\n",
      "500/500 [==============================] - 13s 26ms/step - loss: 0.6426 - sparse_categorical_accuracy: 0.7753\n",
      "Epoch 8/100\n",
      "500/500 [==============================] - 13s 26ms/step - loss: 0.8387 - sparse_categorical_accuracy: 0.7175\n",
      "Epoch 9/100\n",
      "500/500 [==============================] - 13s 26ms/step - loss: 1.5561 - sparse_categorical_accuracy: 0.4519\n",
      "Epoch 10/100\n",
      "500/500 [==============================] - 13s 26ms/step - loss: 1.2393 - sparse_categorical_accuracy: 0.5625\n",
      "Epoch 11/100\n",
      "500/500 [==============================] - 13s 27ms/step - loss: 1.1682 - sparse_categorical_accuracy: 0.5917\n",
      "Epoch 12/100\n",
      "500/500 [==============================] - 12s 24ms/step - loss: 1.1425 - sparse_categorical_accuracy: 0.5929\n",
      "Epoch 13/100\n",
      "500/500 [==============================] - 12s 24ms/step - loss: 0.9214 - sparse_categorical_accuracy: 0.6719\n",
      "Epoch 14/100\n",
      "500/500 [==============================] - 13s 26ms/step - loss: 0.8170 - sparse_categorical_accuracy: 0.7112\n",
      "Epoch 15/100\n",
      "500/500 [==============================] - 13s 26ms/step - loss: 0.7385 - sparse_categorical_accuracy: 0.7405\n",
      "Epoch 16/100\n",
      "500/500 [==============================] - 13s 27ms/step - loss: 0.6914 - sparse_categorical_accuracy: 0.7576\n",
      "Epoch 17/100\n",
      "500/500 [==============================] - 13s 27ms/step - loss: 0.6614 - sparse_categorical_accuracy: 0.7691\n",
      "Epoch 18/100\n",
      "500/500 [==============================] - 13s 26ms/step - loss: 0.8301 - sparse_categorical_accuracy: 0.7143\n",
      "Epoch 19/100\n",
      "500/500 [==============================] - 13s 27ms/step - loss: 0.6223 - sparse_categorical_accuracy: 0.7812\n",
      "Epoch 20/100\n",
      "500/500 [==============================] - 13s 26ms/step - loss: 0.5598 - sparse_categorical_accuracy: 0.8020\n",
      "Epoch 21/100\n",
      "500/500 [==============================] - 13s 26ms/step - loss: 0.5190 - sparse_categorical_accuracy: 0.8185\n",
      "Epoch 22/100\n",
      "500/500 [==============================] - 13s 26ms/step - loss: 0.5396 - sparse_categorical_accuracy: 0.8121\n",
      "Epoch 23/100\n",
      "500/500 [==============================] - 13s 27ms/step - loss: 0.5092 - sparse_categorical_accuracy: 0.8204\n",
      "Epoch 24/100\n",
      "500/500 [==============================] - 13s 27ms/step - loss: 0.4396 - sparse_categorical_accuracy: 0.8461\n",
      "Epoch 25/100\n",
      "500/500 [==============================] - 13s 27ms/step - loss: 0.7769 - sparse_categorical_accuracy: 0.7447\n",
      "Epoch 26/100\n",
      "500/500 [==============================] - 13s 27ms/step - loss: 1.5256 - sparse_categorical_accuracy: 0.4730\n",
      "Epoch 27/100\n",
      "500/500 [==============================] - 13s 27ms/step - loss: 1.3404 - sparse_categorical_accuracy: 0.5266\n",
      "Epoch 28/100\n",
      "500/500 [==============================] - 13s 27ms/step - loss: 1.1456 - sparse_categorical_accuracy: 0.6017\n",
      "Epoch 29/100\n",
      "500/500 [==============================] - 13s 27ms/step - loss: 0.9456 - sparse_categorical_accuracy: 0.6675\n",
      "Epoch 30/100\n",
      "500/500 [==============================] - 13s 26ms/step - loss: 0.8487 - sparse_categorical_accuracy: 0.7036\n",
      "Epoch 31/100\n",
      "500/500 [==============================] - 13s 27ms/step - loss: 0.8216 - sparse_categorical_accuracy: 0.7154\n",
      "Epoch 32/100\n",
      "500/500 [==============================] - 13s 26ms/step - loss: 0.7268 - sparse_categorical_accuracy: 0.7467\n",
      "Epoch 33/100\n",
      "500/500 [==============================] - 13s 27ms/step - loss: 0.6460 - sparse_categorical_accuracy: 0.7755\n",
      "Epoch 34/100\n",
      "500/500 [==============================] - 13s 26ms/step - loss: 0.5953 - sparse_categorical_accuracy: 0.7907\n",
      "Epoch 35/100\n",
      "500/500 [==============================] - 13s 26ms/step - loss: 0.7781 - sparse_categorical_accuracy: 0.7329\n",
      "Epoch 36/100\n",
      "500/500 [==============================] - 13s 25ms/step - loss: 0.5992 - sparse_categorical_accuracy: 0.7897\n",
      "Epoch 37/100\n",
      "500/500 [==============================] - 14s 27ms/step - loss: 0.5031 - sparse_categorical_accuracy: 0.8222\n",
      "Epoch 38/100\n",
      "500/500 [==============================] - 13s 27ms/step - loss: 0.4537 - sparse_categorical_accuracy: 0.8415\n",
      "Epoch 39/100\n",
      "500/500 [==============================] - 13s 27ms/step - loss: 0.4215 - sparse_categorical_accuracy: 0.8532\n",
      "Epoch 40/100\n",
      "500/500 [==============================] - 14s 27ms/step - loss: 0.3844 - sparse_categorical_accuracy: 0.8640\n",
      "Epoch 41/100\n",
      "500/500 [==============================] - 13s 27ms/step - loss: 0.3587 - sparse_categorical_accuracy: 0.8730\n",
      "Epoch 42/100\n",
      "500/500 [==============================] - 13s 27ms/step - loss: 0.3325 - sparse_categorical_accuracy: 0.8824\n",
      "Epoch 43/100\n",
      "500/500 [==============================] - 13s 27ms/step - loss: 0.3130 - sparse_categorical_accuracy: 0.8896\n",
      "Epoch 44/100\n",
      "500/500 [==============================] - 14s 27ms/step - loss: 0.4062 - sparse_categorical_accuracy: 0.8609\n",
      "Epoch 45/100\n",
      "500/500 [==============================] - 13s 26ms/step - loss: 0.4052 - sparse_categorical_accuracy: 0.8572\n",
      "Epoch 46/100\n",
      "500/500 [==============================] - 13s 27ms/step - loss: 0.6890 - sparse_categorical_accuracy: 0.7701\n",
      "Epoch 47/100\n",
      "500/500 [==============================] - 14s 27ms/step - loss: 0.4150 - sparse_categorical_accuracy: 0.8546\n",
      "Epoch 48/100\n",
      "500/500 [==============================] - 13s 26ms/step - loss: 0.2977 - sparse_categorical_accuracy: 0.8952\n",
      "Epoch 49/100\n",
      "500/500 [==============================] - 13s 26ms/step - loss: 0.2497 - sparse_categorical_accuracy: 0.9111\n",
      "Epoch 50/100\n",
      "500/500 [==============================] - 13s 26ms/step - loss: 0.2272 - sparse_categorical_accuracy: 0.9190\n",
      "Epoch 51/100\n",
      "500/500 [==============================] - 13s 26ms/step - loss: 0.2105 - sparse_categorical_accuracy: 0.9250\n",
      "Epoch 52/100\n",
      "500/500 [==============================] - 13s 26ms/step - loss: 0.1985 - sparse_categorical_accuracy: 0.9290\n",
      "Epoch 53/100\n",
      "500/500 [==============================] - 14s 27ms/step - loss: 0.1976 - sparse_categorical_accuracy: 0.9292\n",
      "Epoch 54/100\n",
      "500/500 [==============================] - 13s 27ms/step - loss: 0.1747 - sparse_categorical_accuracy: 0.9376\n",
      "Epoch 55/100\n",
      "500/500 [==============================] - 13s 27ms/step - loss: 0.1703 - sparse_categorical_accuracy: 0.9394\n",
      "Epoch 56/100\n",
      "500/500 [==============================] - 14s 27ms/step - loss: 0.1634 - sparse_categorical_accuracy: 0.9423\n",
      "Epoch 57/100\n",
      "500/500 [==============================] - 13s 26ms/step - loss: 0.1553 - sparse_categorical_accuracy: 0.9445\n",
      "Epoch 58/100\n",
      "500/500 [==============================] - 13s 27ms/step - loss: 0.1472 - sparse_categorical_accuracy: 0.9476\n",
      "Epoch 59/100\n",
      "500/500 [==============================] - 13s 26ms/step - loss: 0.1451 - sparse_categorical_accuracy: 0.9486\n",
      "Epoch 60/100\n",
      "500/500 [==============================] - 13s 26ms/step - loss: 0.1354 - sparse_categorical_accuracy: 0.9519\n",
      "Epoch 61/100\n",
      "500/500 [==============================] - 13s 26ms/step - loss: 0.1333 - sparse_categorical_accuracy: 0.9515\n",
      "Epoch 62/100\n",
      "500/500 [==============================] - 14s 28ms/step - loss: 0.1249 - sparse_categorical_accuracy: 0.9560\n",
      "Epoch 63/100\n",
      "500/500 [==============================] - 14s 28ms/step - loss: 0.1157 - sparse_categorical_accuracy: 0.9594\n",
      "Epoch 64/100\n"
     ]
    },
    {
     "name": "stdout",
     "output_type": "stream",
     "text": [
      "500/500 [==============================] - 13s 27ms/step - loss: 0.1154 - sparse_categorical_accuracy: 0.9588\n",
      "Epoch 65/100\n",
      "500/500 [==============================] - 11s 23ms/step - loss: 0.1146 - sparse_categorical_accuracy: 0.9592\n",
      "Epoch 66/100\n",
      "500/500 [==============================] - 12s 25ms/step - loss: 0.1104 - sparse_categorical_accuracy: 0.9605\n",
      "Epoch 67/100\n",
      "500/500 [==============================] - 14s 27ms/step - loss: 0.1184 - sparse_categorical_accuracy: 0.9579\n",
      "Epoch 68/100\n",
      "500/500 [==============================] - 13s 26ms/step - loss: 0.0985 - sparse_categorical_accuracy: 0.9651\n",
      "Epoch 69/100\n",
      "500/500 [==============================] - 13s 27ms/step - loss: 0.1020 - sparse_categorical_accuracy: 0.9639\n",
      "Epoch 70/100\n",
      "500/500 [==============================] - 13s 26ms/step - loss: 0.0988 - sparse_categorical_accuracy: 0.9655\n",
      "Epoch 71/100\n",
      "500/500 [==============================] - 13s 27ms/step - loss: 0.1012 - sparse_categorical_accuracy: 0.9655\n",
      "Epoch 72/100\n",
      "500/500 [==============================] - 13s 26ms/step - loss: 0.0895 - sparse_categorical_accuracy: 0.9685\n",
      "Epoch 73/100\n",
      "500/500 [==============================] - 12s 25ms/step - loss: 0.0907 - sparse_categorical_accuracy: 0.9677\n",
      "Epoch 74/100\n",
      "500/500 [==============================] - 13s 26ms/step - loss: 0.0886 - sparse_categorical_accuracy: 0.9684\n",
      "Epoch 75/100\n",
      "500/500 [==============================] - 13s 26ms/step - loss: 0.0908 - sparse_categorical_accuracy: 0.9685\n",
      "Epoch 76/100\n",
      "500/500 [==============================] - 13s 25ms/step - loss: 0.0854 - sparse_categorical_accuracy: 0.9697\n",
      "Epoch 77/100\n",
      "500/500 [==============================] - 13s 26ms/step - loss: 0.0900 - sparse_categorical_accuracy: 0.9687\n",
      "Epoch 78/100\n",
      "500/500 [==============================] - 13s 25ms/step - loss: 0.0801 - sparse_categorical_accuracy: 0.9723\n",
      "Epoch 79/100\n",
      "500/500 [==============================] - 13s 26ms/step - loss: 0.0801 - sparse_categorical_accuracy: 0.9716\n",
      "Epoch 80/100\n",
      "500/500 [==============================] - 13s 26ms/step - loss: 0.0852 - sparse_categorical_accuracy: 0.9706\n",
      "Epoch 81/100\n",
      "500/500 [==============================] - 13s 27ms/step - loss: 0.0790 - sparse_categorical_accuracy: 0.9727\n",
      "Epoch 82/100\n",
      "500/500 [==============================] - 13s 26ms/step - loss: 0.0757 - sparse_categorical_accuracy: 0.9724\n",
      "Epoch 83/100\n",
      "500/500 [==============================] - 13s 27ms/step - loss: 0.0736 - sparse_categorical_accuracy: 0.9744\n",
      "Epoch 84/100\n",
      "500/500 [==============================] - 13s 26ms/step - loss: 0.0803 - sparse_categorical_accuracy: 0.9724\n",
      "Epoch 85/100\n",
      "500/500 [==============================] - 13s 27ms/step - loss: 0.0703 - sparse_categorical_accuracy: 0.9748\n",
      "Epoch 86/100\n",
      "500/500 [==============================] - 13s 26ms/step - loss: 0.0719 - sparse_categorical_accuracy: 0.9754\n",
      "Epoch 87/100\n",
      "500/500 [==============================] - 13s 26ms/step - loss: 0.0696 - sparse_categorical_accuracy: 0.9748\n",
      "Epoch 88/100\n",
      "500/500 [==============================] - 13s 27ms/step - loss: 0.0714 - sparse_categorical_accuracy: 0.9748\n",
      "Epoch 89/100\n",
      "500/500 [==============================] - 13s 27ms/step - loss: 0.0696 - sparse_categorical_accuracy: 0.9758\n",
      "Epoch 90/100\n",
      "500/500 [==============================] - 13s 27ms/step - loss: 0.0663 - sparse_categorical_accuracy: 0.9778\n",
      "Epoch 91/100\n",
      "500/500 [==============================] - 13s 26ms/step - loss: 0.0646 - sparse_categorical_accuracy: 0.9778\n",
      "Epoch 92/100\n",
      "500/500 [==============================] - 13s 26ms/step - loss: 0.0804 - sparse_categorical_accuracy: 0.9736\n",
      "Epoch 93/100\n",
      "500/500 [==============================] - 14s 27ms/step - loss: 0.0684 - sparse_categorical_accuracy: 0.9768\n",
      "Epoch 94/100\n",
      "500/500 [==============================] - 13s 26ms/step - loss: 0.2466 - sparse_categorical_accuracy: 0.9215\n",
      "Epoch 95/100\n",
      "500/500 [==============================] - 13s 27ms/step - loss: 0.2266 - sparse_categorical_accuracy: 0.9210\n",
      "Epoch 96/100\n",
      "500/500 [==============================] - 14s 27ms/step - loss: 0.0765 - sparse_categorical_accuracy: 0.9730\n",
      "Epoch 97/100\n",
      "500/500 [==============================] - 13s 27ms/step - loss: 0.0536 - sparse_categorical_accuracy: 0.9805\n",
      "Epoch 98/100\n",
      "500/500 [==============================] - 13s 27ms/step - loss: 0.0509 - sparse_categorical_accuracy: 0.9816\n",
      "Epoch 99/100\n",
      "500/500 [==============================] - 13s 27ms/step - loss: 0.0471 - sparse_categorical_accuracy: 0.9839\n",
      "Epoch 100/100\n",
      "500/500 [==============================] - 13s 27ms/step - loss: 0.0565 - sparse_categorical_accuracy: 0.9802\n"
     ]
    },
    {
     "data": {
      "text/plain": [
       "<tensorflow.python.keras.callbacks.History at 0x7fe819bcddf0>"
      ]
     },
     "execution_count": 28,
     "metadata": {},
     "output_type": "execute_result"
    }
   ],
   "source": [
    "mobile_net.fit(x_train, y_train, epochs=100, batch_size=100)"
   ]
  },
  {
   "cell_type": "code",
   "execution_count": 36,
   "id": "00e4b1a7",
   "metadata": {},
   "outputs": [
    {
     "name": "stdout",
     "output_type": "stream",
     "text": [
      "WARNING:tensorflow:Model was constructed with shape (None, 224, 224, 3) for input Tensor(\"input_3:0\", shape=(None, 224, 224, 3), dtype=float32), but it was called on an input with incompatible shape (2, 32, 32, 3).\n"
     ]
    },
    {
     "data": {
      "text/plain": [
       "<tf.Tensor: shape=(2, 10), dtype=float32, numpy=\n",
       "array([[2.4119317e-05, 1.6046250e-04, 9.2549426e-06, 6.3442996e-05,\n",
       "        9.7207794e-07, 9.9591357e-01, 1.1461984e-06, 9.1412693e-04,\n",
       "        2.9104636e-03, 2.4777989e-06],\n",
       "       [1.1590678e-10, 4.8099764e-11, 1.5533098e-22, 1.3188160e-28,\n",
       "        3.3233719e-25, 1.0059743e-19, 1.1733457e-14, 2.3989667e-30,\n",
       "        1.0000000e+00, 1.1549327e-13]], dtype=float32)>"
      ]
     },
     "execution_count": 36,
     "metadata": {},
     "output_type": "execute_result"
    }
   ],
   "source": [
    "new_output = mobile_net(x_test[:2])\n",
    "new_output"
   ]
  },
  {
   "cell_type": "code",
   "execution_count": 38,
   "id": "caf8c097",
   "metadata": {},
   "outputs": [
    {
     "data": {
      "text/plain": [
       "array([[3],\n",
       "       [8]], dtype=uint8)"
      ]
     },
     "execution_count": 38,
     "metadata": {},
     "output_type": "execute_result"
    }
   ],
   "source": [
    "y_test[:2]"
   ]
  },
  {
   "cell_type": "code",
   "execution_count": 39,
   "id": "c670b42d",
   "metadata": {},
   "outputs": [
    {
     "data": {
      "text/plain": [
       "<tf.Tensor: shape=(2,), dtype=int64, numpy=array([5, 8])>"
      ]
     },
     "execution_count": 39,
     "metadata": {},
     "output_type": "execute_result"
    }
   ],
   "source": [
    "tf.math.argmax(new_output, axis=1)"
   ]
  },
  {
   "cell_type": "code",
   "execution_count": null,
   "id": "93e77366",
   "metadata": {},
   "outputs": [],
   "source": []
  },
  {
   "cell_type": "code",
   "execution_count": null,
   "id": "921408e8",
   "metadata": {},
   "outputs": [],
   "source": []
  },
  {
   "cell_type": "code",
   "execution_count": null,
   "id": "3ac28426",
   "metadata": {},
   "outputs": [],
   "source": []
  },
  {
   "cell_type": "code",
   "execution_count": null,
   "id": "c5dcc252",
   "metadata": {},
   "outputs": [],
   "source": []
  },
  {
   "cell_type": "code",
   "execution_count": null,
   "id": "0e8065b4",
   "metadata": {},
   "outputs": [],
   "source": []
  },
  {
   "cell_type": "code",
   "execution_count": null,
   "id": "4cbd6a72",
   "metadata": {},
   "outputs": [],
   "source": []
  }
 ],
 "metadata": {
  "kernelspec": {
   "display_name": "Python 3",
   "language": "python",
   "name": "python3"
  },
  "language_info": {
   "codemirror_mode": {
    "name": "ipython",
    "version": 3
   },
   "file_extension": ".py",
   "mimetype": "text/x-python",
   "name": "python",
   "nbconvert_exporter": "python",
   "pygments_lexer": "ipython3",
   "version": "3.8.8"
  }
 },
 "nbformat": 4,
 "nbformat_minor": 5
}
