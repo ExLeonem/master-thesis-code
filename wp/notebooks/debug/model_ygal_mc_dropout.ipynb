{
 "cells": [
  {
   "cell_type": "code",
   "execution_count": 1,
   "id": "a3a1df6a",
   "metadata": {},
   "outputs": [],
   "source": [
    "%load_ext autoreload"
   ]
  },
  {
   "cell_type": "code",
   "execution_count": 2,
   "id": "91c00fa2",
   "metadata": {},
   "outputs": [],
   "source": [
    "import os, sys\n",
    "import numpy as np\n",
    "import pandas as pd\n",
    "import matplotlib.pyplot as plt\n",
    "import seaborn as sns\n",
    "\n",
    "from sklearn.model_selection import train_test_split"
   ]
  },
  {
   "cell_type": "code",
   "execution_count": 3,
   "id": "5ad4f80c",
   "metadata": {},
   "outputs": [],
   "source": [
    "BASE_PATH = os.path.join(os.getcwd(), \"..\", \"..\")\n",
    "DATASET_PATH = os.path.join(BASE_PATH, \"datasets\")\n",
    "METRICS_PATH = os.path.join(BASE_PATH, \"metrics\")\n",
    "MODULES_PATH = os.path.join(BASE_PATH, \"modules\")"
   ]
  },
  {
   "cell_type": "code",
   "execution_count": 4,
   "id": "f15a648a",
   "metadata": {},
   "outputs": [],
   "source": [
    "sys.path.append(MODULES_PATH)"
   ]
  },
  {
   "cell_type": "code",
   "execution_count": 5,
   "id": "82d834e5",
   "metadata": {},
   "outputs": [],
   "source": [
    "from data import BenchmarkData, DataSetType\n",
    "from models import ygal_cnn, setup_growth"
   ]
  },
  {
   "cell_type": "code",
   "execution_count": 6,
   "id": "bbebb663",
   "metadata": {},
   "outputs": [],
   "source": [
    "mnist = BenchmarkData(DataSetType.MNIST, os.path.join(DATASET_PATH, \"mnist\"), dtype=np.float32)"
   ]
  },
  {
   "cell_type": "code",
   "execution_count": 7,
   "id": "340c211b",
   "metadata": {},
   "outputs": [],
   "source": [
    "x_train, x_test, y_train, y_test = train_test_split(mnist.inputs, mnist.targets)"
   ]
  },
  {
   "cell_type": "code",
   "execution_count": 8,
   "id": "c3d29c2f",
   "metadata": {},
   "outputs": [
    {
     "data": {
      "text/plain": [
       "array([0, 1, 2, 3, 4, 5, 6, 7, 8, 9], dtype=uint8)"
      ]
     },
     "execution_count": 8,
     "metadata": {},
     "output_type": "execute_result"
    }
   ],
   "source": [
    "unique_classes = np.unique(y_test)\n",
    "unique_classes"
   ]
  },
  {
   "cell_type": "code",
   "execution_count": 9,
   "id": "3113fa32",
   "metadata": {},
   "outputs": [
    {
     "name": "stdout",
     "output_type": "stream",
     "text": [
      "1 Physical GPU's,  1 Logical GPU's\n"
     ]
    }
   ],
   "source": [
    "setup_growth()"
   ]
  },
  {
   "cell_type": "code",
   "execution_count": 10,
   "id": "f66d0302",
   "metadata": {},
   "outputs": [],
   "source": [
    "%autoreload 2\n",
    "#base_model = ygal_cnn(2, output=len(unique_classes))"
   ]
  },
  {
   "cell_type": "code",
   "execution_count": 14,
   "id": "74838726",
   "metadata": {},
   "outputs": [],
   "source": [
    "%autoreload 2\n",
    "model = ygal_cnn(len(x_train), output=10)"
   ]
  },
  {
   "cell_type": "code",
   "execution_count": null,
   "id": "972da16f",
   "metadata": {},
   "outputs": [],
   "source": []
  },
  {
   "cell_type": "code",
   "execution_count": null,
   "id": "b21253bf",
   "metadata": {},
   "outputs": [],
   "source": []
  },
  {
   "cell_type": "code",
   "execution_count": null,
   "id": "5bfc5465",
   "metadata": {},
   "outputs": [],
   "source": []
  },
  {
   "cell_type": "code",
   "execution_count": null,
   "id": "b088654d",
   "metadata": {},
   "outputs": [],
   "source": []
  }
 ],
 "metadata": {
  "kernelspec": {
   "display_name": "Python 3",
   "language": "python",
   "name": "python3"
  },
  "language_info": {
   "codemirror_mode": {
    "name": "ipython",
    "version": 3
   },
   "file_extension": ".py",
   "mimetype": "text/x-python",
   "name": "python",
   "nbconvert_exporter": "python",
   "pygments_lexer": "ipython3",
   "version": "3.8.8"
  }
 },
 "nbformat": 4,
 "nbformat_minor": 5
}
