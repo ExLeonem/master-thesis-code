{
 "cells": [
  {
   "cell_type": "code",
   "execution_count": 12,
   "id": "90b4070e",
   "metadata": {},
   "outputs": [],
   "source": [
    "import os, sys\n",
    "import numpy as np\n",
    "import pandas as pd\n",
    "import matplotlib.pyplot as plt\n",
    "import seaborn as sns\n",
    "\n",
    "from sklearn.model_selection import train_test_split\n",
    "import tensorflow as tf"
   ]
  },
  {
   "cell_type": "code",
   "execution_count": 13,
   "id": "75faeb5c",
   "metadata": {},
   "outputs": [],
   "source": [
    "BASE_PATH = os.path.join(os.getcwd(), \"..\", \"..\")\n",
    "MODULES_PATH = os.path.join(BASE_PATH, \"modules\")\n",
    "DATASETS_PATH = os.path.join(BASE_PATH, \"datasets\")\n",
    "METRICS_PATH = os.path.join(BASE_PATH, \"metrics\")"
   ]
  },
  {
   "cell_type": "code",
   "execution_count": 14,
   "id": "ab2ff245",
   "metadata": {},
   "outputs": [],
   "source": [
    "sys.path.append(MODULES_PATH)"
   ]
  },
  {
   "cell_type": "code",
   "execution_count": 15,
   "id": "9f5118e6",
   "metadata": {},
   "outputs": [],
   "source": [
    "from data import BenchmarkData, DataSetType\n",
    "from models import fchollet_cnn, setup_growth\n",
    "from bayesian import McDropout"
   ]
  },
  {
   "cell_type": "code",
   "execution_count": 21,
   "id": "5b2197b3",
   "metadata": {},
   "outputs": [],
   "source": [
    "num_classes = 10\n",
    "mnist_path = os.path.join(DATASETS_PATH, \"mnist\")\n",
    "mnist = BenchmarkData(DataSetType.MNIST, mnist_path, dtype=float, classes=num_classes)"
   ]
  },
  {
   "cell_type": "code",
   "execution_count": 22,
   "id": "cf55144a",
   "metadata": {},
   "outputs": [],
   "source": [
    "x_train, x_test, y_train, y_test = train_test_split(mnist.inputs, mnist.targets, train_size=300)"
   ]
  },
  {
   "cell_type": "code",
   "execution_count": 25,
   "id": "c17532c3",
   "metadata": {},
   "outputs": [
    {
     "name": "stdout",
     "output_type": "stream",
     "text": [
      "1 Physical GPU's,  1 Logical GPU's\n"
     ]
    }
   ],
   "source": [
    "setup_growth()"
   ]
  },
  {
   "cell_type": "code",
   "execution_count": 29,
   "id": "f5c7f9b0",
   "metadata": {},
   "outputs": [
    {
     "name": "stdout",
     "output_type": "stream",
     "text": [
      "Epoch 1/100\n",
      "3/3 [==============================] - 0s 5ms/step - loss: 86.5827 - sparse_categorical_accuracy: 0.1433\n",
      "Epoch 2/100\n",
      "3/3 [==============================] - 0s 5ms/step - loss: 141.8174 - sparse_categorical_accuracy: 0.1200\n",
      "Epoch 3/100\n",
      "3/3 [==============================] - 0s 5ms/step - loss: 4.5095 - sparse_categorical_accuracy: 0.1300\n",
      "Epoch 4/100\n",
      "3/3 [==============================] - 0s 5ms/step - loss: 2.2993 - sparse_categorical_accuracy: 0.1167\n",
      "Epoch 5/100\n",
      "3/3 [==============================] - 0s 5ms/step - loss: 2.2827 - sparse_categorical_accuracy: 0.0833\n",
      "Epoch 6/100\n",
      "3/3 [==============================] - 0s 5ms/step - loss: 2.2786 - sparse_categorical_accuracy: 0.1133\n",
      "Epoch 7/100\n",
      "3/3 [==============================] - 0s 4ms/step - loss: 2.2701 - sparse_categorical_accuracy: 0.1567\n",
      "Epoch 8/100\n",
      "3/3 [==============================] - 0s 5ms/step - loss: 2.2572 - sparse_categorical_accuracy: 0.1333\n",
      "Epoch 9/100\n",
      "3/3 [==============================] - 0s 5ms/step - loss: 2.2311 - sparse_categorical_accuracy: 0.1967\n",
      "Epoch 10/100\n",
      "3/3 [==============================] - 0s 5ms/step - loss: 2.2239 - sparse_categorical_accuracy: 0.1567\n",
      "Epoch 11/100\n",
      "3/3 [==============================] - 0s 5ms/step - loss: 2.1976 - sparse_categorical_accuracy: 0.1700\n",
      "Epoch 12/100\n",
      "3/3 [==============================] - 0s 5ms/step - loss: 2.1542 - sparse_categorical_accuracy: 0.1667\n",
      "Epoch 13/100\n",
      "3/3 [==============================] - 0s 5ms/step - loss: 2.0923 - sparse_categorical_accuracy: 0.2233\n",
      "Epoch 14/100\n",
      "3/3 [==============================] - 0s 4ms/step - loss: 2.0325 - sparse_categorical_accuracy: 0.2133\n",
      "Epoch 15/100\n",
      "3/3 [==============================] - 0s 4ms/step - loss: 1.9610 - sparse_categorical_accuracy: 0.2400\n",
      "Epoch 16/100\n",
      "3/3 [==============================] - 0s 4ms/step - loss: 1.9395 - sparse_categorical_accuracy: 0.2633\n",
      "Epoch 17/100\n",
      "3/3 [==============================] - 0s 4ms/step - loss: 1.8831 - sparse_categorical_accuracy: 0.2967\n",
      "Epoch 18/100\n",
      "3/3 [==============================] - 0s 4ms/step - loss: 1.7714 - sparse_categorical_accuracy: 0.3533\n",
      "Epoch 19/100\n",
      "3/3 [==============================] - 0s 4ms/step - loss: 1.7767 - sparse_categorical_accuracy: 0.3467\n",
      "Epoch 20/100\n",
      "3/3 [==============================] - 0s 4ms/step - loss: 1.6496 - sparse_categorical_accuracy: 0.3900\n",
      "Epoch 21/100\n",
      "3/3 [==============================] - 0s 4ms/step - loss: 1.5455 - sparse_categorical_accuracy: 0.4533\n",
      "Epoch 22/100\n",
      "3/3 [==============================] - 0s 4ms/step - loss: 1.4510 - sparse_categorical_accuracy: 0.5233\n",
      "Epoch 23/100\n",
      "3/3 [==============================] - 0s 4ms/step - loss: 1.4322 - sparse_categorical_accuracy: 0.4800\n",
      "Epoch 24/100\n",
      "3/3 [==============================] - 0s 4ms/step - loss: 1.3148 - sparse_categorical_accuracy: 0.5467\n",
      "Epoch 25/100\n",
      "3/3 [==============================] - 0s 4ms/step - loss: 1.3251 - sparse_categorical_accuracy: 0.5433\n",
      "Epoch 26/100\n",
      "3/3 [==============================] - 0s 4ms/step - loss: 1.3569 - sparse_categorical_accuracy: 0.5333\n",
      "Epoch 27/100\n",
      "3/3 [==============================] - 0s 4ms/step - loss: 1.2225 - sparse_categorical_accuracy: 0.5467\n",
      "Epoch 28/100\n",
      "3/3 [==============================] - 0s 4ms/step - loss: 1.3026 - sparse_categorical_accuracy: 0.5033\n",
      "Epoch 29/100\n",
      "3/3 [==============================] - 0s 5ms/step - loss: 1.1461 - sparse_categorical_accuracy: 0.5667\n",
      "Epoch 30/100\n",
      "3/3 [==============================] - 0s 4ms/step - loss: 1.0383 - sparse_categorical_accuracy: 0.6300\n",
      "Epoch 31/100\n",
      "3/3 [==============================] - 0s 4ms/step - loss: 1.0321 - sparse_categorical_accuracy: 0.6267\n",
      "Epoch 32/100\n",
      "3/3 [==============================] - 0s 4ms/step - loss: 1.0152 - sparse_categorical_accuracy: 0.6067\n",
      "Epoch 33/100\n",
      "3/3 [==============================] - 0s 4ms/step - loss: 1.1257 - sparse_categorical_accuracy: 0.5967\n",
      "Epoch 34/100\n",
      "3/3 [==============================] - 0s 4ms/step - loss: 0.9703 - sparse_categorical_accuracy: 0.6433\n",
      "Epoch 35/100\n",
      "3/3 [==============================] - 0s 4ms/step - loss: 0.9986 - sparse_categorical_accuracy: 0.6233\n",
      "Epoch 36/100\n",
      "3/3 [==============================] - 0s 4ms/step - loss: 0.9915 - sparse_categorical_accuracy: 0.6500\n",
      "Epoch 37/100\n",
      "3/3 [==============================] - 0s 4ms/step - loss: 0.9792 - sparse_categorical_accuracy: 0.6467\n",
      "Epoch 38/100\n",
      "3/3 [==============================] - 0s 4ms/step - loss: 0.8658 - sparse_categorical_accuracy: 0.6967\n",
      "Epoch 39/100\n",
      "3/3 [==============================] - 0s 4ms/step - loss: 0.9366 - sparse_categorical_accuracy: 0.6967\n",
      "Epoch 40/100\n",
      "3/3 [==============================] - 0s 3ms/step - loss: 0.8487 - sparse_categorical_accuracy: 0.6867\n",
      "Epoch 41/100\n",
      "3/3 [==============================] - 0s 4ms/step - loss: 0.8218 - sparse_categorical_accuracy: 0.7000\n",
      "Epoch 42/100\n",
      "3/3 [==============================] - 0s 5ms/step - loss: 1.1759 - sparse_categorical_accuracy: 0.6033\n",
      "Epoch 43/100\n",
      "3/3 [==============================] - 0s 4ms/step - loss: 1.0396 - sparse_categorical_accuracy: 0.6233\n",
      "Epoch 44/100\n",
      "3/3 [==============================] - 0s 4ms/step - loss: 0.9393 - sparse_categorical_accuracy: 0.6800\n",
      "Epoch 45/100\n",
      "3/3 [==============================] - 0s 4ms/step - loss: 0.9597 - sparse_categorical_accuracy: 0.6767\n",
      "Epoch 46/100\n",
      "3/3 [==============================] - 0s 4ms/step - loss: 0.8232 - sparse_categorical_accuracy: 0.7233\n",
      "Epoch 47/100\n",
      "3/3 [==============================] - 0s 4ms/step - loss: 0.8239 - sparse_categorical_accuracy: 0.6867\n",
      "Epoch 48/100\n",
      "3/3 [==============================] - 0s 4ms/step - loss: 0.8414 - sparse_categorical_accuracy: 0.6800\n",
      "Epoch 49/100\n",
      "3/3 [==============================] - 0s 4ms/step - loss: 0.7355 - sparse_categorical_accuracy: 0.7333\n",
      "Epoch 50/100\n",
      "3/3 [==============================] - 0s 4ms/step - loss: 0.8011 - sparse_categorical_accuracy: 0.7067\n",
      "Epoch 51/100\n",
      "3/3 [==============================] - 0s 4ms/step - loss: 0.7146 - sparse_categorical_accuracy: 0.7367\n",
      "Epoch 52/100\n",
      "3/3 [==============================] - 0s 4ms/step - loss: 0.7263 - sparse_categorical_accuracy: 0.7433\n",
      "Epoch 53/100\n",
      "3/3 [==============================] - 0s 4ms/step - loss: 0.6536 - sparse_categorical_accuracy: 0.7533\n",
      "Epoch 54/100\n",
      "3/3 [==============================] - 0s 4ms/step - loss: 0.6686 - sparse_categorical_accuracy: 0.7433\n",
      "Epoch 55/100\n",
      "3/3 [==============================] - 0s 3ms/step - loss: 0.6385 - sparse_categorical_accuracy: 0.7600\n",
      "Epoch 56/100\n",
      "3/3 [==============================] - 0s 3ms/step - loss: 0.6389 - sparse_categorical_accuracy: 0.7433\n",
      "Epoch 57/100\n",
      "3/3 [==============================] - 0s 4ms/step - loss: 0.6101 - sparse_categorical_accuracy: 0.7533\n",
      "Epoch 58/100\n",
      "3/3 [==============================] - 0s 4ms/step - loss: 0.6339 - sparse_categorical_accuracy: 0.7433\n",
      "Epoch 59/100\n",
      "3/3 [==============================] - 0s 4ms/step - loss: 0.6719 - sparse_categorical_accuracy: 0.7400\n",
      "Epoch 60/100\n",
      "3/3 [==============================] - 0s 4ms/step - loss: 0.6072 - sparse_categorical_accuracy: 0.7567\n",
      "Epoch 61/100\n",
      "3/3 [==============================] - 0s 4ms/step - loss: 0.6272 - sparse_categorical_accuracy: 0.7700\n",
      "Epoch 62/100\n",
      "3/3 [==============================] - 0s 4ms/step - loss: 0.6093 - sparse_categorical_accuracy: 0.7967\n",
      "Epoch 63/100\n",
      "3/3 [==============================] - 0s 4ms/step - loss: 0.5552 - sparse_categorical_accuracy: 0.7933\n",
      "Epoch 64/100\n",
      "3/3 [==============================] - 0s 4ms/step - loss: 0.4944 - sparse_categorical_accuracy: 0.8433\n",
      "Epoch 65/100\n",
      "3/3 [==============================] - 0s 4ms/step - loss: 0.5091 - sparse_categorical_accuracy: 0.7800\n",
      "Epoch 66/100\n",
      "3/3 [==============================] - 0s 4ms/step - loss: 0.4842 - sparse_categorical_accuracy: 0.8200\n",
      "Epoch 67/100\n",
      "3/3 [==============================] - 0s 6ms/step - loss: 0.5722 - sparse_categorical_accuracy: 0.7700\n",
      "Epoch 68/100\n",
      "3/3 [==============================] - 0s 4ms/step - loss: 0.5773 - sparse_categorical_accuracy: 0.8033\n",
      "Epoch 69/100\n",
      "3/3 [==============================] - 0s 4ms/step - loss: 0.5285 - sparse_categorical_accuracy: 0.8067\n",
      "Epoch 70/100\n",
      "3/3 [==============================] - 0s 4ms/step - loss: 0.5411 - sparse_categorical_accuracy: 0.7800\n",
      "Epoch 71/100\n"
     ]
    },
    {
     "name": "stdout",
     "output_type": "stream",
     "text": [
      "3/3 [==============================] - 0s 4ms/step - loss: 0.5102 - sparse_categorical_accuracy: 0.7967\n",
      "Epoch 72/100\n",
      "3/3 [==============================] - 0s 4ms/step - loss: 0.5750 - sparse_categorical_accuracy: 0.7967\n",
      "Epoch 73/100\n",
      "3/3 [==============================] - 0s 4ms/step - loss: 0.4954 - sparse_categorical_accuracy: 0.8033\n",
      "Epoch 74/100\n",
      "3/3 [==============================] - 0s 4ms/step - loss: 0.3959 - sparse_categorical_accuracy: 0.8533\n",
      "Epoch 75/100\n",
      "3/3 [==============================] - 0s 4ms/step - loss: 0.4260 - sparse_categorical_accuracy: 0.8333\n",
      "Epoch 76/100\n",
      "3/3 [==============================] - 0s 4ms/step - loss: 0.4485 - sparse_categorical_accuracy: 0.8300\n",
      "Epoch 77/100\n",
      "3/3 [==============================] - 0s 4ms/step - loss: 0.5208 - sparse_categorical_accuracy: 0.7967\n",
      "Epoch 78/100\n",
      "3/3 [==============================] - 0s 4ms/step - loss: 0.4306 - sparse_categorical_accuracy: 0.8467\n",
      "Epoch 79/100\n",
      "3/3 [==============================] - 0s 4ms/step - loss: 0.5103 - sparse_categorical_accuracy: 0.8100\n",
      "Epoch 80/100\n",
      "3/3 [==============================] - 0s 4ms/step - loss: 0.4505 - sparse_categorical_accuracy: 0.8367\n",
      "Epoch 81/100\n",
      "3/3 [==============================] - 0s 4ms/step - loss: 0.3865 - sparse_categorical_accuracy: 0.8567\n",
      "Epoch 82/100\n",
      "3/3 [==============================] - 0s 4ms/step - loss: 0.4104 - sparse_categorical_accuracy: 0.8300\n",
      "Epoch 83/100\n",
      "3/3 [==============================] - 0s 4ms/step - loss: 0.4211 - sparse_categorical_accuracy: 0.8267\n",
      "Epoch 84/100\n",
      "3/3 [==============================] - 0s 4ms/step - loss: 0.3501 - sparse_categorical_accuracy: 0.8667\n",
      "Epoch 85/100\n",
      "3/3 [==============================] - 0s 4ms/step - loss: 0.4018 - sparse_categorical_accuracy: 0.8400\n",
      "Epoch 86/100\n",
      "3/3 [==============================] - 0s 4ms/step - loss: 0.3885 - sparse_categorical_accuracy: 0.8600\n",
      "Epoch 87/100\n",
      "3/3 [==============================] - 0s 9ms/step - loss: 0.3836 - sparse_categorical_accuracy: 0.8333\n",
      "Epoch 88/100\n",
      "3/3 [==============================] - 0s 5ms/step - loss: 0.4205 - sparse_categorical_accuracy: 0.8667\n",
      "Epoch 89/100\n",
      "3/3 [==============================] - 0s 5ms/step - loss: 0.3424 - sparse_categorical_accuracy: 0.8733\n",
      "Epoch 90/100\n",
      "3/3 [==============================] - 0s 5ms/step - loss: 0.3917 - sparse_categorical_accuracy: 0.8300\n",
      "Epoch 91/100\n",
      "3/3 [==============================] - 0s 5ms/step - loss: 0.3621 - sparse_categorical_accuracy: 0.8500\n",
      "Epoch 92/100\n",
      "3/3 [==============================] - 0s 4ms/step - loss: 0.3947 - sparse_categorical_accuracy: 0.8533\n",
      "Epoch 93/100\n",
      "3/3 [==============================] - 0s 4ms/step - loss: 0.3202 - sparse_categorical_accuracy: 0.8967\n",
      "Epoch 94/100\n",
      "3/3 [==============================] - 0s 4ms/step - loss: 0.3338 - sparse_categorical_accuracy: 0.8833\n",
      "Epoch 95/100\n",
      "3/3 [==============================] - 0s 4ms/step - loss: 0.3709 - sparse_categorical_accuracy: 0.8333\n",
      "Epoch 96/100\n",
      "3/3 [==============================] - 0s 4ms/step - loss: 0.3969 - sparse_categorical_accuracy: 0.8300\n",
      "Epoch 97/100\n",
      "3/3 [==============================] - 0s 4ms/step - loss: 0.3723 - sparse_categorical_accuracy: 0.8433\n",
      "Epoch 98/100\n",
      "3/3 [==============================] - 0s 4ms/step - loss: 0.4072 - sparse_categorical_accuracy: 0.8667\n",
      "Epoch 99/100\n",
      "3/3 [==============================] - 0s 4ms/step - loss: 0.3637 - sparse_categorical_accuracy: 0.8533\n",
      "Epoch 100/100\n",
      "3/3 [==============================] - 0s 3ms/step - loss: 0.3058 - sparse_categorical_accuracy: 0.8933\n"
     ]
    },
    {
     "data": {
      "text/plain": [
       "<tensorflow.python.keras.callbacks.History at 0x7fa5c7f68ee0>"
      ]
     },
     "execution_count": 29,
     "metadata": {},
     "output_type": "execute_result"
    }
   ],
   "source": [
    "model = fchollet_cnn(output=num_classes)\n",
    "model.compile(optimizer=\"sgd\", loss=\"sparse_categorical_crossentropy\", metrics=[\"sparse_categorical_accuracy\"])\n",
    "model.fit(x_train, y_train, epochs=100, batch_size=100)"
   ]
  },
  {
   "cell_type": "code",
   "execution_count": 30,
   "id": "c2ba04de",
   "metadata": {},
   "outputs": [
    {
     "name": "stdout",
     "output_type": "stream",
     "text": [
      "2179/2179 [==============================] - 5s 2ms/step - loss: 0.8126 - sparse_categorical_accuracy: 0.7978\n"
     ]
    },
    {
     "data": {
      "text/plain": [
       "[0.8125511407852173, 0.797761857509613]"
      ]
     },
     "execution_count": 30,
     "metadata": {},
     "output_type": "execute_result"
    }
   ],
   "source": [
    "model.evaluate(x_test, y_test)"
   ]
  },
  {
   "cell_type": "code",
   "execution_count": null,
   "id": "147176fc",
   "metadata": {},
   "outputs": [],
   "source": []
  },
  {
   "cell_type": "code",
   "execution_count": null,
   "id": "a89e0802",
   "metadata": {},
   "outputs": [],
   "source": []
  },
  {
   "cell_type": "code",
   "execution_count": null,
   "id": "13d6b7eb",
   "metadata": {},
   "outputs": [],
   "source": []
  },
  {
   "cell_type": "code",
   "execution_count": null,
   "id": "a6e693bf",
   "metadata": {},
   "outputs": [],
   "source": []
  },
  {
   "cell_type": "code",
   "execution_count": null,
   "id": "71049e79",
   "metadata": {},
   "outputs": [],
   "source": []
  }
 ],
 "metadata": {
  "kernelspec": {
   "display_name": "Python 3",
   "language": "python",
   "name": "python3"
  },
  "language_info": {
   "codemirror_mode": {
    "name": "ipython",
    "version": 3
   },
   "file_extension": ".py",
   "mimetype": "text/x-python",
   "name": "python",
   "nbconvert_exporter": "python",
   "pygments_lexer": "ipython3",
   "version": "3.8.8"
  }
 },
 "nbformat": 4,
 "nbformat_minor": 5
}
