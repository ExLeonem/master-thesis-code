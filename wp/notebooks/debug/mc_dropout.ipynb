{
 "cells": [
  {
   "cell_type": "code",
   "execution_count": 1,
   "id": "51e8ab31",
   "metadata": {},
   "outputs": [],
   "source": [
    "%load_ext autoreload"
   ]
  },
  {
   "cell_type": "code",
   "execution_count": 16,
   "id": "9946b897",
   "metadata": {},
   "outputs": [],
   "source": [
    "import os, sys\n",
    "import numpy as np\n",
    "import pandas as pd\n",
    "import matplotlib.pyplot as plt\n",
    "import seaborn as sns\n",
    "from sklearn.model_selection import train_test_split"
   ]
  },
  {
   "cell_type": "code",
   "execution_count": 4,
   "id": "40b4b584",
   "metadata": {},
   "outputs": [],
   "source": [
    "BASE_PATH = os.path.join(os.getcwd(), \"..\", \"..\")\n",
    "MODULE_PATH = os.path.join(BASE_PATH, \"modules\")\n",
    "DATASET_PATH = os.path.join(BASE_PATH, \"datasets\")"
   ]
  },
  {
   "cell_type": "code",
   "execution_count": 5,
   "id": "dd165885",
   "metadata": {},
   "outputs": [],
   "source": [
    "sys.path.append(MODULE_PATH)"
   ]
  },
  {
   "cell_type": "code",
   "execution_count": 49,
   "id": "b2daf1f7",
   "metadata": {},
   "outputs": [],
   "source": [
    "from data import BenchmarkData, DataSetType\n",
    "from bayesian import McDropout\n",
    "from models import ygal_cnn, fchollet_cnn, setup_growth\n",
    "from active_learning import AcquisitionFunction"
   ]
  },
  {
   "cell_type": "code",
   "execution_count": 24,
   "id": "74a9add9",
   "metadata": {},
   "outputs": [],
   "source": [
    "mnist_path = os.path.join(DATASET_PATH, \"mnist\")\n",
    "num_classes = 10\n",
    "mnist = BenchmarkData(DataSetType.MNIST, mnist_path, dtype=float, classes=num_classes)"
   ]
  },
  {
   "cell_type": "code",
   "execution_count": 25,
   "id": "46d0ae92",
   "metadata": {},
   "outputs": [],
   "source": [
    "x_train, x_test, y_train, y_test = train_test_split(mnist.inputs, mnist.targets)"
   ]
  },
  {
   "cell_type": "code",
   "execution_count": 26,
   "id": "53245de4",
   "metadata": {},
   "outputs": [
    {
     "name": "stdout",
     "output_type": "stream",
     "text": [
      "1 Physical GPU's,  1 Logical GPU's\n"
     ]
    }
   ],
   "source": [
    "setup_growth()"
   ]
  },
  {
   "cell_type": "code",
   "execution_count": 33,
   "id": "a42ea01b",
   "metadata": {},
   "outputs": [],
   "source": [
    "model = McDropout(fchollet_cnn(output=num_classes))\n",
    "model.compile(loss=\"sparse_categorical_crossentropy\", optimizer=\"adam\")"
   ]
  },
  {
   "cell_type": "code",
   "execution_count": 34,
   "id": "ebcfea74",
   "metadata": {},
   "outputs": [
    {
     "name": "stdout",
     "output_type": "stream",
     "text": [
      "1641/1641 [==============================] - 5s 3ms/step - loss: 0.4667\n"
     ]
    },
    {
     "data": {
      "text/plain": [
       "<tensorflow.python.keras.callbacks.History at 0x7f70fe2d64f0>"
      ]
     },
     "execution_count": 34,
     "metadata": {},
     "output_type": "execute_result"
    }
   ],
   "source": [
    "model.fit(x_train, y_train)"
   ]
  },
  {
   "cell_type": "code",
   "execution_count": 36,
   "id": "912a663a",
   "metadata": {},
   "outputs": [
    {
     "data": {
      "text/plain": [
       "{'loss': 0.17565235, 'accuracy': 0.9504}"
      ]
     },
     "execution_count": 36,
     "metadata": {},
     "output_type": "execute_result"
    }
   ],
   "source": [
    "model.evaluate(x_test, y_test, sample_size=1, batch_size=900)"
   ]
  },
  {
   "cell_type": "code",
   "execution_count": 39,
   "id": "7b76dcba",
   "metadata": {},
   "outputs": [
    {
     "data": {
      "text/plain": [
       "{'loss': 0.09830082, 'accuracy': 0.9503868571428571}"
      ]
     },
     "execution_count": 39,
     "metadata": {},
     "output_type": "execute_result"
    }
   ],
   "source": [
    "model.evaluate(x_test, y_test, sample_size=100, batch_size=900)"
   ]
  },
  {
   "cell_type": "code",
   "execution_count": 98,
   "id": "b7c8312f",
   "metadata": {},
   "outputs": [],
   "source": [
    "result = model(x_test[:10], sample_size=100)"
   ]
  },
  {
   "cell_type": "code",
   "execution_count": 196,
   "id": "53325c9b",
   "metadata": {},
   "outputs": [
    {
     "name": "stdout",
     "output_type": "stream",
     "text": [
      "Epoch 1/5\n",
      "1/1 [==============================] - 0s 951us/step - loss: 51.6130 - accuracy: 0.1000\n",
      "Epoch 2/5\n",
      "1/1 [==============================] - 0s 652us/step - loss: 52.5133 - accuracy: 0.2000\n",
      "Epoch 3/5\n",
      "1/1 [==============================] - 0s 1ms/step - loss: 23.5123 - accuracy: 0.2000\n",
      "Epoch 4/5\n",
      "1/1 [==============================] - 0s 854us/step - loss: 42.2076 - accuracy: 0.5000\n",
      "Epoch 5/5\n",
      "1/1 [==============================] - 0s 999us/step - loss: 13.8342 - accuracy: 0.6000\n"
     ]
    },
    {
     "data": {
      "text/plain": [
       "<tensorflow.python.keras.callbacks.History at 0x7f70e473b640>"
      ]
     },
     "execution_count": 196,
     "metadata": {},
     "output_type": "execute_result"
    }
   ],
   "source": [
    "o_model = fchollet_cnn(output=num_classes)\n",
    "o_model.compile(loss=\"sparse_categorical_crossentropy\", optimizer=\"adam\", metrics=[\"accuracy\"])\n",
    "o_model.fit(x_test[:10], y_test[:10], epochs=5, batch_size=10)"
   ]
  },
  {
   "cell_type": "code",
   "execution_count": 197,
   "id": "9325a962",
   "metadata": {},
   "outputs": [],
   "source": [
    "def predict(data, model, num_predictions):\n",
    "    \n",
    "    predictions = []\n",
    "    \n",
    "    for n in range(num_predictions):\n",
    "        output = model(data, training=True)\n",
    "        predictions.append(output)\n",
    "        \n",
    "    return np.stack(predictions, axis=1)"
   ]
  },
  {
   "cell_type": "code",
   "execution_count": 314,
   "id": "e96773b5",
   "metadata": {},
   "outputs": [],
   "source": [
    "num_samples = 100\n",
    "outputs = predict(x_test[10:20], o_model, num_samples)"
   ]
  },
  {
   "cell_type": "code",
   "execution_count": 315,
   "id": "45a49fad",
   "metadata": {},
   "outputs": [],
   "source": [
    "classes = list(range(num_classes))*num_samples"
   ]
  },
  {
   "cell_type": "code",
   "execution_count": 319,
   "id": "1d0876de",
   "metadata": {},
   "outputs": [
    {
     "data": {
      "text/plain": [
       "<AxesSubplot:xlabel='labels', ylabel='prediction'>"
      ]
     },
     "execution_count": 319,
     "metadata": {},
     "output_type": "execute_result"
    },
    {
     "data": {
      "image/png": "[encoded data removed]",
      "text/plain": [
       "<Figure size 432x288 with 1 Axes>"
      ]
     },
     "metadata": {
      "needs_background": "light"
     },
     "output_type": "display_data"
    }
   ],
   "source": [
    "df = pd.DataFrame({\n",
    "    \"prediction\": outputs[1].flatten(),\n",
    "    \"labels\": classes\n",
    "})\n",
    "sns.stripplot(data=df, y=\"prediction\", x=\"labels\", alpha=.25)"
   ]
  },
  {
   "cell_type": "code",
   "execution_count": 323,
   "id": "76a90046",
   "metadata": {},
   "outputs": [
    {
     "data": {
      "text/plain": [
       "array([2, 2, 0, 2, 2, 2, 8, 2, 2, 6])"
      ]
     },
     "execution_count": 323,
     "metadata": {},
     "output_type": "execute_result"
    }
   ],
   "source": [
    "pred = np.argmax(np.mean(outputs, axis=1), axis=1)\n",
    "pred"
   ]
  },
  {
   "cell_type": "code",
   "execution_count": 324,
   "id": "7aab3bab",
   "metadata": {},
   "outputs": [
    {
     "data": {
      "text/plain": [
       "array([1, 5, 5, 9, 3, 2, 1, 2, 2, 6], dtype=uint8)"
      ]
     },
     "execution_count": 324,
     "metadata": {},
     "output_type": "execute_result"
    }
   ],
   "source": [
    "y_test[10:20]"
   ]
  },
  {
   "cell_type": "code",
   "execution_count": 325,
   "id": "c0fa0eaa",
   "metadata": {},
   "outputs": [
    {
     "data": {
      "text/plain": [
       "0.4"
      ]
     },
     "execution_count": 325,
     "metadata": {},
     "output_type": "execute_result"
    }
   ],
   "source": [
    "np.mean(pred == y_test[10:20])"
   ]
  },
  {
   "cell_type": "code",
   "execution_count": 332,
   "id": "42f460d4",
   "metadata": {},
   "outputs": [
    {
     "name": "stdout",
     "output_type": "stream",
     "text": [
      "Epoch 1/50\n",
      "1/1 [==============================] - 0s 1ms/step - loss: 26.1159 - accuracy: 0.4000\n",
      "Epoch 2/50\n",
      "1/1 [==============================] - 0s 1ms/step - loss: 21.5079 - accuracy: 0.5000\n",
      "Epoch 3/50\n",
      "1/1 [==============================] - 0s 1ms/step - loss: 30.7761 - accuracy: 0.6000\n",
      "Epoch 4/50\n",
      "1/1 [==============================] - 0s 1ms/step - loss: 10.0781 - accuracy: 0.7000\n",
      "Epoch 5/50\n",
      "1/1 [==============================] - 0s 1ms/step - loss: 3.5514 - accuracy: 0.8000\n",
      "Epoch 6/50\n",
      "1/1 [==============================] - 0s 1ms/step - loss: 4.4494 - accuracy: 0.8000\n",
      "Epoch 7/50\n",
      "1/1 [==============================] - 0s 1ms/step - loss: 0.6508 - accuracy: 0.9000\n",
      "Epoch 8/50\n",
      "1/1 [==============================] - 0s 916us/step - loss: 0.0014 - accuracy: 1.0000\n",
      "Epoch 9/50\n",
      "1/1 [==============================] - 0s 977us/step - loss: 0.0569 - accuracy: 1.0000\n",
      "Epoch 10/50\n",
      "1/1 [==============================] - 0s 1ms/step - loss: 2.0016 - accuracy: 0.9000\n",
      "Epoch 11/50\n",
      "1/1 [==============================] - 0s 1ms/step - loss: 2.8610e-07 - accuracy: 1.0000\n",
      "Epoch 12/50\n",
      "1/1 [==============================] - 0s 789us/step - loss: 0.1694 - accuracy: 0.9000\n",
      "Epoch 13/50\n",
      "1/1 [==============================] - 0s 980us/step - loss: 4.0769e-06 - accuracy: 1.0000\n",
      "Epoch 14/50\n",
      "1/1 [==============================] - 0s 721us/step - loss: 0.8890 - accuracy: 0.9000\n",
      "Epoch 15/50\n",
      "1/1 [==============================] - 0s 819us/step - loss: 1.2382 - accuracy: 0.9000\n",
      "Epoch 16/50\n",
      "1/1 [==============================] - 0s 1ms/step - loss: 0.0464 - accuracy: 1.0000\n",
      "Epoch 17/50\n",
      "1/1 [==============================] - 0s 988us/step - loss: 0.6197 - accuracy: 0.8000\n",
      "Epoch 18/50\n",
      "1/1 [==============================] - 0s 734us/step - loss: 7.0767e-05 - accuracy: 1.0000\n",
      "Epoch 19/50\n",
      "1/1 [==============================] - 0s 915us/step - loss: 3.8742e-06 - accuracy: 1.0000\n",
      "Epoch 20/50\n",
      "1/1 [==============================] - 0s 674us/step - loss: 0.1908 - accuracy: 0.9000\n",
      "Epoch 21/50\n",
      "1/1 [==============================] - 0s 1ms/step - loss: 4.8089e-05 - accuracy: 1.0000\n",
      "Epoch 22/50\n",
      "1/1 [==============================] - 0s 856us/step - loss: 0.5258 - accuracy: 0.9000\n",
      "Epoch 23/50\n",
      "1/1 [==============================] - 0s 923us/step - loss: 7.1516e-04 - accuracy: 1.0000\n",
      "Epoch 24/50\n",
      "1/1 [==============================] - 0s 805us/step - loss: 0.7305 - accuracy: 0.9000\n",
      "Epoch 25/50\n",
      "1/1 [==============================] - 0s 815us/step - loss: 0.7890 - accuracy: 0.9000\n",
      "Epoch 26/50\n",
      "1/1 [==============================] - 0s 1ms/step - loss: 8.5350e-06 - accuracy: 1.0000\n",
      "Epoch 27/50\n",
      "1/1 [==============================] - 0s 654us/step - loss: 3.4213e-06 - accuracy: 1.0000\n",
      "Epoch 28/50\n",
      "1/1 [==============================] - 0s 630us/step - loss: 0.8577 - accuracy: 0.9000\n",
      "Epoch 29/50\n",
      "1/1 [==============================] - 0s 868us/step - loss: 5.9605e-08 - accuracy: 1.0000\n",
      "Epoch 30/50\n",
      "1/1 [==============================] - 0s 1ms/step - loss: 2.7784e-05 - accuracy: 1.0000\n",
      "Epoch 31/50\n",
      "1/1 [==============================] - 0s 870us/step - loss: 1.4176e-04 - accuracy: 1.0000\n",
      "Epoch 32/50\n",
      "1/1 [==============================] - 0s 1ms/step - loss: 0.8458 - accuracy: 0.9000\n",
      "Epoch 33/50\n",
      "1/1 [==============================] - 0s 659us/step - loss: 1.3113e-07 - accuracy: 1.0000\n",
      "Epoch 34/50\n",
      "1/1 [==============================] - 0s 1ms/step - loss: 4.0761e-05 - accuracy: 1.0000\n",
      "Epoch 35/50\n",
      "1/1 [==============================] - 0s 1ms/step - loss: 5.7100e-06 - accuracy: 1.0000\n",
      "Epoch 36/50\n",
      "1/1 [==============================] - 0s 792us/step - loss: 4.7684e-08 - accuracy: 1.0000\n",
      "Epoch 37/50\n",
      "1/1 [==============================] - 0s 818us/step - loss: 0.0013 - accuracy: 1.0000\n",
      "Epoch 38/50\n",
      "1/1 [==============================] - 0s 549us/step - loss: 0.5662 - accuracy: 0.9000\n",
      "Epoch 39/50\n",
      "1/1 [==============================] - 0s 873us/step - loss: 5.5595e-04 - accuracy: 1.0000\n",
      "Epoch 40/50\n",
      "1/1 [==============================] - 0s 913us/step - loss: 0.0077 - accuracy: 1.0000\n",
      "Epoch 41/50\n",
      "1/1 [==============================] - 0s 1ms/step - loss: 0.0045 - accuracy: 1.0000\n",
      "Epoch 42/50\n",
      "1/1 [==============================] - 0s 1ms/step - loss: 0.0039 - accuracy: 1.0000\n",
      "Epoch 43/50\n",
      "1/1 [==============================] - 0s 1ms/step - loss: 1.5497e-07 - accuracy: 1.0000\n",
      "Epoch 44/50\n",
      "1/1 [==============================] - 0s 1ms/step - loss: 2.0504e-06 - accuracy: 1.0000\n",
      "Epoch 45/50\n",
      "1/1 [==============================] - 0s 894us/step - loss: 0.3363 - accuracy: 0.9000\n",
      "Epoch 46/50\n",
      "1/1 [==============================] - 0s 2ms/step - loss: 0.0087 - accuracy: 1.0000\n",
      "Epoch 47/50\n",
      "1/1 [==============================] - 0s 1ms/step - loss: 0.0000e+00 - accuracy: 1.0000\n",
      "Epoch 48/50\n",
      "1/1 [==============================] - 0s 2ms/step - loss: 2.9928e-04 - accuracy: 1.0000\n",
      "Epoch 49/50\n",
      "1/1 [==============================] - 0s 813us/step - loss: 0.0000e+00 - accuracy: 1.0000\n",
      "Epoch 50/50\n",
      "1/1 [==============================] - 0s 759us/step - loss: 0.0713 - accuracy: 0.9000\n"
     ]
    },
    {
     "data": {
      "text/plain": [
       "<tensorflow.python.keras.callbacks.History at 0x7f70df35e0a0>"
      ]
     },
     "execution_count": 332,
     "metadata": {},
     "output_type": "execute_result"
    }
   ],
   "source": [
    "o_model.fit(x_test[:10], y_test[:10], epochs=50, batch_size=10)"
   ]
  },
  {
   "cell_type": "code",
   "execution_count": 356,
   "id": "a323f6cc",
   "metadata": {},
   "outputs": [
    {
     "data": {
      "text/plain": [
       "<AxesSubplot:xlabel='labels', ylabel='prediction'>"
      ]
     },
     "execution_count": 356,
     "metadata": {},
     "output_type": "execute_result"
    },
    {
     "data": {
      "image/png": "[encoded data removed]",
      "text/plain": [
       "<Figure size 432x288 with 1 Axes>"
      ]
     },
     "metadata": {
      "needs_background": "light"
     },
     "output_type": "display_data"
    }
   ],
   "source": [
    "outputs = predict(x_test[10:20], o_model, num_samples)\n",
    "classes = list(range(num_classes))*num_samples\n",
    "df = pd.DataFrame({\n",
    "    \"prediction\": outputs[1].flatten(),\n",
    "    \"labels\": classes\n",
    "})\n",
    "sns.stripplot(data=df, y=\"prediction\", x=\"labels\", alpha=.25)"
   ]
  },
  {
   "cell_type": "code",
   "execution_count": 353,
   "id": "066eb9b8",
   "metadata": {},
   "outputs": [],
   "source": [
    "classes = list(range(num_classes))\n",
    "df = pd.DataFrame({\n",
    "    \"prediction\": np.mean(outputs, axis=1)[0],\n",
    "    \"labels\": classes\n",
    "})\n"
   ]
  },
  {
   "cell_type": "code",
   "execution_count": null,
   "id": "f699f0b6",
   "metadata": {},
   "outputs": [],
   "source": []
  },
  {
   "cell_type": "code",
   "execution_count": null,
   "id": "f98baccc",
   "metadata": {},
   "outputs": [],
   "source": []
  }
 ],
 "metadata": {
  "kernelspec": {
   "display_name": "Python 3",
   "language": "python",
   "name": "python3"
  },
  "language_info": {
   "codemirror_mode": {
    "name": "ipython",
    "version": 3
   },
   "file_extension": ".py",
   "mimetype": "text/x-python",
   "name": "python",
   "nbconvert_exporter": "python",
   "pygments_lexer": "ipython3",
   "version": "3.8.8"
  }
 },
 "nbformat": 4,
 "nbformat_minor": 5
}
