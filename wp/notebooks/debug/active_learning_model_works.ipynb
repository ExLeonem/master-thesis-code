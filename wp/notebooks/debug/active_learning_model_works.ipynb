{
 "cells": [
  {
   "cell_type": "code",
   "execution_count": 1,
   "id": "319d340a",
   "metadata": {},
   "outputs": [],
   "source": [
    "%load_ext autoreload"
   ]
  },
  {
   "cell_type": "code",
   "execution_count": 2,
   "id": "55ac3511",
   "metadata": {},
   "outputs": [],
   "source": [
    "import os, sys, ast\n",
    "import numpy as np\n",
    "import pandas as pd\n",
    "import matplotlib.pyplot as plt\n",
    "import seaborn as sns\n",
    "import tensorflow as tf\n",
    "import tensorflow.keras as keras\n",
    "from sklearn.model_selection import train_test_split"
   ]
  },
  {
   "cell_type": "code",
   "execution_count": 3,
   "id": "5fe3bbaf",
   "metadata": {},
   "outputs": [],
   "source": [
    "BASE_PATH = os.path.join(os.getcwd(), \"..\", \"..\")\n",
    "MODULES_PATH = os.path.join(BASE_PATH, \"modules\")\n",
    "METRICS_PATH = os.path.join(BASE_PATH, \"metrics\")\n",
    "DATASET_PATH = os.path.join(BASE_PATH, \"datasets\")"
   ]
  },
  {
   "cell_type": "code",
   "execution_count": 4,
   "id": "82babfbc",
   "metadata": {},
   "outputs": [],
   "source": [
    "sys.path.append(MODULES_PATH)"
   ]
  },
  {
   "cell_type": "code",
   "execution_count": 5,
   "id": "2619f930",
   "metadata": {},
   "outputs": [],
   "source": [
    "from active_learning import Pool, Dataset, ExperimentSuitMetrics, Config\n",
    "from wrapper import McDropout, MomentPropagation\n",
    "from models import setup_growth, fchollet_cnn\n",
    "from data import BenchmarkData, DataSetType\n",
    "from utils import MetricsTransformer"
   ]
  },
  {
   "cell_type": "code",
   "execution_count": 6,
   "id": "460de763",
   "metadata": {},
   "outputs": [],
   "source": [
    "seed = 83152\n",
    "np.random.seed(seed)\n",
    "tf.random.set_seed(seed)"
   ]
  },
  {
   "cell_type": "code",
   "execution_count": 7,
   "id": "157e9a8c",
   "metadata": {},
   "outputs": [],
   "source": [
    "val_set_size = 100\n",
    "test_set_size = 10_000\n",
    "initial_pool_size = 20\n",
    "\n",
    "mnist = BenchmarkData(DataSetType.MNIST, os.path.join(DATASET_PATH, \"mnist\"), dtype=np.float32)\n",
    "x_train, x_test, y_train, y_test = train_test_split(mnist.inputs, mnist.targets, test_size=test_set_size)\n",
    "x_train, x_val, y_train, y_val = train_test_split(x_train, y_train, test_size=val_set_size)"
   ]
  },
  {
   "cell_type": "code",
   "execution_count": 8,
   "id": "63e00ac6",
   "metadata": {},
   "outputs": [],
   "source": [
    "debug_metrics_path = os.path.join(METRICS_PATH, \"debug\")\n",
    "experiment_suit_metrics = ExperimentSuitMetrics(debug_metrics_path)"
   ]
  },
  {
   "cell_type": "code",
   "execution_count": 9,
   "id": "35dd8ef7",
   "metadata": {},
   "outputs": [],
   "source": [
    "meta_info = experiment_suit_metrics.read_meta()\n",
    "initial_indices = meta_info[\"experiments\"][0][\"params\"][\"initial_indices\"]"
   ]
  },
  {
   "cell_type": "code",
   "execution_count": 10,
   "id": "7a7be78e",
   "metadata": {},
   "outputs": [
    {
     "data": {
      "text/plain": [
       "[18568, 11906, 53942, 54900, 36581, 44449, 38883, 59540, 28363, 10799]"
      ]
     },
     "execution_count": 10,
     "metadata": {},
     "output_type": "execute_result"
    }
   ],
   "source": [
    "experiment_data = MetricsTransformer.load_from_dir(experiment_suit_metrics)\n",
    "ast.literal_eval(experiment_data[\"indices_selected\"][0])"
   ]
  },
  {
   "cell_type": "code",
   "execution_count": 11,
   "id": "34553890",
   "metadata": {},
   "outputs": [],
   "source": [
    "unlabeled_pool = Pool(x_train, y_train)\n",
    "unlabeled_pool.annotate(initial_indices)"
   ]
  },
  {
   "cell_type": "code",
   "execution_count": 12,
   "id": "2f1caf41",
   "metadata": {},
   "outputs": [
    {
     "data": {
      "text/plain": [
       "'[836, 1034, 3278, 6563, 7656, 9477, 9510, 13228, 16375, 20170, 21573, 24311, 26170, 26971, 28686, 30281, 32193, 50056, 50696, 51906]'"
      ]
     },
     "execution_count": 12,
     "metadata": {},
     "output_type": "execute_result"
    }
   ],
   "source": [
    "str(initial_indices)"
   ]
  },
  {
   "cell_type": "code",
   "execution_count": 13,
   "id": "9f62aa06",
   "metadata": {},
   "outputs": [
    {
     "data": {
      "text/plain": [
       "array([  836,  1034,  3278,  6563,  7656,  9477,  9510, 13228, 16375,\n",
       "       20170, 21573, 24311, 26170, 26971, 28686, 30281, 32193, 50056,\n",
       "       50696, 51906])"
      ]
     },
     "execution_count": 13,
     "metadata": {},
     "output_type": "execute_result"
    }
   ],
   "source": [
    "unlabeled_pool.get_labeled_indices()"
   ]
  },
  {
   "cell_type": "markdown",
   "id": "90ddac4b",
   "metadata": {},
   "source": [
    "## Create Model and load weighting"
   ]
  },
  {
   "cell_type": "code",
   "execution_count": 14,
   "id": "90d768d1",
   "metadata": {},
   "outputs": [
    {
     "name": "stdout",
     "output_type": "stream",
     "text": [
      "1 Physical GPU's,  1 Logical GPU's\n"
     ]
    }
   ],
   "source": [
    "setup_growth()"
   ]
  },
  {
   "cell_type": "code",
   "execution_count": 15,
   "id": "9d94b2fe",
   "metadata": {},
   "outputs": [],
   "source": [
    "num_classes = 10\n",
    "base_model = fchollet_cnn(output=num_classes)\n",
    "\n",
    "sample_size = 25\n",
    "fit_params = {\"epochs\": 200, \"batch_size\": sample_size}\n",
    "config = Config(\n",
    "    fit=fit_params,\n",
    "    query={\"sample_size\": sample_size},\n",
    "    eval={\"batch_size\": 200, \"sample_size\": sample_size}\n",
    ")\n",
    "\n",
    "mc_model = McDropout(base_model, config=config)\n",
    "\n",
    "optimizer = \"adam\"\n",
    "loss = \"sparse_categorical_crossentropy\"\n",
    "metrics = [keras.metrics.SparseCategoricalAccuracy()]\n",
    "mc_model.compile(optimizer=optimizer, loss=loss, metrics=metrics)"
   ]
  },
  {
   "cell_type": "code",
   "execution_count": 16,
   "id": "f5d2c7b8",
   "metadata": {},
   "outputs": [],
   "source": [
    "mc_model.load_weights()"
   ]
  },
  {
   "cell_type": "code",
   "execution_count": 17,
   "id": "14c67543",
   "metadata": {},
   "outputs": [],
   "source": [
    "x_lab, y_lab = unlabeled_pool.get_labeled_data()"
   ]
  },
  {
   "cell_type": "code",
   "execution_count": 18,
   "id": "bfbe5563",
   "metadata": {},
   "outputs": [
    {
     "name": "stdout",
     "output_type": "stream",
     "text": [
      "Epoch 1/200\n",
      "1/1 [==============================] - 0s 2ms/step - loss: 2.3212 - sparse_categorical_accuracy: 0.1000\n",
      "Epoch 2/200\n",
      "1/1 [==============================] - 0s 2ms/step - loss: 2.2348 - sparse_categorical_accuracy: 0.2000\n",
      "Epoch 3/200\n",
      "1/1 [==============================] - 0s 2ms/step - loss: 2.0682 - sparse_categorical_accuracy: 0.3500\n",
      "Epoch 4/200\n",
      "1/1 [==============================] - 0s 2ms/step - loss: 1.8993 - sparse_categorical_accuracy: 0.6000\n",
      "Epoch 5/200\n",
      "1/1 [==============================] - 0s 1ms/step - loss: 1.6517 - sparse_categorical_accuracy: 0.6500\n",
      "Epoch 6/200\n",
      "1/1 [==============================] - 0s 1ms/step - loss: 1.4744 - sparse_categorical_accuracy: 0.8000\n",
      "Epoch 7/200\n",
      "1/1 [==============================] - 0s 1ms/step - loss: 1.1188 - sparse_categorical_accuracy: 0.8500\n",
      "Epoch 8/200\n",
      "1/1 [==============================] - 0s 920us/step - loss: 0.9952 - sparse_categorical_accuracy: 0.7000\n",
      "Epoch 9/200\n",
      "1/1 [==============================] - 0s 1ms/step - loss: 0.5861 - sparse_categorical_accuracy: 1.0000\n",
      "Epoch 10/200\n",
      "1/1 [==============================] - 0s 1ms/step - loss: 0.8057 - sparse_categorical_accuracy: 0.8000\n",
      "Epoch 11/200\n",
      "1/1 [==============================] - 0s 2ms/step - loss: 0.5846 - sparse_categorical_accuracy: 0.8000\n",
      "Epoch 12/200\n",
      "1/1 [==============================] - 0s 2ms/step - loss: 0.6348 - sparse_categorical_accuracy: 0.8500\n",
      "Epoch 13/200\n",
      "1/1 [==============================] - 0s 988us/step - loss: 0.3437 - sparse_categorical_accuracy: 0.9000\n",
      "Epoch 14/200\n",
      "1/1 [==============================] - 0s 782us/step - loss: 0.1212 - sparse_categorical_accuracy: 1.0000\n",
      "Epoch 15/200\n",
      "1/1 [==============================] - 0s 1ms/step - loss: 0.1561 - sparse_categorical_accuracy: 0.9500\n",
      "Epoch 16/200\n",
      "1/1 [==============================] - 0s 983us/step - loss: 0.1115 - sparse_categorical_accuracy: 1.0000\n",
      "Epoch 17/200\n",
      "1/1 [==============================] - 0s 654us/step - loss: 0.0983 - sparse_categorical_accuracy: 0.9500\n",
      "Epoch 18/200\n",
      "1/1 [==============================] - 0s 1ms/step - loss: 0.1025 - sparse_categorical_accuracy: 0.9500\n",
      "Epoch 19/200\n",
      "1/1 [==============================] - 0s 1ms/step - loss: 0.1013 - sparse_categorical_accuracy: 1.0000\n",
      "Epoch 20/200\n",
      "1/1 [==============================] - 0s 1ms/step - loss: 0.0724 - sparse_categorical_accuracy: 1.0000\n",
      "Epoch 21/200\n",
      "1/1 [==============================] - 0s 823us/step - loss: 0.0338 - sparse_categorical_accuracy: 1.0000\n",
      "Epoch 22/200\n",
      "1/1 [==============================] - 0s 823us/step - loss: 0.0368 - sparse_categorical_accuracy: 1.0000\n",
      "Epoch 23/200\n",
      "1/1 [==============================] - 0s 827us/step - loss: 0.0073 - sparse_categorical_accuracy: 1.0000\n",
      "Epoch 24/200\n",
      "1/1 [==============================] - 0s 783us/step - loss: 0.0584 - sparse_categorical_accuracy: 1.0000\n",
      "Epoch 25/200\n",
      "1/1 [==============================] - 0s 756us/step - loss: 0.0282 - sparse_categorical_accuracy: 1.0000\n",
      "Epoch 26/200\n",
      "1/1 [==============================] - 0s 1ms/step - loss: 0.0129 - sparse_categorical_accuracy: 1.0000\n",
      "Epoch 27/200\n",
      "1/1 [==============================] - 0s 1ms/step - loss: 0.0075 - sparse_categorical_accuracy: 1.0000\n",
      "Epoch 28/200\n",
      "1/1 [==============================] - 0s 872us/step - loss: 0.0587 - sparse_categorical_accuracy: 1.0000\n",
      "Epoch 29/200\n",
      "1/1 [==============================] - 0s 2ms/step - loss: 0.0107 - sparse_categorical_accuracy: 1.0000\n",
      "Epoch 30/200\n",
      "1/1 [==============================] - 0s 857us/step - loss: 0.0137 - sparse_categorical_accuracy: 1.0000\n",
      "Epoch 31/200\n",
      "1/1 [==============================] - 0s 786us/step - loss: 0.0087 - sparse_categorical_accuracy: 1.0000\n",
      "Epoch 32/200\n",
      "1/1 [==============================] - 0s 971us/step - loss: 0.0146 - sparse_categorical_accuracy: 1.0000\n",
      "Epoch 33/200\n",
      "1/1 [==============================] - 0s 1ms/step - loss: 0.0074 - sparse_categorical_accuracy: 1.0000\n",
      "Epoch 34/200\n",
      "1/1 [==============================] - 0s 1ms/step - loss: 0.0096 - sparse_categorical_accuracy: 1.0000\n",
      "Epoch 35/200\n",
      "1/1 [==============================] - 0s 983us/step - loss: 0.0142 - sparse_categorical_accuracy: 1.0000\n",
      "Epoch 36/200\n",
      "1/1 [==============================] - 0s 1ms/step - loss: 4.9373e-04 - sparse_categorical_accuracy: 1.0000\n",
      "Epoch 37/200\n",
      "1/1 [==============================] - 0s 2ms/step - loss: 0.0103 - sparse_categorical_accuracy: 1.0000\n",
      "Epoch 38/200\n",
      "1/1 [==============================] - 0s 952us/step - loss: 0.0033 - sparse_categorical_accuracy: 1.0000\n",
      "Epoch 39/200\n",
      "1/1 [==============================] - 0s 1ms/step - loss: 0.0034 - sparse_categorical_accuracy: 1.0000\n",
      "Epoch 40/200\n",
      "1/1 [==============================] - 0s 992us/step - loss: 0.0055 - sparse_categorical_accuracy: 1.0000\n",
      "Epoch 41/200\n",
      "1/1 [==============================] - 0s 1ms/step - loss: 0.0252 - sparse_categorical_accuracy: 1.0000\n",
      "Epoch 42/200\n",
      "1/1 [==============================] - 0s 1ms/step - loss: 0.0019 - sparse_categorical_accuracy: 1.0000\n",
      "Epoch 43/200\n",
      "1/1 [==============================] - 0s 861us/step - loss: 9.6554e-04 - sparse_categorical_accuracy: 1.0000\n",
      "Epoch 44/200\n",
      "1/1 [==============================] - 0s 695us/step - loss: 0.0013 - sparse_categorical_accuracy: 1.0000\n",
      "Epoch 45/200\n",
      "1/1 [==============================] - 0s 771us/step - loss: 0.0047 - sparse_categorical_accuracy: 1.0000\n",
      "Epoch 46/200\n",
      "1/1 [==============================] - 0s 646us/step - loss: 3.3437e-04 - sparse_categorical_accuracy: 1.0000\n",
      "Epoch 47/200\n",
      "1/1 [==============================] - 0s 653us/step - loss: 0.0076 - sparse_categorical_accuracy: 1.0000\n",
      "Epoch 48/200\n",
      "1/1 [==============================] - 0s 1ms/step - loss: 0.0403 - sparse_categorical_accuracy: 1.0000\n",
      "Epoch 49/200\n",
      "1/1 [==============================] - 0s 733us/step - loss: 0.0024 - sparse_categorical_accuracy: 1.0000\n",
      "Epoch 50/200\n",
      "1/1 [==============================] - 0s 989us/step - loss: 1.2511e-04 - sparse_categorical_accuracy: 1.0000\n",
      "Epoch 51/200\n",
      "1/1 [==============================] - 0s 934us/step - loss: 0.0054 - sparse_categorical_accuracy: 1.0000\n",
      "Epoch 52/200\n",
      "1/1 [==============================] - 0s 783us/step - loss: 6.2652e-05 - sparse_categorical_accuracy: 1.0000\n",
      "Epoch 53/200\n",
      "1/1 [==============================] - 0s 623us/step - loss: 2.9888e-04 - sparse_categorical_accuracy: 1.0000\n",
      "Epoch 54/200\n",
      "1/1 [==============================] - 0s 1ms/step - loss: 0.0623 - sparse_categorical_accuracy: 0.9500\n",
      "Epoch 55/200\n",
      "1/1 [==============================] - 0s 850us/step - loss: 0.0097 - sparse_categorical_accuracy: 1.0000\n",
      "Epoch 56/200\n",
      "1/1 [==============================] - 0s 820us/step - loss: 0.0021 - sparse_categorical_accuracy: 1.0000\n",
      "Epoch 57/200\n",
      "1/1 [==============================] - 0s 823us/step - loss: 0.0050 - sparse_categorical_accuracy: 1.0000\n",
      "Epoch 58/200\n",
      "1/1 [==============================] - 0s 844us/step - loss: 0.0014 - sparse_categorical_accuracy: 1.0000\n",
      "Epoch 59/200\n",
      "1/1 [==============================] - 0s 800us/step - loss: 0.0027 - sparse_categorical_accuracy: 1.0000\n",
      "Epoch 60/200\n",
      "1/1 [==============================] - 0s 2ms/step - loss: 0.0129 - sparse_categorical_accuracy: 1.0000\n",
      "Epoch 61/200\n",
      "1/1 [==============================] - 0s 2ms/step - loss: 0.0019 - sparse_categorical_accuracy: 1.0000\n",
      "Epoch 62/200\n",
      "1/1 [==============================] - 0s 788us/step - loss: 0.0010 - sparse_categorical_accuracy: 1.0000\n",
      "Epoch 63/200\n",
      "1/1 [==============================] - 0s 1ms/step - loss: 0.0032 - sparse_categorical_accuracy: 1.0000\n",
      "Epoch 64/200\n",
      "1/1 [==============================] - 0s 1ms/step - loss: 0.0078 - sparse_categorical_accuracy: 1.0000\n",
      "Epoch 65/200\n",
      "1/1 [==============================] - 0s 636us/step - loss: 0.0014 - sparse_categorical_accuracy: 1.0000\n",
      "Epoch 66/200\n",
      "1/1 [==============================] - 0s 602us/step - loss: 0.0476 - sparse_categorical_accuracy: 0.9500\n",
      "Epoch 67/200\n",
      "1/1 [==============================] - 0s 1ms/step - loss: 2.5475e-04 - sparse_categorical_accuracy: 1.0000\n",
      "Epoch 68/200\n",
      "1/1 [==============================] - 0s 949us/step - loss: 9.9205e-04 - sparse_categorical_accuracy: 1.0000\n",
      "Epoch 69/200\n",
      "1/1 [==============================] - 0s 983us/step - loss: 1.9371e-04 - sparse_categorical_accuracy: 1.0000\n",
      "Epoch 70/200\n"
     ]
    },
    {
     "name": "stdout",
     "output_type": "stream",
     "text": [
      "1/1 [==============================] - 0s 772us/step - loss: 9.1139e-04 - sparse_categorical_accuracy: 1.0000\n",
      "Epoch 71/200\n",
      "1/1 [==============================] - 0s 986us/step - loss: 0.0078 - sparse_categorical_accuracy: 1.0000\n",
      "Epoch 72/200\n",
      "1/1 [==============================] - 0s 1ms/step - loss: 7.7215e-04 - sparse_categorical_accuracy: 1.0000\n",
      "Epoch 73/200\n",
      "1/1 [==============================] - 0s 876us/step - loss: 0.0028 - sparse_categorical_accuracy: 1.0000\n",
      "Epoch 74/200\n",
      "1/1 [==============================] - 0s 860us/step - loss: 0.0037 - sparse_categorical_accuracy: 1.0000\n",
      "Epoch 75/200\n",
      "1/1 [==============================] - 0s 673us/step - loss: 9.6190e-04 - sparse_categorical_accuracy: 1.0000\n",
      "Epoch 76/200\n",
      "1/1 [==============================] - 0s 1ms/step - loss: 0.1231 - sparse_categorical_accuracy: 0.9500\n",
      "Epoch 77/200\n",
      "1/1 [==============================] - 0s 2ms/step - loss: 0.1818 - sparse_categorical_accuracy: 0.9500\n",
      "Epoch 78/200\n",
      "1/1 [==============================] - 0s 2ms/step - loss: 1.9115e-04 - sparse_categorical_accuracy: 1.0000\n",
      "Epoch 79/200\n",
      "1/1 [==============================] - 0s 2ms/step - loss: 1.7300e-04 - sparse_categorical_accuracy: 1.0000\n",
      "Epoch 80/200\n",
      "1/1 [==============================] - 0s 2ms/step - loss: 0.0013 - sparse_categorical_accuracy: 1.0000\n",
      "Epoch 81/200\n",
      "1/1 [==============================] - 0s 2ms/step - loss: 0.0050 - sparse_categorical_accuracy: 1.0000\n",
      "Epoch 82/200\n",
      "1/1 [==============================] - 0s 2ms/step - loss: 0.0080 - sparse_categorical_accuracy: 1.0000\n",
      "Epoch 83/200\n",
      "1/1 [==============================] - 0s 2ms/step - loss: 0.0754 - sparse_categorical_accuracy: 0.9500\n",
      "Epoch 84/200\n",
      "1/1 [==============================] - 0s 1ms/step - loss: 0.0018 - sparse_categorical_accuracy: 1.0000\n",
      "Epoch 85/200\n",
      "1/1 [==============================] - 0s 862us/step - loss: 0.0017 - sparse_categorical_accuracy: 1.0000\n",
      "Epoch 86/200\n",
      "1/1 [==============================] - 0s 965us/step - loss: 0.1067 - sparse_categorical_accuracy: 0.9500\n",
      "Epoch 87/200\n",
      "1/1 [==============================] - 0s 1ms/step - loss: 0.0032 - sparse_categorical_accuracy: 1.0000\n",
      "Epoch 88/200\n",
      "1/1 [==============================] - 0s 1ms/step - loss: 0.0049 - sparse_categorical_accuracy: 1.0000\n",
      "Epoch 89/200\n",
      "1/1 [==============================] - 0s 919us/step - loss: 0.0164 - sparse_categorical_accuracy: 1.0000\n",
      "Epoch 90/200\n",
      "1/1 [==============================] - 0s 804us/step - loss: 0.0031 - sparse_categorical_accuracy: 1.0000\n",
      "Epoch 91/200\n",
      "1/1 [==============================] - 0s 745us/step - loss: 0.0356 - sparse_categorical_accuracy: 1.0000\n",
      "Epoch 92/200\n",
      "1/1 [==============================] - 0s 955us/step - loss: 0.0119 - sparse_categorical_accuracy: 1.0000\n",
      "Epoch 93/200\n",
      "1/1 [==============================] - 0s 1ms/step - loss: 0.0068 - sparse_categorical_accuracy: 1.0000\n",
      "Epoch 94/200\n",
      "1/1 [==============================] - 0s 863us/step - loss: 0.0013 - sparse_categorical_accuracy: 1.0000\n",
      "Epoch 95/200\n",
      "1/1 [==============================] - 0s 1ms/step - loss: 0.0110 - sparse_categorical_accuracy: 1.0000\n",
      "Epoch 96/200\n",
      "1/1 [==============================] - 0s 1ms/step - loss: 0.0720 - sparse_categorical_accuracy: 0.9500\n",
      "Epoch 97/200\n",
      "1/1 [==============================] - 0s 638us/step - loss: 0.0120 - sparse_categorical_accuracy: 1.0000\n",
      "Epoch 98/200\n",
      "1/1 [==============================] - 0s 593us/step - loss: 0.0172 - sparse_categorical_accuracy: 1.0000\n",
      "Epoch 99/200\n",
      "1/1 [==============================] - 0s 1ms/step - loss: 0.0075 - sparse_categorical_accuracy: 1.0000\n",
      "Epoch 100/200\n",
      "1/1 [==============================] - 0s 700us/step - loss: 0.0029 - sparse_categorical_accuracy: 1.0000\n",
      "Epoch 101/200\n",
      "1/1 [==============================] - 0s 724us/step - loss: 0.0030 - sparse_categorical_accuracy: 1.0000\n",
      "Epoch 102/200\n",
      "1/1 [==============================] - 0s 742us/step - loss: 0.0595 - sparse_categorical_accuracy: 0.9500\n",
      "Epoch 103/200\n",
      "1/1 [==============================] - 0s 774us/step - loss: 0.0043 - sparse_categorical_accuracy: 1.0000\n",
      "Epoch 104/200\n",
      "1/1 [==============================] - 0s 669us/step - loss: 0.0014 - sparse_categorical_accuracy: 1.0000\n",
      "Epoch 105/200\n",
      "1/1 [==============================] - 0s 944us/step - loss: 0.0319 - sparse_categorical_accuracy: 1.0000\n",
      "Epoch 106/200\n",
      "1/1 [==============================] - 0s 784us/step - loss: 0.0055 - sparse_categorical_accuracy: 1.0000\n",
      "Epoch 107/200\n",
      "1/1 [==============================] - 0s 1ms/step - loss: 0.0051 - sparse_categorical_accuracy: 1.0000\n",
      "Epoch 108/200\n",
      "1/1 [==============================] - 0s 728us/step - loss: 0.0032 - sparse_categorical_accuracy: 1.0000\n",
      "Epoch 109/200\n",
      "1/1 [==============================] - 0s 1ms/step - loss: 0.0238 - sparse_categorical_accuracy: 1.0000\n",
      "Epoch 110/200\n",
      "1/1 [==============================] - 0s 802us/step - loss: 0.0049 - sparse_categorical_accuracy: 1.0000\n",
      "Epoch 111/200\n",
      "1/1 [==============================] - 0s 787us/step - loss: 0.0170 - sparse_categorical_accuracy: 1.0000\n",
      "Epoch 112/200\n",
      "1/1 [==============================] - 0s 929us/step - loss: 0.0327 - sparse_categorical_accuracy: 1.0000\n",
      "Epoch 113/200\n",
      "1/1 [==============================] - 0s 941us/step - loss: 0.0029 - sparse_categorical_accuracy: 1.0000\n",
      "Epoch 114/200\n",
      "1/1 [==============================] - 0s 2ms/step - loss: 0.0104 - sparse_categorical_accuracy: 1.0000\n",
      "Epoch 115/200\n",
      "1/1 [==============================] - 0s 1ms/step - loss: 0.0068 - sparse_categorical_accuracy: 1.0000\n",
      "Epoch 116/200\n",
      "1/1 [==============================] - 0s 1ms/step - loss: 0.0018 - sparse_categorical_accuracy: 1.0000\n",
      "Epoch 117/200\n",
      "1/1 [==============================] - 0s 1ms/step - loss: 0.0030 - sparse_categorical_accuracy: 1.0000\n",
      "Epoch 118/200\n",
      "1/1 [==============================] - 0s 1ms/step - loss: 0.0010 - sparse_categorical_accuracy: 1.0000\n",
      "Epoch 119/200\n",
      "1/1 [==============================] - 0s 1ms/step - loss: 7.2829e-04 - sparse_categorical_accuracy: 1.0000\n",
      "Epoch 120/200\n",
      "1/1 [==============================] - 0s 627us/step - loss: 0.0790 - sparse_categorical_accuracy: 0.9500\n",
      "Epoch 121/200\n",
      "1/1 [==============================] - 0s 986us/step - loss: 4.7498e-04 - sparse_categorical_accuracy: 1.0000\n",
      "Epoch 122/200\n",
      "1/1 [==============================] - 0s 1ms/step - loss: 7.5523e-05 - sparse_categorical_accuracy: 1.0000\n",
      "Epoch 123/200\n",
      "1/1 [==============================] - 0s 1ms/step - loss: 5.6497e-04 - sparse_categorical_accuracy: 1.0000\n",
      "Epoch 124/200\n",
      "1/1 [==============================] - 0s 1ms/step - loss: 3.0574e-04 - sparse_categorical_accuracy: 1.0000\n",
      "Epoch 125/200\n",
      "1/1 [==============================] - 0s 1ms/step - loss: 0.0134 - sparse_categorical_accuracy: 1.0000\n",
      "Epoch 126/200\n",
      "1/1 [==============================] - 0s 1ms/step - loss: 0.0030 - sparse_categorical_accuracy: 1.0000\n",
      "Epoch 127/200\n",
      "1/1 [==============================] - 0s 824us/step - loss: 0.0018 - sparse_categorical_accuracy: 1.0000\n",
      "Epoch 128/200\n",
      "1/1 [==============================] - 0s 1ms/step - loss: 1.0241e-04 - sparse_categorical_accuracy: 1.0000\n",
      "Epoch 129/200\n",
      "1/1 [==============================] - 0s 719us/step - loss: 7.5056e-04 - sparse_categorical_accuracy: 1.0000\n",
      "Epoch 130/200\n",
      "1/1 [==============================] - 0s 1ms/step - loss: 0.0094 - sparse_categorical_accuracy: 1.0000\n",
      "Epoch 131/200\n",
      "1/1 [==============================] - 0s 2ms/step - loss: 5.5176e-04 - sparse_categorical_accuracy: 1.0000\n",
      "Epoch 132/200\n",
      "1/1 [==============================] - 0s 1ms/step - loss: 0.0015 - sparse_categorical_accuracy: 1.0000\n",
      "Epoch 133/200\n",
      "1/1 [==============================] - 0s 1ms/step - loss: 0.0386 - sparse_categorical_accuracy: 1.0000\n",
      "Epoch 134/200\n",
      "1/1 [==============================] - 0s 2ms/step - loss: 0.0530 - sparse_categorical_accuracy: 0.9500\n",
      "Epoch 135/200\n",
      "1/1 [==============================] - 0s 2ms/step - loss: 0.0014 - sparse_categorical_accuracy: 1.0000\n",
      "Epoch 136/200\n",
      "1/1 [==============================] - 0s 1ms/step - loss: 0.0012 - sparse_categorical_accuracy: 1.0000\n",
      "Epoch 137/200\n",
      "1/1 [==============================] - 0s 2ms/step - loss: 0.0139 - sparse_categorical_accuracy: 1.0000\n",
      "Epoch 138/200\n"
     ]
    },
    {
     "name": "stdout",
     "output_type": "stream",
     "text": [
      "1/1 [==============================] - 0s 1ms/step - loss: 4.8082e-04 - sparse_categorical_accuracy: 1.0000\n",
      "Epoch 139/200\n",
      "1/1 [==============================] - 0s 1ms/step - loss: 0.0152 - sparse_categorical_accuracy: 1.0000\n",
      "Epoch 140/200\n",
      "1/1 [==============================] - 0s 1ms/step - loss: 0.0024 - sparse_categorical_accuracy: 1.0000\n",
      "Epoch 141/200\n",
      "1/1 [==============================] - 0s 820us/step - loss: 6.9824e-04 - sparse_categorical_accuracy: 1.0000\n",
      "Epoch 142/200\n",
      "1/1 [==============================] - 0s 922us/step - loss: 0.0020 - sparse_categorical_accuracy: 1.0000\n",
      "Epoch 143/200\n",
      "1/1 [==============================] - 0s 602us/step - loss: 6.9893e-04 - sparse_categorical_accuracy: 1.0000\n",
      "Epoch 144/200\n",
      "1/1 [==============================] - 0s 1ms/step - loss: 9.4150e-05 - sparse_categorical_accuracy: 1.0000\n",
      "Epoch 145/200\n",
      "1/1 [==============================] - 0s 759us/step - loss: 0.0024 - sparse_categorical_accuracy: 1.0000\n",
      "Epoch 146/200\n",
      "1/1 [==============================] - 0s 681us/step - loss: 1.1284e-04 - sparse_categorical_accuracy: 1.0000\n",
      "Epoch 147/200\n",
      "1/1 [==============================] - 0s 951us/step - loss: 8.1583e-04 - sparse_categorical_accuracy: 1.0000\n",
      "Epoch 148/200\n",
      "1/1 [==============================] - 0s 651us/step - loss: 0.0021 - sparse_categorical_accuracy: 1.0000\n",
      "Epoch 149/200\n",
      "1/1 [==============================] - 0s 2ms/step - loss: 0.0089 - sparse_categorical_accuracy: 1.0000\n",
      "Epoch 150/200\n",
      "1/1 [==============================] - 0s 820us/step - loss: 1.3637e-04 - sparse_categorical_accuracy: 1.0000\n",
      "Epoch 151/200\n",
      "1/1 [==============================] - 0s 1ms/step - loss: 7.8427e-04 - sparse_categorical_accuracy: 1.0000\n",
      "Epoch 152/200\n",
      "1/1 [==============================] - 0s 1ms/step - loss: 3.0697e-04 - sparse_categorical_accuracy: 1.0000\n",
      "Epoch 153/200\n",
      "1/1 [==============================] - 0s 793us/step - loss: 7.0729e-04 - sparse_categorical_accuracy: 1.0000\n",
      "Epoch 154/200\n",
      "1/1 [==============================] - 0s 2ms/step - loss: 2.5340e-04 - sparse_categorical_accuracy: 1.0000\n",
      "Epoch 155/200\n",
      "1/1 [==============================] - 0s 1ms/step - loss: 0.0010 - sparse_categorical_accuracy: 1.0000\n",
      "Epoch 156/200\n",
      "1/1 [==============================] - 0s 866us/step - loss: 9.8711e-04 - sparse_categorical_accuracy: 1.0000\n",
      "Epoch 157/200\n",
      "1/1 [==============================] - 0s 965us/step - loss: 0.0085 - sparse_categorical_accuracy: 1.0000\n",
      "Epoch 158/200\n",
      "1/1 [==============================] - 0s 869us/step - loss: 7.7076e-05 - sparse_categorical_accuracy: 1.0000\n",
      "Epoch 159/200\n",
      "1/1 [==============================] - 0s 1ms/step - loss: 0.0120 - sparse_categorical_accuracy: 1.0000\n",
      "Epoch 160/200\n",
      "1/1 [==============================] - 0s 1ms/step - loss: 0.0071 - sparse_categorical_accuracy: 1.0000\n",
      "Epoch 161/200\n",
      "1/1 [==============================] - 0s 1ms/step - loss: 6.0923e-04 - sparse_categorical_accuracy: 1.0000\n",
      "Epoch 162/200\n",
      "1/1 [==============================] - 0s 607us/step - loss: 0.0089 - sparse_categorical_accuracy: 1.0000\n",
      "Epoch 163/200\n",
      "1/1 [==============================] - 0s 783us/step - loss: 3.0357e-04 - sparse_categorical_accuracy: 1.0000\n",
      "Epoch 164/200\n",
      "1/1 [==============================] - 0s 1ms/step - loss: 0.0096 - sparse_categorical_accuracy: 1.0000\n",
      "Epoch 165/200\n",
      "1/1 [==============================] - 0s 665us/step - loss: 2.1859e-04 - sparse_categorical_accuracy: 1.0000\n",
      "Epoch 166/200\n",
      "1/1 [==============================] - 0s 1ms/step - loss: 0.0012 - sparse_categorical_accuracy: 1.0000\n",
      "Epoch 167/200\n",
      "1/1 [==============================] - 0s 829us/step - loss: 2.5898e-04 - sparse_categorical_accuracy: 1.0000\n",
      "Epoch 168/200\n",
      "1/1 [==============================] - 0s 653us/step - loss: 4.7469e-04 - sparse_categorical_accuracy: 1.0000\n",
      "Epoch 169/200\n",
      "1/1 [==============================] - 0s 682us/step - loss: 1.9580e-04 - sparse_categorical_accuracy: 1.0000\n",
      "Epoch 170/200\n",
      "1/1 [==============================] - 0s 995us/step - loss: 0.0010 - sparse_categorical_accuracy: 1.0000\n",
      "Epoch 171/200\n",
      "1/1 [==============================] - 0s 836us/step - loss: 0.0039 - sparse_categorical_accuracy: 1.0000\n",
      "Epoch 172/200\n",
      "1/1 [==============================] - 0s 760us/step - loss: 6.2653e-04 - sparse_categorical_accuracy: 1.0000\n",
      "Epoch 173/200\n",
      "1/1 [==============================] - 0s 783us/step - loss: 8.7432e-04 - sparse_categorical_accuracy: 1.0000\n",
      "Epoch 174/200\n",
      "1/1 [==============================] - 0s 2ms/step - loss: 0.0046 - sparse_categorical_accuracy: 1.0000\n",
      "Epoch 175/200\n",
      "1/1 [==============================] - 0s 936us/step - loss: 5.6586e-04 - sparse_categorical_accuracy: 1.0000\n",
      "Epoch 176/200\n",
      "1/1 [==============================] - 0s 2ms/step - loss: 2.4653e-04 - sparse_categorical_accuracy: 1.0000\n",
      "Epoch 177/200\n",
      "1/1 [==============================] - 0s 1ms/step - loss: 1.2477e-04 - sparse_categorical_accuracy: 1.0000\n",
      "Epoch 178/200\n",
      "1/1 [==============================] - 0s 835us/step - loss: 4.5137e-04 - sparse_categorical_accuracy: 1.0000\n",
      "Epoch 179/200\n",
      "1/1 [==============================] - 0s 882us/step - loss: 6.0110e-05 - sparse_categorical_accuracy: 1.0000\n",
      "Epoch 180/200\n",
      "1/1 [==============================] - 0s 728us/step - loss: 0.0011 - sparse_categorical_accuracy: 1.0000\n",
      "Epoch 181/200\n",
      "1/1 [==============================] - 0s 1ms/step - loss: 2.4270e-05 - sparse_categorical_accuracy: 1.0000\n",
      "Epoch 182/200\n",
      "1/1 [==============================] - 0s 1ms/step - loss: 5.7839e-04 - sparse_categorical_accuracy: 1.0000\n",
      "Epoch 183/200\n",
      "1/1 [==============================] - 0s 945us/step - loss: 1.8178e-04 - sparse_categorical_accuracy: 1.0000\n",
      "Epoch 184/200\n",
      "1/1 [==============================] - 0s 669us/step - loss: 2.2552e-04 - sparse_categorical_accuracy: 1.0000\n",
      "Epoch 185/200\n",
      "1/1 [==============================] - ETA: 0s - loss: 7.1784e-05 - sparse_categorical_accuracy: 1.000 - 0s 1ms/step - loss: 7.1784e-05 - sparse_categorical_accuracy: 1.0000\n",
      "Epoch 186/200\n",
      "1/1 [==============================] - 0s 1ms/step - loss: 2.9810e-04 - sparse_categorical_accuracy: 1.0000\n",
      "Epoch 187/200\n",
      "1/1 [==============================] - 0s 1ms/step - loss: 0.0132 - sparse_categorical_accuracy: 1.0000\n",
      "Epoch 188/200\n",
      "1/1 [==============================] - 0s 918us/step - loss: 0.0013 - sparse_categorical_accuracy: 1.0000\n",
      "Epoch 189/200\n",
      "1/1 [==============================] - 0s 988us/step - loss: 0.0187 - sparse_categorical_accuracy: 1.0000\n",
      "Epoch 190/200\n",
      "1/1 [==============================] - 0s 799us/step - loss: 2.5978e-05 - sparse_categorical_accuracy: 1.0000\n",
      "Epoch 191/200\n",
      "1/1 [==============================] - 0s 778us/step - loss: 8.2820e-05 - sparse_categorical_accuracy: 1.0000\n",
      "Epoch 192/200\n",
      "1/1 [==============================] - 0s 753us/step - loss: 0.0095 - sparse_categorical_accuracy: 1.0000\n",
      "Epoch 193/200\n",
      "1/1 [==============================] - 0s 813us/step - loss: 8.4844e-04 - sparse_categorical_accuracy: 1.0000\n",
      "Epoch 194/200\n",
      "1/1 [==============================] - 0s 779us/step - loss: 2.8810e-05 - sparse_categorical_accuracy: 1.0000\n",
      "Epoch 195/200\n",
      "1/1 [==============================] - 0s 755us/step - loss: 4.4681e-04 - sparse_categorical_accuracy: 1.0000\n",
      "Epoch 196/200\n",
      "1/1 [==============================] - 0s 939us/step - loss: 3.1741e-04 - sparse_categorical_accuracy: 1.0000\n",
      "Epoch 197/200\n",
      "1/1 [==============================] - 0s 808us/step - loss: 0.0546 - sparse_categorical_accuracy: 0.9500\n",
      "Epoch 198/200\n",
      "1/1 [==============================] - 0s 881us/step - loss: 2.1417e-04 - sparse_categorical_accuracy: 1.0000\n",
      "Epoch 199/200\n",
      "1/1 [==============================] - 0s 997us/step - loss: 2.6901e-04 - sparse_categorical_accuracy: 1.0000\n",
      "Epoch 200/200\n",
      "1/1 [==============================] - 0s 1ms/step - loss: 6.7805e-05 - sparse_categorical_accuracy: 1.0000\n"
     ]
    },
    {
     "data": {
      "text/plain": [
       "<tensorflow.python.keras.callbacks.History at 0x7f09dcfcf610>"
      ]
     },
     "execution_count": 18,
     "metadata": {},
     "output_type": "execute_result"
    }
   ],
   "source": [
    "mc_model.fit(x_lab, y_lab)"
   ]
  },
  {
   "cell_type": "code",
   "execution_count": 21,
   "id": "019d6d54",
   "metadata": {},
   "outputs": [
    {
     "data": {
      "text/plain": [
       "{'loss': 1.8176742, 'accuracy': 0.526592}"
      ]
     },
     "execution_count": 21,
     "metadata": {},
     "output_type": "execute_result"
    }
   ],
   "source": [
    "mc_model.evaluate(x_test, y_test, sample_size=25, batch_size=900)"
   ]
  },
  {
   "cell_type": "code",
   "execution_count": 22,
   "id": "8ad592da",
   "metadata": {},
   "outputs": [
    {
     "data": {
      "text/plain": [
       "{'loss': 1.8234627, 'accuracy': 0.526928}"
      ]
     },
     "execution_count": 22,
     "metadata": {},
     "output_type": "execute_result"
    }
   ],
   "source": [
    "mc_model.evaluate(x_test, y_test, sample_size=25, batch_size=900)"
   ]
  },
  {
   "cell_type": "code",
   "execution_count": 23,
   "id": "8fc70581",
   "metadata": {},
   "outputs": [
    {
     "data": {
      "text/plain": [
       "{'loss': 1.8187547, 'accuracy': 0.527884}"
      ]
     },
     "execution_count": 23,
     "metadata": {},
     "output_type": "execute_result"
    }
   ],
   "source": [
    "mc_model.evaluate(x_test, y_test, sample_size=25, batch_size=900)"
   ]
  },
  {
   "cell_type": "code",
   "execution_count": null,
   "id": "01c5bc6f",
   "metadata": {},
   "outputs": [],
   "source": []
  },
  {
   "cell_type": "code",
   "execution_count": null,
   "id": "72e62a3b",
   "metadata": {},
   "outputs": [],
   "source": []
  },
  {
   "cell_type": "code",
   "execution_count": null,
   "id": "57b66ec4",
   "metadata": {},
   "outputs": [],
   "source": []
  }
 ],
 "metadata": {
  "kernelspec": {
   "display_name": "Python 3",
   "language": "python",
   "name": "python3"
  },
  "language_info": {
   "codemirror_mode": {
    "name": "ipython",
    "version": 3
   },
   "file_extension": ".py",
   "mimetype": "text/x-python",
   "name": "python",
   "nbconvert_exporter": "python",
   "pygments_lexer": "ipython3",
   "version": "3.8.8"
  }
 },
 "nbformat": 4,
 "nbformat_minor": 5
}
